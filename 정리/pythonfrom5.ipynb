{
 "cells": [
  {
   "cell_type": "markdown",
   "id": "53e247cc-4d28-46c7-9848-f80eb9cb61c5",
   "metadata": {
    "tags": []
   },
   "source": [
    "# 5장 파이썬 날개 달기"
   ]
  },
  {
   "cell_type": "markdown",
   "id": "8fce1fad-b821-49ca-a823-fab587e66c1e",
   "metadata": {
    "jp-MarkdownHeadingCollapsed": true,
    "tags": []
   },
   "source": [
    "## 5-1 클래스"
   ]
  },
  {
   "cell_type": "markdown",
   "id": "29f33d39-5734-49e3-b0fa-32769ef9b802",
   "metadata": {},
   "source": [
    "### 클래스는 왜 필요한가?"
   ]
  },
  {
   "cell_type": "code",
   "execution_count": 2,
   "id": "50388945-4265-4d28-b051-d7ae5eaebaab",
   "metadata": {
    "tags": []
   },
   "outputs": [
    {
     "name": "stdout",
     "output_type": "stream",
     "text": [
      "3\n",
      "7\n"
     ]
    }
   ],
   "source": [
    "result = 0\n",
    "\n",
    "def add(num):\n",
    "    global result\n",
    "    result += num\n",
    "    return result\n",
    "\n",
    "print(add(3))\n",
    "print(add(4))"
   ]
  },
  {
   "cell_type": "code",
   "execution_count": 3,
   "id": "cfaaa2b3-b0bc-4205-b1a2-8dfa9415092b",
   "metadata": {
    "tags": []
   },
   "outputs": [],
   "source": [
    "result1 = 0\n",
    "result2 = 0\n",
    "\n",
    "#계산기1\n",
    "def add1(num):\n",
    "    global result1\n",
    "    result1 += num\n",
    "    return result1\n",
    "\n",
    "#계산기2\n",
    "def add2(num):\n",
    "    global result2\n",
    "    result2 += num\n",
    "    return result2"
   ]
  },
  {
   "cell_type": "code",
   "execution_count": 4,
   "id": "e5afeae8-3ff7-44c4-b67d-41d51dd70cb3",
   "metadata": {
    "tags": []
   },
   "outputs": [
    {
     "name": "stdout",
     "output_type": "stream",
     "text": [
      "3\n",
      "7\n",
      "3\n",
      "10\n"
     ]
    }
   ],
   "source": [
    "print(add1(3))\n",
    "print(add1(4))\n",
    "print(add2(3))\n",
    "print(add2(7))"
   ]
  },
  {
   "cell_type": "code",
   "execution_count": 5,
   "id": "dfcc77fb-7f20-4f30-8a9f-bc040b8ef8ea",
   "metadata": {
    "tags": []
   },
   "outputs": [],
   "source": [
    "#클래스 사용\n",
    "class Calculator:\n",
    "    def __init__(self):\n",
    "        self.result = 0\n",
    "    \n",
    "    def add(self, num):\n",
    "        self.result += num\n",
    "        return self.result\n",
    "    \n",
    "    #빼기 기능 추가\n",
    "    def sub(self, num):\n",
    "        self.result -= num\n",
    "        return self.result\n",
    "    \n",
    "cal1 = Calculator()\n",
    "cal2 = Calculator()"
   ]
  },
  {
   "cell_type": "code",
   "execution_count": 6,
   "id": "d12b5d51-7627-4c18-be0d-da21b6af7331",
   "metadata": {
    "tags": []
   },
   "outputs": [
    {
     "name": "stdout",
     "output_type": "stream",
     "text": [
      "3\n",
      "7\n",
      "3\n",
      "10\n"
     ]
    }
   ],
   "source": [
    "print(cal1.add(3))\n",
    "print(cal1.add(4))\n",
    "print(cal2.add(3))\n",
    "print(cal2.add(7))"
   ]
  },
  {
   "cell_type": "markdown",
   "id": "1d7128e9-3b09-4d89-952d-5a861bac0b6c",
   "metadata": {},
   "source": [
    "### 클래스와 객체"
   ]
  },
  {
   "cell_type": "code",
   "execution_count": 7,
   "id": "eb8879db-3b00-4ccb-8382-549b9e8c17a4",
   "metadata": {
    "tags": []
   },
   "outputs": [],
   "source": [
    "class Cookie:\n",
    "    pass"
   ]
  },
  {
   "cell_type": "code",
   "execution_count": 8,
   "id": "f8525f64-6a26-4077-8033-2008ca9babb8",
   "metadata": {
    "tags": []
   },
   "outputs": [],
   "source": [
    "a=Cookie()\n",
    "b=Cookie()"
   ]
  },
  {
   "cell_type": "markdown",
   "id": "2f8cac4b-c9a2-4941-93a7-f053bafa7885",
   "metadata": {},
   "source": [
    "### 사칙연산 클래스 만들기"
   ]
  },
  {
   "cell_type": "markdown",
   "id": "669a3da8-64d3-4746-b10d-d4eda78b9463",
   "metadata": {},
   "source": [
    "#### 클래스 구조 만들기"
   ]
  },
  {
   "cell_type": "code",
   "execution_count": 10,
   "id": "eede495c-21d8-4861-9c35-c2392b20fdfe",
   "metadata": {
    "tags": []
   },
   "outputs": [],
   "source": [
    "class FourCal:\n",
    "    pass"
   ]
  },
  {
   "cell_type": "code",
   "execution_count": 11,
   "id": "00827eec-adc5-40e7-8286-96fbb9403631",
   "metadata": {
    "tags": []
   },
   "outputs": [],
   "source": [
    "a = FourCal()"
   ]
  },
  {
   "cell_type": "code",
   "execution_count": 12,
   "id": "8a6fc595-60a8-4479-83c5-e13d032ed072",
   "metadata": {
    "tags": []
   },
   "outputs": [
    {
     "data": {
      "text/plain": [
       "__main__.FourCal"
      ]
     },
     "execution_count": 12,
     "metadata": {},
     "output_type": "execute_result"
    }
   ],
   "source": [
    "type(a) # a는 FourCal클래스의 객체"
   ]
  },
  {
   "cell_type": "markdown",
   "id": "d90f071e-075b-4b45-9347-26475fe51a18",
   "metadata": {},
   "source": [
    "#### 객체에 숫자 지정할 수 있게 만들기"
   ]
  },
  {
   "cell_type": "code",
   "execution_count": 16,
   "id": "30a006b7-4693-4d43-900a-74da79f18dd1",
   "metadata": {
    "tags": []
   },
   "outputs": [],
   "source": [
    "class FourCal:\n",
    "    def setdata(self, first, second): # 1. 메서드의 매개변수\n",
    "        self.first = first\n",
    "        self.second = second #2.매서드의 수행문(first, second)"
   ]
  },
  {
   "cell_type": "markdown",
   "id": "5956de6f-025d-40be-bc98-0eb000e84b17",
   "metadata": {
    "jp-MarkdownHeadingCollapsed": true,
    "tags": []
   },
   "source": [
    "##### 1. setdata 메서드의 매개변수"
   ]
  },
  {
   "cell_type": "code",
   "execution_count": 18,
   "id": "78fa4a64-c555-4b5d-b25c-10e6050488d1",
   "metadata": {
    "tags": []
   },
   "outputs": [],
   "source": [
    "a = FourCal()"
   ]
  },
  {
   "cell_type": "code",
   "execution_count": 19,
   "id": "e376c84b-c454-4bf7-a64c-d41b801358d8",
   "metadata": {
    "tags": []
   },
   "outputs": [],
   "source": [
    "# 메서드의 첫 번째 매개변수 self에는 setdata메서드를 호출한 객체 a가 자동으로 전달되기 때문에 first,second만 넣어주면 된다.\n",
    "a.setdata(4,2)"
   ]
  },
  {
   "cell_type": "markdown",
   "id": "753b19eb-fe09-47d2-87b4-4715a89cd07f",
   "metadata": {
    "tags": []
   },
   "source": [
    "##### 메서드의 또 다른 호출 방법"
   ]
  },
  {
   "cell_type": "code",
   "execution_count": 23,
   "id": "a3c70c6b-f306-4fa9-95f1-a40f1d428d74",
   "metadata": {
    "tags": []
   },
   "outputs": [],
   "source": [
    "# '클래스 이름.메서드' : 객체 a를 첫 번째 매개변수 self에 꼭 전달\n",
    "a = FourCal()\n",
    "FourCal.setdata(a,4,2) "
   ]
  },
  {
   "cell_type": "code",
   "execution_count": 24,
   "id": "c5b44a8b-8e40-433b-b93a-45fc54dfd715",
   "metadata": {
    "tags": []
   },
   "outputs": [],
   "source": [
    "# '객체.메서드' : self를 반드시 생략해서 호출\n",
    "a = FourCal()\n",
    "a.setdata(4,2)"
   ]
  },
  {
   "cell_type": "markdown",
   "id": "3b0f32f3-3146-482f-986f-2890c5069df9",
   "metadata": {},
   "source": [
    "##### 2. setdata 메서드의 수행문"
   ]
  },
  {
   "cell_type": "code",
   "execution_count": 25,
   "id": "d18d4c5b-59b2-4fb3-9923-ac3b46f86be5",
   "metadata": {
    "tags": []
   },
   "outputs": [],
   "source": [
    "def setdata(self, first, second):\n",
    "    self.first = first\n",
    "    self.second = second #메서드의 수행문 (first, second)"
   ]
  },
  {
   "cell_type": "markdown",
   "id": "d8c7bd87-8adb-440b-8ccc-0bc1376df75c",
   "metadata": {
    "tags": []
   },
   "source": [
    "```\n",
    "a.setdata(4,2)호출하면\n",
    "first, second에는 각각 값 4와 2가 전달되어\n",
    "setdata 메서드의 수행문은 다음과 같이 해석\n",
    "self.first = 4\n",
    "self.second = 2\n",
    "\n",
    "self는 전달된 객체 a이므로 다시 다음과 같이 해석\n",
    "a.first = 4\n",
    "a.second = 2\n",
    "```"
   ]
  },
  {
   "cell_type": "markdown",
   "id": "996e1181-280a-45a4-956a-5e5325e6a9b4",
   "metadata": {
    "tags": []
   },
   "source": [
    "- a.first = 4 문장 수행 -> a 객체에 객체변수 first 생성 -> 값 4 저장\n",
    "- a.second = 2 문장 수행 -> a 객체에 객체변수 second 생성 -> 값 2 저장"
   ]
  },
  {
   "cell_type": "code",
   "execution_count": 29,
   "id": "f271afa2-2eca-4869-99d0-a27060922772",
   "metadata": {
    "tags": []
   },
   "outputs": [],
   "source": [
    "a = FourCal()"
   ]
  },
  {
   "cell_type": "code",
   "execution_count": 30,
   "id": "63d5a789-9985-4b2d-ba68-8c4a18e21780",
   "metadata": {
    "tags": []
   },
   "outputs": [],
   "source": [
    "a.setdata(4,2)"
   ]
  },
  {
   "cell_type": "code",
   "execution_count": 31,
   "id": "0f6661a3-2749-47fc-89aa-58860c103846",
   "metadata": {
    "tags": []
   },
   "outputs": [
    {
     "name": "stdout",
     "output_type": "stream",
     "text": [
      "4\n"
     ]
    }
   ],
   "source": [
    "print(a.first)"
   ]
  },
  {
   "cell_type": "code",
   "execution_count": 32,
   "id": "37bba6ef-5825-44b4-9d43-524a9e8f679b",
   "metadata": {
    "tags": []
   },
   "outputs": [
    {
     "name": "stdout",
     "output_type": "stream",
     "text": [
      "2\n"
     ]
    }
   ],
   "source": [
    "print(a.second)"
   ]
  },
  {
   "cell_type": "code",
   "execution_count": 33,
   "id": "61728030-643f-4e04-a203-eb58d76b23d0",
   "metadata": {
    "tags": []
   },
   "outputs": [],
   "source": [
    "#a,b 객체 만들기\n",
    "a = FourCal()\n",
    "b = FourCal()"
   ]
  },
  {
   "cell_type": "code",
   "execution_count": 35,
   "id": "8a7efb74-5f91-4a2d-a013-988956334c23",
   "metadata": {
    "tags": []
   },
   "outputs": [
    {
     "name": "stdout",
     "output_type": "stream",
     "text": [
      "4\n"
     ]
    }
   ],
   "source": [
    "#a객체의 객체변수 first 생성\n",
    "a.setdata(4,2)\n",
    "print(a.first)"
   ]
  },
  {
   "cell_type": "code",
   "execution_count": 36,
   "id": "31cf91d7-e66f-4ddc-a88e-48769321364e",
   "metadata": {
    "tags": []
   },
   "outputs": [
    {
     "name": "stdout",
     "output_type": "stream",
     "text": [
      "3\n"
     ]
    }
   ],
   "source": [
    "#b객체의 객체변수 first 생성\n",
    "b.setdata(3,7)\n",
    "print(b.first)"
   ]
  },
  {
   "cell_type": "code",
   "execution_count": 38,
   "id": "ef3b672a-d756-4c08-a438-f2b74fd43af9",
   "metadata": {
    "tags": []
   },
   "outputs": [
    {
     "name": "stdout",
     "output_type": "stream",
     "text": [
      "4\n"
     ]
    }
   ],
   "source": [
    "# a 객체의 first 값은 b 객체의 first값에 영향받지 않고 원래 값 유지\n",
    "print(a.first) "
   ]
  },
  {
   "cell_type": "markdown",
   "id": "cb405fec-c53b-450f-8519-e0324d9b57d3",
   "metadata": {},
   "source": [
    "- 클래스로 만든 객체의 객체변수는 다른 객체의 객체변수와 상관없이 독립적인 값 유지!!"
   ]
  },
  {
   "cell_type": "code",
   "execution_count": 39,
   "id": "8ff2741e-d13b-45a5-9a53-d70a25126505",
   "metadata": {
    "tags": []
   },
   "outputs": [],
   "source": [
    "# 지금까지 완성된 FourCal 클래스\n",
    "class FourCal:\n",
    "    def setdata(self, first, second):\n",
    "        self.first = first\n",
    "        self.second = second"
   ]
  },
  {
   "cell_type": "markdown",
   "id": "559363b2-0e49-48de-b3b9-d89d3151ca01",
   "metadata": {},
   "source": [
    "#### 더하기 기능 만들기"
   ]
  },
  {
   "cell_type": "code",
   "execution_count": 43,
   "id": "51eb4053-09fe-4233-9aee-aff2a59b227d",
   "metadata": {
    "tags": []
   },
   "outputs": [],
   "source": [
    "class FourCal:\n",
    "    def setdata(self, first, second):\n",
    "        self.first = first\n",
    "        self.second = second\n",
    "    def add(self):\n",
    "        result = self.first + self.second\n",
    "        return result"
   ]
  },
  {
   "cell_type": "code",
   "execution_count": 44,
   "id": "735e97ba-08f2-4f88-b462-0b0a046270e2",
   "metadata": {
    "tags": []
   },
   "outputs": [],
   "source": [
    "a = FourCal()"
   ]
  },
  {
   "cell_type": "code",
   "execution_count": 45,
   "id": "2a04c9af-42f5-4def-9701-dc164f0b475b",
   "metadata": {
    "tags": []
   },
   "outputs": [],
   "source": [
    "a.setdata(4,2)"
   ]
  },
  {
   "cell_type": "code",
   "execution_count": 46,
   "id": "d905d87e-51b8-4dfe-911a-74c25845a1a2",
   "metadata": {
    "tags": []
   },
   "outputs": [
    {
     "name": "stdout",
     "output_type": "stream",
     "text": [
      "6\n"
     ]
    }
   ],
   "source": [
    "# add 메서드 호출\n",
    "print(a.add())"
   ]
  },
  {
   "cell_type": "markdown",
   "id": "69bb0953-adeb-4fac-8a66-21220cbf8fec",
   "metadata": {},
   "source": [
    "- add 메서드 자세히 살펴보기"
   ]
  },
  {
   "cell_type": "code",
   "execution_count": 47,
   "id": "c6529441-ca50-46f3-93ba-25eefee51c47",
   "metadata": {
    "tags": []
   },
   "outputs": [],
   "source": [
    "def add(self):\n",
    "    result = self.first + self.second\n",
    "    return result"
   ]
  },
  {
   "cell_type": "code",
   "execution_count": null,
   "id": "e335fc8e-e897-4873-ae6f-ba67984e459b",
   "metadata": {},
   "outputs": [],
   "source": [
    "# add 메서드의 매개변수는 self, 반환 값은 result\n",
    "# 반환 값인 result를 계산하는 부분\n",
    "result = self.first + self.second"
   ]
  },
  {
   "cell_type": "code",
   "execution_count": 49,
   "id": "f7702dc9-2dc2-41ba-a6db-59fcc02e124d",
   "metadata": {
    "tags": []
   },
   "outputs": [],
   "source": [
    "# a.add()와 같이 a 객체에 의해 add 메서드가 수행되면 add메서드의 self에는 객체 a가 자동입력되므로 위 내용은 다음과 같이 해석\n",
    "result = a.first + a.second"
   ]
  },
  {
   "cell_type": "code",
   "execution_count": null,
   "id": "3360d3e3-cad2-4d37-b0df-d407666f3509",
   "metadata": {},
   "outputs": [],
   "source": [
    "# 위 내용은 a.add() 메서드 호출 전 a.setdata(4,2)가 먼저 호출되어 \n",
    "# a.first = 4, a.second = 2라고 미리 설정되었기에 다음과 같이 해석\n",
    "result = 4 + 2"
   ]
  },
  {
   "cell_type": "code",
   "execution_count": 50,
   "id": "a04546d9-44dc-487b-a888-e8c181f4ed2d",
   "metadata": {
    "tags": []
   },
   "outputs": [
    {
     "name": "stdout",
     "output_type": "stream",
     "text": [
      "6\n"
     ]
    }
   ],
   "source": [
    "print(a.add())"
   ]
  },
  {
   "cell_type": "markdown",
   "id": "75d405ba-17d1-4fb6-972c-2105724cb467",
   "metadata": {},
   "source": [
    "#### 곱하기, 빼기 ,나누기 기능 만들기"
   ]
  },
  {
   "cell_type": "code",
   "execution_count": 51,
   "id": "53532a8d-8ccc-4e46-825f-4354c92f156d",
   "metadata": {
    "tags": []
   },
   "outputs": [],
   "source": [
    "class FourCal:\n",
    "    def setdata(self, first, second):\n",
    "        self.first = first\n",
    "        self.second = second\n",
    "    def add(self):\n",
    "        result = self.first + self.second\n",
    "        return result\n",
    "    def mul(self):\n",
    "        result = self.first * self.second\n",
    "        return result\n",
    "    def sub(self):\n",
    "        result = self.first - self.second\n",
    "        return result\n",
    "    def div(self):\n",
    "        result = self.first / self.second\n",
    "        return result\n",
    "        "
   ]
  },
  {
   "cell_type": "code",
   "execution_count": 52,
   "id": "df2ca9b8-fd01-4f15-aa16-2094d42a71f2",
   "metadata": {
    "tags": []
   },
   "outputs": [],
   "source": [
    "a = FourCal()"
   ]
  },
  {
   "cell_type": "code",
   "execution_count": 53,
   "id": "f45604d8-f68b-48c0-b2dc-5277ab753aa7",
   "metadata": {
    "tags": []
   },
   "outputs": [],
   "source": [
    "b = FourCal()"
   ]
  },
  {
   "cell_type": "code",
   "execution_count": 54,
   "id": "de241db7-f2a2-449a-81ea-4687f473fe09",
   "metadata": {
    "tags": []
   },
   "outputs": [],
   "source": [
    "a.setdata(4,2)"
   ]
  },
  {
   "cell_type": "code",
   "execution_count": 55,
   "id": "8554e833-18b1-47b4-94f8-f95737d0dd5c",
   "metadata": {
    "tags": []
   },
   "outputs": [],
   "source": [
    "b.setdata(3,8)"
   ]
  },
  {
   "cell_type": "code",
   "execution_count": 56,
   "id": "969b2cf8-4f3f-4a23-9b74-59514cb4a6a9",
   "metadata": {
    "tags": []
   },
   "outputs": [
    {
     "data": {
      "text/plain": [
       "6"
      ]
     },
     "execution_count": 56,
     "metadata": {},
     "output_type": "execute_result"
    }
   ],
   "source": [
    "a.add()"
   ]
  },
  {
   "cell_type": "code",
   "execution_count": 57,
   "id": "6b1e8150-ea14-44e1-96d9-06451695eefe",
   "metadata": {
    "tags": []
   },
   "outputs": [
    {
     "data": {
      "text/plain": [
       "8"
      ]
     },
     "execution_count": 57,
     "metadata": {},
     "output_type": "execute_result"
    }
   ],
   "source": [
    "a.mul()"
   ]
  },
  {
   "cell_type": "code",
   "execution_count": 58,
   "id": "051c7b3a-157a-467a-a324-f8a711fa4b2b",
   "metadata": {
    "tags": []
   },
   "outputs": [
    {
     "data": {
      "text/plain": [
       "2"
      ]
     },
     "execution_count": 58,
     "metadata": {},
     "output_type": "execute_result"
    }
   ],
   "source": [
    "a.sub()"
   ]
  },
  {
   "cell_type": "code",
   "execution_count": 59,
   "id": "d3f351de-c623-407f-8dcc-3157cbbf29f7",
   "metadata": {
    "tags": []
   },
   "outputs": [
    {
     "data": {
      "text/plain": [
       "2.0"
      ]
     },
     "execution_count": 59,
     "metadata": {},
     "output_type": "execute_result"
    }
   ],
   "source": [
    "a.div()"
   ]
  },
  {
   "cell_type": "code",
   "execution_count": 60,
   "id": "9a6fa2c0-b0fa-47f7-88ed-2ac017864647",
   "metadata": {
    "tags": []
   },
   "outputs": [
    {
     "data": {
      "text/plain": [
       "11"
      ]
     },
     "execution_count": 60,
     "metadata": {},
     "output_type": "execute_result"
    }
   ],
   "source": [
    "b.add()"
   ]
  },
  {
   "cell_type": "code",
   "execution_count": 61,
   "id": "16a06278-dbe9-44d3-9f4c-a1e7ecdabfdc",
   "metadata": {
    "tags": []
   },
   "outputs": [
    {
     "data": {
      "text/plain": [
       "24"
      ]
     },
     "execution_count": 61,
     "metadata": {},
     "output_type": "execute_result"
    }
   ],
   "source": [
    "b.mul()"
   ]
  },
  {
   "cell_type": "code",
   "execution_count": 62,
   "id": "99887225-4c88-450e-bd79-af13b48a0720",
   "metadata": {
    "tags": []
   },
   "outputs": [
    {
     "data": {
      "text/plain": [
       "-5"
      ]
     },
     "execution_count": 62,
     "metadata": {},
     "output_type": "execute_result"
    }
   ],
   "source": [
    "b.sub()"
   ]
  },
  {
   "cell_type": "code",
   "execution_count": 63,
   "id": "1ca16194-0ae4-46e5-bd11-80d8fe4bf90a",
   "metadata": {
    "tags": []
   },
   "outputs": [
    {
     "data": {
      "text/plain": [
       "0.375"
      ]
     },
     "execution_count": 63,
     "metadata": {},
     "output_type": "execute_result"
    }
   ],
   "source": [
    "b.div()"
   ]
  },
  {
   "cell_type": "markdown",
   "id": "4941a34f-315c-488c-a1b1-7c4d939a1c1e",
   "metadata": {
    "tags": []
   },
   "source": [
    "### 생성자(Constructor)"
   ]
  },
  {
   "cell_type": "code",
   "execution_count": 65,
   "id": "5b0f0c8b-bb17-45c6-9546-d8603ec3f4bc",
   "metadata": {
    "tags": []
   },
   "outputs": [],
   "source": [
    "a = FourCal()"
   ]
  },
  {
   "cell_type": "code",
   "execution_count": 67,
   "id": "f0abe224-5b51-41e0-b212-ae355c426ec8",
   "metadata": {
    "tags": []
   },
   "outputs": [
    {
     "ename": "AttributeError",
     "evalue": "'FourCal' object has no attribute 'first'",
     "output_type": "error",
     "traceback": [
      "\u001b[1;31m---------------------------------------------------------------------------\u001b[0m",
      "\u001b[1;31mAttributeError\u001b[0m                            Traceback (most recent call last)",
      "Cell \u001b[1;32mIn[67], line 1\u001b[0m\n\u001b[1;32m----> 1\u001b[0m \u001b[43ma\u001b[49m\u001b[38;5;241;43m.\u001b[39;49m\u001b[43madd\u001b[49m\u001b[43m(\u001b[49m\u001b[43m)\u001b[49m \u001b[38;5;66;03m# FourCal 클래스의 인스턴스 a에 setdata 메서드를 수행하지 않고  add 메서드를 수행하면 오류 발생\u001b[39;00m\n",
      "Cell \u001b[1;32mIn[51], line 6\u001b[0m, in \u001b[0;36mFourCal.add\u001b[1;34m(self)\u001b[0m\n\u001b[0;32m      5\u001b[0m \u001b[38;5;28;01mdef\u001b[39;00m \u001b[38;5;21madd\u001b[39m(\u001b[38;5;28mself\u001b[39m):\n\u001b[1;32m----> 6\u001b[0m     result \u001b[38;5;241m=\u001b[39m \u001b[38;5;28;43mself\u001b[39;49m\u001b[38;5;241;43m.\u001b[39;49m\u001b[43mfirst\u001b[49m \u001b[38;5;241m+\u001b[39m \u001b[38;5;28mself\u001b[39m\u001b[38;5;241m.\u001b[39msecond\n\u001b[0;32m      7\u001b[0m     \u001b[38;5;28;01mreturn\u001b[39;00m result\n",
      "\u001b[1;31mAttributeError\u001b[0m: 'FourCal' object has no attribute 'first'"
     ]
    }
   ],
   "source": [
    "a.add() # FourCal 클래스의 인스턴스 a에 setdata 메서드를 수행하지 않고  add 메서드를 수행하면 오류 발생"
   ]
  },
  {
   "cell_type": "markdown",
   "id": "a567dc07-2f99-44dc-a9eb-f01ad15316c2",
   "metadata": {},
   "source": [
    "- 이렇게 객체에 초깃값을 설정해야 할 필요가 있을 때 : setdata 메서드 호출보다는 '생성자 구현'이 안전!!\n",
    "- 생성자(Constructor) : 객체가 생성될 때 자동으로 호출되는 메서드\n",
    "- 파이썬 메서드 이름으로 __init__을 사용하면 이 메서드는 생성자가 된다."
   ]
  },
  {
   "cell_type": "code",
   "execution_count": 73,
   "id": "6611ba5a-ad08-4688-b067-9f4b7f1c8226",
   "metadata": {
    "tags": []
   },
   "outputs": [],
   "source": [
    "#FourCal 클래스에 생성자 추가\n",
    "class FourCal:\n",
    "    def __init__(self, first, second):\n",
    "        self.first = first\n",
    "        self.second = second\n",
    "    def setdata(self, first, second):\n",
    "        self.first = first\n",
    "        self.second = second\n",
    "    def add(self):\n",
    "        result = self.first + self.second\n",
    "        return result\n",
    "    def mul(self):\n",
    "        result = self.first * self.second\n",
    "        return result\n",
    "    def sub(self):\n",
    "        result = self.first - self.second\n",
    "        return result\n",
    "    def div(self):\n",
    "        result = self.first / self.second\n",
    "        return result"
   ]
  },
  {
   "cell_type": "code",
   "execution_count": 74,
   "id": "1e6877af-36f1-4f8a-b144-29eb8a41a2ea",
   "metadata": {
    "tags": []
   },
   "outputs": [],
   "source": [
    "# 새롭게 추가된 생성자 __init__ 메서드만 따로 떼어 내서 살펴보기\n",
    "def __init__(self, first, second):\n",
    "    self.first = first\n",
    "    self.second = second"
   ]
  },
  {
   "cell_type": "markdown",
   "id": "07ebe52d-ef4e-4d2d-bc67-e3b8b6131338",
   "metadata": {
    "tags": []
   },
   "source": [
    "- __init__ 메서드는 setdata 메서드와 이름만 다르고 모든 게 동일. \n",
    "- 단 메서드 이름을 __init__으로 했기 때문에 생성자로 인식되어 객체가 생성되는 시점에 자동으로 호출되는 차이"
   ]
  },
  {
   "cell_type": "code",
   "execution_count": 76,
   "id": "019d1059-a15b-4c7c-bb91-fcfa11a3fe2b",
   "metadata": {
    "tags": []
   },
   "outputs": [
    {
     "ename": "TypeError",
     "evalue": "FourCal.__init__() missing 2 required positional arguments: 'first' and 'second'",
     "output_type": "error",
     "traceback": [
      "\u001b[1;31m---------------------------------------------------------------------------\u001b[0m",
      "\u001b[1;31mTypeError\u001b[0m                                 Traceback (most recent call last)",
      "Cell \u001b[1;32mIn[76], line 2\u001b[0m\n\u001b[0;32m      1\u001b[0m \u001b[38;5;66;03m# 생성자 first와 second에 해당하는 값이 전달되지 않아 오류 발생\u001b[39;00m\n\u001b[1;32m----> 2\u001b[0m a \u001b[38;5;241m=\u001b[39m \u001b[43mFourCal\u001b[49m\u001b[43m(\u001b[49m\u001b[43m)\u001b[49m \n",
      "\u001b[1;31mTypeError\u001b[0m: FourCal.__init__() missing 2 required positional arguments: 'first' and 'second'"
     ]
    }
   ],
   "source": [
    "# 생성자 first와 second에 해당하는 값이 전달되지 않아 오류 발생\n",
    "a = FourCal() "
   ]
  },
  {
   "cell_type": "code",
   "execution_count": 77,
   "id": "6b15659b-eef6-42b4-b285-3514dfa1950a",
   "metadata": {
    "tags": []
   },
   "outputs": [],
   "source": [
    "a = FourCal(4,2)"
   ]
  },
  {
   "cell_type": "code",
   "execution_count": 78,
   "id": "b90f3b68-e3ad-436d-b50c-d2e58c41efb2",
   "metadata": {
    "tags": []
   },
   "outputs": [],
   "source": [
    "a = FourCal(4,2)"
   ]
  },
  {
   "cell_type": "code",
   "execution_count": 79,
   "id": "30c2c74b-2c54-4d72-88b5-48df2bb1e337",
   "metadata": {
    "tags": []
   },
   "outputs": [
    {
     "name": "stdout",
     "output_type": "stream",
     "text": [
      "4\n"
     ]
    }
   ],
   "source": [
    "print(a.first)"
   ]
  },
  {
   "cell_type": "code",
   "execution_count": 80,
   "id": "41ead79b-f0af-4a45-ae8b-235eb68df61f",
   "metadata": {
    "tags": []
   },
   "outputs": [
    {
     "name": "stdout",
     "output_type": "stream",
     "text": [
      "2\n"
     ]
    }
   ],
   "source": [
    "print(a.second)"
   ]
  },
  {
   "cell_type": "code",
   "execution_count": 81,
   "id": "d6c432cf-d842-4a3d-b6ea-b52596a13860",
   "metadata": {
    "tags": []
   },
   "outputs": [],
   "source": [
    "a = FourCal(4,2)"
   ]
  },
  {
   "cell_type": "code",
   "execution_count": 82,
   "id": "2a29bf0f-e5f0-4139-980a-da85c1b3a195",
   "metadata": {
    "tags": []
   },
   "outputs": [
    {
     "data": {
      "text/plain": [
       "6"
      ]
     },
     "execution_count": 82,
     "metadata": {},
     "output_type": "execute_result"
    }
   ],
   "source": [
    "a.add()"
   ]
  },
  {
   "cell_type": "code",
   "execution_count": 83,
   "id": "7c23d6dd-7828-4728-ac95-6dfe79b38186",
   "metadata": {
    "tags": []
   },
   "outputs": [
    {
     "data": {
      "text/plain": [
       "2.0"
      ]
     },
     "execution_count": 83,
     "metadata": {},
     "output_type": "execute_result"
    }
   ],
   "source": [
    "a.div()"
   ]
  },
  {
   "cell_type": "markdown",
   "id": "ea5c2696-6884-4cfa-a10d-0ead975cdb09",
   "metadata": {},
   "source": [
    "### 클래스의 상속\n",
    "- class 클래스 이름(상속할 클래스 이름)"
   ]
  },
  {
   "cell_type": "code",
   "execution_count": 84,
   "id": "6edbde8e-2d0e-4e2d-aa14-f8310e0bff1c",
   "metadata": {
    "tags": []
   },
   "outputs": [],
   "source": [
    "class MoreFourCal(FourCal):\n",
    "    pass"
   ]
  },
  {
   "cell_type": "code",
   "execution_count": 85,
   "id": "16d6a736-3a43-4b74-817f-b0263bae2eb9",
   "metadata": {
    "tags": []
   },
   "outputs": [],
   "source": [
    "a = MoreFourCal(4,2)"
   ]
  },
  {
   "cell_type": "code",
   "execution_count": 86,
   "id": "e646b434-179f-459c-a1f3-9c9d1d302c02",
   "metadata": {
    "tags": []
   },
   "outputs": [
    {
     "data": {
      "text/plain": [
       "6"
      ]
     },
     "execution_count": 86,
     "metadata": {},
     "output_type": "execute_result"
    }
   ],
   "source": [
    "a.add()"
   ]
  },
  {
   "cell_type": "code",
   "execution_count": 87,
   "id": "2f8137ba-1fc5-4cc3-86a3-0d89c70d55f7",
   "metadata": {
    "tags": []
   },
   "outputs": [],
   "source": [
    "a = MoreFourCal(4,2)"
   ]
  },
  {
   "cell_type": "markdown",
   "id": "36810459-b9c5-47eb-b86a-4ce5232bab23",
   "metadata": {
    "tags": []
   },
   "source": [
    "- MoreFourCal 클래스는 FourCal 클래스를 상속했으므로 FourCal 클래스의 모든 기능 사용 가능"
   ]
  },
  {
   "cell_type": "code",
   "execution_count": 88,
   "id": "65402fd6-4747-4609-bfe6-f98209b9d132",
   "metadata": {
    "tags": []
   },
   "outputs": [
    {
     "data": {
      "text/plain": [
       "6"
      ]
     },
     "execution_count": 88,
     "metadata": {},
     "output_type": "execute_result"
    }
   ],
   "source": [
    "a.add()"
   ]
  },
  {
   "cell_type": "code",
   "execution_count": 89,
   "id": "b075b744-58d1-4121-a046-338ab269a278",
   "metadata": {
    "tags": []
   },
   "outputs": [
    {
     "data": {
      "text/plain": [
       "8"
      ]
     },
     "execution_count": 89,
     "metadata": {},
     "output_type": "execute_result"
    }
   ],
   "source": [
    "a.mul()"
   ]
  },
  {
   "cell_type": "code",
   "execution_count": 90,
   "id": "cfef8046-49b9-44a7-b5f7-ac9b887d689e",
   "metadata": {
    "tags": []
   },
   "outputs": [
    {
     "data": {
      "text/plain": [
       "2"
      ]
     },
     "execution_count": 90,
     "metadata": {},
     "output_type": "execute_result"
    }
   ],
   "source": [
    "a.sub()"
   ]
  },
  {
   "cell_type": "code",
   "execution_count": 91,
   "id": "8eda1cf9-7776-4542-9f11-363b1b747cbf",
   "metadata": {
    "tags": []
   },
   "outputs": [
    {
     "data": {
      "text/plain": [
       "2.0"
      ]
     },
     "execution_count": 91,
     "metadata": {},
     "output_type": "execute_result"
    }
   ],
   "source": [
    "a.div()"
   ]
  },
  {
   "cell_type": "code",
   "execution_count": 96,
   "id": "62961832-3785-41c8-b385-ee62f23d1a2d",
   "metadata": {
    "tags": []
   },
   "outputs": [],
   "source": [
    "class MoreFourCal(FourCal):\n",
    "    def pow(self):\n",
    "        result = self.first ** self.second\n",
    "        return result"
   ]
  },
  {
   "cell_type": "code",
   "execution_count": 97,
   "id": "e7741c6f-e621-49a4-9d0b-29785119a1e7",
   "metadata": {
    "tags": []
   },
   "outputs": [],
   "source": [
    "a = MoreFourCal(4,2)"
   ]
  },
  {
   "cell_type": "code",
   "execution_count": 98,
   "id": "7f0c3d03-823a-471a-99e1-2ebe9820eee1",
   "metadata": {
    "tags": []
   },
   "outputs": [
    {
     "data": {
      "text/plain": [
       "16"
      ]
     },
     "execution_count": 98,
     "metadata": {},
     "output_type": "execute_result"
    }
   ],
   "source": [
    "a.pow()"
   ]
  },
  {
   "cell_type": "markdown",
   "id": "043c71f8-cbf7-4ef9-a4c5-1080de547d75",
   "metadata": {},
   "source": [
    "#### 메서드 오버라이딩(Overriding, 덮어쓰기)\n",
    "- 부모 클래스(상속한 클래스)에 있는 메서드를 동일한 이름으로 다시 만드는 것"
   ]
  },
  {
   "cell_type": "code",
   "execution_count": 99,
   "id": "d9f07247-2b2f-4949-85e4-0a4583b820f0",
   "metadata": {
    "tags": []
   },
   "outputs": [],
   "source": [
    "a = FourCal(4,0)"
   ]
  },
  {
   "cell_type": "code",
   "execution_count": 100,
   "id": "a969d798-1bcf-4710-9d9a-dc7ed205b014",
   "metadata": {
    "tags": []
   },
   "outputs": [
    {
     "ename": "ZeroDivisionError",
     "evalue": "division by zero",
     "output_type": "error",
     "traceback": [
      "\u001b[1;31m---------------------------------------------------------------------------\u001b[0m",
      "\u001b[1;31mZeroDivisionError\u001b[0m                         Traceback (most recent call last)",
      "Cell \u001b[1;32mIn[100], line 1\u001b[0m\n\u001b[1;32m----> 1\u001b[0m \u001b[43ma\u001b[49m\u001b[38;5;241;43m.\u001b[39;49m\u001b[43mdiv\u001b[49m\u001b[43m(\u001b[49m\u001b[43m)\u001b[49m\n",
      "Cell \u001b[1;32mIn[73], line 19\u001b[0m, in \u001b[0;36mFourCal.div\u001b[1;34m(self)\u001b[0m\n\u001b[0;32m     18\u001b[0m \u001b[38;5;28;01mdef\u001b[39;00m \u001b[38;5;21mdiv\u001b[39m(\u001b[38;5;28mself\u001b[39m):\n\u001b[1;32m---> 19\u001b[0m     result \u001b[38;5;241m=\u001b[39m \u001b[38;5;28;43mself\u001b[39;49m\u001b[38;5;241;43m.\u001b[39;49m\u001b[43mfirst\u001b[49m\u001b[43m \u001b[49m\u001b[38;5;241;43m/\u001b[39;49m\u001b[43m \u001b[49m\u001b[38;5;28;43mself\u001b[39;49m\u001b[38;5;241;43m.\u001b[39;49m\u001b[43msecond\u001b[49m\n\u001b[0;32m     20\u001b[0m     \u001b[38;5;28;01mreturn\u001b[39;00m result\n",
      "\u001b[1;31mZeroDivisionError\u001b[0m: division by zero"
     ]
    }
   ],
   "source": [
    "a.div() #4를 0으로 나누려고 해서 오류 발생"
   ]
  },
  {
   "cell_type": "code",
   "execution_count": 101,
   "id": "e88fcbc2-9a0d-4948-8703-48712d36edcb",
   "metadata": {
    "tags": []
   },
   "outputs": [],
   "source": [
    "class SafeFourCal(FourCal):\n",
    "    def div(self):\n",
    "        if self.second == 0: # 나누는 값이 0인 경우 숫자 0을 돌려주도록 수정\n",
    "            return 0\n",
    "        else:\n",
    "            return self.first/ self.second"
   ]
  },
  {
   "cell_type": "code",
   "execution_count": 102,
   "id": "061357f5-c8e9-4a69-96c0-bdab1b698ca4",
   "metadata": {
    "tags": []
   },
   "outputs": [],
   "source": [
    "a = SafeFourCal(4,0)"
   ]
  },
  {
   "cell_type": "code",
   "execution_count": 103,
   "id": "3e6b14c8-4698-4b80-a63f-5b558aa56382",
   "metadata": {
    "tags": []
   },
   "outputs": [
    {
     "data": {
      "text/plain": [
       "0"
      ]
     },
     "execution_count": 103,
     "metadata": {},
     "output_type": "execute_result"
    }
   ],
   "source": [
    "a.div()"
   ]
  },
  {
   "cell_type": "code",
   "execution_count": 1,
   "id": "96027c65-9be2-4ab3-bd13-49b8710b6b2e",
   "metadata": {
    "tags": []
   },
   "outputs": [
    {
     "ename": "SyntaxError",
     "evalue": "invalid syntax (2510651365.py, line 2)",
     "output_type": "error",
     "traceback": [
      "\u001b[1;36m  Cell \u001b[1;32mIn[1], line 2\u001b[1;36m\u001b[0m\n\u001b[1;33m    https://supermemi.tistory.com/178\u001b[0m\n\u001b[1;37m          ^\u001b[0m\n\u001b[1;31mSyntaxError\u001b[0m\u001b[1;31m:\u001b[0m invalid syntax\n"
     ]
    }
   ],
   "source": [
    "#### 상속과 변수 (super())\n",
    "https://supermemi.tistory.com/178"
   ]
  },
  {
   "cell_type": "markdown",
   "id": "05713d2e-c1a7-40c6-8af6-b661e9d71809",
   "metadata": {},
   "source": [
    "#### 상속 super()"
   ]
  },
  {
   "cell_type": "code",
   "execution_count": 1,
   "id": "4e4fd294-161f-48a6-9028-8122467a1960",
   "metadata": {
    "tags": []
   },
   "outputs": [
    {
     "name": "stdout",
     "output_type": "stream",
     "text": [
      "Japan simono Shigeru Miyamoto 100\n"
     ]
    }
   ],
   "source": [
    "#예시\n",
    "class Nintendo:\n",
    "    def __init__(self,name, character):\n",
    "        self.country='Japan'\n",
    "        self.game_name=name\n",
    "        self.character=character\n",
    "       \n",
    "class New(Nintendo):\n",
    "    def __init__(self,name,character,genre,income):\n",
    "        super().__init__(name,character)\n",
    "        self.ceo='Shigeru Miyamoto'\n",
    "        self.genre=genre\n",
    "        self.income=income \n",
    "        \n",
    "p1 = New(\"simono\", \"warm\", \"mystery\", 100)\n",
    "print(p1.country, p1.game_name, p1.ceo, p1.income)\n"
   ]
  },
  {
   "cell_type": "markdown",
   "id": "ed2d41ba-aeb3-4614-8877-c57dbc131673",
   "metadata": {},
   "source": [
    "### 클래스 변수\n",
    "- 클래스이름.클래스변수"
   ]
  },
  {
   "cell_type": "code",
   "execution_count": 104,
   "id": "f6819690-ca4f-4e9e-8f4f-d33d13a2245d",
   "metadata": {
    "tags": []
   },
   "outputs": [],
   "source": [
    "class Family:\n",
    "    lastname = \"김\" # 클래스 변수"
   ]
  },
  {
   "cell_type": "code",
   "execution_count": 105,
   "id": "e29b7a87-996f-40a6-8888-a125f344f0cd",
   "metadata": {
    "tags": []
   },
   "outputs": [
    {
     "name": "stdout",
     "output_type": "stream",
     "text": [
      "김\n"
     ]
    }
   ],
   "source": [
    "print(Family.lastname) "
   ]
  },
  {
   "cell_type": "code",
   "execution_count": 106,
   "id": "9742168d-af69-4a77-aa09-51c206debae6",
   "metadata": {
    "tags": []
   },
   "outputs": [],
   "source": [
    "a = Family()"
   ]
  },
  {
   "cell_type": "code",
   "execution_count": 107,
   "id": "57915c21-8fc2-4271-b2eb-ad8fe6ba3304",
   "metadata": {
    "tags": []
   },
   "outputs": [],
   "source": [
    "b = Family()"
   ]
  },
  {
   "cell_type": "code",
   "execution_count": 108,
   "id": "6f2f774f-cdce-4f3b-a193-167cf5a39cb2",
   "metadata": {
    "tags": []
   },
   "outputs": [
    {
     "name": "stdout",
     "output_type": "stream",
     "text": [
      "김\n"
     ]
    }
   ],
   "source": [
    "print(a.lastname)"
   ]
  },
  {
   "cell_type": "code",
   "execution_count": 109,
   "id": "9c8e84e3-4f3a-4385-9d61-2fb50c5b110b",
   "metadata": {
    "tags": []
   },
   "outputs": [
    {
     "name": "stdout",
     "output_type": "stream",
     "text": [
      "김\n"
     ]
    }
   ],
   "source": [
    "print(b.lastname)"
   ]
  },
  {
   "cell_type": "markdown",
   "id": "83b544fb-ff0b-4894-ac27-4cfb9ebf399b",
   "metadata": {
    "tags": []
   },
   "source": [
    "- 클래스 변수 값을 변경하면 클래스로 만든 객체의 lastname 값도 모두 변경된다 = 클래스 변수는 클래스로 만든 모든 객체에 공유된다"
   ]
  },
  {
   "cell_type": "code",
   "execution_count": 110,
   "id": "66cd6d29-cd4d-4339-943d-017c6cdecb39",
   "metadata": {
    "tags": []
   },
   "outputs": [],
   "source": [
    "Family.lastname = \"박\" #Family.lastname 수정하면?"
   ]
  },
  {
   "cell_type": "code",
   "execution_count": 111,
   "id": "190b6eb5-c4c7-4402-9e29-a509a4934629",
   "metadata": {
    "tags": []
   },
   "outputs": [
    {
     "name": "stdout",
     "output_type": "stream",
     "text": [
      "박\n"
     ]
    }
   ],
   "source": [
    "print(a.lastname)"
   ]
  },
  {
   "cell_type": "code",
   "execution_count": 112,
   "id": "7656615d-7f8d-4283-8bc4-2aa8616191fe",
   "metadata": {
    "tags": []
   },
   "outputs": [
    {
     "name": "stdout",
     "output_type": "stream",
     "text": [
      "박\n"
     ]
    }
   ],
   "source": [
    "print(b.lastname)"
   ]
  },
  {
   "cell_type": "markdown",
   "id": "ffdda362-96f8-4cac-a07a-0899f3eadbcd",
   "metadata": {},
   "source": [
    "#### 클래스 변수와 객체 변수"
   ]
  },
  {
   "cell_type": "markdown",
   "id": "c84f3dbe-eb79-4074-af00-cb70d956515f",
   "metadata": {
    "tags": []
   },
   "source": [
    "- a.lastname을 변경하면?"
   ]
  },
  {
   "cell_type": "code",
   "execution_count": 117,
   "id": "72b0d8ec-83a3-4414-957a-61c8e4ed41fd",
   "metadata": {
    "tags": []
   },
   "outputs": [],
   "source": [
    "a.lastname = \"최\""
   ]
  },
  {
   "cell_type": "code",
   "execution_count": 118,
   "id": "cab8a652-77b6-465e-b82d-ce99c21ac765",
   "metadata": {
    "tags": []
   },
   "outputs": [
    {
     "name": "stdout",
     "output_type": "stream",
     "text": [
      "최\n"
     ]
    }
   ],
   "source": [
    "print(a.lastname)"
   ]
  },
  {
   "cell_type": "markdown",
   "id": "fa66c4ce-afc5-4c4a-b20e-b0d502a5e8c0",
   "metadata": {},
   "source": [
    "- 이렇게 하면 Family클래스의 lastname이 바뀌는 것이 아니라 a 객체에 lastname이라는 객체변수가 새롭게 생성\n",
    "- 즉, 객체변수는 클래스 변수와 동일한 이름으로 생성 가능\n",
    "- 이제부터 a.lastname은 Family클래스의 lastname이 아닌 객체 a의 객체변수 lastname을 가리킴"
   ]
  },
  {
   "cell_type": "markdown",
   "id": "4f6540e0-7b60-487d-b624-7590769d3edb",
   "metadata": {},
   "source": [
    "- a.lastname의 객체변수를 생성하더라도 Family 클래스의 lastname과는 상관이 없다"
   ]
  },
  {
   "cell_type": "code",
   "execution_count": 119,
   "id": "3067ccb6-e531-4991-af51-02cc56bd1526",
   "metadata": {
    "tags": []
   },
   "outputs": [
    {
     "name": "stdout",
     "output_type": "stream",
     "text": [
      "박\n"
     ]
    }
   ],
   "source": [
    "print(Family.lastname)"
   ]
  },
  {
   "cell_type": "code",
   "execution_count": 120,
   "id": "9c1bbb5b-3404-4813-9e33-0e421d51d9e8",
   "metadata": {
    "tags": []
   },
   "outputs": [
    {
     "name": "stdout",
     "output_type": "stream",
     "text": [
      "박\n"
     ]
    }
   ],
   "source": [
    "print(b.lastname)"
   ]
  },
  {
   "cell_type": "markdown",
   "id": "0567d561-cc3f-4f91-a316-f8640a04b727",
   "metadata": {},
   "source": [
    "- Family 클래스의 lastname 값은 변하지 않았다"
   ]
  },
  {
   "cell_type": "markdown",
   "id": "6391e59b-b7d2-4ed5-bb61-975df05e5f37",
   "metadata": {
    "jp-MarkdownHeadingCollapsed": true,
    "tags": []
   },
   "source": [
    "## 5-2 모듈\n",
    "- 함수나 변수 또는 클래스를 모아 놓은 파일\n",
    "- 다른 파이썬 프로그램에서 불러와 사용할 수 있게끔 만든 파이썬 파일"
   ]
  },
  {
   "cell_type": "markdown",
   "id": "e929ae37-a1e7-4944-ae1a-2b051928f152",
   "metadata": {
    "tags": []
   },
   "source": [
    "### 모듈 만들기"
   ]
  },
  {
   "cell_type": "code",
   "execution_count": null,
   "id": "0be0fb01-e7d3-4f7e-827d-dcf33165e4d9",
   "metadata": {},
   "outputs": [],
   "source": [
    "#mod1.py\n",
    "def add(a,b):\n",
    "    return a+b\n",
    "\n",
    "def sub(a,b):\n",
    "    return a-b"
   ]
  },
  {
   "cell_type": "markdown",
   "id": "d0368989-00d8-414a-a84d-154192bee287",
   "metadata": {},
   "source": [
    "파이썬 확장자 .py로 만든 파이썬 파일은 모두 모듈이다."
   ]
  },
  {
   "cell_type": "markdown",
   "id": "b33a102f-a7d8-4154-b6a1-3813db53e016",
   "metadata": {
    "tags": []
   },
   "source": [
    "### 모듈 불러오기"
   ]
  },
  {
   "cell_type": "markdown",
   "id": "fad4e3aa-d847-4746-8f1c-75d91bc22aad",
   "metadata": {},
   "source": [
    "- 모듈 실행 방법"
   ]
  },
  {
   "cell_type": "code",
   "execution_count": null,
   "id": "1fecc0cb-be41-45a0-a70d-439368a822f6",
   "metadata": {},
   "outputs": [],
   "source": [
    "C:\\Users\\user>cd doit # mod1.py 저장한 디렉터리로 이동"
   ]
  },
  {
   "cell_type": "code",
   "execution_count": null,
   "id": "51ba0ed5-a9d7-4959-9cdf-8049e4b2ee38",
   "metadata": {},
   "outputs": [],
   "source": [
    "C:\\Users\\user\\doit>dir # C:\\Users\\user\\doit 디렉터리에 파일이 있는지 확인"
   ]
  },
  {
   "cell_type": "markdown",
   "id": "e9ba84cb-7322-4b37-8622-f361665d412f",
   "metadata": {},
   "source": [
    "2023-03-21  오후 06:50                58 mod1.py"
   ]
  },
  {
   "cell_type": "code",
   "execution_count": null,
   "id": "8cbccf9c-80db-49dd-ae9d-e9443b67bcc7",
   "metadata": {},
   "outputs": [],
   "source": [
    "C:\\Users\\user\\doit>python # 대화형 인터프리터 실행"
   ]
  },
  {
   "cell_type": "markdown",
   "id": "325d5953-d18d-42f7-b6a4-7c884cb7526a",
   "metadata": {},
   "source": [
    "반드시 mod1.py를 저장한 C:\\Users\\user\\doit 디렉터리로 이동한 다음 예제 진행. <br>\n",
    "그래야만 대화형 인터프리터에서 mod1.py를 읽을 수 있다."
   ]
  },
  {
   "cell_type": "code",
   "execution_count": null,
   "id": "c00147ca-5644-4c78-bbd6-8ec0a2ebdb7e",
   "metadata": {},
   "outputs": [],
   "source": [
    ">>> import mod1\n",
    ">>> print(mod1.add(3,4))\n",
    "7\n",
    ">>> print(mod1.sub(4,2))\n",
    "2"
   ]
  },
  {
   "cell_type": "markdown",
   "id": "d2c13f6b-0fcc-458c-9a9a-8cb113430291",
   "metadata": {},
   "source": [
    "mod1.py를 불러오기 위해 import mod1이라고 입력. <br>\n",
    "실수로 import mod1.py로 입력하지 않도록 주의!!<br>\n",
    "- import : 이미 만들어 놓은 파이썬 모듈을 사용할 수 있게 해주는 명령어\n",
    "- mod1.py 파일에 있는 add 함수를 사용하기 위해서는 위 예와 같이 mod1.add처럼 모듈 이름 뒤에 '.'(도트 연산자)를 붙이고 함수 이름을 쓰면 된다."
   ]
  },
  {
   "cell_type": "markdown",
   "id": "3fe82a15-8e02-460d-89cf-8fd020cf7ed6",
   "metadata": {},
   "source": [
    "- import 사용방법"
   ]
  },
  {
   "cell_type": "code",
   "execution_count": null,
   "id": "02554319-62f7-45f3-a2f6-4c12c696c805",
   "metadata": {},
   "outputs": [],
   "source": [
    "import 모듈 이름"
   ]
  },
  {
   "cell_type": "markdown",
   "id": "14962157-b20d-49e1-8981-6b3694a0f1a5",
   "metadata": {},
   "source": [
    "여기서 모듈 이름은 mod1.py에서 .py 확장자를 제거한 mod1만을 가리킴"
   ]
  },
  {
   "cell_type": "markdown",
   "id": "918f9ae5-436c-45a4-9f90-f3625005f86d",
   "metadata": {},
   "source": [
    "- mod1.add, mod1.sub 처럼 쓰지 않고 add,sub 처럼 모듈 이름 없이 함수 이름만 쓰고 싶은 경우"
   ]
  },
  {
   "cell_type": "code",
   "execution_count": null,
   "id": "8c926f70-a444-4e9a-a547-7536dc942ca9",
   "metadata": {},
   "outputs": [],
   "source": [
    "from 모듈 이름 import 모듈 함수"
   ]
  },
  {
   "cell_type": "markdown",
   "id": "30c187c3-9e33-4d9a-b45c-e1ad3b5ce1db",
   "metadata": {},
   "source": [
    "위 형식을 사용하면 모듈 이름을 붙이지 않고 바로 해당 모듈의 함수를 쓸 수 있다."
   ]
  },
  {
   "cell_type": "code",
   "execution_count": null,
   "id": "bf190d7e-2576-48b2-9311-f2ffa91ca2b4",
   "metadata": {},
   "outputs": [],
   "source": [
    ">>> from mod1 import add\n",
    ">>> add(3,4)\n",
    "7"
   ]
  },
  {
   "cell_type": "markdown",
   "id": "31ca2bda-a20a-46b8-ad80-b16c57f78143",
   "metadata": {},
   "source": [
    "위와 같이 하면 add 함수만 사용 가능 <br>\n",
    "add 함수와 sub 함수 둘 다 사용하고 싶다면?"
   ]
  },
  {
   "cell_type": "markdown",
   "id": "eac4d722-0981-4ba3-91e4-a43cd04b6600",
   "metadata": {},
   "source": [
    "- 2가지 방법"
   ]
  },
  {
   "cell_type": "code",
   "execution_count": null,
   "id": "e28db76a-e13c-4f78-b8ac-3781056a4903",
   "metadata": {},
   "outputs": [],
   "source": [
    "from mod1 import add, sub"
   ]
  },
  {
   "cell_type": "code",
   "execution_count": null,
   "id": "e4d83e8d-b1af-4870-aa97-a3bd5e116192",
   "metadata": {},
   "outputs": [],
   "source": [
    "from mod1 import *"
   ]
  },
  {
   "cell_type": "markdown",
   "id": "d4ab74bb-52db-4b29-850d-e790248db83c",
   "metadata": {
    "jp-MarkdownHeadingCollapsed": true,
    "tags": []
   },
   "source": [
    "### if__name == \"__main__\": 의 의미"
   ]
  },
  {
   "cell_type": "markdown",
   "id": "635f240a-c9af-41aa-9f9c-601630fd52ac",
   "metadata": {},
   "source": [
    "mod1.py 파일을 다음과 같이 변경하자."
   ]
  },
  {
   "cell_type": "code",
   "execution_count": null,
   "id": "8967858c-9874-46a6-b575-c5171720a625",
   "metadata": {},
   "outputs": [],
   "source": [
    "#mod1.py\n",
    "def add(a,b):\n",
    "    return a+b\n",
    "\n",
    "def sub(a,b):\n",
    "    return a-b\n",
    "\n",
    "# ----- 추가 -----\n",
    "print(add(1,4))\n",
    "print(sub(4,2))"
   ]
  },
  {
   "cell_type": "markdown",
   "id": "ea9cf4bc-d6b5-4ecb-a686-1c7e0ddfdf45",
   "metadata": {},
   "source": [
    "- 실행 결과"
   ]
  },
  {
   "cell_type": "code",
   "execution_count": null,
   "id": "7c2ecdc0-9331-4a06-bebb-25a7e4cb3679",
   "metadata": {},
   "outputs": [],
   "source": [
    "C:\\Users\\user\\doit>python mod1.py\n",
    "5\n",
    "2"
   ]
  },
  {
   "cell_type": "markdown",
   "id": "a75e3f60-d060-4612-9690-1185ed1b7a66",
   "metadata": {},
   "source": [
    "- mod1.py 파일의 add와 sub 함수를 사용하기 위해 mod1 모듈을 import할 때 문제 생김"
   ]
  },
  {
   "cell_type": "code",
   "execution_count": null,
   "id": "489b67ac-90b7-41f1-ae76-8ebd32d92881",
   "metadata": {},
   "outputs": [],
   "source": [
    "C:\\Users\\user\\doit>python\n",
    "Python 3.10.9 (tags/v3.10.9:1dd9be6, Dec  6 2022, 20:01:21) [MSC v.1934 64 bit (AMD64)] on win32\n",
    "Type \"help\", \"copyright\", \"credits\" or \"license\" for more information.\n",
    ">>> import mod1\n",
    "5\n",
    "2"
   ]
  },
  {
   "cell_type": "markdown",
   "id": "cc1a38b8-9896-4463-827d-9fbee2ea56dd",
   "metadata": {},
   "source": [
    "import mod1을 수행하는 순간 mod1.py가 실행되어 결괏값 출력.<br>\n",
    "우리는 단지 add와 sub 함수만 사용하려고 했는데 말이다. <br>\n",
    "이런 문제를 방지하려면 mod1.py 파일을 다음처럼 변경"
   ]
  },
  {
   "cell_type": "code",
   "execution_count": null,
   "id": "43516693-5bba-4fa1-85f7-bc0417e57171",
   "metadata": {},
   "outputs": [],
   "source": [
    "#mod1.py\n",
    "def add(a,b):\n",
    "    return a+b\n",
    "\n",
    "def sub(a,b):\n",
    "    return a-b\n",
    "\n",
    "# 바뀐 코드 \n",
    "\n",
    "if __name__ == \"__main__\":\n",
    "    print(add(1,4))\n",
    "    print(sub(4,2))"
   ]
  },
  {
   "cell_type": "markdown",
   "id": "15551457-a58e-48b4-b892-6bdaee256b68",
   "metadata": {
    "tags": []
   },
   "source": [
    "```if __name__ == \"__main__\"```을 사용하면 "
   ]
  },
  {
   "cell_type": "markdown",
   "id": "fec143df-d0eb-4406-87d3-c757c28c15fb",
   "metadata": {
    "tags": []
   },
   "source": [
    "- C:\\Users\\user\\doit>python mod1.py처럼 ***직접 이 파일을 실행***할 경우 : ```if __name__ == \"__main__\"```이 ***참***이 되어 if 다음 문장 수행 \n",
    "- 대화형 인터프리터나 다른 파일에서 ***이 모듈을 불러서 사용***할 경우 : ```if __name__ == \"__main__\"```이 ***거짓***이 되어 if 다음 문장 수행 X"
   ]
  },
  {
   "cell_type": "markdown",
   "id": "c1e13ea9-0bc7-405b-95db-52c4317ef3d8",
   "metadata": {},
   "source": [
    "- 위와 같이 수정 후 다시 실행"
   ]
  },
  {
   "cell_type": "code",
   "execution_count": null,
   "id": "7d9d2c8d-87c8-47d1-b5f0-b9bfb065ddc1",
   "metadata": {},
   "outputs": [],
   "source": [
    ">>> import mod1\n",
    ">>>"
   ]
  },
  {
   "cell_type": "markdown",
   "id": "54fc8d67-18ac-4d43-bdca-5181e4abd366",
   "metadata": {},
   "source": [
    "아무 결괏값도 출력되지 않는다."
   ]
  },
  {
   "cell_type": "markdown",
   "id": "5b5fdf2f-2913-44dd-8071-2f200a7d5807",
   "metadata": {},
   "source": [
    "#### ```__name__``` 변수란?"
   ]
  },
  {
   "cell_type": "markdown",
   "id": "2ed3e13e-a0b2-4573-8a1d-f64a9c995d44",
   "metadata": {},
   "source": [
    "파이썬의 ```__name__``` 변수는 파이썬이 내부적으로 사용하는 특별한 변수 이름 <br>\n",
    "- C:\\Users\\user\\doit>python mod1.py처럼 ***직접 이 파일을 실행***할 경우 : mod1.py의 ```__name__``` 변수에는 ```__main__``` 값이 저장\n",
    "- 파이썬 셸이나 다른 파이썬 모듈에서 mod1을 import할 경우 : mod1.py의 ```__name__``` 변수에는 mod1.py의 모듈 이름 값 mod1이 저장"
   ]
  },
  {
   "cell_type": "markdown",
   "id": "c05d6097-811d-4caa-8454-a5dbe0065ad3",
   "metadata": {
    "jp-MarkdownHeadingCollapsed": true,
    "tags": []
   },
   "source": [
    "### 클래스나 변수 등을 포함한 모듈\n",
    "- 지금까지 살펴본 모듈은 함수만 포함했지만 클래스나 변수 등을 포함할 수도 있다."
   ]
  },
  {
   "cell_type": "code",
   "execution_count": null,
   "id": "e4388fa5-af2c-4d04-b84a-f29dcad09cd3",
   "metadata": {},
   "outputs": [],
   "source": [
    "# mod2.py\n",
    "PI = 3.141592\n",
    "\n",
    "class Math:\n",
    "    def solv(self, r):\n",
    "        return PI * (r**2)\n",
    "    \n",
    "    \n",
    "def add(a,b):\n",
    "    return a+b"
   ]
  },
  {
   "cell_type": "markdown",
   "id": "e2af6d6a-785f-4302-a3c4-2a6d1d0ca783",
   "metadata": {},
   "source": [
    "- 클래스 : 원의 넓이를 계산하는 Math 클래스\n",
    "- 함수 : 두 값을 더하는 add 함수\n",
    "- 변수 : 원주율 값에 해당되는 PI 변수"
   ]
  },
  {
   "cell_type": "markdown",
   "id": "7df4fcb4-1a63-4349-b5b0-99647023d009",
   "metadata": {
    "tags": []
   },
   "source": [
    "- mod2.PI처럼 입력해서 mod2.py 파일에 있는 PI 변수 값 사용 가능"
   ]
  },
  {
   "cell_type": "code",
   "execution_count": null,
   "id": "49af668d-7b22-4201-84f2-7bc4b143dbd6",
   "metadata": {},
   "outputs": [],
   "source": [
    "C:\\Users\\user\\doit>python\n",
    "Python 3.10.9 (tags/v3.10.9:1dd9be6, Dec  6 2022, 20:01:21) [MSC v.1934 64 bit (AMD64)] on win32\n",
    "Type \"help\", \"copyright\", \"credits\" or \"license\" for more information.\n",
    ">>> import mod2\n",
    ">>> print(mod2.PI)\n",
    "3.141592"
   ]
  },
  {
   "cell_type": "markdown",
   "id": "d30b695f-e797-4714-b209-e1b228a9fcfd",
   "metadata": {},
   "source": [
    "- mode2.py에 있는 Math 클래스 사용하기"
   ]
  },
  {
   "cell_type": "code",
   "execution_count": null,
   "id": "bebcfce2-4014-4350-9bc3-c817ff4aed24",
   "metadata": {},
   "outputs": [],
   "source": [
    ">>> a =mod2.Math()\n",
    ">>> print(a.solv(2))\n",
    "12.566368"
   ]
  },
  {
   "cell_type": "markdown",
   "id": "b5eedde8-4180-4d95-956c-baf97b8fa6b0",
   "metadata": {},
   "source": [
    "모듈 안에 클래스를 사용하려면 '.'(도트 연산자)로 클래스 이름 앞에 모듈 이름 먼저 입력"
   ]
  },
  {
   "cell_type": "markdown",
   "id": "9dc41c8a-905a-48f9-b845-eb93debc3c1d",
   "metadata": {},
   "source": [
    "- mode2.py에 있는 add 함수 사용하기"
   ]
  },
  {
   "cell_type": "code",
   "execution_count": null,
   "id": "037718f5-8bd7-48c0-b07c-c13249589ee9",
   "metadata": {},
   "outputs": [],
   "source": [
    ">>> print(mod2.add(mod2.PI, 4.4))\n",
    "7.5415920000000005"
   ]
  },
  {
   "cell_type": "markdown",
   "id": "3ef83aff-58ce-41cf-bd59-54a53ccca049",
   "metadata": {
    "jp-MarkdownHeadingCollapsed": true,
    "tags": []
   },
   "source": [
    "### 다른 파일에서 모듈 불러오기"
   ]
  },
  {
   "cell_type": "markdown",
   "id": "aae3fc59-3e31-4914-af66-ac2560eb8230",
   "metadata": {},
   "source": [
    "지금까지는 만들어 놓은 모듈 파일을 사용하기 위해 대화형 인터프리터만 사용<br>\n",
    "이번에는 다른 파이썬 파일에서 이전에 만들어 놓은 모듈을 불러와서 사용"
   ]
  },
  {
   "cell_type": "markdown",
   "id": "0734df55-390d-456b-8869-dcd5e044abea",
   "metadata": {},
   "source": [
    "- mod2.py 파일을 다른 파이썬 파일에서 불러와 사용하기"
   ]
  },
  {
   "cell_type": "code",
   "execution_count": null,
   "id": "0cbbb390-bb8e-4439-8a39-493a6fe2542c",
   "metadata": {},
   "outputs": [],
   "source": [
    "# modtest.py\n",
    "import mod2\n",
    "result = mod2.add(3,4)\n",
    "print(result)"
   ]
  },
  {
   "cell_type": "code",
   "execution_count": null,
   "id": "4f67bffb-a719-44a4-9d09-a0de8f32860e",
   "metadata": {},
   "outputs": [],
   "source": [
    "C:\\Users\\user\\doit>python modtest.py\n",
    "7"
   ]
  },
  {
   "cell_type": "markdown",
   "id": "896465c1-e2df-4bb4-b84e-2d536f3be365",
   "metadata": {},
   "source": [
    "결과 정상적으로 출력"
   ]
  },
  {
   "cell_type": "markdown",
   "id": "c29c14bb-2e02-4136-aa6b-7ccd6d3c5d85",
   "metadata": {
    "jp-MarkdownHeadingCollapsed": true,
    "tags": []
   },
   "source": [
    "### 모듈을 불러오는 또 다른 방법\n",
    "우리는 지금껏 명령 프롬프트 창을 열고 모듈이 있는 디렉터리로 이동 후 모듈을 사용할 수 있었다.<br>\n",
    "이번에는 ***모듈을 저장한 디렉터리로 이동하지 않고 모듈을 불러와 사용하는 방법***에 대해 알아보자."
   ]
  },
  {
   "cell_type": "markdown",
   "id": "2e4a266f-e599-4218-904a-1731cc78e39d",
   "metadata": {
    "jp-MarkdownHeadingCollapsed": true,
    "tags": []
   },
   "source": [
    "## 5-3 패키지\n",
    "- 다음에 정리"
   ]
  },
  {
   "cell_type": "markdown",
   "id": "b6622808-4128-491b-88f7-921177d2518e",
   "metadata": {
    "tags": []
   },
   "source": [
    "## 5-4 예외 처리"
   ]
  },
  {
   "cell_type": "markdown",
   "id": "8d2c59b2-3d84-4f34-bc68-ee979c52d9b6",
   "metadata": {},
   "source": [
    "### 오류는 어떨 때 발생?"
   ]
  },
  {
   "cell_type": "markdown",
   "id": "8ef175a1-6f75-46ba-aba2-8bb5d082b87b",
   "metadata": {},
   "source": [
    "- 디렉터리 안에 없는 파일을 열려고 시도"
   ]
  },
  {
   "cell_type": "code",
   "execution_count": 4,
   "id": "0c49ae5b-8015-40a8-8457-22ec4fbe949b",
   "metadata": {
    "tags": []
   },
   "outputs": [
    {
     "ename": "FileNotFoundError",
     "evalue": "[Errno 2] No such file or directory: '나없는파일'",
     "output_type": "error",
     "traceback": [
      "\u001b[1;31m---------------------------------------------------------------------------\u001b[0m",
      "\u001b[1;31mFileNotFoundError\u001b[0m                         Traceback (most recent call last)",
      "Cell \u001b[1;32mIn[4], line 1\u001b[0m\n\u001b[1;32m----> 1\u001b[0m f \u001b[38;5;241m=\u001b[39m \u001b[38;5;28;43mopen\u001b[39;49m\u001b[43m(\u001b[49m\u001b[38;5;124;43m\"\u001b[39;49m\u001b[38;5;124;43m나없는파일\u001b[39;49m\u001b[38;5;124;43m\"\u001b[39;49m\u001b[43m,\u001b[49m\u001b[43m \u001b[49m\u001b[38;5;124;43m'\u001b[39;49m\u001b[38;5;124;43mr\u001b[39;49m\u001b[38;5;124;43m'\u001b[39;49m\u001b[43m)\u001b[49m\n",
      "File \u001b[1;32m~\\AppData\\Local\\Programs\\Python\\Python310\\lib\\site-packages\\IPython\\core\\interactiveshell.py:282\u001b[0m, in \u001b[0;36m_modified_open\u001b[1;34m(file, *args, **kwargs)\u001b[0m\n\u001b[0;32m    275\u001b[0m \u001b[38;5;28;01mif\u001b[39;00m file \u001b[38;5;129;01min\u001b[39;00m {\u001b[38;5;241m0\u001b[39m, \u001b[38;5;241m1\u001b[39m, \u001b[38;5;241m2\u001b[39m}:\n\u001b[0;32m    276\u001b[0m     \u001b[38;5;28;01mraise\u001b[39;00m \u001b[38;5;167;01mValueError\u001b[39;00m(\n\u001b[0;32m    277\u001b[0m         \u001b[38;5;124mf\u001b[39m\u001b[38;5;124m\"\u001b[39m\u001b[38;5;124mIPython won\u001b[39m\u001b[38;5;124m'\u001b[39m\u001b[38;5;124mt let you open fd=\u001b[39m\u001b[38;5;132;01m{\u001b[39;00mfile\u001b[38;5;132;01m}\u001b[39;00m\u001b[38;5;124m by default \u001b[39m\u001b[38;5;124m\"\u001b[39m\n\u001b[0;32m    278\u001b[0m         \u001b[38;5;124m\"\u001b[39m\u001b[38;5;124mas it is likely to crash IPython. If you know what you are doing, \u001b[39m\u001b[38;5;124m\"\u001b[39m\n\u001b[0;32m    279\u001b[0m         \u001b[38;5;124m\"\u001b[39m\u001b[38;5;124myou can use builtins\u001b[39m\u001b[38;5;124m'\u001b[39m\u001b[38;5;124m open.\u001b[39m\u001b[38;5;124m\"\u001b[39m\n\u001b[0;32m    280\u001b[0m     )\n\u001b[1;32m--> 282\u001b[0m \u001b[38;5;28;01mreturn\u001b[39;00m io_open(file, \u001b[38;5;241m*\u001b[39margs, \u001b[38;5;241m*\u001b[39m\u001b[38;5;241m*\u001b[39mkwargs)\n",
      "\u001b[1;31mFileNotFoundError\u001b[0m: [Errno 2] No such file or directory: '나없는파일'"
     ]
    }
   ],
   "source": [
    "f = open(\"나없는파일\", 'r')"
   ]
  },
  {
   "cell_type": "markdown",
   "id": "3e94629e-06a3-4551-af05-e70ccc1f801c",
   "metadata": {},
   "source": [
    "FileNotFoundError 오류 발생"
   ]
  },
  {
   "cell_type": "markdown",
   "id": "85878e9e-96a5-449a-92f6-0a044e23f63f",
   "metadata": {
    "tags": []
   },
   "source": [
    "- 0으로 다른 숫자를 나누는 경우"
   ]
  },
  {
   "cell_type": "code",
   "execution_count": 6,
   "id": "6a1ad41d-ac7c-4a8e-aa5a-2937ce17488e",
   "metadata": {
    "tags": []
   },
   "outputs": [
    {
     "ename": "ZeroDivisionError",
     "evalue": "division by zero",
     "output_type": "error",
     "traceback": [
      "\u001b[1;31m---------------------------------------------------------------------------\u001b[0m",
      "\u001b[1;31mZeroDivisionError\u001b[0m                         Traceback (most recent call last)",
      "Cell \u001b[1;32mIn[6], line 1\u001b[0m\n\u001b[1;32m----> 1\u001b[0m \u001b[38;5;241;43m4\u001b[39;49m\u001b[38;5;241;43m/\u001b[39;49m\u001b[38;5;241;43m0\u001b[39;49m\n",
      "\u001b[1;31mZeroDivisionError\u001b[0m: division by zero"
     ]
    }
   ],
   "source": [
    "4/0"
   ]
  },
  {
   "cell_type": "markdown",
   "id": "13c4d143-9472-4bfa-bea9-044acf2747b8",
   "metadata": {
    "tags": []
   },
   "source": [
    "4를 0으로 나누려니까 ZeroDivisionError 오류 발생"
   ]
  },
  {
   "cell_type": "code",
   "execution_count": 8,
   "id": "4686570b-0a91-4d61-ae08-1da7c0fb1e07",
   "metadata": {
    "tags": []
   },
   "outputs": [],
   "source": [
    "a = [1,2,3]"
   ]
  },
  {
   "cell_type": "code",
   "execution_count": 9,
   "id": "1945c049-7cd9-40b6-953f-a15f6e77dc99",
   "metadata": {
    "tags": []
   },
   "outputs": [
    {
     "ename": "IndexError",
     "evalue": "list index out of range",
     "output_type": "error",
     "traceback": [
      "\u001b[1;31m---------------------------------------------------------------------------\u001b[0m",
      "\u001b[1;31mIndexError\u001b[0m                                Traceback (most recent call last)",
      "Cell \u001b[1;32mIn[9], line 1\u001b[0m\n\u001b[1;32m----> 1\u001b[0m \u001b[43ma\u001b[49m\u001b[43m[\u001b[49m\u001b[38;5;241;43m4\u001b[39;49m\u001b[43m]\u001b[49m\n",
      "\u001b[1;31mIndexError\u001b[0m: list index out of range"
     ]
    }
   ],
   "source": [
    "a[4]"
   ]
  },
  {
   "cell_type": "markdown",
   "id": "29fd8b8a-1d19-4119-99c7-bc1f838185d2",
   "metadata": {},
   "source": [
    "IndexError 오류 발생"
   ]
  },
  {
   "cell_type": "markdown",
   "id": "34206a34-023c-4efd-9de7-2518a451c7b3",
   "metadata": {},
   "source": [
    "### 오류 예외 처리 기법"
   ]
  },
  {
   "cell_type": "markdown",
   "id": "d0a5d4d8-490b-462b-ab44-46601c7e6c63",
   "metadata": {},
   "source": [
    "#### try, except문"
   ]
  },
  {
   "cell_type": "markdown",
   "id": "79543b34-fb17-4abf-913c-6af4e35f7912",
   "metadata": {},
   "source": [
    "- 기본 구조"
   ]
  },
  {
   "cell_type": "code",
   "execution_count": null,
   "id": "eb98da0d-d0f1-4c7f-8968-ec5a6f3dfed9",
   "metadata": {},
   "outputs": [],
   "source": [
    "try:\n",
    "...\n",
    "except [발생 오류[as 오류 메시지 변수]]:\n",
    "..."
   ]
  },
  {
   "cell_type": "markdown",
   "id": "b2b52ba0-12d8-4dc1-94a5-e4fc9a9b750d",
   "metadata": {},
   "source": [
    "- ***try 블록 수행 중 오류 발생*** : except 블록 수행\n",
    "- ***try 블록 수행 중 오류 발생X*** : except 블록 수행되지 X"
   ]
  },
  {
   "cell_type": "markdown",
   "id": "bb613d2a-cc20-46f7-8523-bc910dc2e6de",
   "metadata": {},
   "source": [
    "- except 구문"
   ]
  },
  {
   "cell_type": "code",
   "execution_count": null,
   "id": "fb66f50a-b0f8-423d-a04c-7e8e8deb8a26",
   "metadata": {},
   "outputs": [],
   "source": [
    "except [발생 오류 [as 오류 메시지 변수]]:"
   ]
  },
  {
   "cell_type": "markdown",
   "id": "c263f738-34e7-44c4-abe7-b31b0b20cf28",
   "metadata": {
    "tags": []
   },
   "source": [
    "```[]``` 기호 : 괄호 안의 내용을 생략할 수 있다는 관례 표기법"
   ]
  },
  {
   "cell_type": "markdown",
   "id": "9729040e-b5a7-4e2a-b493-f40c85c4d760",
   "metadata": {},
   "source": [
    "#### except 구문을 사용하는 3가지 방법"
   ]
  },
  {
   "cell_type": "markdown",
   "id": "97448d67-e71b-4095-99df-217414c94a54",
   "metadata": {},
   "source": [
    "##### 1. try, except만 쓰는 방법\n",
    "오류 종류에 상관없이 오류 발생하면 except 블록 수행"
   ]
  },
  {
   "cell_type": "code",
   "execution_count": null,
   "id": "7ecde5ee-680a-49a8-be21-4660e19350ba",
   "metadata": {},
   "outputs": [],
   "source": [
    "try:\n",
    "...\n",
    "except: \n",
    "..."
   ]
  },
  {
   "cell_type": "markdown",
   "id": "0b5330a5-bb4b-457d-af08-0b3065b379b0",
   "metadata": {
    "tags": []
   },
   "source": [
    "##### 2. 발생 오류만 포함한 except문\n",
    "오류 발생 시 except문에 미리 정해 놓은 오류 이름과 일치할 때만 except 블록 수행"
   ]
  },
  {
   "cell_type": "code",
   "execution_count": null,
   "id": "b7a02ec3-1914-4cc1-906c-6aa28f6c3353",
   "metadata": {},
   "outputs": [],
   "source": [
    "try:\n",
    "...\n",
    "except 발생 오류:\n",
    "..."
   ]
  },
  {
   "cell_type": "markdown",
   "id": "6e921261-3586-4d36-a229-d0c8b809545d",
   "metadata": {},
   "source": [
    "##### 3. 발생 오류와 오류 메시지 변수까지 포함한 except문\n",
    "두 번째 경우에서 오류 메시지의 내용까지 알고 싶을 때 사용"
   ]
  },
  {
   "cell_type": "code",
   "execution_count": null,
   "id": "bb7b2e1d-4fd2-4ae5-9c5f-a85663d786ef",
   "metadata": {},
   "outputs": [],
   "source": [
    "try:\n",
    "...\n",
    "except 발생 오류 as 오류 메시지 변수:\n",
    "..."
   ]
  },
  {
   "cell_type": "code",
   "execution_count": 11,
   "id": "dc9bd80a-f1dc-43e3-b8fd-384316fc2f5c",
   "metadata": {
    "tags": []
   },
   "outputs": [
    {
     "name": "stdout",
     "output_type": "stream",
     "text": [
      "division by zero\n"
     ]
    }
   ],
   "source": [
    "try:\n",
    "    4/0\n",
    "except ZeroDivisionError as e:\n",
    "    print(e)"
   ]
  },
  {
   "cell_type": "markdown",
   "id": "757570fb-df35-49e2-9d56-a0a2cc9e79a6",
   "metadata": {},
   "source": [
    "위처럼 4를 0으로 나누려고 하면 ZeroDivisionError가 발생해 except 블록이 실행되고 변수 e에 담기는 오류 메시지를 출력(division by zero)"
   ]
  },
  {
   "cell_type": "markdown",
   "id": "47dbeeb6-dea6-4ff6-af14-faf22b434de4",
   "metadata": {},
   "source": [
    "- 나코딩"
   ]
  },
  {
   "cell_type": "code",
   "execution_count": 14,
   "id": "ce9cce59-105c-4bc3-a09d-e12d3940e554",
   "metadata": {
    "tags": []
   },
   "outputs": [
    {
     "name": "stdout",
     "output_type": "stream",
     "text": [
      "list index out of range\n"
     ]
    }
   ],
   "source": [
    "try:\n",
    "    a = [1,2,3]\n",
    "    a[4]\n",
    "except IndexError as e:\n",
    "    print(e)"
   ]
  },
  {
   "cell_type": "markdown",
   "id": "c9f4f4b1-b2ae-492e-80b8-c10f7baf5593",
   "metadata": {},
   "source": [
    "#### try ... finally\n",
    "- finally절은 try문 수행 도중 예외 발생 여부에 상관없이 항상 수행\n",
    "- 보통 finally절은 사용한 리소스를 close해야 할 때 많이 사용"
   ]
  },
  {
   "cell_type": "code",
   "execution_count": 15,
   "id": "bf74ac61-aac1-478e-942e-fd9f8b63d775",
   "metadata": {
    "tags": []
   },
   "outputs": [
    {
     "ename": "IndentationError",
     "evalue": "expected an indented block after 'try' statement on line 2 (2965534484.py, line 4)",
     "output_type": "error",
     "traceback": [
      "\u001b[1;36m  Cell \u001b[1;32mIn[15], line 4\u001b[1;36m\u001b[0m\n\u001b[1;33m    finally:\u001b[0m\n\u001b[1;37m    ^\u001b[0m\n\u001b[1;31mIndentationError\u001b[0m\u001b[1;31m:\u001b[0m expected an indented block after 'try' statement on line 2\n"
     ]
    }
   ],
   "source": [
    "f = open('foo.txt', 'w')\n",
    "try:\n",
    "    #무언가 수행\n",
    "finally:\n",
    "    f.close()"
   ]
  },
  {
   "cell_type": "markdown",
   "id": "3f494952-e9d6-46a3-912a-a7be68e7d060",
   "metadata": {},
   "source": [
    "foo.txt 파일을 쓰기 모드로 연 후 try문을 수행 후 예외 발생 여부와 상관없이 finally절에서 f.close()로 열린 파일 닫기 가능"
   ]
  },
  {
   "cell_type": "markdown",
   "id": "ef4d21d2-d488-4dc4-bb7e-690b64f0cac8",
   "metadata": {},
   "source": [
    "#### 여러 개의 오류 처리하기\n",
    "- 구문 \n"
   ]
  },
  {
   "cell_type": "code",
   "execution_count": null,
   "id": "72a3603b-71ca-43f3-8d35-f6bec77ddb71",
   "metadata": {},
   "outputs": [],
   "source": [
    "try:\n",
    "...\n",
    "except 발생 오류 1: \n",
    "...\n",
    "except 발생 오류 2: \n",
    "..."
   ]
  },
  {
   "cell_type": "code",
   "execution_count": 1,
   "id": "c45f510a-acb6-477b-b421-af7667c90b39",
   "metadata": {},
   "outputs": [
    {
     "name": "stdout",
     "output_type": "stream",
     "text": [
      "인덱싱할 수 없습니다.\n"
     ]
    }
   ],
   "source": [
    "try:\n",
    "    a = [1,2]\n",
    "    print(a[3])\n",
    "    4/0\n",
    "except ZeroDivisionError:\n",
    "    print(\"0으로 나눌 수 없습니다.\")\n",
    "except IndexError:\n",
    "    print(\"인덱싱할 수 없습니다.\")"
   ]
  },
  {
   "cell_type": "markdown",
   "id": "1d2fd0ff-36e1-4582-b52f-83a8e49a6840",
   "metadata": {},
   "source": [
    "인덱싱 오류가 먼저 발생했으므로 4/0으로 발생되는 ZeroDivisionError 오류는 발생되지 않았다."
   ]
  },
  {
   "cell_type": "markdown",
   "id": "f0a948e1-67ac-4213-b9ea-62f520746e6c",
   "metadata": {},
   "source": [
    "- 오류 메시지도 가져오기"
   ]
  },
  {
   "cell_type": "code",
   "execution_count": 3,
   "id": "d4b4b4aa-e576-4126-8d27-15f65eae6fe6",
   "metadata": {
    "tags": []
   },
   "outputs": [
    {
     "name": "stdout",
     "output_type": "stream",
     "text": [
      "list index out of range\n"
     ]
    }
   ],
   "source": [
    "try:\n",
    "    a = [1,2]\n",
    "    print(a[3])\n",
    "    4/0\n",
    "except ZeroDivisionError as e:\n",
    "    print(e)\n",
    "except IndexError as e:\n",
    "    print(e)"
   ]
  },
  {
   "cell_type": "markdown",
   "id": "3a796fc3-62ad-49b7-86c1-477ac6f82e7c",
   "metadata": {},
   "source": [
    "- ZeroDivisionError와 IndexError 함께 처리"
   ]
  },
  {
   "cell_type": "code",
   "execution_count": 4,
   "id": "f224e3d2-9f06-4daf-b414-dd30a9cb0295",
   "metadata": {
    "tags": []
   },
   "outputs": [
    {
     "name": "stdout",
     "output_type": "stream",
     "text": [
      "list index out of range\n"
     ]
    }
   ],
   "source": [
    "try:\n",
    "    a = [1,2]\n",
    "    print(a[3])\n",
    "    4/0\n",
    "except (ZeroDivisionError, IndexError) as e:\n",
    "    print(e)"
   ]
  },
  {
   "cell_type": "markdown",
   "id": "d05f4592-9226-4cfc-b9d7-5fc9f251bbdc",
   "metadata": {},
   "source": [
    "2개 이상의 오류를 동시에 처리하기 위해서는 위와 같이 괄호를 사용해 함께 묶어 처리"
   ]
  },
  {
   "cell_type": "markdown",
   "id": "4fe792f6-7561-48dd-8f4a-deebc0b6e2c9",
   "metadata": {},
   "source": [
    "### 오류 회피하기"
   ]
  },
  {
   "cell_type": "code",
   "execution_count": 5,
   "id": "2bc8d596-bb7a-419c-996e-a6a8e63f8812",
   "metadata": {
    "tags": []
   },
   "outputs": [],
   "source": [
    "try:\n",
    "    f = open(\"나없는파일\", 'r')\n",
    "except FileNotFoundError: # 파일이 없더라도 오류를 발생시키지 않고 통과\n",
    "    pass"
   ]
  },
  {
   "cell_type": "markdown",
   "id": "b8314eb5-a4a8-4e0c-bfb4-705c066dd1b2",
   "metadata": {},
   "source": [
    "### 오류 일부러 발생시키기(raise)\n",
    "- raise 명령어를 사용해 오류를 강제로 발생시킬 수 있다."
   ]
  },
  {
   "cell_type": "markdown",
   "id": "306cebea-6a30-451a-adab-189ccb017369",
   "metadata": {},
   "source": [
    "- Bird 클래스를 상속받는 자식 클래스는 반드시 fly라는 함수를 구현하도록 만들고 싶은 경우(강제로 그렇게 하고 싶은 경우)"
   ]
  },
  {
   "cell_type": "code",
   "execution_count": 6,
   "id": "fc45de8c-6a92-48e6-ace4-8f8f8a4ee111",
   "metadata": {
    "tags": []
   },
   "outputs": [],
   "source": [
    "class Bird:\n",
    "    def fly(self):\n",
    "        raise NotImplementedError"
   ]
  },
  {
   "cell_type": "markdown",
   "id": "46411ff6-aa62-43f6-a12b-6cea04a0df02",
   "metadata": {},
   "source": [
    "- 자식 클래스가 fly 함수를 구현하지 않은 상태로 fly 함수 호출한 경우"
   ]
  },
  {
   "cell_type": "code",
   "execution_count": 7,
   "id": "a9216fe3-6df3-41d0-a391-80ffae276193",
   "metadata": {
    "tags": []
   },
   "outputs": [
    {
     "ename": "NotImplementedError",
     "evalue": "",
     "output_type": "error",
     "traceback": [
      "\u001b[1;31m---------------------------------------------------------------------------\u001b[0m",
      "\u001b[1;31mNotImplementedError\u001b[0m                       Traceback (most recent call last)",
      "Cell \u001b[1;32mIn[7], line 5\u001b[0m\n\u001b[0;32m      2\u001b[0m     \u001b[38;5;28;01mpass\u001b[39;00m\n\u001b[0;32m      4\u001b[0m eagle \u001b[38;5;241m=\u001b[39m Eagle()\n\u001b[1;32m----> 5\u001b[0m \u001b[43meagle\u001b[49m\u001b[38;5;241;43m.\u001b[39;49m\u001b[43mfly\u001b[49m\u001b[43m(\u001b[49m\u001b[43m)\u001b[49m\n",
      "Cell \u001b[1;32mIn[6], line 3\u001b[0m, in \u001b[0;36mBird.fly\u001b[1;34m(self)\u001b[0m\n\u001b[0;32m      2\u001b[0m \u001b[38;5;28;01mdef\u001b[39;00m \u001b[38;5;21mfly\u001b[39m(\u001b[38;5;28mself\u001b[39m):\n\u001b[1;32m----> 3\u001b[0m     \u001b[38;5;28;01mraise\u001b[39;00m \u001b[38;5;167;01mNotImplementedError\u001b[39;00m\n",
      "\u001b[1;31mNotImplementedError\u001b[0m: "
     ]
    }
   ],
   "source": [
    "class Eagle(Bird): #Eagle 클래스는 Bird 클래스를 상속 받음\n",
    "    pass\n",
    "\n",
    "eagle = Eagle()\n",
    "eagle.fly()"
   ]
  },
  {
   "cell_type": "markdown",
   "id": "04023df6-7730-4310-abc5-00e9ccfb1255",
   "metadata": {},
   "source": [
    "Eagle클래스는 Bird클래스를 상속받는다. 그런데 Eagle클래스에서 fly함수를 구현하지 않았기 때문에 Bird 클래스의 fly 함수가 호출된다.<br>\n",
    "그리고 raise문에 의해 NotImplemented Error 발생"
   ]
  },
  {
   "cell_type": "markdown",
   "id": "5aab2ac4-db95-4bb4-8aff-8178cd079d64",
   "metadata": {},
   "source": [
    "- NotImplementedError가 발생되지 않도록 다음과 같이 Eagle클래스에 fly 함수 반드시 구현"
   ]
  },
  {
   "cell_type": "code",
   "execution_count": 8,
   "id": "ceb826ab-7e0b-41f1-a671-af6700db4ba5",
   "metadata": {
    "tags": []
   },
   "outputs": [
    {
     "name": "stdout",
     "output_type": "stream",
     "text": [
      "very fast\n"
     ]
    }
   ],
   "source": [
    "class Eagle(Bird):\n",
    "    def fly(self):\n",
    "        print(\"very fast\")\n",
    "    \n",
    "eagle = Eagle()\n",
    "eagle.fly()"
   ]
  },
  {
   "cell_type": "markdown",
   "id": "e1405c75-74fc-4cb8-97a6-e6611116ea3a",
   "metadata": {},
   "source": [
    "### 예외 만들기\n",
    "- 프로그램 수행 도중 특수한 경우에만 예외 처리를 하기 위해 종종 예외를 만들어서 사용\n",
    "- 파이썬 내장 클래스인 Exception 클래스를 상속하여 예외를 만들 수 있다"
   ]
  },
  {
   "cell_type": "code",
   "execution_count": 9,
   "id": "ec5998b7-0151-47e0-aa2c-4aa99364af33",
   "metadata": {
    "tags": []
   },
   "outputs": [],
   "source": [
    "class MyError(Exception):\n",
    "    pass"
   ]
  },
  {
   "cell_type": "markdown",
   "id": "1361f768-1a5c-49f5-b81c-b4ac052689fb",
   "metadata": {},
   "source": [
    "- 별명 출력해주는 함수 작성"
   ]
  },
  {
   "cell_type": "code",
   "execution_count": 10,
   "id": "896412c0-2a9b-4582-81fa-b59bc167ce70",
   "metadata": {
    "tags": []
   },
   "outputs": [],
   "source": [
    "def say_nick(nick):\n",
    "    if nick == '바보':\n",
    "        raise MyError()\n",
    "    print(nick)"
   ]
  },
  {
   "cell_type": "code",
   "execution_count": 11,
   "id": "79593a89-fe10-42b5-b55f-c11b69e05e19",
   "metadata": {
    "tags": []
   },
   "outputs": [
    {
     "name": "stdout",
     "output_type": "stream",
     "text": [
      "천사\n"
     ]
    }
   ],
   "source": [
    "say_nick(\"천사\")"
   ]
  },
  {
   "cell_type": "code",
   "execution_count": 12,
   "id": "72a3aef2-4752-47b4-ad1e-1e3996592b91",
   "metadata": {
    "tags": []
   },
   "outputs": [
    {
     "ename": "MyError",
     "evalue": "",
     "output_type": "error",
     "traceback": [
      "\u001b[1;31m---------------------------------------------------------------------------\u001b[0m",
      "\u001b[1;31mMyError\u001b[0m                                   Traceback (most recent call last)",
      "Cell \u001b[1;32mIn[12], line 1\u001b[0m\n\u001b[1;32m----> 1\u001b[0m \u001b[43msay_nick\u001b[49m\u001b[43m(\u001b[49m\u001b[38;5;124;43m\"\u001b[39;49m\u001b[38;5;124;43m바보\u001b[39;49m\u001b[38;5;124;43m\"\u001b[39;49m\u001b[43m)\u001b[49m\n",
      "Cell \u001b[1;32mIn[10], line 3\u001b[0m, in \u001b[0;36msay_nick\u001b[1;34m(nick)\u001b[0m\n\u001b[0;32m      1\u001b[0m \u001b[38;5;28;01mdef\u001b[39;00m \u001b[38;5;21msay_nick\u001b[39m(nick):\n\u001b[0;32m      2\u001b[0m     \u001b[38;5;28;01mif\u001b[39;00m nick \u001b[38;5;241m==\u001b[39m \u001b[38;5;124m'\u001b[39m\u001b[38;5;124m바보\u001b[39m\u001b[38;5;124m'\u001b[39m:\n\u001b[1;32m----> 3\u001b[0m         \u001b[38;5;28;01mraise\u001b[39;00m MyError()\n\u001b[0;32m      4\u001b[0m     \u001b[38;5;28mprint\u001b[39m(nick)\n",
      "\u001b[1;31mMyError\u001b[0m: "
     ]
    }
   ],
   "source": [
    "say_nick(\"바보\") # MyError 발생"
   ]
  },
  {
   "cell_type": "markdown",
   "id": "5b49acea-4cb2-4ce3-969d-48878d9f4be4",
   "metadata": {},
   "source": [
    "- 예외 처리 기법을 사용해 MyError 발생을 예외 처리"
   ]
  },
  {
   "cell_type": "code",
   "execution_count": 13,
   "id": "dcd0eaf0-bd86-4f1d-9fc1-9df62350c63c",
   "metadata": {
    "tags": []
   },
   "outputs": [
    {
     "name": "stdout",
     "output_type": "stream",
     "text": [
      "천사\n",
      "허용되지 않는 별명입니다.\n"
     ]
    }
   ],
   "source": [
    "try:\n",
    "    say_nick(\"천사\")\n",
    "    say_nick(\"바보\")\n",
    "except MyError:\n",
    "    print(\"허용되지 않는 별명입니다.\")\n"
   ]
  },
  {
   "cell_type": "markdown",
   "id": "0fd3b12c-74af-4fbb-b85d-d64e772d44c7",
   "metadata": {},
   "source": [
    "- 오류 메시지 사용한 예외 처리"
   ]
  },
  {
   "cell_type": "code",
   "execution_count": 14,
   "id": "aa049917-3eef-43aa-9ae7-99d17f3650bd",
   "metadata": {
    "tags": []
   },
   "outputs": [
    {
     "name": "stdout",
     "output_type": "stream",
     "text": [
      "천사\n",
      "\n"
     ]
    }
   ],
   "source": [
    "try:\n",
    "    say_nick(\"천사\")\n",
    "    say_nick(\"바보\")\n",
    "except MyError as e:\n",
    "    print(e)"
   ]
  },
  {
   "cell_type": "markdown",
   "id": "e8c9faca-8fd7-4261-8827-31611f956152",
   "metadata": {},
   "source": [
    "하지만 프로그램을 실행해 보면 print(e)로 오류 메시지가 출력되지 않음.<br>\n",
    "오류 메시지 출력 시 오류 메시지가 보이게 하려면 오류 클래스에 다음과 같은 __str__ 메서드 구현<br>\n",
    "__str__ 메서드 : print(e)처럼 오류 메시지를 print문으로 출력할 경우 호출되는 메서드"
   ]
  },
  {
   "cell_type": "code",
   "execution_count": 15,
   "id": "800ee687-f4fe-4948-bbd7-4c04cabeaf73",
   "metadata": {
    "tags": []
   },
   "outputs": [],
   "source": [
    "class MyError(Exception):\n",
    "    def __str__(self):\n",
    "        return \"허용되지 않는 별명입니다.\""
   ]
  },
  {
   "cell_type": "code",
   "execution_count": 16,
   "id": "3eabf546-3c46-4b0a-ba1b-df28c60189be",
   "metadata": {
    "tags": []
   },
   "outputs": [
    {
     "name": "stdout",
     "output_type": "stream",
     "text": [
      "천사\n",
      "허용되지 않는 별명입니다.\n"
     ]
    }
   ],
   "source": [
    "try:\n",
    "    say_nick(\"천사\")\n",
    "    say_nick(\"바보\")\n",
    "except MyError as e:\n",
    "    print(e)"
   ]
  },
  {
   "cell_type": "code",
   "execution_count": 1,
   "id": "2645e2d9-a550-4632-8f33-8827b80736cd",
   "metadata": {
    "tags": []
   },
   "outputs": [
    {
     "name": "stdout",
     "output_type": "stream",
     "text": [
      "2는 int가 아닙니다.\n",
      "6는 int가 아닙니다.\n"
     ]
    },
    {
     "data": {
      "text/plain": [
       "13"
      ]
     },
     "execution_count": 1,
     "metadata": {},
     "output_type": "execute_result"
    }
   ],
   "source": [
    "# total(1,'2'3,4,5,'6')은 13이 출력되도록 total()를 만드시오.\n",
    "def total(*args):\n",
    "    result = 0\n",
    "    \n",
    "    for arg in args:\n",
    "        try:\n",
    "            result += arg\n",
    "        except:\n",
    "            print(f\"{arg}는 int가 아닙니다.\")\n",
    "    return result\n",
    "\n",
    "total(1,'2',3,4,5,'6')\n"
   ]
  },
  {
   "cell_type": "markdown",
   "id": "53086e4d-3be1-4cd0-9230-332781cd05c9",
   "metadata": {},
   "source": [
    "\"허용되지 않는 별명입니다.\" 라는 오류메시지 출력"
   ]
  },
  {
   "cell_type": "markdown",
   "id": "4d6c2ba3-a453-4485-91f9-a28db3d46dbc",
   "metadata": {
    "tags": []
   },
   "source": [
    "## 5-5 내장 함수"
   ]
  },
  {
   "cell_type": "markdown",
   "id": "9cc8fcff-6184-4980-87e4-bddd031a0f86",
   "metadata": {
    "tags": []
   },
   "source": [
    "### abs(x)\n",
    "- 어떤 숫자를 입력받았을 때, 그 숫자의 절댓값을 돌려주는 함수"
   ]
  },
  {
   "cell_type": "code",
   "execution_count": 122,
   "id": "ba1f7d10-f875-49dd-abc3-a77e5f937521",
   "metadata": {
    "tags": []
   },
   "outputs": [
    {
     "data": {
      "text/plain": [
       "3"
      ]
     },
     "execution_count": 122,
     "metadata": {},
     "output_type": "execute_result"
    }
   ],
   "source": [
    "abs(3)"
   ]
  },
  {
   "cell_type": "code",
   "execution_count": 123,
   "id": "161c01b7-ec3c-4d6a-ba2d-c540848063f2",
   "metadata": {
    "tags": []
   },
   "outputs": [
    {
     "data": {
      "text/plain": [
       "3"
      ]
     },
     "execution_count": 123,
     "metadata": {},
     "output_type": "execute_result"
    }
   ],
   "source": [
    "abs(-3)"
   ]
  },
  {
   "cell_type": "code",
   "execution_count": 124,
   "id": "21c80366-cba9-4870-a1df-21e9fde50268",
   "metadata": {
    "tags": []
   },
   "outputs": [
    {
     "data": {
      "text/plain": [
       "1.2"
      ]
     },
     "execution_count": 124,
     "metadata": {},
     "output_type": "execute_result"
    }
   ],
   "source": [
    "abs(-1.2)"
   ]
  },
  {
   "cell_type": "markdown",
   "id": "e57a270e-90e9-479b-9469-5381629aacc9",
   "metadata": {},
   "source": [
    "### all(x)\n",
    "- 반복 가능한(iterable) 자료형 x를 입력 인수로 받으며 이 x가 모두 참이면 True, 거짓이 하날도 있으면 False를 돌려줌"
   ]
  },
  {
   "cell_type": "code",
   "execution_count": 125,
   "id": "67de065d-a084-4860-b0d5-a18cd515aec2",
   "metadata": {
    "tags": []
   },
   "outputs": [
    {
     "data": {
      "text/plain": [
       "True"
      ]
     },
     "execution_count": 125,
     "metadata": {},
     "output_type": "execute_result"
    }
   ],
   "source": [
    "all([1,2,3])"
   ]
  },
  {
   "cell_type": "code",
   "execution_count": 126,
   "id": "afa68579-490f-4e74-97c8-4c04daee5459",
   "metadata": {
    "tags": []
   },
   "outputs": [
    {
     "data": {
      "text/plain": [
       "False"
      ]
     },
     "execution_count": 126,
     "metadata": {},
     "output_type": "execute_result"
    }
   ],
   "source": [
    "all([1,2,3,0])"
   ]
  },
  {
   "cell_type": "markdown",
   "id": "7ae703f3-5c7f-4af5-af79-71e2d8d48d70",
   "metadata": {},
   "source": [
    "### any(x)\n",
    "- x 중 하나라도 참이 있으면 True를 돌려주고, x가 모두 거짓일 때에만 False를 돌려줌. all(x)의 반대"
   ]
  },
  {
   "cell_type": "code",
   "execution_count": 127,
   "id": "ebb2cfc8-0a3f-4135-8d92-5b804ca9984a",
   "metadata": {
    "tags": []
   },
   "outputs": [
    {
     "data": {
      "text/plain": [
       "True"
      ]
     },
     "execution_count": 127,
     "metadata": {},
     "output_type": "execute_result"
    }
   ],
   "source": [
    "any([1,2,3,0])"
   ]
  },
  {
   "cell_type": "code",
   "execution_count": 128,
   "id": "0f189a1b-70b6-4968-859f-6bd0ac7bcece",
   "metadata": {
    "tags": []
   },
   "outputs": [
    {
     "data": {
      "text/plain": [
       "False"
      ]
     },
     "execution_count": 128,
     "metadata": {},
     "output_type": "execute_result"
    }
   ],
   "source": [
    "any([0,\"\"])"
   ]
  },
  {
   "cell_type": "markdown",
   "id": "df1bfc9c-1aa4-4a98-bda8-6c7b494bd766",
   "metadata": {},
   "source": [
    "### chr(i)\n",
    "- 아스키(ASCII) 코드 값을 입력받아 그 코드에 해당하는 문자를 출력하는 함수"
   ]
  },
  {
   "cell_type": "code",
   "execution_count": 129,
   "id": "f1f5df2d-4f08-4cc2-9d84-a61538707c94",
   "metadata": {
    "tags": []
   },
   "outputs": [
    {
     "data": {
      "text/plain": [
       "'a'"
      ]
     },
     "execution_count": 129,
     "metadata": {},
     "output_type": "execute_result"
    }
   ],
   "source": [
    "chr(97)"
   ]
  },
  {
   "cell_type": "code",
   "execution_count": 130,
   "id": "8a72c51c-9d0c-464a-b78d-d596e10ae02d",
   "metadata": {
    "tags": []
   },
   "outputs": [
    {
     "data": {
      "text/plain": [
       "'0'"
      ]
     },
     "execution_count": 130,
     "metadata": {},
     "output_type": "execute_result"
    }
   ],
   "source": [
    "chr(48)"
   ]
  },
  {
   "cell_type": "markdown",
   "id": "fb55d61a-bd27-490c-8ade-82014d25c94e",
   "metadata": {},
   "source": [
    "### dir\n",
    "- 객체가 자체적으로 가지고 있는 변수나 함수를 보여줌\n",
    "- 다음 예는 리스트와 딕셔너리 객체 관련 함수(메서드)를 보여주는 예"
   ]
  },
  {
   "cell_type": "code",
   "execution_count": 133,
   "id": "d3035c57-f0f6-44a1-9ee8-cce296c7ec29",
   "metadata": {
    "tags": []
   },
   "outputs": [
    {
     "data": {
      "text/plain": [
       "['__add__',\n",
       " '__class__',\n",
       " '__class_getitem__',\n",
       " '__contains__',\n",
       " '__delattr__',\n",
       " '__delitem__',\n",
       " '__dir__',\n",
       " '__doc__',\n",
       " '__eq__',\n",
       " '__format__',\n",
       " '__ge__',\n",
       " '__getattribute__',\n",
       " '__getitem__',\n",
       " '__gt__',\n",
       " '__hash__',\n",
       " '__iadd__',\n",
       " '__imul__',\n",
       " '__init__',\n",
       " '__init_subclass__',\n",
       " '__iter__',\n",
       " '__le__',\n",
       " '__len__',\n",
       " '__lt__',\n",
       " '__mul__',\n",
       " '__ne__',\n",
       " '__new__',\n",
       " '__reduce__',\n",
       " '__reduce_ex__',\n",
       " '__repr__',\n",
       " '__reversed__',\n",
       " '__rmul__',\n",
       " '__setattr__',\n",
       " '__setitem__',\n",
       " '__sizeof__',\n",
       " '__str__',\n",
       " '__subclasshook__',\n",
       " 'append',\n",
       " 'clear',\n",
       " 'copy',\n",
       " 'count',\n",
       " 'extend',\n",
       " 'index',\n",
       " 'insert',\n",
       " 'pop',\n",
       " 'remove',\n",
       " 'reverse',\n",
       " 'sort']"
      ]
     },
     "execution_count": 133,
     "metadata": {},
     "output_type": "execute_result"
    }
   ],
   "source": [
    "dir([1,2,3])"
   ]
  },
  {
   "cell_type": "code",
   "execution_count": 134,
   "id": "25148783-0f91-4af4-9e25-146228d44a48",
   "metadata": {
    "tags": []
   },
   "outputs": [
    {
     "data": {
      "text/plain": [
       "['__class__',\n",
       " '__class_getitem__',\n",
       " '__contains__',\n",
       " '__delattr__',\n",
       " '__delitem__',\n",
       " '__dir__',\n",
       " '__doc__',\n",
       " '__eq__',\n",
       " '__format__',\n",
       " '__ge__',\n",
       " '__getattribute__',\n",
       " '__getitem__',\n",
       " '__gt__',\n",
       " '__hash__',\n",
       " '__init__',\n",
       " '__init_subclass__',\n",
       " '__ior__',\n",
       " '__iter__',\n",
       " '__le__',\n",
       " '__len__',\n",
       " '__lt__',\n",
       " '__ne__',\n",
       " '__new__',\n",
       " '__or__',\n",
       " '__reduce__',\n",
       " '__reduce_ex__',\n",
       " '__repr__',\n",
       " '__reversed__',\n",
       " '__ror__',\n",
       " '__setattr__',\n",
       " '__setitem__',\n",
       " '__sizeof__',\n",
       " '__str__',\n",
       " '__subclasshook__',\n",
       " 'clear',\n",
       " 'copy',\n",
       " 'fromkeys',\n",
       " 'get',\n",
       " 'items',\n",
       " 'keys',\n",
       " 'pop',\n",
       " 'popitem',\n",
       " 'setdefault',\n",
       " 'update',\n",
       " 'values']"
      ]
     },
     "execution_count": 134,
     "metadata": {},
     "output_type": "execute_result"
    }
   ],
   "source": [
    "dir({'1':'a'})"
   ]
  },
  {
   "cell_type": "markdown",
   "id": "d4613fd2-307a-47a7-8f47-cb41db606820",
   "metadata": {
    "tags": []
   },
   "source": [
    "### divmod(a,b)\n",
    "- 2개의 숫자를 입력으로 받으며, a를 b로 나눈 몫과 나머지를 튜플 형태로 돌려줌"
   ]
  },
  {
   "cell_type": "code",
   "execution_count": 137,
   "id": "21718eff-1ae0-4116-a36d-f9e5a977d36f",
   "metadata": {
    "tags": []
   },
   "outputs": [
    {
     "data": {
      "text/plain": [
       "(2, 1)"
      ]
     },
     "execution_count": 137,
     "metadata": {},
     "output_type": "execute_result"
    }
   ],
   "source": [
    "divmod(7,3) "
   ]
  },
  {
   "cell_type": "code",
   "execution_count": 138,
   "id": "7283b3c8-f2df-43f2-bb2e-1ac14090ae1b",
   "metadata": {
    "tags": []
   },
   "outputs": [
    {
     "data": {
      "text/plain": [
       "2"
      ]
     },
     "execution_count": 138,
     "metadata": {},
     "output_type": "execute_result"
    }
   ],
   "source": [
    "7//3"
   ]
  },
  {
   "cell_type": "code",
   "execution_count": 139,
   "id": "d3a423bf-43cb-4c6b-b3ca-9d032d08c63d",
   "metadata": {
    "tags": []
   },
   "outputs": [
    {
     "data": {
      "text/plain": [
       "1"
      ]
     },
     "execution_count": 139,
     "metadata": {},
     "output_type": "execute_result"
    }
   ],
   "source": [
    "7%3"
   ]
  },
  {
   "cell_type": "markdown",
   "id": "48c0cfb0-3753-4095-b7a8-9c1ca2e8a43c",
   "metadata": {},
   "source": [
    "### enumerate\n",
    "- '열거하다'라는 뜻. 이 함수는 순서가 있는 자료형(리스트, 튜플, 문자열)을 입력으로 받아 인덱스 값을 포함하는 enumerate 객체를 돌려줌.\n",
    "- for문과 함께 자주 사용"
   ]
  },
  {
   "cell_type": "code",
   "execution_count": 140,
   "id": "4075ac69-6669-43cd-abea-af7c3020dd7b",
   "metadata": {
    "tags": []
   },
   "outputs": [
    {
     "name": "stdout",
     "output_type": "stream",
     "text": [
      "0 body\n",
      "1 foo\n",
      "2 bar\n"
     ]
    }
   ],
   "source": [
    "for i, name in enumerate(['body', 'foo', 'bar']):\n",
    "    print(i, name)"
   ]
  },
  {
   "cell_type": "markdown",
   "id": "8ef14cf6-dcbb-418e-9fa6-655a3cfd55d0",
   "metadata": {},
   "source": [
    "위 예제와 같이 enumerate을 for문과 함께 사용하면 자료형의 현재 순서(index)와 그 값을 쉽게 알 수 있다.<br>\n",
    "for문처럼 반복되는 구간에서 객체가 현재 어느 위치에 있는지 알려 주는 인덱스 값이 필요할 때 enumberate 함수를 사용하면 매우 유용함"
   ]
  },
  {
   "cell_type": "markdown",
   "id": "1e65fa2b-a9bb-41f0-94b2-fec9d22132ea",
   "metadata": {},
   "source": [
    "### eval(expression) \n",
    "- 실행 가능한 문자열(1+2, 'hi'+'a' 같은 것)을 입력으로 받아 문자열을 실행한 결괏값을 돌려주는 함수"
   ]
  },
  {
   "cell_type": "code",
   "execution_count": 1,
   "id": "01517710-e575-4d92-9446-53d9dcd79461",
   "metadata": {},
   "outputs": [
    {
     "data": {
      "text/plain": [
       "3"
      ]
     },
     "execution_count": 1,
     "metadata": {},
     "output_type": "execute_result"
    }
   ],
   "source": [
    "eval('1+2')"
   ]
  },
  {
   "cell_type": "code",
   "execution_count": 2,
   "id": "df9a9ee9-1257-4161-9dea-a40633026269",
   "metadata": {
    "tags": []
   },
   "outputs": [
    {
     "data": {
      "text/plain": [
       "'hia'"
      ]
     },
     "execution_count": 2,
     "metadata": {},
     "output_type": "execute_result"
    }
   ],
   "source": [
    "eval(\"'hi' + 'a'\")"
   ]
  },
  {
   "cell_type": "code",
   "execution_count": 3,
   "id": "454d14c7-8509-40e8-9fe1-971c75027d6c",
   "metadata": {
    "tags": []
   },
   "outputs": [
    {
     "data": {
      "text/plain": [
       "(1, 1)"
      ]
     },
     "execution_count": 3,
     "metadata": {},
     "output_type": "execute_result"
    }
   ],
   "source": [
    "eval('divmod(4,3)')"
   ]
  },
  {
   "cell_type": "markdown",
   "id": "46019863-673b-4755-b79e-f9b547cbdf1b",
   "metadata": {},
   "source": [
    "### filter\n",
    "- ***첫 번째 인수*** : 함수 이름\n",
    "- ***두 번째 인수*** : 그 함수에 차례로 들어가 반복 가능한 자료형"
   ]
  },
  {
   "cell_type": "code",
   "execution_count": 4,
   "id": "c8e70f41-a041-48ae-b43a-cd527e974651",
   "metadata": {
    "tags": []
   },
   "outputs": [
    {
     "name": "stdout",
     "output_type": "stream",
     "text": [
      "[1, 2, 6]\n"
     ]
    }
   ],
   "source": [
    "#filter함수 없이\n",
    "def positive(l):\n",
    "    result = []\n",
    "    for i in l:\n",
    "        if i > 0:\n",
    "            result.append(i)\n",
    "    return result\n",
    "\n",
    "print(positive([1,-3,2,0,-5,6]))\n",
    "            "
   ]
  },
  {
   "cell_type": "code",
   "execution_count": 6,
   "id": "437aa407-dab9-4281-90f9-8d6b63fbd12a",
   "metadata": {
    "tags": []
   },
   "outputs": [
    {
     "name": "stdout",
     "output_type": "stream",
     "text": [
      "[1, 2, 6]\n"
     ]
    }
   ],
   "source": [
    "#filter 함수 사용\n",
    "def positive(x):\n",
    "    return x > 0\n",
    "\n",
    "print(list(filter(positive, [1,-3,2,0,-5,6])))"
   ]
  },
  {
   "cell_type": "code",
   "execution_count": 7,
   "id": "eb3d4971-3cc7-4d4c-89b3-e529ce3856df",
   "metadata": {
    "tags": []
   },
   "outputs": [
    {
     "data": {
      "text/plain": [
       "[1, 2, 6]"
      ]
     },
     "execution_count": 7,
     "metadata": {},
     "output_type": "execute_result"
    }
   ],
   "source": [
    "list(filter(lambda x: x>0, [1,-3,2,0,-5,6]))"
   ]
  },
  {
   "cell_type": "markdown",
   "id": "5e99d4a2-4bb3-499d-81bc-707a19e4ffcc",
   "metadata": {},
   "source": [
    "### hex(x)\n",
    "- 정수 값을 입력받아 16진수(hexadecimal)로 변환하여 돌려주는 함수"
   ]
  },
  {
   "cell_type": "code",
   "execution_count": 8,
   "id": "10776d37-ab98-4871-ae09-48931a9e838a",
   "metadata": {
    "tags": []
   },
   "outputs": [
    {
     "data": {
      "text/plain": [
       "'0xea'"
      ]
     },
     "execution_count": 8,
     "metadata": {},
     "output_type": "execute_result"
    }
   ],
   "source": [
    "hex(234)"
   ]
  },
  {
   "cell_type": "code",
   "execution_count": 9,
   "id": "b0940e07-0c76-4751-8e13-28ab1e1fd57a",
   "metadata": {
    "tags": []
   },
   "outputs": [
    {
     "data": {
      "text/plain": [
       "'0x3'"
      ]
     },
     "execution_count": 9,
     "metadata": {},
     "output_type": "execute_result"
    }
   ],
   "source": [
    "hex(3)"
   ]
  },
  {
   "cell_type": "markdown",
   "id": "533346f2-e77b-476a-8417-04d8ba79efe0",
   "metadata": {},
   "source": [
    "### id(object)\n",
    "- 객체를 입력받아 객체의 고유 주소 값(레퍼런스)을 돌려주는 함수"
   ]
  },
  {
   "cell_type": "code",
   "execution_count": 10,
   "id": "728d0faa-0f83-43e2-bf43-1215756a51e2",
   "metadata": {
    "tags": []
   },
   "outputs": [],
   "source": [
    "a=3"
   ]
  },
  {
   "cell_type": "code",
   "execution_count": 11,
   "id": "782d11b7-42c4-4915-912a-546dc12805e3",
   "metadata": {
    "tags": []
   },
   "outputs": [
    {
     "data": {
      "text/plain": [
       "2093048332592"
      ]
     },
     "execution_count": 11,
     "metadata": {},
     "output_type": "execute_result"
    }
   ],
   "source": [
    "id(3)"
   ]
  },
  {
   "cell_type": "code",
   "execution_count": 12,
   "id": "c5454075-1d24-4ce4-99dd-3edadf85917f",
   "metadata": {
    "tags": []
   },
   "outputs": [],
   "source": [
    "b=a"
   ]
  },
  {
   "cell_type": "code",
   "execution_count": 13,
   "id": "9e41ae35-43d1-40e3-b3e9-4532374603d3",
   "metadata": {
    "tags": []
   },
   "outputs": [
    {
     "data": {
      "text/plain": [
       "2093048332592"
      ]
     },
     "execution_count": 13,
     "metadata": {},
     "output_type": "execute_result"
    }
   ],
   "source": [
    "id(b)"
   ]
  },
  {
   "cell_type": "markdown",
   "id": "5207eed7-e601-4f10-8874-a7a34d0a5d49",
   "metadata": {},
   "source": [
    "- 3, a, b가 모두 같은 객체를 가리킴"
   ]
  },
  {
   "cell_type": "code",
   "execution_count": 15,
   "id": "30994060-6c26-4e1c-b510-3f5686787aa9",
   "metadata": {
    "tags": []
   },
   "outputs": [
    {
     "data": {
      "text/plain": [
       "2093048332624"
      ]
     },
     "execution_count": 15,
     "metadata": {},
     "output_type": "execute_result"
    }
   ],
   "source": [
    "id(4) # 다른 고유 주소값"
   ]
  },
  {
   "cell_type": "markdown",
   "id": "9281acc3-f148-4418-8a83-507f1af002b9",
   "metadata": {},
   "source": [
    "### input([prompt])\n",
    "- 사용자 입력을 받는 함수"
   ]
  },
  {
   "cell_type": "code",
   "execution_count": 16,
   "id": "92206114-2812-4d72-b73d-81c5fedffc90",
   "metadata": {
    "tags": []
   },
   "outputs": [
    {
     "name": "stdin",
     "output_type": "stream",
     "text": [
      " hi\n"
     ]
    }
   ],
   "source": [
    "a = input()"
   ]
  },
  {
   "cell_type": "code",
   "execution_count": 17,
   "id": "177e84f4-03dd-485a-af67-c5db1ccc8f49",
   "metadata": {
    "tags": []
   },
   "outputs": [
    {
     "data": {
      "text/plain": [
       "'hi'"
      ]
     },
     "execution_count": 17,
     "metadata": {},
     "output_type": "execute_result"
    }
   ],
   "source": [
    "a"
   ]
  },
  {
   "cell_type": "code",
   "execution_count": 18,
   "id": "ad740d8c-b78d-4549-9b69-3364c0e57f77",
   "metadata": {
    "tags": []
   },
   "outputs": [
    {
     "name": "stdin",
     "output_type": "stream",
     "text": [
      "Enter:  hi\n"
     ]
    }
   ],
   "source": [
    "b = input(\"Enter: \")"
   ]
  },
  {
   "cell_type": "code",
   "execution_count": 19,
   "id": "f3bceedb-9d4f-4e74-8da1-3249278657d8",
   "metadata": {
    "tags": []
   },
   "outputs": [
    {
     "data": {
      "text/plain": [
       "'hi'"
      ]
     },
     "execution_count": 19,
     "metadata": {},
     "output_type": "execute_result"
    }
   ],
   "source": [
    "b"
   ]
  },
  {
   "cell_type": "markdown",
   "id": "e63b00bf-d34a-4997-b833-d785a99d7dd4",
   "metadata": {},
   "source": [
    "### int(x)\n",
    "- 문자열 형태의 숫자나 소수점이 있는 숫자 등을 정수 형태로 돌려주는 함수"
   ]
  },
  {
   "cell_type": "code",
   "execution_count": 20,
   "id": "c60030a6-b3ea-4337-a09c-435c610681ae",
   "metadata": {
    "tags": []
   },
   "outputs": [
    {
     "data": {
      "text/plain": [
       "3"
      ]
     },
     "execution_count": 20,
     "metadata": {},
     "output_type": "execute_result"
    }
   ],
   "source": [
    "int('3')"
   ]
  },
  {
   "cell_type": "code",
   "execution_count": 21,
   "id": "8ff19801-5b56-4ace-b27f-3c6353506d4b",
   "metadata": {
    "tags": []
   },
   "outputs": [
    {
     "data": {
      "text/plain": [
       "3"
      ]
     },
     "execution_count": 21,
     "metadata": {},
     "output_type": "execute_result"
    }
   ],
   "source": [
    "int(3.4)"
   ]
  },
  {
   "cell_type": "markdown",
   "id": "1b382d78-350e-4238-9cf8-bbc01a674de7",
   "metadata": {},
   "source": [
    "#### int(x, radix)\n",
    "- radix 진수로 표현된 문자열 x를 10진수로 변환하여 돌려줌"
   ]
  },
  {
   "cell_type": "code",
   "execution_count": 23,
   "id": "10794f54-be7c-4cdf-a2f4-7748d61c055c",
   "metadata": {
    "tags": []
   },
   "outputs": [
    {
     "data": {
      "text/plain": [
       "3"
      ]
     },
     "execution_count": 23,
     "metadata": {},
     "output_type": "execute_result"
    }
   ],
   "source": [
    "int('11',2) #2진수로 표현된 11의 10진수 값 구하기"
   ]
  },
  {
   "cell_type": "code",
   "execution_count": 24,
   "id": "5128ea86-6dab-42a4-a5b1-e0d02999d7e9",
   "metadata": {
    "tags": []
   },
   "outputs": [
    {
     "data": {
      "text/plain": [
       "26"
      ]
     },
     "execution_count": 24,
     "metadata": {},
     "output_type": "execute_result"
    }
   ],
   "source": [
    "int('1A', 16) #16진수로 표현된 1A의 10진수 값 구하기"
   ]
  },
  {
   "cell_type": "markdown",
   "id": "598d61f6-83c4-4878-bdd3-049a642f5129",
   "metadata": {},
   "source": [
    "### isinstance(object, class)\n",
    "- 첫 번째 인수: 인스턴스 , 두 번째 인수: 클래스 이름\n",
    "- 입력으로 받은 인스턴스가 그 클래스의 인스턴스인지를 판다하여 참이면 True, 거짓이면 False를 돌려줌"
   ]
  },
  {
   "cell_type": "code",
   "execution_count": 25,
   "id": "1272fcda-4258-48f7-ac19-f43c532b4e10",
   "metadata": {
    "tags": []
   },
   "outputs": [],
   "source": [
    "class Person:\n",
    "    pass"
   ]
  },
  {
   "cell_type": "code",
   "execution_count": 26,
   "id": "4054499a-e657-42ce-a5f5-ea79a4d42244",
   "metadata": {
    "tags": []
   },
   "outputs": [],
   "source": [
    "a = Person()"
   ]
  },
  {
   "cell_type": "code",
   "execution_count": 28,
   "id": "04917145-af69-4b1b-8098-8385d750af4b",
   "metadata": {
    "tags": []
   },
   "outputs": [
    {
     "data": {
      "text/plain": [
       "True"
      ]
     },
     "execution_count": 28,
     "metadata": {},
     "output_type": "execute_result"
    }
   ],
   "source": [
    "isinstance(a, Person) #a가 Person클래스의 인스턴스인지 확인"
   ]
  },
  {
   "cell_type": "code",
   "execution_count": 29,
   "id": "5dc1be20-0b44-4c49-897d-27d182f475d2",
   "metadata": {
    "tags": []
   },
   "outputs": [],
   "source": [
    "b=3"
   ]
  },
  {
   "cell_type": "code",
   "execution_count": 30,
   "id": "f24d6b7e-d1fc-4228-b5ab-fd7667571e30",
   "metadata": {
    "tags": []
   },
   "outputs": [
    {
     "data": {
      "text/plain": [
       "False"
      ]
     },
     "execution_count": 30,
     "metadata": {},
     "output_type": "execute_result"
    }
   ],
   "source": [
    "isinstance(b, Person) #b가 Person클래스의 인스턴스인지 확인"
   ]
  },
  {
   "cell_type": "markdown",
   "id": "eb7791fe-b976-4d07-9a43-3387c6e047c5",
   "metadata": {},
   "source": [
    "### len(s)\n",
    "- 입력값 s의 길이(요소의 전체 개수)를 돌려주는 함수"
   ]
  },
  {
   "cell_type": "code",
   "execution_count": 31,
   "id": "cd966527-a2ce-4414-aa24-26d216d0eeb2",
   "metadata": {
    "tags": []
   },
   "outputs": [
    {
     "data": {
      "text/plain": [
       "6"
      ]
     },
     "execution_count": 31,
     "metadata": {},
     "output_type": "execute_result"
    }
   ],
   "source": [
    "len(\"python\")"
   ]
  },
  {
   "cell_type": "code",
   "execution_count": 33,
   "id": "583c4e83-b03b-4e4d-a9d1-8757d3711471",
   "metadata": {
    "tags": []
   },
   "outputs": [
    {
     "data": {
      "text/plain": [
       "3"
      ]
     },
     "execution_count": 33,
     "metadata": {},
     "output_type": "execute_result"
    }
   ],
   "source": [
    "len([1,2,3])"
   ]
  },
  {
   "cell_type": "code",
   "execution_count": 35,
   "id": "dc95f060-45e3-4a1b-a379-ba46940a9677",
   "metadata": {
    "tags": []
   },
   "outputs": [
    {
     "data": {
      "text/plain": [
       "2"
      ]
     },
     "execution_count": 35,
     "metadata": {},
     "output_type": "execute_result"
    }
   ],
   "source": [
    "len((1,'a'))"
   ]
  },
  {
   "cell_type": "markdown",
   "id": "1082b017-d35b-4c44-b57d-1426e5b35149",
   "metadata": {},
   "source": [
    "### list(s)\n",
    "- 반복 가능한 자료형 s를 입력받아 리스트로 만들어 돌려주는 함수"
   ]
  },
  {
   "cell_type": "code",
   "execution_count": 36,
   "id": "9fa55b09-e540-44f5-9096-03d635806740",
   "metadata": {
    "tags": []
   },
   "outputs": [
    {
     "data": {
      "text/plain": [
       "['p', 'y', 't', 'h', 'o', 'n']"
      ]
     },
     "execution_count": 36,
     "metadata": {},
     "output_type": "execute_result"
    }
   ],
   "source": [
    "list(\"python\")"
   ]
  },
  {
   "cell_type": "code",
   "execution_count": 37,
   "id": "fe54e085-6d50-43b8-b160-fc444b0d1f9b",
   "metadata": {
    "tags": []
   },
   "outputs": [
    {
     "data": {
      "text/plain": [
       "[1, 2, 3]"
      ]
     },
     "execution_count": 37,
     "metadata": {},
     "output_type": "execute_result"
    }
   ],
   "source": [
    "list((1,2,3))"
   ]
  },
  {
   "cell_type": "markdown",
   "id": "c30381ff-a672-4996-b5d2-fffeee7eb4b9",
   "metadata": {},
   "source": [
    "- 리스트 함수에 리스트를 입력으로 주면 똑같은 리스트를 복사해 돌려줌"
   ]
  },
  {
   "cell_type": "code",
   "execution_count": 38,
   "id": "7abc889d-cbe8-4c3e-8357-580bc7363b5b",
   "metadata": {
    "tags": []
   },
   "outputs": [],
   "source": [
    "a = [1,2,3]"
   ]
  },
  {
   "cell_type": "code",
   "execution_count": 39,
   "id": "a47efb73-dcac-449f-b12d-73e075c703e6",
   "metadata": {
    "tags": []
   },
   "outputs": [],
   "source": [
    "b = list(a)"
   ]
  },
  {
   "cell_type": "code",
   "execution_count": 40,
   "id": "287f3605-dc8c-4cc3-81d1-9b803ff5003f",
   "metadata": {
    "tags": []
   },
   "outputs": [
    {
     "data": {
      "text/plain": [
       "[1, 2, 3]"
      ]
     },
     "execution_count": 40,
     "metadata": {},
     "output_type": "execute_result"
    }
   ],
   "source": [
    "b"
   ]
  },
  {
   "cell_type": "markdown",
   "id": "217f0d43-3fa7-48b7-b9c1-60ba1033ac0e",
   "metadata": {},
   "source": [
    "### map(f, iterable)\n",
    "- 함수(f)와 반복 가능한(iterable) 자료형을 입력으로 받음\n",
    "- map은 입력받은 자료형의 각 요소를 함수 f가 수행한 결과를 묶어서 돌려주는 함수"
   ]
  },
  {
   "cell_type": "code",
   "execution_count": 41,
   "id": "0b4af5d1-8023-46e3-8471-0a92f8ee9faa",
   "metadata": {
    "tags": []
   },
   "outputs": [
    {
     "name": "stdout",
     "output_type": "stream",
     "text": [
      "[2, 4, 6, 8]\n"
     ]
    }
   ],
   "source": [
    "#map 사용 전\n",
    "def two_times(numberList):\n",
    "    result = []\n",
    "    for number in numberList:\n",
    "        result.append(number*2)\n",
    "    return result\n",
    "\n",
    "result = two_times([1,2,3,4])\n",
    "print(result)"
   ]
  },
  {
   "cell_type": "code",
   "execution_count": 42,
   "id": "777b22bc-5e30-4255-bc9c-bc089d7ea504",
   "metadata": {
    "tags": []
   },
   "outputs": [],
   "source": [
    "#map 사용 후\n",
    "def two_times(x): return x*2\n"
   ]
  },
  {
   "cell_type": "code",
   "execution_count": 43,
   "id": "8d3e6cf4-2326-442c-a393-9b6b42f5db0d",
   "metadata": {
    "tags": []
   },
   "outputs": [
    {
     "data": {
      "text/plain": [
       "[2, 4, 6, 8]"
      ]
     },
     "execution_count": 43,
     "metadata": {},
     "output_type": "execute_result"
    }
   ],
   "source": [
    "list(map(two_times, [1,2,3,4]))"
   ]
  },
  {
   "cell_type": "code",
   "execution_count": 44,
   "id": "cde0b0d7-64fd-48ad-b119-01e005eb1832",
   "metadata": {
    "tags": []
   },
   "outputs": [
    {
     "data": {
      "text/plain": [
       "[2, 4, 6, 8]"
      ]
     },
     "execution_count": 44,
     "metadata": {},
     "output_type": "execute_result"
    }
   ],
   "source": [
    "list(map(lambda a:a*2, [1,2,3,4]))"
   ]
  },
  {
   "cell_type": "markdown",
   "id": "e8ea884c-c564-4397-9963-a618fcb8cd42",
   "metadata": {},
   "source": [
    "### max(iterable)\n",
    "- 인수로 반복 가능한 자료형을 입력받아 그 최댓값을 돌려주는 함수"
   ]
  },
  {
   "cell_type": "code",
   "execution_count": 45,
   "id": "1015e008-ea39-4fa2-a401-e33e6ce53df7",
   "metadata": {
    "tags": []
   },
   "outputs": [
    {
     "data": {
      "text/plain": [
       "3"
      ]
     },
     "execution_count": 45,
     "metadata": {},
     "output_type": "execute_result"
    }
   ],
   "source": [
    "max([1,2,3])"
   ]
  },
  {
   "cell_type": "code",
   "execution_count": 46,
   "id": "6d7cfb95-d9ad-4ad8-ae57-ba4c49b93f83",
   "metadata": {
    "tags": []
   },
   "outputs": [
    {
     "data": {
      "text/plain": [
       "'y'"
      ]
     },
     "execution_count": 46,
     "metadata": {},
     "output_type": "execute_result"
    }
   ],
   "source": [
    "max(\"python\")"
   ]
  },
  {
   "cell_type": "markdown",
   "id": "2ca9b6e0-946d-464f-9172-f60ac1bd4615",
   "metadata": {},
   "source": [
    "### min(iterable)\n",
    "- max함수와 반대로, 인수로 반복 가능한 자료형을 입력받아 그 최솟값을 돌려주는 함수"
   ]
  },
  {
   "cell_type": "code",
   "execution_count": 47,
   "id": "681d313f-9707-45bb-8596-82073c4cd101",
   "metadata": {
    "tags": []
   },
   "outputs": [
    {
     "data": {
      "text/plain": [
       "1"
      ]
     },
     "execution_count": 47,
     "metadata": {},
     "output_type": "execute_result"
    }
   ],
   "source": [
    "min([1,2,3])"
   ]
  },
  {
   "cell_type": "code",
   "execution_count": 49,
   "id": "5ed8a333-8912-41b8-a45f-0b46ba22831f",
   "metadata": {
    "tags": []
   },
   "outputs": [
    {
     "data": {
      "text/plain": [
       "'h'"
      ]
     },
     "execution_count": 49,
     "metadata": {},
     "output_type": "execute_result"
    }
   ],
   "source": [
    "min(\"python\")"
   ]
  },
  {
   "cell_type": "markdown",
   "id": "a31974d6-de57-456b-a9cb-83300acfe166",
   "metadata": {},
   "source": [
    "### oct(x)\n",
    "- 정수 형태의 숫자를 8진수 문자열로 바꾸어 돌려주는 함수"
   ]
  },
  {
   "cell_type": "code",
   "execution_count": 50,
   "id": "cf45aa90-2239-414d-bf9a-7fe0374c6e16",
   "metadata": {
    "tags": []
   },
   "outputs": [
    {
     "data": {
      "text/plain": [
       "'0o42'"
      ]
     },
     "execution_count": 50,
     "metadata": {},
     "output_type": "execute_result"
    }
   ],
   "source": [
    "oct(34)"
   ]
  },
  {
   "cell_type": "code",
   "execution_count": 51,
   "id": "e22b03be-b0a4-40dc-be43-228426ee8b8b",
   "metadata": {
    "tags": []
   },
   "outputs": [
    {
     "data": {
      "text/plain": [
       "'0o30071'"
      ]
     },
     "execution_count": 51,
     "metadata": {},
     "output_type": "execute_result"
    }
   ],
   "source": [
    "oct(12345)"
   ]
  },
  {
   "cell_type": "markdown",
   "id": "3831c183-5603-4edf-a87d-ef710a139bdc",
   "metadata": {},
   "source": [
    "### open(filename, [mode])\n",
    "- '파일 이름'과 '읽기 방법'을 입력받아 파일 객체를 돌려주는 함수\n",
    "- 읽기 방법(mode)을 생략하면 기본값인 읽기 전용 모드(r)로 파일 객체를 만들어 돌려줌"
   ]
  },
  {
   "cell_type": "code",
   "execution_count": 53,
   "id": "9988fd66-5a91-48f7-bf81-ca4f69da7f32",
   "metadata": {
    "tags": []
   },
   "outputs": [
    {
     "ename": "FileNotFoundError",
     "evalue": "[Errno 2] No such file or directory: 'binary_file'",
     "output_type": "error",
     "traceback": [
      "\u001b[1;31m---------------------------------------------------------------------------\u001b[0m",
      "\u001b[1;31mFileNotFoundError\u001b[0m                         Traceback (most recent call last)",
      "Cell \u001b[1;32mIn[53], line 1\u001b[0m\n\u001b[1;32m----> 1\u001b[0m f \u001b[38;5;241m=\u001b[39m \u001b[38;5;28;43mopen\u001b[39;49m\u001b[43m(\u001b[49m\u001b[38;5;124;43m\"\u001b[39;49m\u001b[38;5;124;43mbinary_file\u001b[39;49m\u001b[38;5;124;43m\"\u001b[39;49m\u001b[43m,\u001b[49m\u001b[43m \u001b[49m\u001b[38;5;124;43m\"\u001b[39;49m\u001b[38;5;124;43mrb\u001b[39;49m\u001b[38;5;124;43m\"\u001b[39;49m\u001b[43m)\u001b[49m \u001b[38;5;66;03m#rb는 '바이너리 읽기 모드'\u001b[39;00m\n",
      "File \u001b[1;32m~\\AppData\\Local\\Programs\\Python\\Python310\\lib\\site-packages\\IPython\\core\\interactiveshell.py:282\u001b[0m, in \u001b[0;36m_modified_open\u001b[1;34m(file, *args, **kwargs)\u001b[0m\n\u001b[0;32m    275\u001b[0m \u001b[38;5;28;01mif\u001b[39;00m file \u001b[38;5;129;01min\u001b[39;00m {\u001b[38;5;241m0\u001b[39m, \u001b[38;5;241m1\u001b[39m, \u001b[38;5;241m2\u001b[39m}:\n\u001b[0;32m    276\u001b[0m     \u001b[38;5;28;01mraise\u001b[39;00m \u001b[38;5;167;01mValueError\u001b[39;00m(\n\u001b[0;32m    277\u001b[0m         \u001b[38;5;124mf\u001b[39m\u001b[38;5;124m\"\u001b[39m\u001b[38;5;124mIPython won\u001b[39m\u001b[38;5;124m'\u001b[39m\u001b[38;5;124mt let you open fd=\u001b[39m\u001b[38;5;132;01m{\u001b[39;00mfile\u001b[38;5;132;01m}\u001b[39;00m\u001b[38;5;124m by default \u001b[39m\u001b[38;5;124m\"\u001b[39m\n\u001b[0;32m    278\u001b[0m         \u001b[38;5;124m\"\u001b[39m\u001b[38;5;124mas it is likely to crash IPython. If you know what you are doing, \u001b[39m\u001b[38;5;124m\"\u001b[39m\n\u001b[0;32m    279\u001b[0m         \u001b[38;5;124m\"\u001b[39m\u001b[38;5;124myou can use builtins\u001b[39m\u001b[38;5;124m'\u001b[39m\u001b[38;5;124m open.\u001b[39m\u001b[38;5;124m\"\u001b[39m\n\u001b[0;32m    280\u001b[0m     )\n\u001b[1;32m--> 282\u001b[0m \u001b[38;5;28;01mreturn\u001b[39;00m io_open(file, \u001b[38;5;241m*\u001b[39margs, \u001b[38;5;241m*\u001b[39m\u001b[38;5;241m*\u001b[39mkwargs)\n",
      "\u001b[1;31mFileNotFoundError\u001b[0m: [Errno 2] No such file or directory: 'binary_file'"
     ]
    }
   ],
   "source": [
    "f = open(\"binary_file\", \"rb\") #rb는 '바이너리 읽기 모드'"
   ]
  },
  {
   "cell_type": "code",
   "execution_count": null,
   "id": "92152e5f-d8f5-4787-a1aa-334b115668be",
   "metadata": {},
   "outputs": [],
   "source": [
    "# fread와 fread2는 동일한 방법\n",
    "fread = open(\"read_mode.txt\", 'r')\n",
    "fread2 = open(\"read_mode.txt\")"
   ]
  },
  {
   "cell_type": "code",
   "execution_count": null,
   "id": "7ae28823-16e0-4ef3-9a0e-173110138df3",
   "metadata": {},
   "outputs": [],
   "source": [
    "fappend = open(\"append_mode.txt\", 'a')"
   ]
  },
  {
   "cell_type": "markdown",
   "id": "f7830196-fe9d-44c2-969a-02cf60fdcbfb",
   "metadata": {},
   "source": [
    "### ord(c)\n",
    "- 문자의 아스키 코드 값을 돌려주는 함수"
   ]
  },
  {
   "cell_type": "code",
   "execution_count": 54,
   "id": "4e1d1e6d-11ed-4d2a-9845-e124bf609fbd",
   "metadata": {
    "tags": []
   },
   "outputs": [
    {
     "data": {
      "text/plain": [
       "97"
      ]
     },
     "execution_count": 54,
     "metadata": {},
     "output_type": "execute_result"
    }
   ],
   "source": [
    "ord('a')"
   ]
  },
  {
   "cell_type": "code",
   "execution_count": 55,
   "id": "6aa2c0aa-18a9-4c17-9e1f-7ac1485c0cbf",
   "metadata": {
    "tags": []
   },
   "outputs": [
    {
     "data": {
      "text/plain": [
       "48"
      ]
     },
     "execution_count": 55,
     "metadata": {},
     "output_type": "execute_result"
    }
   ],
   "source": [
    "ord('0')"
   ]
  },
  {
   "cell_type": "markdown",
   "id": "ba163f0e-5794-424b-85b6-6eb1d9357878",
   "metadata": {},
   "source": [
    "### pow\n",
    "- pow(x,y)는 x의 y제곱한 결괏값을 돌려주는 함수"
   ]
  },
  {
   "cell_type": "code",
   "execution_count": 56,
   "id": "285a29f9-2ade-44ec-884e-4ff2a2cd4fa7",
   "metadata": {
    "tags": []
   },
   "outputs": [
    {
     "data": {
      "text/plain": [
       "16"
      ]
     },
     "execution_count": 56,
     "metadata": {},
     "output_type": "execute_result"
    }
   ],
   "source": [
    "pow(2,4)"
   ]
  },
  {
   "cell_type": "code",
   "execution_count": 57,
   "id": "622bd582-e285-403a-aa7d-e730bd103117",
   "metadata": {
    "tags": []
   },
   "outputs": [
    {
     "data": {
      "text/plain": [
       "27"
      ]
     },
     "execution_count": 57,
     "metadata": {},
     "output_type": "execute_result"
    }
   ],
   "source": [
    "pow(3,3)"
   ]
  },
  {
   "cell_type": "markdown",
   "id": "dbcef090-1f4b-499a-b164-21e48317452c",
   "metadata": {},
   "source": [
    "### range([start,] stop [,step])\n",
    "- for문과 함께 자주 사용\n",
    "- 입력받은 숫자에 해당하는 범위 값을 반복 가능한 객체로 만들어 돌려줌"
   ]
  },
  {
   "cell_type": "markdown",
   "id": "8e70fe02-570f-4ab9-accb-d53274476893",
   "metadata": {},
   "source": [
    "#### 인수가 하나일 경우"
   ]
  },
  {
   "cell_type": "code",
   "execution_count": 59,
   "id": "57c6e0dc-d3eb-4e91-b14c-1ac79d3c06b6",
   "metadata": {
    "tags": []
   },
   "outputs": [
    {
     "data": {
      "text/plain": [
       "[0, 1, 2, 3, 4]"
      ]
     },
     "execution_count": 59,
     "metadata": {},
     "output_type": "execute_result"
    }
   ],
   "source": [
    "list(range(5))"
   ]
  },
  {
   "cell_type": "markdown",
   "id": "f0bf5c5d-5fa2-4503-a757-7b48e043142b",
   "metadata": {},
   "source": [
    "#### 인수가 2개일 경우"
   ]
  },
  {
   "cell_type": "code",
   "execution_count": 60,
   "id": "52b5648c-178e-4358-b2af-847aa8f0eaef",
   "metadata": {
    "tags": []
   },
   "outputs": [
    {
     "data": {
      "text/plain": [
       "[5, 6, 7, 8, 9]"
      ]
     },
     "execution_count": 60,
     "metadata": {},
     "output_type": "execute_result"
    }
   ],
   "source": [
    "list(range(5,10))"
   ]
  },
  {
   "cell_type": "markdown",
   "id": "abdeccd3-bb85-4966-ad1f-19b761581b7d",
   "metadata": {},
   "source": [
    "#### 인수가 3개일 경우"
   ]
  },
  {
   "cell_type": "code",
   "execution_count": 61,
   "id": "54a2b332-01e0-4e3d-a928-4061cd0d90ea",
   "metadata": {
    "tags": []
   },
   "outputs": [
    {
     "data": {
      "text/plain": [
       "[1, 3, 5, 7, 9]"
      ]
     },
     "execution_count": 61,
     "metadata": {},
     "output_type": "execute_result"
    }
   ],
   "source": [
    "list(range(1,10,2))"
   ]
  },
  {
   "cell_type": "code",
   "execution_count": 62,
   "id": "ecbbd8bd-c526-4eaf-94ea-916fc5bd11c6",
   "metadata": {
    "tags": []
   },
   "outputs": [
    {
     "data": {
      "text/plain": [
       "[9, 8, 7, 6, 5, 4, 3, 2, 1, 0, -1, -2, -3, -4, -5, -6, -7, -8, -9]"
      ]
     },
     "execution_count": 62,
     "metadata": {},
     "output_type": "execute_result"
    }
   ],
   "source": [
    "list(range(9,-10,-1))"
   ]
  },
  {
   "cell_type": "markdown",
   "id": "c9037902-3408-4781-af8f-fbbfe04be643",
   "metadata": {},
   "source": [
    "### round(number[,ndigits])\n",
    "- 숫자를 입력받아 반올림해주는 함수\n",
    "- round 함수의 두 번째 매개변수는 반올림하여 표시하고 싶은 소수점의 자릿수(ndigits)"
   ]
  },
  {
   "cell_type": "code",
   "execution_count": 63,
   "id": "13e0a293-0ff1-4faf-b937-0c78c22727fa",
   "metadata": {
    "tags": []
   },
   "outputs": [
    {
     "data": {
      "text/plain": [
       "5"
      ]
     },
     "execution_count": 63,
     "metadata": {},
     "output_type": "execute_result"
    }
   ],
   "source": [
    "round(4.6)"
   ]
  },
  {
   "cell_type": "code",
   "execution_count": 64,
   "id": "6c3c9179-9128-48e6-824b-9956330928fb",
   "metadata": {
    "tags": []
   },
   "outputs": [
    {
     "data": {
      "text/plain": [
       "4"
      ]
     },
     "execution_count": 64,
     "metadata": {},
     "output_type": "execute_result"
    }
   ],
   "source": [
    "round(4.2)"
   ]
  },
  {
   "cell_type": "code",
   "execution_count": 65,
   "id": "a467fe4a-b5e7-48b9-bb05-aebe1496478c",
   "metadata": {
    "tags": []
   },
   "outputs": [
    {
     "data": {
      "text/plain": [
       "5.68"
      ]
     },
     "execution_count": 65,
     "metadata": {},
     "output_type": "execute_result"
    }
   ],
   "source": [
    "round(5.678,2)"
   ]
  },
  {
   "cell_type": "markdown",
   "id": "08b250a3-a6d8-47a6-bab1-3aecceaa7edc",
   "metadata": {},
   "source": [
    "### sorted(iterable)\n",
    "- 입력값을 정렬한 후 그 결과를 리스트로 돌려주는 함수"
   ]
  },
  {
   "cell_type": "code",
   "execution_count": 70,
   "id": "5803e513-4297-47f2-bd0f-9896e2da8408",
   "metadata": {
    "tags": []
   },
   "outputs": [
    {
     "data": {
      "text/plain": [
       "[1, 2, 3]"
      ]
     },
     "execution_count": 70,
     "metadata": {},
     "output_type": "execute_result"
    }
   ],
   "source": [
    "sorted([3,1,2])"
   ]
  },
  {
   "cell_type": "code",
   "execution_count": 71,
   "id": "dfb6301a-f84c-4682-9813-aa3710494d7e",
   "metadata": {
    "tags": []
   },
   "outputs": [
    {
     "data": {
      "text/plain": [
       "['a', 'b', 'c']"
      ]
     },
     "execution_count": 71,
     "metadata": {},
     "output_type": "execute_result"
    }
   ],
   "source": [
    "sorted(['a','c','b'])"
   ]
  },
  {
   "cell_type": "code",
   "execution_count": 72,
   "id": "92cd7713-b08a-42b5-b4b1-c66524d95e5f",
   "metadata": {
    "tags": []
   },
   "outputs": [
    {
     "data": {
      "text/plain": [
       "['e', 'o', 'r', 'z']"
      ]
     },
     "execution_count": 72,
     "metadata": {},
     "output_type": "execute_result"
    }
   ],
   "source": [
    "sorted(\"zero\")"
   ]
  },
  {
   "cell_type": "code",
   "execution_count": 75,
   "id": "0b9bbaaf-f71a-4cea-a01f-f480dc004f14",
   "metadata": {
    "tags": []
   },
   "outputs": [
    {
     "data": {
      "text/plain": [
       "[1, 2, 3]"
      ]
     },
     "execution_count": 75,
     "metadata": {},
     "output_type": "execute_result"
    }
   ],
   "source": [
    "sorted((3,2,1))"
   ]
  },
  {
   "cell_type": "markdown",
   "id": "efc65ad1-293d-402a-9f69-120e75336b9f",
   "metadata": {},
   "source": [
    "### str(object)\n",
    "- 문자열 형태로 객체를 변환하여 돌려주는 함수"
   ]
  },
  {
   "cell_type": "code",
   "execution_count": 68,
   "id": "808e4f0a-bffe-4c80-8a46-97f4c4117c30",
   "metadata": {
    "tags": []
   },
   "outputs": [
    {
     "data": {
      "text/plain": [
       "'3'"
      ]
     },
     "execution_count": 68,
     "metadata": {},
     "output_type": "execute_result"
    }
   ],
   "source": [
    "str(3)"
   ]
  },
  {
   "cell_type": "code",
   "execution_count": 69,
   "id": "76c2512d-4659-4b6f-a1b7-c5a7a656daba",
   "metadata": {
    "tags": []
   },
   "outputs": [
    {
     "data": {
      "text/plain": [
       "'hi'"
      ]
     },
     "execution_count": 69,
     "metadata": {},
     "output_type": "execute_result"
    }
   ],
   "source": [
    "str('hi')"
   ]
  },
  {
   "cell_type": "code",
   "execution_count": 76,
   "id": "7a015ec5-0ea8-488e-b914-f529d9a6c3f9",
   "metadata": {
    "tags": []
   },
   "outputs": [
    {
     "data": {
      "text/plain": [
       "'HI'"
      ]
     },
     "execution_count": 76,
     "metadata": {},
     "output_type": "execute_result"
    }
   ],
   "source": [
    "str('hi'.upper())"
   ]
  },
  {
   "cell_type": "markdown",
   "id": "07bdfde9-f8ae-452b-90b4-fd65823114d7",
   "metadata": {},
   "source": [
    "### sum(iterable)\n",
    "- 입력받은 리스트나 튜플의 모든 요소의 합을 돌려주는 함수"
   ]
  },
  {
   "cell_type": "code",
   "execution_count": 77,
   "id": "d2527e31-e96f-4b40-b9fc-a9fa923de729",
   "metadata": {
    "tags": []
   },
   "outputs": [
    {
     "data": {
      "text/plain": [
       "6"
      ]
     },
     "execution_count": 77,
     "metadata": {},
     "output_type": "execute_result"
    }
   ],
   "source": [
    "sum([1,2,3])"
   ]
  },
  {
   "cell_type": "code",
   "execution_count": 78,
   "id": "d48d9762-b99f-4dee-ae27-0ee79336b7ab",
   "metadata": {
    "tags": []
   },
   "outputs": [
    {
     "data": {
      "text/plain": [
       "15"
      ]
     },
     "execution_count": 78,
     "metadata": {},
     "output_type": "execute_result"
    }
   ],
   "source": [
    "sum([4,5,6])"
   ]
  },
  {
   "cell_type": "markdown",
   "id": "6ef31057-c8fd-44b0-896f-d8ea949027f4",
   "metadata": {},
   "source": [
    "### tuple\n",
    "- 반복 가능한 자료형을 입력받아 튜플 형태로 바꾸어 돌려주는 함수\n",
    "- 만약 튜플이 입력을 들어오면 그대로 돌려줌"
   ]
  },
  {
   "cell_type": "code",
   "execution_count": 79,
   "id": "c9c0fbe6-8b47-4c50-8149-d320296b7dce",
   "metadata": {
    "tags": []
   },
   "outputs": [
    {
     "data": {
      "text/plain": [
       "('a', 'b', 'c')"
      ]
     },
     "execution_count": 79,
     "metadata": {},
     "output_type": "execute_result"
    }
   ],
   "source": [
    "tuple(\"abc\")"
   ]
  },
  {
   "cell_type": "code",
   "execution_count": 80,
   "id": "57953b7e-9f06-4338-b607-ba03930fd322",
   "metadata": {
    "tags": []
   },
   "outputs": [
    {
     "data": {
      "text/plain": [
       "(1, 2, 3)"
      ]
     },
     "execution_count": 80,
     "metadata": {},
     "output_type": "execute_result"
    }
   ],
   "source": [
    "tuple([1,2,3])"
   ]
  },
  {
   "cell_type": "code",
   "execution_count": 81,
   "id": "f11f2e04-4ebc-4f4a-8898-6b4ed909db6a",
   "metadata": {
    "tags": []
   },
   "outputs": [
    {
     "data": {
      "text/plain": [
       "(1, 2, 3)"
      ]
     },
     "execution_count": 81,
     "metadata": {},
     "output_type": "execute_result"
    }
   ],
   "source": [
    "tuple((1,2,3))"
   ]
  },
  {
   "cell_type": "markdown",
   "id": "df542ef3-76e6-4f48-8284-927700dd3582",
   "metadata": {},
   "source": [
    "### type(object)\n",
    "- 입력값의 자료형이 무엇인지 알려주는 함수"
   ]
  },
  {
   "cell_type": "code",
   "execution_count": 82,
   "id": "45ec036c-527f-4463-85c3-249e2a1caee3",
   "metadata": {
    "tags": []
   },
   "outputs": [
    {
     "data": {
      "text/plain": [
       "str"
      ]
     },
     "execution_count": 82,
     "metadata": {},
     "output_type": "execute_result"
    }
   ],
   "source": [
    "type(\"abc\")"
   ]
  },
  {
   "cell_type": "code",
   "execution_count": 83,
   "id": "ac314e82-a075-43bd-91ba-7f2ae23fe5e1",
   "metadata": {
    "tags": []
   },
   "outputs": [
    {
     "data": {
      "text/plain": [
       "list"
      ]
     },
     "execution_count": 83,
     "metadata": {},
     "output_type": "execute_result"
    }
   ],
   "source": [
    "type([])"
   ]
  },
  {
   "cell_type": "code",
   "execution_count": 84,
   "id": "5018bfc3-ca91-4d64-aa00-f9dd0e2bc72e",
   "metadata": {
    "tags": []
   },
   "outputs": [
    {
     "data": {
      "text/plain": [
       "_io.TextIOWrapper"
      ]
     },
     "execution_count": 84,
     "metadata": {},
     "output_type": "execute_result"
    }
   ],
   "source": [
    "type(open(\"test\", 'w'))"
   ]
  },
  {
   "cell_type": "markdown",
   "id": "2db4ee5d-f38f-46a4-8fd9-2f56e1853a72",
   "metadata": {},
   "source": [
    "### zip(*iterable)\n",
    "- 동일한 개수로 이루어진 자료형을 묶어 주는 역할을 하는 함수\n",
    "- *iterable : 반복 가능(iter-able)한 자료형 여러 개를 입력할 수 있다는 의미"
   ]
  },
  {
   "cell_type": "code",
   "execution_count": 85,
   "id": "c168d01f-1f25-44d5-ab65-913afe8e2527",
   "metadata": {
    "tags": []
   },
   "outputs": [
    {
     "data": {
      "text/plain": [
       "[(1, 4), (2, 5), (3, 6)]"
      ]
     },
     "execution_count": 85,
     "metadata": {},
     "output_type": "execute_result"
    }
   ],
   "source": [
    "list(zip([1,2,3], [4,5,6]))"
   ]
  },
  {
   "cell_type": "code",
   "execution_count": 86,
   "id": "36103ec8-3fcd-4596-a4a5-6ada568776d6",
   "metadata": {
    "tags": []
   },
   "outputs": [
    {
     "data": {
      "text/plain": [
       "[(1, 4, 7), (2, 5, 8), (3, 6, 9)]"
      ]
     },
     "execution_count": 86,
     "metadata": {},
     "output_type": "execute_result"
    }
   ],
   "source": [
    "list(zip([1,2,3],[4,5,6],[7,8,9]))"
   ]
  },
  {
   "cell_type": "code",
   "execution_count": 87,
   "id": "2263c51e-146a-4d44-a87e-530a3a4f7dd2",
   "metadata": {
    "tags": []
   },
   "outputs": [
    {
     "data": {
      "text/plain": [
       "[('a', 'd'), ('b', 'e'), ('c', 'f')]"
      ]
     },
     "execution_count": 87,
     "metadata": {},
     "output_type": "execute_result"
    }
   ],
   "source": [
    "list(zip(\"abc\", \"def\"))"
   ]
  },
  {
   "cell_type": "markdown",
   "id": "bab1eb33-0a3b-479c-a527-cd1f428a6104",
   "metadata": {
    "tags": []
   },
   "source": [
    "## 5-6 라이브러리"
   ]
  },
  {
   "cell_type": "markdown",
   "id": "22922b28-3cca-4af0-8be7-764683d90923",
   "metadata": {
    "tags": []
   },
   "source": [
    "### sys\n",
    "- 파이썬 인터프리터가 제공하는 변수와 함수를 직접 제어할 수 있게 해주는 모듈"
   ]
  },
  {
   "cell_type": "markdown",
   "id": "eddadff5-3646-4a75-b868-149038f32876",
   "metadata": {
    "tags": []
   },
   "source": [
    "#### 명령 행에서 인수 전달 - sys.argv"
   ]
  },
  {
   "cell_type": "code",
   "execution_count": null,
   "id": "09109734-aa6a-494b-9b22-1d5d982129bb",
   "metadata": {},
   "outputs": [],
   "source": [
    ">> python test.py abc pey guido"
   ]
  },
  {
   "cell_type": "markdown",
   "id": "3df3eb8e-8397-468f-b3d3-d5013913471c",
   "metadata": {},
   "source": [
    "명령 프롬프트 창에서 위과 같이 test.py 뒤에 또 다른 값을 함께 넣어주면 sys.argv 리스트에 그 값 추가"
   ]
  },
  {
   "cell_type": "markdown",
   "id": "2fe15748-a284-407e-9442-5e76ef98161e",
   "metadata": {},
   "source": [
    "- 예제<br>\n",
    "argv_test.py 파일은 C:/Users/user/Mymod 디렉터리에 저장했다고 가정"
   ]
  },
  {
   "cell_type": "code",
   "execution_count": null,
   "id": "50fd1a3e-b16b-4082-ab26-a8bd240c3939",
   "metadata": {},
   "outputs": [],
   "source": [
    "#argv_test.py\n",
    "import sys\n",
    "print(sys.argv)"
   ]
  },
  {
   "cell_type": "markdown",
   "id": "66bc29ae-5c7d-4eb1-ba08-852d6999ae8c",
   "metadata": {},
   "source": [
    "명령 프롬프트 창에서 Mymod 디렉토리로 들어간 뒤 다음과 같이 실행"
   ]
  },
  {
   "cell_type": "code",
   "execution_count": null,
   "id": "1fa2ef00-927e-4f6c-a3c5-f3ff45f965f0",
   "metadata": {},
   "outputs": [],
   "source": [
    "C:/Users/user/Mymod> python argv_test.py you need python\n",
    "['argv_test.py', 'you', 'need', 'python']"
   ]
  },
  {
   "cell_type": "markdown",
   "id": "812e20c6-0c76-4352-b31f-2ad705de6449",
   "metadata": {},
   "source": [
    "python 명령어 뒤의 모든 것들이 공백을 기준으로 나뉘어서 sys.argv 리스트의 요소가 된다."
   ]
  },
  {
   "cell_type": "markdown",
   "id": "dfb35570-be4b-489d-9fb4-7d163ee90832",
   "metadata": {},
   "source": [
    "#### 강제로 스크립트 종료 - sys.exit"
   ]
  },
  {
   "cell_type": "code",
   "execution_count": null,
   "id": "7247c55e-8d71-4b5e-a206-77578390d396",
   "metadata": {},
   "outputs": [],
   "source": [
    ">>> sys.exit()"
   ]
  },
  {
   "cell_type": "markdown",
   "id": "34afe25d-06e2-4026-9711-79e295251952",
   "metadata": {},
   "source": [
    "#### 자신이 만든 모듈 불러와 사용 - sys.path\n",
    "- sys.path는 파이썬 모듈들이 저장되어 있는 위치를 나타냄\n",
    "- 즉, 이 위치에 있는 파이썬 모듈은 경로에 상관없이 어디에서나 불러올 수 있다."
   ]
  },
  {
   "cell_type": "code",
   "execution_count": null,
   "id": "e042fe1e-1ca4-4029-92d4-b36b5f3ee0e9",
   "metadata": {},
   "outputs": [],
   "source": [
    ">>> import sys\n",
    ">>> sys.path\n",
    "['', 'C:\\\\Users\\\\user\\\\AppData\\\\Local\\\\Programs\\\\Python\\\\Python310\\\\python310.zip', 'C:\\\\Users\\\\user\\\\AppData\\\\Local\\\\Programs\\\\Python\\\\Python310\\\\DLLs', 'C:\\\\Users\\\\user\\\\AppData\\\\Local\\\\Programs\\\\Python\\\\Python310\\\\lib', 'C:\\\\Users\\\\user\\\\AppData\\\\Local\\\\Programs\\\\Python\\\\Python310', 'C:\\\\Users\\\\user\\\\AppData\\\\Local\\\\Programs\\\\Python\\\\Python310\\\\lib\\\\site-packages', 'C:\\\\Users\\\\user\\\\AppData\\\\Local\\\\Programs\\\\Python\\\\Python310\\\\lib\\\\site-packages\\\\win32', 'C:\\\\Users\\\\user\\\\AppData\\\\Local\\\\Programs\\\\Python\\\\Python310\\\\lib\\\\site-packages\\\\win32\\\\lib', 'C:\\\\Users\\\\user\\\\AppData\\\\Local\\\\Programs\\\\Python\\\\Python310\\\\lib\\\\site-packages\\\\Pythonwin']"
   ]
  },
  {
   "cell_type": "markdown",
   "id": "c356f28c-c21a-4695-9fa8-a33f703c1324",
   "metadata": {},
   "source": [
    "위 예에서 ''는 현재 디렉터리를 말한다."
   ]
  },
  {
   "cell_type": "code",
   "execution_count": null,
   "id": "6c22bb04-2f96-4a10-9741-e7a5e1e9cbd8",
   "metadata": {},
   "outputs": [],
   "source": [
    "#path_append.py\n",
    "import sys\n",
    "sys.path.append(\"C:/Users/user/Mymod\")"
   ]
  },
  {
   "cell_type": "markdown",
   "id": "af84d0c7-567f-409e-b66d-e3d9a37bbb0c",
   "metadata": {},
   "source": [
    "위와 같이 파이썬 프로그램 파일에서 ***sys.path.append***를 사용해 경로 이름을 추가할 수 있다. \n",
    "<br>이렇게 하고 난 후에는 C:/Users/user/Mymod 디렉터리에 있는 파이썬 모듈을 불러와서 사용 가능"
   ]
  },
  {
   "cell_type": "markdown",
   "id": "fbc8d14a-90ab-4f09-a92d-222b183da8b6",
   "metadata": {
    "tags": []
   },
   "source": [
    "### pickle\n",
    "- 객체의 형태를 그대로 유지하면서 파일에 저장하고 불러올 수 있게 하는 모듈"
   ]
  },
  {
   "cell_type": "markdown",
   "id": "2f7c9ec8-a006-49f5-85c6-3805d1e0ce84",
   "metadata": {},
   "source": [
    "- pickle 모듈의 dump 함수를 사용해 딕셔너리 객체인 data를 그대로 파일에 저장하는 방법"
   ]
  },
  {
   "cell_type": "code",
   "execution_count": 8,
   "id": "3e126ad1-1be8-4892-8c80-9de386296ce2",
   "metadata": {
    "tags": []
   },
   "outputs": [],
   "source": [
    "import pickle\n",
    "f = open(\"test.txt\", 'wb')\n",
    "data = {1:'python', 2: 'you need'}\n",
    "pickle.dump(data, f)\n",
    "f.close()"
   ]
  },
  {
   "cell_type": "markdown",
   "id": "734a9672-77d8-4400-8edd-a26b02617d7a",
   "metadata": {},
   "source": [
    "- pickle.dump로 저장한 파일을 pickle.load를 사용해서 원래 있던 딕셔너리 객체(data) 상태 그대로 불러오기"
   ]
  },
  {
   "cell_type": "code",
   "execution_count": null,
   "id": "4b5d616b-e5be-4629-914d-df3e96369c19",
   "metadata": {
    "tags": []
   },
   "outputs": [
    {
     "name": "stdout",
     "output_type": "stream",
     "text": [
      "[2, 4, 6, 8, 10, 12, 14, 16, 18, 20, 22, 24, 26, 28, 30, 32, 34, 36, 38, 40, 42, 44, 46, 48, 50, 52, 54, 56, 58, 60, 62, 64, 66, 68, 70, 72, 74, 76, 78, 80, 82, 84, 86, 88, 90, 92, 94, 96, 98, 100]\n"
     ]
    }
   ],
   "source": [
    "import pickle\n",
    "f = open(\"test.txt\", 'rb')\n",
    "data = pickle.load(f)\n",
    "print(data)"
   ]
  },
  {
   "cell_type": "markdown",
   "id": "f8e8f113-88e6-4158-9115-47453ab4697d",
   "metadata": {},
   "source": [
    "위 예에서는 딕셔너리 객체를 사용했지만 어떤 자료형이든 저장하고 불러오기 가능"
   ]
  },
  {
   "cell_type": "code",
   "execution_count": null,
   "id": "795852ef-11cd-4173-9028-a21ba23a2167",
   "metadata": {},
   "outputs": [],
   "source": [
    "# 추가"
   ]
  },
  {
   "cell_type": "code",
   "execution_count": 2,
   "id": "03db438a-964e-46fd-8dcb-69df348a8d75",
   "metadata": {
    "tags": []
   },
   "outputs": [],
   "source": [
    "my_list = [\"a\", \"b\", \"c\"]\n",
    "with open(\"data.pickle\", \"wb\") as f:\n",
    "    pickle.dump(my_list, f)"
   ]
  },
  {
   "cell_type": "code",
   "execution_count": null,
   "id": "dd6bf660-5a1d-41d9-92cc-9cd3dbed731f",
   "metadata": {},
   "outputs": [],
   "source": [
    "import pickle \n",
    "with open(\"data2.pickle\", \"wb\") as fw:\n",
    "    pickle.dump(b, fw)\n",
    "\n",
    "with open('data2.pickle', 'rb') as fr:\n",
    "    df = pickle.load(fr)\n",
    "print(df) "
   ]
  },
  {
   "cell_type": "markdown",
   "id": "4bf58913-aff9-4226-9d45-01fa725fcd17",
   "metadata": {
    "tags": []
   },
   "source": [
    "### OS\n",
    "- OS모듈은 환경 변수나 디렉터리, 파일 등의 OS 자원을 제어할 수 있게 해주는 모듈"
   ]
  },
  {
   "cell_type": "markdown",
   "id": "6c5016dd-868f-48e4-8d57-9e368c16882b",
   "metadata": {},
   "source": [
    "#### 내 시스템의 환경 변수 값을 알고 싶을 때 - os.environ\n",
    "- 시스템은 제각기 다른 환경 변수 값을 가지고 있는데, ***os.environ***은 현재 시스템의 환경 변수 값을 보여줌."
   ]
  },
  {
   "cell_type": "code",
   "execution_count": 14,
   "id": "1e4e2301-e4c8-4f6a-9bcc-2fd0b56cc9df",
   "metadata": {
    "tags": []
   },
   "outputs": [],
   "source": [
    "import os"
   ]
  },
  {
   "cell_type": "code",
   "execution_count": 15,
   "id": "6e76dfd4-59d2-40bb-9d9f-fc4efbed9cf8",
   "metadata": {
    "tags": []
   },
   "outputs": [
    {
     "data": {
      "text/plain": [
       "environ{'ALLUSERSPROFILE': 'C:\\\\ProgramData',\n",
       "        'APPDATA': 'C:\\\\Users\\\\user\\\\AppData\\\\Roaming',\n",
       "        'COMMONPROGRAMFILES': 'C:\\\\Program Files\\\\Common Files',\n",
       "        'COMMONPROGRAMFILES(X86)': 'C:\\\\Program Files (x86)\\\\Common Files',\n",
       "        'COMMONPROGRAMW6432': 'C:\\\\Program Files\\\\Common Files',\n",
       "        'COMPUTERNAME': 'DESKTOP-2PGRMF4',\n",
       "        'COMSPEC': 'C:\\\\windows\\\\system32\\\\cmd.exe',\n",
       "        'DRIVERDATA': 'C:\\\\Windows\\\\System32\\\\Drivers\\\\DriverData',\n",
       "        'FPS_BROWSER_APP_PROFILE_STRING': 'Internet Explorer',\n",
       "        'FPS_BROWSER_USER_PROFILE_STRING': 'Default',\n",
       "        'HOMEDRIVE': 'C:',\n",
       "        'HOMEPATH': '\\\\Users\\\\user',\n",
       "        'JAVA_HOME': 'C:\\\\Program Files\\\\Amazon Corretto\\\\jdk11.0.18_10',\n",
       "        'LOCALAPPDATA': 'C:\\\\Users\\\\user\\\\AppData\\\\Local',\n",
       "        'LOGONSERVER': '\\\\\\\\DESKTOP-2PGRMF4',\n",
       "        'NUMBER_OF_PROCESSORS': '12',\n",
       "        'ONEDRIVE': 'C:\\\\Users\\\\user\\\\OneDrive',\n",
       "        'OS': 'Windows_NT',\n",
       "        'PATH': 'C:\\\\Program Files\\\\Amazon Corretto\\\\jdk11.0.18_10\\\\bin;C:\\\\windows\\\\system32;C:\\\\windows;C:\\\\windows\\\\System32\\\\Wbem;C:\\\\windows\\\\System32\\\\WindowsPowerShell\\\\v1.0\\\\;C:\\\\windows\\\\System32\\\\OpenSSH\\\\;C:\\\\Users\\\\user\\\\AppData\\\\Local\\\\Programs\\\\Python\\\\Python310\\\\Scripts\\\\;C:\\\\Users\\\\user\\\\AppData\\\\Local\\\\Programs\\\\Python\\\\Python310\\\\;C:\\\\Users\\\\user\\\\AppData\\\\Local\\\\Microsoft\\\\WindowsApps;',\n",
       "        'PATHEXT': '.COM;.EXE;.BAT;.CMD;.VBS;.VBE;.JS;.JSE;.WSF;.WSH;.MSC',\n",
       "        'PROCESSOR_ARCHITECTURE': 'AMD64',\n",
       "        'PROCESSOR_IDENTIFIER': 'Intel64 Family 6 Model 167 Stepping 1, GenuineIntel',\n",
       "        'PROCESSOR_LEVEL': '6',\n",
       "        'PROCESSOR_REVISION': 'a701',\n",
       "        'PROGRAMDATA': 'C:\\\\ProgramData',\n",
       "        'PROGRAMFILES': 'C:\\\\Program Files',\n",
       "        'PROGRAMFILES(X86)': 'C:\\\\Program Files (x86)',\n",
       "        'PROGRAMW6432': 'C:\\\\Program Files',\n",
       "        'PROMPT': '$P$G',\n",
       "        'PSMODULEPATH': 'C:\\\\Program Files\\\\WindowsPowerShell\\\\Modules;C:\\\\windows\\\\system32\\\\WindowsPowerShell\\\\v1.0\\\\Modules',\n",
       "        'PUBLIC': 'C:\\\\Users\\\\Public',\n",
       "        'SESSIONNAME': 'Console',\n",
       "        'SYSTEMDRIVE': 'C:',\n",
       "        'SYSTEMROOT': 'C:\\\\windows',\n",
       "        'TEMP': 'C:\\\\Users\\\\user\\\\AppData\\\\Local\\\\Temp',\n",
       "        'TMP': 'C:\\\\Users\\\\user\\\\AppData\\\\Local\\\\Temp',\n",
       "        'USERDOMAIN': 'DESKTOP-2PGRMF4',\n",
       "        'USERDOMAIN_ROAMINGPROFILE': 'DESKTOP-2PGRMF4',\n",
       "        'USERNAME': 'user',\n",
       "        'USERPROFILE': 'C:\\\\Users\\\\user',\n",
       "        'WINDIR': 'C:\\\\windows',\n",
       "        'ZES_ENABLE_SYSMAN': '1',\n",
       "        'PYDEVD_USE_FRAME_EVAL': 'NO',\n",
       "        'JPY_SESSION_NAME': 'C:\\\\Users\\\\user\\\\New\\\\0309review.ipynb',\n",
       "        'JPY_INTERRUPT_EVENT': '3216',\n",
       "        'IPY_INTERRUPT_EVENT': '3216',\n",
       "        'JPY_PARENT_PID': '3236',\n",
       "        'TERM': 'xterm-color',\n",
       "        'CLICOLOR': '1',\n",
       "        'FORCE_COLOR': '1',\n",
       "        'CLICOLOR_FORCE': '1',\n",
       "        'PAGER': 'cat',\n",
       "        'GIT_PAGER': 'cat',\n",
       "        'MPLBACKEND': 'module://matplotlib_inline.backend_inline'}"
      ]
     },
     "execution_count": 15,
     "metadata": {},
     "output_type": "execute_result"
    }
   ],
   "source": [
    "os.environ"
   ]
  },
  {
   "cell_type": "markdown",
   "id": "06e81722-2255-41cf-84ce-47c868db86e6",
   "metadata": {},
   "source": [
    "위 결괏값은 필자의 시스템 정보<br>\n",
    "***os.environ***은 환경 변수에 대한 정보를 딕셔너리 객체로 돌려줌"
   ]
  },
  {
   "cell_type": "markdown",
   "id": "e0adef27-eb1d-402a-9cd0-d4401c1955dd",
   "metadata": {},
   "source": [
    "돌려받은 객체가 딕셔너리이기 때문에 다음과 같이 호출 가능 <br>\n",
    "- 필자 시스템의 PATH 환경 변수 내용"
   ]
  },
  {
   "cell_type": "code",
   "execution_count": 17,
   "id": "e1198bef-6455-4d09-88e6-3b32e9192f84",
   "metadata": {
    "tags": []
   },
   "outputs": [
    {
     "data": {
      "text/plain": [
       "'C:\\\\Program Files\\\\Amazon Corretto\\\\jdk11.0.18_10\\\\bin;C:\\\\windows\\\\system32;C:\\\\windows;C:\\\\windows\\\\System32\\\\Wbem;C:\\\\windows\\\\System32\\\\WindowsPowerShell\\\\v1.0\\\\;C:\\\\windows\\\\System32\\\\OpenSSH\\\\;C:\\\\Users\\\\user\\\\AppData\\\\Local\\\\Programs\\\\Python\\\\Python310\\\\Scripts\\\\;C:\\\\Users\\\\user\\\\AppData\\\\Local\\\\Programs\\\\Python\\\\Python310\\\\;C:\\\\Users\\\\user\\\\AppData\\\\Local\\\\Microsoft\\\\WindowsApps;'"
      ]
     },
     "execution_count": 17,
     "metadata": {},
     "output_type": "execute_result"
    }
   ],
   "source": [
    "os.environ['PATH']"
   ]
  },
  {
   "cell_type": "markdown",
   "id": "9bd94b24-bd3e-4379-b437-246d7488c094",
   "metadata": {},
   "source": [
    "#### 현재 디렉터리 위치 변경 - os.chdir"
   ]
  },
  {
   "cell_type": "code",
   "execution_count": 18,
   "id": "1f73f047-7d8e-491f-ac93-e7b917e2559e",
   "metadata": {
    "tags": []
   },
   "outputs": [],
   "source": [
    "os.chdir(\"C:/WINDOWS\")"
   ]
  },
  {
   "cell_type": "markdown",
   "id": "db16582b-88aa-4573-932e-74920165f9e7",
   "metadata": {},
   "source": [
    "#### 현재 디렉터리 위치 돌려받기 - os.getcwd"
   ]
  },
  {
   "cell_type": "code",
   "execution_count": 19,
   "id": "7dd68a9e-981f-4e96-b43f-66c7c116283e",
   "metadata": {
    "tags": []
   },
   "outputs": [
    {
     "data": {
      "text/plain": [
       "'C:\\\\WINDOWS'"
      ]
     },
     "execution_count": 19,
     "metadata": {},
     "output_type": "execute_result"
    }
   ],
   "source": [
    "os.getcwd() "
   ]
  },
  {
   "cell_type": "markdown",
   "id": "c9dadf94-29df-4c12-87da-4739d527e21a",
   "metadata": {},
   "source": [
    "#### 시스템 명령어 호출 - os.system\n",
    "- 시스템 자체의 프로그램이나 기타 명령어를 파이썬에서 호출할 수도 있다.\n",
    "- os.system(\"명령어\")"
   ]
  },
  {
   "cell_type": "markdown",
   "id": "d3d8c0d8-f486-497b-97f6-faab88d0c58e",
   "metadata": {},
   "source": [
    "- 현재 디렉터리에서 시스템 명령어 dir 실행하기"
   ]
  },
  {
   "cell_type": "code",
   "execution_count": 20,
   "id": "a0b0ce3a-949b-42e0-8c2d-1373a394e1f6",
   "metadata": {
    "tags": []
   },
   "outputs": [
    {
     "data": {
      "text/plain": [
       "0"
      ]
     },
     "execution_count": 20,
     "metadata": {},
     "output_type": "execute_result"
    }
   ],
   "source": [
    "os.system(\"dir\")"
   ]
  },
  {
   "cell_type": "markdown",
   "id": "1dc02b9d-ecd2-4f45-ae16-8bbf644d3e38",
   "metadata": {},
   "source": [
    "#### 실행한 시스템 명령어의 결괏값 돌려받기 - os.popen\n",
    "- os.popen은 시스템 명령어를 실행한 결괏값을 읽기 모드 형태의 파일 객체로 돌려줌"
   ]
  },
  {
   "cell_type": "code",
   "execution_count": 21,
   "id": "7ac36000-7e34-4a93-b4b5-723bfb8e509b",
   "metadata": {
    "tags": []
   },
   "outputs": [],
   "source": [
    "f = os.popen(\"dir\")"
   ]
  },
  {
   "cell_type": "markdown",
   "id": "80a21b04-ceed-4e34-b9ef-76defac4f32f",
   "metadata": {},
   "source": [
    "- 읽어 들인 파일 객체의 내용 보기"
   ]
  },
  {
   "cell_type": "code",
   "execution_count": null,
   "id": "93053707-c93b-490c-8747-dcb8448a98a1",
   "metadata": {},
   "outputs": [],
   "source": [
    "print(f.read())"
   ]
  },
  {
   "cell_type": "markdown",
   "id": "8e0fd62a-ccb7-4428-9cf8-1706ec6be03e",
   "metadata": {},
   "source": [
    "#### 기타 유용한 os 관련 함수\n",
    "|함수|설명|\n",
    "|------|---|\n",
    "|os.mkdir(디렉터리)|디렉터리 생성|\n",
    "|os.rmdir(디렉터리)|디렉터리 삭제. 단 디렉터리가 비어있어야 삭제 가능|\n",
    "|os.unlink(파일 이름)|파일을 지운다|\n",
    "|os.rename(src,dst)|src라는 이름의 파일을 dst라는 이름으로 바꾼다.|\n",
    "\n"
   ]
  },
  {
   "cell_type": "markdown",
   "id": "04c23c37-9da5-4088-bab2-57269a3f075c",
   "metadata": {
    "tags": []
   },
   "source": [
    "### shutil\n",
    "- 파일을 복사해 주는 파이썬 모듈"
   ]
  },
  {
   "cell_type": "markdown",
   "id": "95e52b29-d2ee-4354-9776-3170099fa68f",
   "metadata": {},
   "source": [
    "***src라는 이름의 파일을 dst로 복사하기***\n",
    "- dst가 디렉터리 이름일 경우 : src라는 파일 이름으로 dst 디렉터리에 복사\n",
    "- 동일한 파일 이름이 있을 경우 : 덮어쓰기"
   ]
  },
  {
   "cell_type": "code",
   "execution_count": 10,
   "id": "75f98953-59b7-4343-92fe-279c4552b9d5",
   "metadata": {
    "tags": []
   },
   "outputs": [],
   "source": [
    "import shutil"
   ]
  },
  {
   "cell_type": "code",
   "execution_count": 12,
   "id": "dc4546e8-6e18-4ef2-9125-e55d429b7824",
   "metadata": {
    "tags": []
   },
   "outputs": [
    {
     "data": {
      "text/plain": [
       "'dst.txt'"
      ]
     },
     "execution_count": 12,
     "metadata": {},
     "output_type": "execute_result"
    }
   ],
   "source": [
    "shutil.copy(\"src.txt\", \"dst.txt\")"
   ]
  },
  {
   "cell_type": "markdown",
   "id": "f29d34aa-48ae-4bc1-bb84-0b2130e877ce",
   "metadata": {},
   "source": [
    "위 예를 실행하면 src.txt 파일과 동일한 내용의 파일이 dst.txt로 복사됨"
   ]
  },
  {
   "cell_type": "markdown",
   "id": "5734d044-e02a-47df-a14f-baad51e4aa76",
   "metadata": {},
   "source": [
    "### glob\n",
    "- 가끔 파일을 읽고 쓰는 기능이 있는 프로그램을 만들다 보면 특정 디렉터리에 있는 파일 이름 모두를 알아야 할 때가 있다. \n",
    "- 이럴 때 사용하는 모듈이 바로 glob"
   ]
  },
  {
   "cell_type": "markdown",
   "id": "5c305111-c22c-4bfb-b040-4a7489a48840",
   "metadata": {},
   "source": [
    "#### 디렉터리에 있는 파일들을 리스트로 만들기 - glob(pathname)\n",
    "- glob 모듈은 디렉터리 안의 파일들을 읽어서 돌려준다. *, ? 등 메타 문자를 써서 원하는 파일만 읽어 들일 수도 있다."
   ]
  },
  {
   "cell_type": "markdown",
   "id": "4e8d83f7-1a19-449f-8566-1387adc210a8",
   "metadata": {},
   "source": [
    "- C:/Users/user/test 디렉터리에 있는 파일 중 이름이 sys로 시작하는 파일을 모두 찾아서 읽어들이기"
   ]
  },
  {
   "cell_type": "code",
   "execution_count": 15,
   "id": "3b4d8dd0-56f5-419b-b5dd-b0ac354ebfc8",
   "metadata": {
    "tags": []
   },
   "outputs": [
    {
     "data": {
      "text/plain": [
       "['sys1.py', 'sys2.py']"
      ]
     },
     "execution_count": 15,
     "metadata": {},
     "output_type": "execute_result"
    }
   ],
   "source": [
    "import os\n",
    "os.chdir(\"C:/Users/user/test\")\n",
    "import glob\n",
    "glob.glob(\"sys*\")"
   ]
  },
  {
   "cell_type": "markdown",
   "id": "2d668ee6-d7e8-44e5-afee-76db7772c612",
   "metadata": {},
   "source": [
    "### tempfile\n",
    "- 파일을 임시로 만들어서 사용할 때 유용한 모듈\n",
    "- ***tempfile.mkstemp()*** : 중복되지 않는 임시 파일의 이름을 무작위로 만들어서 돌려줌 "
   ]
  },
  {
   "cell_type": "code",
   "execution_count": 4,
   "id": "4eff9ad4-b8ba-4947-82ac-994b8272b88d",
   "metadata": {
    "tags": []
   },
   "outputs": [
    {
     "data": {
      "text/plain": [
       "(3, 'C:\\\\Users\\\\user\\\\AppData\\\\Local\\\\Temp\\\\tmpodg2iu2y')"
      ]
     },
     "execution_count": 4,
     "metadata": {},
     "output_type": "execute_result"
    }
   ],
   "source": [
    "import tempfile\n",
    "filename = tempfile.mkstemp()\n",
    "filename"
   ]
  },
  {
   "cell_type": "markdown",
   "id": "baff1eb6-93d6-459e-94b1-3c12851536c3",
   "metadata": {},
   "source": [
    "#### tempfile.TemporaryFile()\n",
    "- 임시 저장 공간으로 사용할 파일 객체를 돌려줌\n",
    "- 이 파일은 기본적으로 바이너리 쓰기 모드(wb)를 가짐\n",
    "- f.close()가 호출되면 이 파일 객체는 자동으로 사라짐"
   ]
  },
  {
   "cell_type": "code",
   "execution_count": 17,
   "id": "7e454b87-4d8c-4b8b-8a54-6640f75f2d8c",
   "metadata": {
    "tags": []
   },
   "outputs": [],
   "source": [
    "import tempfile\n",
    "f = tempfile.TemporaryFile()\n",
    "f.close() # 생성한 임시 파일 자동 삭제"
   ]
  },
  {
   "cell_type": "markdown",
   "id": "4d1e09ad-105d-46fd-86c0-c7dc9eee9fed",
   "metadata": {},
   "source": [
    "### time\n",
    "- 시간과 관련된 time 모듈에는 함수가 굉장히 많다. 그 중 가장 유용한 몇 가지만 살펴보자"
   ]
  },
  {
   "cell_type": "markdown",
   "id": "43c0e297-46d4-4ea5-adae-e188f5cd71ac",
   "metadata": {},
   "source": [
    "#### time.time\n",
    "- UTC(Universal Time Coordinated 협정 세계 표준시)를 사용해 현재 시간을 실수 형태로 돌려주는 함수\n",
    "- 1970년 1월 1일 0시 0분 0초를 기준으로 지난 시간을 초 단위로 돌려줌"
   ]
  },
  {
   "cell_type": "code",
   "execution_count": 6,
   "id": "0aee6914-1489-4725-a316-a455f616e4a7",
   "metadata": {
    "tags": []
   },
   "outputs": [
    {
     "data": {
      "text/plain": [
       "1679559502.4437962"
      ]
     },
     "execution_count": 6,
     "metadata": {},
     "output_type": "execute_result"
    }
   ],
   "source": [
    "import time\n",
    "time.time()"
   ]
  },
  {
   "cell_type": "code",
   "execution_count": 47,
   "id": "617f20fe-3b20-4b0b-ac5c-784c6f345226",
   "metadata": {
    "tags": []
   },
   "outputs": [
    {
     "data": {
      "text/plain": [
       "53.981645794929086"
      ]
     },
     "execution_count": 47,
     "metadata": {},
     "output_type": "execute_result"
    }
   ],
   "source": [
    "time.time()/60\n",
    "time.time()/60/60\n",
    "time.time()/60/60/24 #며칠\n",
    "time.time()/60/60/24/30 #몇 달\n",
    "time.time()/60/60/24/30/12 # 몇 년"
   ]
  },
  {
   "cell_type": "markdown",
   "id": "8326de00-7d5d-46d4-98e0-9c374043ddff",
   "metadata": {},
   "source": [
    "#### time.localtime\n",
    "- time.time()이 돌려준 실수 값을 사용해 연도, 월, 일, 시, 분, 초, ...의 형태로 바꾸어주는 함수"
   ]
  },
  {
   "cell_type": "code",
   "execution_count": 7,
   "id": "9138487e-94fa-4c56-8e57-e4de3c02d06f",
   "metadata": {
    "tags": []
   },
   "outputs": [
    {
     "data": {
      "text/plain": [
       "time.struct_time(tm_year=2023, tm_mon=3, tm_mday=23, tm_hour=17, tm_min=18, tm_sec=25, tm_wday=3, tm_yday=82, tm_isdst=0)"
      ]
     },
     "execution_count": 7,
     "metadata": {},
     "output_type": "execute_result"
    }
   ],
   "source": [
    "time.localtime(time.time())"
   ]
  },
  {
   "cell_type": "code",
   "execution_count": 8,
   "id": "52a01957-d88d-4b05-af94-eb2965d69d82",
   "metadata": {
    "tags": []
   },
   "outputs": [
    {
     "name": "stdout",
     "output_type": "stream",
     "text": [
      "2023 년 23 일\n"
     ]
    }
   ],
   "source": [
    "t = time.localtime()\n",
    "print(t.tm_year, \"년\", t.tm_mday, \"일\")"
   ]
  },
  {
   "cell_type": "markdown",
   "id": "497027ac-1e14-4597-83c6-cd88c385b2d3",
   "metadata": {},
   "source": [
    "#### time.asctime\n",
    "- 위 time.localtime에 의해서 반환된 튜플 형태의 값을 인수로 받아서 날짜와 시간을 알아보기 쉬운 형태로 돌려주는 함수"
   ]
  },
  {
   "cell_type": "code",
   "execution_count": 9,
   "id": "15999bd6-78bd-402a-9edf-4ceabd8f8d70",
   "metadata": {
    "tags": []
   },
   "outputs": [
    {
     "data": {
      "text/plain": [
       "'Thu Mar 23 17:18:30 2023'"
      ]
     },
     "execution_count": 9,
     "metadata": {},
     "output_type": "execute_result"
    }
   ],
   "source": [
    "time.asctime(time.localtime(time.time()))"
   ]
  },
  {
   "cell_type": "markdown",
   "id": "f253a1b8-8d70-4bbf-8b29-751b4d1e5752",
   "metadata": {},
   "source": [
    "#### time.ctime\n",
    "- time.asctime(time.localtime(tim.time()))은 time.ctime()을 사용해 간편하게 표시 가능\n",
    "- asctime과 다른 점은 ctime은 항상 현재 시간만을 돌려줌"
   ]
  },
  {
   "cell_type": "code",
   "execution_count": 10,
   "id": "81dbefdf-7640-4e55-84a3-97c440452ffa",
   "metadata": {
    "tags": []
   },
   "outputs": [
    {
     "data": {
      "text/plain": [
       "'Thu Mar 23 17:18:53 2023'"
      ]
     },
     "execution_count": 10,
     "metadata": {},
     "output_type": "execute_result"
    }
   ],
   "source": [
    "time.ctime()"
   ]
  },
  {
   "cell_type": "markdown",
   "id": "66599157-aba8-4706-b869-3007216e0568",
   "metadata": {
    "tags": []
   },
   "source": [
    "#### strftime과 strptime\n",
    "- ***strftime*** : 날짜와 시간(datetime)을 문자열로 출력\n",
    "- ***strptime*** : 날짜와 시간 형식의 문자열을 datetime으로 변환"
   ]
  },
  {
   "cell_type": "markdown",
   "id": "546b2cdf-d3a8-40c3-8f75-e3367d15ce8e",
   "metadata": {
    "tags": []
   },
   "source": [
    "##### time.strftime"
   ]
  },
  {
   "cell_type": "code",
   "execution_count": null,
   "id": "c5517104-a33a-4501-ba93-2c7147a0adab",
   "metadata": {},
   "outputs": [],
   "source": [
    "time.strftime('출력할 형식 포맷 코드', time.localtime(time.time()))"
   ]
  },
  {
   "cell_type": "markdown",
   "id": "52eb36a4-25db-481b-a8d2-bea49476c091",
   "metadata": {},
   "source": [
    "- strftime 함수는 시간에 관계된 것을 세밀하게 표현하는 여러 포맷 코드를 제공"
   ]
  },
  {
   "cell_type": "markdown",
   "id": "c01cabc0-4cae-441d-9aa2-1092fe1ae0d9",
   "metadata": {},
   "source": [
    "|코드|설명|예|\n",
    "|------|---|---|\n",
    "|%a|요일 줄임말|Mon|\n",
    "|%A|요일|Monday|\n",
    "|%b|달 줄임말|Jan|\n",
    "|%B|달|January|\n",
    "|%c|날짜와 시간 출력|Thu Mar 23 17:34:23 2023|\n",
    "|%d|날(day)|[01,31]|\n",
    "|%H|시간(hour):24시간 출력 형태|[00,23]|\n",
    "|%I|시간(hour):12시간 출력 형태|[01,12]|\n",
    "|%j|1년 중 누적 날짜|[001,366]|\n",
    "|%m|달|[01,12]|\n",
    "|%M|분|[01,59]|\n",
    "|%p|AM or PM|AM|\n",
    "|%S|초|[00,59]|\n",
    "|%U|1년 중 누적 주 : 일요일을 시작으로|[00,53]|\n",
    "|%w|숫자로 된 요일|[0(일요일),6]|\n",
    "|%W|1년 중 누적 주-월요일을 시작으로|[00,53]|\n",
    "|%x|현재 설정된 지역에 기반한 날짜 출력|06/01/01(월/일/년)|\n",
    "|%X|현재 설정된 지역에 기반한 시간 출력|17:22:21|\n",
    "|%Y|연도 출력|2001|\n",
    "|%Z|시간대 출력|대한민국 표준시|\n",
    "|%%|문자|%|\n",
    "|%y|세기 부분을 제외한 연도 출력|01|\n"
   ]
  },
  {
   "cell_type": "markdown",
   "id": "68c9e04b-b755-4192-9c28-b8b7abce3155",
   "metadata": {},
   "source": [
    "- time.strftime을 사용하는 예시"
   ]
  },
  {
   "cell_type": "code",
   "execution_count": 24,
   "id": "8982c359-db66-49af-8478-a9642fea87cf",
   "metadata": {
    "tags": []
   },
   "outputs": [],
   "source": [
    "import time"
   ]
  },
  {
   "cell_type": "code",
   "execution_count": 11,
   "id": "1e71d5c1-d5cc-4e8b-b8e3-2c8a63676781",
   "metadata": {
    "tags": []
   },
   "outputs": [
    {
     "data": {
      "text/plain": [
       "'03/23/23'"
      ]
     },
     "execution_count": 11,
     "metadata": {},
     "output_type": "execute_result"
    }
   ],
   "source": [
    "time.strftime('%x', time.localtime(time.time()))"
   ]
  },
  {
   "cell_type": "code",
   "execution_count": 13,
   "id": "96649b76-bfed-45eb-94f4-c8af090962b3",
   "metadata": {
    "tags": []
   },
   "outputs": [
    {
     "data": {
      "text/plain": [
       "'Thu Mar 23 17:34:23 2023'"
      ]
     },
     "execution_count": 13,
     "metadata": {},
     "output_type": "execute_result"
    }
   ],
   "source": [
    "time.strftime('%c', time.localtime(time.time()))"
   ]
  },
  {
   "cell_type": "code",
   "execution_count": 50,
   "id": "1eed06f8-7c78-436a-97c5-54f1785b4a48",
   "metadata": {
    "tags": []
   },
   "outputs": [],
   "source": [
    "import datetime\n",
    "now = datetime.datetime.now()"
   ]
  },
  {
   "cell_type": "code",
   "execution_count": 51,
   "id": "c74370a0-1fe2-403e-a994-c84c2673ca40",
   "metadata": {
    "tags": []
   },
   "outputs": [
    {
     "data": {
      "text/plain": [
       "'2023-03-17'"
      ]
     },
     "execution_count": 51,
     "metadata": {},
     "output_type": "execute_result"
    }
   ],
   "source": [
    "date = now.strftime('%Y-%m-%d')\n",
    "date"
   ]
  },
  {
   "cell_type": "code",
   "execution_count": 53,
   "id": "289ccb2f-1559-4e73-98d8-4f53a5afaed7",
   "metadata": {
    "tags": []
   },
   "outputs": [
    {
     "data": {
      "text/plain": [
       "'18:30:07'"
      ]
     },
     "execution_count": 53,
     "metadata": {},
     "output_type": "execute_result"
    }
   ],
   "source": [
    "time = now.strftime('%H:%M:%S')\n",
    "time"
   ]
  },
  {
   "cell_type": "code",
   "execution_count": 54,
   "id": "ea7785c6-f2f6-40ad-89a9-9c2efd3192ec",
   "metadata": {
    "tags": []
   },
   "outputs": [
    {
     "data": {
      "text/plain": [
       "'2023-03-17 18:30:07'"
      ]
     },
     "execution_count": 54,
     "metadata": {},
     "output_type": "execute_result"
    }
   ],
   "source": [
    "datetime = now.strftime('%Y-%m-%d %H:%M:%S')\n",
    "datetime"
   ]
  },
  {
   "cell_type": "code",
   "execution_count": 55,
   "id": "92226866-7af2-41d2-9e09-ecc5d6f0ba40",
   "metadata": {
    "tags": []
   },
   "outputs": [],
   "source": [
    "time = now.strftime('')"
   ]
  },
  {
   "cell_type": "markdown",
   "id": "cf05b39a-7d51-4079-a693-6700981e8d30",
   "metadata": {},
   "source": [
    "##### time.strptime\n",
    "- datetime.strptime(문자열, 형식)"
   ]
  },
  {
   "cell_type": "code",
   "execution_count": 56,
   "id": "1afe0594-6322-4627-bf62-1354a577392f",
   "metadata": {
    "tags": []
   },
   "outputs": [
    {
     "name": "stdout",
     "output_type": "stream",
     "text": [
      "<class 'datetime.datetime'>\n"
     ]
    }
   ],
   "source": [
    "import datetime\n",
    "str_datetime = '2021-04-08 21:31:48'\n",
    "currdate = datetime.datetime.strptime(str_datetime, \"%Y-%m-%d %H:%M:%S\")\n",
    "\n",
    "print(type(currdate))"
   ]
  },
  {
   "cell_type": "markdown",
   "id": "4d0955f4-beb8-4e83-ae6d-e4f331fde4c5",
   "metadata": {},
   "source": [
    "#### time.sleep\n",
    "- 주로 루프 안에서 많이 사용\n",
    "- 이 함수를 사용하면 일정한 시간 간격을 두고 루프 실행 가능"
   ]
  },
  {
   "cell_type": "code",
   "execution_count": 14,
   "id": "e643fe8c-23e7-4adc-8f66-8b81752381d9",
   "metadata": {
    "tags": []
   },
   "outputs": [
    {
     "name": "stdout",
     "output_type": "stream",
     "text": [
      "0\n",
      "1\n",
      "2\n",
      "3\n",
      "4\n",
      "5\n",
      "6\n",
      "7\n",
      "8\n",
      "9\n"
     ]
    }
   ],
   "source": [
    "import time\n",
    "for i in range(10):\n",
    "    print(i)\n",
    "    time.sleep(1)"
   ]
  },
  {
   "cell_type": "markdown",
   "id": "ae5d7fcb-a32e-491f-ad97-7236a9187a94",
   "metadata": {},
   "source": [
    "위 예는 1초 간격으로 0부터 9까지의 숫자 출력<br>\n",
    "위 예에서 볼 수 있듯이 time.sleep함수의 인수는 실수 형태 사용 가능<br>\n",
    "즉, 1이면 1초, 0.5면 0.5초가 된다."
   ]
  },
  {
   "cell_type": "markdown",
   "id": "e2c91862-d610-4801-91c0-86d736672be9",
   "metadata": {},
   "source": [
    "### calendar\n",
    "- 파이썬에서 달력을 볼 수 있게 해주는 모듈"
   ]
  },
  {
   "cell_type": "markdown",
   "id": "ec34c9c1-6eb5-44d5-be04-d72757992e5b",
   "metadata": {
    "tags": []
   },
   "source": [
    "#### calendar.calendar(연도)\n",
    "- 그 해의 전체 달력을 볼 수 있음"
   ]
  },
  {
   "cell_type": "code",
   "execution_count": 28,
   "id": "e44293e8-4d25-4b0c-ac65-d9af8d99740e",
   "metadata": {
    "tags": []
   },
   "outputs": [
    {
     "name": "stdout",
     "output_type": "stream",
     "text": [
      "                                  2023\n",
      "\n",
      "      January                   February                   March\n",
      "Mo Tu We Th Fr Sa Su      Mo Tu We Th Fr Sa Su      Mo Tu We Th Fr Sa Su\n",
      "                   1             1  2  3  4  5             1  2  3  4  5\n",
      " 2  3  4  5  6  7  8       6  7  8  9 10 11 12       6  7  8  9 10 11 12\n",
      " 9 10 11 12 13 14 15      13 14 15 16 17 18 19      13 14 15 16 17 18 19\n",
      "16 17 18 19 20 21 22      20 21 22 23 24 25 26      20 21 22 23 24 25 26\n",
      "23 24 25 26 27 28 29      27 28                     27 28 29 30 31\n",
      "30 31\n",
      "\n",
      "       April                      May                       June\n",
      "Mo Tu We Th Fr Sa Su      Mo Tu We Th Fr Sa Su      Mo Tu We Th Fr Sa Su\n",
      "                1  2       1  2  3  4  5  6  7                1  2  3  4\n",
      " 3  4  5  6  7  8  9       8  9 10 11 12 13 14       5  6  7  8  9 10 11\n",
      "10 11 12 13 14 15 16      15 16 17 18 19 20 21      12 13 14 15 16 17 18\n",
      "17 18 19 20 21 22 23      22 23 24 25 26 27 28      19 20 21 22 23 24 25\n",
      "24 25 26 27 28 29 30      29 30 31                  26 27 28 29 30\n",
      "\n",
      "        July                     August                  September\n",
      "Mo Tu We Th Fr Sa Su      Mo Tu We Th Fr Sa Su      Mo Tu We Th Fr Sa Su\n",
      "                1  2          1  2  3  4  5  6                   1  2  3\n",
      " 3  4  5  6  7  8  9       7  8  9 10 11 12 13       4  5  6  7  8  9 10\n",
      "10 11 12 13 14 15 16      14 15 16 17 18 19 20      11 12 13 14 15 16 17\n",
      "17 18 19 20 21 22 23      21 22 23 24 25 26 27      18 19 20 21 22 23 24\n",
      "24 25 26 27 28 29 30      28 29 30 31               25 26 27 28 29 30\n",
      "31\n",
      "\n",
      "      October                   November                  December\n",
      "Mo Tu We Th Fr Sa Su      Mo Tu We Th Fr Sa Su      Mo Tu We Th Fr Sa Su\n",
      "                   1             1  2  3  4  5                   1  2  3\n",
      " 2  3  4  5  6  7  8       6  7  8  9 10 11 12       4  5  6  7  8  9 10\n",
      " 9 10 11 12 13 14 15      13 14 15 16 17 18 19      11 12 13 14 15 16 17\n",
      "16 17 18 19 20 21 22      20 21 22 23 24 25 26      18 19 20 21 22 23 24\n",
      "23 24 25 26 27 28 29      27 28 29 30               25 26 27 28 29 30 31\n",
      "30 31\n",
      "\n"
     ]
    }
   ],
   "source": [
    "import calendar\n",
    "print(calendar.calendar(2023))"
   ]
  },
  {
   "cell_type": "markdown",
   "id": "9b906d00-32bd-4a4a-9a18-c73facbedbaf",
   "metadata": {},
   "source": [
    "#### calendar.prcal(연도)\n",
    "- 위와 똑같은 결괏값 출력"
   ]
  },
  {
   "cell_type": "code",
   "execution_count": 29,
   "id": "f1632e0a-5bff-492b-9a21-7dca9afe37e2",
   "metadata": {
    "tags": []
   },
   "outputs": [
    {
     "name": "stdout",
     "output_type": "stream",
     "text": [
      "                                  2023\n",
      "\n",
      "      January                   February                   March\n",
      "Mo Tu We Th Fr Sa Su      Mo Tu We Th Fr Sa Su      Mo Tu We Th Fr Sa Su\n",
      "                   1             1  2  3  4  5             1  2  3  4  5\n",
      " 2  3  4  5  6  7  8       6  7  8  9 10 11 12       6  7  8  9 10 11 12\n",
      " 9 10 11 12 13 14 15      13 14 15 16 17 18 19      13 14 15 16 17 18 19\n",
      "16 17 18 19 20 21 22      20 21 22 23 24 25 26      20 21 22 23 24 25 26\n",
      "23 24 25 26 27 28 29      27 28                     27 28 29 30 31\n",
      "30 31\n",
      "\n",
      "       April                      May                       June\n",
      "Mo Tu We Th Fr Sa Su      Mo Tu We Th Fr Sa Su      Mo Tu We Th Fr Sa Su\n",
      "                1  2       1  2  3  4  5  6  7                1  2  3  4\n",
      " 3  4  5  6  7  8  9       8  9 10 11 12 13 14       5  6  7  8  9 10 11\n",
      "10 11 12 13 14 15 16      15 16 17 18 19 20 21      12 13 14 15 16 17 18\n",
      "17 18 19 20 21 22 23      22 23 24 25 26 27 28      19 20 21 22 23 24 25\n",
      "24 25 26 27 28 29 30      29 30 31                  26 27 28 29 30\n",
      "\n",
      "        July                     August                  September\n",
      "Mo Tu We Th Fr Sa Su      Mo Tu We Th Fr Sa Su      Mo Tu We Th Fr Sa Su\n",
      "                1  2          1  2  3  4  5  6                   1  2  3\n",
      " 3  4  5  6  7  8  9       7  8  9 10 11 12 13       4  5  6  7  8  9 10\n",
      "10 11 12 13 14 15 16      14 15 16 17 18 19 20      11 12 13 14 15 16 17\n",
      "17 18 19 20 21 22 23      21 22 23 24 25 26 27      18 19 20 21 22 23 24\n",
      "24 25 26 27 28 29 30      28 29 30 31               25 26 27 28 29 30\n",
      "31\n",
      "\n",
      "      October                   November                  December\n",
      "Mo Tu We Th Fr Sa Su      Mo Tu We Th Fr Sa Su      Mo Tu We Th Fr Sa Su\n",
      "                   1             1  2  3  4  5                   1  2  3\n",
      " 2  3  4  5  6  7  8       6  7  8  9 10 11 12       4  5  6  7  8  9 10\n",
      " 9 10 11 12 13 14 15      13 14 15 16 17 18 19      11 12 13 14 15 16 17\n",
      "16 17 18 19 20 21 22      20 21 22 23 24 25 26      18 19 20 21 22 23 24\n",
      "23 24 25 26 27 28 29      27 28 29 30               25 26 27 28 29 30 31\n",
      "30 31\n"
     ]
    }
   ],
   "source": [
    "calendar.prcal(2023)"
   ]
  },
  {
   "cell_type": "markdown",
   "id": "31f76b2c-4e0d-44b3-9c78-cd6662a3418d",
   "metadata": {},
   "source": [
    "#### calendar.prmonth(월)\n",
    "- 2023년 12월의 달력만 출력"
   ]
  },
  {
   "cell_type": "code",
   "execution_count": 30,
   "id": "1fe7afc9-52eb-496c-8094-eee5e6a8f718",
   "metadata": {
    "tags": []
   },
   "outputs": [
    {
     "name": "stdout",
     "output_type": "stream",
     "text": [
      "   December 2023\n",
      "Mo Tu We Th Fr Sa Su\n",
      "             1  2  3\n",
      " 4  5  6  7  8  9 10\n",
      "11 12 13 14 15 16 17\n",
      "18 19 20 21 22 23 24\n",
      "25 26 27 28 29 30 31\n"
     ]
    }
   ],
   "source": [
    "calendar.prmonth(2023, 12)"
   ]
  },
  {
   "cell_type": "markdown",
   "id": "ac53f9d2-22b6-4b05-bfb0-a39b467e4d2d",
   "metadata": {},
   "source": [
    "#### calendar.weekday(연도, 월, 일)\n",
    "- 그 날짜에 해당하는 요일 정보 출력\n",
    "- 월요일: 0, 화요일: 1, 수요일: 2, 목요일: 3, 금요일: 4, 토요일: 5, 일요일: 6"
   ]
  },
  {
   "cell_type": "code",
   "execution_count": 32,
   "id": "b933adb6-59f6-4a14-9b6d-e30d62f8a0fd",
   "metadata": {
    "tags": []
   },
   "outputs": [
    {
     "data": {
      "text/plain": [
       "6"
      ]
     },
     "execution_count": 32,
     "metadata": {},
     "output_type": "execute_result"
    }
   ],
   "source": [
    "calendar.weekday(2023,12,31)"
   ]
  },
  {
   "cell_type": "markdown",
   "id": "b8e1822f-549e-434c-adb7-92ab4f20724b",
   "metadata": {},
   "source": [
    "#### calendar.monthrange(연도, 월)\n",
    "- 입력받은 달의 1일이 무슨 요일인지와 그 달이 며칠가지 있는지를 튜플 형태로 돌려줌"
   ]
  },
  {
   "cell_type": "code",
   "execution_count": 33,
   "id": "cc92143b-54f8-46b2-aa24-67622bcfc1cb",
   "metadata": {
    "tags": []
   },
   "outputs": [
    {
     "data": {
      "text/plain": [
       "(4, 31)"
      ]
     },
     "execution_count": 33,
     "metadata": {},
     "output_type": "execute_result"
    }
   ],
   "source": [
    "calendar.monthrange(2023, 12)"
   ]
  },
  {
   "cell_type": "markdown",
   "id": "47b54e8c-d9dd-48e7-8eef-b7bfd3268f76",
   "metadata": {},
   "source": [
    "위 예는 2023년 12월 1일은 금요일이고, 이 달은 31일까지 있다는 것을 보여줌"
   ]
  },
  {
   "cell_type": "markdown",
   "id": "33c70e7c-1409-48bb-b1ee-ee00c43ac37c",
   "metadata": {},
   "source": [
    "날짜 관련 프로그래밍을 할 때 위 2가지 함수는 매우 유용하게 사용됨"
   ]
  },
  {
   "cell_type": "markdown",
   "id": "cd10d068-2806-4bcf-b3d5-9205eb11627a",
   "metadata": {},
   "source": [
    "### random\n",
    "- 난수(규칙이 없는 임의의 수)를 발생시키는 모듈\n",
    "- random, randint"
   ]
  },
  {
   "cell_type": "markdown",
   "id": "a2aafd0b-e5f2-433e-b84f-ef510bf6eb1a",
   "metadata": {},
   "source": [
    "#### random.random()\n",
    "- 0부터 1사이의 랜덤 실수 리턴"
   ]
  },
  {
   "cell_type": "code",
   "execution_count": 21,
   "id": "0f59d26c-aee2-44bc-9266-ac3c94e99a67",
   "metadata": {
    "tags": []
   },
   "outputs": [
    {
     "data": {
      "text/plain": [
       "0.24893784658835794"
      ]
     },
     "execution_count": 21,
     "metadata": {},
     "output_type": "execute_result"
    }
   ],
   "source": [
    "import random\n",
    "random.random() # Random float x, 0.0 <= x < 1.0"
   ]
  },
  {
   "cell_type": "markdown",
   "id": "6a3da4d4-fcbd-43f8-820c-f91b99e5bc40",
   "metadata": {},
   "source": [
    "#### random.randint\n",
    "- 2개 숫자 사이의 랜덤 정수 리턴(2번째 인자로 넘어온 정수도 범위에 포함)\n"
   ]
  },
  {
   "cell_type": "markdown",
   "id": "449ba3e7-ff70-4d08-8c06-45234411de9b",
   "metadata": {},
   "source": [
    "- 1에서 10 사이의 정수 중 난수 값을 돌려줌"
   ]
  },
  {
   "cell_type": "code",
   "execution_count": 16,
   "id": "1a89db77-3f78-449a-a837-51580e06eb99",
   "metadata": {
    "tags": []
   },
   "outputs": [
    {
     "data": {
      "text/plain": [
       "4"
      ]
     },
     "execution_count": 16,
     "metadata": {},
     "output_type": "execute_result"
    }
   ],
   "source": [
    "random.randint(1,10) # Integer from 1 to 10, endpoints included"
   ]
  },
  {
   "cell_type": "markdown",
   "id": "f7c5dfc4-5468-4bf6-9596-66fdeeec7349",
   "metadata": {},
   "source": [
    "- 1에서 55사이의 정수 중에서 난수 값을 돌려줌"
   ]
  },
  {
   "cell_type": "code",
   "execution_count": 17,
   "id": "1b327e76-5397-4a63-9fae-c8d641aab844",
   "metadata": {
    "tags": []
   },
   "outputs": [
    {
     "data": {
      "text/plain": [
       "20"
      ]
     },
     "execution_count": 17,
     "metadata": {},
     "output_type": "execute_result"
    }
   ],
   "source": [
    "random.randint(1,55)"
   ]
  },
  {
   "cell_type": "markdown",
   "id": "0953acd0-dac6-4e83-8eec-3d2bb5498bf1",
   "metadata": {},
   "source": [
    "- random 모듈을 사용한 함수 만들기"
   ]
  },
  {
   "cell_type": "code",
   "execution_count": 18,
   "id": "382e1b58-ec62-4efc-a735-275b02b35247",
   "metadata": {
    "tags": []
   },
   "outputs": [
    {
     "name": "stdout",
     "output_type": "stream",
     "text": [
      "2\n",
      "3\n",
      "5\n",
      "1\n",
      "4\n"
     ]
    }
   ],
   "source": [
    "import random\n",
    "def random_pop(data):\n",
    "    number = random.randint(0,len(data)-1)\n",
    "    return data.pop(number)\n",
    "\n",
    "if __name__==\"__main__\":\n",
    "    data=[1,2,3,4,5]\n",
    "    while data:\n",
    "        print(random_pop(data))"
   ]
  },
  {
   "cell_type": "markdown",
   "id": "362fef8d-4dd8-4b42-bf74-35f240ab3e46",
   "metadata": {},
   "source": [
    "위 random_pop 수는 리스트의 요소 중 무작위를 하나 선택해 꺼낸 후 그 값을 돌려줌. <br>\n",
    "꺼낸 요소는 pop 메서드에 의해 사라짐"
   ]
  },
  {
   "cell_type": "markdown",
   "id": "cf2e6090-0f2e-4578-b185-661ec58930d5",
   "metadata": {},
   "source": [
    "#### random.shuffle\n",
    "- 리스트의 항목을 무작위로 섞고 싶을 때 사용"
   ]
  },
  {
   "cell_type": "code",
   "execution_count": 20,
   "id": "48ba5d18-2196-4da8-b03a-457affef2555",
   "metadata": {
    "tags": []
   },
   "outputs": [
    {
     "data": {
      "text/plain": [
       "[2, 1, 5, 3, 4]"
      ]
     },
     "execution_count": 20,
     "metadata": {},
     "output_type": "execute_result"
    }
   ],
   "source": [
    "import random\n",
    "data = [1,2,3,4,5]\n",
    "random.shuffle(data)\n",
    "data"
   ]
  },
  {
   "cell_type": "markdown",
   "id": "dd55051b-8f27-4173-bb87-96bd8209d032",
   "metadata": {},
   "source": [
    "[1,2,3,4,5] 리스트가 shuffle 함수에 의해 섞여서 [2,1,5,3,4]로 변함"
   ]
  },
  {
   "cell_type": "markdown",
   "id": "429c51ba-1962-491e-b1c3-d1b6c67e716d",
   "metadata": {},
   "source": [
    "#### random.uniform()\n",
    "- 2개의 숫자 사이의 랜덤 실수 리턴"
   ]
  },
  {
   "cell_type": "code",
   "execution_count": 22,
   "id": "709c2346-49f6-4014-813c-52c5d72cf5bc",
   "metadata": {
    "tags": []
   },
   "outputs": [
    {
     "data": {
      "text/plain": [
       "2.520366318317702"
      ]
     },
     "execution_count": 22,
     "metadata": {},
     "output_type": "execute_result"
    }
   ],
   "source": [
    "random.uniform(1,10) # Random float x, 1.0 <= x < 10.0"
   ]
  },
  {
   "cell_type": "markdown",
   "id": "fca322be-0c86-4de9-b6f7-a2b041df4d7e",
   "metadata": {
    "tags": []
   },
   "source": [
    "#### choice, choices, sample\n",
    "- ***random.choice***: 랜덤으로 요소 하나 취득\n",
    "- ***random.choices*** : 랜덤으로 요로 여러 개 취득. 중복 O\n",
    "- ***random.sample***: 랜덤으로 요소 여러 개 취득. 중복 X"
   ]
  },
  {
   "cell_type": "markdown",
   "id": "ec43ba8a-8ea9-4a55-8972-9c6f9022d30a",
   "metadata": {},
   "source": [
    "##### random.choice()\n",
    "- 랜덤하게 하나의 원소 선택"
   ]
  },
  {
   "cell_type": "code",
   "execution_count": 37,
   "id": "a58d9efe-06eb-4730-ac19-818f53d7503a",
   "metadata": {
    "tags": []
   },
   "outputs": [
    {
     "name": "stdout",
     "output_type": "stream",
     "text": [
      "2\n"
     ]
    }
   ],
   "source": [
    "import random\n",
    "l = [0,1,2,3,4]\n",
    "print(random.choice(l))"
   ]
  },
  {
   "cell_type": "code",
   "execution_count": 25,
   "id": "6a3453ca-d807-440d-b534-d4183d5298ff",
   "metadata": {
    "tags": []
   },
   "outputs": [
    {
     "data": {
      "text/plain": [
       "'g'"
      ]
     },
     "execution_count": 25,
     "metadata": {},
     "output_type": "execute_result"
    }
   ],
   "source": [
    "random.choice('abcdefghi') # Choose a random element"
   ]
  },
  {
   "cell_type": "markdown",
   "id": "00722efc-af9d-47d0-9556-be0587020f4e",
   "metadata": {},
   "source": [
    "- 튜플이나 문자열에서도 choice 함수를 사용해 문자를 랜덤하게 취득 가능"
   ]
  },
  {
   "cell_type": "code",
   "execution_count": 61,
   "id": "06c9dad5-2436-425b-8b68-43da0c3527fd",
   "metadata": {
    "tags": []
   },
   "outputs": [
    {
     "name": "stdout",
     "output_type": "stream",
     "text": [
      "yyy\n",
      "d\n"
     ]
    }
   ],
   "source": [
    "import random\n",
    "print(random.choice(('xxx','yyy','zzz')))\n",
    "print(random.choice('abcde'))"
   ]
  },
  {
   "cell_type": "markdown",
   "id": "b46c0c64-1abf-48d9-9713-34c4c16bf3d0",
   "metadata": {},
   "source": [
    "- 주의점 : 공백 리스트나 튜플 또는 문자열에 choice 함수를 사용하면 에러 발생"
   ]
  },
  {
   "cell_type": "code",
   "execution_count": 62,
   "id": "d2c117e0-7322-40bc-965b-32de7bf24c29",
   "metadata": {
    "tags": []
   },
   "outputs": [
    {
     "ename": "IndexError",
     "evalue": "list index out of range",
     "output_type": "error",
     "traceback": [
      "\u001b[1;31m---------------------------------------------------------------------------\u001b[0m",
      "\u001b[1;31mIndexError\u001b[0m                                Traceback (most recent call last)",
      "Cell \u001b[1;32mIn[62], line 2\u001b[0m\n\u001b[0;32m      1\u001b[0m \u001b[38;5;28;01mimport\u001b[39;00m \u001b[38;5;21;01mrandom\u001b[39;00m\n\u001b[1;32m----> 2\u001b[0m \u001b[38;5;28mprint\u001b[39m(\u001b[43mrandom\u001b[49m\u001b[38;5;241;43m.\u001b[39;49m\u001b[43mchoice\u001b[49m\u001b[43m(\u001b[49m\u001b[43m[\u001b[49m\u001b[43m]\u001b[49m\u001b[43m)\u001b[49m)\n",
      "File \u001b[1;32m~\\AppData\\Local\\Programs\\Python\\Python310\\lib\\random.py:378\u001b[0m, in \u001b[0;36mRandom.choice\u001b[1;34m(self, seq)\u001b[0m\n\u001b[0;32m    376\u001b[0m \u001b[38;5;250m\u001b[39m\u001b[38;5;124;03m\"\"\"Choose a random element from a non-empty sequence.\"\"\"\u001b[39;00m\n\u001b[0;32m    377\u001b[0m \u001b[38;5;66;03m# raises IndexError if seq is empty\u001b[39;00m\n\u001b[1;32m--> 378\u001b[0m \u001b[38;5;28;01mreturn\u001b[39;00m \u001b[43mseq\u001b[49m\u001b[43m[\u001b[49m\u001b[38;5;28;43mself\u001b[39;49m\u001b[38;5;241;43m.\u001b[39;49m\u001b[43m_randbelow\u001b[49m\u001b[43m(\u001b[49m\u001b[38;5;28;43mlen\u001b[39;49m\u001b[43m(\u001b[49m\u001b[43mseq\u001b[49m\u001b[43m)\u001b[49m\u001b[43m)\u001b[49m\u001b[43m]\u001b[49m\n",
      "\u001b[1;31mIndexError\u001b[0m: list index out of range"
     ]
    }
   ],
   "source": [
    "import random\n",
    "print(random.choice([]))"
   ]
  },
  {
   "cell_type": "markdown",
   "id": "06db6eb4-a6eb-427d-857f-d7a3eb5fb587",
   "metadata": {},
   "source": [
    "##### random.choices()\n",
    "- ***형식***: choices(리스트, k =취득개수)\n",
    "- choices 함수의 첫 번째 파라미터 : 대상이 되는 리스트\n",
    "- choices 함수의 두 번재 파라미터 : 랜덤으로 취득하고 싶은 요소 개수 k"
   ]
  },
  {
   "cell_type": "code",
   "execution_count": 67,
   "id": "87a2c6aa-7002-45a9-b3c1-18a1765ebf71",
   "metadata": {
    "tags": []
   },
   "outputs": [
    {
     "name": "stdout",
     "output_type": "stream",
     "text": [
      "[0, 1, 2]\n"
     ]
    }
   ],
   "source": [
    "import random\n",
    "l = [0,1,2,3,4]\n",
    "print(random.choices(l, k=3))"
   ]
  },
  {
   "cell_type": "markdown",
   "id": "d2790681-adf6-4057-9972-a340055aa718",
   "metadata": {},
   "source": [
    "choices 함수를 사용해 취득한 결과를 보면 추출 대상 리스트에는 중복된 값을 지정하지 않았지만 중복된 값이 표시되어 있음\n",
    "<br>sample 함수와 다르게 choices 함수는 한번 추출한 요소를 제외시키지 않음<br>\n",
    "그래서 추출 대상 리스트의 요소수보다 랜덤하게 취득하고 싶은 요소를 크게 지정해도 에러가 발생하지 않음"
   ]
  },
  {
   "cell_type": "code",
   "execution_count": 68,
   "id": "01690a37-9093-4fc9-8fb7-a005ca9e7721",
   "metadata": {
    "tags": []
   },
   "outputs": [
    {
     "name": "stdout",
     "output_type": "stream",
     "text": [
      "[1, 0, 1, 4, 0, 2, 2, 3, 3, 1]\n"
     ]
    }
   ],
   "source": [
    "import random\n",
    "l = [0,1,2,3,4]\n",
    "print(random.choices(l,k=10))"
   ]
  },
  {
   "cell_type": "markdown",
   "id": "f394d07e-a1ad-4813-af3e-015ac1b435fe",
   "metadata": {},
   "source": [
    "추출 대상 리스트에는 요소가 5개 있지만 랜덤으로 10개 추출 가능\n",
    "<br>k를 생략할 경우 기본값으로 1 지정"
   ]
  },
  {
   "cell_type": "markdown",
   "id": "a26517c3-d1ef-45b7-8285-550a560f2a73",
   "metadata": {},
   "source": [
    "##### random.sample()\n",
    "- 랜덤하게 여러 개의 원소 선택\n",
    "- sample로 랜덤하게 취득한 값은 중복되지 않음"
   ]
  },
  {
   "cell_type": "markdown",
   "id": "13d0f3ae-0685-424e-899c-7bafaac3172b",
   "metadata": {},
   "source": [
    "- 형식"
   ]
  },
  {
   "cell_type": "code",
   "execution_count": null,
   "id": "0e3c509a-bb1f-49b6-bbe2-17cc9e610692",
   "metadata": {},
   "outputs": [],
   "source": [
    "sample(리스트, 취득 개수)"
   ]
  },
  {
   "cell_type": "markdown",
   "id": "e2d24c79-5809-4131-be5d-39f520eb98ef",
   "metadata": {
    "tags": []
   },
   "source": [
    "***sample*** 함수의 첫번째 파라미터 : 추출 대상이 되는 리스트<br>\n",
    "***sample*** 함수의 두번째 파라미터 : 랜덤으로 취득하고 싶은 요소 개수"
   ]
  },
  {
   "cell_type": "code",
   "execution_count": 33,
   "id": "7e04fb24-a7e6-451e-aa9e-6149142b842b",
   "metadata": {
    "tags": []
   },
   "outputs": [
    {
     "data": {
      "text/plain": [
       "[4, 5, 3]"
      ]
     },
     "execution_count": 33,
     "metadata": {},
     "output_type": "execute_result"
    }
   ],
   "source": [
    "random.sample([1,2,3,4,5],3) # Choose 3 elements"
   ]
  },
  {
   "cell_type": "code",
   "execution_count": 34,
   "id": "13746d1e-f7d9-4074-a2ff-50c564c43d16",
   "metadata": {
    "tags": []
   },
   "outputs": [
    {
     "data": {
      "text/plain": [
       "list"
      ]
     },
     "execution_count": 34,
     "metadata": {},
     "output_type": "execute_result"
    }
   ],
   "source": [
    "#반환한 데이터 타입 확인\n",
    "a = random.sample([1,2,3,4,5],3)\n",
    "type(a)"
   ]
  },
  {
   "cell_type": "markdown",
   "id": "4cd252bc-0e72-4632-a3ec-877cf0cfa031",
   "metadata": {},
   "source": [
    "***sample***을 사용해 취득한 결과값은 리스트 형태로 반환<br>\n",
    "결과값이 없는 경우에도 리스트 형태로 반환"
   ]
  },
  {
   "cell_type": "code",
   "execution_count": 35,
   "id": "62dbd8dc-0d96-41c0-9a91-98dcebfb7ab3",
   "metadata": {
    "tags": []
   },
   "outputs": [
    {
     "name": "stdout",
     "output_type": "stream",
     "text": [
      "[]\n"
     ]
    }
   ],
   "source": [
    "import random\n",
    "print(random.sample([0,1,2,3,4],0))"
   ]
  },
  {
   "cell_type": "markdown",
   "id": "347d8be0-2a00-49c1-a86f-c2b3eef6c04f",
   "metadata": {},
   "source": [
    "- 취득하고 싶은 요소 개수가 추출 대상 리스트 요소수보다 큰 경우 에러발생"
   ]
  },
  {
   "cell_type": "code",
   "execution_count": 65,
   "id": "36e005a3-dc4a-46e8-9c8e-57c452fb9ba3",
   "metadata": {
    "tags": []
   },
   "outputs": [
    {
     "ename": "ValueError",
     "evalue": "Sample larger than population or is negative",
     "output_type": "error",
     "traceback": [
      "\u001b[1;31m---------------------------------------------------------------------------\u001b[0m",
      "\u001b[1;31mValueError\u001b[0m                                Traceback (most recent call last)",
      "Cell \u001b[1;32mIn[65], line 3\u001b[0m\n\u001b[0;32m      1\u001b[0m \u001b[38;5;28;01mimport\u001b[39;00m \u001b[38;5;21;01mrandom\u001b[39;00m\n\u001b[0;32m      2\u001b[0m l \u001b[38;5;241m=\u001b[39m [\u001b[38;5;241m0\u001b[39m,\u001b[38;5;241m1\u001b[39m,\u001b[38;5;241m2\u001b[39m,\u001b[38;5;241m3\u001b[39m,\u001b[38;5;241m4\u001b[39m]\n\u001b[1;32m----> 3\u001b[0m \u001b[38;5;28mprint\u001b[39m(\u001b[43mrandom\u001b[49m\u001b[38;5;241;43m.\u001b[39;49m\u001b[43msample\u001b[49m\u001b[43m(\u001b[49m\u001b[43ml\u001b[49m\u001b[43m,\u001b[49m\u001b[38;5;241;43m10\u001b[39;49m\u001b[43m)\u001b[49m)\n",
      "File \u001b[1;32m~\\AppData\\Local\\Programs\\Python\\Python310\\lib\\random.py:482\u001b[0m, in \u001b[0;36mRandom.sample\u001b[1;34m(self, population, k, counts)\u001b[0m\n\u001b[0;32m    480\u001b[0m randbelow \u001b[38;5;241m=\u001b[39m \u001b[38;5;28mself\u001b[39m\u001b[38;5;241m.\u001b[39m_randbelow\n\u001b[0;32m    481\u001b[0m \u001b[38;5;28;01mif\u001b[39;00m \u001b[38;5;129;01mnot\u001b[39;00m \u001b[38;5;241m0\u001b[39m \u001b[38;5;241m<\u001b[39m\u001b[38;5;241m=\u001b[39m k \u001b[38;5;241m<\u001b[39m\u001b[38;5;241m=\u001b[39m n:\n\u001b[1;32m--> 482\u001b[0m     \u001b[38;5;28;01mraise\u001b[39;00m \u001b[38;5;167;01mValueError\u001b[39;00m(\u001b[38;5;124m\"\u001b[39m\u001b[38;5;124mSample larger than population or is negative\u001b[39m\u001b[38;5;124m\"\u001b[39m)\n\u001b[0;32m    483\u001b[0m result \u001b[38;5;241m=\u001b[39m [\u001b[38;5;28;01mNone\u001b[39;00m] \u001b[38;5;241m*\u001b[39m k\n\u001b[0;32m    484\u001b[0m setsize \u001b[38;5;241m=\u001b[39m \u001b[38;5;241m21\u001b[39m        \u001b[38;5;66;03m# size of a small set minus size of an empty list\u001b[39;00m\n",
      "\u001b[1;31mValueError\u001b[0m: Sample larger than population or is negative"
     ]
    }
   ],
   "source": [
    "import random\n",
    "l = [0,1,2,3,4]\n",
    "print(random.sample(l,10))"
   ]
  },
  {
   "cell_type": "markdown",
   "id": "fcba6509-7a1d-4674-a9a9-79b88a5cc25d",
   "metadata": {},
   "source": [
    "- sample 함수에도 튜플이나 문자열 지정 가능"
   ]
  },
  {
   "cell_type": "code",
   "execution_count": 66,
   "id": "f26d91e6-1546-4664-8ea5-b839f5605493",
   "metadata": {
    "tags": []
   },
   "outputs": [
    {
     "name": "stdout",
     "output_type": "stream",
     "text": [
      "['zzz', 'xxx']\n",
      "['a', 'c']\n"
     ]
    }
   ],
   "source": [
    "import random\n",
    "print(random.sample(('xxx','yyy','zzz'),2))\n",
    "print(random.sample('abcde', 2))"
   ]
  },
  {
   "cell_type": "markdown",
   "id": "d0ab0234-5829-4a4d-bc0d-3e65851b018e",
   "metadata": {
    "tags": []
   },
   "source": [
    "#### random.randrange()\n",
    "- range(start, stop, step) 함수로 만들어지는 정수 중 하나를 랜덤하게 리턴"
   ]
  },
  {
   "cell_type": "code",
   "execution_count": null,
   "id": "b4d17331-76b0-46a8-82d4-073a33dc10a4",
   "metadata": {},
   "outputs": [],
   "source": [
    "random.randrange(0,101,2) # Even integer from 0 to 100"
   ]
  },
  {
   "cell_type": "code",
   "execution_count": null,
   "id": "928e216a-c67a-408d-ba35-e7eaaa1017e2",
   "metadata": {},
   "outputs": [],
   "source": [
    "random.sample() : 중복없이\n",
    "random.shuffle() \n",
    "\n",
    "random.choices() : k개 복원추출(중복가능)\n",
    "random.randint(10,15) : 정수 1개 임의출력,\n",
    "                        10~15사이의 정수 1개 출력?\n",
    "    \n",
    "random.random.random() : 0초과 1미만의 실수 중 1개 임의 출력\n",
    "random.uniform(10,15) : 10~15 사이의 실수 1개 출력?\n"
   ]
  },
  {
   "cell_type": "markdown",
   "id": "4f5f0b4a-646a-4bcc-8728-d2831f33649d",
   "metadata": {},
   "source": [
    "### webbrowser\n",
    "- 자신의 시스템에서 사용하는 기본 웹 브라우저를 자동으로 실행하는 모듈"
   ]
  },
  {
   "cell_type": "markdown",
   "id": "00a2cf7a-00e7-4348-9d41-2204a4bdf7a7",
   "metadata": {},
   "source": [
    "#### webbrowser.open\n",
    "- ***웹 브라우저가 이미 실행된 상태*** : 입력 주소로 이동\n",
    "- ***웹 브라우저가 실행되지 않은 상태*** : 새로 웹 브라우저 실행 후 해당 주소로 이동\n",
    "- 다음 예제는 웹 브라우저를 자동으로 실행하고 해당 URL인 google.com으로 가게 함\n"
   ]
  },
  {
   "cell_type": "code",
   "execution_count": 40,
   "id": "ceb03298-bdc1-434c-8838-d624a4ccd0d1",
   "metadata": {
    "tags": []
   },
   "outputs": [
    {
     "data": {
      "text/plain": [
       "True"
      ]
     },
     "execution_count": 40,
     "metadata": {},
     "output_type": "execute_result"
    }
   ],
   "source": [
    "import webbrowser\n",
    "webbrowser.open(\"http://google.com\")"
   ]
  },
  {
   "cell_type": "markdown",
   "id": "a2c54d02-9988-4d0f-a01f-f37a06829ec0",
   "metadata": {},
   "source": [
    "#### webbrowser.open_new\n",
    "- 이미 웹브라우저가 실행된 상태이더라도 새로운 창으로 해당 주소가 열리게 함"
   ]
  },
  {
   "cell_type": "code",
   "execution_count": 41,
   "id": "fdf2b07e-c9f9-4e1a-ac1a-9dd800342046",
   "metadata": {
    "tags": []
   },
   "outputs": [
    {
     "data": {
      "text/plain": [
       "True"
      ]
     },
     "execution_count": 41,
     "metadata": {},
     "output_type": "execute_result"
    }
   ],
   "source": [
    "webbrowser.open_new(\"http://google.com\")"
   ]
  },
  {
   "cell_type": "markdown",
   "id": "c6456136-3785-4e03-abeb-b9d6b915d087",
   "metadata": {},
   "source": [
    "### 스레드를 다루는 threading 모듈\n",
    "- ***프로세스*** : 컴퓨터에서 동작하고 있는 프로그램\n",
    "- 보통 1개의 프로세스는 한 가지 일만 하지만 스레드(Thread)를 사용하면 한 프로세스 안에서 2가지 또는 그 이상의 일을 동시에 수행 가능"
   ]
  },
  {
   "cell_type": "code",
   "execution_count": 44,
   "id": "7449db86-4735-467d-a804-e8cb44760acb",
   "metadata": {
    "tags": []
   },
   "outputs": [
    {
     "name": "stdout",
     "output_type": "stream",
     "text": [
      "Start\n",
      "working:0\n",
      "\n",
      "working:1\n",
      "\n",
      "working:2\n",
      "\n",
      "working:3\n",
      "\n",
      "working:4\n",
      "\n",
      "working:0\n",
      "\n",
      "working:1\n",
      "\n",
      "working:2\n",
      "\n",
      "working:3\n",
      "\n",
      "working:4\n",
      "\n",
      "working:0\n",
      "\n",
      "working:1\n",
      "\n",
      "working:2\n",
      "\n",
      "working:3\n",
      "\n",
      "working:4\n",
      "\n",
      "working:0\n",
      "\n",
      "working:1\n",
      "\n",
      "working:2\n",
      "\n",
      "working:3\n",
      "\n",
      "working:4\n",
      "\n",
      "working:0\n",
      "\n",
      "working:1\n",
      "\n",
      "working:2\n",
      "\n",
      "working:3\n",
      "\n",
      "working:4\n",
      "\n",
      "End\n"
     ]
    }
   ],
   "source": [
    "import time\n",
    "\n",
    "def long_task(): # 5초의 시간이 걸리는 함수\n",
    "    for i in range(5):\n",
    "        time.sleep(1) # 1초간 대기\n",
    "        print(\"working:%s\\n\" % i)\n",
    "        \n",
    "print(\"Start\")\n",
    "\n",
    "for i in range(5):\n",
    "    long_task()\n",
    "    \n",
    "print(\"End\")"
   ]
  },
  {
   "cell_type": "markdown",
   "id": "495d9692-8f44-4d48-ad14-bcb58bbbdcd7",
   "metadata": {},
   "source": [
    "***long_task*** 함수 : 수행하는 데 5초의 시간이 걸리는 함수 <br>\n",
    "위 프로그램은 이 함수를 총 5번 반복해서 수행하는 프로그램.<br>\n",
    "이 프로그램은 5초가 5번 반복되니 총 25초의 시간이 걸림.<br>\n",
    "하지만 스레드를 사용하면 5초의 시간이 걸리는 long_task 함수를 동시에 실행할 수 있으니 시간을 줄일 수 있다."
   ]
  },
  {
   "cell_type": "markdown",
   "id": "73a1d2f7-ee91-4eb6-8653-7bf9bfd52d6a",
   "metadata": {},
   "source": [
    "- 스레드를 사용해 수정한 프로그램"
   ]
  },
  {
   "cell_type": "code",
   "execution_count": 45,
   "id": "c855ae9c-5d31-484a-a5aa-1ae4b18a37f8",
   "metadata": {
    "tags": []
   },
   "outputs": [
    {
     "name": "stdout",
     "output_type": "stream",
     "text": [
      "Start\n",
      "End\n",
      "working:0\n",
      "\n",
      "working:0\n",
      "\n",
      "working:0\n",
      "\n",
      "working:0\n",
      "\n",
      "working:0\n",
      "\n",
      "working:1\n",
      "\n",
      "working:1\n",
      "\n",
      "working:1\n",
      "\n",
      "working:1\n",
      "\n",
      "working:1\n",
      "\n",
      "working:2\n",
      "\n",
      "working:2\n",
      "\n",
      "working:2\n",
      "\n",
      "working:2\n",
      "\n",
      "working:2\n",
      "\n",
      "working:3\n",
      "\n",
      "working:3\n",
      "\n",
      "working:3\n",
      "\n",
      "working:3\n",
      "\n",
      "working:3\n",
      "\n",
      "working:4\n",
      "working:4\n",
      "\n",
      "working:4\n",
      "\n",
      "working:4\n",
      "\n",
      "working:4\n",
      "\n",
      "\n"
     ]
    }
   ],
   "source": [
    "import time\n",
    "import threading # 스레드 생성을 위해서는 threading 모듈 필요\n",
    "\n",
    "def long_task():\n",
    "    for i in range(5):\n",
    "        time.sleep(1)\n",
    "        print(\"working:%s\\n\" % i)\n",
    "print(\"Start\")\n",
    "\n",
    "threads = []\n",
    "for i in range(5):\n",
    "    t = threading.Thread(target=long_task) # 스레드 생성\n",
    "    threads.append(t)\n",
    "    \n",
    "for t in threads:\n",
    "    t.start() # 스레드 실행\n",
    "    \n",
    "print(\"End\")"
   ]
  },
  {
   "cell_type": "markdown",
   "id": "9cf0e2cd-4bdc-441f-b659-8c7d88909cf1",
   "metadata": {},
   "source": [
    "이와 같이 프로그램을 수정 후 실행해 보면 25초 걸리던 작업이 5초 정도에 수행된다.<br>\n",
    "threading.Thread를 사용해 만든 스레드 객체가 동시 작업을 가능하게 해 주기 때문<br>\n",
    "하지만 위 프로그램을 실행 시 \"Start\"와 \"End\"가 먼저 출력되고 그 이후에 스레드의 결과가 출력됨. 또한 프로그램이 정상 종료되지 않음.<br>\n",
    "우리가 기대하는 것은 \"Start\"가 출력되고 그 다음에 스레드의 결과 출력 후 마지막으로 \"End\"가 출력되는 것"
   ]
  },
  {
   "cell_type": "markdown",
   "id": "42e321f6-c5ea-4291-979b-5337cfd37b28",
   "metadata": {},
   "source": [
    "- 문제 해결을 위해 수정한 프로그램"
   ]
  },
  {
   "cell_type": "code",
   "execution_count": 46,
   "id": "567c9834-df4f-416e-8931-e6a22995f406",
   "metadata": {
    "tags": []
   },
   "outputs": [
    {
     "name": "stdout",
     "output_type": "stream",
     "text": [
      "Start\n",
      "working:0\n",
      "working:0\n",
      "\n",
      "working:0\n",
      "\n",
      "\n",
      "working:0\n",
      "\n",
      "working:0\n",
      "\n",
      "working:1\n",
      "working:1\n",
      "\n",
      "working:1\n",
      "\n",
      "\n",
      "working:1\n",
      "\n",
      "working:1\n",
      "\n",
      "working:2\n",
      "working:2\n",
      "\n",
      "working:2\n",
      "\n",
      "\n",
      "working:2\n",
      "\n",
      "working:2\n",
      "\n",
      "working:3\n",
      "working:3\n",
      "\n",
      "\n",
      "working:3\n",
      "\n",
      "working:3\n",
      "\n",
      "working:3\n",
      "\n",
      "working:4\n",
      "working:4\n",
      "\n",
      "working:4\n",
      "\n",
      "\n",
      "working:4\n",
      "\n",
      "working:4\n",
      "\n",
      "End\n"
     ]
    }
   ],
   "source": [
    "import time\n",
    "import threading\n",
    "\n",
    "def long_task():\n",
    "    for i in range(5):\n",
    "        time.sleep(1)\n",
    "        print(\"working:%s\\n\" % i)\n",
    "        \n",
    "print(\"Start\")\n",
    "\n",
    "threads = []\n",
    "for i in range(5):\n",
    "    t = threading.Thread(target=long_task)\n",
    "    threads.append(t)\n",
    "for t in threads:\n",
    "    t.start()\n",
    "for t in threads:\n",
    "    t.join() # join으로 스레드가 종료될 때까지 기다림\n",
    "    \n",
    "print(\"End\")"
   ]
  },
  {
   "cell_type": "markdown",
   "id": "5a8099ea-1e96-4eec-b79e-3300a067b430",
   "metadata": {},
   "source": [
    "스레드의 join함수는 해당 스레드가 종료될 때까지 기다리게 함. <br>\n",
    "따라서 위와 같이 수정하면 우리가 원하던 출력을 보게 됨."
   ]
  },
  {
   "cell_type": "markdown",
   "id": "1e03e68f-d94d-4510-808f-940333b4b7cd",
   "metadata": {},
   "source": [
    "# 6장 파이썬 프로그래밍, 어떻게 시작해야 할까?"
   ]
  },
  {
   "cell_type": "markdown",
   "id": "e120dd62-022c-4628-aecf-c32e09def18e",
   "metadata": {},
   "source": [
    "## 6-1 내가 프로그램을 만들 수 있을까?"
   ]
  },
  {
   "cell_type": "markdown",
   "id": "cd0ad149-8719-4c44-9e10-7af4c429088e",
   "metadata": {},
   "source": [
    "### 구구단 만들기"
   ]
  },
  {
   "cell_type": "code",
   "execution_count": 2,
   "id": "316dd00f-321d-45bf-a1a3-559f68637baa",
   "metadata": {
    "tags": []
   },
   "outputs": [
    {
     "name": "stdout",
     "output_type": "stream",
     "text": [
      "[2, 4, 6, 8, 10, 12, 14, 16, 18]\n"
     ]
    }
   ],
   "source": [
    "#답1.\n",
    "def GuGu(n):\n",
    "    result = []\n",
    "    for i in range(1,10):\n",
    "        result.append(n*i)\n",
    "    return result\n",
    "print(GuGu(2))"
   ]
  },
  {
   "cell_type": "code",
   "execution_count": 3,
   "id": "9644030e-7805-4d7a-a1b0-8ccbe305e1e7",
   "metadata": {
    "tags": []
   },
   "outputs": [],
   "source": [
    "def GuGu(n):\n",
    "    result = []\n",
    "    i = 1\n",
    "    while i < 10:\n",
    "        result.append(n*i)\n",
    "        i = i + 1\n",
    "    return result"
   ]
  },
  {
   "cell_type": "code",
   "execution_count": 4,
   "id": "01efc75c-909b-4e63-b39a-91db5a02ea41",
   "metadata": {
    "tags": []
   },
   "outputs": [
    {
     "name": "stdout",
     "output_type": "stream",
     "text": [
      "[2, 4, 6, 8, 10, 12, 14, 16, 18]\n"
     ]
    }
   ],
   "source": [
    "print(GuGu(2))"
   ]
  },
  {
   "cell_type": "markdown",
   "id": "1577fd31-3d25-46bf-bc6f-9e3a54465e30",
   "metadata": {},
   "source": [
    "### 6-2 3과 5의 배수 합하기"
   ]
  },
  {
   "cell_type": "code",
   "execution_count": 5,
   "id": "6ecc5e14-fea0-4a4c-b11f-2ed26f725fca",
   "metadata": {
    "tags": []
   },
   "outputs": [
    {
     "name": "stdout",
     "output_type": "stream",
     "text": [
      "233168\n"
     ]
    }
   ],
   "source": [
    "result = 0\n",
    "for n in range(1,1000):\n",
    "    if n%3 == 0 or n%5 == 0:\n",
    "        result += n\n",
    "print(result)"
   ]
  },
  {
   "cell_type": "markdown",
   "id": "d413d02e-aee0-4b2a-80a1-1156c752f899",
   "metadata": {},
   "source": [
    "- 15와 같은 수를 이중으로 더하여 잘못된 결과를 출력하는 경우"
   ]
  },
  {
   "cell_type": "code",
   "execution_count": 6,
   "id": "a9909f84-f4fb-4610-8db3-4f27dd0ae4ca",
   "metadata": {
    "tags": []
   },
   "outputs": [
    {
     "name": "stdout",
     "output_type": "stream",
     "text": [
      "266333\n"
     ]
    }
   ],
   "source": [
    "result = 0\n",
    "for n in range(1,1000):\n",
    "    if n%3 == 0:\n",
    "        result += n\n",
    "    if n%5 == 0:\n",
    "        result += n\n",
    "print(result)"
   ]
  },
  {
   "cell_type": "markdown",
   "id": "f76eaa84-2854-4d08-936f-cb6cc9529c7b",
   "metadata": {},
   "source": [
    "- 코딩연습사이트"
   ]
  },
  {
   "cell_type": "markdown",
   "id": "991e0318-4692-436c-a5ff-79a973a1401d",
   "metadata": {
    "tags": []
   },
   "source": [
    "https://euler.synap.co.kr/prob_list.php"
   ]
  },
  {
   "cell_type": "markdown",
   "id": "db969a60-5ea1-4991-bc09-c132af5de7a3",
   "metadata": {},
   "source": [
    "### 6-3 게시판 페이징하기"
   ]
  },
  {
   "cell_type": "markdown",
   "id": "b0013c80-cce7-425f-bbea-58f72a8fc917",
   "metadata": {},
   "source": [
    "### 게시판 프로그램 만들기 \n",
    "- 게시물의 총 건수와 한 페이지에 보여 줄 게시물 수를 입력으로 주었을 때 총 페이지 수 출력"
   ]
  },
  {
   "cell_type": "code",
   "execution_count": 8,
   "id": "66af5bbf-e142-4806-a0a6-98406e439240",
   "metadata": {
    "tags": []
   },
   "outputs": [
    {
     "name": "stdout",
     "output_type": "stream",
     "text": [
      "1\n",
      "2\n",
      "3\n",
      "4\n"
     ]
    }
   ],
   "source": [
    "def getTotalPage(m,n):\n",
    "    return m // n + 1\n",
    "\n",
    "print(getTotalPage(5,10)) # 첫 번째 케이스, 1 출력\n",
    "print(getTotalPage(15,10)) # 두 번째 케이스, 2 출력\n",
    "print(getTotalPage(25,10)) # 세 번째 케이스, 3 출력\n",
    "print(getTotalPage(30,10)) # 네 번째 케이스, 3이 출력되어야 하는데 4가 출력\n"
   ]
  },
  {
   "cell_type": "markdown",
   "id": "eed2dd84-1dff-4414-b4fa-d57b34ca6744",
   "metadata": {},
   "source": [
    "- 코드 변경"
   ]
  },
  {
   "cell_type": "code",
   "execution_count": 9,
   "id": "2cdf4802-2f88-4c55-9bf6-36502d0f0866",
   "metadata": {
    "tags": []
   },
   "outputs": [],
   "source": [
    "def getTotalPage(m,n):\n",
    "    if m % n == 0:\n",
    "        return m // n\n",
    "    else:\n",
    "        return m // n  + 1"
   ]
  },
  {
   "cell_type": "code",
   "execution_count": 11,
   "id": "d35ede4c-e22d-4c4d-ae4d-e54cad74d2f6",
   "metadata": {
    "tags": []
   },
   "outputs": [
    {
     "name": "stdout",
     "output_type": "stream",
     "text": [
      "1\n",
      "2\n",
      "3\n",
      "3\n"
     ]
    }
   ],
   "source": [
    "print(getTotalPage(5,10)) \n",
    "print(getTotalPage(15,10)) \n",
    "print(getTotalPage(25,10)) \n",
    "print(getTotalPage(30,10))"
   ]
  },
  {
   "cell_type": "markdown",
   "id": "6a840ccf-c00e-49fe-a472-66cb19f3b478",
   "metadata": {},
   "source": [
    "### 6-4 간단한 메모장 만들기\n",
    "- 원하는 메모를 파일에 저장하고 추가 및 조회가 가능한 간단한 메모장을 만들어 보자."
   ]
  },
  {
   "cell_type": "markdown",
   "id": "c004b469-cef2-4b5c-b1d5-bc9320e0c7ce",
   "metadata": {
    "tags": []
   },
   "source": [
    "- 입력으로 받은 옵션과 메모를 출력하는 코드 작성"
   ]
  },
  {
   "cell_type": "code",
   "execution_count": 1,
   "id": "945079eb-ba82-44d7-8304-83db864c6e5e",
   "metadata": {},
   "outputs": [
    {
     "name": "stdout",
     "output_type": "stream",
     "text": [
      "-f\n",
      "C:\\Users\\user\\AppData\\Roaming\\jupyter\\runtime\\kernel-63ce7524-6808-449b-b6ca-b1a52ad2b60d.json\n"
     ]
    }
   ],
   "source": [
    "# memo.py\n",
    "import sys\n",
    "\n",
    "option = sys.argv[1]\n",
    "memo = sys.argv[2]\n",
    "\n",
    "print(option)\n",
    "print(memo)"
   ]
  },
  {
   "cell_type": "code",
   "execution_count": 2,
   "id": "13207acb-4ad9-43a0-954d-cd3c1bb91da9",
   "metadata": {
    "tags": []
   },
   "outputs": [
    {
     "ename": "SyntaxError",
     "evalue": "invalid syntax (713810283.py, line 2)",
     "output_type": "error",
     "traceback": [
      "\u001b[1;36m  Cell \u001b[1;32mIn[2], line 2\u001b[1;36m\u001b[0m\n\u001b[1;33m    python memo.py -a \"Life is too short\"\u001b[0m\n\u001b[1;37m           ^\u001b[0m\n\u001b[1;31mSyntaxError\u001b[0m\u001b[1;31m:\u001b[0m invalid syntax\n"
     ]
    }
   ],
   "source": [
    "# 다음 명령 수행\n",
    ">>python memo.py -a \"Life is too short\"\n",
    "-a\n",
    "Life is too short"
   ]
  },
  {
   "cell_type": "markdown",
   "id": "78f1c499-928f-43a4-a5ba-1c4bac323676",
   "metadata": {
    "tags": []
   },
   "source": [
    "- 입력으로 받은 메모를 파일에 쓰도록 코드 변경"
   ]
  },
  {
   "cell_type": "code",
   "execution_count": null,
   "id": "7a3e0973-78c1-42fb-9739-11b8ddc9c813",
   "metadata": {},
   "outputs": [],
   "source": [
    "# memo.py\n",
    "import sys\n",
    "\n",
    "option = sys.argv[1]\n",
    "\n",
    "if option == '-a':\n",
    "    memo = sys.argv[2]\n",
    "    f = open('memo.txt', 'a')\n",
    "    f.write(memo)\n",
    "    f.write('\\n')\n",
    "    f.close()"
   ]
  },
  {
   "cell_type": "markdown",
   "id": "248ea321-62ca-41f6-a1d1-1c4e5d3946cc",
   "metadata": {},
   "source": [
    "다시 명령어를 수행하면 추가한 메모가 정상적으로 저장"
   ]
  },
  {
   "cell_type": "markdown",
   "id": "ff8dd23a-4cbb-48e6-804b-cb79428cf847",
   "metadata": {},
   "source": [
    "- 메모 출력 코드"
   ]
  },
  {
   "cell_type": "code",
   "execution_count": null,
   "id": "0d33c732-054a-4c41-aaef-2525c1212c47",
   "metadata": {},
   "outputs": [],
   "source": [
    "#memo.py\n",
    "import sys\n",
    "\n",
    "option = sys.argv[1]\n",
    "\n",
    "if option == '-a':\n",
    "    memo = sys.argv[2]\n",
    "    f = open('memo.txt', 'a')\n",
    "    f.write(memo)\n",
    "    f.write('\\n')\n",
    "    f.close()\n",
    "   \n",
    "elif option == '-v':\n",
    "    f = open('memo.txt')\n",
    "    memo = f.read()\n",
    "    f.close()\n",
    "    print(memo)"
   ]
  },
  {
   "cell_type": "code",
   "execution_count": null,
   "id": "c0475a5d-4705-4605-8e52-8ce046a99a58",
   "metadata": {},
   "outputs": [],
   "source": [
    ">> python memo.py -v\n",
    "Life is too short"
   ]
  },
  {
   "cell_type": "markdown",
   "id": "8376f37d-514c-417b-891c-6dfaf7c5bb7f",
   "metadata": {},
   "source": [
    "입력한 메모가 그대로 출력"
   ]
  },
  {
   "cell_type": "markdown",
   "id": "a957d5a5-6a5a-4349-955f-b424c7ba775f",
   "metadata": {},
   "source": [
    "## 6-5 탭을 4개의 공백을 바꾸기"
   ]
  },
  {
   "cell_type": "markdown",
   "id": "a4185a88-3040-48e3-a6e7-68e0c5eba97b",
   "metadata": {
    "tags": []
   },
   "source": [
    "- 스크립트"
   ]
  },
  {
   "cell_type": "markdown",
   "id": "b6d65ec3-88b8-4090-a2e2-5e1069f97bd7",
   "metadata": {},
   "source": [
    "***필요한 기능은?*** 문서 파일 읽어 들이기, 문자열 변경<br>\n",
    "***입력받는 값은?*** 탭을 포함한 문서 파일<br>\n",
    "***출력하는 값은?*** 탭이 공백으로 수정된 문서 파일<br>"
   ]
  },
  {
   "cell_type": "markdown",
   "id": "d25ae494-cbcd-4b26-a9e5-8139a5ee1456",
   "metadata": {},
   "source": [
    "# 7장 정규표현식"
   ]
  },
  {
   "cell_type": "markdown",
   "id": "ff1a45fd-99c7-48ee-acc2-d88c73c79b10",
   "metadata": {},
   "source": [
    "## 7-1 정규표현식 살펴보기"
   ]
  },
  {
   "cell_type": "markdown",
   "id": "e18eb815-2a20-4748-9faa-3a07af62256e",
   "metadata": {},
   "source": [
    "### 정규표현식은 왜 필요한가?"
   ]
  },
  {
   "cell_type": "markdown",
   "id": "78decc9a-d5e5-467a-a364-cdb4e77909ef",
   "metadata": {},
   "source": [
    "- 주민등록번호를 포함하고 있는 텍스트가 있다. 이 텍스트에 포함된 모든 주민등록번호의 뒷자리를 * 문자로 변경해 보자."
   ]
  },
  {
   "cell_type": "code",
   "execution_count": 3,
   "id": "a18abef8-ff1c-438a-b3cb-b70f47c19c8b",
   "metadata": {
    "tags": []
   },
   "outputs": [
    {
     "name": "stdout",
     "output_type": "stream",
     "text": [
      "\n",
      "park 800905-*******\n",
      "kim  700905-*******\n",
      "\n"
     ]
    }
   ],
   "source": [
    "# 정규표현식 없이 작성\n",
    "data = \"\"\"\n",
    "park 800905-1049118\n",
    "kim  700905-1059119\n",
    "\"\"\"\n",
    "\n",
    "result = []\n",
    "for line in data.split(\"\\n\"):\n",
    "    word_result = []\n",
    "    for word in line.split(\" \"):\n",
    "        if len(word) == 14 and word[:6].isdigit() and word[7:].isdigit():\n",
    "            word = word[:6] + \"-\" + \"*******\"\n",
    "        word_result.append(word)\n",
    "    result.append(\" \".join(word_result))\n",
    "print(\"\\n\".join(result))    \n",
    "        \n"
   ]
  },
  {
   "cell_type": "markdown",
   "id": "63ea0885-433c-45c0-9c9f-443510e5df28",
   "metadata": {},
   "source": [
    "- 정규표현식 사용해 코드 작성"
   ]
  },
  {
   "cell_type": "code",
   "execution_count": 4,
   "id": "f926eba8-27bb-4dac-bde8-249375acbb65",
   "metadata": {
    "tags": []
   },
   "outputs": [
    {
     "name": "stdout",
     "output_type": "stream",
     "text": [
      "\n",
      "park 800905-*******\n",
      "kim  700905-*******\n",
      "\n"
     ]
    }
   ],
   "source": [
    "import re\n",
    "\n",
    "data = \"\"\"\n",
    "park 800905-1049118\n",
    "kim  700905-1059119\n",
    "\"\"\"\n",
    "\n",
    "pat = re.compile(\"(\\d{6})[-]\\d{7}\")\n",
    "print(pat.sub(\"\\g<1>-*******\", data))"
   ]
  },
  {
   "cell_type": "markdown",
   "id": "a70edaba-9142-4dd7-bec6-f640322bd57a",
   "metadata": {},
   "source": [
    "## 7-2 정규 표현식 시작하기"
   ]
  },
  {
   "cell_type": "markdown",
   "id": "bb26cebc-e353-4ccf-bbf9-ac6f8cd27e91",
   "metadata": {},
   "source": [
    "### 정규 표현식의 기초, 메타 문자\n",
    "- .^$+?{}[]\\|()"
   ]
  },
  {
   "cell_type": "markdown",
   "id": "1c474876-37e8-4dd2-87b7-9f138bd497e3",
   "metadata": {
    "tags": []
   },
   "source": [
    "#### 문자 클래스\n",
    "- [] 사이의 문자들과 매치\n",
    "- ex) [abc] = 'a,b,c 중 한 개의 문자와 매치'\n",
    "- [] 안의 두 문자 사이에 하이픈(-) 사용 = 두 문자 사이의 범위(From - To)\n",
    "- ex) [a-c] = [abc] <br>\n",
    "      &nbsp;&nbsp;&nbsp;&nbsp;&nbsp;&nbsp;[0-5] = [012345]\n",
    "- [a-zA-Z]: 알파벳 모두 \n",
    "- ^ : 반대(not)의 의미\n",
    "- ex) [^0-9] : 숫자가 아닌 문자만 매치"
   ]
  },
  {
   "cell_type": "markdown",
   "id": "d3519f67-92b8-49f1-8b30-324f92da7de6",
   "metadata": {
    "tags": []
   },
   "source": [
    "##### 자주 사용하는 문자 클래스\n",
    "|정규표현식|설명|\n",
    "|------|---|\n",
    "|\\d|숫자와 매치, [0-9]와 동일|\n",
    "|\\D|숫자가 아닌 것과 매치, [^0-9]와 동일|\n",
    "|\\s|whitespace 문자(space나 tab처럼 공백을 표현하는 문자)와 매치, [/t/n/r/f/v]와 동일. 맨 앞의 빈칸은 공백 문자(space)를 의미|\n",
    "|\\S|whitespace 문자가 아닌 것과 매치, [^/t/n/r/f/v]와 동일|\n",
    "|\\w|문자+숫자(alphanumeric)와 매치, [a-zA-Z0-9_]와 동일|\n",
    "|\\W|문자+숫자(alphanumeric)가 아닌 문자와 매치, [^a-zA-Z0-9_]와 동일|"
   ]
  },
  {
   "cell_type": "markdown",
   "id": "9419773e-18e9-4a1d-9a7c-2246cdd52f05",
   "metadata": {
    "tags": []
   },
   "source": [
    "##### Dot(.)\n",
    "- \\n을 제외한 모든 문자와 매치\n",
    "- re.DOTALL 옵션을 주면 \\n 문자와도 매치"
   ]
  },
  {
   "cell_type": "code",
   "execution_count": null,
   "id": "e9272f78-c345-4a54-b6ea-9c114c4dbfe9",
   "metadata": {},
   "outputs": [],
   "source": [
    "a.b # a와 b 사이에 줄바꿈 문자를 제외한 어떤 문자가 들어가도 모두 매치"
   ]
  },
  {
   "cell_type": "markdown",
   "id": "d6ff956e-acba-4689-a448-42534c0af86c",
   "metadata": {},
   "source": [
    "\"a + 모든 문자 + b\""
   ]
  },
  {
   "cell_type": "code",
   "execution_count": null,
   "id": "145b1fa4-513b-4c6a-832d-96a22a7b2cb4",
   "metadata": {},
   "outputs": [],
   "source": [
    "a[.]b # a와 b 사이에 Dot(.) 문자가 있으면 매치"
   ]
  },
  {
   "cell_type": "markdown",
   "id": "beeb19d9-14d8-4f6d-9e60-0ab85272f790",
   "metadata": {},
   "source": [
    "\"a + Dot(.)문자 + b\""
   ]
  },
  {
   "cell_type": "markdown",
   "id": "16cd3a8a-cab6-464d-8fbe-802904384bbe",
   "metadata": {},
   "source": [
    "##### 반복(*) : 0번 이상"
   ]
  },
  {
   "cell_type": "code",
   "execution_count": null,
   "id": "e42dde5a-317a-4227-b9c4-2a1386c4d05b",
   "metadata": {},
   "outputs": [],
   "source": [
    "ca*t # 문자 바로 앞에 있는 a가 0번 이상 반복되면 매치"
   ]
  },
  {
   "cell_type": "markdown",
   "id": "3df7fc20-68fa-4558-a54d-73245c519baa",
   "metadata": {},
   "source": [
    "*은 * 바로 앞에 있는 문자 a가 0부터 무한대로 반복될 수 있다는 의미"
   ]
  },
  {
   "cell_type": "markdown",
   "id": "59650a15-4e7e-4722-a9cf-e8f04f448750",
   "metadata": {
    "tags": []
   },
   "source": [
    "##### 반복(+) : 1번 이상\n",
    "- +는 최소 1번 이상 반복될 때 사용\n",
    "- *은 반복 횟수 0부터\n",
    "- +은 반복 횟수 1부터"
   ]
  },
  {
   "cell_type": "code",
   "execution_count": null,
   "id": "de6a1cab-b50b-470c-a8d0-456cd1bd8906",
   "metadata": {},
   "outputs": [],
   "source": [
    "ca+t # 문자 바로 앞에 있는 a가 1번 이상 반복되면 매치"
   ]
  },
  {
   "cell_type": "markdown",
   "id": "de69cb0e-e8dc-409a-90f7-c174cd74a4a3",
   "metadata": {
    "tags": []
   },
   "source": [
    "\"c + a(1번 이상 반복) + t\""
   ]
  },
  {
   "cell_type": "markdown",
   "id": "503d076d-8937-44b4-ad7e-81ae4b950a4b",
   "metadata": {
    "tags": []
   },
   "source": [
    "##### 반복({m,n}, ?)\n",
    "- {} 메타 문자를 사용하면 반복 횟수 고정 가능\n",
    "- {m,n} 정규식을 사용하면 반복 횟수가 m부터 n까지 매치 가능\n",
    "- m 또는 n을 생략 가능\n",
    "- 생략된 m은 0과 동일, 생략된 n은 무한대(2억 개 미만)의 의미\n",
    "- {3,} : 반복 횟수 3 이상\n",
    "- {,3} : 반복 횟수 3 이하\n",
    "- {1,}은 + 와 동일\n",
    "- {0,}은 * 와 동일\n"
   ]
  },
  {
   "cell_type": "markdown",
   "id": "5f31a8a7-fb74-42ae-8a87-deef54da2cf6",
   "metadata": {
    "tags": []
   },
   "source": [
    "##### 1. {m} "
   ]
  },
  {
   "cell_type": "code",
   "execution_count": null,
   "id": "55e0d1db-5bb7-49e6-9233-3b7eaf0325fe",
   "metadata": {},
   "outputs": [],
   "source": [
    "ca{2}t #a가 2번 반복되면 매치"
   ]
  },
  {
   "cell_type": "markdown",
   "id": "39dc6732-d8c2-4c2b-ae7e-0450d3578712",
   "metadata": {},
   "source": [
    "\"c + a(반드시 2번 반복) + t\""
   ]
  },
  {
   "cell_type": "markdown",
   "id": "5a3d935d-464d-4ddd-acf3-4498c44f3a3a",
   "metadata": {},
   "source": [
    "##### 2. {m,n}"
   ]
  },
  {
   "cell_type": "code",
   "execution_count": null,
   "id": "58940654-7eca-49f7-9386-afccffbd6190",
   "metadata": {},
   "outputs": [],
   "source": [
    "ca(2,5)t # a가 2~5번 반복되면 매치"
   ]
  },
  {
   "cell_type": "markdown",
   "id": "dcd420a0-ab0a-4f67-96f8-93fdba961717",
   "metadata": {},
   "source": [
    "\"c + a(2~5번 반복) + t\""
   ]
  },
  {
   "cell_type": "markdown",
   "id": "8c2c22fa-ade2-44d1-b048-a7f4d1f4d84f",
   "metadata": {},
   "source": [
    "##### 3. ?\n",
    "- {0,1}을 의미"
   ]
  },
  {
   "cell_type": "code",
   "execution_count": null,
   "id": "46222011-7d0a-4929-9251-f81f83ca3f99",
   "metadata": {},
   "outputs": [],
   "source": [
    "ab?c # b가 0~1번 사용되면 매치"
   ]
  },
  {
   "cell_type": "markdown",
   "id": "a8c5be7c-de36-448c-8c33-1076ff327a04",
   "metadata": {},
   "source": [
    "\"a + b(있어도 되고 없어도 된다) + c\""
   ]
  },
  {
   "cell_type": "markdown",
   "id": "f04124ed-b3e4-4d92-a505-fe11884891c6",
   "metadata": {},
   "source": [
    "지금까지 아주 기초적인 정규 표현식에 대해 알아보았다.<br>\n",
    "이제 파이썬으로 이러한 정규 표현식을 어떻게 사용할 수 있는지 먼저 알아보자."
   ]
  },
  {
   "cell_type": "markdown",
   "id": "11092757-99ca-4854-ba37-934bec980bf1",
   "metadata": {},
   "source": [
    "### 파이썬에서 정규 표현식을 지원하는 re 모듈\n",
    "- 파이썬은 정규 표현식을 지원하기 위해 re(regular expression의 약어) 모듈을 제공\n",
    "- 파이썬을 설치할 때 자동으로 설치되는 기본 라이브러리"
   ]
  },
  {
   "cell_type": "markdown",
   "id": "31044a5b-8368-4fed-b2d3-8e255135dabc",
   "metadata": {},
   "source": [
    "- ***re*** 모듈 사용 방법"
   ]
  },
  {
   "cell_type": "code",
   "execution_count": 16,
   "id": "60a57ff0-642b-4526-a562-89cc55036cec",
   "metadata": {
    "tags": []
   },
   "outputs": [],
   "source": [
    "import re\n",
    "p = re.compile('ab*')"
   ]
  },
  {
   "cell_type": "markdown",
   "id": "cef2a08d-afeb-4cb3-bcc3-5493d4078ad5",
   "metadata": {},
   "source": [
    "***re.compile***을 사용하여 정규 표현식(위 예에서는 ab*)을 컴파일<br>\n",
    "***re.compile***의 결과로 돌려주는 객체 p(컴파일된 패턴 객체)를 사용하여 그 이후의 작업 수행 가능"
   ]
  },
  {
   "cell_type": "markdown",
   "id": "a03de440-4d53-44b8-b3c1-3827958b4f45",
   "metadata": {},
   "source": [
    "### 정규식을 사용한 문자열 검색\n",
    "- 이제 컴파일된 패턴 객체를 사용해 문자열 검색을 수행해 보자.\n",
    "- 컴파일된 패턴 객체는 다음과 같은 4가지 메서드를 제공"
   ]
  },
  {
   "cell_type": "markdown",
   "id": "36bec841-c4c9-4fb4-a271-d459934cb364",
   "metadata": {},
   "source": [
    "|메서드|목적|\n",
    "|------|---|\n",
    "|match()| 문자열의 처음부터 정규식과 매치되는지 조사|\n",
    "|search()|문자열 전체를 검색하여 정규식과 매치되는지 조사|\n",
    "|findall()|정규식과 매치되는 모든 문자열(substring)을 리스트로 돌려줌|\n",
    "|finditer()| 정규식과 매치되는 모든 문자열(substring)을 반복 가능한 객체로 돌려줌|"
   ]
  },
  {
   "cell_type": "markdown",
   "id": "a6100fbc-c005-4dd5-9051-ce78bd71317d",
   "metadata": {},
   "source": [
    "***match***, ***search***는 정규식과 매치될 때는 ***match 객체***를 돌려주고,<br>\n",
    "매치되지 않을 때는 ***None***을 돌려줌"
   ]
  },
  {
   "cell_type": "code",
   "execution_count": 17,
   "id": "f4b26271-a6c9-4ee0-8a3d-844662c27583",
   "metadata": {
    "tags": []
   },
   "outputs": [],
   "source": [
    "import re\n",
    "p = re.compile('[a-z]+')"
   ]
  },
  {
   "cell_type": "markdown",
   "id": "bf19f4a6-c4fc-49a9-8be3-24e03a88166c",
   "metadata": {},
   "source": [
    "#### match : 문자열 처음부터\n",
    "- match 메서드는 문자열의 처음부터 정규식과 매치되는지 조사"
   ]
  },
  {
   "cell_type": "code",
   "execution_count": 18,
   "id": "457cd2cd-575b-4291-9edc-97a9a5bb1049",
   "metadata": {
    "tags": []
   },
   "outputs": [],
   "source": [
    "m = p.match(\"python\")"
   ]
  },
  {
   "cell_type": "code",
   "execution_count": 19,
   "id": "6771bd2c-b560-45c6-869e-d932838b3fcf",
   "metadata": {
    "tags": []
   },
   "outputs": [
    {
     "name": "stdout",
     "output_type": "stream",
     "text": [
      "<re.Match object; span=(0, 6), match='python'>\n"
     ]
    }
   ],
   "source": [
    "print(m)"
   ]
  },
  {
   "cell_type": "markdown",
   "id": "fe841bd6-1cef-4cd3-bc6d-4ae20f5df099",
   "metadata": {},
   "source": [
    "\"python\" 문자열은 [a-z]+ 정규식에 부합되므로 match 객체를 돌려줌"
   ]
  },
  {
   "cell_type": "code",
   "execution_count": 20,
   "id": "ebe70ff8-a049-49ff-952a-f9868d5e8c1b",
   "metadata": {
    "tags": []
   },
   "outputs": [],
   "source": [
    "m = p.match(\"3 python\")"
   ]
  },
  {
   "cell_type": "code",
   "execution_count": 21,
   "id": "8535eec3-ae57-4cab-a91d-bb4caac37769",
   "metadata": {
    "tags": []
   },
   "outputs": [
    {
     "name": "stdout",
     "output_type": "stream",
     "text": [
      "None\n"
     ]
    }
   ],
   "source": [
    "print(m)"
   ]
  },
  {
   "cell_type": "markdown",
   "id": "da676f73-69c0-44c1-bf54-270f8fa2589c",
   "metadata": {},
   "source": [
    "\"3 python\" 문자열은 처음에 나오는 문자 3이 정규식[a-z]+에 부합되지 않으므로 None을 돌려줌"
   ]
  },
  {
   "cell_type": "markdown",
   "id": "d1deb0fa-9255-4981-8396-41e3c6a7a23d",
   "metadata": {},
   "source": [
    "- match의 결과로 match 객체 또는 None을 돌려주기 때문에 파이썬 정규식 프로그램은 보통 다음과 같은 흐름으로 작성"
   ]
  },
  {
   "cell_type": "code",
   "execution_count": null,
   "id": "10a9abea-e529-44d9-9889-a68e81e6c016",
   "metadata": {},
   "outputs": [],
   "source": [
    "p = re.compile(정규 표현식)\n",
    "m = p.match(\"조사할 문자열\")\n",
    "if m:\n",
    "    print('Match found: ', m.group())\n",
    "else:\n",
    "    print('No match')"
   ]
  },
  {
   "cell_type": "markdown",
   "id": "8eca1cd5-7332-44d1-853d-4674299c66e3",
   "metadata": {},
   "source": [
    "즉 match의 결괏값이 있을 때만 그다음 작업을 수행하겠다는 것"
   ]
  },
  {
   "cell_type": "markdown",
   "id": "94336c53-8b41-4f3d-9ad0-9464516f540f",
   "metadata": {},
   "source": [
    "#### search : 문자열 전체"
   ]
  },
  {
   "cell_type": "code",
   "execution_count": 23,
   "id": "88279808-873e-48fa-8a32-c8e71ac68b9e",
   "metadata": {
    "tags": []
   },
   "outputs": [
    {
     "name": "stdout",
     "output_type": "stream",
     "text": [
      "<re.Match object; span=(0, 6), match='python'>\n"
     ]
    }
   ],
   "source": [
    "m = p.search(\"python\")\n",
    "print(m)"
   ]
  },
  {
   "cell_type": "markdown",
   "id": "ef83eb14-515d-4042-b1f4-58deb1743936",
   "metadata": {},
   "source": [
    "\"python\" 문자열에 search 메서드를 수행하면 match 메서드를 수행했을 때와 동일하게 매치됨"
   ]
  },
  {
   "cell_type": "code",
   "execution_count": 24,
   "id": "d7c69a77-28b5-4cba-9deb-00b418896809",
   "metadata": {
    "tags": []
   },
   "outputs": [
    {
     "name": "stdout",
     "output_type": "stream",
     "text": [
      "<re.Match object; span=(2, 8), match='python'>\n"
     ]
    }
   ],
   "source": [
    "m = p.search(\"3 python\")\n",
    "print(m)"
   ]
  },
  {
   "cell_type": "markdown",
   "id": "a88e965b-9973-41e2-b62f-bcc7e3834b09",
   "metadata": {
    "tags": []
   },
   "source": [
    "\"3 python\" 문자열의 첫 번째 문자는 \"3\"이지만 search는 문자열의 처음부터 검색하는 것이 아니라 문자열 전체를 검색하기 때문에 \"3\" 이후의 \"python\" 문자열과 매치됨"
   ]
  },
  {
   "cell_type": "markdown",
   "id": "6cc44fb2-3760-40e5-b51d-09cc5b3616fd",
   "metadata": {},
   "source": [
    "이렇듯 match 메서드와 search 메서드는 문자열의 처음부터 검색할지의 여부에 따라 다르게 사용"
   ]
  },
  {
   "cell_type": "markdown",
   "id": "770fd4fd-2a88-4cd8-9a53-f60f3e10fa64",
   "metadata": {},
   "source": [
    "#### findall"
   ]
  },
  {
   "cell_type": "code",
   "execution_count": 26,
   "id": "547fabb8-96d5-405e-bc3a-2dd042395b6f",
   "metadata": {
    "tags": []
   },
   "outputs": [
    {
     "name": "stdout",
     "output_type": "stream",
     "text": [
      "['life', 'is', 'too', 'short']\n"
     ]
    }
   ],
   "source": [
    "result = p.findall(\"life is too short\")\n",
    "print(result)"
   ]
  },
  {
   "cell_type": "markdown",
   "id": "c7886d3e-846b-4131-9c2f-dbb417bdae41",
   "metadata": {},
   "source": [
    "\"life is too short\" 문자열의 'life', 'is', 'too', 'short' 단어를 각각 [a-z]+ 정규식과 매치해서 리스트로 돌려줌"
   ]
  },
  {
   "cell_type": "markdown",
   "id": "96b1be15-abf1-407d-8b87-2f6a2c0ad927",
   "metadata": {},
   "source": [
    "#### finditer"
   ]
  },
  {
   "cell_type": "code",
   "execution_count": 27,
   "id": "c21ce5a3-5ee8-410f-81fd-a16255903389",
   "metadata": {
    "tags": []
   },
   "outputs": [
    {
     "name": "stdout",
     "output_type": "stream",
     "text": [
      "<callable_iterator object at 0x0000020D8DA144F0>\n"
     ]
    }
   ],
   "source": [
    "result = p.finditer(\"life is too short\")\n",
    "print(result)"
   ]
  },
  {
   "cell_type": "code",
   "execution_count": 28,
   "id": "8d5f6667-69b4-4dfb-8d1b-a584a8196e6e",
   "metadata": {
    "tags": []
   },
   "outputs": [
    {
     "name": "stdout",
     "output_type": "stream",
     "text": [
      "<re.Match object; span=(0, 4), match='life'>\n",
      "<re.Match object; span=(5, 7), match='is'>\n",
      "<re.Match object; span=(8, 11), match='too'>\n",
      "<re.Match object; span=(12, 17), match='short'>\n"
     ]
    }
   ],
   "source": [
    "for r in result:\n",
    "    print(r)"
   ]
  },
  {
   "cell_type": "markdown",
   "id": "fd7b43fb-ac01-4cb2-8e29-0d7c76f7d0e8",
   "metadata": {},
   "source": [
    "finditer은 findall과 동일하지만 그 결과로 반복 가능한 객체(iterable object)를 돌려줌.<br>\n",
    "반복 가능한 객체가 포함하는 각각의 요소는 match 객체"
   ]
  },
  {
   "cell_type": "markdown",
   "id": "11bb7902-13ae-4b62-98fa-034d86f7fd93",
   "metadata": {
    "tags": []
   },
   "source": [
    "#### 예제"
   ]
  },
  {
   "cell_type": "markdown",
   "id": "0ca1ce20-b80e-4502-badf-7f24bd8a98e6",
   "metadata": {
    "tags": []
   },
   "source": [
    "- msg = \"010-1234-5678 peter 010-1234-5679\" 에서 전화번호만 골라서 출력"
   ]
  },
  {
   "cell_type": "code",
   "execution_count": 57,
   "id": "4b0af952-d847-4036-8bb9-fe41fb0e718e",
   "metadata": {
    "tags": []
   },
   "outputs": [
    {
     "name": "stdout",
     "output_type": "stream",
     "text": [
      "<re.Match object; span=(0, 13), match='010-1234-5678'>\n"
     ]
    }
   ],
   "source": [
    "# search 사용\n",
    "import re\n",
    "msg = \"010-1234-5678 peter 010-1234-5679\"\n",
    "p = re.compile(\"\\d{3}-\\d{4}-\\d{4}\")\n",
    "m = p.search(msg)\n",
    "print(m)"
   ]
  },
  {
   "cell_type": "code",
   "execution_count": 60,
   "id": "87b808c8-94fe-4d59-a8a2-9067a6cd30c6",
   "metadata": {
    "tags": []
   },
   "outputs": [
    {
     "name": "stdout",
     "output_type": "stream",
     "text": [
      "['010-1234-5678', '010-1234-5679']\n"
     ]
    }
   ],
   "source": [
    "# findall 사용\n",
    "print(p.findall(msg))"
   ]
  },
  {
   "cell_type": "code",
   "execution_count": 61,
   "id": "893f8b47-40b9-40f9-9c45-fd27633266ae",
   "metadata": {
    "tags": []
   },
   "outputs": [
    {
     "name": "stdout",
     "output_type": "stream",
     "text": [
      "010-1234-5678\n",
      "010-1234-5679\n"
     ]
    }
   ],
   "source": [
    "phones = p.findall(msg)\n",
    "for phone in phones:\n",
    "    print(phone)"
   ]
  },
  {
   "cell_type": "code",
   "execution_count": 66,
   "id": "ce21fb2f-cec8-4148-ac4a-bb12f27c16e9",
   "metadata": {
    "tags": []
   },
   "outputs": [
    {
     "name": "stdout",
     "output_type": "stream",
     "text": [
      "<callable_iterator object at 0x0000020D926537F0>\n",
      "010-1234-5678\n",
      "010-1234-5679\n"
     ]
    }
   ],
   "source": [
    "#finditer 사용\n",
    "result = p.finditer(msg)\n",
    "print(result)\n",
    "for r in result: print(r.group())"
   ]
  },
  {
   "cell_type": "markdown",
   "id": "4b88396e-80c3-4c33-a5b6-0def7f3b0067",
   "metadata": {},
   "source": [
    "### match 객체의 메서드\n",
    "|메서드|목적|\n",
    "|------|---|\n",
    "|group()|매치된 문자열을 돌려줌|\n",
    "|start()|매치된 문자열의 시작 위치를 돌려줌|\n",
    "|end()|매치된 문자열의 끝 위치를 돌려줌|\n",
    "|span()|매치된 문자열의 (시작,끝)에 해당하는 튜플을 돌려줌"
   ]
  },
  {
   "cell_type": "code",
   "execution_count": 29,
   "id": "1975eac1-17e4-4303-a485-43e93a5f6b57",
   "metadata": {
    "tags": []
   },
   "outputs": [
    {
     "data": {
      "text/plain": [
       "'python'"
      ]
     },
     "execution_count": 29,
     "metadata": {},
     "output_type": "execute_result"
    }
   ],
   "source": [
    "import re\n",
    "p = re.compile('[a-z]+')\n",
    "m = p.match(\"python\")\n",
    "m.group()"
   ]
  },
  {
   "cell_type": "code",
   "execution_count": 30,
   "id": "246f49e3-7e37-4cc8-8e4b-7a3e6ead084b",
   "metadata": {
    "tags": []
   },
   "outputs": [
    {
     "data": {
      "text/plain": [
       "0"
      ]
     },
     "execution_count": 30,
     "metadata": {},
     "output_type": "execute_result"
    }
   ],
   "source": [
    "m.start()"
   ]
  },
  {
   "cell_type": "code",
   "execution_count": 31,
   "id": "f5e5e5fc-2daa-4c4c-9996-60b9cb778d80",
   "metadata": {
    "tags": []
   },
   "outputs": [
    {
     "data": {
      "text/plain": [
       "6"
      ]
     },
     "execution_count": 31,
     "metadata": {},
     "output_type": "execute_result"
    }
   ],
   "source": [
    "m.end()"
   ]
  },
  {
   "cell_type": "code",
   "execution_count": 32,
   "id": "f4ef59e5-69c8-4487-9b59-38b7fd5bca5e",
   "metadata": {
    "tags": []
   },
   "outputs": [
    {
     "data": {
      "text/plain": [
       "(0, 6)"
      ]
     },
     "execution_count": 32,
     "metadata": {},
     "output_type": "execute_result"
    }
   ],
   "source": [
    "m.span()"
   ]
  },
  {
   "cell_type": "markdown",
   "id": "00d6fdcb-e63e-4bd5-9819-e05be0a58834",
   "metadata": {},
   "source": [
    "match 메서드를 수행한 결과로 돌려준 match 객체의 start()의 결괏값은 항상 0일 수밖에 없다. <br>\n",
    "왜냐하면 match 메서드는 항상 문자열의 시작부터 조사하기 때문"
   ]
  },
  {
   "cell_type": "markdown",
   "id": "9fcfb8d9-b351-494d-8d77-44b1638a2240",
   "metadata": {},
   "source": [
    "- search 메서드를 사용한 경우 start() 값은 다르게 나옴"
   ]
  },
  {
   "cell_type": "code",
   "execution_count": 33,
   "id": "f27def87-bddf-49cc-96b7-6ba577e0e04a",
   "metadata": {
    "tags": []
   },
   "outputs": [
    {
     "data": {
      "text/plain": [
       "'python'"
      ]
     },
     "execution_count": 33,
     "metadata": {},
     "output_type": "execute_result"
    }
   ],
   "source": [
    "m = p.search(\"3 python\")\n",
    "m.group()"
   ]
  },
  {
   "cell_type": "code",
   "execution_count": 34,
   "id": "e1cd2650-3c72-4a88-abf7-bdc622b93a29",
   "metadata": {
    "tags": []
   },
   "outputs": [
    {
     "data": {
      "text/plain": [
       "2"
      ]
     },
     "execution_count": 34,
     "metadata": {},
     "output_type": "execute_result"
    }
   ],
   "source": [
    "m.start()"
   ]
  },
  {
   "cell_type": "code",
   "execution_count": 35,
   "id": "e7802f70-9c66-47ce-94f4-d23f26ed7efd",
   "metadata": {
    "tags": []
   },
   "outputs": [
    {
     "data": {
      "text/plain": [
       "8"
      ]
     },
     "execution_count": 35,
     "metadata": {},
     "output_type": "execute_result"
    }
   ],
   "source": [
    "m.end()"
   ]
  },
  {
   "cell_type": "code",
   "execution_count": 36,
   "id": "06e2c631-b55c-46d4-839b-e3eafd8badf3",
   "metadata": {
    "tags": []
   },
   "outputs": [
    {
     "data": {
      "text/plain": [
       "(2, 8)"
      ]
     },
     "execution_count": 36,
     "metadata": {},
     "output_type": "execute_result"
    }
   ],
   "source": [
    "m.span()"
   ]
  },
  {
   "cell_type": "markdown",
   "id": "daebd17e-140d-4088-9d7f-44ac7f59ff72",
   "metadata": {},
   "source": [
    "### 모듈 단위로 수행하기\n",
    "- 지금까지 우리는 re.compile을 사용해 컴파일된 패턴 객체로 그 이후의 작업을 수행함.<br>\n",
    "re 모듈은 이것을 좀 축약한 형태로 사용할 수 있는 방법을 제공"
   ]
  },
  {
   "cell_type": "code",
   "execution_count": 39,
   "id": "24df5d52-6924-4ab3-986b-7a8657da024c",
   "metadata": {
    "tags": []
   },
   "outputs": [],
   "source": [
    "#re.compile 사용\n",
    "p = re.compile('[a-z]+')\n",
    "m = p.match(\"python\")"
   ]
  },
  {
   "cell_type": "code",
   "execution_count": 40,
   "id": "4750f00a-dcb6-42fc-83d8-14cef901286f",
   "metadata": {
    "tags": []
   },
   "outputs": [],
   "source": [
    "# re 모듈 사용\n",
    "m = re.match('[a-z]+', \"python\")"
   ]
  },
  {
   "cell_type": "markdown",
   "id": "c4a4a569-5531-4392-8bca-9b3ee4431b25",
   "metadata": {},
   "source": [
    "위 예처럼 사용하면 컴파일과 match 메서드를 한 번에 수행 가능<br>\n",
    "보통 한 번 만든 패턴 객체를 여러 번 사용해야 할 때는 이 방법보다 re.compile을 사용하는 것이 편함"
   ]
  },
  {
   "cell_type": "markdown",
   "id": "bbeb4293-5b6d-47bb-a995-d1d4dcc90454",
   "metadata": {},
   "source": [
    "### 컴파일 옵션\n",
    "- 정규식을 컴파일 할 때 다음 옵션 사용 가능"
   ]
  },
  {
   "cell_type": "markdown",
   "id": "580295af-b122-41dc-82ae-8f8f1958c8b5",
   "metadata": {
    "tags": []
   },
   "source": [
    "|옵션 이름|약어|설명|\n",
    "|------|---|---|\n",
    "|***DOTALL***|***S***|dot 문자(.)가 줄바꿈 문자를 포함해 모든 문자와 매치|\n",
    "|***IGNORECASE***|***I***|대소문자에 관계 없이 매치|\n",
    "|***MULTILINE***|***M***|여러 줄과 매치(^,$ 메타 문자의 사용과 관계가 있는 옵션)|\n",
    "|***VERBOSE***|***X***|verbose 모드 사용(정규식을 보기 편하게 만들 수도 있고 주석 등을 사용할 수도 있다.)"
   ]
  },
  {
   "cell_type": "markdown",
   "id": "7be27328-bf78-4abd-b098-e41796b339a1",
   "metadata": {
    "tags": []
   },
   "source": [
    "#### DOTALL, S\n",
    "- . 메타 문자는 줄바꿈 문자(\\n)를 제외한 모든 문자와 매치되는 규칙이 있다.<br>\n",
    "만약 \\n 문자도 포함해 매치하고 싶으면 re.DOTALL 또는 re.S 옵션을 사용해 정규식을 컴파일하면 된다."
   ]
  },
  {
   "cell_type": "code",
   "execution_count": 46,
   "id": "cdc23840-16b5-4dc7-8bcc-a578d22eb3a7",
   "metadata": {
    "tags": []
   },
   "outputs": [
    {
     "name": "stdout",
     "output_type": "stream",
     "text": [
      "None\n"
     ]
    }
   ],
   "source": [
    "import re\n",
    "p = re.compile('a.b')\n",
    "m = p.match('a\\nb')\n",
    "print(m) # 문자열과 정규식이 매치되지 않음"
   ]
  },
  {
   "cell_type": "markdown",
   "id": "b3e3081d-ba06-4783-9813-10d565c63890",
   "metadata": {
    "tags": []
   },
   "source": [
    "정규식이 a.b인 경우 문자열 a\\nb는 매치되지 않음. 왜냐하면 \\n은 . 메타 문자와 매치되지 않기 때문<br>\n",
    "\\n 문자와도 매치되게 하려면 다음과 같이 re.DOTALL 옵션을 사용해야 한다."
   ]
  },
  {
   "cell_type": "code",
   "execution_count": 48,
   "id": "79208e8c-64af-4eb8-906f-ec9e99ad44a9",
   "metadata": {
    "tags": []
   },
   "outputs": [
    {
     "name": "stdout",
     "output_type": "stream",
     "text": [
      "<re.Match object; span=(0, 3), match='a\\nb'>\n"
     ]
    }
   ],
   "source": [
    "p = re.compile('a.b', re.DOTALL)\n",
    "m = p.match('a\\nb')\n",
    "print(m)"
   ]
  },
  {
   "cell_type": "markdown",
   "id": "dcbaafde-5552-4bfe-870e-a1b952764bd3",
   "metadata": {
    "tags": []
   },
   "source": [
    "보통 re.DOㅡTALL 옵션은 여러 줄로 이루어진 문자열에서 \\n 상관없이 검색할 때 많이 사용"
   ]
  },
  {
   "cell_type": "markdown",
   "id": "326aec0f-8563-4bdb-afe3-04df38911dfc",
   "metadata": {},
   "source": [
    "#### IGNORECASE, I\n",
    "- re.IGNORECASE 또는 re.I 옵션은 대소문자 구별 없이 매치를 수행할 때 사용"
   ]
  },
  {
   "cell_type": "code",
   "execution_count": 50,
   "id": "ad8c1a16-c6bf-422e-855e-c1ced7b278fe",
   "metadata": {
    "tags": []
   },
   "outputs": [
    {
     "data": {
      "text/plain": [
       "<re.Match object; span=(0, 1), match='p'>"
      ]
     },
     "execution_count": 50,
     "metadata": {},
     "output_type": "execute_result"
    }
   ],
   "source": [
    "p = re.compile('[a-z]', re.I)\n",
    "p.match('python')"
   ]
  },
  {
   "cell_type": "code",
   "execution_count": 51,
   "id": "9d21d224-5cca-4c1f-8ffe-67191fb116a6",
   "metadata": {
    "tags": []
   },
   "outputs": [
    {
     "data": {
      "text/plain": [
       "<re.Match object; span=(0, 1), match='P'>"
      ]
     },
     "execution_count": 51,
     "metadata": {},
     "output_type": "execute_result"
    }
   ],
   "source": [
    "p.match('Python')"
   ]
  },
  {
   "cell_type": "code",
   "execution_count": 52,
   "id": "82d4a40a-a4e1-4390-804f-83cd1f0af7d2",
   "metadata": {
    "tags": []
   },
   "outputs": [
    {
     "data": {
      "text/plain": [
       "<re.Match object; span=(0, 1), match='P'>"
      ]
     },
     "execution_count": 52,
     "metadata": {},
     "output_type": "execute_result"
    }
   ],
   "source": [
    "p.match('PYTHON')"
   ]
  },
  {
   "cell_type": "markdown",
   "id": "c0a5345e-b859-4b8f-ae14-52f83372fe9c",
   "metadata": {
    "tags": []
   },
   "source": [
    "[a-z] 정규식은 소문자만을 의미하지만 re.I 옵션으로 대소문자 구별 없이 매치됨"
   ]
  },
  {
   "cell_type": "markdown",
   "id": "dff0fe8e-a990-47f0-9f44-85bd001f74b1",
   "metadata": {
    "tags": []
   },
   "source": [
    "#### MULTILINE, M\n",
    "- re.MULTILINE 또는 re.M 옵션은 조금 후에 설명할 메타 문자인 ```^,$```와 연관된 옵션\n",
    "- ^ : 문자열의 처음\n",
    "- $ : 문자열의 마지막\n",
    "- ```^python```: 문자열의 처음은 항상 python으로 시작해야 함\n",
    "- ```python$``` : 문자열의 마지막은 항상 python으로 끝나야 함"
   ]
  },
  {
   "cell_type": "code",
   "execution_count": 4,
   "id": "4a46af08-6c40-427a-9b8b-b028c9dc0778",
   "metadata": {},
   "outputs": [
    {
     "name": "stdout",
     "output_type": "stream",
     "text": [
      "['python one']\n"
     ]
    }
   ],
   "source": [
    "import re\n",
    "p = re.compile(\"^python\\s\\w+\")\n",
    "\n",
    "data = \"\"\"python one \n",
    "life is too short\n",
    "python two\n",
    "you need python\n",
    "\"\"\"\n",
    "\n",
    "print(p.findall(data))"
   ]
  },
  {
   "cell_type": "markdown",
   "id": "01024db4-cd23-4b17-b5e1-f66ed027eac3",
   "metadata": {},
   "source": [
    "정규식 '^python\\s\\w+'은 python이라는 문자열로 시작하고 그 뒤에 whitespace, 그 뒤에 단어가 와야 한다는 의미이다. 검색할 문자열 data는 여러 줄로 이루어져 있다."
   ]
  },
  {
   "cell_type": "markdown",
   "id": "14ae68a8-e5f0-40fe-821f-fdf776b175ae",
   "metadata": {},
   "source": [
    "실행결과는 <br>\n",
    "['python one']<br>\n",
    "이는 ^메타 문자에 의해 python이라는 문자열을 사용한 첫 번째 줄만 매치된 것이다."
   ]
  },
  {
   "cell_type": "markdown",
   "id": "8a2813f5-12e4-4b0e-b200-f94e14521d8a",
   "metadata": {},
   "source": [
    "- ^메타 문자를 ***문자열 전체***의 처음이 아니라 ***각 라인***의 처음으로 인식시키고 싶은 경우<br>\n",
    "re.MULTILINE 또는 re.M 사용"
   ]
  },
  {
   "cell_type": "code",
   "execution_count": 5,
   "id": "1c516ed9-7fff-4609-a905-2072dbe01f93",
   "metadata": {
    "tags": []
   },
   "outputs": [
    {
     "name": "stdout",
     "output_type": "stream",
     "text": [
      "['python one', 'python two', 'python three']\n"
     ]
    }
   ],
   "source": [
    "import re\n",
    "p = re.compile(\"^python\\s\\w+\", re.MULTILINE)\n",
    "\n",
    "data = \"\"\"python one\n",
    "life is too short\n",
    "python two\n",
    "you need python\n",
    "python three\"\"\"\n",
    "\n",
    "print(p.findall(data))"
   ]
  },
  {
   "cell_type": "markdown",
   "id": "dbbea125-f93f-45e4-a9eb-cc45757a3448",
   "metadata": {},
   "source": [
    "re.MULTILINE 옵션으로 인해 ^메타 문자가 문자열 전체가 아닌 각 줄의 처음이라는 의미를 갖게 되었다."
   ]
  },
  {
   "cell_type": "markdown",
   "id": "0a108518-b24e-42ec-8661-84bf6d64b9ca",
   "metadata": {},
   "source": [
    "즉 re.MULTILINE 옵션은 ^, $ 메타 문자를 문자열의 각 줄마다 적용해 주는 것"
   ]
  },
  {
   "cell_type": "markdown",
   "id": "768dd14f-252c-498e-b0d1-8438448a07d1",
   "metadata": {},
   "source": [
    "#### VERBOSE,X\n",
    "- 이해하기 어려운 정규식을 주석 또는 줄 단위로 구분\n",
    "- re.VERBOSE 또는 re.X 옵션"
   ]
  },
  {
   "cell_type": "code",
   "execution_count": 6,
   "id": "f7dc0ed7-733b-45f1-babd-8d2b141529c4",
   "metadata": {
    "tags": []
   },
   "outputs": [],
   "source": [
    "charref = re.compile(r'&[#](0[0-7]+|[0-9]+|x[0-9a-fA-F]+);')"
   ]
  },
  {
   "cell_type": "code",
   "execution_count": 8,
   "id": "4f26533c-f246-453a-90f3-2c4c8353636a",
   "metadata": {},
   "outputs": [],
   "source": [
    "charref = re.compile(r\"\"\"\n",
    "&[#]                        # Start of a numeric entiity reference\n",
    "(\n",
    "    0[0-7]+                 # Octal form\n",
    "    | [0-9]+                # Decimal form     \n",
    "    | x[0-9a-fA-F]+         # Hexadecimal form\n",
    "    )\n",
    "    ;                       # Trailing semicolon\n",
    "\"\"\", re.VERBOSE)"
   ]
  },
  {
   "cell_type": "markdown",
   "id": "89afdeaf-e652-461d-97a6-556713c7eeff",
   "metadata": {
    "tags": []
   },
   "source": [
    "첫 번째와 두 번째 예를 비교해 보면 컴파일될 객체인 charref는 모두 동일한 역할을 한다.<br>\n",
    "하지만 정규식이 복잡할 경우 두 번째처럼 주석을 적고 여러 줄로 표현하는 것이 훨씬 가독성이 좋다."
   ]
  },
  {
   "cell_type": "markdown",
   "id": "493cfdda-5f4a-4062-bb0e-50876a1c0caf",
   "metadata": {},
   "source": [
    "re.VERBOSE 옵션 사용 시 문자열에 사용된 whitespace는 컴파일할 때 제거됨(단 [] 안에 사용한 whitespace는 제외)<br>\n",
    "그리고 줄 단위로 #기호를 사용해 주석문 작성 가능"
   ]
  },
  {
   "cell_type": "markdown",
   "id": "f6a35ad1-841f-441d-81aa-5570d9bf668b",
   "metadata": {},
   "source": [
    "### 백슬래시 문제\n",
    "- 정규 표현식을 파이썬에서 사용할 때 혼란을 주는 요소가 한 가지 있는데, 바로 백슬래시(/)"
   ]
  },
  {
   "cell_type": "markdown",
   "id": "d487e302-6906-4db3-b4fa-b23a9ef2432d",
   "metadata": {},
   "source": [
    "- 어떤 파일 안에 있는 \"\\section\" 문자열을 찾기 위한 정규식 만들기"
   ]
  },
  {
   "cell_type": "code",
   "execution_count": null,
   "id": "5cd3df7d-b8a7-4f59-9f87-455b63e9f2b7",
   "metadata": {},
   "outputs": [],
   "source": [
    "\\section"
   ]
  },
  {
   "cell_type": "markdown",
   "id": "5d9bebda-0a08-41b1-884a-d7fb81adac61",
   "metadata": {},
   "source": [
    "이 정규식은 \\s문자가 whitespace로 해석되어 의도한 대로 매치가 이루어지지 않는다.ㅡㅡ"
   ]
  },
  {
   "cell_type": "markdown",
   "id": "3834227d-af31-40e5-84e1-bdf76af87e0e",
   "metadata": {},
   "source": [
    "- 위 표현과 동일한 의미의 정규식"
   ]
  },
  {
   "cell_type": "code",
   "execution_count": null,
   "id": "cc62e8ea-1aea-43b9-a3bc-c0934233dcef",
   "metadata": {},
   "outputs": [],
   "source": [
    "[ \\t\\n\\r\\f\\v]ection #\\s문자가 이스케이프 코드 \\t,\\n,\\r,\\f,\\v로 해석됨"
   ]
  },
  {
   "cell_type": "markdown",
   "id": "f1cb15b6-be2a-44fd-b4c1-43eb19e0b7ec",
   "metadata": {
    "tags": []
   },
   "source": [
    "- 의도한 대로 매치하고 싶다면 다음과 같이 변경"
   ]
  },
  {
   "cell_type": "code",
   "execution_count": null,
   "id": "469fdfff-fd7c-4e54-8920-5c5489cca80b",
   "metadata": {},
   "outputs": [],
   "source": [
    "\\\\section"
   ]
  },
  {
   "cell_type": "markdown",
   "id": "636726e4-96af-448d-a118-cf73be1caa29",
   "metadata": {},
   "source": [
    "즉 위 정규식에서 사용한 \\문자가 문자열 자체임을 알려주기 위해 백슬래시 2개를 사용해 익스케이프 처리"
   ]
  },
  {
   "cell_type": "markdown",
   "id": "fd5ea9aa-5bac-4873-9f88-2a217bd67f85",
   "metadata": {},
   "source": [
    "- 위 정규식을 컴파일하려면 다음과 같이 작성"
   ]
  },
  {
   "cell_type": "code",
   "execution_count": 11,
   "id": "dc5f7833-1fce-41b2-96a7-5792eb4a28aa",
   "metadata": {
    "tags": []
   },
   "outputs": [],
   "source": [
    "p = re.compile('\\\\section')"
   ]
  },
  {
   "cell_type": "markdown",
   "id": "a2923525-9745-48a1-95f7-536422c9df49",
   "metadata": {},
   "source": [
    "그런데 여기서 또 하나의 문제 발생<br>\n",
    "위처럼 정규식을 만들어서 컴파일하면 실제 파이썬 정규식 엔진에는 파이썬 문자열 리터럴 규칙에 따라 \\\\이 \\로 변경되어 \\section이 전달됨ㅡㅡ"
   ]
  },
  {
   "cell_type": "markdown",
   "id": "cfc13b6a-6179-4378-aca4-2ebb33bd4b42",
   "metadata": {},
   "source": [
    "결국 정규식 엔진에 \\\\문자를 전달하려면 파이썬은 \\\\\\\\처럼 백슬래시 4개를 사용해야 함"
   ]
  },
  {
   "cell_type": "code",
   "execution_count": null,
   "id": "b47eb787-b3d4-4cfe-903c-f9e9f13a6469",
   "metadata": {},
   "outputs": [],
   "source": [
    "p = re.compile('\\\\\\\\section')"
   ]
  },
  {
   "cell_type": "markdown",
   "id": "c7c5a7a3-a346-49ea-a51c-87422c8fb53d",
   "metadata": {},
   "source": [
    "이렇게 해야만 원하는 결과를 얻을 수 있다. 하지만 너무 복잡하다"
   ]
  },
  {
   "cell_type": "markdown",
   "id": "d3669a49-35ab-444e-8e9f-1dc05466cc73",
   "metadata": {},
   "source": [
    "만약 위와 같이 \\를 사용한 표현이 계속 반복되는 정규식이라면 너무 복잡해서 이해하기 쉽지 않다. <br>\n",
    "이러한 문제로 인해 파이썬 정규식에는 Raw String 규칙이 생겨났다.<br>\n",
    "즉 컴파일해야 하는 정규식이 Raw String임을 알려 줄 수 있도록 파이썬 문법을 만든 것이다.<br>\n",
    "방법은 다음과 같다."
   ]
  },
  {
   "cell_type": "code",
   "execution_count": null,
   "id": "ad716170-c65c-4a92-bc10-235cbbfb4b04",
   "metadata": {},
   "outputs": [],
   "source": [
    "p = re.compile(r'\\\\section)"
   ]
  },
  {
   "cell_type": "markdown",
   "id": "1e01f5ff-90d1-4df9-b6d6-85c8bdf4c7f7",
   "metadata": {},
   "source": [
    "위와 같이 정규식 문자열 앞에 r문자를 삽입하면 이 정규식은 Raw String 규칙에 의해 백슬래시 2개 대신 1개만 써도 2개를 쓴 것과 동일한 의미를 지닌다."
   ]
  },
  {
   "cell_type": "markdown",
   "id": "9feeb8af-0f9d-40a3-85ca-ed90dc1b4a82",
   "metadata": {},
   "source": [
    "## 7-3 강력한 정규 표현식의 세계로"
   ]
  },
  {
   "cell_type": "markdown",
   "id": "10b784af-ad2e-40c0-8352-8afa2bc62a59",
   "metadata": {},
   "source": [
    "### 메타 문자"
   ]
  },
  {
   "cell_type": "markdown",
   "id": "c1df6a2c-ff23-4334-ad1d-821e82ce7199",
   "metadata": {},
   "source": [
    "아직 살펴보지 않은 메타문자에 대해 알아보자.<br>\n",
    "여기서 다룰 메타문자는 앞에서 살펴본 메타 문자와 성격이 조금 다르다.<br>\n",
    "앞에서 살펴본 +,*,[],{} 등의 메타문자는 매치가 진행될 때 현재 매치되고 있는 문자열의 위치가 변경된다(보통 소비된다고 표현)<br>\n",
    "하지만 이와 달리 문자열을 소비시키지 않는 메타 문자도 있다.<br>\n",
    "이번에는 이런 문자열 소비가 없는(zero-width assertions) 메타 문자에 대해 살펴보자."
   ]
  },
  {
   "cell_type": "markdown",
   "id": "02205517-5108-4149-851a-fdd4f42de063",
   "metadata": {},
   "source": [
    "#### |\n",
    "- or과 동일한 의미\n",
    "- A|B : A 또는 B"
   ]
  },
  {
   "cell_type": "code",
   "execution_count": 4,
   "id": "1af0354f-d5e4-40ba-af48-e5bf9cfe200a",
   "metadata": {
    "tags": []
   },
   "outputs": [
    {
     "name": "stdout",
     "output_type": "stream",
     "text": [
      "<re.Match object; span=(0, 4), match='Crow'>\n"
     ]
    }
   ],
   "source": [
    "import re\n",
    "p = re.compile('Crow|Servo')\n",
    "m = p.match('CrowHello')\n",
    "print(m)"
   ]
  },
  {
   "cell_type": "markdown",
   "id": "860fbb4f-3f0f-4a71-8884-a19ab04a9dc4",
   "metadata": {},
   "source": [
    "#### ^\n",
    "- 문자열의 맨 처음과 일치\n",
    "- 앞에서 살펴본 컴파일 옵션 re.MULTILINE을 사용할 경우 : 여러 줄의 문자열일 때 각 줄의 처음과 일치"
   ]
  },
  {
   "cell_type": "code",
   "execution_count": 5,
   "id": "8bec642a-48e1-42c0-95eb-9adf3fb22819",
   "metadata": {
    "tags": []
   },
   "outputs": [
    {
     "name": "stdout",
     "output_type": "stream",
     "text": [
      "<re.Match object; span=(0, 4), match='Life'>\n"
     ]
    }
   ],
   "source": [
    "print(re.search('^Life', 'Life is too short'))"
   ]
  },
  {
   "cell_type": "code",
   "execution_count": 6,
   "id": "b3c48672-f741-48aa-8849-37bcc7bf37f4",
   "metadata": {
    "tags": []
   },
   "outputs": [
    {
     "name": "stdout",
     "output_type": "stream",
     "text": [
      "None\n"
     ]
    }
   ],
   "source": [
    "print(re.search('^Life', 'My Life'))"
   ]
  },
  {
   "cell_type": "markdown",
   "id": "57f2d940-d462-4b7a-9dec-5362b84cc1ef",
   "metadata": {},
   "source": [
    "- Life 문자열이 처음에 온 경우 : 매치됨\n",
    "- 처음 위치가 아닌 경우 : 매치되지 않음"
   ]
  },
  {
   "cell_type": "markdown",
   "id": "a68e9ccd-e155-4bd3-9e23-061eb5f9bb96",
   "metadata": {},
   "source": [
    "#### $\n",
    "- ^문자와 반대의 경우\n",
    "- 문자열의 끝과 매치"
   ]
  },
  {
   "cell_type": "code",
   "execution_count": 8,
   "id": "24bb79dd-2035-4c48-b98a-12f69d7eeebd",
   "metadata": {
    "tags": []
   },
   "outputs": [
    {
     "name": "stdout",
     "output_type": "stream",
     "text": [
      "<re.Match object; span=(12, 17), match='short'>\n"
     ]
    }
   ],
   "source": [
    "print(re.search('short$', 'Life is too short'))"
   ]
  },
  {
   "cell_type": "code",
   "execution_count": 9,
   "id": "82fc9676-65db-41cf-8ca7-2a662c2385e2",
   "metadata": {
    "tags": []
   },
   "outputs": [
    {
     "name": "stdout",
     "output_type": "stream",
     "text": [
      "None\n"
     ]
    }
   ],
   "source": [
    "print(re.search('short$', 'Life is too short, you need python'))"
   ]
  },
  {
   "cell_type": "markdown",
   "id": "fcb8a494-73ec-44de-86f0-1b19074318f0",
   "metadata": {},
   "source": [
    "- 검색할 문자열이 short로 끝난 경우 : 매치됨\n",
    "- 그 이외의 경우: 매치되지 않음"
   ]
  },
  {
   "cell_type": "markdown",
   "id": "b843d6d6-4233-49e1-8fa7-bbb1196413e3",
   "metadata": {},
   "source": [
    "```^``` 또는 ```$``` 문자를 메타 문자가 아닌 문자 그 자체로 매치하고 싶은 경우 : ```\\^```, ```\\$``` 사용"
   ]
  },
  {
   "cell_type": "markdown",
   "id": "d444b232-b0e6-4871-89db-fae8dca6062c",
   "metadata": {},
   "source": [
    "#### \\A\n",
    "- 문자열의 처음과 매치\n",
    "- ^ 메타 문자와 동일한 의미이지만 re.MULTILINE 옵션을 사용할 경우 다르게 해석됨\n",
    "- re.MULTILINE 옵션을 사용할 경우\n",
    "    - ^ : 각 줄의 문자열의 처음과 매치\n",
    "    - \\A : 줄과 상관없이 ***전체 문자열***의 처음하고만 매치"
   ]
  },
  {
   "cell_type": "markdown",
   "id": "7e62ee92-f129-49b1-bb30-742aba839ecc",
   "metadata": {},
   "source": [
    "#### \\Z\n",
    "- 문자열의 끝과 매치\n",
    "- \\A와 동일하게 re.MULTILINE 옵션 사용 시 ```$```메타 문자와는 달리 ***전체 문자열***의 끝과 매치"
   ]
  },
  {
   "cell_type": "markdown",
   "id": "eaa7da20-d0fa-4d70-8d6d-46f591136c91",
   "metadata": {
    "tags": []
   },
   "source": [
    "#### \\b\n",
    "- 단어 구분자(Word boundary)\n",
    "- 보통 단어는 whitespace에 의해 구분됨"
   ]
  },
  {
   "cell_type": "code",
   "execution_count": 11,
   "id": "fbee7f2f-f34a-4622-92cd-b4bc5def59df",
   "metadata": {
    "tags": []
   },
   "outputs": [
    {
     "name": "stdout",
     "output_type": "stream",
     "text": [
      "<re.Match object; span=(3, 8), match='class'>\n"
     ]
    }
   ],
   "source": [
    "p = re.compile(r'\\bclass\\b')\n",
    "print(p.search('no class at all'))"
   ]
  },
  {
   "cell_type": "markdown",
   "id": "1f4ae57b-c6ee-4471-8c51-849b904798ed",
   "metadata": {},
   "source": [
    "'\\bclass\\b' 정규식은 앞뒤가 whitespace로 구분된 class라는 단어와 매치됨을 의미<br>\n",
    "따라서 no class at all의 class라는 단어와 매치됨"
   ]
  },
  {
   "cell_type": "code",
   "execution_count": 12,
   "id": "30646f97-52f9-4323-b5e1-eda48fc3360c",
   "metadata": {
    "tags": []
   },
   "outputs": [
    {
     "name": "stdout",
     "output_type": "stream",
     "text": [
      "None\n"
     ]
    }
   ],
   "source": [
    "print(p.search('the declassified algorithm'))"
   ]
  },
  {
   "cell_type": "markdown",
   "id": "4cdc5bc2-1dbf-4c43-8566-e7101c51fd5b",
   "metadata": {},
   "source": [
    "위 예의 the declassified algorithm 문자열 안에도 class 문자열이 포함되어 있지만 whitespace로 구분된 단어가 아니므로 매치되지 X"
   ]
  },
  {
   "cell_type": "code",
   "execution_count": 13,
   "id": "73a74e34-103b-47b7-9085-4f8e13f9ce97",
   "metadata": {
    "tags": []
   },
   "outputs": [
    {
     "name": "stdout",
     "output_type": "stream",
     "text": [
      "None\n"
     ]
    }
   ],
   "source": [
    "print(p.search('one subclass is'))"
   ]
  },
  {
   "cell_type": "markdown",
   "id": "eb9d434e-4022-4ce7-aafb-35b8680543e3",
   "metadata": {
    "tags": []
   },
   "source": [
    "subclass 문자열 역시 class 앞에 sub 문자열이 더해져 있으므로 매치되지 않음"
   ]
  },
  {
   "cell_type": "markdown",
   "id": "e28b8ea3-eea0-46a9-94d7-1ebeb38d0637",
   "metadata": {},
   "source": [
    "\\b 메타 문자 사용 시 주의할 점\n",
    "- \\b는 파이썬 리터럴 규칙에 의하면 백스페이스(BackSpace)를 의미<br>\n",
    "그러므로 \\b가 백스페이스가 아닌 ***단어 구분자***임을 알려주기 위해 r'\\bclass\\b'처럼 Raw string임을 알려주는 기호r을 반드시 붙여주어야 함"
   ]
  },
  {
   "cell_type": "markdown",
   "id": "1341efa0-2b69-4fe3-8dfa-e7bbc935ed1a",
   "metadata": {},
   "source": [
    "#### \\B\n",
    "- \\b 메타 문자와 반대의 경우\n",
    "- whitespace로 구분된 단어가 아닌 경우에만 매치"
   ]
  },
  {
   "cell_type": "code",
   "execution_count": 15,
   "id": "8867fda4-3670-4852-8611-033a22167382",
   "metadata": {
    "tags": []
   },
   "outputs": [
    {
     "name": "stdout",
     "output_type": "stream",
     "text": [
      "None\n"
     ]
    }
   ],
   "source": [
    "p = re.compile(r'\\Bclass\\B')\n",
    "print(p.search('no class at all'))"
   ]
  },
  {
   "cell_type": "code",
   "execution_count": 16,
   "id": "65e09858-8a6c-49b5-8002-298030d3f5d2",
   "metadata": {
    "tags": []
   },
   "outputs": [
    {
     "name": "stdout",
     "output_type": "stream",
     "text": [
      "<re.Match object; span=(6, 11), match='class'>\n"
     ]
    }
   ],
   "source": [
    "print(p.search('the declassified algorithm'))"
   ]
  },
  {
   "cell_type": "code",
   "execution_count": 17,
   "id": "aaf0f90f-fef5-472c-96a5-bd7294a452c0",
   "metadata": {
    "tags": []
   },
   "outputs": [
    {
     "name": "stdout",
     "output_type": "stream",
     "text": [
      "None\n"
     ]
    }
   ],
   "source": [
    "print(p.search('one subclass is'))"
   ]
  },
  {
   "cell_type": "markdown",
   "id": "727cf855-0904-40d3-9135-6274d3362ab6",
   "metadata": {},
   "source": [
    "class 단어의 앞뒤에 whitespace가 하나라도 있는 경우 매치가 안 됨"
   ]
  },
  {
   "cell_type": "markdown",
   "id": "295dce8f-cd33-4450-af42-2d5fd9f0cb84",
   "metadata": {},
   "source": [
    "### 그루핑"
   ]
  },
  {
   "cell_type": "markdown",
   "id": "5a014323-f1c6-4210-8189-19ee0210502d",
   "metadata": {},
   "source": [
    "ABC 문자열이 계속해서 반복되는지 조사하는 정규식을 작성하고 싶다. 어떻게 해야 할까?<br>\n",
    "이럴 때 필요한 것이 바로 ***그루핑(Grouping)***"
   ]
  },
  {
   "cell_type": "markdown",
   "id": "4be7d93e-2eb3-44e2-b1e2-4ad5a0b0e04c",
   "metadata": {},
   "source": [
    "위 경우는 다음처럼 그루핑을 사용하여 작성 가능"
   ]
  },
  {
   "cell_type": "code",
   "execution_count": null,
   "id": "ca45fc8f-4c8d-4806-bc0a-997cdcda149b",
   "metadata": {},
   "outputs": [],
   "source": [
    "(ABC)+"
   ]
  },
  {
   "cell_type": "markdown",
   "id": "1328da4e-6cb3-42a0-803e-5033072d5e93",
   "metadata": {},
   "source": [
    "() : 그룹을 만들어주는 메타 문자"
   ]
  },
  {
   "cell_type": "code",
   "execution_count": 2,
   "id": "ebede838-4fae-431a-8f18-749961cdfdf6",
   "metadata": {
    "tags": []
   },
   "outputs": [
    {
     "name": "stdout",
     "output_type": "stream",
     "text": [
      "<re.Match object; span=(0, 9), match='ABCABCABC'>\n"
     ]
    }
   ],
   "source": [
    "import re\n",
    "p = re.compile('(ABC)+')\n",
    "m = p.search('ABCABCABC OK?')\n",
    "print(m)"
   ]
  },
  {
   "cell_type": "markdown",
   "id": "453362bf-da09-4412-bd17-d2edc0c89e4b",
   "metadata": {},
   "source": [
    "다음 예를 보자."
   ]
  },
  {
   "cell_type": "code",
   "execution_count": 4,
   "id": "db6e330a-efd8-4388-856e-73108c450ef2",
   "metadata": {
    "tags": []
   },
   "outputs": [],
   "source": [
    "p = re.compile(r\"\\w\\s+\\d+[-]\\d+[-]\\d+\")\n",
    "m = p.search(\"park 010-1234-1234\")"
   ]
  },
  {
   "cell_type": "markdown",
   "id": "961dc6c6-6b0d-44ef-875e-c0a450826cd7",
   "metadata": {},
   "source": [
    "```\\w+\\s+\\d+[-]\\d+[-]\\d+```은 ```이름 + \" \" + 번화번호``` 형태의 문자열을 찾는 정규식<br>\n",
    "이렇게 매치된 문자열 중 이름만 뽑아내고 싶다면?<br>\n",
    "보통 반복되는 문자열을 찾을 때 그룹을 사용하는데, 그룹을 사용하는 보다 큰 이유는 위에서 볼 수 있듯이 매치된 문자열 중에서 특정 부분의 문자열만 뽑아내기 위해서인 경우가 더 많다."
   ]
  },
  {
   "cell_type": "markdown",
   "id": "995ac0d8-8d27-4730-991f-6d4973fdfedd",
   "metadata": {},
   "source": [
    "위 예에서 만약 '이름' 부분만 뽑아내려면?"
   ]
  },
  {
   "cell_type": "code",
   "execution_count": 5,
   "id": "701eded0-83ce-491f-80e3-b4b61e5f2246",
   "metadata": {
    "tags": []
   },
   "outputs": [
    {
     "name": "stdout",
     "output_type": "stream",
     "text": [
      "park\n"
     ]
    }
   ],
   "source": [
    "p = re.compile(r\"(\\w+)\\s+\\d+[-]\\d+[-]\\d+\")\n",
    "m = p.search(\"park 010-1234-1234\")\n",
    "print(m.group(1))"
   ]
  },
  {
   "cell_type": "markdown",
   "id": "e407c1c5-c2b1-4e9e-a591-18bae35db109",
   "metadata": {},
   "source": [
    "이름에 해당하는 '\\w+' 부분을 그룹('\\w+')으로 만들면 match 객체의 group(인덱스) 메서드를 사용해 그루핑된 부분의 문자열만 뽑아낼 수 있다.<br>"
   ]
  },
  {
   "cell_type": "markdown",
   "id": "de0d3b50-8e8a-4094-85b0-5db873375d30",
   "metadata": {},
   "source": [
    "- group 메서드의 인덱스의 의미"
   ]
  },
  {
   "cell_type": "markdown",
   "id": "73a75e1d-80fc-4859-92a1-bc2c3789e3a9",
   "metadata": {},
   "source": [
    "|group(인덱스)|설명|\n",
    "|----|------|\n",
    "|group(0)|매치된 전체 문자열|\n",
    "|group(1)|첫 번째 그룹에 해당하는 문자열|\n",
    "|group(2)|두 번째 그룹에 해당하는 문자열|\n",
    "|group(3)|세 번째 그룹에 해당하는 문자열|"
   ]
  },
  {
   "cell_type": "code",
   "execution_count": 7,
   "id": "c0245f60-409c-4354-8243-1d1c80d0a9ff",
   "metadata": {
    "tags": []
   },
   "outputs": [
    {
     "name": "stdout",
     "output_type": "stream",
     "text": [
      "010-1234-1234\n"
     ]
    }
   ],
   "source": [
    "p = re.compile(r\"(\\w+)\\s+(\\d+[-]\\d+[-]\\d+)\")\n",
    "m = p.search(\"park 010-1234-1234\")\n",
    "print(m.group(2))"
   ]
  },
  {
   "cell_type": "markdown",
   "id": "03abcc30-cc4c-4d6e-8452-044e4a838200",
   "metadata": {},
   "source": [
    "이번에는 전화번호 부분을 추가로 그룹 '(\\d+[-]\\d+[-]\\d+)'로 만들었다.<br>\n",
    "이렇게 하면 group(2)처럼 사용해 전화번호만 뽑아낼 수 있다."
   ]
  },
  {
   "cell_type": "markdown",
   "id": "a707b9a8-5f3e-482c-8b0f-7413de87122c",
   "metadata": {},
   "source": [
    "전화번호 중 국번만 뽑아내고 싶다면?<br>\n",
    "- 국번 부분을 그루핑"
   ]
  },
  {
   "cell_type": "code",
   "execution_count": 9,
   "id": "035e2305-13c2-4082-8ad3-55331affd304",
   "metadata": {
    "tags": []
   },
   "outputs": [
    {
     "name": "stdout",
     "output_type": "stream",
     "text": [
      "010\n"
     ]
    }
   ],
   "source": [
    "p = re.compile(r\"(\\w+)\\s+((\\d+)[-]\\d+[-]\\d+)\")\n",
    "m = p.search(\"park 010-1234-1234\")\n",
    "print(m.group(3))"
   ]
  },
  {
   "cell_type": "markdown",
   "id": "aa5f2a74-5b6d-481f-ae9b-36e657e5d327",
   "metadata": {
    "tags": []
   },
   "source": [
    "위 예에서 볼 수 있듯이 '(\\w+)\\s+((\\d+)[-]\\d+[-]\\d+)' 처럼 그룹을 중첩되게 사용하는 것도 가능<br>\n",
    "그룹이 중첩되어 있는 경우 : 바깥쪽부터 시작하여 안쪽으로 들어갈수록 인덱스 증가"
   ]
  },
  {
   "cell_type": "markdown",
   "id": "45531313-cd9f-493a-a1d1-e695746f98b6",
   "metadata": {},
   "source": [
    "#### 그루핑된 문자열 재참조\n",
    "- 그룹의 또 하나 좋은 점은 한 번 그루핑한 문자열을 재참조(Backreferences)할 수 있다는 점이다."
   ]
  },
  {
   "cell_type": "code",
   "execution_count": 11,
   "id": "7bff3cfa-f48f-480d-9730-5e731d0c531f",
   "metadata": {
    "tags": []
   },
   "outputs": [
    {
     "data": {
      "text/plain": [
       "'the the'"
      ]
     },
     "execution_count": 11,
     "metadata": {},
     "output_type": "execute_result"
    }
   ],
   "source": [
    "p = re.compile(r'(\\b\\w+)\\s+\\1')\n",
    "p.search('Paris in the the spring').group()"
   ]
  },
  {
   "cell_type": "markdown",
   "id": "0efb7eba-eff2-41d6-b666-be541c321fa6",
   "metadata": {},
   "source": [
    "정규식 '(\\b\\w+)\\s+\\1'은 '(그룹) + \" \" + 그룹과 동일한 단어'와 매치됨을 의미<br>\n",
    "이렇게 정규식을 만들면 2개의 동일한 단어를 연속적으로 사용해야만 매치됨<br>\n",
    "이것을 가능케 하는 것이 바로 재참조 메타 문자인 ***\\1***<br>\n",
    "***\\1***은 정규식의 그룹 중 첫 번째 그룹을 가리킴"
   ]
  },
  {
   "cell_type": "markdown",
   "id": "c6b8f05c-710e-4099-bf16-193ba96e85e5",
   "metadata": {},
   "source": [
    "### 그루핑된 문자열에 이름 붙이기"
   ]
  },
  {
   "cell_type": "markdown",
   "id": "90d40ef7-556e-4b5c-aaef-d08a34eb0b6e",
   "metadata": {},
   "source": [
    "정규식 안에 그룹이 무척 많아진다고 가정해 보자. 예를 들어 정규식 안에 그룹이 10개 이상만 되어도 매우 혼란스럽다.<br>\n",
    "거기에 더해 정규식이 수정되면서 그룹이 추가, 삭제되면 그 그룹을 인덱스로 참조한 프로그램도 모두 변경해주어야 하는 위험도 갖게 됨.<br>\n",
    "만약 그룹을 인덱스가 아닌 이름(Named Groups)으로 참조할 수 있다면 이런 문제를 해결할 수 있지 않을까?"
   ]
  },
  {
   "cell_type": "markdown",
   "id": "0aee75da-e4b1-4edd-ac5d-306ad8158398",
   "metadata": {},
   "source": [
    "이러한 이유로 정규식은 그룹을 만들 때 그룹 이름을 지정할 수 있게 함."
   ]
  },
  {
   "cell_type": "code",
   "execution_count": null,
   "id": "9a6c2184-95c2-488a-a267-cade04705d0a",
   "metadata": {},
   "outputs": [],
   "source": [
    "(?P<name>\\w+)\\s+((\\d+)[-]\\d+[-]\\d+)"
   ]
  },
  {
   "cell_type": "markdown",
   "id": "502fe1a8-5e25-4f33-af90-15da96f67d52",
   "metadata": {},
   "source": [
    "위 정규식은 앞에서 본 이름과 전화번호를 추출하는 정규식<br>\n",
    "(/w+)만 (?P<name>\\w+)로 변경"
   ]
  },
  {
   "cell_type": "markdown",
   "id": "74893a0c-d12a-4955-8667-cc2045c8c25b",
   "metadata": {
    "tags": []
   },
   "source": [
    "복잡해 보이지만 (/w+)라는 그룹에 name이라는 이름을 붙인 것에 불과<br>\n",
    "여기에서 사용한 (?...) 표현식은 정규 표현식의 확장 구문"
   ]
  },
  {
   "cell_type": "markdown",
   "id": "b9722271-25dc-4607-89f0-fc90ec303b5f",
   "metadata": {
    "tags": []
   },
   "source": [
    "- 그룹에 이름을 지어주는 확장 구문"
   ]
  },
  {
   "cell_type": "code",
   "execution_count": null,
   "id": "c709f048-c804-4813-ae2a-513053e97171",
   "metadata": {},
   "outputs": [],
   "source": [
    "(?P<그룹 이름>...)"
   ]
  },
  {
   "cell_type": "markdown",
   "id": "fa569f2b-3476-4e76-903c-ae32db52782f",
   "metadata": {},
   "source": [
    "- 그룹에 이름을 지정하고 참조하기"
   ]
  },
  {
   "cell_type": "code",
   "execution_count": 14,
   "id": "271f5a23-c256-46af-9264-8cae32ae9d9d",
   "metadata": {
    "tags": []
   },
   "outputs": [
    {
     "name": "stdout",
     "output_type": "stream",
     "text": [
      "park\n"
     ]
    }
   ],
   "source": [
    "p = re.compile(r\"(?P<name>\\w+)\\s+((\\d+)[-]\\d+[-]\\d+)\")\n",
    "m = p.search(\"park 010-1234-1234\")\n",
    "print(m.group(\"name\"))"
   ]
  },
  {
   "cell_type": "markdown",
   "id": "f1a079e3-2022-4635-94c0-4b87783bdc47",
   "metadata": {},
   "source": [
    "위 예에서 볼 수 있듯이 name이라는 그룹 이름으로 참조 가능<br>\n",
    "그룹 이름 사용 시 정규식 안에서 재참조도 가능"
   ]
  },
  {
   "cell_type": "code",
   "execution_count": 15,
   "id": "6d15adda-605c-4a43-9e59-cc0831806ec0",
   "metadata": {
    "tags": []
   },
   "outputs": [
    {
     "data": {
      "text/plain": [
       "'the the'"
      ]
     },
     "execution_count": 15,
     "metadata": {},
     "output_type": "execute_result"
    }
   ],
   "source": [
    "p = re.compile(r'(?P<word>\\b\\w+)\\s+(?P=word)')\n",
    "p.search('Paris in the the spring').group()"
   ]
  },
  {
   "cell_type": "markdown",
   "id": "f2411b93-8681-415e-b5aa-1c737eaf9f1a",
   "metadata": {},
   "source": [
    "위 예에서 볼 수 있듯이 재참조할 때에는 (?P=그룹 이름)이라는 확장 구문 사용"
   ]
  },
  {
   "cell_type": "markdown",
   "id": "721dfdfe-d467-4555-810f-3b9c8b039260",
   "metadata": {},
   "source": [
    "### 전방 탐색"
   ]
  },
  {
   "cell_type": "code",
   "execution_count": 16,
   "id": "dacfb8b3-118d-40ad-bdd3-edfff5acdd07",
   "metadata": {
    "tags": []
   },
   "outputs": [
    {
     "name": "stdout",
     "output_type": "stream",
     "text": [
      "http:\n"
     ]
    }
   ],
   "source": [
    "p = re.compile(\".+:\")\n",
    "m = p.search(\"http://google.com\")\n",
    "print(m.group())"
   ]
  },
  {
   "cell_type": "markdown",
   "id": "1a0a2baa-47e6-4109-82e9-c8358ac004f5",
   "metadata": {},
   "source": [
    "정규식 \".+:\"와 일치하는 문자열로 http:를 돌려줌<br>\n",
    "만약 http:라는 검색 결과에서 :를 제외하고 출력하려면?<br>\n",
    "위 예는 그나마 간단하지만 훨씬 복잡한 정규식이어서 그루핑은 추가로 할 수 없다는 조건까지 더해진다면?"
   ]
  },
  {
   "cell_type": "markdown",
   "id": "7c88b732-6fba-4c2a-af6f-801166f714ba",
   "metadata": {},
   "source": [
    "이럴 때 사용하는 것이 ***전방 탐색***<br>\n",
    "전방 탐색에는 긍정(Positive)와 부정(Negative)의 2종류가 있고 다음과 같이 표현"
   ]
  },
  {
   "cell_type": "markdown",
   "id": "fb154dbf-47a1-4120-8ee2-84caedd29f6c",
   "metadata": {
    "tags": []
   },
   "source": [
    "|정규식|종류|설명|\n",
    "|----|------|----|\n",
    "|(?=...)|긍정형 전방 탐색|...에 해당하는 정규식과 매치되어야 하며 조건이 통과되어도 문자열이 소비되지 X|\n",
    "|(?!...)|부정형 전방 탐색|...에 해당하는 정규식과 매치되지 않아야 하며 조건이 통과되어도 문자열이 소비되지 X|\n"
   ]
  },
  {
   "cell_type": "markdown",
   "id": "f0f9e5c3-c388-4d32-96a5-540f1f1437b2",
   "metadata": {},
   "source": [
    "#### 긍정형 전방 탐색\n",
    "- 긍정형 전방 탐색을 사용하면 http:의 결과를 http로 바꿀 수 있다."
   ]
  },
  {
   "cell_type": "code",
   "execution_count": 18,
   "id": "495901ed-99a4-454b-87a7-ea4d95e47645",
   "metadata": {
    "tags": []
   },
   "outputs": [
    {
     "name": "stdout",
     "output_type": "stream",
     "text": [
      "http\n"
     ]
    }
   ],
   "source": [
    "p = re.compile(\".+(?=:)\")\n",
    "m = p.search(\"http://google.com\")\n",
    "print(m.group())"
   ]
  },
  {
   "cell_type": "markdown",
   "id": "2e4ff9a4-7d78-4a79-8ac8-2d0182bfa445",
   "metadata": {},
   "source": [
    "정규식 중 :에 해당하는 부분에 긍정형 전방 탐색 기법을 적용해 (?=:)으로 변경<br>\n",
    "이렇게 되면 기존 정규식과 검색에선느 동일한 효과를 발휘하지만 :에 해당하는 문자열이 정규식 엔진에 의해 소비되지 않아(검색에는 포함되지만 검색 결과에는 제외됨) <br>\n",
    "검색 결과에서는 :이 제거된 후 돌려주는 효과"
   ]
  },
  {
   "cell_type": "markdown",
   "id": "f3d92755-d66b-449f-a94a-2c587336c4e8",
   "metadata": {},
   "source": [
    "- '파일 이름 + . + 확장자'를 나타내는 정규식"
   ]
  },
  {
   "cell_type": "code",
   "execution_count": null,
   "id": "8f9c1133-bfed-4671-b536-e396ad8b9e00",
   "metadata": {},
   "outputs": [],
   "source": [
    ".*[.].*$"
   ]
  },
  {
   "cell_type": "markdown",
   "id": "dd91d3d0-69eb-4afa-8895-69d8c48bd8f6",
   "metadata": {},
   "source": [
    "이 정규식은 foo.bar, autoexec.bar, sendmail.cf 같은 형식의 파일과 매치됨"
   ]
  },
  {
   "cell_type": "markdown",
   "id": "9bb17547-0e67-4af8-aeb7-56fc0679840f",
   "metadata": {},
   "source": [
    "- 이 정규식에 'bat인 파일은 제외해야 한다'는 조건 추가"
   ]
  },
  {
   "cell_type": "code",
   "execution_count": null,
   "id": "72aca7cf-fe11-4e15-80c1-f499a4e7cd19",
   "metadata": {},
   "outputs": [],
   "source": [
    ".*[.][^b].*$ # 문자 클래스 [] 안의 ^ 메타 문자는 반대(not)을 의미"
   ]
  },
  {
   "cell_type": "markdown",
   "id": "5c1e801c-382b-41e1-afdd-dd09dbfcc576",
   "metadata": {},
   "source": [
    "이 정규식은 확장자가 b라는 문자로 시작하면 안 된다는 의미.<br>\n",
    "하지만 이 정규식은 bar라는 파일마저 걸러냄.<br>\n",
    "정규식을 다음과 같이 수정하자."
   ]
  },
  {
   "cell_type": "code",
   "execution_count": null,
   "id": "bccb5de0-d11b-457e-b923-09888b22b5d2",
   "metadata": {},
   "outputs": [],
   "source": [
    ".*[.]([^b]..|.[^a].|..[^t])$"
   ]
  },
  {
   "cell_type": "markdown",
   "id": "cfe35ab8-3e06-4510-9cc9-f5563a7e738c",
   "metadata": {},
   "source": [
    "이 정규식은 | 메타 문자를 사용해 확장자의 첫 번째 문자가 b가 아니거나 두 번째 문자가 a가 아니거나 세 번째 문자가 t가 아닌 경우를 의미.<br>\n",
    "이 정규식에 의해 foo.bar은 제외되지 않고 autoexec.bat은 제외되어 만족스러운 결과를 돌려줌.<br>\n",
    "하지만 이 정규식은 아쉽게도 sendmail.cf처럼 확장자의 문자 개수가 2개인 케이스를 포함하지 못하는 오동작을 하기 시작"
   ]
  },
  {
   "cell_type": "markdown",
   "id": "17e6c9e1-32c7-419a-ae16-4a2c43e7ccc3",
   "metadata": {},
   "source": [
    "따라서 다음과 같이 바꾸자."
   ]
  },
  {
   "cell_type": "code",
   "execution_count": null,
   "id": "13091809-eb06-46b1-aa6c-5a9c0075b7d1",
   "metadata": {},
   "outputs": [],
   "source": [
    ".*[.]([^b].?.?|[.[^a]?.?|..?[^t]?])$"
   ]
  },
  {
   "cell_type": "markdown",
   "id": "719dc52e-8128-4c95-9aee-44261e1bde69",
   "metadata": {},
   "source": [
    "확장자의 문자 개수가 2개여도 통과되는 정규식이 만들어짐.<br>\n",
    "하지만 정규식은 점점 더 복잡해지고 이해하기 어려워짐"
   ]
  },
  {
   "cell_type": "markdown",
   "id": "56b56dfe-69cf-4850-acac-b25fb4dfd150",
   "metadata": {},
   "source": [
    "그런데 여기서 bat 파일말고 exe 파일도 제외하라는 조건이 추가로 생긴다면?<br>\n",
    "이 모든 조건을 만족하는 정규식을 구현하려면 패턴은 더욱더 복잡해짐"
   ]
  },
  {
   "cell_type": "markdown",
   "id": "af80580a-d3f2-40cd-9623-11c107f85410",
   "metadata": {},
   "source": [
    "#### 부정형 전방 탐색\n",
    "이러한 상황의 구원 투수는 바로 부정형 전방 탐색<br>\n",
    "위 예는 부정형 전방 탐색을 사용하면 다음과 같이 간단하게 처리됨"
   ]
  },
  {
   "cell_type": "code",
   "execution_count": null,
   "id": "493f8240-9b13-4214-935a-d6a0bc040ebd",
   "metadata": {},
   "outputs": [],
   "source": [
    ".*[.](?!bat$).*$"
   ]
  },
  {
   "cell_type": "markdown",
   "id": "87843c30-320a-4717-90cb-c62eeb04d535",
   "metadata": {},
   "source": [
    "확장자가 bat가 아닌 경우에만 통과된다는 의미<br>\n",
    "bat 문자열이 있는지 조사하는 과정에서 문자열이 소비되지 않으므로 bat가 아니라고 판단되면 그 이후 정규식 매치가 진행됨"
   ]
  },
  {
   "cell_type": "markdown",
   "id": "c96726f6-6fd3-4348-bb90-d40bda82abc2",
   "metadata": {
    "tags": []
   },
   "source": [
    "- exe 역시 제외하라는 조건이 추가되더라도 다음과 같이 간단히 표현 가능"
   ]
  },
  {
   "cell_type": "code",
   "execution_count": null,
   "id": "8de425f6-2b33-454e-b9d6-8e45b5b5ef3d",
   "metadata": {},
   "outputs": [],
   "source": [
    ".*[.](?!bat$|exe$).*$"
   ]
  },
  {
   "cell_type": "markdown",
   "id": "77b70156-0bf5-4f7f-ad28-5b51a09d6674",
   "metadata": {},
   "source": [
    "### 추가) 전방탐색과 후방탐색"
   ]
  },
  {
   "cell_type": "markdown",
   "id": "bbc2ff65-d7a3-43ad-9c64-80846b770268",
   "metadata": {},
   "source": [
    "#### 전방탐색"
   ]
  },
  {
   "cell_type": "code",
   "execution_count": 6,
   "id": "6c93b88d-20a4-4b26-ba8a-21c021d23121",
   "metadata": {
    "tags": []
   },
   "outputs": [],
   "source": [
    "string = '''\n",
    "http://www.forta.com    a\n",
    "https://mail.forta.com  b\n",
    "ftp://ftp.forta.com     c\n",
    "'''\n",
    "# 문자, 특수문자 등이 하나 이상 마지막은 f"
   ]
  },
  {
   "cell_type": "code",
   "execution_count": 7,
   "id": "14eb1b5b-aa68-4021-940f-efb9cabc7abb",
   "metadata": {
    "tags": []
   },
   "outputs": [
    {
     "data": {
      "text/plain": [
       "['http://www.f', 'https://mail.f', 'ftp://ftp.f']"
      ]
     },
     "execution_count": 7,
     "metadata": {},
     "output_type": "execute_result"
    }
   ],
   "source": [
    "p = re.compile(\".+f\")# 전방탐색으로 f를 표시\n",
    "p.findall(string)"
   ]
  },
  {
   "cell_type": "code",
   "execution_count": 8,
   "id": "0d384913-3ee2-4073-9d71-1a5b98881df4",
   "metadata": {
    "tags": []
   },
   "outputs": [
    {
     "data": {
      "text/plain": [
       "['http://www.', 'https://mail.', 'ftp://ftp.']"
      ]
     },
     "execution_count": 8,
     "metadata": {},
     "output_type": "execute_result"
    }
   ],
   "source": [
    "p = re.compile(\".+(?=f)\") # 전방탐색으로 f를 표시하지 X\n",
    "p.findall(string)"
   ]
  },
  {
   "cell_type": "code",
   "execution_count": 9,
   "id": "11ef180a-2161-4d6a-a6c0-cd620bcd9839",
   "metadata": {
    "tags": []
   },
   "outputs": [
    {
     "data": {
      "text/plain": [
       "['http', 'https', 'ftp']"
      ]
     },
     "execution_count": 9,
     "metadata": {},
     "output_type": "execute_result"
    }
   ],
   "source": [
    "p = re.compile(\".+(?=:)\")\n",
    "p.findall(string)"
   ]
  },
  {
   "cell_type": "code",
   "execution_count": null,
   "id": "f1453bf5-34db-4706-b78a-55b45d433c01",
   "metadata": {},
   "outputs": [],
   "source": [
    "#### 후방탐색"
   ]
  },
  {
   "cell_type": "code",
   "execution_count": 2,
   "id": "6c19d10f-99d6-4528-97e7-6824a55c63fb",
   "metadata": {
    "tags": []
   },
   "outputs": [],
   "source": [
    "string = '''\n",
    "http://www.forta.com    a\n",
    "https://mail.forta.com  b\n",
    "ftp://ftp.forta.com     c\n",
    "'''"
   ]
  },
  {
   "cell_type": "code",
   "execution_count": 4,
   "id": "6705b92e-bc58-47de-bf0d-6f19776e317c",
   "metadata": {
    "tags": []
   },
   "outputs": [
    {
     "data": {
      "text/plain": [
       "['forta.com    a', 'forta.com  b', 'ftp://ftp.forta.com     c']"
      ]
     },
     "execution_count": 4,
     "metadata": {},
     "output_type": "execute_result"
    }
   ],
   "source": [
    "import re\n",
    "p = re.compile(\"(?=f).+\") # 후방탐색으로 f를 표시\n",
    "p.findall(string)"
   ]
  },
  {
   "cell_type": "code",
   "execution_count": 5,
   "id": "b334b9e9-a888-4157-99a1-25b582e3c3b5",
   "metadata": {
    "tags": []
   },
   "outputs": [
    {
     "data": {
      "text/plain": [
       "['orta.com    a', 'orta.com  b', 'tp://ftp.forta.com     c']"
      ]
     },
     "execution_count": 5,
     "metadata": {},
     "output_type": "execute_result"
    }
   ],
   "source": [
    "p = re.compile(\"(?<=f).+\") #후방탐색으로 f 표시 X\n",
    "p.findall(string)"
   ]
  },
  {
   "cell_type": "markdown",
   "id": "59c61853-491c-4a1b-8bac-e377919e4bf8",
   "metadata": {},
   "source": [
    "- 예제"
   ]
  },
  {
   "cell_type": "code",
   "execution_count": 8,
   "id": "fe4c6cb7-6a16-4949-8fb2-8eb2174e1487",
   "metadata": {
    "tags": []
   },
   "outputs": [],
   "source": [
    "s = \"http://naver.com http://google.com ftp://daum.net\" "
   ]
  },
  {
   "cell_type": "code",
   "execution_count": null,
   "id": "ecb193d7-5dc4-4e1b-88ab-3d0d09fec0d6",
   "metadata": {},
   "outputs": [],
   "source": [
    "1. ['http:', 'http:', 'ftp:']\n",
    "2. ['http', 'http', 'ftp']\n",
    "3. ['naver.com', 'google.com', 'daum.net']"
   ]
  },
  {
   "cell_type": "code",
   "execution_count": 9,
   "id": "78cb5c68-4a2e-4119-94bf-9ef65aab3b34",
   "metadata": {
    "tags": []
   },
   "outputs": [
    {
     "data": {
      "text/plain": [
       "['http:', 'http:', 'ftp:']"
      ]
     },
     "execution_count": 9,
     "metadata": {},
     "output_type": "execute_result"
    }
   ],
   "source": [
    "p = re.compile(\"\\w+:\")\n",
    "p.findall(s)"
   ]
  },
  {
   "cell_type": "code",
   "execution_count": 10,
   "id": "3af2355e-86f2-45ef-b6c5-bf159cf251ae",
   "metadata": {
    "tags": []
   },
   "outputs": [
    {
     "data": {
      "text/plain": [
       "['http', 'http', 'ftp']"
      ]
     },
     "execution_count": 10,
     "metadata": {},
     "output_type": "execute_result"
    }
   ],
   "source": [
    "p = re.compile(\"\\w+(?=:)\")\n",
    "p.findall(s)"
   ]
  },
  {
   "cell_type": "code",
   "execution_count": 15,
   "id": "cabf6246-c98d-4fb6-843b-361f7c2b268c",
   "metadata": {
    "tags": []
   },
   "outputs": [
    {
     "data": {
      "text/plain": [
       "['naver.com', 'google.com', 'daum.net']"
      ]
     },
     "execution_count": 15,
     "metadata": {},
     "output_type": "execute_result"
    }
   ],
   "source": [
    "p = re.compile(r\"(?<=//)\\S+\")\n",
    "p.findall(s)"
   ]
  },
  {
   "cell_type": "markdown",
   "id": "286d2fbd-09ab-4463-938e-83260e84e0e4",
   "metadata": {},
   "source": [
    "- tag 내용 뽑아내기"
   ]
  },
  {
   "cell_type": "code",
   "execution_count": 19,
   "id": "b20d3853-e2f6-40bd-9a5e-4b136c85eb1e",
   "metadata": {},
   "outputs": [],
   "source": [
    "html = 'Kakao <p>ryan</p> keep a straight face.'\n",
    "# 왼쪽 p 기준 후방탐색, 오른쪽 p 기준 전방탐색"
   ]
  },
  {
   "cell_type": "code",
   "execution_count": 20,
   "id": "138f4e38-9e13-40ae-8b2f-9f5d3a7e260f",
   "metadata": {},
   "outputs": [
    {
     "data": {
      "text/plain": [
       "['ryan']"
      ]
     },
     "execution_count": 20,
     "metadata": {},
     "output_type": "execute_result"
    }
   ],
   "source": [
    "p = re.compile(r\"(?<=<p>)\\w+(?=</p>)\")\n",
    "p.findall(html)"
   ]
  },
  {
   "cell_type": "code",
   "execution_count": null,
   "id": "acea5a81-5fe8-4309-bb2b-247406a361a2",
   "metadata": {},
   "outputs": [],
   "source": []
  },
  {
   "cell_type": "markdown",
   "id": "76c2e87f-505c-4997-ab90-21957ce2afd9",
   "metadata": {},
   "source": [
    "### 문자열 바꾸기 (sub)\n",
    "- sub 메서드를 사용하면 정규식과 매치되는 부분을 다른 문자로 쉽게 바꿀 수 있음\n",
    "- sub 메서드의 첫 번째 매개변수 : 바꿀 문자열(replacement)\n",
    "- sub 메서드의 두 번째 매개변수 : 대상 문자열"
   ]
  },
  {
   "cell_type": "code",
   "execution_count": 20,
   "id": "82445af4-492b-4fff-9924-2b87b72ebc06",
   "metadata": {
    "tags": []
   },
   "outputs": [
    {
     "data": {
      "text/plain": [
       "'colour socks and colour shoes'"
      ]
     },
     "execution_count": 20,
     "metadata": {},
     "output_type": "execute_result"
    }
   ],
   "source": [
    "p = re.compile('(blue|white|red)')\n",
    "p.sub('colour', 'blue socks and red shoes')"
   ]
  },
  {
   "cell_type": "markdown",
   "id": "70439091-516c-4668-ac0a-fc45ec792616",
   "metadata": {},
   "source": [
    "blue 또는 white 또는 red라는 문자열이 colour라는 문자열로 바뀜"
   ]
  },
  {
   "cell_type": "markdown",
   "id": "1474bf90-7fcf-4ade-a470-bc462022b047",
   "metadata": {},
   "source": [
    "바꾸기 횟수 제어\n",
    "- 세 번째 매개변수로 count 값 넘기기"
   ]
  },
  {
   "cell_type": "code",
   "execution_count": 21,
   "id": "65530abf-be2d-4bbd-8a34-9a043cdd6728",
   "metadata": {
    "tags": []
   },
   "outputs": [
    {
     "data": {
      "text/plain": [
       "'colour socks and red shoes'"
      ]
     },
     "execution_count": 21,
     "metadata": {},
     "output_type": "execute_result"
    }
   ],
   "source": [
    "p.sub('colour', 'blue socks and red shoes', count = 1)"
   ]
  },
  {
   "cell_type": "markdown",
   "id": "560fd09a-edf2-403a-a087-8ec27d0f2a71",
   "metadata": {},
   "source": [
    "처음 일치하는 blue만 colour라는 문자열로 한 번만 바꾸기가 실행됨"
   ]
  },
  {
   "cell_type": "markdown",
   "id": "ac5482b2-d4a7-498d-9708-226a83481e56",
   "metadata": {},
   "source": [
    "#### sub 메서드와 유사한 subn 메서드\n",
    "- subn 역시 sub와 동일한 기능을 하지만 반환 결과를 튜플로 돌려준다는 차이가 있음<br>\n",
    "- 돌려준 튜플의 첫째 요소 : 변경된 문자열\n",
    "- 돌려준 튜플의 두번째 요소 : 바꾸기가 발생한 횟수"
   ]
  },
  {
   "cell_type": "code",
   "execution_count": 22,
   "id": "713fde4e-7452-4fe1-96ae-626ec8e053c5",
   "metadata": {
    "tags": []
   },
   "outputs": [
    {
     "data": {
      "text/plain": [
       "('colour socks and colour shoes', 2)"
      ]
     },
     "execution_count": 22,
     "metadata": {},
     "output_type": "execute_result"
    }
   ],
   "source": [
    "p = re.compile('(blue|white|red)')\n",
    "p.subn('colour', 'blue socks and red shoes')"
   ]
  },
  {
   "cell_type": "markdown",
   "id": "bc570897-d1d1-462e-b6f7-3c37d2131435",
   "metadata": {},
   "source": [
    "#### sub 메서드를 사용할 때 참조 구문 사용하기"
   ]
  },
  {
   "cell_type": "code",
   "execution_count": 27,
   "id": "30fc324a-a4e9-4146-a40e-349e150d5c14",
   "metadata": {
    "tags": []
   },
   "outputs": [
    {
     "name": "stdout",
     "output_type": "stream",
     "text": [
      "010-1234-1234 park\n"
     ]
    }
   ],
   "source": [
    "p = re.compile(r\"(?P<name>\\w+)\\s+(?P<phone>(\\d+)[-]\\d+[-]\\d+)\")\n",
    "print(p.sub(\"\\g<phone> \\g<name>\", \"park 010-1234-1234\"))"
   ]
  },
  {
   "cell_type": "markdown",
   "id": "ed6cc88b-d7b1-4b82-a0df-f1f062bdcd82",
   "metadata": {},
   "source": [
    "위 예는 '이름 + 전화번호'의 문자열을 '전화번호 + 이름'으로 바꾸는 예<br>\n",
    "sub의 바꿀 문자열 부분에 '\\g<그룹 이름>'을 사용하면 정규식의 그룹 이름 참조 가능"
   ]
  },
  {
   "cell_type": "markdown",
   "id": "e2186474-5783-4ac4-981b-a46d0d4114f1",
   "metadata": {},
   "source": [
    "- 그룹 이름 대신 참조 번호를 사용해도 같은 결과"
   ]
  },
  {
   "cell_type": "code",
   "execution_count": 28,
   "id": "e8b3bd6a-eec0-40d7-8994-5ab9cd072322",
   "metadata": {
    "tags": []
   },
   "outputs": [
    {
     "name": "stdout",
     "output_type": "stream",
     "text": [
      "010-1234-1234 park\n"
     ]
    }
   ],
   "source": [
    "p = re.compile(r\"(?P<name>\\w+)\\s+(?P<phone>(\\d+)[-]\\d+[-]\\d+)\")\n",
    "print(p.sub(\"\\g<2> \\g<1>\", \"park 010-1234-1234\"))"
   ]
  },
  {
   "cell_type": "markdown",
   "id": "56d8dd22-0ab0-4b96-aeaa-818f9d126617",
   "metadata": {},
   "source": [
    "#### sub 메서드의 매개변수로 함수 넣기\n",
    "- sub 메서드의 첫 번째 매개변수로 함수를 넣을 수도 있다."
   ]
  },
  {
   "cell_type": "code",
   "execution_count": 30,
   "id": "e912afe5-97d3-43b5-ab86-bff728e1d0e3",
   "metadata": {
    "tags": []
   },
   "outputs": [],
   "source": [
    "def hexrepl(match):\n",
    "    value = int(match.group())\n",
    "    return hex(value)"
   ]
  },
  {
   "cell_type": "code",
   "execution_count": 31,
   "id": "34e65b38-69f7-46b9-8953-ca86c69c0931",
   "metadata": {
    "tags": []
   },
   "outputs": [],
   "source": [
    "p = re.compile(r'\\d+')"
   ]
  },
  {
   "cell_type": "code",
   "execution_count": 32,
   "id": "ab7a82b9-f085-4205-b77b-a8715b80e581",
   "metadata": {
    "tags": []
   },
   "outputs": [
    {
     "data": {
      "text/plain": [
       "'Call 0xffd2 for printing, 0xc000 for user code.'"
      ]
     },
     "execution_count": 32,
     "metadata": {},
     "output_type": "execute_result"
    }
   ],
   "source": [
    "p.sub(hexrepl, 'Call 65490 for printing, 49152 for user code.')"
   ]
  },
  {
   "cell_type": "markdown",
   "id": "24390ff0-b588-4129-845d-4adbd7eef37c",
   "metadata": {},
   "source": [
    "hexrepl 함수는 match 객체(위에서 숫자에 매치되는)를 입력으로 받아 16진수로 변환하여 돌려주는 함수<br>\n",
    "sub의 첫 번째 매개변수로 함수를 사용할 경우 해당 함수의 첫 번째 매개변수에는 정규식과 매치된 match 객체가 입력됨.<br>\n",
    "그리고 매치되는 문자열은 함수의 반환 값으로 바뀜"
   ]
  },
  {
   "cell_type": "markdown",
   "id": "b6d99af9-60ae-4f55-9017-09b8128fd205",
   "metadata": {},
   "source": [
    "### Greedy vs Non-Greedy"
   ]
  },
  {
   "cell_type": "code",
   "execution_count": 33,
   "id": "d95a9a53-413c-490e-a5cd-5e73581066ff",
   "metadata": {
    "tags": []
   },
   "outputs": [
    {
     "data": {
      "text/plain": [
       "32"
      ]
     },
     "execution_count": 33,
     "metadata": {},
     "output_type": "execute_result"
    }
   ],
   "source": [
    "s = '<html><head><title>Title</title>'\n",
    "len(s)"
   ]
  },
  {
   "cell_type": "code",
   "execution_count": 34,
   "id": "2757f8b2-4b13-4b1c-a508-eb3d1fecc0d1",
   "metadata": {
    "tags": []
   },
   "outputs": [
    {
     "name": "stdout",
     "output_type": "stream",
     "text": [
      "(0, 32)\n"
     ]
    }
   ],
   "source": [
    "print(re.match('<.*>', s).span())"
   ]
  },
  {
   "cell_type": "code",
   "execution_count": 35,
   "id": "682e118c-6b68-4a4f-a135-c748b079b5b8",
   "metadata": {
    "tags": []
   },
   "outputs": [
    {
     "name": "stdout",
     "output_type": "stream",
     "text": [
      "<html><head><title>Title</title>\n"
     ]
    }
   ],
   "source": [
    "print(re.match('<.*>', s).group())"
   ]
  },
  {
   "cell_type": "markdown",
   "id": "e34ba551-e702-45a0-9c53-f3a171001304",
   "metadata": {},
   "source": [
    "'<.*>' 정규식의 매치 결과로 ```<html>``` 문자열을 돌려주기를 기대했을 것이다. <br>\n",
    "하지만 * 메타 문자는 매우 탐욕스러워서 매치할 수 있는 최대한의 문자열인 ```<html><head><title>Title</title>``` 문자열을 모두 소비해 버렷다.<br>\n",
    "어떻게 하면 이 탐욕스러움을 제한하고 ```<html>``` 문자열까지만 소비하도록 막을 수 있을까?"
   ]
  },
  {
   "cell_type": "markdown",
   "id": "96db63e6-5849-4a3b-9aef-b110456441d1",
   "metadata": {},
   "source": [
    "- 다음과 같이 non-greedy 문자인 ?를 사용하면 *의 탐욕을 제한 가능"
   ]
  },
  {
   "cell_type": "code",
   "execution_count": 36,
   "id": "2237314b-83ec-453d-9208-cf5d38ba2e20",
   "metadata": {
    "tags": []
   },
   "outputs": [
    {
     "name": "stdout",
     "output_type": "stream",
     "text": [
      "<html>\n"
     ]
    }
   ],
   "source": [
    "print(re.match('<.*?>',s).group())"
   ]
  },
  {
   "cell_type": "markdown",
   "id": "1bce5108-99c0-4afc-8366-48a7e586ddf5",
   "metadata": {},
   "source": [
    "non-greedy 문자인 ?는 *?, +?, ??, {m,n}?와 같이 사용 가능 <br>\n",
    "가능한 한 가장 최소한의 반복을 수행하도록 도와주는 역할"
   ]
  },
  {
   "cell_type": "markdown",
   "id": "60447892-dd91-446c-b50f-0ee540b96853",
   "metadata": {},
   "source": [
    "### 정규표현식 살펴보기"
   ]
  },
  {
   "cell_type": "code",
   "execution_count": 4,
   "id": "d0b5927a-f688-4a53-8909-7019e5bf5144",
   "metadata": {
    "tags": []
   },
   "outputs": [
    {
     "name": "stdout",
     "output_type": "stream",
     "text": [
      "Support for regular expressions (RE).\n",
      "\n",
      "This module provides regular expression matching operations similar to\n",
      "those found in Perl.  It supports both 8-bit and Unicode strings; both\n",
      "the pattern and the strings being processed can contain null bytes and\n",
      "characters outside the US ASCII range.\n",
      "\n",
      "Regular expressions can contain both special and ordinary characters.\n",
      "Most ordinary characters, like \"A\", \"a\", or \"0\", are the simplest\n",
      "regular expressions; they simply match themselves.  You can\n",
      "concatenate ordinary characters, so last matches the string 'last'.\n",
      "\n",
      "The special characters are:\n",
      "    \".\"      Matches any character except a newline.\n",
      "    \"^\"      Matches the start of the string.\n",
      "    \"$\"      Matches the end of the string or just before the newline at\n",
      "             the end of the string.\n",
      "    \"*\"      Matches 0 or more (greedy) repetitions of the preceding RE.\n",
      "             Greedy means that it will match as many repetitions as possible.\n",
      "    \"+\"      Matches 1 or more (greedy) repetitions of the preceding RE.\n",
      "    \"?\"      Matches 0 or 1 (greedy) of the preceding RE.\n",
      "    *?,+?,?? Non-greedy versions of the previous three special characters.\n",
      "    {m,n}    Matches from m to n repetitions of the preceding RE.\n",
      "    {m,n}?   Non-greedy version of the above.\n",
      "    \"\\\\\"     Either escapes special characters or signals a special sequence.\n",
      "    []       Indicates a set of characters.\n",
      "             A \"^\" as the first character indicates a complementing set.\n",
      "    \"|\"      A|B, creates an RE that will match either A or B.\n",
      "    (...)    Matches the RE inside the parentheses.\n",
      "             The contents can be retrieved or matched later in the string.\n",
      "    (?aiLmsux) The letters set the corresponding flags defined below.\n",
      "    (?:...)  Non-grouping version of regular parentheses.\n",
      "    (?P<name>...) The substring matched by the group is accessible by name.\n",
      "    (?P=name)     Matches the text matched earlier by the group named name.\n",
      "    (?#...)  A comment; ignored.\n",
      "    (?=...)  Matches if ... matches next, but doesn't consume the string.\n",
      "    (?!...)  Matches if ... doesn't match next.\n",
      "    (?<=...) Matches if preceded by ... (must be fixed length).\n",
      "    (?<!...) Matches if not preceded by ... (must be fixed length).\n",
      "    (?(id/name)yes|no) Matches yes pattern if the group with id/name matched,\n",
      "                       the (optional) no pattern otherwise.\n",
      "\n",
      "The special sequences consist of \"\\\\\" and a character from the list\n",
      "below.  If the ordinary character is not on the list, then the\n",
      "resulting RE will match the second character.\n",
      "    \\number  Matches the contents of the group of the same number.\n",
      "    \\A       Matches only at the start of the string.\n",
      "    \\Z       Matches only at the end of the string.\n",
      "    \\b       Matches the empty string, but only at the start or end of a word.\n",
      "    \\B       Matches the empty string, but not at the start or end of a word.\n",
      "    \\d       Matches any decimal digit; equivalent to the set [0-9] in\n",
      "             bytes patterns or string patterns with the ASCII flag.\n",
      "             In string patterns without the ASCII flag, it will match the whole\n",
      "             range of Unicode digits.\n",
      "    \\D       Matches any non-digit character; equivalent to [^\\d].\n",
      "    \\s       Matches any whitespace character; equivalent to [ \\t\\n\\r\\f\\v] in\n",
      "             bytes patterns or string patterns with the ASCII flag.\n",
      "             In string patterns without the ASCII flag, it will match the whole\n",
      "             range of Unicode whitespace characters.\n",
      "    \\S       Matches any non-whitespace character; equivalent to [^\\s].\n",
      "    \\w       Matches any alphanumeric character; equivalent to [a-zA-Z0-9_]\n",
      "             in bytes patterns or string patterns with the ASCII flag.\n",
      "             In string patterns without the ASCII flag, it will match the\n",
      "             range of Unicode alphanumeric characters (letters plus digits\n",
      "             plus underscore).\n",
      "             With LOCALE, it will match the set [0-9_] plus characters defined\n",
      "             as letters for the current locale.\n",
      "    \\W       Matches the complement of \\w.\n",
      "    \\\\       Matches a literal backslash.\n",
      "\n",
      "This module exports the following functions:\n",
      "    match     Match a regular expression pattern to the beginning of a string.\n",
      "    fullmatch Match a regular expression pattern to all of a string.\n",
      "    search    Search a string for the presence of a pattern.\n",
      "    sub       Substitute occurrences of a pattern found in a string.\n",
      "    subn      Same as sub, but also return the number of substitutions made.\n",
      "    split     Split a string by the occurrences of a pattern.\n",
      "    findall   Find all occurrences of a pattern in a string.\n",
      "    finditer  Return an iterator yielding a Match object for each match.\n",
      "    compile   Compile a pattern into a Pattern object.\n",
      "    purge     Clear the regular expression cache.\n",
      "    escape    Backslash all non-alphanumerics in a string.\n",
      "\n",
      "Each function other than purge and escape can take an optional 'flags' argument\n",
      "consisting of one or more of the following module constants, joined by \"|\".\n",
      "A, L, and U are mutually exclusive.\n",
      "    A  ASCII       For string patterns, make \\w, \\W, \\b, \\B, \\d, \\D\n",
      "                   match the corresponding ASCII character categories\n",
      "                   (rather than the whole Unicode categories, which is the\n",
      "                   default).\n",
      "                   For bytes patterns, this flag is the only available\n",
      "                   behaviour and needn't be specified.\n",
      "    I  IGNORECASE  Perform case-insensitive matching.\n",
      "    L  LOCALE      Make \\w, \\W, \\b, \\B, dependent on the current locale.\n",
      "    M  MULTILINE   \"^\" matches the beginning of lines (after a newline)\n",
      "                   as well as the string.\n",
      "                   \"$\" matches the end of lines (before a newline) as well\n",
      "                   as the end of the string.\n",
      "    S  DOTALL      \".\" matches any character at all, including the newline.\n",
      "    X  VERBOSE     Ignore whitespace and comments for nicer looking RE's.\n",
      "    U  UNICODE     For compatibility only. Ignored for string patterns (it\n",
      "                   is the default), and forbidden for bytes patterns.\n",
      "\n",
      "This module also defines an exception 'error'.\n",
      "\n",
      "\n"
     ]
    }
   ],
   "source": [
    "import re\n",
    "print(re.__doc__)"
   ]
  },
  {
   "cell_type": "code",
   "execution_count": null,
   "id": "d6603391-c658-484f-9efa-0be23c1d399d",
   "metadata": {},
   "outputs": [],
   "source": []
  }
 ],
 "metadata": {
  "kernelspec": {
   "display_name": "Python 3 (ipykernel)",
   "language": "python",
   "name": "python3"
  },
  "language_info": {
   "codemirror_mode": {
    "name": "ipython",
    "version": 3
   },
   "file_extension": ".py",
   "mimetype": "text/x-python",
   "name": "python",
   "nbconvert_exporter": "python",
   "pygments_lexer": "ipython3",
   "version": "3.10.9"
  }
 },
 "nbformat": 4,
 "nbformat_minor": 5
}
