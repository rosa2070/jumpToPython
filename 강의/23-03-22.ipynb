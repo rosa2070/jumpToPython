{
 "cells": [
  {
   "cell_type": "markdown",
   "id": "4fb2fdf1-fc97-4561-b902-dad1479af297",
   "metadata": {},
   "source": [
    "# 복습"
   ]
  },
  {
   "cell_type": "code",
   "execution_count": null,
   "id": "b06c2487-8757-4d7e-9a5a-553b99c45326",
   "metadata": {},
   "outputs": [],
   "source": [
    "^[]: 시작문자\n",
    "[^ ]: 제외"
   ]
  },
  {
   "cell_type": "code",
   "execution_count": 1,
   "id": "ec3a14a6-3b49-4348-94d9-d71f2ca57f22",
   "metadata": {
    "tags": []
   },
   "outputs": [
    {
     "ename": "SyntaxError",
     "evalue": "invalid syntax (3776271753.py, line 1)",
     "output_type": "error",
     "traceback": [
      "\u001b[1;36m  Cell \u001b[1;32mIn[1], line 1\u001b[1;36m\u001b[0m\n\u001b[1;33m    .[]\u001b[0m\n\u001b[1;37m    ^\u001b[0m\n\u001b[1;31mSyntaxError\u001b[0m\u001b[1;31m:\u001b[0m invalid syntax\n"
     ]
    }
   ],
   "source": [
    ".[]\n",
    "[.]"
   ]
  },
  {
   "cell_type": "code",
   "execution_count": null,
   "id": "b62f004d-2f16-4210-b87c-d6498c6c0e00",
   "metadata": {},
   "outputs": [],
   "source": [
    "숫자 : [0-9] \\d\n",
    "숫자아님:\n",
    "영어대소문자:[a-zA-Z0-9] [a-Z]\n",
    "/w : alphanumeric\n",
    "한글문자: [가-힣]"
   ]
  },
  {
   "cell_type": "code",
   "execution_count": 2,
   "id": "d8c0dd9c-342c-451e-8ec1-ca632701e0a6",
   "metadata": {
    "tags": []
   },
   "outputs": [
    {
     "ename": "NameError",
     "evalue": "name 're' is not defined",
     "output_type": "error",
     "traceback": [
      "\u001b[1;31m---------------------------------------------------------------------------\u001b[0m",
      "\u001b[1;31mNameError\u001b[0m                                 Traceback (most recent call last)",
      "Cell \u001b[1;32mIn[2], line 1\u001b[0m\n\u001b[1;32m----> 1\u001b[0m p \u001b[38;5;241m=\u001b[39m \u001b[43mre\u001b[49m\u001b[38;5;241m.\u001b[39mcompile()\n",
      "\u001b[1;31mNameError\u001b[0m: name 're' is not defined"
     ]
    }
   ],
   "source": [
    "p = re.compile(\"aaa\")\n",
    "p.sub(\"bbb\", string) \n"
   ]
  },
  {
   "cell_type": "code",
   "execution_count": null,
   "id": "27f77900-ffdf-48be-bc53-5ca2715a4845",
   "metadata": {},
   "outputs": [],
   "source": [
    "re.sub(\"aaa\",\"bbb\",strings)"
   ]
  },
  {
   "cell_type": "code",
   "execution_count": null,
   "id": "a2fe792f-49c8-4a4a-9525-bdbc6264ccd5",
   "metadata": {},
   "outputs": [],
   "source": [
    "010-1234-5678\n",
    "휴대폰 번호를\n",
    "\n",
    "kkk123@naver.com\n",
    "\\w+[@]\\w+[.]\\w+ "
   ]
  },
  {
   "cell_type": "code",
   "execution_count": 17,
   "id": "87784b8d-d1d6-4d9e-a320-9f906777fb3f",
   "metadata": {
    "tags": []
   },
   "outputs": [
    {
     "data": {
      "text/plain": [
       "['신촌', '이대', '잠실', '홍대', '강남', '성수']"
      ]
     },
     "execution_count": 17,
     "metadata": {},
     "output_type": "execute_result"
    }
   ],
   "source": [
    "# '역 '글자 없애기\n",
    "stations = ['신촌역', '이대역', '잠실역', '홍대역', '강남역', '성수역'] \n",
    "import re\n",
    "p = re.compile(\"역\")\n",
    "li = []\n",
    "for station in stations:\n",
    "    #print(p.sub(\"\", station))\n",
    "    li.append(p.sub(\"\", station))\n",
    "li"
   ]
  },
  {
   "cell_type": "code",
   "execution_count": 19,
   "id": "6735a347-0060-4478-b09e-6a87dc7d6ec7",
   "metadata": {
    "tags": []
   },
   "outputs": [
    {
     "name": "stdout",
     "output_type": "stream",
     "text": [
      "['2 apples', '1 cherry']\n"
     ]
    }
   ],
   "source": [
    "string = \"I have 2 apples and 1 cherry\" \n",
    "p = re.compile(\"\\d [a-z]{6}\")\n",
    "m = p.findall(string)\n",
    "print(m)"
   ]
  },
  {
   "cell_type": "code",
   "execution_count": 21,
   "id": "8cf3d393-a64b-49df-93ba-0e7134c02b74",
   "metadata": {
    "tags": []
   },
   "outputs": [
    {
     "name": "stdout",
     "output_type": "stream",
     "text": [
      "2 apples\n",
      "1 cherry\n"
     ]
    }
   ],
   "source": [
    "\n",
    "p = re.compile(\"\\d\\s\\w+\")\n",
    "result = p.finditer(string)\n",
    "for i in result:\n",
    "    print(i.group())"
   ]
  },
  {
   "cell_type": "code",
   "execution_count": 22,
   "id": "e2bca594-2d75-4357-92c8-1dac87b610c2",
   "metadata": {
    "tags": []
   },
   "outputs": [
    {
     "name": "stdout",
     "output_type": "stream",
     "text": [
      "2 apples\n",
      "1 cherry\n"
     ]
    }
   ],
   "source": [
    "for i in p.finditer(string):\n",
    "    print(i.group())"
   ]
  },
  {
   "cell_type": "code",
   "execution_count": 24,
   "id": "a64a77a8-f716-4507-8030-2c9b6ccb9db6",
   "metadata": {
    "tags": []
   },
   "outputs": [
    {
     "name": "stdout",
     "output_type": "stream",
     "text": [
      "['.ipynb_checkpoints', '23-03-22.ipynb', 'mod1.py', 'modtest.py', 'mymod', 'Untitled.ipynb', '__pycache__']\n"
     ]
    }
   ],
   "source": [
    "import os \n",
    "li = os.listdir()\n",
    "print(li)"
   ]
  },
  {
   "cell_type": "code",
   "execution_count": 54,
   "id": "03a2e075-53ff-4f87-89c9-c10cb956a9ca",
   "metadata": {
    "tags": []
   },
   "outputs": [
    {
     "name": "stdout",
     "output_type": "stream",
     "text": [
      "22.ipynb\n",
      "mod1.py\n",
      "modtest.py\n",
      "Untitled.ipynb\n"
     ]
    }
   ],
   "source": [
    "#확장자가 py이거나 ipynb이거나 txt인 \n",
    "li = os.listdir()\n",
    "p = re.compile(\"\\w+[.]py|\\w+[.]ipynb|\\w+[.]txt\")\n",
    "result = p.finditer(str(li))\n",
    "for r in result:\n",
    "    print(r.group())\n"
   ]
  },
  {
   "cell_type": "code",
   "execution_count": 55,
   "id": "b4c9fa34-f431-4ce8-aa58-9b0852da59e1",
   "metadata": {
    "tags": []
   },
   "outputs": [
    {
     "name": "stdout",
     "output_type": "stream",
     "text": [
      "22.ipynb\n",
      "mod1.py\n",
      "modtest.py\n",
      "Untitled.ipynb\n"
     ]
    }
   ],
   "source": [
    "p = re.compile('\\w+[.](ipynb$|py$|txt$)')\n",
    "for i in li:\n",
    "    try:\n",
    "        print(p.search(i).group())\n",
    "    except:pass"
   ]
  },
  {
   "cell_type": "code",
   "execution_count": 123,
   "id": "4c116046-9f0e-47e7-9002-ed5d990e456f",
   "metadata": {
    "tags": []
   },
   "outputs": [
    {
     "name": "stdout",
     "output_type": "stream",
     "text": [
      "dress\n",
      "pressure\n"
     ]
    }
   ],
   "source": [
    "li = ['acres', 'dress', 'correspond','fresh', 'pressure'] \n",
    "p = re.compile(\"[a-z]*ress[a-z]*\")\n",
    "result = p.findall(str(list))\n",
    "for i in result:\n",
    "    print(i)"
   ]
  },
  {
   "cell_type": "code",
   "execution_count": 62,
   "id": "7aa485e7-3357-447c-b847-f6dd4094a689",
   "metadata": {
    "tags": []
   },
   "outputs": [
    {
     "name": "stdout",
     "output_type": "stream",
     "text": [
      "dress\n",
      "pressure\n"
     ]
    }
   ],
   "source": [
    "p = re.compile(\"\\w+ress\\w*\")\n",
    "for i in list:\n",
    "    if p.search(i):\n",
    "        print(p.search(i).group())"
   ]
  },
  {
   "cell_type": "code",
   "execution_count": 64,
   "id": "6ecb9242-0da5-4d70-b469-3fc7d8f5bdbf",
   "metadata": {
    "tags": []
   },
   "outputs": [
    {
     "data": {
      "text/plain": [
       "'Have a nice *'"
      ]
     },
     "execution_count": 64,
     "metadata": {},
     "output_type": "execute_result"
    }
   ],
   "source": [
    "string = \"Have a nice day\"\n",
    "p = re.compile('\\w{3}$')\n",
    "p.sub('*', string)"
   ]
  },
  {
   "cell_type": "code",
   "execution_count": 75,
   "id": "b74ea10a-e5df-4c8c-903c-7cdb2807ee0a",
   "metadata": {
    "tags": []
   },
   "outputs": [
    {
     "name": "stdout",
     "output_type": "stream",
     "text": [
      "python-402\n",
      "python-302\n"
     ]
    }
   ],
   "source": [
    "li = ['python-402','python-302', 'java-201', 'java-401']\n",
    "p = re.compile(\"python-\\d{3}\")\n",
    "for i in li:\n",
    "    try:\n",
    "        print(\n",
    "p.search\n",
    "(i).group())\n",
    "    except:\n",
    "        pass "
   ]
  },
  {
   "cell_type": "code",
   "execution_count": 76,
   "id": "e5d4fae2-3f89-4741-8546-e706e700a92e",
   "metadata": {
    "tags": []
   },
   "outputs": [
    {
     "name": "stdout",
     "output_type": "stream",
     "text": [
      "python-402\n",
      "python-302\n"
     ]
    }
   ],
   "source": [
    "for i in li:\n",
    "    if re.search('python', i):\n",
    "        print(i)"
   ]
  },
  {
   "cell_type": "code",
   "execution_count": 77,
   "id": "df77975d-cab2-483d-adcd-e42772c8595b",
   "metadata": {
    "tags": []
   },
   "outputs": [
    {
     "ename": "SyntaxError",
     "evalue": "leading zeros in decimal integer literals are not permitted; use an 0o prefix for octal integers (4058990104.py, line 1)",
     "output_type": "error",
     "traceback": [
      "\u001b[1;36m  Cell \u001b[1;32mIn[77], line 1\u001b[1;36m\u001b[0m\n\u001b[1;33m    010-456-7892\u001b[0m\n\u001b[1;37m    ^\u001b[0m\n\u001b[1;31mSyntaxError\u001b[0m\u001b[1;31m:\u001b[0m leading zeros in decimal integer literals are not permitted; use an 0o prefix for octal integers\n"
     ]
    }
   ],
   "source": [
    "010-456-7892\n",
    "010-4567-7892\n",
    "\n",
    "p = re.compile(010-[0-9]{4}-\\d{4})"
   ]
  },
  {
   "cell_type": "code",
   "execution_count": 104,
   "id": "205f30f3-2f2e-4270-ae45-6903631b6690",
   "metadata": {
    "tags": []
   },
   "outputs": [
    {
     "ename": "TypeError",
     "evalue": "'list' object is not callable",
     "output_type": "error",
     "traceback": [
      "\u001b[1;31m---------------------------------------------------------------------------\u001b[0m",
      "\u001b[1;31mTypeError\u001b[0m                                 Traceback (most recent call last)",
      "Cell \u001b[1;32mIn[104], line 9\u001b[0m\n\u001b[0;32m      6\u001b[0m is_phone_number(\u001b[38;5;124m\"\u001b[39m\u001b[38;5;124m010-4567-7892\u001b[39m\u001b[38;5;124m\"\u001b[39m)\n\u001b[0;32m      8\u001b[0m phonelist \u001b[38;5;241m=\u001b[39m [\u001b[38;5;124m'\u001b[39m\u001b[38;5;124m010-456-7892\u001b[39m\u001b[38;5;124m'\u001b[39m, \u001b[38;5;124m'\u001b[39m\u001b[38;5;124m010-2345-1234\u001b[39m\u001b[38;5;124m'\u001b[39m,\u001b[38;5;124m'\u001b[39m\u001b[38;5;124m013-123-1231\u001b[39m\u001b[38;5;124m'\u001b[39m,\u001b[38;5;124m'\u001b[39m\u001b[38;5;124m011-123-1234\u001b[39m\u001b[38;5;124m'\u001b[39m]\n\u001b[1;32m----> 9\u001b[0m \u001b[38;5;28;43mlist\u001b[39;49m\u001b[43m(\u001b[49m\u001b[38;5;28;43mfilter\u001b[39;49m\u001b[43m(\u001b[49m\u001b[43mis_phone_number\u001b[49m\u001b[43m,\u001b[49m\u001b[43mphonelist\u001b[49m\u001b[43m)\u001b[49m\u001b[43m)\u001b[49m\n",
      "\u001b[1;31mTypeError\u001b[0m: 'list' object is not callable"
     ]
    }
   ],
   "source": [
    "def is_phone_number(num):\n",
    "    if re.search(\"010-[0-9]{4}-\\d{4}\",num):\n",
    "        return True\n",
    "    else:\n",
    "        return False\n",
    "is_phone_number(\"010-4567-7892\")\n",
    "\n",
    "phonelist = ['010-456-7892', '010-2345-1234','013-123-1231','011-123-1234']\n",
    "list(filter(is_phone_number,phonelist))"
   ]
  },
  {
   "cell_type": "code",
   "execution_count": 110,
   "id": "cf26c38f-12ee-4b5e-9840-effb19bc40aa",
   "metadata": {
    "tags": []
   },
   "outputs": [
    {
     "data": {
      "text/plain": [
       "83"
      ]
     },
     "execution_count": 110,
     "metadata": {},
     "output_type": "execute_result"
    }
   ],
   "source": [
    "import random\n",
    "num = random.randint(1,1000)\n",
    "num"
   ]
  },
  {
   "cell_type": "code",
   "execution_count": 112,
   "id": "46b66c73-cd41-47b2-a704-9fe898b057e6",
   "metadata": {
    "tags": []
   },
   "outputs": [
    {
     "ename": "SyntaxError",
     "evalue": "invalid syntax (1381107469.py, line 1)",
     "output_type": "error",
     "traceback": [
      "\u001b[1;36m  Cell \u001b[1;32mIn[112], line 1\u001b[1;36m\u001b[0m\n\u001b[1;33m    random.random random.uniform\u001b[0m\n\u001b[1;37m                  ^\u001b[0m\n\u001b[1;31mSyntaxError\u001b[0m\u001b[1;31m:\u001b[0m invalid syntax\n"
     ]
    }
   ],
   "source": [
    "random.random random.uniform\n",
    "random.randint\n",
    "random.shuffle\n",
    "\n",
    "random.choices()\n",
    "random.sample()"
   ]
  },
  {
   "cell_type": "code",
   "execution_count": 113,
   "id": "20023d7d-99bb-4b7e-8952-015ce071efa3",
   "metadata": {
    "tags": []
   },
   "outputs": [],
   "source": [
    "numbers = []\n",
    "for i in range(100):\n",
    "    numbers.append(random.randint(1,1000))"
   ]
  },
  {
   "cell_type": "code",
   "execution_count": 115,
   "id": "9a0216d8-19b2-427e-bd38-a050ab3684af",
   "metadata": {
    "tags": []
   },
   "outputs": [],
   "source": [
    "numbers = random.choices(range(1,1001), k=100)"
   ]
  },
  {
   "cell_type": "code",
   "execution_count": 116,
   "id": "6f026deb-afe6-4c2d-b50f-c97a84f1b6e8",
   "metadata": {
    "tags": []
   },
   "outputs": [],
   "source": [
    "numbers = random.choices(range(1,1001), k=10)"
   ]
  },
  {
   "cell_type": "code",
   "execution_count": null,
   "id": "6da29b0c-47a7-42f1-9e61-13246af70a49",
   "metadata": {},
   "outputs": [],
   "source": []
  }
 ],
 "metadata": {
  "kernelspec": {
   "display_name": "Python 3 (ipykernel)",
   "language": "python",
   "name": "python3"
  },
  "language_info": {
   "codemirror_mode": {
    "name": "ipython",
    "version": 3
   },
   "file_extension": ".py",
   "mimetype": "text/x-python",
   "name": "python",
   "nbconvert_exporter": "python",
   "pygments_lexer": "ipython3",
   "version": "3.10.9"
  }
 },
 "nbformat": 4,
 "nbformat_minor": 5
}
