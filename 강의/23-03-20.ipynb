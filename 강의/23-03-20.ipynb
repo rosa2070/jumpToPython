{
 "cells": [
  {
   "cell_type": "code",
   "execution_count": 1,
   "id": "ecd2cba0-c539-426d-9102-c1cb51496828",
   "metadata": {
    "tags": []
   },
   "outputs": [],
   "source": [
    "#재귀함수 이용해 피보나치 수열 만들기"
   ]
  },
  {
   "cell_type": "code",
   "execution_count": 4,
   "id": "4de74bd7-8948-4d91-96bc-8f25009081f5",
   "metadata": {
    "tags": []
   },
   "outputs": [],
   "source": [
    "def f(n):\n",
    "    if n == 1 or n == 2:\n",
    "        return 1\n",
    "    return f(n-1) + f(n-2)"
   ]
  },
  {
   "cell_type": "code",
   "execution_count": 5,
   "id": "4df4defe-3e3f-45b5-9670-d2a47bbbc7b1",
   "metadata": {
    "tags": []
   },
   "outputs": [
    {
     "data": {
      "text/plain": [
       "1"
      ]
     },
     "execution_count": 5,
     "metadata": {},
     "output_type": "execute_result"
    }
   ],
   "source": [
    "f(1)"
   ]
  },
  {
   "cell_type": "code",
   "execution_count": 6,
   "id": "8051d2e8-705c-4b4f-be94-85f473315f54",
   "metadata": {
    "tags": []
   },
   "outputs": [
    {
     "data": {
      "text/plain": [
       "1"
      ]
     },
     "execution_count": 6,
     "metadata": {},
     "output_type": "execute_result"
    }
   ],
   "source": [
    "f(2)"
   ]
  },
  {
   "cell_type": "code",
   "execution_count": 7,
   "id": "6b565ed7-4bdd-4711-9756-683bd5887308",
   "metadata": {
    "tags": []
   },
   "outputs": [
    {
     "data": {
      "text/plain": [
       "2"
      ]
     },
     "execution_count": 7,
     "metadata": {},
     "output_type": "execute_result"
    }
   ],
   "source": [
    "f(3)"
   ]
  },
  {
   "cell_type": "code",
   "execution_count": 8,
   "id": "a00643b2-30b5-4b29-982b-53d5423da78e",
   "metadata": {
    "tags": []
   },
   "outputs": [
    {
     "data": {
      "text/plain": [
       "3"
      ]
     },
     "execution_count": 8,
     "metadata": {},
     "output_type": "execute_result"
    }
   ],
   "source": [
    "f(4)"
   ]
  },
  {
   "cell_type": "code",
   "execution_count": 9,
   "id": "f9585bd4-bdca-4b65-b4f1-065a29fb9828",
   "metadata": {
    "tags": []
   },
   "outputs": [
    {
     "data": {
      "text/plain": [
       "5"
      ]
     },
     "execution_count": 9,
     "metadata": {},
     "output_type": "execute_result"
    }
   ],
   "source": [
    "f(5)"
   ]
  },
  {
   "cell_type": "code",
   "execution_count": 10,
   "id": "7a439d51-c845-4566-8cf1-995f81b2df47",
   "metadata": {
    "tags": []
   },
   "outputs": [
    {
     "data": {
      "text/plain": [
       "5"
      ]
     },
     "execution_count": 10,
     "metadata": {},
     "output_type": "execute_result"
    }
   ],
   "source": [
    "f(5)"
   ]
  },
  {
   "cell_type": "code",
   "execution_count": 11,
   "id": "ae1ed6e8-7dc6-4c0d-9089-957ca179a5d3",
   "metadata": {
    "tags": []
   },
   "outputs": [
    {
     "data": {
      "text/plain": [
       "8"
      ]
     },
     "execution_count": 11,
     "metadata": {},
     "output_type": "execute_result"
    }
   ],
   "source": [
    "f(6)"
   ]
  },
  {
   "cell_type": "code",
   "execution_count": 12,
   "id": "276baf50-482d-4db9-ab6b-71b6ab50b6a7",
   "metadata": {
    "tags": []
   },
   "outputs": [
    {
     "data": {
      "text/plain": [
       "13"
      ]
     },
     "execution_count": 12,
     "metadata": {},
     "output_type": "execute_result"
    }
   ],
   "source": [
    "f(7)"
   ]
  },
  {
   "cell_type": "code",
   "execution_count": 13,
   "id": "49159765-f6bf-4d53-a7ad-1072c46de8f2",
   "metadata": {
    "tags": []
   },
   "outputs": [
    {
     "data": {
      "text/plain": [
       "13"
      ]
     },
     "execution_count": 13,
     "metadata": {},
     "output_type": "execute_result"
    }
   ],
   "source": [
    "f(7)"
   ]
  },
  {
   "cell_type": "code",
   "execution_count": 14,
   "id": "43f365e6-2269-42cd-b82a-8dc777cd83f3",
   "metadata": {
    "tags": []
   },
   "outputs": [
    {
     "data": {
      "text/plain": [
       "21"
      ]
     },
     "execution_count": 14,
     "metadata": {},
     "output_type": "execute_result"
    }
   ],
   "source": [
    "f(8)"
   ]
  },
  {
   "cell_type": "code",
   "execution_count": 16,
   "id": "ce245c6c-f482-409e-86a5-fe619db245bc",
   "metadata": {
    "tags": []
   },
   "outputs": [
    {
     "data": {
      "text/plain": [
       "[1, 3, 8]"
      ]
     },
     "execution_count": 16,
     "metadata": {},
     "output_type": "execute_result"
    }
   ],
   "source": [
    "list(filter(lambda x: x>0, [1,-2,3,-5,8]))"
   ]
  },
  {
   "cell_type": "code",
   "execution_count": 17,
   "id": "8dc30d77-75ef-4c04-9c74-4fe467a897f9",
   "metadata": {
    "tags": []
   },
   "outputs": [],
   "source": [
    "import time\n"
   ]
  },
  {
   "cell_type": "code",
   "execution_count": 26,
   "id": "4ab40044-ed45-42f7-931f-914f1cbffbad",
   "metadata": {
    "tags": []
   },
   "outputs": [
    {
     "data": {
      "text/plain": [
       "'2023/03/20 09:14:18'"
      ]
     },
     "execution_count": 26,
     "metadata": {},
     "output_type": "execute_result"
    }
   ],
   "source": [
    "import time\n",
    "time.strftime(\"%Y/%m/%d %H:%M:%S\", time.localtime()) "
   ]
  },
  {
   "cell_type": "code",
   "execution_count": 27,
   "id": "21b91de4-42f5-40dd-b2bd-eb3f207665b9",
   "metadata": {
    "tags": []
   },
   "outputs": [
    {
     "data": {
      "text/plain": [
       "[7, 31, 15, 27, 30, 1]"
      ]
     },
     "execution_count": 27,
     "metadata": {},
     "output_type": "execute_result"
    }
   ],
   "source": [
    "import random\n",
    "random.sample(range(1,46),k=6) #1부터 45까지 중복없이 5개 뽑기"
   ]
  },
  {
   "cell_type": "code",
   "execution_count": 28,
   "id": "92575b02-b531-437f-bb47-7ce1ffeb4826",
   "metadata": {
    "tags": []
   },
   "outputs": [],
   "source": [
    "a= list(range(1,101))"
   ]
  },
  {
   "cell_type": "code",
   "execution_count": 30,
   "id": "7cf05de2-16e6-4edf-bff4-2843425282f7",
   "metadata": {
    "tags": []
   },
   "outputs": [],
   "source": [
    "b = list(filter(lambda x: x%2==0, a))"
   ]
  },
  {
   "cell_type": "code",
   "execution_count": 31,
   "id": "4bb78b92-7401-49e8-b1a9-372b37cc83a8",
   "metadata": {
    "tags": []
   },
   "outputs": [
    {
     "data": {
      "text/plain": [
       "[2,\n",
       " 4,\n",
       " 6,\n",
       " 8,\n",
       " 10,\n",
       " 12,\n",
       " 14,\n",
       " 16,\n",
       " 18,\n",
       " 20,\n",
       " 22,\n",
       " 24,\n",
       " 26,\n",
       " 28,\n",
       " 30,\n",
       " 32,\n",
       " 34,\n",
       " 36,\n",
       " 38,\n",
       " 40,\n",
       " 42,\n",
       " 44,\n",
       " 46,\n",
       " 48,\n",
       " 50,\n",
       " 52,\n",
       " 54,\n",
       " 56,\n",
       " 58,\n",
       " 60,\n",
       " 62,\n",
       " 64,\n",
       " 66,\n",
       " 68,\n",
       " 70,\n",
       " 72,\n",
       " 74,\n",
       " 76,\n",
       " 78,\n",
       " 80,\n",
       " 82,\n",
       " 84,\n",
       " 86,\n",
       " 88,\n",
       " 90,\n",
       " 92,\n",
       " 94,\n",
       " 96,\n",
       " 98,\n",
       " 100]"
      ]
     },
     "execution_count": 31,
     "metadata": {},
     "output_type": "execute_result"
    }
   ],
   "source": [
    "b"
   ]
  },
  {
   "cell_type": "code",
   "execution_count": 35,
   "id": "10f07ea3-f384-4ab2-90cb-765254ca17dc",
   "metadata": {
    "tags": []
   },
   "outputs": [],
   "source": [
    "import pickle\n",
    "f = open(\"pickle.txt\", 'wb')\n",
    "data = b\n",
    "pickle.dump(data, f)\n",
    "f.close()"
   ]
  },
  {
   "cell_type": "code",
   "execution_count": 36,
   "id": "1b3cc863-a9ae-45d4-9275-a346ae418b02",
   "metadata": {
    "tags": []
   },
   "outputs": [
    {
     "name": "stdout",
     "output_type": "stream",
     "text": [
      "[2, 4, 6, 8, 10, 12, 14, 16, 18, 20, 22, 24, 26, 28, 30, 32, 34, 36, 38, 40, 42, 44, 46, 48, 50, 52, 54, 56, 58, 60, 62, 64, 66, 68, 70, 72, 74, 76, 78, 80, 82, 84, 86, 88, 90, 92, 94, 96, 98, 100]\n"
     ]
    }
   ],
   "source": [
    "f = open(\"pickle.txt\", 'rb')\n",
    "data = pickle.load(f)\n",
    "print(data)"
   ]
  },
  {
   "cell_type": "code",
   "execution_count": 37,
   "id": "064c2ea1-35fb-4102-83bc-d97a9206e9ff",
   "metadata": {
    "tags": []
   },
   "outputs": [
    {
     "name": "stdout",
     "output_type": "stream",
     "text": [
      "[2, 4, 6, 8, 10, 12, 14, 16, 18, 20, 22, 24, 26, 28, 30, 32, 34, 36, 38, 40, 42, 44, 46, 48, 50, 52, 54, 56, 58, 60, 62, 64, 66, 68, 70, 72, 74, 76, 78, 80, 82, 84, 86, 88, 90, 92, 94, 96, 98, 100]\n"
     ]
    }
   ],
   "source": [
    "import pickle \n",
    "with open(\"data2.pickle\", \"wb\") as fw:\n",
    "    pickle.dump(b, fw)\n",
    "\n",
    "with open('data2.pickle', 'rb') as fr:\n",
    "    df = pickle.load(fr)\n",
    "print(df) "
   ]
  },
  {
   "cell_type": "code",
   "execution_count": 38,
   "id": "5e6ff617-eb89-4a9d-a1dd-814f2e719cf3",
   "metadata": {
    "tags": []
   },
   "outputs": [],
   "source": [
    "li1 = [\"I\", \"you\", \"he\", \"she\"]\n",
    "li2 = [\"am\", \"are\", \"is\", \"is\"]"
   ]
  },
  {
   "cell_type": "code",
   "execution_count": 43,
   "id": "6097d9cc-89ae-4be8-b222-be424538d719",
   "metadata": {
    "tags": []
   },
   "outputs": [
    {
     "data": {
      "text/plain": [
       "['I', 'he', 'you', 'she']"
      ]
     },
     "execution_count": 43,
     "metadata": {},
     "output_type": "execute_result"
    }
   ],
   "source": [
    "import random\n",
    "random.shuffle(li1)\n",
    "random.shuffle(li2)\n",
    "li1"
   ]
  },
  {
   "cell_type": "code",
   "execution_count": 45,
   "id": "7047bdf6-379e-46ba-b0b1-9cc8468d18db",
   "metadata": {
    "tags": []
   },
   "outputs": [
    {
     "name": "stdout",
     "output_type": "stream",
     "text": [
      "('I', 'am')\n",
      "('he', 'are')\n",
      "('you', 'is')\n",
      "('she', 'is')\n"
     ]
    }
   ],
   "source": [
    "for i in zip(li1, li2):\n",
    "    print(i)"
   ]
  },
  {
   "cell_type": "code",
   "execution_count": 48,
   "id": "6e88b941-e677-4abc-92b8-02bd5f589abd",
   "metadata": {
    "tags": []
   },
   "outputs": [
    {
     "data": {
      "text/plain": [
       "[('I', 'am'), ('he', 'are'), ('you', 'is'), ('she', 'is')]"
      ]
     },
     "execution_count": 48,
     "metadata": {},
     "output_type": "execute_result"
    }
   ],
   "source": [
    "[i for i in zip(li1, li2)]"
   ]
  },
  {
   "cell_type": "code",
   "execution_count": 53,
   "id": "b5ce1585-84ac-47e8-b3a7-8f7f12794740",
   "metadata": {
    "tags": []
   },
   "outputs": [
    {
     "ename": "TypeError",
     "evalue": "Random.sample() missing 2 required positional arguments: 'population' and 'k'",
     "output_type": "error",
     "traceback": [
      "\u001b[1;31m---------------------------------------------------------------------------\u001b[0m",
      "\u001b[1;31mTypeError\u001b[0m                                 Traceback (most recent call last)",
      "Cell \u001b[1;32mIn[53], line 1\u001b[0m\n\u001b[1;32m----> 1\u001b[0m \u001b[43mrandom\u001b[49m\u001b[38;5;241;43m.\u001b[39;49m\u001b[43msample\u001b[49m\u001b[43m(\u001b[49m\u001b[43m)\u001b[49m\n\u001b[0;32m      2\u001b[0m random\u001b[38;5;241m.\u001b[39mshuffle() \n\u001b[0;32m      4\u001b[0m random\u001b[38;5;241m.\u001b[39mchoices()\n",
      "\u001b[1;31mTypeError\u001b[0m: Random.sample() missing 2 required positional arguments: 'population' and 'k'"
     ]
    }
   ],
   "source": [
    "random.sample() : 중복없이\n",
    "random.shuffle() \n",
    "\n",
    "random.choices() : k개 복원추출(중복가능)\n",
    "random.randint(10,15) : 정수 1개 임의출력,\n",
    "                        10~15사이의 정수 1개 출력?\n",
    "    \n",
    "random.random.random() : 0초과 1미만의 실수 중 1개 임의 출력\n",
    "random.uniform(10,15) : 10~15 사이의 실수 1개 출력?\n",
    "\n",
    "\n"
   ]
  },
  {
   "cell_type": "code",
   "execution_count": 58,
   "id": "a2375dd2-d2b8-4047-abe7-075af7b22f26",
   "metadata": {
    "tags": []
   },
   "outputs": [],
   "source": [
    "num1 = str(random.randint(100,999))"
   ]
  },
  {
   "cell_type": "code",
   "execution_count": 59,
   "id": "d2a9c438-437a-4eff-82c5-1fdc884c8c27",
   "metadata": {
    "tags": []
   },
   "outputs": [],
   "source": [
    "num2 = str(random.randint(10,99))"
   ]
  },
  {
   "cell_type": "code",
   "execution_count": 60,
   "id": "3da19634-7d96-43d4-b226-4c1f09c9f56a",
   "metadata": {
    "tags": []
   },
   "outputs": [],
   "source": [
    "num3 = str(random.randint(100000, 999999))"
   ]
  },
  {
   "cell_type": "code",
   "execution_count": 62,
   "id": "04dcda40-5f38-4230-9d56-5cd90c200ab5",
   "metadata": {
    "tags": []
   },
   "outputs": [
    {
     "data": {
      "text/plain": [
       "'924-73-925975'"
      ]
     },
     "execution_count": 62,
     "metadata": {},
     "output_type": "execute_result"
    }
   ],
   "source": [
    "f'{num1}-{num2}-{num3}'"
   ]
  },
  {
   "cell_type": "code",
   "execution_count": 63,
   "id": "9771119f-1499-4350-9f97-3b392af63cdd",
   "metadata": {
    "tags": []
   },
   "outputs": [],
   "source": [
    "li2 = [\"am\", \"are\", \"is\", \"is\"]"
   ]
  },
  {
   "cell_type": "code",
   "execution_count": 67,
   "id": "9635f66a-f932-458a-a14c-fad606ea0ff6",
   "metadata": {
    "tags": []
   },
   "outputs": [
    {
     "data": {
      "text/plain": [
       "'오늘은 23년 03월 20일 입니다'"
      ]
     },
     "execution_count": 67,
     "metadata": {},
     "output_type": "execute_result"
    }
   ],
   "source": [
    "time.strftime('오늘은 %y년 %m월 %d일 입니다', time.localtime(time.time()))"
   ]
  },
  {
   "cell_type": "code",
   "execution_count": 69,
   "id": "a333e22c-f659-4127-a225-15d31640b126",
   "metadata": {
    "tags": []
   },
   "outputs": [
    {
     "ename": "SyntaxError",
     "evalue": "invalid decimal literal (2573076464.py, line 3)",
     "output_type": "error",
     "traceback": [
      "\u001b[1;36m  Cell \u001b[1;32mIn[69], line 3\u001b[1;36m\u001b[0m\n\u001b[1;33m    3단의 결과만 리스트에 모여주는 함수(프로그램)\u001b[0m\n\u001b[1;37m    ^\u001b[0m\n\u001b[1;31mSyntaxError\u001b[0m\u001b[1;31m:\u001b[0m invalid decimal literal\n"
     ]
    }
   ],
   "source": [
    "# 내가 만드는 프로그램\n",
    "GuGu(3)\n",
    "3단의 결과만 리스트에 모여주는 함수(프로그램)"
   ]
  },
  {
   "cell_type": "code",
   "execution_count": null,
   "id": "86a33704-b3ae-4611-ba31-d6275045981a",
   "metadata": {},
   "outputs": [],
   "source": [
    "def GuGu():\n",
    "    [3,6,9,....,27]"
   ]
  },
  {
   "cell_type": "code",
   "execution_count": 74,
   "id": "99d224e1-56cd-4112-bada-4bf959464599",
   "metadata": {
    "tags": []
   },
   "outputs": [],
   "source": [
    "def GuGu(n):\n",
    "    li = []\n",
    "    for i in range(1,10):\n",
    "        li.append(n*i)\n",
    "    return li"
   ]
  },
  {
   "cell_type": "code",
   "execution_count": 75,
   "id": "d97e5356-b46c-43f0-bb9a-4ee12081346b",
   "metadata": {
    "tags": []
   },
   "outputs": [
    {
     "data": {
      "text/plain": [
       "[5, 10, 15, 20, 25, 30, 35, 40, 45]"
      ]
     },
     "execution_count": 75,
     "metadata": {},
     "output_type": "execute_result"
    }
   ],
   "source": [
    "GuGu(5)"
   ]
  },
  {
   "cell_type": "code",
   "execution_count": null,
   "id": "41a14df3-eacb-46bd-9977-91b94482b000",
   "metadata": {},
   "outputs": [],
   "source": [
    "p269 ~ 272"
   ]
  },
  {
   "cell_type": "code",
   "execution_count": 80,
   "id": "57c24121-49d1-4431-aa88-ced62037bd9f",
   "metadata": {
    "tags": []
   },
   "outputs": [],
   "source": [
    "# (100보다 작은 수 중에서) 3의 배수와 5의 배수의 합 구하기\n",
    "def multiple(x,y):\n",
    "    total = 0\n",
    "    for i in range(1,100):\n",
    "        if i % x == 0 or i %y == 0:\n",
    "            total += i\n",
    "    return total\n",
    "\n",
    "# sum보다는 total 사용!!\n",
    "\n",
    "            \n",
    "    "
   ]
  },
  {
   "cell_type": "code",
   "execution_count": 78,
   "id": "1cd68822-9382-4251-9a09-59ee2513ecd9",
   "metadata": {
    "tags": []
   },
   "outputs": [
    {
     "data": {
      "text/plain": [
       "2318"
      ]
     },
     "execution_count": 78,
     "metadata": {},
     "output_type": "execute_result"
    }
   ],
   "source": [
    "multiple(3,5)"
   ]
  },
  {
   "cell_type": "code",
   "execution_count": 81,
   "id": "e073945c-0551-4318-bc65-a90d06efb3fa",
   "metadata": {
    "tags": []
   },
   "outputs": [
    {
     "data": {
      "text/plain": [
       "<function __main__.getTotalPage(n)>"
      ]
     },
     "execution_count": 81,
     "metadata": {},
     "output_type": "execute_result"
    }
   ],
   "source": [
    "#  3->1\n",
    "#11 ->2\n",
    "# 21 ->3\n",
    "# 31 ->4\n",
    "\n",
    "# 95 -> 10\n",
    "\n",
    "\n",
    "def getTotalPage(n):\n",
    "    return n/10 + 1\n",
    "\n",
    "getTotalPage"
   ]
  },
  {
   "cell_type": "code",
   "execution_count": 83,
   "id": "5b6925e4-0f36-46e6-ae6a-778d9b4169ce",
   "metadata": {
    "tags": []
   },
   "outputs": [
    {
     "ename": "SyntaxError",
     "evalue": "invalid syntax (1980109115.py, line 1)",
     "output_type": "error",
     "traceback": [
      "\u001b[1;36m  Cell \u001b[1;32mIn[83], line 1\u001b[1;36m\u001b[0m\n\u001b[1;33m    게시물의 총수: n\u001b[0m\n\u001b[1;37m         ^\u001b[0m\n\u001b[1;31mSyntaxError\u001b[0m\u001b[1;31m:\u001b[0m invalid syntax\n"
     ]
    }
   ],
   "source": [
    "게시물의 총수: n\n",
    "한페이지당 게시물수: m\n",
    "import math\n",
    "def getTotalPage(n,m):\n",
    "    return n//m + 1\n",
    "\n",
    "getTotalPage(13,5)"
   ]
  },
  {
   "cell_type": "markdown",
   "id": "d5fc1690-2a92-4dcc-a4e6-6ace77e73acc",
   "metadata": {
    "tags": []
   },
   "source": [
    "# 예외처리\n",
    "- 예외 = 에러 except = error\n",
    "- 에러: syntax error (구문에러), runtime error (실행에러)"
   ]
  },
  {
   "cell_type": "code",
   "execution_count": 112,
   "id": "4d241bd9-c54c-49c8-bb61-6f0cfbd37607",
   "metadata": {
    "tags": []
   },
   "outputs": [
    {
     "data": {
      "text/plain": [
       "'에러입니다'"
      ]
     },
     "execution_count": 112,
     "metadata": {},
     "output_type": "execute_result"
    }
   ],
   "source": [
    "def getTotalPage(n,m):\n",
    "    try:\n",
    "        result = n//m + 1\n",
    "    except:\n",
    "        return \"에러입니다\"\n",
    "    return n//m +1\n",
    "\n",
    "getTotalPage(13,0)"
   ]
  },
  {
   "cell_type": "code",
   "execution_count": 90,
   "id": "9455912e-8b23-44f9-8314-feb7b390f896",
   "metadata": {
    "tags": []
   },
   "outputs": [
    {
     "ename": "SyntaxError",
     "evalue": "invalid decimal literal (4228509626.py, line 7)",
     "output_type": "error",
     "traceback": [
      "\u001b[1;36m  Cell \u001b[1;32mIn[90], line 7\u001b[1;36m\u001b[0m\n\u001b[1;33m    getTotlaPate(13l)\u001b[0m\n\u001b[1;37m                  ^\u001b[0m\n\u001b[1;31mSyntaxError\u001b[0m\u001b[1;31m:\u001b[0m invalid decimal literal\n"
     ]
    }
   ],
   "source": [
    "deg getTotalPage(n,m):\n",
    "    try:\n",
    "        result = n//3+1\n",
    "    except:\n",
    "        return \"에러입니다\"\n",
    "    return result\n",
    "getTotlaPate(13l)"
   ]
  },
  {
   "cell_type": "code",
   "execution_count": 91,
   "id": "37d4ee13-f356-44e9-bf5a-ba2c256aeb3f",
   "metadata": {
    "tags": []
   },
   "outputs": [
    {
     "name": "stdout",
     "output_type": "stream",
     "text": [
      "1\n",
      "2\n",
      "3\n",
      "4\n"
     ]
    },
    {
     "ename": "IndexError",
     "evalue": "list index out of range",
     "output_type": "error",
     "traceback": [
      "\u001b[1;31m---------------------------------------------------------------------------\u001b[0m",
      "\u001b[1;31mIndexError\u001b[0m                                Traceback (most recent call last)",
      "Cell \u001b[1;32mIn[91], line 4\u001b[0m\n\u001b[0;32m      1\u001b[0m li \u001b[38;5;241m=\u001b[39m [\u001b[38;5;241m1\u001b[39m,\u001b[38;5;241m2\u001b[39m,\u001b[38;5;241m3\u001b[39m,\u001b[38;5;241m4\u001b[39m]\n\u001b[0;32m      3\u001b[0m \u001b[38;5;28;01mfor\u001b[39;00m i \u001b[38;5;129;01min\u001b[39;00m \u001b[38;5;28mrange\u001b[39m(\u001b[38;5;241m5\u001b[39m):\n\u001b[1;32m----> 4\u001b[0m     \u001b[38;5;28mprint\u001b[39m(\u001b[43mli\u001b[49m\u001b[43m[\u001b[49m\u001b[43mi\u001b[49m\u001b[43m]\u001b[49m)\n",
      "\u001b[1;31mIndexError\u001b[0m: list index out of range"
     ]
    }
   ],
   "source": [
    "li = [1,2,3,4]\n",
    "\n",
    "for i in range(5):\n",
    "    print(li[i])"
   ]
  },
  {
   "cell_type": "code",
   "execution_count": 95,
   "id": "664d2346-b1ee-4d2d-9138-0a003f567504",
   "metadata": {
    "tags": []
   },
   "outputs": [
    {
     "name": "stdout",
     "output_type": "stream",
     "text": [
      "<class 'ZeroDivisionError'>\n"
     ]
    }
   ],
   "source": [
    "try:\n",
    "    4/0\n",
    "except ZeroDivisionError as e:\n",
    "    print(ZeroDivisionError)"
   ]
  },
  {
   "cell_type": "code",
   "execution_count": 99,
   "id": "4d241ece-633f-4fd7-b9d9-ce459ce7433c",
   "metadata": {
    "tags": []
   },
   "outputs": [
    {
     "name": "stdout",
     "output_type": "stream",
     "text": [
      "1\n",
      "2\n",
      "3\n",
      "4\n",
      "list index out of range\n",
      "수고하셨습니다\n"
     ]
    }
   ],
   "source": [
    "li = [1,2,3,4]\n",
    "try: \n",
    "    for i in range(5):\n",
    "        print(li[i])\n",
    "except IndexError as e: \n",
    "    print(e) \n",
    "finally:\n",
    "    print(\"수고하셨습니다\")"
   ]
  },
  {
   "cell_type": "code",
   "execution_count": 98,
   "id": "4b37df91-dcf7-48cb-9b5e-6858763a0f43",
   "metadata": {
    "tags": []
   },
   "outputs": [
    {
     "name": "stdout",
     "output_type": "stream",
     "text": [
      "1\n",
      "2\n",
      "3\n",
      "4\n",
      "list index out of range\n"
     ]
    }
   ],
   "source": [
    "li = [1,2,3,4]\n",
    "\n",
    "for i in range(5):\n",
    "    try:\n",
    "        print(li[i])\n",
    "    except IndexError as e:\n",
    "        print(e)\n",
    "        "
   ]
  },
  {
   "cell_type": "code",
   "execution_count": 111,
   "id": "2ee00b32-7ee1-4a06-9423-20882cf511c8",
   "metadata": {
    "tags": []
   },
   "outputs": [
    {
     "name": "stdout",
     "output_type": "stream",
     "text": [
      "0.5\n",
      "division by zero\n"
     ]
    }
   ],
   "source": [
    "try:\n",
    "    a = [1,2]\n",
    "    print(a[0]/2)\n",
    "    print(4/0)\n",
    "\n",
    "    print(a[3])\n",
    "except (IndexError, ZeroDivisionError) as e:\n",
    "    print(e)"
   ]
  },
  {
   "cell_type": "code",
   "execution_count": 115,
   "id": "c6c89a74-1750-4684-8abe-66202fd8645c",
   "metadata": {
    "tags": []
   },
   "outputs": [
    {
     "name": "stdout",
     "output_type": "stream",
     "text": [
      "1\n",
      "2\n",
      "3\n",
      "4\n",
      "list index out of range\n"
     ]
    }
   ],
   "source": [
    "li = [1,2,3,4]\n",
    "try: \n",
    "    for i in range(6):\n",
    "        print(li[i])\n",
    "except IndexError as e: \n",
    "    print(e) "
   ]
  },
  {
   "cell_type": "markdown",
   "id": "4e9d4652-6159-46c3-876e-ff86fd0b310d",
   "metadata": {},
   "source": [
    "# 오류 일부러 발생시키기"
   ]
  },
  {
   "cell_type": "code",
   "execution_count": 121,
   "id": "6e0d46f7-c5da-4247-9260-0e95d911b38d",
   "metadata": {
    "tags": []
   },
   "outputs": [],
   "source": [
    "class Bird:\n",
    "    def fly(self):\n",
    "        raise NotImplementedError"
   ]
  },
  {
   "cell_type": "code",
   "execution_count": 124,
   "id": "7352a197-e403-4ca5-8ce5-a2ccbd86dab0",
   "metadata": {
    "tags": []
   },
   "outputs": [],
   "source": [
    "class Eagle(Bird):\n",
    "    def fly(self):\n",
    "        print(\"날아라 병아리\")"
   ]
  },
  {
   "cell_type": "code",
   "execution_count": 125,
   "id": "5344c4f0-2a63-46ba-905e-232759357b04",
   "metadata": {
    "tags": []
   },
   "outputs": [
    {
     "name": "stdout",
     "output_type": "stream",
     "text": [
      "날아라 병아리\n"
     ]
    }
   ],
   "source": [
    "eagle = Eagle()\n",
    "eagle.fly()"
   ]
  },
  {
   "cell_type": "code",
   "execution_count": 126,
   "id": "3b95e13b-6054-436e-a7d9-e971466d7578",
   "metadata": {
    "tags": []
   },
   "outputs": [],
   "source": [
    "class Eagle(Bird):\n",
    "    def fly(self):\n",
    "        print(\"마녀3\")"
   ]
  },
  {
   "cell_type": "markdown",
   "id": "03b32568-c276-4efb-9138-e51aa3ee0b82",
   "metadata": {},
   "source": [
    "- 예외 만들기"
   ]
  },
  {
   "cell_type": "code",
   "execution_count": 129,
   "id": "1374e0f0-8e6e-4f30-b7aa-c1804bfc27db",
   "metadata": {
    "tags": []
   },
   "outputs": [
    {
     "ename": "SyntaxError",
     "evalue": "invalid syntax (559360847.py, line 7)",
     "output_type": "error",
     "traceback": [
      "\u001b[1;36m  Cell \u001b[1;32mIn[129], line 7\u001b[1;36m\u001b[0m\n\u001b[1;33m    ..\u001b[0m\n\u001b[1;37m    ^\u001b[0m\n\u001b[1;31mSyntaxError\u001b[0m\u001b[1;31m:\u001b[0m invalid syntax\n"
     ]
    }
   ],
   "source": [
    "IndexError\n",
    "ZeroDivisionError\n",
    "FileNotFoundError\n",
    "NotImplementedError\n",
    "...\n",
    "...\n",
    "..\n",
    "My_error"
   ]
  },
  {
   "cell_type": "code",
   "execution_count": 131,
   "id": "c0e3f2a1-0d8b-4a71-b7cf-399ee3794347",
   "metadata": {
    "tags": []
   },
   "outputs": [],
   "source": [
    "class My_error(Exception):\n",
    "    pass"
   ]
  },
  {
   "cell_type": "code",
   "execution_count": 135,
   "id": "204b93e2-3b67-4424-bc54-41e015751695",
   "metadata": {
    "tags": []
   },
   "outputs": [],
   "source": [
    "def say_nick(nick):\n",
    "    if nick == \"바보\":\n",
    "        raise My_error()\n",
    "    print(f\"너는 {nick}야\")"
   ]
  },
  {
   "cell_type": "code",
   "execution_count": 136,
   "id": "3df1de1f-3aa4-472e-a240-e2abe9c10076",
   "metadata": {
    "tags": []
   },
   "outputs": [
    {
     "ename": "My_error",
     "evalue": "",
     "output_type": "error",
     "traceback": [
      "\u001b[1;31m---------------------------------------------------------------------------\u001b[0m",
      "\u001b[1;31mMy_error\u001b[0m                                  Traceback (most recent call last)",
      "Cell \u001b[1;32mIn[136], line 1\u001b[0m\n\u001b[1;32m----> 1\u001b[0m \u001b[43msay_nick\u001b[49m\u001b[43m(\u001b[49m\u001b[38;5;124;43m\"\u001b[39;49m\u001b[38;5;124;43m바보\u001b[39;49m\u001b[38;5;124;43m\"\u001b[39;49m\u001b[43m)\u001b[49m\n",
      "Cell \u001b[1;32mIn[135], line 3\u001b[0m, in \u001b[0;36msay_nick\u001b[1;34m(nick)\u001b[0m\n\u001b[0;32m      1\u001b[0m \u001b[38;5;28;01mdef\u001b[39;00m \u001b[38;5;21msay_nick\u001b[39m(nick):\n\u001b[0;32m      2\u001b[0m     \u001b[38;5;28;01mif\u001b[39;00m nick \u001b[38;5;241m==\u001b[39m \u001b[38;5;124m\"\u001b[39m\u001b[38;5;124m바보\u001b[39m\u001b[38;5;124m\"\u001b[39m:\n\u001b[1;32m----> 3\u001b[0m         \u001b[38;5;28;01mraise\u001b[39;00m My_error()\n\u001b[0;32m      4\u001b[0m     \u001b[38;5;28mprint\u001b[39m(\u001b[38;5;124mf\u001b[39m\u001b[38;5;124m\"\u001b[39m\u001b[38;5;124m너는 \u001b[39m\u001b[38;5;132;01m{\u001b[39;00mnick\u001b[38;5;132;01m}\u001b[39;00m\u001b[38;5;124m야\u001b[39m\u001b[38;5;124m\"\u001b[39m)\n",
      "\u001b[1;31mMy_error\u001b[0m: "
     ]
    }
   ],
   "source": [
    "say_nick(\"바보\")"
   ]
  },
  {
   "cell_type": "code",
   "execution_count": 137,
   "id": "39da3d44-0d6d-4040-b09c-48d741d11af4",
   "metadata": {
    "tags": []
   },
   "outputs": [
    {
     "name": "stdout",
     "output_type": "stream",
     "text": [
      "너는 천재야\n"
     ]
    }
   ],
   "source": [
    "say_nick(\"천재\")"
   ]
  },
  {
   "cell_type": "code",
   "execution_count": 147,
   "id": "54c414ea-e2f7-43d5-8043-54da753cf85f",
   "metadata": {
    "tags": []
   },
   "outputs": [
    {
     "name": "stdout",
     "output_type": "stream",
     "text": [
      "그건 아니지\n"
     ]
    }
   ],
   "source": [
    "try:\n",
    "    say_nick(\"바보\")\n",
    "except My_error as e:\n",
    "    print(e)"
   ]
  },
  {
   "cell_type": "code",
   "execution_count": 144,
   "id": "1c131165-b700-4d6b-87a4-89fe04d9b050",
   "metadata": {
    "tags": []
   },
   "outputs": [],
   "source": [
    "class My_error(Exception):\n",
    "    def __str__(self):\n",
    "            return \"그건 아니지\""
   ]
  },
  {
   "cell_type": "code",
   "execution_count": 146,
   "id": "d6a99699-1264-4c1c-a3f5-38ae819ea273",
   "metadata": {
    "tags": []
   },
   "outputs": [
    {
     "name": "stdout",
     "output_type": "stream",
     "text": [
      "그건 아니지\n"
     ]
    }
   ],
   "source": [
    "try:\n",
    "    say_nick(\"바보\")\n",
    "except My_error as e:\n",
    "    print(e)"
   ]
  },
  {
   "cell_type": "code",
   "execution_count": 1,
   "id": "10da7330-0894-41a3-a145-62679f13cfba",
   "metadata": {},
   "outputs": [],
   "source": [
    "with open(\"memo.txt\", \"a\") as f:\n",
    "    f.write(\"\")"
   ]
  },
  {
   "cell_type": "markdown",
   "id": "5783758c-dc27-4cf9-baaa-0ba2dad44c3b",
   "metadata": {
    "tags": []
   },
   "source": [
    "# 하위 디렉터리 검색하기"
   ]
  },
  {
   "cell_type": "code",
   "execution_count": 13,
   "id": "bde7c7b7-a846-42c2-84b6-e05f6c021f9c",
   "metadata": {
    "tags": []
   },
   "outputs": [],
   "source": [
    "import os\n",
    "def search(dirname):\n",
    "    filenames = os.listdir(dirname)\n",
    "    for filename in filenames:\n",
    "        full_filename = os.path.join(dirname, filename)\n",
    "        print(full_filename)"
   ]
  },
  {
   "cell_type": "code",
   "execution_count": 14,
   "id": "0db3472c-839f-462c-a904-4d90ad76a040",
   "metadata": {
    "tags": []
   },
   "outputs": [
    {
     "name": "stdout",
     "output_type": "stream",
     "text": [
      "C:/Users/user\\.idlerc\n",
      "C:/Users/user\\.ipynb_checkpoints\n",
      "C:/Users/user\\.ipython\n",
      "C:/Users/user\\.jupyter\n",
      "C:/Users/user\\.keras\n",
      "C:/Users/user\\.matplotlib\n",
      "C:/Users/user\\3D Objects\n",
      "C:/Users/user\\AppData\n",
      "C:/Users/user\\Application Data\n",
      "C:/Users/user\\Contacts\n",
      "C:/Users/user\\Cookies\n",
      "C:/Users/user\\Desktop\n",
      "C:/Users/user\\Documents\n",
      "C:/Users/user\\Downloads\n",
      "C:/Users/user\\Favorites\n",
      "C:/Users/user\\IntelGraphicsProfiles\n",
      "C:/Users/user\\Links\n",
      "C:/Users/user\\Local Settings\n",
      "C:/Users/user\\Music\n",
      "C:/Users/user\\My Documents\n",
      "C:/Users/user\\Mymod\n",
      "C:/Users/user\\NetHood\n",
      "C:/Users/user\\New\n",
      "C:/Users/user\\NTUSER.DAT\n",
      "C:/Users/user\\ntuser.dat.LOG1\n",
      "C:/Users/user\\ntuser.dat.LOG2\n",
      "C:/Users/user\\NTUSER.DAT{dbbe78f0-df87-11eb-a069-8cb0e9910c19}.TM.blf\n",
      "C:/Users/user\\NTUSER.DAT{dbbe78f0-df87-11eb-a069-8cb0e9910c19}.TMContainer00000000000000000001.regtrans-ms\n",
      "C:/Users/user\\NTUSER.DAT{dbbe78f0-df87-11eb-a069-8cb0e9910c19}.TMContainer00000000000000000002.regtrans-ms\n",
      "C:/Users/user\\ntuser.ini\n",
      "C:/Users/user\\OneDrive\n",
      "C:/Users/user\\Pictures\n",
      "C:/Users/user\\PrintHood\n",
      "C:/Users/user\\Recent\n",
      "C:/Users/user\\Saved Games\n",
      "C:/Users/user\\Searches\n",
      "C:/Users/user\\SendTo\n",
      "C:/Users/user\\Templates\n",
      "C:/Users/user\\test\n",
      "C:/Users/user\\test1\n",
      "C:/Users/user\\test1.py\n",
      "C:/Users/user\\Videos\n",
      "C:/Users/user\\시작 메뉴\n"
     ]
    }
   ],
   "source": [
    "search(\"C:/Users/user\")"
   ]
  },
  {
   "cell_type": "code",
   "execution_count": 16,
   "id": "20e124e4-c14c-4819-82e3-fe40139bf045",
   "metadata": {
    "tags": []
   },
   "outputs": [],
   "source": [
    "import os\n",
    "def search(dirname):\n",
    "    filenames = os.listdir(dirname)\n",
    "    for filename in filenames:\n",
    "        full_filename = os.path.join(dirname, filename)\n",
    "        ext = full_filename[-3:]\n",
    "        if ext == \".py\":\n",
    "            print(full_filename)"
   ]
  },
  {
   "cell_type": "code",
   "execution_count": 17,
   "id": "2af149ea-3453-4a45-aac8-6f2802ae4791",
   "metadata": {
    "tags": []
   },
   "outputs": [
    {
     "name": "stdout",
     "output_type": "stream",
     "text": [
      "C:/Users/user\\test1.py\n"
     ]
    }
   ],
   "source": [
    "search(\"C:/Users/user\")"
   ]
  },
  {
   "cell_type": "code",
   "execution_count": 20,
   "id": "774be148-f124-4559-a1b5-adf3e793a899",
   "metadata": {
    "tags": []
   },
   "outputs": [],
   "source": [
    "import os\n",
    "def search(dirname):\n",
    "    filenames = os.listdir(dirname)\n",
    "    for filename in filenames:\n",
    "        full_filename = os.path.join(dirname, filename)\n",
    "        \n",
    "        if os.path.isdir(full_filename):\n",
    "            search(full_filename)\n",
    "            \n",
    "        else:\n",
    "            ext = full_filename[-3:]\n",
    "            if ext == \".py\":\n",
    "                print(full_filename)"
   ]
  },
  {
   "cell_type": "code",
   "execution_count": 21,
   "id": "f6db64af-4643-496e-9494-5ba367bcf434",
   "metadata": {
    "tags": []
   },
   "outputs": [
    {
     "ename": "PermissionError",
     "evalue": "[WinError 5] 액세스가 거부되었습니다: 'C:/Users/user\\\\AppData\\\\Local\\\\Application Data'",
     "output_type": "error",
     "traceback": [
      "\u001b[1;31m---------------------------------------------------------------------------\u001b[0m",
      "\u001b[1;31mPermissionError\u001b[0m                           Traceback (most recent call last)",
      "Cell \u001b[1;32mIn[21], line 1\u001b[0m\n\u001b[1;32m----> 1\u001b[0m \u001b[43msearch\u001b[49m\u001b[43m(\u001b[49m\u001b[38;5;124;43m\"\u001b[39;49m\u001b[38;5;124;43mC:/Users/user\u001b[39;49m\u001b[38;5;124;43m\"\u001b[39;49m\u001b[43m)\u001b[49m\n",
      "Cell \u001b[1;32mIn[20], line 8\u001b[0m, in \u001b[0;36msearch\u001b[1;34m(dirname)\u001b[0m\n\u001b[0;32m      5\u001b[0m full_filename \u001b[38;5;241m=\u001b[39m os\u001b[38;5;241m.\u001b[39mpath\u001b[38;5;241m.\u001b[39mjoin(dirname, filename)\n\u001b[0;32m      7\u001b[0m \u001b[38;5;28;01mif\u001b[39;00m os\u001b[38;5;241m.\u001b[39mpath\u001b[38;5;241m.\u001b[39misdir(full_filename):\n\u001b[1;32m----> 8\u001b[0m     \u001b[43msearch\u001b[49m\u001b[43m(\u001b[49m\u001b[43mfull_filename\u001b[49m\u001b[43m)\u001b[49m\n\u001b[0;32m     10\u001b[0m \u001b[38;5;28;01melse\u001b[39;00m:\n\u001b[0;32m     11\u001b[0m     ext \u001b[38;5;241m=\u001b[39m full_filename[\u001b[38;5;241m-\u001b[39m\u001b[38;5;241m3\u001b[39m:]\n",
      "Cell \u001b[1;32mIn[20], line 8\u001b[0m, in \u001b[0;36msearch\u001b[1;34m(dirname)\u001b[0m\n\u001b[0;32m      5\u001b[0m full_filename \u001b[38;5;241m=\u001b[39m os\u001b[38;5;241m.\u001b[39mpath\u001b[38;5;241m.\u001b[39mjoin(dirname, filename)\n\u001b[0;32m      7\u001b[0m \u001b[38;5;28;01mif\u001b[39;00m os\u001b[38;5;241m.\u001b[39mpath\u001b[38;5;241m.\u001b[39misdir(full_filename):\n\u001b[1;32m----> 8\u001b[0m     \u001b[43msearch\u001b[49m\u001b[43m(\u001b[49m\u001b[43mfull_filename\u001b[49m\u001b[43m)\u001b[49m\n\u001b[0;32m     10\u001b[0m \u001b[38;5;28;01melse\u001b[39;00m:\n\u001b[0;32m     11\u001b[0m     ext \u001b[38;5;241m=\u001b[39m full_filename[\u001b[38;5;241m-\u001b[39m\u001b[38;5;241m3\u001b[39m:]\n",
      "Cell \u001b[1;32mIn[20], line 8\u001b[0m, in \u001b[0;36msearch\u001b[1;34m(dirname)\u001b[0m\n\u001b[0;32m      5\u001b[0m full_filename \u001b[38;5;241m=\u001b[39m os\u001b[38;5;241m.\u001b[39mpath\u001b[38;5;241m.\u001b[39mjoin(dirname, filename)\n\u001b[0;32m      7\u001b[0m \u001b[38;5;28;01mif\u001b[39;00m os\u001b[38;5;241m.\u001b[39mpath\u001b[38;5;241m.\u001b[39misdir(full_filename):\n\u001b[1;32m----> 8\u001b[0m     \u001b[43msearch\u001b[49m\u001b[43m(\u001b[49m\u001b[43mfull_filename\u001b[49m\u001b[43m)\u001b[49m\n\u001b[0;32m     10\u001b[0m \u001b[38;5;28;01melse\u001b[39;00m:\n\u001b[0;32m     11\u001b[0m     ext \u001b[38;5;241m=\u001b[39m full_filename[\u001b[38;5;241m-\u001b[39m\u001b[38;5;241m3\u001b[39m:]\n",
      "Cell \u001b[1;32mIn[20], line 3\u001b[0m, in \u001b[0;36msearch\u001b[1;34m(dirname)\u001b[0m\n\u001b[0;32m      2\u001b[0m \u001b[38;5;28;01mdef\u001b[39;00m \u001b[38;5;21msearch\u001b[39m(dirname):\n\u001b[1;32m----> 3\u001b[0m     filenames \u001b[38;5;241m=\u001b[39m \u001b[43mos\u001b[49m\u001b[38;5;241;43m.\u001b[39;49m\u001b[43mlistdir\u001b[49m\u001b[43m(\u001b[49m\u001b[43mdirname\u001b[49m\u001b[43m)\u001b[49m\n\u001b[0;32m      4\u001b[0m     \u001b[38;5;28;01mfor\u001b[39;00m filename \u001b[38;5;129;01min\u001b[39;00m filenames:\n\u001b[0;32m      5\u001b[0m         full_filename \u001b[38;5;241m=\u001b[39m os\u001b[38;5;241m.\u001b[39mpath\u001b[38;5;241m.\u001b[39mjoin(dirname, filename)\n",
      "\u001b[1;31mPermissionError\u001b[0m: [WinError 5] 액세스가 거부되었습니다: 'C:/Users/user\\\\AppData\\\\Local\\\\Application Data'"
     ]
    }
   ],
   "source": [
    "search(\"C:/Users/user\")"
   ]
  },
  {
   "cell_type": "code",
   "execution_count": null,
   "id": "f12bc8ef-2d54-4eaa-b665-3160141aee72",
   "metadata": {},
   "outputs": [],
   "source": []
  }
 ],
 "metadata": {
  "kernelspec": {
   "display_name": "Python 3 (ipykernel)",
   "language": "python",
   "name": "python3"
  },
  "language_info": {
   "codemirror_mode": {
    "name": "ipython",
    "version": 3
   },
   "file_extension": ".py",
   "mimetype": "text/x-python",
   "name": "python",
   "nbconvert_exporter": "python",
   "pygments_lexer": "ipython3",
   "version": "3.10.9"
  }
 },
 "nbformat": 4,
 "nbformat_minor": 5
}
