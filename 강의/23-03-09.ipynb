{
 "cells": [
  {
   "cell_type": "markdown",
   "id": "9414cbfa-dd30-4311-adc8-8cd5b2782876",
   "metadata": {},
   "source": [
    "# 제 1 장"
   ]
  },
  {
   "cell_type": "markdown",
   "id": "fdeef2a1-55fc-4e50-9443-5452c08746c6",
   "metadata": {
    "tags": []
   },
   "source": [
    "## 자료형\n",
    "- 문자형\n",
    "- 숫자형(정수, 소수)\n",
    "- 참거짓형 : boolean, bool"
   ]
  },
  {
   "cell_type": "code",
   "execution_count": 17,
   "id": "fcb2d5dd-c73c-4da3-aaa6-d739640145bd",
   "metadata": {
    "tags": []
   },
   "outputs": [
    {
     "name": "stdout",
     "output_type": "stream",
     "text": [
      "1\n"
     ]
    }
   ],
   "source": [
    "a = 1\n",
    "print(a)"
   ]
  },
  {
   "cell_type": "code",
   "execution_count": 18,
   "id": "2814fda6-dca9-4e68-a5f0-8b3f85b09665",
   "metadata": {
    "tags": []
   },
   "outputs": [
    {
     "data": {
      "text/plain": [
       "int"
      ]
     },
     "execution_count": 18,
     "metadata": {},
     "output_type": "execute_result"
    }
   ],
   "source": [
    "type(a)"
   ]
  },
  {
   "cell_type": "code",
   "execution_count": 19,
   "id": "0513d8c2-c33a-4451-9d7d-85cd3f04d283",
   "metadata": {
    "tags": []
   },
   "outputs": [
    {
     "name": "stdout",
     "output_type": "stream",
     "text": [
      "1.0\n"
     ]
    }
   ],
   "source": [
    "a = 1.0\n",
    "print(a)"
   ]
  },
  {
   "cell_type": "code",
   "execution_count": 20,
   "id": "ab88b36d-7338-4a48-bfbf-82a6aeeb33be",
   "metadata": {
    "tags": []
   },
   "outputs": [
    {
     "data": {
      "text/plain": [
       "float"
      ]
     },
     "execution_count": 20,
     "metadata": {},
     "output_type": "execute_result"
    }
   ],
   "source": [
    "type(a)"
   ]
  },
  {
   "cell_type": "code",
   "execution_count": 30,
   "id": "975e05d4-f831-4cdb-b918-6e3f9b44ee79",
   "metadata": {
    "tags": []
   },
   "outputs": [
    {
     "name": "stdout",
     "output_type": "stream",
     "text": [
      "1.2e-39\n",
      "12000000000000.0\n"
     ]
    }
   ],
   "source": [
    "a=0.0000000000000000000000000000000000000012\n",
    "print(a)\n",
    "# 10의 -39제곱\n",
    "\n",
    "b= 12e12\n",
    "print(b)\n",
    "#e는 10의 거듭제곱"
   ]
  },
  {
   "cell_type": "code",
   "execution_count": 31,
   "id": "24d9a1e9-48c5-4e7d-a6a0-58862b2b3204",
   "metadata": {
    "tags": []
   },
   "outputs": [
    {
     "name": "stdout",
     "output_type": "stream",
     "text": [
      "1.0\n"
     ]
    }
   ],
   "source": [
    "a= 1.\n",
    "print(a)"
   ]
  },
  {
   "cell_type": "code",
   "execution_count": 34,
   "id": "0dc5e8b4-ec87-41b6-8bdc-f956c683f799",
   "metadata": {
    "tags": []
   },
   "outputs": [
    {
     "name": "stdout",
     "output_type": "stream",
     "text": [
      "Hello\n"
     ]
    }
   ],
   "source": [
    "a = \"Hello\"\n",
    "a = 'Hello'\n",
    "print(a)"
   ]
  },
  {
   "cell_type": "code",
   "execution_count": 38,
   "id": "d555457c-0ab6-4895-aeb1-ef36a943c6f0",
   "metadata": {
    "tags": []
   },
   "outputs": [
    {
     "name": "stdout",
     "output_type": "stream",
     "text": [
      "She says \"I love you\"\n"
     ]
    }
   ],
   "source": [
    "print('She says \"I love you\"')"
   ]
  },
  {
   "cell_type": "code",
   "execution_count": 42,
   "id": "709b83ae-1423-4c0c-a1c0-7688368e3f0b",
   "metadata": {
    "tags": []
   },
   "outputs": [
    {
     "name": "stdout",
     "output_type": "stream",
     "text": [
      "Life is short.\n",
      "You need Python\n"
     ]
    }
   ],
   "source": [
    "print(\"Life is short.\\nYou need Python\") # escape "
   ]
  },
  {
   "cell_type": "code",
   "execution_count": 41,
   "id": "26c89e8d-90e6-4352-a42c-074f7af7e4db",
   "metadata": {
    "tags": []
   },
   "outputs": [
    {
     "name": "stdout",
     "output_type": "stream",
     "text": [
      "Life is short.\n",
      "You need Python.\n"
     ]
    }
   ],
   "source": [
    "print(\"Life is short.\")\n",
    "print(\"You need Python.\")"
   ]
  },
  {
   "cell_type": "code",
   "execution_count": 43,
   "id": "d2acf8a1-4683-44ad-af05-5a074c2aa742",
   "metadata": {
    "tags": []
   },
   "outputs": [
    {
     "name": "stdout",
     "output_type": "stream",
     "text": [
      "Life is short.\tYou need Python\n"
     ]
    }
   ],
   "source": [
    "print(\"Life is short.\\tYou need Python\") "
   ]
  },
  {
   "cell_type": "code",
   "execution_count": 51,
   "id": "7afdcb73-1deb-490f-813d-178926abf88c",
   "metadata": {
    "tags": []
   },
   "outputs": [
    {
     "name": "stdout",
     "output_type": "stream",
     "text": [
      "\n",
      "Life is short.\n",
      "You need Python.\n",
      "\n"
     ]
    }
   ],
   "source": [
    "print(\n",
    "'''\n",
    "Life is short.\n",
    "You need Python.\n",
    "''')"
   ]
  },
  {
   "cell_type": "code",
   "execution_count": 52,
   "id": "5c179ba4-21ff-44cc-a003-94935f7f516f",
   "metadata": {
    "tags": []
   },
   "outputs": [
    {
     "data": {
      "text/plain": [
       "'Hello'"
      ]
     },
     "execution_count": 52,
     "metadata": {},
     "output_type": "execute_result"
    }
   ],
   "source": [
    "a"
   ]
  },
  {
   "cell_type": "code",
   "execution_count": 53,
   "id": "347706dc-0475-4225-acd2-b039da62babb",
   "metadata": {
    "tags": []
   },
   "outputs": [
    {
     "name": "stdout",
     "output_type": "stream",
     "text": [
      "Hello\n"
     ]
    }
   ],
   "source": [
    "print(a)"
   ]
  },
  {
   "cell_type": "code",
   "execution_count": 55,
   "id": "280dbc72-9f9a-4ab7-ad06-2e321fa9601f",
   "metadata": {
    "tags": []
   },
   "outputs": [
    {
     "data": {
      "text/plain": [
       "'1'"
      ]
     },
     "execution_count": 55,
     "metadata": {},
     "output_type": "execute_result"
    }
   ],
   "source": [
    "a = \"1\"\n",
    "a"
   ]
  },
  {
   "cell_type": "code",
   "execution_count": 56,
   "id": "d1e784c5-fdef-4200-b486-c7c905b7fcb6",
   "metadata": {
    "tags": []
   },
   "outputs": [
    {
     "name": "stdout",
     "output_type": "stream",
     "text": [
      "1\n"
     ]
    }
   ],
   "source": [
    "print(a)"
   ]
  },
  {
   "cell_type": "code",
   "execution_count": 57,
   "id": "4b3dab76-a60f-43d1-82fd-6e344b9d0255",
   "metadata": {
    "tags": []
   },
   "outputs": [
    {
     "data": {
      "text/plain": [
       "str"
      ]
     },
     "execution_count": 57,
     "metadata": {},
     "output_type": "execute_result"
    }
   ],
   "source": [
    "type(a)"
   ]
  },
  {
   "cell_type": "code",
   "execution_count": 59,
   "id": "db92de51-1b64-4100-954f-4ad366b0c2a9",
   "metadata": {
    "tags": []
   },
   "outputs": [
    {
     "name": "stdout",
     "output_type": "stream",
     "text": [
      "True\n"
     ]
    }
   ],
   "source": [
    "a = True\n",
    "print(a)"
   ]
  },
  {
   "cell_type": "code",
   "execution_count": 60,
   "id": "d4bc5275-cddb-4784-911a-e2074fd63fad",
   "metadata": {
    "tags": []
   },
   "outputs": [
    {
     "data": {
      "text/plain": [
       "bool"
      ]
     },
     "execution_count": 60,
     "metadata": {},
     "output_type": "execute_result"
    }
   ],
   "source": [
    "type(a)"
   ]
  },
  {
   "cell_type": "markdown",
   "id": "e83e1bfc-c43a-476e-936d-779c98fb58c6",
   "metadata": {
    "tags": []
   },
   "source": [
    "## 데이터 타입 변환"
   ]
  },
  {
   "cell_type": "code",
   "execution_count": 78,
   "id": "ff7c036e-0359-46d6-8c12-c38e793f9601",
   "metadata": {
    "tags": []
   },
   "outputs": [
    {
     "name": "stdout",
     "output_type": "stream",
     "text": [
      "1\n"
     ]
    },
    {
     "data": {
      "text/plain": [
       "'1'"
      ]
     },
     "execution_count": 78,
     "metadata": {},
     "output_type": "execute_result"
    }
   ],
   "source": [
    "a = 1\n",
    "print(a)\n",
    "\n",
    "a = str(a)\n",
    "a"
   ]
  },
  {
   "cell_type": "code",
   "execution_count": 69,
   "id": "c5cbf163-a163-4162-9126-f6440913cff5",
   "metadata": {
    "tags": []
   },
   "outputs": [
    {
     "data": {
      "text/plain": [
       "float"
      ]
     },
     "execution_count": 69,
     "metadata": {},
     "output_type": "execute_result"
    }
   ],
   "source": [
    "type(a)"
   ]
  },
  {
   "cell_type": "code",
   "execution_count": 83,
   "id": "e4623c34-8bf6-4a78-a69c-111b446b7023",
   "metadata": {
    "tags": []
   },
   "outputs": [
    {
     "data": {
      "text/plain": [
       "True"
      ]
     },
     "execution_count": 83,
     "metadata": {},
     "output_type": "execute_result"
    }
   ],
   "source": [
    "a = -2\n",
    "bool(a)"
   ]
  },
  {
   "cell_type": "code",
   "execution_count": 88,
   "id": "71a39b4d-2541-4316-93bb-224feb3bd1e6",
   "metadata": {
    "tags": []
   },
   "outputs": [
    {
     "data": {
      "text/plain": [
       "False"
      ]
     },
     "execution_count": 88,
     "metadata": {},
     "output_type": "execute_result"
    }
   ],
   "source": [
    "a = \"\"\n",
    "bool(a)"
   ]
  },
  {
   "cell_type": "code",
   "execution_count": 97,
   "id": "4b3ed115-0973-44ad-a69a-0973321d4a30",
   "metadata": {
    "tags": []
   },
   "outputs": [
    {
     "name": "stdout",
     "output_type": "stream",
     "text": [
      "Yes\n"
     ]
    }
   ],
   "source": [
    "if \"top\" : \n",
    "    print(\"Yes\")\n",
    "else:\n",
    "    print(\"No\")"
   ]
  },
  {
   "cell_type": "markdown",
   "id": "61c0e187-23ae-4fcc-a2d8-99fcb398c89e",
   "metadata": {
    "tags": []
   },
   "source": [
    "#### 이어붙이기"
   ]
  },
  {
   "cell_type": "code",
   "execution_count": 100,
   "id": "254c4778-969e-4b82-bc20-1972a505e5b5",
   "metadata": {
    "tags": []
   },
   "outputs": [
    {
     "name": "stdout",
     "output_type": "stream",
     "text": [
      "Hello1\n"
     ]
    }
   ],
   "source": [
    "a = \"Hello\" + str(1)\n",
    "print(a)"
   ]
  },
  {
   "cell_type": "code",
   "execution_count": 102,
   "id": "369a14e5-e69b-402d-8f92-e2d451f23435",
   "metadata": {
    "tags": []
   },
   "outputs": [
    {
     "data": {
      "text/plain": [
       "4095"
      ]
     },
     "execution_count": 102,
     "metadata": {},
     "output_type": "execute_result"
    }
   ],
   "source": [
    "# 16진수\n",
    "0x111\n",
    "0xFFF"
   ]
  },
  {
   "cell_type": "code",
   "execution_count": 103,
   "id": "d62d3598-4b8a-4615-aaa5-d7725edcab15",
   "metadata": {
    "tags": []
   },
   "outputs": [
    {
     "ename": "ZeroDivisionError",
     "evalue": "division by zero",
     "output_type": "error",
     "traceback": [
      "\u001b[1;31m---------------------------------------------------------------------------\u001b[0m",
      "\u001b[1;31mZeroDivisionError\u001b[0m                         Traceback (most recent call last)",
      "Cell \u001b[1;32mIn[103], line 1\u001b[0m\n\u001b[1;32m----> 1\u001b[0m \u001b[38;5;28mprint\u001b[39m(\u001b[38;5;241;43m1\u001b[39;49m\u001b[38;5;241;43m/\u001b[39;49m\u001b[38;5;241;43m0\u001b[39;49m)\n",
      "\u001b[1;31mZeroDivisionError\u001b[0m: division by zero"
     ]
    }
   ],
   "source": [
    "print(1/0)"
   ]
  },
  {
   "cell_type": "code",
   "execution_count": 106,
   "id": "869b8c34-00cd-4ad6-9787-c27372f29cd5",
   "metadata": {
    "tags": []
   },
   "outputs": [
    {
     "name": "stdout",
     "output_type": "stream",
     "text": [
      "8\n"
     ]
    }
   ],
   "source": [
    "print(2**3)\n",
    "#거듭제곱"
   ]
  },
  {
   "cell_type": "code",
   "execution_count": 109,
   "id": "c81a81ed-6d45-4356-8885-672fad60941d",
   "metadata": {
    "tags": []
   },
   "outputs": [
    {
     "data": {
      "text/plain": [
       "1"
      ]
     },
     "execution_count": 109,
     "metadata": {},
     "output_type": "execute_result"
    }
   ],
   "source": [
    "# 11//2 : 몫\n",
    "11 % 5"
   ]
  },
  {
   "cell_type": "code",
   "execution_count": 111,
   "id": "6613ee51-e30e-42cf-90ff-3528e69ec22d",
   "metadata": {
    "tags": []
   },
   "outputs": [
    {
     "data": {
      "text/plain": [
       "0"
      ]
     },
     "execution_count": 111,
     "metadata": {},
     "output_type": "execute_result"
    }
   ],
   "source": [
    "10 % 2"
   ]
  },
  {
   "cell_type": "code",
   "execution_count": 119,
   "id": "3f68ee49-2b19-4c33-88f2-e615aa73ab9f",
   "metadata": {
    "tags": []
   },
   "outputs": [],
   "source": [
    "a = 123"
   ]
  },
  {
   "cell_type": "code",
   "execution_count": 117,
   "id": "bc35ab20-56ca-48aa-a9cb-7970566d467b",
   "metadata": {
    "tags": []
   },
   "outputs": [
    {
     "name": "stdout",
     "output_type": "stream",
     "text": [
      "No\n"
     ]
    }
   ],
   "source": [
    "a=122\n",
    "if a % 2 == 1:\n",
    "    print(\"Yes\")\n",
    "else:\n",
    "    print(\"No\")"
   ]
  },
  {
   "cell_type": "code",
   "execution_count": 118,
   "id": "dd53875e-2326-4c6d-bbee-fbbdf6ba28d4",
   "metadata": {
    "tags": []
   },
   "outputs": [
    {
     "ename": "NameError",
     "evalue": "name 'sqrt' is not defined",
     "output_type": "error",
     "traceback": [
      "\u001b[1;31m---------------------------------------------------------------------------\u001b[0m",
      "\u001b[1;31mNameError\u001b[0m                                 Traceback (most recent call last)",
      "Cell \u001b[1;32mIn[118], line 1\u001b[0m\n\u001b[1;32m----> 1\u001b[0m \u001b[43msqrt\u001b[49m(\u001b[38;5;241m4\u001b[39m)\n",
      "\u001b[1;31mNameError\u001b[0m: name 'sqrt' is not defined"
     ]
    }
   ],
   "source": [
    "sqrt(4)"
   ]
  },
  {
   "cell_type": "code",
   "execution_count": 120,
   "id": "05efce7e-490f-4560-907c-53f0b14ff350",
   "metadata": {
    "tags": []
   },
   "outputs": [],
   "source": [
    "import math"
   ]
  },
  {
   "cell_type": "code",
   "execution_count": 121,
   "id": "fddf308c-4ee6-4f53-8316-6421ebbecaea",
   "metadata": {
    "tags": []
   },
   "outputs": [
    {
     "data": {
      "text/plain": [
       "2.0"
      ]
     },
     "execution_count": 121,
     "metadata": {},
     "output_type": "execute_result"
    }
   ],
   "source": [
    "math.sqrt(4)"
   ]
  },
  {
   "cell_type": "code",
   "execution_count": 122,
   "id": "2a9acc61-7333-4bb1-8088-305d8425453e",
   "metadata": {
    "tags": []
   },
   "outputs": [
    {
     "ename": "NameError",
     "evalue": "name 'pi' is not defined",
     "output_type": "error",
     "traceback": [
      "\u001b[1;31m---------------------------------------------------------------------------\u001b[0m",
      "\u001b[1;31mNameError\u001b[0m                                 Traceback (most recent call last)",
      "Cell \u001b[1;32mIn[122], line 1\u001b[0m\n\u001b[1;32m----> 1\u001b[0m \u001b[43mpi\u001b[49m\n",
      "\u001b[1;31mNameError\u001b[0m: name 'pi' is not defined"
     ]
    }
   ],
   "source": [
    "pi"
   ]
  },
  {
   "cell_type": "code",
   "execution_count": 123,
   "id": "2de4b5ce-94a7-4d8b-8b19-c59bda210f0e",
   "metadata": {
    "tags": []
   },
   "outputs": [
    {
     "data": {
      "text/plain": [
       "3.141592653589793"
      ]
     },
     "execution_count": 123,
     "metadata": {},
     "output_type": "execute_result"
    }
   ],
   "source": [
    "math.pi"
   ]
  },
  {
   "cell_type": "code",
   "execution_count": 127,
   "id": "060884d6-07ee-4fb8-9873-11e8ee4d1725",
   "metadata": {
    "tags": []
   },
   "outputs": [],
   "source": [
    "import numpy as np"
   ]
  },
  {
   "cell_type": "code",
   "execution_count": 125,
   "id": "c1ae3ef0-07bb-400c-b84e-1de5b7d2364c",
   "metadata": {
    "tags": []
   },
   "outputs": [
    {
     "name": "stdout",
     "output_type": "stream",
     "text": [
      "Requirement already satisfied: numpy in c:\\users\\user\\appdata\\local\\programs\\python\\python310\\lib\\site-packages (1.24.2)\n",
      "Note: you may need to restart the kernel to use updated packages.\n"
     ]
    }
   ],
   "source": [
    "pip install numpy"
   ]
  },
  {
   "cell_type": "code",
   "execution_count": 128,
   "id": "c0070106-87b7-4532-9291-424bcbc27abd",
   "metadata": {
    "tags": []
   },
   "outputs": [
    {
     "data": {
      "text/plain": [
       "2.0"
      ]
     },
     "execution_count": 128,
     "metadata": {},
     "output_type": "execute_result"
    }
   ],
   "source": [
    "np.sqrt(4)"
   ]
  },
  {
   "cell_type": "code",
   "execution_count": 129,
   "id": "785b6f7d-b575-4795-85e7-c7e4f7387212",
   "metadata": {
    "tags": []
   },
   "outputs": [
    {
     "data": {
      "text/plain": [
       "3.141592653589793"
      ]
     },
     "execution_count": 129,
     "metadata": {},
     "output_type": "execute_result"
    }
   ],
   "source": [
    "np.pi"
   ]
  },
  {
   "cell_type": "code",
   "execution_count": 130,
   "id": "812eb4f4-fd9b-48a9-994c-2ad642946428",
   "metadata": {
    "tags": []
   },
   "outputs": [
    {
     "data": {
      "text/plain": [
       "1.0"
      ]
     },
     "execution_count": 130,
     "metadata": {},
     "output_type": "execute_result"
    }
   ],
   "source": [
    "np.cos(0)"
   ]
  },
  {
   "cell_type": "code",
   "execution_count": 132,
   "id": "dbab4ee4-5205-4cc3-a1dd-8f2917153486",
   "metadata": {
    "tags": []
   },
   "outputs": [
    {
     "data": {
      "text/plain": [
       "1.0"
      ]
     },
     "execution_count": 132,
     "metadata": {},
     "output_type": "execute_result"
    }
   ],
   "source": [
    "np.cos(2*np.pi)"
   ]
  },
  {
   "cell_type": "code",
   "execution_count": 136,
   "id": "02635427-9c39-49ea-bd02-635c173940ea",
   "metadata": {
    "tags": []
   },
   "outputs": [
    {
     "data": {
      "text/plain": [
       "3628800"
      ]
     },
     "execution_count": 136,
     "metadata": {},
     "output_type": "execute_result"
    }
   ],
   "source": [
    "math.factorial(10)"
   ]
  },
  {
   "cell_type": "code",
   "execution_count": 138,
   "id": "f143a4a3-d454-46ec-a843-0aa83db9a09b",
   "metadata": {
    "tags": []
   },
   "outputs": [
    {
     "data": {
      "text/plain": [
       "\u001b[1;31mSignature:\u001b[0m\n",
       "\u001b[0mnp\u001b[0m\u001b[1;33m.\u001b[0m\u001b[0mlinspace\u001b[0m\u001b[1;33m(\u001b[0m\u001b[1;33m\n",
       "\u001b[0m    \u001b[0mstart\u001b[0m\u001b[1;33m,\u001b[0m\u001b[1;33m\n",
       "\u001b[0m    \u001b[0mstop\u001b[0m\u001b[1;33m,\u001b[0m\u001b[1;33m\n",
       "\u001b[0m    \u001b[0mnum\u001b[0m\u001b[1;33m=\u001b[0m\u001b[1;36m50\u001b[0m\u001b[1;33m,\u001b[0m\u001b[1;33m\n",
       "\u001b[0m    \u001b[0mendpoint\u001b[0m\u001b[1;33m=\u001b[0m\u001b[1;32mTrue\u001b[0m\u001b[1;33m,\u001b[0m\u001b[1;33m\n",
       "\u001b[0m    \u001b[0mretstep\u001b[0m\u001b[1;33m=\u001b[0m\u001b[1;32mFalse\u001b[0m\u001b[1;33m,\u001b[0m\u001b[1;33m\n",
       "\u001b[0m    \u001b[0mdtype\u001b[0m\u001b[1;33m=\u001b[0m\u001b[1;32mNone\u001b[0m\u001b[1;33m,\u001b[0m\u001b[1;33m\n",
       "\u001b[0m    \u001b[0maxis\u001b[0m\u001b[1;33m=\u001b[0m\u001b[1;36m0\u001b[0m\u001b[1;33m,\u001b[0m\u001b[1;33m\n",
       "\u001b[0m\u001b[1;33m)\u001b[0m\u001b[1;33m\u001b[0m\u001b[1;33m\u001b[0m\u001b[0m\n",
       "\u001b[1;31mDocstring:\u001b[0m\n",
       "Return evenly spaced numbers over a specified interval.\n",
       "\n",
       "Returns `num` evenly spaced samples, calculated over the\n",
       "interval [`start`, `stop`].\n",
       "\n",
       "The endpoint of the interval can optionally be excluded.\n",
       "\n",
       ".. versionchanged:: 1.16.0\n",
       "    Non-scalar `start` and `stop` are now supported.\n",
       "\n",
       ".. versionchanged:: 1.20.0\n",
       "    Values are rounded towards ``-inf`` instead of ``0`` when an\n",
       "    integer ``dtype`` is specified. The old behavior can\n",
       "    still be obtained with ``np.linspace(start, stop, num).astype(int)``\n",
       "\n",
       "Parameters\n",
       "----------\n",
       "start : array_like\n",
       "    The starting value of the sequence.\n",
       "stop : array_like\n",
       "    The end value of the sequence, unless `endpoint` is set to False.\n",
       "    In that case, the sequence consists of all but the last of ``num + 1``\n",
       "    evenly spaced samples, so that `stop` is excluded.  Note that the step\n",
       "    size changes when `endpoint` is False.\n",
       "num : int, optional\n",
       "    Number of samples to generate. Default is 50. Must be non-negative.\n",
       "endpoint : bool, optional\n",
       "    If True, `stop` is the last sample. Otherwise, it is not included.\n",
       "    Default is True.\n",
       "retstep : bool, optional\n",
       "    If True, return (`samples`, `step`), where `step` is the spacing\n",
       "    between samples.\n",
       "dtype : dtype, optional\n",
       "    The type of the output array.  If `dtype` is not given, the data type\n",
       "    is inferred from `start` and `stop`. The inferred dtype will never be\n",
       "    an integer; `float` is chosen even if the arguments would produce an\n",
       "    array of integers.\n",
       "\n",
       "    .. versionadded:: 1.9.0\n",
       "\n",
       "axis : int, optional\n",
       "    The axis in the result to store the samples.  Relevant only if start\n",
       "    or stop are array-like.  By default (0), the samples will be along a\n",
       "    new axis inserted at the beginning. Use -1 to get an axis at the end.\n",
       "\n",
       "    .. versionadded:: 1.16.0\n",
       "\n",
       "Returns\n",
       "-------\n",
       "samples : ndarray\n",
       "    There are `num` equally spaced samples in the closed interval\n",
       "    ``[start, stop]`` or the half-open interval ``[start, stop)``\n",
       "    (depending on whether `endpoint` is True or False).\n",
       "step : float, optional\n",
       "    Only returned if `retstep` is True\n",
       "\n",
       "    Size of spacing between samples.\n",
       "\n",
       "\n",
       "See Also\n",
       "--------\n",
       "arange : Similar to `linspace`, but uses a step size (instead of the\n",
       "         number of samples).\n",
       "geomspace : Similar to `linspace`, but with numbers spaced evenly on a log\n",
       "            scale (a geometric progression).\n",
       "logspace : Similar to `geomspace`, but with the end points specified as\n",
       "           logarithms.\n",
       ":ref:`how-to-partition`\n",
       "\n",
       "Examples\n",
       "--------\n",
       ">>> np.linspace(2.0, 3.0, num=5)\n",
       "array([2.  , 2.25, 2.5 , 2.75, 3.  ])\n",
       ">>> np.linspace(2.0, 3.0, num=5, endpoint=False)\n",
       "array([2. ,  2.2,  2.4,  2.6,  2.8])\n",
       ">>> np.linspace(2.0, 3.0, num=5, retstep=True)\n",
       "(array([2.  ,  2.25,  2.5 ,  2.75,  3.  ]), 0.25)\n",
       "\n",
       "Graphical illustration:\n",
       "\n",
       ">>> import matplotlib.pyplot as plt\n",
       ">>> N = 8\n",
       ">>> y = np.zeros(N)\n",
       ">>> x1 = np.linspace(0, 10, N, endpoint=True)\n",
       ">>> x2 = np.linspace(0, 10, N, endpoint=False)\n",
       ">>> plt.plot(x1, y, 'o')\n",
       "[<matplotlib.lines.Line2D object at 0x...>]\n",
       ">>> plt.plot(x2, y + 0.5, 'o')\n",
       "[<matplotlib.lines.Line2D object at 0x...>]\n",
       ">>> plt.ylim([-0.5, 1])\n",
       "(-0.5, 1)\n",
       ">>> plt.show()\n",
       "\u001b[1;31mFile:\u001b[0m      c:\\users\\user\\appdata\\local\\programs\\python\\python310\\lib\\site-packages\\numpy\\core\\function_base.py\n",
       "\u001b[1;31mType:\u001b[0m      function"
      ]
     },
     "metadata": {},
     "output_type": "display_data"
    }
   ],
   "source": [
    "np.linspace?"
   ]
  },
  {
   "cell_type": "code",
   "execution_count": 141,
   "id": "d1cf0477-2f3f-4528-a2dc-3c8592075f3e",
   "metadata": {
    "tags": []
   },
   "outputs": [
    {
     "data": {
      "text/plain": [
       "array([ 1.,  2.,  3.,  4.,  5.,  6.,  7.,  8.,  9., 10.])"
      ]
     },
     "execution_count": 141,
     "metadata": {},
     "output_type": "execute_result"
    }
   ],
   "source": [
    "np.linspace(1,10, 10)"
   ]
  },
  {
   "cell_type": "code",
   "execution_count": 146,
   "id": "bb6cf3b3-2c7b-4bb3-8a36-dddb5585c920",
   "metadata": {
    "tags": []
   },
   "outputs": [
    {
     "ename": "SyntaxError",
     "evalue": "invalid syntax (97377382.py, line 1)",
     "output_type": "error",
     "traceback": [
      "\u001b[1;36m  Cell \u001b[1;32mIn[146], line 1\u001b[1;36m\u001b[0m\n\u001b[1;33m    np.m[/lindpspace(0,  np.pi*2, 20)\u001b[0m\n\u001b[1;37m         ^\u001b[0m\n\u001b[1;31mSyntaxError\u001b[0m\u001b[1;31m:\u001b[0m invalid syntax\n"
     ]
    }
   ],
   "source": [
    "np.mlindpspace(0,  np.pi*2, 20)\n",
    "y=no.sin(x)\n",
    "        print(x,y)"
   ]
  },
  {
   "cell_type": "code",
   "execution_count": 148,
   "id": "f4211d57-d20b-43c7-a350-577a26fe7f42",
   "metadata": {
    "tags": []
   },
   "outputs": [],
   "source": [
    "import matplotlib.pyplot as plt"
   ]
  },
  {
   "cell_type": "code",
   "execution_count": 160,
   "id": "92d6954b-8928-44ad-b920-1f2778acc148",
   "metadata": {
    "tags": []
   },
   "outputs": [
    {
     "data": {
      "text/plain": [
       "[<matplotlib.lines.Line2D at 0x2ab4fb0d3c0>]"
      ]
     },
     "execution_count": 160,
     "metadata": {},
     "output_type": "execute_result"
    },
    {
     "data": {
      "image/png": "[encoded data removed]",
      "text/plain": [
       "<Figure size 640x480 with 1 Axes>"
      ]
     },
     "metadata": {},
     "output_type": "display_data"
    }
   ],
   "source": [
    "a = np.linspace(0, np.pi*2, 20)\n",
    "plt.plot(x, np.sin(a))"
   ]
  },
  {
   "cell_type": "code",
   "execution_count": 161,
   "id": "146448ba-b8d2-4d7d-98df-0ae06782c8af",
   "metadata": {
    "tags": []
   },
   "outputs": [
    {
     "data": {
      "text/plain": [
       "[<matplotlib.lines.Line2D at 0x2ab4fb99300>]"
      ]
     },
     "execution_count": 161,
     "metadata": {},
     "output_type": "execute_result"
    },
    {
     "data": {
      "image/png": "[encoded data removed]",
      "text/plain": [
       "<Figure size 640x480 with 1 Axes>"
      ]
     },
     "metadata": {},
     "output_type": "display_data"
    }
   ],
   "source": [
    "b = np.linspace(0,np.pi*2, 20)\n",
    "plt.plot(x, np.cos(b))"
   ]
  },
  {
   "cell_type": "code",
   "execution_count": 178,
   "id": "38c31c41-6607-444e-aa84-8e12143d5625",
   "metadata": {
    "tags": []
   },
   "outputs": [
    {
     "name": "stdout",
     "output_type": "stream",
     "text": [
      "[<matplotlib.lines.Line2D object at 0x000002AB50E5FB80>] [<matplotlib.lines.Line2D object at 0x000002AB50E5FE50>]\n"
     ]
    },
    {
     "data": {
      "image/png": "[encoded data removed]",
      "text/plain": [
       "<Figure size 640x480 with 1 Axes>"
      ]
     },
     "metadata": {},
     "output_type": "display_data"
    }
   ],
   "source": [
    "x=np.linspace(0,np.pi*2,20)\n",
    "a=plt.plot(x,np.cos(x) )\n",
    "b=plt.plot(x,np.sin(x) )\n",
    "print(a,b) "
   ]
  },
  {
   "cell_type": "code",
   "execution_count": 163,
   "id": "e7b115f8-920c-4dc5-a48e-148f637b65ac",
   "metadata": {
    "tags": []
   },
   "outputs": [
    {
     "data": {
      "text/plain": [
       "2.0"
      ]
     },
     "execution_count": 163,
     "metadata": {},
     "output_type": "execute_result"
    }
   ],
   "source": [
    "np.sqrt(4)"
   ]
  },
  {
   "cell_type": "code",
   "execution_count": 174,
   "id": "df1d7753-4102-4e9a-8909-83cd188d51e9",
   "metadata": {
    "tags": []
   },
   "outputs": [],
   "source": [
    "from numpy import *"
   ]
  },
  {
   "cell_type": "code",
   "execution_count": 175,
   "id": "67d6bd77-0e83-43be-8e2d-b72e3c07dc32",
   "metadata": {
    "tags": []
   },
   "outputs": [
    {
     "data": {
      "text/plain": [
       "2.0"
      ]
     },
     "execution_count": 175,
     "metadata": {},
     "output_type": "execute_result"
    }
   ],
   "source": [
    "sqrt(4)"
   ]
  },
  {
   "cell_type": "code",
   "execution_count": 176,
   "id": "b5122ef1-4299-4c09-aefc-c7ab0c0dff21",
   "metadata": {
    "tags": []
   },
   "outputs": [
    {
     "data": {
      "text/plain": [
       "0.0"
      ]
     },
     "execution_count": 176,
     "metadata": {},
     "output_type": "execute_result"
    }
   ],
   "source": [
    "sin(0)"
   ]
  },
  {
   "cell_type": "code",
   "execution_count": 182,
   "id": "f659fbaf-da36-42c7-80eb-c37b84bea356",
   "metadata": {
    "tags": []
   },
   "outputs": [],
   "source": [
    "import numpy\n",
    "import numpy as np\n",
    "from numpy import sqrt\n",
    "from numpy import *"
   ]
  },
  {
   "cell_type": "code",
   "execution_count": 184,
   "id": "ae451846-f112-4622-bca8-c7cbbdf74dc8",
   "metadata": {
    "tags": []
   },
   "outputs": [
    {
     "data": {
      "text/plain": [
       "3.46"
      ]
     },
     "execution_count": 184,
     "metadata": {},
     "output_type": "execute_result"
    }
   ],
   "source": [
    "round(3.4567, 2)"
   ]
  },
  {
   "cell_type": "code",
   "execution_count": 186,
   "id": "5ba4306f-91cf-4252-ae9b-c6471555aa1f",
   "metadata": {
    "tags": []
   },
   "outputs": [
    {
     "data": {
      "text/plain": [
       "3.0"
      ]
     },
     "execution_count": 186,
     "metadata": {},
     "output_type": "execute_result"
    }
   ],
   "source": [
    "np.floor(3.4567)"
   ]
  },
  {
   "cell_type": "code",
   "execution_count": 189,
   "id": "459e0363-ce6c-4781-ab28-07c5096a545c",
   "metadata": {
    "tags": []
   },
   "outputs": [
    {
     "data": {
      "text/plain": [
       "4.0"
      ]
     },
     "execution_count": 189,
     "metadata": {},
     "output_type": "execute_result"
    }
   ],
   "source": [
    "np.ceil(3.4567)"
   ]
  },
  {
   "cell_type": "markdown",
   "id": "1425c0f2-af1b-4152-a6f2-dcc7fb2d9f9f",
   "metadata": {},
   "source": [
    "# 문자열 연산"
   ]
  },
  {
   "cell_type": "code",
   "execution_count": 197,
   "id": "c2221b73-08e9-44f5-ae4e-906032f6dd27",
   "metadata": {
    "tags": []
   },
   "outputs": [
    {
     "name": "stdout",
     "output_type": "stream",
     "text": [
      "HelloGood Morning\n",
      "========================================\n",
      "HelloGood Morning\n"
     ]
    }
   ],
   "source": [
    "a = \"Hello\"\n",
    "b = \"Good Morning\"\n",
    "print(a + b)\n",
    "print(\"=\"*40)\n",
    "a = \"Hello\"\n",
    "b = \"Good Morning\"\n",
    "print(a + b)"
   ]
  },
  {
   "cell_type": "code",
   "execution_count": 194,
   "id": "1c59f644-46a2-4e75-9957-a1d017262bfe",
   "metadata": {
    "tags": []
   },
   "outputs": [
    {
     "name": "stdout",
     "output_type": "stream",
     "text": [
      "HelloHelloHelloHello\n"
     ]
    }
   ],
   "source": [
    "print(a*4)"
   ]
  },
  {
   "cell_type": "code",
   "execution_count": 199,
   "id": "861a1463-5102-453f-85c5-d0be40397a7e",
   "metadata": {
    "tags": []
   },
   "outputs": [
    {
     "data": {
      "text/plain": [
       "12"
      ]
     },
     "execution_count": 199,
     "metadata": {},
     "output_type": "execute_result"
    }
   ],
   "source": [
    "len(b)"
   ]
  },
  {
   "cell_type": "markdown",
   "id": "605e1c94-c79a-40da-b7bc-f86b5793b0ba",
   "metadata": {},
   "source": [
    "- index"
   ]
  },
  {
   "cell_type": "code",
   "execution_count": 206,
   "id": "4a136ea4-ec33-4a0e-ac1b-7c1efb7911be",
   "metadata": {
    "tags": []
   },
   "outputs": [
    {
     "name": "stdout",
     "output_type": "stream",
     "text": [
      "Hello\n"
     ]
    },
    {
     "data": {
      "text/plain": [
       "'H'"
      ]
     },
     "execution_count": 206,
     "metadata": {},
     "output_type": "execute_result"
    }
   ],
   "source": [
    "print(a)\n",
    "a[0]"
   ]
  },
  {
   "cell_type": "code",
   "execution_count": 208,
   "id": "3a43b329-06d9-4055-b77e-6a9d2c2de94b",
   "metadata": {
    "tags": []
   },
   "outputs": [
    {
     "data": {
      "text/plain": [
       "'o'"
      ]
     },
     "execution_count": 208,
     "metadata": {},
     "output_type": "execute_result"
    }
   ],
   "source": [
    "a[4]\n",
    "    -2 -1\n",
    "H e l l o\n",
    "0 1 2 3 4\n"
   ]
  },
  {
   "cell_type": "code",
   "execution_count": 209,
   "id": "4dc9f621-9a2d-4790-a8c8-9e1ca916f43b",
   "metadata": {
    "tags": []
   },
   "outputs": [
    {
     "data": {
      "text/plain": [
       "'o'"
      ]
     },
     "execution_count": 209,
     "metadata": {},
     "output_type": "execute_result"
    }
   ],
   "source": [
    "a[-1]"
   ]
  },
  {
   "cell_type": "code",
   "execution_count": 211,
   "id": "6924d1ca-a01c-43ac-888a-35d4ac7bb3ad",
   "metadata": {
    "tags": []
   },
   "outputs": [
    {
     "data": {
      "text/plain": [
       "True"
      ]
     },
     "execution_count": 211,
     "metadata": {},
     "output_type": "execute_result"
    }
   ],
   "source": [
    "a[-0] == a[0]\n",
    "-0 == 0"
   ]
  },
  {
   "cell_type": "code",
   "execution_count": 217,
   "id": "37410c27-f4c5-40ee-b7d6-27e8ab8a91ec",
   "metadata": {
    "tags": []
   },
   "outputs": [
    {
     "data": {
      "text/plain": [
       "'o'"
      ]
     },
     "execution_count": 217,
     "metadata": {},
     "output_type": "execute_result"
    }
   ],
   "source": [
    "# 맨 마지막 표시\n",
    "a[4]\n",
    "a[len(a)-1]\n",
    "a[-1]"
   ]
  },
  {
   "cell_type": "code",
   "execution_count": 218,
   "id": "f16fc7fc-5c4e-4274-8f1a-349d31486c03",
   "metadata": {
    "tags": []
   },
   "outputs": [
    {
     "data": {
      "text/plain": [
       "'Good Morning'"
      ]
     },
     "execution_count": 218,
     "metadata": {},
     "output_type": "execute_result"
    }
   ],
   "source": [
    "a = b\n",
    "a"
   ]
  },
  {
   "cell_type": "code",
   "execution_count": 220,
   "id": "774e5000-7b37-4ccb-ad6b-82a405286b46",
   "metadata": {
    "tags": []
   },
   "outputs": [
    {
     "data": {
      "text/plain": [
       "'Mo'"
      ]
     },
     "execution_count": 220,
     "metadata": {},
     "output_type": "execute_result"
    }
   ],
   "source": [
    "a[5] + \"o\""
   ]
  },
  {
   "cell_type": "code",
   "execution_count": 224,
   "id": "dd2f81d5-7b4a-4cc3-82d7-e5453dc1c465",
   "metadata": {
    "tags": []
   },
   "outputs": [
    {
     "data": {
      "text/plain": [
       "'Good'"
      ]
     },
     "execution_count": 224,
     "metadata": {},
     "output_type": "execute_result"
    }
   ],
   "source": [
    "a[0]+a[1]+a[2]+a[3]"
   ]
  },
  {
   "cell_type": "code",
   "execution_count": 225,
   "id": "44660d9b-3a3c-472a-ae4b-0b6d4248474d",
   "metadata": {
    "tags": []
   },
   "outputs": [
    {
     "data": {
      "text/plain": [
       "'Good Morning'"
      ]
     },
     "execution_count": 225,
     "metadata": {},
     "output_type": "execute_result"
    }
   ],
   "source": [
    "a"
   ]
  },
  {
   "cell_type": "code",
   "execution_count": 231,
   "id": "65d29e35-73c7-4209-8c34-81cf8187cea8",
   "metadata": {
    "tags": []
   },
   "outputs": [
    {
     "ename": "NameError",
     "evalue": "name 'stop' is not defined",
     "output_type": "error",
     "traceback": [
      "\u001b[1;31m---------------------------------------------------------------------------\u001b[0m",
      "\u001b[1;31mNameError\u001b[0m                                 Traceback (most recent call last)",
      "Cell \u001b[1;32mIn[231], line 3\u001b[0m\n\u001b[0;32m      1\u001b[0m a[\u001b[38;5;241m0\u001b[39m:\u001b[38;5;241m4\u001b[39m]\n\u001b[1;32m----> 3\u001b[0m start : \u001b[43mstop\u001b[49m \n\u001b[0;32m      5\u001b[0m \u001b[38;5;66;03m#0 <=   <4\u001b[39;00m\n",
      "\u001b[1;31mNameError\u001b[0m: name 'stop' is not defined"
     ]
    }
   ],
   "source": [
    "a[0:4]\n",
    "\n",
    "start : stop \n",
    "\n",
    "0 <=   <4"
   ]
  },
  {
   "cell_type": "code",
   "execution_count": 229,
   "id": "f73ffd12-839b-4acf-958d-fa899826b06e",
   "metadata": {
    "tags": []
   },
   "outputs": [
    {
     "data": {
      "text/plain": [
       "\u001b[1;31mInit signature:\u001b[0m \u001b[0mrange\u001b[0m\u001b[1;33m(\u001b[0m\u001b[0mself\u001b[0m\u001b[1;33m,\u001b[0m \u001b[1;33m/\u001b[0m\u001b[1;33m,\u001b[0m \u001b[1;33m*\u001b[0m\u001b[0margs\u001b[0m\u001b[1;33m,\u001b[0m \u001b[1;33m**\u001b[0m\u001b[0mkwargs\u001b[0m\u001b[1;33m)\u001b[0m\u001b[1;33m\u001b[0m\u001b[1;33m\u001b[0m\u001b[0m\n",
       "\u001b[1;31mDocstring:\u001b[0m     \n",
       "range(stop) -> range object\n",
       "range(start, stop[, step]) -> range object\n",
       "\n",
       "Return an object that produces a sequence of integers from start (inclusive)\n",
       "to stop (exclusive) by step.  range(i, j) produces i, i+1, i+2, ..., j-1.\n",
       "start defaults to 0, and stop is omitted!  range(4) produces 0, 1, 2, 3.\n",
       "These are exactly the valid indices for a list of 4 elements.\n",
       "When step is given, it specifies the increment (or decrement).\n",
       "\u001b[1;31mType:\u001b[0m           type\n",
       "\u001b[1;31mSubclasses:\u001b[0m     "
      ]
     },
     "metadata": {},
     "output_type": "display_data"
    }
   ],
   "source": [
    "range?"
   ]
  },
  {
   "cell_type": "markdown",
   "id": "f4a24e68-2872-4e6a-bef2-b4688bcb22ba",
   "metadata": {},
   "source": [
    "- slicing 슬라이싱"
   ]
  },
  {
   "cell_type": "code",
   "execution_count": 237,
   "id": "9a1a2d0d-ea96-4050-bae8-67e781c3781d",
   "metadata": {
    "tags": []
   },
   "outputs": [
    {
     "data": {
      "text/plain": [
       "'ing'"
      ]
     },
     "execution_count": 237,
     "metadata": {},
     "output_type": "execute_result"
    }
   ],
   "source": [
    "a[0:4]\n",
    "a[ :4]\n",
    "a[5:]\n",
    "a[9:]"
   ]
  },
  {
   "cell_type": "code",
   "execution_count": 255,
   "id": "ce0d8712-afce-4f7c-8a61-fe3a8494832e",
   "metadata": {
    "tags": []
   },
   "outputs": [
    {
     "name": "stdout",
     "output_type": "stream",
     "text": [
      "13\n",
      "2023\n",
      "0309\n",
      "shine\n"
     ]
    }
   ],
   "source": [
    "today = \"20230309shine\"\n",
    "print(len(today))\n",
    "print(today[:4])\n",
    "print(today[4:8])\n",
    "print(today[8:])"
   ]
  },
  {
   "cell_type": "code",
   "execution_count": 260,
   "id": "11c366e2-1856-48c6-ab69-4e6db070ce66",
   "metadata": {
    "tags": []
   },
   "outputs": [
    {
     "data": {
      "text/plain": [
       "''"
      ]
     },
     "execution_count": 260,
     "metadata": {},
     "output_type": "execute_result"
    }
   ],
   "source": [
    "today[8:13]\n",
    "today[-5:]\n",
    "today[8:-7]"
   ]
  },
  {
   "cell_type": "markdown",
   "id": "8941fecc-a27e-4c3d-8c37-b74f52dddcbd",
   "metadata": {
    "tags": []
   },
   "source": [
    "- input() 함수\n",
    "- 리턴값이 문자값이다"
   ]
  },
  {
   "cell_type": "code",
   "execution_count": 261,
   "id": "f7e626e8-cc31-44bc-bf0e-bb976fc64687",
   "metadata": {
    "tags": []
   },
   "outputs": [
    {
     "name": "stdin",
     "output_type": "stream",
     "text": [
      " 1\n"
     ]
    },
    {
     "data": {
      "text/plain": [
       "'1'"
      ]
     },
     "execution_count": 261,
     "metadata": {},
     "output_type": "execute_result"
    }
   ],
   "source": [
    "input()"
   ]
  },
  {
   "cell_type": "code",
   "execution_count": 262,
   "id": "c7b3a175-0a0a-45b0-8d39-5085fb1e2bc5",
   "metadata": {
    "tags": []
   },
   "outputs": [
    {
     "name": "stdin",
     "output_type": "stream",
     "text": [
      "숫자를 입력하세요:  1\n"
     ]
    },
    {
     "data": {
      "text/plain": [
       "'1'"
      ]
     },
     "execution_count": 262,
     "metadata": {},
     "output_type": "execute_result"
    }
   ],
   "source": [
    "input(\"숫자를 입력하세요: \")"
   ]
  },
  {
   "cell_type": "code",
   "execution_count": 268,
   "id": "3ccc7fe9-ec44-4ff0-88c9-5436fe5e9324",
   "metadata": {
    "tags": []
   },
   "outputs": [
    {
     "name": "stdin",
     "output_type": "stream",
     "text": [
      "이름을 입력하세요:  홍\n",
      "나이를 입력하세요:  20\n"
     ]
    }
   ],
   "source": [
    "name = input(\"이름을 입력하세요: \")\n",
    "age = input(\"나이를 입력하세요: \")"
   ]
  },
  {
   "cell_type": "code",
   "execution_count": 271,
   "id": "7bad41b7-8820-4a21-9fbf-900f501b9903",
   "metadata": {
    "tags": []
   },
   "outputs": [
    {
     "name": "stdin",
     "output_type": "stream",
     "text": [
      "숫자를 입력하세요:  2\n",
      "숫자를 입력하세요:  3\n"
     ]
    },
    {
     "data": {
      "text/plain": [
       "'23'"
      ]
     },
     "execution_count": 271,
     "metadata": {},
     "output_type": "execute_result"
    }
   ],
   "source": [
    "a = input(\"숫자를 입력하세요: \")\n",
    "b = input(\"숫자를 입력하세요: \")\n",
    "a + b"
   ]
  },
  {
   "cell_type": "code",
   "execution_count": 272,
   "id": "104554d5-23db-472a-ba03-1c301e96d11b",
   "metadata": {
    "tags": []
   },
   "outputs": [
    {
     "name": "stdin",
     "output_type": "stream",
     "text": [
      "숫자를 입력하세요:  3\n",
      "숫자를 입력하세요:  4\n"
     ]
    },
    {
     "data": {
      "text/plain": [
       "7"
      ]
     },
     "execution_count": 272,
     "metadata": {},
     "output_type": "execute_result"
    }
   ],
   "source": [
    "a = input(\"숫자를 입력하세요: \")\n",
    "b = input(\"숫자를 입력하세요: \")\n",
    "a = int(a)\n",
    "b = int(b)\n",
    "a+b"
   ]
  },
  {
   "cell_type": "code",
   "execution_count": 273,
   "id": "6d29afdf-a1d8-482d-83dc-03e7f647ba81",
   "metadata": {
    "tags": []
   },
   "outputs": [
    {
     "name": "stdin",
     "output_type": "stream",
     "text": [
      "숫자를 입력하세요:  10\n",
      "숫자를 입력하세요:  30\n"
     ]
    },
    {
     "data": {
      "text/plain": [
       "40"
      ]
     },
     "execution_count": 273,
     "metadata": {},
     "output_type": "execute_result"
    }
   ],
   "source": [
    "a = int(input(\"숫자를 입력하세요: \"))\n",
    "b = int(input(\"숫자를 입력하세요: \"))\n",
    "a+b"
   ]
  },
  {
   "cell_type": "code",
   "execution_count": 279,
   "id": "aeb75810-75f3-4b7f-a92e-4182350e80d8",
   "metadata": {
    "tags": []
   },
   "outputs": [
    {
     "name": "stdin",
     "output_type": "stream",
     "text": [
      "숫자를 입력하세요:  30\n"
     ]
    },
    {
     "data": {
      "text/plain": [
       "60"
      ]
     },
     "execution_count": 279,
     "metadata": {},
     "output_type": "execute_result"
    }
   ],
   "source": [
    "#입력받은 숫자를 2배해서 출력해 봅시다.\n",
    "a = int(input(\"숫자를 입력하세요: \"))\n",
    "a*2"
   ]
  },
  {
   "cell_type": "markdown",
   "id": "ef013208-17ca-4205-ad6c-7a1a21cfb3c8",
   "metadata": {},
   "source": [
    "## formatting "
   ]
  },
  {
   "cell_type": "code",
   "execution_count": 281,
   "id": "ad8605be-8cbc-48d0-9d67-75e5a6fec60e",
   "metadata": {
    "tags": []
   },
   "outputs": [
    {
     "name": "stdout",
     "output_type": "stream",
     "text": [
      "I ate 3 apples, So I sicked 2 days\n"
     ]
    }
   ],
   "source": [
    "print(\"I ate 3 apples, So I sicked 2 days\")"
   ]
  },
  {
   "cell_type": "code",
   "execution_count": 284,
   "id": "e4ec2b3a-22ff-4da6-a97a-c85668eba6ac",
   "metadata": {
    "tags": []
   },
   "outputs": [
    {
     "name": "stdout",
     "output_type": "stream",
     "text": [
      "I ate 30 apples, So I sicked two days\n"
     ]
    }
   ],
   "source": [
    "#57~0\n",
    "#1. %를 이용하기\n",
    "number = 30\n",
    "day = \"two\"\n",
    "\n",
    "print(\"I ate %d apples, So I sicked %s days\" %(number,day))"
   ]
  },
  {
   "cell_type": "code",
   "execution_count": 288,
   "id": "3170bb9b-396a-48dc-8172-9b672c40676b",
   "metadata": {
    "tags": []
   },
   "outputs": [
    {
     "name": "stdout",
     "output_type": "stream",
     "text": [
      "I ate 30 apples, So I sicked two days\n",
      "I ate 30 apples, So I sicked two days\n",
      "I ate two apples, So I sicked 30 days\n"
     ]
    }
   ],
   "source": [
    "#2. .format()을 이용하기\n",
    "number = 30\n",
    "day = \"two\"\n",
    "\n",
    "print(\"I ate {} apples, So I sicked {} days\".format(number, day))\n",
    "print(\"I ate {0} apples, So I sicked {1} days\".format(number, day))\n",
    "print(\"I ate {1} apples, So I sicked {0} days\".format(number, day))"
   ]
  },
  {
   "cell_type": "code",
   "execution_count": 291,
   "id": "2c9736c8-3dc6-48d8-b380-16af4e4647f7",
   "metadata": {
    "tags": []
   },
   "outputs": [
    {
     "name": "stdout",
     "output_type": "stream",
     "text": [
      "I ate 3 apples, So I sicked two days\n"
     ]
    }
   ],
   "source": [
    "#3. f-string 이용하기\n",
    "number = 3\n",
    "day = \"two\"\n",
    "\n",
    "print(f\"I ate {number} apples, So I sicked {day} days\")"
   ]
  },
  {
   "cell_type": "code",
   "execution_count": 295,
   "id": "6717cd84-58e6-4ee2-ace7-1a7d1056db75",
   "metadata": {
    "tags": []
   },
   "outputs": [
    {
     "name": "stdin",
     "output_type": "stream",
     "text": [
      "이름을 입력하세요:  33\n",
      "나이를 입력하세요:  343\n"
     ]
    },
    {
     "name": "stdout",
     "output_type": "stream",
     "text": [
      "나의 이름은 33 이고 나이는 343살입니다.\n"
     ]
    }
   ],
   "source": [
    "#name, age변수에 값을 받아서\n",
    "\n",
    "\"나의 이름은 000 이고 나이는 00살입니다\"\n",
    "name = str(input(\"이름을 입력하세요: \"))\n",
    "age = int(input(\"나이를 입력하세요: \"))\n",
    "\n",
    "print(f\"나의 이름은 {name} 이고 나이는 {age}살입니다.\")\n"
   ]
  },
  {
   "cell_type": "code",
   "execution_count": 298,
   "id": "65569b5d-2510-478f-9d59-e0b7e345af90",
   "metadata": {
    "tags": []
   },
   "outputs": [
    {
     "name": "stdin",
     "output_type": "stream",
     "text": [
      "어머니의 나이을 입력하세요:  30\n",
      "나의 나이를 입력하세요:  20\n"
     ]
    },
    {
     "name": "stdout",
     "output_type": "stream",
     "text": [
      "어머니의 나이는 30살이고 나의 나이는 20살이고, 합은 50살입니다.\n"
     ]
    }
   ],
   "source": [
    "#input()을 이용하여,\n",
    "\n",
    "age1 = int(input(\"어머니의 나이을 입력하세요: \"))\n",
    "age2 = int(input(\"나의 나이를 입력하세요: \"))\n",
    "age_total = age1 + age2\n",
    "print(f\"어머니의 나이는 {age1}살이고 나의 나이는 {age2}살이고, 합은 {age_total}살입니다.\")"
   ]
  },
  {
   "cell_type": "code",
   "execution_count": 305,
   "id": "0cb4e283-fecb-45fb-ac18-4c1b1f6b2a82",
   "metadata": {
    "tags": []
   },
   "outputs": [
    {
     "name": "stdout",
     "output_type": "stream",
     "text": [
      "pi값은 3.1416입니다\n",
      "pi값은     3.1416입니다\n"
     ]
    }
   ],
   "source": [
    "pi = 3.141592\n",
    "\n",
    "print(f\"pi값은 {pi:0.4f}입니다\")\n",
    "print(f\"pi값은 {pi:10.4f}입니다\")\n",
    "#~67"
   ]
  },
  {
   "cell_type": "code",
   "execution_count": null,
   "id": "0aba5f97-3e69-469d-ae48-dc254a88cd97",
   "metadata": {},
   "outputs": [],
   "source": []
  }
 ],
 "metadata": {
  "kernelspec": {
   "display_name": "Python 3 (ipykernel)",
   "language": "python",
   "name": "python3"
  },
  "language_info": {
   "codemirror_mode": {
    "name": "ipython",
    "version": 3
   },
   "file_extension": ".py",
   "mimetype": "text/x-python",
   "name": "python",
   "nbconvert_exporter": "python",
   "pygments_lexer": "ipython3",
   "version": "3.10.9"
  },
  "toc-autonumbering": false
 },
 "nbformat": 4,
 "nbformat_minor": 5
}
