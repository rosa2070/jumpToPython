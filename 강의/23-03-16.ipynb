{
 "cells": [
  {
   "cell_type": "markdown",
   "id": "bf7d5c0e-c44b-41dd-a71d-f36c2ebfa996",
   "metadata": {},
   "source": [
    "# 복습"
   ]
  },
  {
   "cell_type": "code",
   "execution_count": 1,
   "id": "4990d396-715c-4da4-896a-4907a972a56c",
   "metadata": {},
   "outputs": [
    {
     "ename": "NameError",
     "evalue": "name 'self' is not defined",
     "output_type": "error",
     "traceback": [
      "\u001b[1;31m---------------------------------------------------------------------------\u001b[0m",
      "\u001b[1;31mNameError\u001b[0m                                 Traceback (most recent call last)",
      "Cell \u001b[1;32mIn[1], line 2\u001b[0m\n\u001b[0;32m      1\u001b[0m \u001b[38;5;66;03m# 클래스를 만들 때 함수()안에 반드시 들어가야 할 것은?\u001b[39;00m\n\u001b[1;32m----> 2\u001b[0m \u001b[38;5;28;43mself\u001b[39;49m\n",
      "\u001b[1;31mNameError\u001b[0m: name 'self' is not defined"
     ]
    }
   ],
   "source": [
    "# 클래스를 만들 때 함수()안에 반드시 들어가야 할 것은?\n",
    "self"
   ]
  },
  {
   "cell_type": "code",
   "execution_count": 2,
   "id": "cb66373c-aa71-4ce2-878d-fb597ccd32e0",
   "metadata": {
    "tags": []
   },
   "outputs": [
    {
     "data": {
      "text/plain": [
       "'b'"
      ]
     },
     "execution_count": 2,
     "metadata": {},
     "output_type": "execute_result"
    }
   ],
   "source": [
    "chr(98)"
   ]
  },
  {
   "cell_type": "code",
   "execution_count": 1,
   "id": "5fbfaf0a-5e4e-47c7-b760-eaacc08f0249",
   "metadata": {
    "tags": []
   },
   "outputs": [
    {
     "data": {
      "text/plain": [
       "99"
      ]
     },
     "execution_count": 1,
     "metadata": {},
     "output_type": "execute_result"
    }
   ],
   "source": [
    "ord(\"c\")"
   ]
  },
  {
   "cell_type": "code",
   "execution_count": 10,
   "id": "e4baa255-7499-48c3-88cd-78620698ca62",
   "metadata": {
    "tags": []
   },
   "outputs": [],
   "source": [
    "#input()을 써서 문장 입력\n",
    "with open(\"test.txt\", \"w\") as f:\n",
    "    f.write(\"hello\\n\")"
   ]
  },
  {
   "cell_type": "code",
   "execution_count": 9,
   "id": "2c43d539-bf0a-4f0d-a31b-aa5b0af30c59",
   "metadata": {
    "tags": []
   },
   "outputs": [
    {
     "name": "stdin",
     "output_type": "stream",
     "text": [
      "내용입력:  gfdgfd\n"
     ]
    }
   ],
   "source": [
    "with open(\"test.txt\", \"a\") as f:\n",
    "    string = input(\"내용입력: \")\n",
    "    f.write(string)"
   ]
  },
  {
   "cell_type": "code",
   "execution_count": 11,
   "id": "6ec444b7-df76-4b5c-8c90-c9887692edf9",
   "metadata": {
    "tags": []
   },
   "outputs": [],
   "source": [
    "def my_file(string):\n",
    "    with open(\"test.txt\", \"a\") as f:\n",
    "        f.write(string)"
   ]
  },
  {
   "cell_type": "code",
   "execution_count": 12,
   "id": "0e006993-c6a5-46c9-8051-cb698f7533bc",
   "metadata": {
    "tags": []
   },
   "outputs": [],
   "source": [
    "my_file(\"heyheyhey\")"
   ]
  },
  {
   "cell_type": "code",
   "execution_count": 13,
   "id": "4460d6fc-4dd8-4f26-ad8e-82ced3d8ec4e",
   "metadata": {
    "tags": []
   },
   "outputs": [
    {
     "data": {
      "text/plain": [
       "False"
      ]
     },
     "execution_count": 13,
     "metadata": {},
     "output_type": "execute_result"
    }
   ],
   "source": [
    "all([0,1,2,3])"
   ]
  },
  {
   "cell_type": "code",
   "execution_count": 18,
   "id": "e1736875-853e-475d-a160-77b4c7573a73",
   "metadata": {
    "tags": []
   },
   "outputs": [],
   "source": [
    "#구구셈 한 단을 출력하는 함수만들기\n",
    "def 한단(num):\n",
    "    for i in range(1,10):\n",
    "        print(f\"{num}X{i} = {num*i}\")"
   ]
  },
  {
   "cell_type": "code",
   "execution_count": 19,
   "id": "31183453-ba5a-4a96-aae9-fb35f8439d4a",
   "metadata": {
    "tags": []
   },
   "outputs": [
    {
     "name": "stdout",
     "output_type": "stream",
     "text": [
      "5X1 = 5\n",
      "5X2 = 10\n",
      "5X3 = 15\n",
      "5X4 = 20\n",
      "5X5 = 25\n",
      "5X6 = 30\n",
      "5X7 = 35\n",
      "5X8 = 40\n",
      "5X9 = 45\n"
     ]
    }
   ],
   "source": [
    "한단(5)"
   ]
  },
  {
   "cell_type": "code",
   "execution_count": 26,
   "id": "3598620d-b96e-4c6a-bd64-88516cb43f65",
   "metadata": {
    "tags": []
   },
   "outputs": [],
   "source": [
    "class 구구단:\n",
    "    def 한단(self, num):\n",
    "        for i in range(1,10):\n",
    "            print(f\"{num}X{i} = {num*i}\")"
   ]
  },
  {
   "cell_type": "code",
   "execution_count": 27,
   "id": "57089c33-07e4-46af-8c9d-8ed68826445b",
   "metadata": {
    "tags": []
   },
   "outputs": [],
   "source": [
    "a = 구구단()"
   ]
  },
  {
   "cell_type": "code",
   "execution_count": 29,
   "id": "3cba4723-3378-48c9-9c27-ad34097d74df",
   "metadata": {
    "tags": []
   },
   "outputs": [
    {
     "name": "stdout",
     "output_type": "stream",
     "text": [
      "7X1 = 7\n",
      "7X2 = 14\n",
      "7X3 = 21\n",
      "7X4 = 28\n",
      "7X5 = 35\n",
      "7X6 = 42\n",
      "7X7 = 49\n",
      "7X8 = 56\n",
      "7X9 = 63\n"
     ]
    }
   ],
   "source": [
    "a.한단(7)"
   ]
  },
  {
   "cell_type": "code",
   "execution_count": 34,
   "id": "a547d21e-8f0c-4194-83d3-1184e56a51b4",
   "metadata": {
    "tags": []
   },
   "outputs": [],
   "source": [
    "def intToStr(num):\n",
    "    return str(num)"
   ]
  },
  {
   "cell_type": "code",
   "execution_count": 35,
   "id": "45283d62-d412-4e63-862a-549a1d9c9c77",
   "metadata": {
    "tags": []
   },
   "outputs": [
    {
     "data": {
      "text/plain": [
       "'4'"
      ]
     },
     "execution_count": 35,
     "metadata": {},
     "output_type": "execute_result"
    }
   ],
   "source": [
    "str(4)"
   ]
  },
  {
   "cell_type": "code",
   "execution_count": 36,
   "id": "2224428f-8f28-4674-bd86-4c2d3194cea2",
   "metadata": {
    "tags": []
   },
   "outputs": [
    {
     "data": {
      "text/plain": [
       "'3'"
      ]
     },
     "execution_count": 36,
     "metadata": {},
     "output_type": "execute_result"
    }
   ],
   "source": [
    "intToStr(3)"
   ]
  },
  {
   "cell_type": "code",
   "execution_count": 38,
   "id": "1163f23e-7a24-47ed-b90f-bdce3d18f147",
   "metadata": {
    "tags": []
   },
   "outputs": [],
   "source": [
    "class TypeChange:\n",
    "    def int_to_str(self, num):\n",
    "        return str(num)"
   ]
  },
  {
   "cell_type": "code",
   "execution_count": 40,
   "id": "8e3e8eff-0bd6-4525-969a-73f855394312",
   "metadata": {
    "tags": []
   },
   "outputs": [],
   "source": [
    "a = TypeChange()"
   ]
  },
  {
   "cell_type": "code",
   "execution_count": 41,
   "id": "923bb55b-fd8a-44bb-88b6-a47476c2397d",
   "metadata": {
    "tags": []
   },
   "outputs": [
    {
     "data": {
      "text/plain": [
       "'3'"
      ]
     },
     "execution_count": 41,
     "metadata": {},
     "output_type": "execute_result"
    }
   ],
   "source": [
    "a.int_to_str(3)"
   ]
  },
  {
   "cell_type": "code",
   "execution_count": 46,
   "id": "45eb22aa-542b-4029-a5a4-c9cac3625d30",
   "metadata": {
    "tags": []
   },
   "outputs": [],
   "source": [
    "class FourCal:\n",
    "    def __init__(self, a, b):\n",
    "        self.a = a\n",
    "        self.b = b\n",
    "    def add(self):\n",
    "        result = self.a + self.b\n",
    "        return result"
   ]
  },
  {
   "cell_type": "code",
   "execution_count": 43,
   "id": "7bab67a8-f6a7-4924-8790-6fb322498c23",
   "metadata": {
    "tags": []
   },
   "outputs": [],
   "source": [
    "a = FourCal()"
   ]
  },
  {
   "cell_type": "code",
   "execution_count": 44,
   "id": "6af9b128-f716-462d-9298-719f90c6666a",
   "metadata": {
    "tags": []
   },
   "outputs": [],
   "source": [
    "a.setdata(2,3)"
   ]
  },
  {
   "cell_type": "code",
   "execution_count": 45,
   "id": "bd767253-229e-4c56-877e-b9e01e14ae4c",
   "metadata": {
    "tags": []
   },
   "outputs": [
    {
     "data": {
      "text/plain": [
       "5"
      ]
     },
     "execution_count": 45,
     "metadata": {},
     "output_type": "execute_result"
    }
   ],
   "source": [
    "a.add()"
   ]
  },
  {
   "cell_type": "code",
   "execution_count": 47,
   "id": "7f5c6696-3201-4d39-b0c5-0d81ac0cf92c",
   "metadata": {
    "tags": []
   },
   "outputs": [],
   "source": [
    "c = FourCal(2,3)"
   ]
  },
  {
   "cell_type": "code",
   "execution_count": 48,
   "id": "da96c306-419a-40ff-b798-9fbd10648057",
   "metadata": {
    "tags": []
   },
   "outputs": [
    {
     "ename": "SyntaxError",
     "evalue": "invalid syntax (87168888.py, line 1)",
     "output_type": "error",
     "traceback": [
      "\u001b[1;36m  Cell \u001b[1;32mIn[48], line 1\u001b[1;36m\u001b[0m\n\u001b[1;33m    c = FourCal()이렇게 만들었을 때\u001b[0m\n\u001b[1;37m                 ^\u001b[0m\n\u001b[1;31mSyntaxError\u001b[0m\u001b[1;31m:\u001b[0m invalid syntax\n"
     ]
    }
   ],
   "source": [
    "c = FourCal()이렇게 만들었을 때 "
   ]
  },
  {
   "cell_type": "code",
   "execution_count": 56,
   "id": "8cf0ef38-5660-4de0-8248-f391b4eb0263",
   "metadata": {
    "tags": []
   },
   "outputs": [],
   "source": [
    "class Child(FourCal) :\n",
    "    \n",
    "    def power(self, a,b) :\n",
    "        return self.a**self.b"
   ]
  },
  {
   "cell_type": "code",
   "execution_count": 57,
   "id": "0b8aa663-655d-4ea1-b692-0b66c4ea4ff8",
   "metadata": {
    "tags": []
   },
   "outputs": [],
   "source": [
    "a = Child(6,5)"
   ]
  },
  {
   "cell_type": "code",
   "execution_count": 58,
   "id": "84f0c25d-b54d-4e56-a3bd-c14efc626aca",
   "metadata": {
    "tags": []
   },
   "outputs": [
    {
     "data": {
      "text/plain": [
       "7776"
      ]
     },
     "execution_count": 58,
     "metadata": {},
     "output_type": "execute_result"
    }
   ],
   "source": [
    "a.power(6,5)"
   ]
  },
  {
   "cell_type": "markdown",
   "id": "8e01f0e5-fc3f-45fc-9c6f-1c46ec1179e3",
   "metadata": {},
   "source": [
    "# 수업"
   ]
  },
  {
   "cell_type": "markdown",
   "id": "f8c2382c-0a74-4037-9089-25cf4ec0fc2c",
   "metadata": {},
   "source": [
    "## 상속과 변수\n",
    "- 부모클래스가 매개변수일 때, 자식클래스가 변수를 상속하는 방법"
   ]
  },
  {
   "cell_type": "code",
   "execution_count": 121,
   "id": "f2b63a68-5941-464b-a47d-e9c1eb26f597",
   "metadata": {
    "tags": []
   },
   "outputs": [
    {
     "ename": "TypeError",
     "evalue": "Person.__init__() missing 1 required positional argument: 'lang'",
     "output_type": "error",
     "traceback": [
      "\u001b[1;31m---------------------------------------------------------------------------\u001b[0m",
      "\u001b[1;31mTypeError\u001b[0m                                 Traceback (most recent call last)",
      "Cell \u001b[1;32mIn[121], line 5\u001b[0m\n\u001b[0;32m      2\u001b[0m     \u001b[38;5;28;01mdef\u001b[39;00m \u001b[38;5;21m__init__\u001b[39m(\u001b[38;5;28mself\u001b[39m, lang):\n\u001b[0;32m      3\u001b[0m         \u001b[38;5;28mself\u001b[39m\u001b[38;5;241m.\u001b[39mlang \u001b[38;5;241m=\u001b[39m lang\n\u001b[1;32m----> 5\u001b[0m p1 \u001b[38;5;241m=\u001b[39m \u001b[43mPerson\u001b[49m\u001b[43m(\u001b[49m\u001b[43m)\u001b[49m\n\u001b[0;32m      6\u001b[0m \u001b[38;5;28mprint\u001b[39m(p1\u001b[38;5;241m.\u001b[39mname, \u001b[38;5;124m\"\u001b[39m\u001b[38;5;124m:\u001b[39m\u001b[38;5;124m\"\u001b[39m, p1\u001b[38;5;241m.\u001b[39mage)\n",
      "\u001b[1;31mTypeError\u001b[0m: Person.__init__() missing 1 required positional argument: 'lang'"
     ]
    }
   ],
   "source": [
    "class Person:\n",
    "    def __init__(self, lang):\n",
    "        self.lang = lang\n",
    "        \n",
    "p1 = Person()\n",
    "print(p1.name, \":\", p1.age)"
   ]
  },
  {
   "cell_type": "markdown",
   "id": "6c4105c6-aa48-48d6-a004-611f93f85773",
   "metadata": {},
   "source": [
    "- 자식클래스에 변수 추가"
   ]
  },
  {
   "cell_type": "code",
   "execution_count": 101,
   "id": "5e501de0-b608-4bc4-a412-cad5e061bdbc",
   "metadata": {
    "tags": []
   },
   "outputs": [],
   "source": [
    " class Korean(Person):\n",
    "    def __init__(self, name, age):\n",
    "        super().__init__(name, age)\n",
    "        self.age = age"
   ]
  },
  {
   "cell_type": "code",
   "execution_count": 100,
   "id": "15879be0-e558-4031-a342-93bfb2e400f9",
   "metadata": {
    "tags": []
   },
   "outputs": [
    {
     "ename": "SyntaxError",
     "evalue": "unterminated string literal (detected at line 646) (2523242860.py, line 646)",
     "output_type": "error",
     "traceback": [
      "\u001b[1;36m  Cell \u001b[1;32mIn[100], line 646\u001b[1;36m\u001b[0m\n\u001b[1;33m    \"\u001b[0m\n\u001b[1;37m    ^\u001b[0m\n\u001b[1;31mSyntaxError\u001b[0m\u001b[1;31m:\u001b[0m unterminated string literal (detected at line 646)\n"
     ]
    }
   ],
   "source": [
    "\n",
    "k1 = Korean\n",
    "\n",
    "\n",
    "\n",
    "\n",
    "\n",
    "\""
   ]
  },
  {
   "cell_type": "code",
   "execution_count": 102,
   "id": "bf58c0ed-017c-41f7-aeae-c4e059770467",
   "metadata": {
    "tags": []
   },
   "outputs": [
    {
     "ename": "NameError",
     "evalue": "name 'Korea' is not defined",
     "output_type": "error",
     "traceback": [
      "\u001b[1;31m---------------------------------------------------------------------------\u001b[0m",
      "\u001b[1;31mNameError\u001b[0m                                 Traceback (most recent call last)",
      "Cell \u001b[1;32mIn[102], line 1\u001b[0m\n\u001b[1;32m----> 1\u001b[0m k1 \u001b[38;5;241m=\u001b[39m \u001b[43mKorea\u001b[49m(\u001b[38;5;124m\"\u001b[39m\u001b[38;5;124m길동\u001b[39m\u001b[38;5;124m\"\u001b[39m, \u001b[38;5;241m23\u001b[39m)\n\u001b[0;32m      2\u001b[0m \u001b[38;5;28mprint\u001b[39m(k1\u001b[38;5;241m.\u001b[39mlang)\n\u001b[0;32m      3\u001b[0m \u001b[38;5;28mprint\u001b[39m(k1\u001b[38;5;241m.\u001b[39mname)\n",
      "\u001b[1;31mNameError\u001b[0m: name 'Korea' is not defined"
     ]
    }
   ],
   "source": [
    "k1 = Korea(\"길동\", 23)\n",
    "print(k1.lang)\n",
    "print(k1.name)\n",
    "print(k1.age)"
   ]
  },
  {
   "cell_type": "code",
   "execution_count": 122,
   "id": "113a629b-d613-4c16-adb7-50e36e804d41",
   "metadata": {
    "tags": []
   },
   "outputs": [
    {
     "ename": "TypeError",
     "evalue": "Person.__init__() takes 2 positional arguments but 3 were given",
     "output_type": "error",
     "traceback": [
      "\u001b[1;31m---------------------------------------------------------------------------\u001b[0m",
      "\u001b[1;31mTypeError\u001b[0m                                 Traceback (most recent call last)",
      "Cell \u001b[1;32mIn[122], line 12\u001b[0m\n\u001b[0;32m      7\u001b[0m         \u001b[38;5;28mprint\u001b[39m(\u001b[38;5;124m\"\u001b[39m\u001b[38;5;124m안녕하세요\u001b[39m\u001b[38;5;124m\"\u001b[39m)\n\u001b[0;32m      9\u001b[0m \u001b[38;5;66;03m#self안쓰는 이유: 클래스의 객체를 self라고 부르는데, 여기서 만들 클래스의 객체는 korean class를 의미하지만 Person 클래스를 의미하는 것이 아니다. \u001b[39;00m\n\u001b[0;32m     10\u001b[0m \u001b[38;5;66;03m#그러므로\u001b[39;00m\n\u001b[1;32m---> 12\u001b[0m k1 \u001b[38;5;241m=\u001b[39m \u001b[43mKorean\u001b[49m\u001b[43m(\u001b[49m\u001b[38;5;124;43m\"\u001b[39;49m\u001b[38;5;124;43m길동\u001b[39;49m\u001b[38;5;124;43m\"\u001b[39;49m\u001b[43m,\u001b[49m\u001b[43m \u001b[49m\u001b[38;5;124;43m\"\u001b[39;49m\u001b[38;5;124;43m22\u001b[39;49m\u001b[38;5;124;43m\"\u001b[39;49m\u001b[43m,\u001b[49m\u001b[43m \u001b[49m\u001b[38;5;124;43m\"\u001b[39;49m\u001b[38;5;124;43m한국어\u001b[39;49m\u001b[38;5;124;43m\"\u001b[39;49m\u001b[43m)\u001b[49m\n\u001b[0;32m     13\u001b[0m \u001b[38;5;28mprint\u001b[39m(k1\u001b[38;5;241m.\u001b[39mlang)\n\u001b[0;32m     14\u001b[0m \u001b[38;5;28mprint\u001b[39m(\n\u001b[0;32m     15\u001b[0m k1\u001b[38;5;241m.\u001b[39mname\n\u001b[0;32m     16\u001b[0m )\n",
      "Cell \u001b[1;32mIn[122], line 3\u001b[0m, in \u001b[0;36mKorean.__init__\u001b[1;34m(self, name, age, lang)\u001b[0m\n\u001b[0;32m      2\u001b[0m \u001b[38;5;28;01mdef\u001b[39;00m \u001b[38;5;21m__init__\u001b[39m(\u001b[38;5;28mself\u001b[39m, name, age, lang):\n\u001b[1;32m----> 3\u001b[0m     \u001b[38;5;28;43msuper\u001b[39;49m\u001b[43m(\u001b[49m\u001b[43m)\u001b[49m\u001b[38;5;241;43m.\u001b[39;49m\u001b[38;5;21;43m__init__\u001b[39;49m\u001b[43m(\u001b[49m\u001b[43mname\u001b[49m\u001b[43m,\u001b[49m\u001b[43m \u001b[49m\u001b[43mage\u001b[49m\u001b[43m)\u001b[49m  \u001b[38;5;66;03m#self 쓰면 안됨!!\u001b[39;00m\n\u001b[0;32m      4\u001b[0m     \u001b[38;5;28mself\u001b[39m\u001b[38;5;241m.\u001b[39mlang \u001b[38;5;241m=\u001b[39m lang\n",
      "\u001b[1;31mTypeError\u001b[0m: Person.__init__() takes 2 positional arguments but 3 were given"
     ]
    }
   ],
   "source": [
    "\n",
    "\n",
    "#self안쓰는 이유: 클래스의 객체를 self라고 부르는데, 여기서 만들 클래스의 객체는 korean class를 의미하지만 Person 클래스를 의미하는 것이 아니다. \n",
    "#그러므로\n",
    "\n",
    "k1 = Korean(\"길동\", \"22\", \"한국어\")\n",
    "print(k1.lang)\n",
    "print(\n",
    "k1.name\n",
    ")\n",
    "print(k1.age) "
   ]
  },
  {
   "cell_type": "code",
   "execution_count": 125,
   "id": "563da9b3-e364-4c5c-808e-bdcc13eb4d95",
   "metadata": {
    "tags": []
   },
   "outputs": [],
   "source": [
    "class Person:\n",
    "    def __init__(self, lang):\n",
    "        self.lang = lang"
   ]
  },
  {
   "cell_type": "code",
   "execution_count": 126,
   "id": "f5010be7-9242-495d-b799-c6d6435b32a5",
   "metadata": {
    "tags": []
   },
   "outputs": [],
   "source": [
    "class American(Person):\n",
    "    def __init__(self, name, age, lang):\n",
    "        super().__init__(lang)\n",
    "        self.name = name\n",
    "        self.age = age\n",
    "    \n",
    "    def show(self):\n",
    "        print(f\"이름은 {self.name}, 나이는 {self.age}, 언어는 {self.lang}\")\n",
    "    \n",
    "    def greet():\n",
    "        print(\"Hello\")\n",
    "        \n",
    "        \n",
    "\n",
    "        "
   ]
  },
  {
   "cell_type": "code",
   "execution_count": 127,
   "id": "f3a4f5e4-c44e-491d-b922-e49e34c89f00",
   "metadata": {
    "tags": []
   },
   "outputs": [
    {
     "name": "stdout",
     "output_type": "stream",
     "text": [
      "23 English Smith\n",
      "이름은 English, 나이는 Smith, 언어는 23\n"
     ]
    }
   ],
   "source": [
    "a1 = American(\"English\", \"Smith\", 23)\n",
    "print(a1.lang, a1.name, a1.age)\n",
    "a1.show()"
   ]
  },
  {
   "cell_type": "code",
   "execution_count": 128,
   "id": "7ee7dbd0-4b97-458b-9082-8bc9580684f2",
   "metadata": {
    "tags": []
   },
   "outputs": [],
   "source": [
    "class Korean(Person):\n",
    "    def __init__(self, name, age, lang):\n",
    "        super().__init__(name, age)  #self 쓰면 안됨!!\n",
    "        self.lang = lang\n",
    "        \n",
    "    def greet():\n",
    "        print(\"안녕하세요\")"
   ]
  },
  {
   "cell_type": "code",
   "execution_count": 129,
   "id": "e5d7185d-3ae4-4e08-aff1-361d16df2e33",
   "metadata": {
    "tags": []
   },
   "outputs": [
    {
     "ename": "AttributeError",
     "evalue": "'Korean' object has no attribute 'greet'",
     "output_type": "error",
     "traceback": [
      "\u001b[1;31m---------------------------------------------------------------------------\u001b[0m",
      "\u001b[1;31mAttributeError\u001b[0m                            Traceback (most recent call last)",
      "Cell \u001b[1;32mIn[129], line 1\u001b[0m\n\u001b[1;32m----> 1\u001b[0m \u001b[43mk1\u001b[49m\u001b[38;5;241;43m.\u001b[39;49m\u001b[43mgreet\u001b[49m() \u001b[38;5;66;03m# \"안녕하세요\"\u001b[39;00m\n\u001b[0;32m      2\u001b[0m a1\u001b[38;5;241m.\u001b[39mgreet() \u001b[38;5;66;03m# \"Hello\"\u001b[39;00m\n",
      "\u001b[1;31mAttributeError\u001b[0m: 'Korean' object has no attribute 'greet'"
     ]
    }
   ],
   "source": [
    "\n",
    "k1.greet() # \"안녕하세요\"\n",
    "a1.greet() # \"Hello\""
   ]
  },
  {
   "cell_type": "code",
   "execution_count": 130,
   "id": "9d46900c-822d-4491-b3e7-01052ba9c504",
   "metadata": {
    "tags": []
   },
   "outputs": [
    {
     "ename": "SyntaxError",
     "evalue": "invalid syntax (1786565956.py, line 1)",
     "output_type": "error",
     "traceback": [
      "\u001b[1;36m  Cell \u001b[1;32mIn[130], line 1\u001b[1;36m\u001b[0m\n\u001b[1;33m    ASCI -> unicode\u001b[0m\n\u001b[1;37m         ^\u001b[0m\n\u001b[1;31mSyntaxError\u001b[0m\u001b[1;31m:\u001b[0m invalid syntax\n"
     ]
    }
   ],
   "source": [
    "ASCI -> unicode"
   ]
  },
  {
   "cell_type": "code",
   "execution_count": 134,
   "id": "b5eb812a-f61d-45c7-9ef4-aea86631e74a",
   "metadata": {
    "tags": []
   },
   "outputs": [
    {
     "data": {
      "text/plain": [
       "['__class__',\n",
       " '__delattr__',\n",
       " '__dict__',\n",
       " '__dir__',\n",
       " '__doc__',\n",
       " '__eq__',\n",
       " '__format__',\n",
       " '__ge__',\n",
       " '__getattribute__',\n",
       " '__gt__',\n",
       " '__hash__',\n",
       " '__init__',\n",
       " '__init_subclass__',\n",
       " '__le__',\n",
       " '__lt__',\n",
       " '__module__',\n",
       " '__ne__',\n",
       " '__new__',\n",
       " '__reduce__',\n",
       " '__reduce_ex__',\n",
       " '__repr__',\n",
       " '__setattr__',\n",
       " '__sizeof__',\n",
       " '__str__',\n",
       " '__subclasshook__',\n",
       " '__weakref__']"
      ]
     },
     "execution_count": 134,
     "metadata": {},
     "output_type": "execute_result"
    }
   ],
   "source": [
    "dir(Person)"
   ]
  },
  {
   "cell_type": "code",
   "execution_count": 148,
   "id": "5c2f5375-2e4c-40f8-85f2-0e973bf60b8d",
   "metadata": {
    "tags": []
   },
   "outputs": [
    {
     "data": {
      "text/plain": [
       "<enumerate at 0x1c551d97c00>"
      ]
     },
     "execution_count": 148,
     "metadata": {},
     "output_type": "execute_result"
    }
   ],
   "source": [
    "enumerate([\"a\", \"c\", \"b\", \"Hello\"])"
   ]
  },
  {
   "cell_type": "code",
   "execution_count": 149,
   "id": "bd2c9714-bbde-4dfd-93a3-66061f96a6c0",
   "metadata": {
    "tags": []
   },
   "outputs": [
    {
     "name": "stdout",
     "output_type": "stream",
     "text": [
      "(0, 'a')\n",
      "(1, 'c')\n",
      "(2, 'b')\n",
      "(3, 'Hello')\n"
     ]
    }
   ],
   "source": [
    "obj = enumerate([\"a\", \"c\", \"b\", \"Hello\"])\n",
    "for i in obj:\n",
    "    print(i)"
   ]
  },
  {
   "cell_type": "code",
   "execution_count": 152,
   "id": "6e1652c5-d1b7-4992-a028-68939033ed49",
   "metadata": {
    "tags": []
   },
   "outputs": [
    {
     "name": "stdout",
     "output_type": "stream",
     "text": [
      "0 a\n",
      "1 c\n",
      "2 b\n",
      "3 Hello\n"
     ]
    }
   ],
   "source": [
    "for i,j in enumerate([\"a\", \"c\", \"b\", \"Hello\"]):\n",
    "    print(i,j)"
   ]
  },
  {
   "cell_type": "code",
   "execution_count": 153,
   "id": "1c4be7ee-a0d9-4f36-80ab-bdb0a2cb9337",
   "metadata": {
    "tags": []
   },
   "outputs": [],
   "source": [
    "import sys"
   ]
  },
  {
   "cell_type": "code",
   "execution_count": 154,
   "id": "69c70b4e-f341-48eb-b544-a6674b5afe38",
   "metadata": {
    "tags": []
   },
   "outputs": [
    {
     "data": {
      "text/plain": [
       "'3.10.9 (tags/v3.10.9:1dd9be6, Dec  6 2022, 20:01:21) [MSC v.1934 64 bit (AMD64)]'"
      ]
     },
     "execution_count": 154,
     "metadata": {},
     "output_type": "execute_result"
    }
   ],
   "source": [
    "sys.version"
   ]
  },
  {
   "cell_type": "code",
   "execution_count": 155,
   "id": "645b4a8f-6f9a-42d0-8c8a-0cde51418448",
   "metadata": {
    "tags": []
   },
   "outputs": [
    {
     "data": {
      "text/plain": [
       "['C:\\\\Users\\\\user\\\\New',\n",
       " 'C:\\\\Users\\\\user\\\\AppData\\\\Local\\\\Programs\\\\Python\\\\Python310\\\\python310.zip',\n",
       " 'C:\\\\Users\\\\user\\\\AppData\\\\Local\\\\Programs\\\\Python\\\\Python310\\\\DLLs',\n",
       " 'C:\\\\Users\\\\user\\\\AppData\\\\Local\\\\Programs\\\\Python\\\\Python310\\\\lib',\n",
       " 'C:\\\\Users\\\\user\\\\AppData\\\\Local\\\\Programs\\\\Python\\\\Python310',\n",
       " '',\n",
       " 'C:\\\\Users\\\\user\\\\AppData\\\\Local\\\\Programs\\\\Python\\\\Python310\\\\lib\\\\site-packages',\n",
       " 'C:\\\\Users\\\\user\\\\AppData\\\\Local\\\\Programs\\\\Python\\\\Python310\\\\lib\\\\site-packages\\\\win32',\n",
       " 'C:\\\\Users\\\\user\\\\AppData\\\\Local\\\\Programs\\\\Python\\\\Python310\\\\lib\\\\site-packages\\\\win32\\\\lib',\n",
       " 'C:\\\\Users\\\\user\\\\AppData\\\\Local\\\\Programs\\\\Python\\\\Python310\\\\lib\\\\site-packages\\\\Pythonwin']"
      ]
     },
     "execution_count": 155,
     "metadata": {},
     "output_type": "execute_result"
    }
   ],
   "source": [
    "sys.path"
   ]
  },
  {
   "cell_type": "code",
   "execution_count": 156,
   "id": "0a7c13e9-ca17-4793-8e40-e68f6bafa292",
   "metadata": {
    "tags": []
   },
   "outputs": [
    {
     "data": {
      "text/plain": [
       "['C:\\\\Users\\\\user\\\\AppData\\\\Local\\\\Programs\\\\Python\\\\Python310\\\\lib\\\\site-packages\\\\ipykernel_launcher.py',\n",
       " '-f',\n",
       " 'C:\\\\Users\\\\user\\\\AppData\\\\Roaming\\\\jupyter\\\\runtime\\\\kernel-e92185c4-1bf6-446d-8397-9413564463f5.json']"
      ]
     },
     "execution_count": 156,
     "metadata": {},
     "output_type": "execute_result"
    }
   ],
   "source": [
    "sys.argv"
   ]
  },
  {
   "cell_type": "code",
   "execution_count": 164,
   "id": "cf33ef66-137c-43b7-b084-a8c662109ad4",
   "metadata": {
    "tags": []
   },
   "outputs": [
    {
     "ename": "TypeError",
     "evalue": "filter expected 2 arguments, got 0",
     "output_type": "error",
     "traceback": [
      "\u001b[1;31m---------------------------------------------------------------------------\u001b[0m",
      "\u001b[1;31mTypeError\u001b[0m                                 Traceback (most recent call last)",
      "Cell \u001b[1;32mIn[164], line 1\u001b[0m\n\u001b[1;32m----> 1\u001b[0m \u001b[38;5;28;43mfilter\u001b[39;49m\u001b[43m(\u001b[49m\u001b[43m)\u001b[49m\n",
      "\u001b[1;31mTypeError\u001b[0m: filter expected 2 arguments, got 0"
     ]
    }
   ],
   "source": [
    "filter()"
   ]
  },
  {
   "cell_type": "code",
   "execution_count": 166,
   "id": "a7548a33-89cc-4168-9021-1a4093ecbc8e",
   "metadata": {
    "tags": []
   },
   "outputs": [
    {
     "data": {
      "text/plain": [
       "[1, 2]"
      ]
     },
     "execution_count": 166,
     "metadata": {},
     "output_type": "execute_result"
    }
   ],
   "source": [
    "def positive(x):\n",
    "    li = []\n",
    "    for i in x:\n",
    "        if i > 0:\n",
    "            li.append(i)\n",
    "        else:\n",
    "            pass\n",
    "    return li\n",
    "\n",
    "positive([-1, 0, 1, 2])"
   ]
  },
  {
   "cell_type": "code",
   "execution_count": 169,
   "id": "67e53a85-71c7-4557-873d-cf20d18e4788",
   "metadata": {
    "tags": []
   },
   "outputs": [
    {
     "data": {
      "text/plain": [
       "[1, 2]"
      ]
     },
     "execution_count": 169,
     "metadata": {},
     "output_type": "execute_result"
    }
   ],
   "source": [
    "#list comprehension\n",
    "x = [-1,0,1,2]\n",
    "[ i for i in x if i > 0  ]"
   ]
  },
  {
   "cell_type": "code",
   "execution_count": 158,
   "id": "5e49bdf2-5282-461f-954d-5d5039246a2f",
   "metadata": {
    "tags": []
   },
   "outputs": [],
   "source": [
    "def positive(x):\n",
    "    return x > 0"
   ]
  },
  {
   "cell_type": "code",
   "execution_count": 159,
   "id": "6bce5168-47cf-4fa6-a7be-b8d7517cdbdc",
   "metadata": {
    "tags": []
   },
   "outputs": [
    {
     "data": {
      "text/plain": [
       "True"
      ]
     },
     "execution_count": 159,
     "metadata": {},
     "output_type": "execute_result"
    }
   ],
   "source": [
    "positive(3)"
   ]
  },
  {
   "cell_type": "code",
   "execution_count": 160,
   "id": "ae529806-7a8c-4327-95db-1f757caabac5",
   "metadata": {
    "tags": []
   },
   "outputs": [
    {
     "data": {
      "text/plain": [
       "<filter at 0x1c553b520b0>"
      ]
     },
     "execution_count": 160,
     "metadata": {},
     "output_type": "execute_result"
    }
   ],
   "source": [
    "filter(positive, [-1,0,1])"
   ]
  },
  {
   "cell_type": "code",
   "execution_count": 161,
   "id": "a9982aa5-1cff-4589-965a-4b86fcc65ee7",
   "metadata": {
    "tags": []
   },
   "outputs": [
    {
     "name": "stdout",
     "output_type": "stream",
     "text": [
      "1\n"
     ]
    }
   ],
   "source": [
    "for i in filter(positive, [-1,0,1]):\n",
    "    print(i)"
   ]
  },
  {
   "cell_type": "code",
   "execution_count": 163,
   "id": "d4a1d1bb-54ac-4c31-90a8-0ea08a3bebfd",
   "metadata": {
    "tags": []
   },
   "outputs": [
    {
     "data": {
      "text/plain": [
       "[1, 2]"
      ]
     },
     "execution_count": 163,
     "metadata": {},
     "output_type": "execute_result"
    }
   ],
   "source": [
    "list(filter(positive, [-1,0,1,2]))"
   ]
  },
  {
   "cell_type": "code",
   "execution_count": 173,
   "id": "02a08333-66cd-4ab1-bee5-b6f93b1234e9",
   "metadata": {
    "tags": []
   },
   "outputs": [
    {
     "data": {
      "text/plain": [
       "[1, 2]"
      ]
     },
     "execution_count": 173,
     "metadata": {},
     "output_type": "execute_result"
    }
   ],
   "source": [
    "list(filter(lambda x: x>0, [-1,0,1,2]))"
   ]
  },
  {
   "cell_type": "code",
   "execution_count": 177,
   "id": "4a8b5c33-eed2-4aa4-9253-bc9488f40ff2",
   "metadata": {
    "tags": []
   },
   "outputs": [
    {
     "data": {
      "text/plain": [
       "[1, 2, 3, 4, 5, 6, 7, 8, 9, 10]"
      ]
     },
     "execution_count": 177,
     "metadata": {},
     "output_type": "execute_result"
    }
   ],
   "source": [
    "li = list(range(1,11))\n",
    "li"
   ]
  },
  {
   "cell_type": "code",
   "execution_count": 180,
   "id": "6bcaa236-1a5c-4348-9156-3ca15ccd0b76",
   "metadata": {
    "tags": []
   },
   "outputs": [
    {
     "data": {
      "text/plain": [
       "[2, 4, 6, 8, 10]"
      ]
     },
     "execution_count": 180,
     "metadata": {},
     "output_type": "execute_result"
    }
   ],
   "source": [
    "#filter를 써서 짝수만 골라봅시다.\n",
    "list(filter(lambda x: x%2==0, li))"
   ]
  },
  {
   "cell_type": "code",
   "execution_count": 182,
   "id": "4fd63f95-9ac7-4622-b0c1-cccdf684dc6a",
   "metadata": {
    "tags": []
   },
   "outputs": [
    {
     "data": {
      "text/plain": [
       "['python', 'awesome']"
      ]
     },
     "execution_count": 182,
     "metadata": {},
     "output_type": "execute_result"
    }
   ],
   "source": [
    "strings = ['hello', 'world', 'python', 'is', 'awesome'] \n",
    "list(filter(lambda x:len(x)>= 6, strings))"
   ]
  },
  {
   "cell_type": "code",
   "execution_count": 183,
   "id": "ed5db102-b103-432c-9a03-c906f3afb72b",
   "metadata": {
    "tags": []
   },
   "outputs": [
    {
     "data": {
      "text/plain": [
       "2"
      ]
     },
     "execution_count": 183,
     "metadata": {},
     "output_type": "execute_result"
    }
   ],
   "source": [
    "\"hello\".count(\"l\")"
   ]
  },
  {
   "cell_type": "code",
   "execution_count": 184,
   "id": "a5c07e75-db12-4104-9b35-9345e44c736e",
   "metadata": {
    "tags": []
   },
   "outputs": [
    {
     "data": {
      "text/plain": [
       "['hello', 'world', 'python', 'awesome']"
      ]
     },
     "execution_count": 184,
     "metadata": {},
     "output_type": "execute_result"
    }
   ],
   "source": [
    "strings = ['hello', 'world', 'python', 'is', 'awesome'] \n",
    "list(filter(lambda x:x.count(\"o\")== 1, strings))"
   ]
  },
  {
   "cell_type": "code",
   "execution_count": 185,
   "id": "93963aaf-dd3e-40ea-85ed-fe2f03e4cec2",
   "metadata": {
    "tags": []
   },
   "outputs": [
    {
     "data": {
      "text/plain": [
       "'0xea'"
      ]
     },
     "execution_count": 185,
     "metadata": {},
     "output_type": "execute_result"
    }
   ],
   "source": [
    "hex(234)"
   ]
  },
  {
   "cell_type": "code",
   "execution_count": 188,
   "id": "9740e779-60df-4b01-a777-505881c17a24",
   "metadata": {
    "tags": []
   },
   "outputs": [
    {
     "ename": "TypeError",
     "evalue": "int() can't convert non-string with explicit base",
     "output_type": "error",
     "traceback": [
      "\u001b[1;31m---------------------------------------------------------------------------\u001b[0m",
      "\u001b[1;31mTypeError\u001b[0m                                 Traceback (most recent call last)",
      "Cell \u001b[1;32mIn[188], line 1\u001b[0m\n\u001b[1;32m----> 1\u001b[0m \u001b[38;5;28;43mint\u001b[39;49m\u001b[43m(\u001b[49m\u001b[38;5;241;43m0xea\u001b[39;49m\u001b[43m,\u001b[49m\u001b[43m \u001b[49m\u001b[43mbase\u001b[49m\u001b[38;5;241;43m=\u001b[39;49m\u001b[38;5;241;43m10\u001b[39;49m\u001b[43m)\u001b[49m\n",
      "\u001b[1;31mTypeError\u001b[0m: int() can't convert non-string with explicit base"
     ]
    }
   ],
   "source": [
    "int(0xea, base=10)"
   ]
  },
  {
   "cell_type": "code",
   "execution_count": 189,
   "id": "c6d58922-f216-463a-96d3-0b28ba229bca",
   "metadata": {
    "tags": []
   },
   "outputs": [
    {
     "data": {
      "text/plain": [
       "6"
      ]
     },
     "execution_count": 189,
     "metadata": {},
     "output_type": "execute_result"
    }
   ],
   "source": [
    "int(\"11\",5)"
   ]
  },
  {
   "cell_type": "code",
   "execution_count": 190,
   "id": "845079dc-86ff-402d-bfd4-f15dc2e0afc4",
   "metadata": {
    "tags": []
   },
   "outputs": [
    {
     "data": {
      "text/plain": [
       "234"
      ]
     },
     "execution_count": 190,
     "metadata": {},
     "output_type": "execute_result"
    }
   ],
   "source": [
    "int(\"0xea\", base=16)"
   ]
  },
  {
   "cell_type": "code",
   "execution_count": 191,
   "id": "b0df4381-2148-4941-a67c-68c7391b14d8",
   "metadata": {
    "tags": []
   },
   "outputs": [],
   "source": [
    "class Person:\n",
    "    pass\n",
    "\n",
    "a = Person()"
   ]
  },
  {
   "cell_type": "code",
   "execution_count": 192,
   "id": "a6943b8c-aeaa-4cb1-8667-ef8260b99af8",
   "metadata": {
    "tags": []
   },
   "outputs": [
    {
     "data": {
      "text/plain": [
       "True"
      ]
     },
     "execution_count": 192,
     "metadata": {},
     "output_type": "execute_result"
    }
   ],
   "source": [
    "isinstance(a, Person)"
   ]
  },
  {
   "cell_type": "code",
   "execution_count": 193,
   "id": "ed658a75-9ecc-4e6a-acce-50bec9556630",
   "metadata": {
    "tags": []
   },
   "outputs": [
    {
     "ename": "SyntaxError",
     "evalue": "invalid syntax (1879032495.py, line 1)",
     "output_type": "error",
     "traceback": [
      "\u001b[1;36m  Cell \u001b[1;32mIn[193], line 1\u001b[1;36m\u001b[0m\n\u001b[1;33m    map( ,)\u001b[0m\n\u001b[1;37m         ^\u001b[0m\n\u001b[1;31mSyntaxError\u001b[0m\u001b[1;31m:\u001b[0m invalid syntax\n"
     ]
    }
   ],
   "source": [
    "map( ,)"
   ]
  },
  {
   "cell_type": "code",
   "execution_count": 194,
   "id": "924143e3-806b-4239-9a51-05efaccb9517",
   "metadata": {
    "tags": []
   },
   "outputs": [
    {
     "data": {
      "text/plain": [
       "[-2, 0, 2, 4]"
      ]
     },
     "execution_count": 194,
     "metadata": {},
     "output_type": "execute_result"
    }
   ],
   "source": [
    "li = [-1, 0, 1, 2]\n",
    "def twice(x):\n",
    "    li = []\n",
    "    for i in x:\n",
    "        li.append(i*2)\n",
    "    return li\n",
    "\n",
    "twice(x)\n",
    "    "
   ]
  },
  {
   "cell_type": "code",
   "execution_count": 196,
   "id": "832c897d-fa3b-45b7-ac80-c47e7855c131",
   "metadata": {
    "tags": []
   },
   "outputs": [
    {
     "data": {
      "text/plain": [
       "[-2, 0, 2, 4]"
      ]
     },
     "execution_count": 196,
     "metadata": {},
     "output_type": "execute_result"
    }
   ],
   "source": [
    "list(map(lambda x: x*2,[-1,0,1,2]))"
   ]
  },
  {
   "cell_type": "code",
   "execution_count": 197,
   "id": "bde90ebf-15be-4818-bdb2-d0c5a7ec4633",
   "metadata": {
    "tags": []
   },
   "outputs": [],
   "source": [
    "import numpy as np"
   ]
  },
  {
   "cell_type": "code",
   "execution_count": 200,
   "id": "17d3d53d-341d-4714-9aa7-6b97b904e9dc",
   "metadata": {
    "tags": []
   },
   "outputs": [],
   "source": [
    "ar = np.array([-1,0,1,2])"
   ]
  },
  {
   "cell_type": "code",
   "execution_count": 201,
   "id": "317e876d-5e0b-4ed0-9e18-7d9f1b2db3c6",
   "metadata": {
    "tags": []
   },
   "outputs": [
    {
     "data": {
      "text/plain": [
       "array([-2,  0,  2,  4])"
      ]
     },
     "execution_count": 201,
     "metadata": {},
     "output_type": "execute_result"
    }
   ],
   "source": [
    "ar*2"
   ]
  },
  {
   "cell_type": "code",
   "execution_count": 202,
   "id": "40069aab-5439-4844-b8dc-71f968bb5ec7",
   "metadata": {
    "tags": []
   },
   "outputs": [
    {
     "data": {
      "text/plain": [
       "[5, 5, 6, 2, 7]"
      ]
     },
     "execution_count": 202,
     "metadata": {},
     "output_type": "execute_result"
    }
   ],
   "source": [
    "strings = ['hello', 'world', 'python', 'is', 'awesome']\n",
    "list(map(lambda x: len(x), strings))"
   ]
  },
  {
   "cell_type": "code",
   "execution_count": 204,
   "id": "8b86f375-260b-4aa4-ad13-e647492c66ef",
   "metadata": {
    "tags": []
   },
   "outputs": [
    {
     "data": {
      "text/plain": [
       "['Hello', 'World', 'Python', 'Is', 'Awesome']"
      ]
     },
     "execution_count": 205,
     "metadata": {},
     "output_type": "execute_result"
    }
   ],
   "source": [
    "list(map(lambda x: x[0].upper() + x[1:], strings))"
   ]
  },
  {
   "cell_type": "code",
   "execution_count": 206,
   "id": "27d76978-1bd8-4156-8864-cc98450f2aa9",
   "metadata": {
    "tags": []
   },
   "outputs": [
    {
     "data": {
      "text/plain": [
       "['Hello', 'World', 'Python', 'Is', 'Awesome']"
      ]
     },
     "execution_count": 206,
     "metadata": {},
     "output_type": "execute_result"
    }
   ],
   "source": [
    "list(map(lambda x: x.capitalize(), strings))\n",
    "map()"
   ]
  },
  {
   "cell_type": "code",
   "execution_count": 207,
   "id": "de7cb43e-c9a7-4926-a34e-42b1cfadc85a",
   "metadata": {
    "tags": []
   },
   "outputs": [
    {
     "ename": "NameError",
     "evalue": "name 'enumberate' is not defined",
     "output_type": "error",
     "traceback": [
      "\u001b[1;31m---------------------------------------------------------------------------\u001b[0m",
      "\u001b[1;31mNameError\u001b[0m                                 Traceback (most recent call last)",
      "Cell \u001b[1;32mIn[207], line 1\u001b[0m\n\u001b[1;32m----> 1\u001b[0m \u001b[43menumberate\u001b[49m, \u001b[38;5;28mfilter\u001b[39m, \u001b[38;5;28mmap\u001b[39m, \n",
      "\u001b[1;31mNameError\u001b[0m: name 'enumberate' is not defined"
     ]
    }
   ],
   "source": [
    "enumberate, filter, map, "
   ]
  },
  {
   "cell_type": "code",
   "execution_count": 215,
   "id": "8118a994-eb0b-4d87-9477-1183b12c86ee",
   "metadata": {
    "tags": []
   },
   "outputs": [
    {
     "data": {
      "text/plain": [
       "[11, 22, 33, 44, 55]"
      ]
     },
     "execution_count": 215,
     "metadata": {},
     "output_type": "execute_result"
    }
   ],
   "source": [
    "list1 = [1,2,3,4,5]\n",
    "list2 = [10,20,30,40,50]\n",
    "\n",
    "list(map(lambda x,y: x+y, list1, list2))"
   ]
  },
  {
   "cell_type": "code",
   "execution_count": 216,
   "id": "c2e83df8-15b9-47e7-a023-e30cfb06d21c",
   "metadata": {
    "tags": []
   },
   "outputs": [
    {
     "ename": "SyntaxError",
     "evalue": "invalid syntax (3014232822.py, line 1)",
     "output_type": "error",
     "traceback": [
      "\u001b[1;36m  Cell \u001b[1;32mIn[216], line 1\u001b[1;36m\u001b[0m\n\u001b[1;33m    binary : 이진, 사진, 음악, 동영상 -> 바이너리파일\u001b[0m\n\u001b[1;37m               ^\u001b[0m\n\u001b[1;31mSyntaxError\u001b[0m\u001b[1;31m:\u001b[0m invalid syntax\n"
     ]
    }
   ],
   "source": [
    "binary : 이진, 사진, 음악, 동영상 -> 바이너리파일\n",
    "\n",
    "with open(\"test.mp3\", 'wb') as f:\n",
    "    "
   ]
  },
  {
   "cell_type": "code",
   "execution_count": 217,
   "id": "1fb57d10-e6c6-42a3-ad1b-08c960f579c4",
   "metadata": {
    "tags": []
   },
   "outputs": [
    {
     "data": {
      "text/plain": [
       "8"
      ]
     },
     "execution_count": 217,
     "metadata": {},
     "output_type": "execute_result"
    }
   ],
   "source": [
    "pow(2,3)"
   ]
  },
  {
   "cell_type": "code",
   "execution_count": 220,
   "id": "ed0d994f-2a8e-48fd-9fdf-610228f56e1d",
   "metadata": {
    "tags": []
   },
   "outputs": [
    {
     "data": {
      "text/plain": [
       "[1, 3, 5, 7, 9]"
      ]
     },
     "execution_count": 220,
     "metadata": {},
     "output_type": "execute_result"
    }
   ],
   "source": [
    "list(range(1, 10, 2))"
   ]
  },
  {
   "cell_type": "code",
   "execution_count": 222,
   "id": "e7db8992-a511-451e-9e7b-c05a0860e061",
   "metadata": {
    "tags": []
   },
   "outputs": [
    {
     "data": {
      "text/plain": [
       "[10, 9, 8, 7, 6, 5, 4, 3, 2]"
      ]
     },
     "execution_count": 222,
     "metadata": {},
     "output_type": "execute_result"
    }
   ],
   "source": [
    "list(range(10, 1, -1))"
   ]
  },
  {
   "cell_type": "code",
   "execution_count": 231,
   "id": "ee275d6f-3385-4313-be23-0266fbd22bcc",
   "metadata": {
    "tags": []
   },
   "outputs": [
    {
     "data": {
      "text/plain": [
       "3.1416"
      ]
     },
     "execution_count": 231,
     "metadata": {},
     "output_type": "execute_result"
    }
   ],
   "source": [
    "round(3.141592)\n",
    "round(3.141592, 2)\n",
    "pi = 3.141592\n",
    "round(pi,4)"
   ]
  },
  {
   "cell_type": "code",
   "execution_count": 243,
   "id": "50eadde2-34aa-4911-aeb5-f785d5fdad98",
   "metadata": {
    "tags": []
   },
   "outputs": [
    {
     "name": "stdout",
     "output_type": "stream",
     "text": [
      "pi값은 3.141592입니다\n",
      "pi값은 3.14입니다\n",
      "pi값은 3.14입니다\n",
      "pi값은  3.14입니다\n"
     ]
    }
   ],
   "source": [
    "print(f\"pi값은 {pi}입니다\")\n",
    "print(f\"pi값은 {round(pi,2)}입니다\")\n",
    "print(f\"pi값은 {round(pi,2)}입니다\")\n",
    "print(f\"pi값은 {pi:5.2f}입니다\") #소수점 자리수 표현"
   ]
  },
  {
   "cell_type": "code",
   "execution_count": 244,
   "id": "98dced5b-4623-4eb0-862d-fd3a8a4821f1",
   "metadata": {
    "tags": []
   },
   "outputs": [
    {
     "data": {
      "text/plain": [
       "<function sorted(iterable, /, *, key=None, reverse=False)>"
      ]
     },
     "execution_count": 244,
     "metadata": {},
     "output_type": "execute_result"
    }
   ],
   "source": [
    "sorted"
   ]
  },
  {
   "cell_type": "code",
   "execution_count": 249,
   "id": "86528af9-e7a0-4819-8775-4d357809dbb7",
   "metadata": {
    "tags": []
   },
   "outputs": [
    {
     "data": {
      "text/plain": [
       "[2, 3, 4]"
      ]
     },
     "execution_count": 249,
     "metadata": {},
     "output_type": "execute_result"
    }
   ],
   "source": [
    "# sort:메소드\n",
    "li = [2,4,3]\n",
    "\n",
    "li.sort()\n",
    "sorted(li)"
   ]
  },
  {
   "cell_type": "code",
   "execution_count": 247,
   "id": "c777515f-c253-40c2-8b91-3ccdc377f93e",
   "metadata": {
    "tags": []
   },
   "outputs": [
    {
     "data": {
      "text/plain": [
       "[2, 3, 4]"
      ]
     },
     "execution_count": 247,
     "metadata": {},
     "output_type": "execute_result"
    }
   ],
   "source": [
    "li"
   ]
  },
  {
   "cell_type": "code",
   "execution_count": 250,
   "id": "4232c850-c877-48c7-adbe-97fa46f97e26",
   "metadata": {
    "tags": []
   },
   "outputs": [],
   "source": [
    "sum = 0\n",
    "for i in li:\n",
    "    sum += i"
   ]
  },
  {
   "cell_type": "code",
   "execution_count": 251,
   "id": "584a7022-ef4f-4673-9226-e11b1293fbf7",
   "metadata": {
    "tags": []
   },
   "outputs": [],
   "source": [
    "del sum"
   ]
  },
  {
   "cell_type": "code",
   "execution_count": 252,
   "id": "3c38987e-640f-4898-9abc-502b7e51804d",
   "metadata": {
    "tags": []
   },
   "outputs": [
    {
     "data": {
      "text/plain": [
       "<function sum(iterable, /, start=0)>"
      ]
     },
     "execution_count": 252,
     "metadata": {},
     "output_type": "execute_result"
    }
   ],
   "source": [
    "sum"
   ]
  },
  {
   "cell_type": "code",
   "execution_count": 253,
   "id": "5de3021e-5d16-433c-b364-c9a4f31a6d6b",
   "metadata": {
    "tags": []
   },
   "outputs": [
    {
     "data": {
      "text/plain": [
       "(enumerate, filter, map, zip)"
      ]
     },
     "execution_count": 253,
     "metadata": {},
     "output_type": "execute_result"
    }
   ],
   "source": [
    "enumerate, filter, map, zip"
   ]
  },
  {
   "cell_type": "code",
   "execution_count": 254,
   "id": "b9422345-e1ab-4c33-aea9-5b2c599226b7",
   "metadata": {
    "tags": []
   },
   "outputs": [
    {
     "ename": "SyntaxError",
     "evalue": "invalid syntax (3333180507.py, line 3)",
     "output_type": "error",
     "traceback": [
      "\u001b[1;36m  Cell \u001b[1;32mIn[254], line 3\u001b[1;36m\u001b[0m\n\u001b[1;33m    a.txt 2\u001b[0m\n\u001b[1;37m          ^\u001b[0m\n\u001b[1;31mSyntaxError\u001b[0m\u001b[1;31m:\u001b[0m invalid syntax\n"
     ]
    }
   ],
   "source": [
    "zip\n",
    "\n",
    "a.txt 2\n",
    "b.mp3 3\n",
    "c.mp4 4\n"
   ]
  },
  {
   "cell_type": "code",
   "execution_count": 255,
   "id": "cc17159b-a023-4cd9-8234-2734b9fe676e",
   "metadata": {
    "tags": []
   },
   "outputs": [
    {
     "data": {
      "text/plain": [
       "<zip at 0x1c569f11ac0>"
      ]
     },
     "execution_count": 255,
     "metadata": {},
     "output_type": "execute_result"
    }
   ],
   "source": [
    "zip([1,2,3],[10,20,30])"
   ]
  },
  {
   "cell_type": "code",
   "execution_count": 261,
   "id": "18a5df9d-9055-4868-9a7d-5881fd0b7676",
   "metadata": {
    "tags": []
   },
   "outputs": [
    {
     "data": {
      "text/plain": [
       "[(1, 10, 'Hello'), (2, 20, 'a'), (3, 30, 'b')]"
      ]
     },
     "execution_count": 261,
     "metadata": {},
     "output_type": "execute_result"
    }
   ],
   "source": [
    "z = list(zip([1,2,3],[10,20,30],[\"Hello\", \"a\",\"b\" ]))\n",
    "z"
   ]
  },
  {
   "cell_type": "code",
   "execution_count": null,
   "id": "68553419-6e0b-4ac7-ab2c-bf748a97acc9",
   "metadata": {},
   "outputs": [],
   "source": []
  },
  {
   "cell_type": "code",
   "execution_count": 264,
   "id": "ebc6f5ed-be4f-4e5d-8093-cf2d8102ce65",
   "metadata": {
    "tags": []
   },
   "outputs": [
    {
     "name": "stdout",
     "output_type": "stream",
     "text": [
      "i: 1이고 j: 10이고 k:Hello\n",
      "11\n",
      "i: 2이고 j: 20이고 k:a\n",
      "22\n",
      "i: 3이고 j: 30이고 k:b\n",
      "33\n"
     ]
    }
   ],
   "source": [
    "for i,j,k in z:\n",
    "    print(f\"i: {i}이고 j: {j}이고 k:{k}\")\n",
    "    print(i+j)"
   ]
  },
  {
   "cell_type": "markdown",
   "id": "ed581605-0ae1-45b7-8023-8d4f3f7a8e04",
   "metadata": {
    "tags": []
   },
   "source": [
    "# 라이브러리\n",
    "- package\n",
    "- library\n",
    "- lib"
   ]
  },
  {
   "cell_type": "code",
   "execution_count": 266,
   "id": "7af0c5b2-b0a1-49c5-90f4-c151a1e4a856",
   "metadata": {
    "tags": []
   },
   "outputs": [],
   "source": [
    "import sys"
   ]
  },
  {
   "cell_type": "code",
   "execution_count": 269,
   "id": "842ff4fb-d21b-4788-b95c-e9b56dec7bd8",
   "metadata": {
    "tags": []
   },
   "outputs": [
    {
     "data": {
      "text/plain": [
       "['C:\\\\Users\\\\user\\\\AppData\\\\Local\\\\Programs\\\\Python\\\\Python310\\\\lib\\\\site-packages\\\\ipykernel_launcher.py',\n",
       " '-f',\n",
       " 'C:\\\\Users\\\\user\\\\AppData\\\\Roaming\\\\jupyter\\\\runtime\\\\kernel-e92185c4-1bf6-446d-8397-9413564463f5.json']"
      ]
     },
     "execution_count": 269,
     "metadata": {},
     "output_type": "execute_result"
    }
   ],
   "source": [
    "sys.argv"
   ]
  },
  {
   "cell_type": "code",
   "execution_count": 270,
   "id": "280110a2-4d1c-4873-951f-9729e1265ccc",
   "metadata": {
    "tags": []
   },
   "outputs": [],
   "source": [
    "import pickle"
   ]
  },
  {
   "cell_type": "code",
   "execution_count": 271,
   "id": "96030ddf-04ad-48ae-9c38-cabef0a05254",
   "metadata": {
    "tags": []
   },
   "outputs": [],
   "source": [
    "import os"
   ]
  },
  {
   "cell_type": "code",
   "execution_count": 273,
   "id": "b9a6b4e0-a7c7-424a-a70f-4d4be026b3c6",
   "metadata": {
    "tags": []
   },
   "outputs": [
    {
     "data": {
      "text/plain": [
       "<function os.getenv(key, default=None)>"
      ]
     },
     "execution_count": 273,
     "metadata": {},
     "output_type": "execute_result"
    }
   ],
   "source": [
    "os.getenv()"
   ]
  },
  {
   "cell_type": "code",
   "execution_count": 274,
   "id": "4ffe04fc-efd1-4d94-8789-f082eca5a1c3",
   "metadata": {
    "tags": []
   },
   "outputs": [
    {
     "data": {
      "text/plain": [
       "environ{'ALLUSERSPROFILE': 'C:\\\\ProgramData',\n",
       "        'APPDATA': 'C:\\\\Users\\\\user\\\\AppData\\\\Roaming',\n",
       "        'COMMONPROGRAMFILES': 'C:\\\\Program Files\\\\Common Files',\n",
       "        'COMMONPROGRAMFILES(X86)': 'C:\\\\Program Files (x86)\\\\Common Files',\n",
       "        'COMMONPROGRAMW6432': 'C:\\\\Program Files\\\\Common Files',\n",
       "        'COMPUTERNAME': 'DESKTOP-2PGRMF4',\n",
       "        'COMSPEC': 'C:\\\\windows\\\\system32\\\\cmd.exe',\n",
       "        'DRIVERDATA': 'C:\\\\Windows\\\\System32\\\\Drivers\\\\DriverData',\n",
       "        'FPS_BROWSER_APP_PROFILE_STRING': 'Internet Explorer',\n",
       "        'FPS_BROWSER_USER_PROFILE_STRING': 'Default',\n",
       "        'HOMEDRIVE': 'C:',\n",
       "        'HOMEPATH': '\\\\Users\\\\user',\n",
       "        'JAVA_HOME': 'C:\\\\Program Files\\\\Amazon Corretto\\\\jdk11.0.18_10',\n",
       "        'LOCALAPPDATA': 'C:\\\\Users\\\\user\\\\AppData\\\\Local',\n",
       "        'LOGONSERVER': '\\\\\\\\DESKTOP-2PGRMF4',\n",
       "        'NUMBER_OF_PROCESSORS': '12',\n",
       "        'ONEDRIVE': 'C:\\\\Users\\\\user\\\\OneDrive',\n",
       "        'OS': 'Windows_NT',\n",
       "        'PATH': 'C:\\\\Program Files\\\\Amazon Corretto\\\\jdk11.0.18_10\\\\bin;C:\\\\windows\\\\system32;C:\\\\windows;C:\\\\windows\\\\System32\\\\Wbem;C:\\\\windows\\\\System32\\\\WindowsPowerShell\\\\v1.0\\\\;C:\\\\windows\\\\System32\\\\OpenSSH\\\\;C:\\\\Users\\\\user\\\\AppData\\\\Local\\\\Programs\\\\Python\\\\Python310\\\\Scripts\\\\;C:\\\\Users\\\\user\\\\AppData\\\\Local\\\\Programs\\\\Python\\\\Python310\\\\;C:\\\\Users\\\\user\\\\AppData\\\\Local\\\\Microsoft\\\\WindowsApps;',\n",
       "        'PATHEXT': '.COM;.EXE;.BAT;.CMD;.VBS;.VBE;.JS;.JSE;.WSF;.WSH;.MSC',\n",
       "        'PROCESSOR_ARCHITECTURE': 'AMD64',\n",
       "        'PROCESSOR_IDENTIFIER': 'Intel64 Family 6 Model 167 Stepping 1, GenuineIntel',\n",
       "        'PROCESSOR_LEVEL': '6',\n",
       "        'PROCESSOR_REVISION': 'a701',\n",
       "        'PROGRAMDATA': 'C:\\\\ProgramData',\n",
       "        'PROGRAMFILES': 'C:\\\\Program Files',\n",
       "        'PROGRAMFILES(X86)': 'C:\\\\Program Files (x86)',\n",
       "        'PROGRAMW6432': 'C:\\\\Program Files',\n",
       "        'PROMPT': '$P$G',\n",
       "        'PSMODULEPATH': 'C:\\\\Program Files\\\\WindowsPowerShell\\\\Modules;C:\\\\windows\\\\system32\\\\WindowsPowerShell\\\\v1.0\\\\Modules',\n",
       "        'PUBLIC': 'C:\\\\Users\\\\Public',\n",
       "        'SESSIONNAME': 'Console',\n",
       "        'SYSTEMDRIVE': 'C:',\n",
       "        'SYSTEMROOT': 'C:\\\\windows',\n",
       "        'TEMP': 'C:\\\\Users\\\\user\\\\AppData\\\\Local\\\\Temp',\n",
       "        'TMP': 'C:\\\\Users\\\\user\\\\AppData\\\\Local\\\\Temp',\n",
       "        'USERDOMAIN': 'DESKTOP-2PGRMF4',\n",
       "        'USERDOMAIN_ROAMINGPROFILE': 'DESKTOP-2PGRMF4',\n",
       "        'USERNAME': 'user',\n",
       "        'USERPROFILE': 'C:\\\\Users\\\\user',\n",
       "        'WINDIR': 'C:\\\\windows',\n",
       "        'ZES_ENABLE_SYSMAN': '1',\n",
       "        'PYDEVD_USE_FRAME_EVAL': 'NO',\n",
       "        'JPY_SESSION_NAME': 'C:\\\\Users\\\\user\\\\New\\\\Untitled1.ipynb',\n",
       "        'JPY_INTERRUPT_EVENT': '4644',\n",
       "        'IPY_INTERRUPT_EVENT': '4644',\n",
       "        'JPY_PARENT_PID': '4716',\n",
       "        'TERM': 'xterm-color',\n",
       "        'CLICOLOR': '1',\n",
       "        'FORCE_COLOR': '1',\n",
       "        'CLICOLOR_FORCE': '1',\n",
       "        'PAGER': 'cat',\n",
       "        'GIT_PAGER': 'cat',\n",
       "        'MPLBACKEND': 'module://matplotlib_inline.backend_inline'}"
      ]
     },
     "execution_count": 274,
     "metadata": {},
     "output_type": "execute_result"
    }
   ],
   "source": [
    "os.environ"
   ]
  },
  {
   "cell_type": "code",
   "execution_count": 275,
   "id": "b0239f7d-a6e7-4899-882f-488fbfa3ce81",
   "metadata": {
    "tags": []
   },
   "outputs": [
    {
     "data": {
      "text/plain": [
       "'C:\\\\Users\\\\user\\\\New'"
      ]
     },
     "execution_count": 275,
     "metadata": {},
     "output_type": "execute_result"
    }
   ],
   "source": [
    "os.getcwd() "
   ]
  },
  {
   "cell_type": "code",
   "execution_count": 276,
   "id": "c23d4784-45d4-420a-a1f8-0eab1099cd28",
   "metadata": {
    "tags": []
   },
   "outputs": [],
   "source": [
    "os.chdir(\"C:/Users/user/test\")"
   ]
  },
  {
   "cell_type": "code",
   "execution_count": 277,
   "id": "3a4edda6-14a4-40da-b6e8-0ba697d0355b",
   "metadata": {
    "tags": []
   },
   "outputs": [
    {
     "data": {
      "text/plain": [
       "'C:\\\\Users\\\\user\\\\test'"
      ]
     },
     "execution_count": 277,
     "metadata": {},
     "output_type": "execute_result"
    }
   ],
   "source": [
    "os.getcwd()"
   ]
  },
  {
   "cell_type": "code",
   "execution_count": 280,
   "id": "6e40f88e-f30c-4241-9a36-64acf0b9f3ae",
   "metadata": {
    "tags": []
   },
   "outputs": [],
   "source": [
    "os.mkdir(\"C:/Users/user/test1\")"
   ]
  },
  {
   "cell_type": "code",
   "execution_count": 282,
   "id": "821c6dee-11bc-4072-87f8-a367d8a81453",
   "metadata": {
    "tags": []
   },
   "outputs": [],
   "source": [
    "os.chdir(\"C:/Users/user/test1\")"
   ]
  },
  {
   "cell_type": "code",
   "execution_count": null,
   "id": "75682fae-babb-4908-b739-7b081256d554",
   "metadata": {},
   "outputs": [],
   "source": []
  }
 ],
 "metadata": {
  "kernelspec": {
   "display_name": "Python 3 (ipykernel)",
   "language": "python",
   "name": "python3"
  },
  "language_info": {
   "codemirror_mode": {
    "name": "ipython",
    "version": 3
   },
   "file_extension": ".py",
   "mimetype": "text/x-python",
   "name": "python",
   "nbconvert_exporter": "python",
   "pygments_lexer": "ipython3",
   "version": "3.10.9"
  }
 },
 "nbformat": 4,
 "nbformat_minor": 5
}
