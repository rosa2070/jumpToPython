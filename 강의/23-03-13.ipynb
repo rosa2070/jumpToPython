{
 "cells": [
  {
   "cell_type": "markdown",
   "id": "3696ca30-7763-462f-9814-aaa5b6e20d2b",
   "metadata": {
    "tags": []
   },
   "source": [
    "# 복습"
   ]
  },
  {
   "cell_type": "code",
   "execution_count": 1,
   "id": "f3d060b5-0078-47aa-a833-57f6f447c115",
   "metadata": {
    "tags": []
   },
   "outputs": [
    {
     "ename": "NameError",
     "evalue": "name 'a' is not defined",
     "output_type": "error",
     "traceback": [
      "\u001b[1;31m---------------------------------------------------------------------------\u001b[0m",
      "\u001b[1;31mNameError\u001b[0m                                 Traceback (most recent call last)",
      "Cell \u001b[1;32mIn[1], line 1\u001b[0m\n\u001b[1;32m----> 1\u001b[0m \u001b[43ma\u001b[49m[\u001b[38;5;241m3\u001b[39m][\u001b[38;5;241m1\u001b[39m][\u001b[38;5;241m-\u001b[39m\u001b[38;5;241m3\u001b[39m:]\n",
      "\u001b[1;31mNameError\u001b[0m: name 'a' is not defined"
     ]
    }
   ],
   "source": [
    "a[3][1][-3:]"
   ]
  },
  {
   "cell_type": "code",
   "execution_count": 2,
   "id": "4919ca75-7b0c-4409-baaf-677f5320e395",
   "metadata": {
    "tags": []
   },
   "outputs": [],
   "source": [
    "a = [5,\"Hi\", [0,1,2],[3, \"How are you\"]] "
   ]
  },
  {
   "cell_type": "code",
   "execution_count": 3,
   "id": "1beed11a-23b1-47b5-ae54-393918c6a436",
   "metadata": {
    "tags": []
   },
   "outputs": [
    {
     "data": {
      "text/plain": [
       "'you'"
      ]
     },
     "execution_count": 3,
     "metadata": {},
     "output_type": "execute_result"
    }
   ],
   "source": [
    "a[3][1][-3:]"
   ]
  },
  {
   "cell_type": "code",
   "execution_count": 11,
   "id": "ab4cdbb9-7596-48fd-9993-4034d9a02ccf",
   "metadata": {
    "tags": []
   },
   "outputs": [],
   "source": [
    "a = {\"whale\":[\"고래\", \"우영우\"], \"cat\":\"고양이\", \"elephant\":\"코끼리\"} "
   ]
  },
  {
   "cell_type": "code",
   "execution_count": 12,
   "id": "215081a9-d836-4cac-bff7-6f17ddf277f0",
   "metadata": {
    "tags": []
   },
   "outputs": [],
   "source": [
    "del a[\"whale\"][1]"
   ]
  },
  {
   "cell_type": "code",
   "execution_count": 13,
   "id": "8815b8a2-c159-43f5-9df7-970b85a13da4",
   "metadata": {
    "tags": []
   },
   "outputs": [
    {
     "data": {
      "text/plain": [
       "{'whale': ['고래'], 'cat': '고양이', 'elephant': '코끼리'}"
      ]
     },
     "execution_count": 13,
     "metadata": {},
     "output_type": "execute_result"
    }
   ],
   "source": [
    "a"
   ]
  },
  {
   "cell_type": "code",
   "execution_count": 20,
   "id": "e9e392f7-dc9c-4c48-bd04-8fa49252e424",
   "metadata": {
    "tags": []
   },
   "outputs": [],
   "source": [
    "a = ['Good', 'morning', ['nice', 'to', ['meet', 'you']]]"
   ]
  },
  {
   "cell_type": "code",
   "execution_count": 15,
   "id": "927ef3c7-10f2-465e-acce-07cb288644f9",
   "metadata": {
    "tags": []
   },
   "outputs": [
    {
     "data": {
      "text/plain": [
       "['nice', 'to', ['meet', 'you']]"
      ]
     },
     "execution_count": 15,
     "metadata": {},
     "output_type": "execute_result"
    }
   ],
   "source": [
    "a[2]"
   ]
  },
  {
   "cell_type": "code",
   "execution_count": 16,
   "id": "a16ff52c-c63f-4361-ab1e-665a5e097139",
   "metadata": {
    "tags": []
   },
   "outputs": [
    {
     "data": {
      "text/plain": [
       "['meet', 'you']"
      ]
     },
     "execution_count": 16,
     "metadata": {},
     "output_type": "execute_result"
    }
   ],
   "source": [
    "a[2][2]"
   ]
  },
  {
   "cell_type": "code",
   "execution_count": 17,
   "id": "605c902e-3662-4bc0-b42c-6450442bd1e2",
   "metadata": {
    "tags": []
   },
   "outputs": [
    {
     "data": {
      "text/plain": [
       "'you'"
      ]
     },
     "execution_count": 17,
     "metadata": {},
     "output_type": "execute_result"
    }
   ],
   "source": [
    "a[2][2][1]"
   ]
  },
  {
   "cell_type": "code",
   "execution_count": 22,
   "id": "f5bd92c6-39ec-410e-8420-1e8904ed51e2",
   "metadata": {
    "tags": []
   },
   "outputs": [
    {
     "data": {
      "text/plain": [
       "'you'"
      ]
     },
     "execution_count": 22,
     "metadata": {},
     "output_type": "execute_result"
    }
   ],
   "source": [
    "a[2][2][1][0:]"
   ]
  },
  {
   "cell_type": "code",
   "execution_count": 23,
   "id": "a418c312-0d2d-46e8-8456-5500000c6dee",
   "metadata": {
    "tags": []
   },
   "outputs": [],
   "source": [
    "di={'c':['cocoa','cream','candy'],'b':['book','bed','bike'],'a':['air','apple','age'],'m':['monkey','mouse','morning']} "
   ]
  },
  {
   "cell_type": "code",
   "execution_count": 24,
   "id": "baf1cf26-8922-400e-8641-b20934330547",
   "metadata": {
    "tags": []
   },
   "outputs": [
    {
     "data": {
      "text/plain": [
       "{'c': ['cocoa', 'cream', 'candy'],\n",
       " 'b': ['book', 'bed', 'bike'],\n",
       " 'a': ['air', 'apple', 'age'],\n",
       " 'm': ['monkey', 'mouse', 'morning']}"
      ]
     },
     "execution_count": 24,
     "metadata": {},
     "output_type": "execute_result"
    }
   ],
   "source": [
    "di"
   ]
  },
  {
   "cell_type": "code",
   "execution_count": 25,
   "id": "eb15623d-0f4f-44e6-8d0a-09c94b18cc7b",
   "metadata": {
    "tags": []
   },
   "outputs": [],
   "source": [
    "di['d'] = {'dream','day','delete'}"
   ]
  },
  {
   "cell_type": "code",
   "execution_count": 26,
   "id": "4f45fbf6-115f-49e2-bb36-b08aec97ad5c",
   "metadata": {
    "tags": []
   },
   "outputs": [
    {
     "data": {
      "text/plain": [
       "{'c': ['cocoa', 'cream', 'candy'],\n",
       " 'b': ['book', 'bed', 'bike'],\n",
       " 'a': ['air', 'apple', 'age'],\n",
       " 'm': ['monkey', 'mouse', 'morning'],\n",
       " 'd': {'day', 'delete', 'dream'}}"
      ]
     },
     "execution_count": 26,
     "metadata": {},
     "output_type": "execute_result"
    }
   ],
   "source": [
    "di"
   ]
  },
  {
   "cell_type": "code",
   "execution_count": 28,
   "id": "b9d2cbc4-4755-4eaa-9fc7-5c6676ba5b5c",
   "metadata": {
    "tags": []
   },
   "outputs": [],
   "source": [
    "del di['m']"
   ]
  },
  {
   "cell_type": "code",
   "execution_count": 29,
   "id": "e2b78e54-c458-42e5-9150-3a63e472907b",
   "metadata": {
    "tags": []
   },
   "outputs": [
    {
     "data": {
      "text/plain": [
       "{'c': ['cocoa', 'cream', 'candy'],\n",
       " 'b': ['book', 'bed', 'bike'],\n",
       " 'a': ['air', 'apple', 'age'],\n",
       " 'd': {'day', 'delete', 'dream'}}"
      ]
     },
     "execution_count": 29,
     "metadata": {},
     "output_type": "execute_result"
    }
   ],
   "source": [
    "di"
   ]
  },
  {
   "cell_type": "code",
   "execution_count": 30,
   "id": "2561a02f-b373-4ae8-878f-1990d3bdc489",
   "metadata": {
    "tags": []
   },
   "outputs": [],
   "source": [
    "di['a'].sort()"
   ]
  },
  {
   "cell_type": "code",
   "execution_count": 31,
   "id": "60822d10-224b-4939-8173-52248fa0de96",
   "metadata": {
    "tags": []
   },
   "outputs": [
    {
     "data": {
      "text/plain": [
       "{'c': ['cocoa', 'cream', 'candy'],\n",
       " 'b': ['book', 'bed', 'bike'],\n",
       " 'a': ['age', 'air', 'apple'],\n",
       " 'd': {'day', 'delete', 'dream'}}"
      ]
     },
     "execution_count": 31,
     "metadata": {},
     "output_type": "execute_result"
    }
   ],
   "source": [
    "di"
   ]
  },
  {
   "cell_type": "code",
   "execution_count": 32,
   "id": "c8f92548-22fd-476f-b600-55ae0809d50c",
   "metadata": {
    "tags": []
   },
   "outputs": [],
   "source": [
    "li = di['a']"
   ]
  },
  {
   "cell_type": "code",
   "execution_count": 33,
   "id": "433da2c5-3d9c-48b6-8e5f-a34ef0eedcb4",
   "metadata": {
    "tags": []
   },
   "outputs": [
    {
     "data": {
      "text/plain": [
       "['age', 'air', 'apple']"
      ]
     },
     "execution_count": 33,
     "metadata": {},
     "output_type": "execute_result"
    }
   ],
   "source": [
    "li"
   ]
  },
  {
   "cell_type": "code",
   "execution_count": 35,
   "id": "4984a314-a56a-4f22-acf8-cf9eaf46f29e",
   "metadata": {
    "tags": []
   },
   "outputs": [
    {
     "data": {
      "text/plain": [
       "['age', 'air', 'apple']"
      ]
     },
     "execution_count": 35,
     "metadata": {},
     "output_type": "execute_result"
    }
   ],
   "source": [
    "sorted(li)"
   ]
  },
  {
   "cell_type": "code",
   "execution_count": 36,
   "id": "baa90be7-1849-4804-ac57-b44f0ed2fefe",
   "metadata": {
    "tags": []
   },
   "outputs": [],
   "source": [
    "li.sort()"
   ]
  },
  {
   "cell_type": "code",
   "execution_count": 37,
   "id": "73a286d8-220f-46b4-9c5b-f63601369beb",
   "metadata": {
    "tags": []
   },
   "outputs": [
    {
     "data": {
      "text/plain": [
       "['age', 'air', 'apple']"
      ]
     },
     "execution_count": 37,
     "metadata": {},
     "output_type": "execute_result"
    }
   ],
   "source": [
    "sorted(li) #\n",
    "li.sort() # 원본 리스트 값 수정"
   ]
  },
  {
   "cell_type": "code",
   "execution_count": 38,
   "id": "039f6104-c45e-4830-babe-8cfe2176c5d9",
   "metadata": {
    "tags": []
   },
   "outputs": [],
   "source": [
    "a = [1,2,3,4]\n",
    "b = a"
   ]
  },
  {
   "cell_type": "code",
   "execution_count": 39,
   "id": "f7c89f7f-802f-4199-93c9-614d91350d6a",
   "metadata": {
    "tags": []
   },
   "outputs": [
    {
     "ename": "SyntaxError",
     "evalue": "invalid syntax (1924000901.py, line 1)",
     "output_type": "error",
     "traceback": [
      "\u001b[1;36m  Cell \u001b[1;32mIn[39], line 1\u001b[1;36m\u001b[0m\n\u001b[1;33m    b=[:]\u001b[0m\n\u001b[1;37m       ^\u001b[0m\n\u001b[1;31mSyntaxError\u001b[0m\u001b[1;31m:\u001b[0m invalid syntax\n"
     ]
    }
   ],
   "source": [
    "b=[:]\n",
    "b=a.copy()"
   ]
  },
  {
   "cell_type": "code",
   "execution_count": 40,
   "id": "df9d31f2-7aff-41a0-89de-b08b78bb9d63",
   "metadata": {
    "tags": []
   },
   "outputs": [
    {
     "data": {
      "text/plain": [
       "3019138572992"
      ]
     },
     "execution_count": 40,
     "metadata": {},
     "output_type": "execute_result"
    }
   ],
   "source": [
    "id(a)"
   ]
  },
  {
   "cell_type": "code",
   "execution_count": 41,
   "id": "a24aba6f-6760-46d4-8625-037fa93b5be5",
   "metadata": {
    "tags": []
   },
   "outputs": [
    {
     "ename": "NameError",
     "evalue": "name 'c' is not defined",
     "output_type": "error",
     "traceback": [
      "\u001b[1;31m---------------------------------------------------------------------------\u001b[0m",
      "\u001b[1;31mNameError\u001b[0m                                 Traceback (most recent call last)",
      "Cell \u001b[1;32mIn[41], line 2\u001b[0m\n\u001b[0;32m      1\u001b[0m b \u001b[38;5;241m=\u001b[39ma\n\u001b[1;32m----> 2\u001b[0m \u001b[38;5;28mid\u001b[39m(\u001b[43mc\u001b[49m)\n",
      "\u001b[1;31mNameError\u001b[0m: name 'c' is not defined"
     ]
    }
   ],
   "source": [
    "b =a\n",
    "id(c)"
   ]
  },
  {
   "cell_type": "code",
   "execution_count": 42,
   "id": "047677d2-8fcd-4e37-b087-2fc8f98384f9",
   "metadata": {
    "tags": []
   },
   "outputs": [],
   "source": [
    "import copy"
   ]
  },
  {
   "cell_type": "code",
   "execution_count": 43,
   "id": "232f0ea8-2bc5-405f-bb09-f7fe9cd77fae",
   "metadata": {
    "tags": []
   },
   "outputs": [],
   "source": [
    "e = copy.copy(a)"
   ]
  },
  {
   "cell_type": "code",
   "execution_count": null,
   "id": "98b48777-e1c8-414e-a9cd-1b8237bfdc28",
   "metadata": {},
   "outputs": [],
   "source": []
  },
  {
   "cell_type": "code",
   "execution_count": 45,
   "id": "7d835e51-2c70-40f5-9073-79ec4312aa3d",
   "metadata": {
    "tags": []
   },
   "outputs": [
    {
     "ename": "TypeError",
     "evalue": "unsupported operand type(s) for +: 'int' and 'list'",
     "output_type": "error",
     "traceback": [
      "\u001b[1;31m---------------------------------------------------------------------------\u001b[0m",
      "\u001b[1;31mTypeError\u001b[0m                                 Traceback (most recent call last)",
      "Cell \u001b[1;32mIn[45], line 1\u001b[0m\n\u001b[1;32m----> 1\u001b[0m \u001b[43ma\u001b[49m\u001b[43m[\u001b[49m\u001b[38;5;241;43m0\u001b[39;49m\u001b[43m]\u001b[49m\u001b[43m  \u001b[49m\u001b[38;5;241;43m+\u001b[39;49m\u001b[43ma\u001b[49m\u001b[43m[\u001b[49m\u001b[38;5;241;43m1\u001b[39;49m\u001b[43m:\u001b[49m\u001b[38;5;241;43m3\u001b[39;49m\u001b[43m]\u001b[49m\n",
      "\u001b[1;31mTypeError\u001b[0m: unsupported operand type(s) for +: 'int' and 'list'"
     ]
    }
   ],
   "source": [
    "a[0]  +a[1:3]"
   ]
  },
  {
   "cell_type": "code",
   "execution_count": 44,
   "id": "27afe8da-a5fb-4ab4-b1f5-a54dec9906b3",
   "metadata": {
    "tags": []
   },
   "outputs": [
    {
     "data": {
      "text/plain": [
       "3019138840576"
      ]
     },
     "execution_count": 44,
     "metadata": {},
     "output_type": "execute_result"
    }
   ],
   "source": [
    "id(e)"
   ]
  },
  {
   "cell_type": "code",
   "execution_count": 46,
   "id": "7e163529-d2ba-448c-a6dc-b030da4384f4",
   "metadata": {
    "tags": []
   },
   "outputs": [
    {
     "data": {
      "text/plain": [
       "'i'"
      ]
     },
     "execution_count": 46,
     "metadata": {},
     "output_type": "execute_result"
    }
   ],
   "source": [
    "a = \"Pithon\"\n",
    "a[1]"
   ]
  },
  {
   "cell_type": "code",
   "execution_count": 50,
   "id": "9ee79f9b-8c62-43e7-9090-b288cc2ef9bf",
   "metadata": {
    "tags": []
   },
   "outputs": [],
   "source": [
    "a = a.replace(\"i\", \"y\")"
   ]
  },
  {
   "cell_type": "code",
   "execution_count": 56,
   "id": "cd5fed0f-8d87-4055-b1f5-7d8ef237dd10",
   "metadata": {
    "tags": []
   },
   "outputs": [],
   "source": [
    "li = [1,2,3,4,\"five\"]"
   ]
  },
  {
   "cell_type": "code",
   "execution_count": 53,
   "id": "082db9f1-cade-4087-9e96-b83217e23a11",
   "metadata": {
    "tags": []
   },
   "outputs": [],
   "source": [
    "li.remove(\"five\")"
   ]
  },
  {
   "cell_type": "code",
   "execution_count": 54,
   "id": "0982e06d-9433-46db-9543-eb34cc3a38bb",
   "metadata": {
    "tags": []
   },
   "outputs": [
    {
     "data": {
      "text/plain": [
       "[1, 2, 3, 4]"
      ]
     },
     "execution_count": 54,
     "metadata": {},
     "output_type": "execute_result"
    }
   ],
   "source": [
    "li"
   ]
  },
  {
   "cell_type": "code",
   "execution_count": 57,
   "id": "42042348-bc27-4353-a226-15e07c1e2b37",
   "metadata": {
    "tags": []
   },
   "outputs": [],
   "source": [
    "li.remove(\"five\")"
   ]
  },
  {
   "cell_type": "code",
   "execution_count": 59,
   "id": "2dbf966d-7c26-42ea-9100-19ca9f8d541a",
   "metadata": {
    "tags": []
   },
   "outputs": [
    {
     "data": {
      "text/plain": [
       "4"
      ]
     },
     "execution_count": 59,
     "metadata": {},
     "output_type": "execute_result"
    }
   ],
   "source": [
    "li.pop()"
   ]
  },
  {
   "cell_type": "code",
   "execution_count": 61,
   "id": "0dc00881-410d-4b00-b079-d37013c36aba",
   "metadata": {
    "tags": []
   },
   "outputs": [],
   "source": [
    "li.append(5)"
   ]
  },
  {
   "cell_type": "code",
   "execution_count": 62,
   "id": "237cd9a6-42a4-43d8-ad36-0418658f0ea3",
   "metadata": {
    "tags": []
   },
   "outputs": [
    {
     "data": {
      "text/plain": [
       "<function str.rstrip(chars=None, /)>"
      ]
     },
     "execution_count": 62,
     "metadata": {},
     "output_type": "execute_result"
    }
   ],
   "source": [
    "a = \"Helll    \"\n",
    "a.rstrip"
   ]
  },
  {
   "cell_type": "code",
   "execution_count": 64,
   "id": "dfa809de-3482-4018-b196-ed50d618fe5d",
   "metadata": {
    "tags": []
   },
   "outputs": [
    {
     "data": {
      "text/plain": [
       "'Helll    '"
      ]
     },
     "execution_count": 64,
     "metadata": {},
     "output_type": "execute_result"
    }
   ],
   "source": [
    "a"
   ]
  },
  {
   "cell_type": "code",
   "execution_count": 65,
   "id": "28b349a5-ebd3-4e73-9986-c0ff88777268",
   "metadata": {
    "tags": []
   },
   "outputs": [
    {
     "ename": "SyntaxError",
     "evalue": "invalid syntax (1235331270.py, line 1)",
     "output_type": "error",
     "traceback": [
      "\u001b[1;36m  Cell \u001b[1;32mIn[65], line 1\u001b[1;36m\u001b[0m\n\u001b[1;33m    for\u001b[0m\n\u001b[1;37m        ^\u001b[0m\n\u001b[1;31mSyntaxError\u001b[0m\u001b[1;31m:\u001b[0m invalid syntax\n"
     ]
    }
   ],
   "source": [
    "for "
   ]
  },
  {
   "cell_type": "markdown",
   "id": "a8298873-e074-4ebf-b14c-d7869ae2f7d5",
   "metadata": {},
   "source": [
    "# 수업"
   ]
  },
  {
   "cell_type": "markdown",
   "id": "6d667b4b-097b-4640-885f-a83ac3112feb",
   "metadata": {
    "tags": []
   },
   "source": [
    "### 집합 Set"
   ]
  },
  {
   "cell_type": "code",
   "execution_count": 76,
   "id": "57e99e96-0aa2-4c86-9ebd-fb9b27668ac3",
   "metadata": {
    "tags": []
   },
   "outputs": [
    {
     "data": {
      "text/plain": [
       "{1, 2, 3}"
      ]
     },
     "execution_count": 76,
     "metadata": {},
     "output_type": "execute_result"
    }
   ],
   "source": [
    "s1 = set([1,1,2,2,2,3,3,3,3])\n",
    "s1"
   ]
  },
  {
   "cell_type": "code",
   "execution_count": 78,
   "id": "2938a1a5-753b-4371-8ae8-78f9c17ff884",
   "metadata": {
    "tags": []
   },
   "outputs": [
    {
     "data": {
      "text/plain": [
       "{1, 2, 3}"
      ]
     },
     "execution_count": 78,
     "metadata": {},
     "output_type": "execute_result"
    }
   ],
   "source": [
    "li =  [1,1,2,2,2,3,3,3,3]\n",
    "li\n",
    "s1 = set(li)\n",
    "s1"
   ]
  },
  {
   "cell_type": "code",
   "execution_count": 79,
   "id": "be6fb8df-2576-4532-8809-bcfa7f2498a8",
   "metadata": {
    "tags": []
   },
   "outputs": [
    {
     "data": {
      "text/plain": [
       "[1, 1, 2, 2, 2, 3, 3, 3, 3]"
      ]
     },
     "execution_count": 79,
     "metadata": {},
     "output_type": "execute_result"
    }
   ],
   "source": [
    "li"
   ]
  },
  {
   "cell_type": "code",
   "execution_count": 80,
   "id": "df6d10cd-a615-48d8-9b9e-2e537f5162e3",
   "metadata": {
    "tags": []
   },
   "outputs": [
    {
     "data": {
      "text/plain": [
       "{1, 2, 3}"
      ]
     },
     "execution_count": 80,
     "metadata": {},
     "output_type": "execute_result"
    }
   ],
   "source": [
    "s2 = {1,2,3,1,2,3}\n",
    "s2"
   ]
  },
  {
   "cell_type": "code",
   "execution_count": 82,
   "id": "8b171e31-c370-4def-9eca-70febb3e41e0",
   "metadata": {
    "tags": []
   },
   "outputs": [
    {
     "data": {
      "text/plain": [
       "[1, 2, 3]"
      ]
     },
     "execution_count": 82,
     "metadata": {},
     "output_type": "execute_result"
    }
   ],
   "source": [
    "li = [1,2,3]\n",
    "li"
   ]
  },
  {
   "cell_type": "code",
   "execution_count": 83,
   "id": "36b78b79-cdf1-44fb-82ca-0c231763f1e1",
   "metadata": {
    "tags": []
   },
   "outputs": [
    {
     "ename": "NameError",
     "evalue": "name 'lsit' is not defined",
     "output_type": "error",
     "traceback": [
      "\u001b[1;31m---------------------------------------------------------------------------\u001b[0m",
      "\u001b[1;31mNameError\u001b[0m                                 Traceback (most recent call last)",
      "Cell \u001b[1;32mIn[83], line 1\u001b[0m\n\u001b[1;32m----> 1\u001b[0m li \u001b[38;5;241m=\u001b[39m \u001b[43mlsit\u001b[49m()\n\u001b[0;32m      2\u001b[0m li\n",
      "\u001b[1;31mNameError\u001b[0m: name 'lsit' is not defined"
     ]
    }
   ],
   "source": [
    "li = lsit()\n",
    "li"
   ]
  },
  {
   "cell_type": "code",
   "execution_count": 85,
   "id": "23c88527-ce64-4951-9fdf-a5475b8dca55",
   "metadata": {
    "tags": []
   },
   "outputs": [
    {
     "ename": "NameError",
     "evalue": "name 'dic' is not defined",
     "output_type": "error",
     "traceback": [
      "\u001b[1;31m---------------------------------------------------------------------------\u001b[0m",
      "\u001b[1;31mNameError\u001b[0m                                 Traceback (most recent call last)",
      "Cell \u001b[1;32mIn[85], line 3\u001b[0m\n\u001b[0;32m      1\u001b[0m \u001b[38;5;28mlist\u001b[39m\n\u001b[0;32m      2\u001b[0m \u001b[38;5;28mtuple\u001b[39m\n\u001b[1;32m----> 3\u001b[0m \u001b[43mdic\u001b[49m\n\u001b[0;32m      4\u001b[0m \u001b[38;5;28mset\u001b[39m\n",
      "\u001b[1;31mNameError\u001b[0m: name 'dic' is not defined"
     ]
    }
   ],
   "source": [
    "list()\n",
    "tuple()\n",
    "dict()\n",
    "set()"
   ]
  },
  {
   "cell_type": "code",
   "execution_count": 86,
   "id": "b068a387-5c37-4b69-b0dd-1e2ba9d8657a",
   "metadata": {
    "tags": []
   },
   "outputs": [
    {
     "data": {
      "text/plain": [
       "[]"
      ]
     },
     "execution_count": 86,
     "metadata": {},
     "output_type": "execute_result"
    }
   ],
   "source": [
    "li = list()\n",
    "li"
   ]
  },
  {
   "cell_type": "code",
   "execution_count": 87,
   "id": "068a498f-a75a-461c-9b38-59ea62f26226",
   "metadata": {
    "tags": []
   },
   "outputs": [
    {
     "data": {
      "text/plain": [
       "[1, 2, 3]"
      ]
     },
     "execution_count": 87,
     "metadata": {},
     "output_type": "execute_result"
    }
   ],
   "source": [
    "list(s2)"
   ]
  },
  {
   "cell_type": "code",
   "execution_count": 88,
   "id": "0f56cc32-6ad6-48bd-be55-635cf289b36b",
   "metadata": {
    "tags": []
   },
   "outputs": [
    {
     "data": {
      "text/plain": [
       "{'H', 'e', 'l', 'o'}"
      ]
     },
     "execution_count": 88,
     "metadata": {},
     "output_type": "execute_result"
    }
   ],
   "source": [
    "set(\"Hello\")"
   ]
  },
  {
   "cell_type": "markdown",
   "id": "9a36035b-8a3f-4ef6-b5ea-d82a39f5450a",
   "metadata": {},
   "source": [
    "- 합집합, 교집합, 차집합\n",
    "union, intersection, difference"
   ]
  },
  {
   "cell_type": "code",
   "execution_count": 89,
   "id": "ec18a243-bd31-474f-83b8-26492e272a6e",
   "metadata": {
    "tags": []
   },
   "outputs": [],
   "source": [
    "s1 = set([1,2,3,4,5,6])\n",
    "s2 = {4,5,6,7,8,9}"
   ]
  },
  {
   "cell_type": "code",
   "execution_count": 91,
   "id": "97492061-8226-4fbd-8db7-070c9205e7e6",
   "metadata": {
    "tags": []
   },
   "outputs": [
    {
     "data": {
      "text/plain": [
       "{1, 2, 3, 4, 5, 6, 7, 8, 9}"
      ]
     },
     "execution_count": 91,
     "metadata": {},
     "output_type": "execute_result"
    }
   ],
   "source": [
    "s1.union(s2)\n",
    "s1 | s2"
   ]
  },
  {
   "cell_type": "code",
   "execution_count": 93,
   "id": "e605642e-d37c-47d6-998a-f7ce708fab51",
   "metadata": {
    "tags": []
   },
   "outputs": [
    {
     "data": {
      "text/plain": [
       "{4, 5, 6}"
      ]
     },
     "execution_count": 93,
     "metadata": {},
     "output_type": "execute_result"
    }
   ],
   "source": [
    "s1.intersection(s2)"
   ]
  },
  {
   "cell_type": "code",
   "execution_count": 95,
   "id": "3b982c69-034f-4684-bebf-bb05e8cec4b7",
   "metadata": {
    "tags": []
   },
   "outputs": [
    {
     "data": {
      "text/plain": [
       "{1, 2, 3}"
      ]
     },
     "execution_count": 95,
     "metadata": {},
     "output_type": "execute_result"
    }
   ],
   "source": [
    "s1.difference(s2)"
   ]
  },
  {
   "cell_type": "markdown",
   "id": "1b4e6302-281a-4be9-be62-748c91fa214b",
   "metadata": {},
   "source": [
    "s1.difference(s2) | s2.difference(s1)"
   ]
  },
  {
   "cell_type": "code",
   "execution_count": 96,
   "id": "77bbabb8-451a-4d7b-9a16-75180107d704",
   "metadata": {
    "tags": []
   },
   "outputs": [],
   "source": [
    "s1.add(100)"
   ]
  },
  {
   "cell_type": "code",
   "execution_count": 97,
   "id": "1951068c-d234-4696-a50f-9c9a9b495eed",
   "metadata": {
    "tags": []
   },
   "outputs": [
    {
     "data": {
      "text/plain": [
       "{1, 2, 3, 4, 5, 6, 100}"
      ]
     },
     "execution_count": 97,
     "metadata": {},
     "output_type": "execute_result"
    }
   ],
   "source": [
    "s1"
   ]
  },
  {
   "cell_type": "code",
   "execution_count": 98,
   "id": "277ed206-6f92-4f63-97d1-f9856ea69863",
   "metadata": {
    "tags": []
   },
   "outputs": [
    {
     "data": {
      "text/plain": [
       "{1, 2, 3, 4, 5, 6, 100}"
      ]
     },
     "execution_count": 98,
     "metadata": {},
     "output_type": "execute_result"
    }
   ],
   "source": [
    "s1"
   ]
  },
  {
   "cell_type": "code",
   "execution_count": 99,
   "id": "cfea37ce-6b79-418a-b7c0-eb414fb7dfbb",
   "metadata": {
    "tags": []
   },
   "outputs": [
    {
     "data": {
      "text/plain": [
       "True"
      ]
     },
     "execution_count": 99,
     "metadata": {},
     "output_type": "execute_result"
    }
   ],
   "source": [
    "bool(\"Hello\")"
   ]
  },
  {
   "cell_type": "markdown",
   "id": "98d66462-ebe5-4d54-b38a-4f11d6dcfeda",
   "metadata": {},
   "source": [
    "str()\n",
    "int()\n",
    "float()\n",
    "bool()"
   ]
  },
  {
   "cell_type": "code",
   "execution_count": 100,
   "id": "66bfc9f8-a81d-404d-8c0a-453250dea3b5",
   "metadata": {
    "tags": []
   },
   "outputs": [
    {
     "data": {
      "text/plain": [
       "True"
      ]
     },
     "execution_count": 100,
     "metadata": {},
     "output_type": "execute_result"
    }
   ],
   "source": [
    "bool(\"Hello\")"
   ]
  },
  {
   "cell_type": "code",
   "execution_count": 101,
   "id": "d3e9dfdd-ba9a-4281-b8ab-1583e96ed379",
   "metadata": {
    "tags": []
   },
   "outputs": [
    {
     "data": {
      "text/plain": [
       "True"
      ]
     },
     "execution_count": 101,
     "metadata": {},
     "output_type": "execute_result"
    }
   ],
   "source": [
    "bool(\"3\")"
   ]
  },
  {
   "cell_type": "code",
   "execution_count": 103,
   "id": "af02123c-1fe3-471e-9f43-d85a907e69f7",
   "metadata": {
    "tags": []
   },
   "outputs": [
    {
     "data": {
      "text/plain": [
       "1"
      ]
     },
     "execution_count": 103,
     "metadata": {},
     "output_type": "execute_result"
    }
   ],
   "source": [
    "a = 1\n",
    "a"
   ]
  },
  {
   "cell_type": "code",
   "execution_count": 104,
   "id": "71f3b410-c318-48a9-882b-e52aa774707f",
   "metadata": {
    "tags": []
   },
   "outputs": [
    {
     "data": {
      "text/plain": [
       "(1, 2)"
      ]
     },
     "execution_count": 104,
     "metadata": {},
     "output_type": "execute_result"
    }
   ],
   "source": [
    "a = (1,2)\n",
    "a"
   ]
  },
  {
   "cell_type": "code",
   "execution_count": 105,
   "id": "d0031edd-1fc3-48b8-bb75-32cf895e4b37",
   "metadata": {
    "tags": []
   },
   "outputs": [
    {
     "data": {
      "text/plain": [
       "[1, 2]"
      ]
     },
     "execution_count": 105,
     "metadata": {},
     "output_type": "execute_result"
    }
   ],
   "source": [
    "a =[1,2]\n",
    "a"
   ]
  },
  {
   "cell_type": "code",
   "execution_count": 106,
   "id": "a2aad731-6bfe-45f4-855c-d1be9f869d1f",
   "metadata": {
    "tags": []
   },
   "outputs": [],
   "source": [
    "a,b = [1,2]"
   ]
  },
  {
   "cell_type": "code",
   "execution_count": 109,
   "id": "916a65e7-1dcf-4960-8606-e8e2b0d02ab5",
   "metadata": {
    "tags": []
   },
   "outputs": [],
   "source": [
    "a,b=(1,2)"
   ]
  },
  {
   "cell_type": "code",
   "execution_count": 110,
   "id": "45168092-d607-4df7-bfad-0fb271afa8a5",
   "metadata": {
    "tags": []
   },
   "outputs": [
    {
     "data": {
      "text/plain": [
       "1"
      ]
     },
     "execution_count": 110,
     "metadata": {},
     "output_type": "execute_result"
    }
   ],
   "source": [
    "a"
   ]
  },
  {
   "cell_type": "code",
   "execution_count": 111,
   "id": "d12e10f7-7afe-44ec-a5e1-64ba0afd5282",
   "metadata": {
    "tags": []
   },
   "outputs": [
    {
     "data": {
      "text/plain": [
       "2"
      ]
     },
     "execution_count": 111,
     "metadata": {},
     "output_type": "execute_result"
    }
   ],
   "source": [
    "b"
   ]
  },
  {
   "cell_type": "code",
   "execution_count": 114,
   "id": "91c3f4fd-6e7c-4b67-ace2-4457319245c3",
   "metadata": {
    "tags": []
   },
   "outputs": [
    {
     "name": "stdout",
     "output_type": "stream",
     "text": [
      "2\n",
      "1\n"
     ]
    }
   ],
   "source": [
    "a,b = 1,2\n",
    "a,b = b,a\n",
    "print(a)\n",
    "print(b)"
   ]
  },
  {
   "cell_type": "code",
   "execution_count": 116,
   "id": "7ada6d5f-5b89-4282-ba4f-61d18ae32552",
   "metadata": {
    "tags": []
   },
   "outputs": [
    {
     "name": "stdout",
     "output_type": "stream",
     "text": [
      "3\n",
      "3\n"
     ]
    }
   ],
   "source": [
    "a = b= 3\n",
    "print(a)\n",
    "print(b)"
   ]
  },
  {
   "cell_type": "code",
   "execution_count": 119,
   "id": "5311a66f-43bd-4b38-af02-70953d2b6c4f",
   "metadata": {
    "tags": []
   },
   "outputs": [
    {
     "name": "stdout",
     "output_type": "stream",
     "text": [
      "3019138703360\n",
      "3019142169856\n"
     ]
    }
   ],
   "source": [
    "a = [1,2,3]\n",
    "b = [1,2,3]\n",
    "print(id(a))\n",
    "print(id(b))"
   ]
  },
  {
   "cell_type": "code",
   "execution_count": 120,
   "id": "896a035d-1d78-4923-a7ed-87960e156428",
   "metadata": {
    "tags": []
   },
   "outputs": [],
   "source": [
    "a = \"a:b:c:d\""
   ]
  },
  {
   "cell_type": "code",
   "execution_count": 122,
   "id": "356f51a0-0856-4397-bd04-61dc24c5aa8b",
   "metadata": {
    "tags": []
   },
   "outputs": [],
   "source": [
    "b = a.replace(\":\" ,\"#\")"
   ]
  },
  {
   "cell_type": "code",
   "execution_count": 123,
   "id": "a13b0b75-153c-4ff0-be62-40ea6b79cceb",
   "metadata": {
    "tags": []
   },
   "outputs": [
    {
     "name": "stdout",
     "output_type": "stream",
     "text": [
      "a#b#c#d\n"
     ]
    }
   ],
   "source": [
    "print(b)"
   ]
  },
  {
   "cell_type": "code",
   "execution_count": 129,
   "id": "358ca718-a691-4266-9275-d23a895528f7",
   "metadata": {
    "tags": []
   },
   "outputs": [
    {
     "data": {
      "text/plain": [
       "\"['a', 'b', 'c', 'd']\""
      ]
     },
     "execution_count": 129,
     "metadata": {},
     "output_type": "execute_result"
    }
   ],
   "source": [
    "b= \"a:b:c:d\".split(\":\")\n",
    "c = str(b)\n",
    "c"
   ]
  },
  {
   "cell_type": "code",
   "execution_count": 133,
   "id": "f737f6a5-da7d-4a78-a5f1-c8d93ff096a9",
   "metadata": {
    "tags": []
   },
   "outputs": [],
   "source": [
    "a = [1,1,1,2,2,3,3,3,4,4,5]"
   ]
  },
  {
   "cell_type": "code",
   "execution_count": 135,
   "id": "b2f40b67-d674-4fd8-92d5-7b844f19ebcc",
   "metadata": {
    "tags": []
   },
   "outputs": [],
   "source": [
    "aSet = set(a)"
   ]
  },
  {
   "cell_type": "code",
   "execution_count": 136,
   "id": "384f9583-3889-4240-af11-2f6f4b21cb28",
   "metadata": {
    "tags": []
   },
   "outputs": [
    {
     "data": {
      "text/plain": [
       "{1, 2, 3, 4, 5}"
      ]
     },
     "execution_count": 136,
     "metadata": {},
     "output_type": "execute_result"
    }
   ],
   "source": [
    "aSet"
   ]
  },
  {
   "cell_type": "code",
   "execution_count": 137,
   "id": "f52e42ac-f3d6-446d-834d-3c21e345d9f4",
   "metadata": {
    "tags": []
   },
   "outputs": [],
   "source": [
    "b = list(aSet)"
   ]
  },
  {
   "cell_type": "code",
   "execution_count": 138,
   "id": "b51b62cf-2d1e-4958-a43c-e741038aaaf8",
   "metadata": {
    "tags": []
   },
   "outputs": [
    {
     "data": {
      "text/plain": [
       "[1, 2, 3, 4, 5]"
      ]
     },
     "execution_count": 138,
     "metadata": {},
     "output_type": "execute_result"
    }
   ],
   "source": [
    "b"
   ]
  },
  {
   "cell_type": "code",
   "execution_count": 139,
   "id": "5f169660-0dcd-4c9c-b6de-6a8f4828d863",
   "metadata": {
    "tags": []
   },
   "outputs": [],
   "source": [
    "a=(1,2,3)"
   ]
  },
  {
   "cell_type": "code",
   "execution_count": 140,
   "id": "d8a048f1-4aa9-4ac3-a388-33b2695d9cb5",
   "metadata": {
    "tags": []
   },
   "outputs": [],
   "source": [
    "a = a + (4,)"
   ]
  },
  {
   "cell_type": "code",
   "execution_count": 141,
   "id": "8923988a-5f8a-45fd-a36e-6c65ef7f7f52",
   "metadata": {
    "tags": []
   },
   "outputs": [
    {
     "data": {
      "text/plain": [
       "(1, 2, 3, 4)"
      ]
     },
     "execution_count": 141,
     "metadata": {},
     "output_type": "execute_result"
    }
   ],
   "source": [
    "a"
   ]
  },
  {
   "cell_type": "code",
   "execution_count": 142,
   "id": "364a3546-6f1c-4e15-9cc8-c03cf64156f7",
   "metadata": {
    "tags": []
   },
   "outputs": [
    {
     "data": {
      "text/plain": [
       "(2,)"
      ]
     },
     "execution_count": 142,
     "metadata": {},
     "output_type": "execute_result"
    }
   ],
   "source": [
    "(2,)"
   ]
  },
  {
   "cell_type": "markdown",
   "id": "d0149a71-e782-47f5-81a4-6952a6fcc447",
   "metadata": {
    "tags": []
   },
   "source": [
    "# 조건문 if문"
   ]
  },
  {
   "cell_type": "markdown",
   "id": "d82b647f-5e4d-42bc-bdd9-6718aa6c3d38",
   "metadata": {},
   "source": [
    "```\n",
    "if 조건 : <br>\n",
    "    실행\n",
    "    ```"
   ]
  },
  {
   "cell_type": "code",
   "execution_count": 144,
   "id": "bdc8366e-3f78-4cc3-8b56-08941552c607",
   "metadata": {
    "tags": []
   },
   "outputs": [
    {
     "name": "stdout",
     "output_type": "stream",
     "text": [
      "yes\n"
     ]
    }
   ],
   "source": [
    "if 1<2:\n",
    "    print(\"yes\")"
   ]
  },
  {
   "cell_type": "code",
   "execution_count": 145,
   "id": "902ffa52-dddb-4472-a393-bc3c2485d88c",
   "metadata": {
    "tags": []
   },
   "outputs": [
    {
     "name": "stdout",
     "output_type": "stream",
     "text": [
      "yes\n"
     ]
    }
   ],
   "source": [
    "if 2: \n",
    "    print(\"yes\")"
   ]
  },
  {
   "cell_type": "code",
   "execution_count": 148,
   "id": "dd9e635d-0bef-4a63-8a7d-07a5fadde9ac",
   "metadata": {
    "tags": []
   },
   "outputs": [],
   "source": [
    "if 0 :\n",
    "    print(\"yes\")"
   ]
  },
  {
   "cell_type": "code",
   "execution_count": 150,
   "id": "e32f6f4e-dd1e-41c0-a20a-8afaa346b77d",
   "metadata": {
    "tags": []
   },
   "outputs": [
    {
     "name": "stdout",
     "output_type": "stream",
     "text": [
      "yes\n"
     ]
    }
   ],
   "source": [
    "if 1:\n",
    "    print(\"yes\")\n",
    "    \n",
    "else:\n",
    "    print(\"no\")"
   ]
  },
  {
   "cell_type": "code",
   "execution_count": 153,
   "id": "aa7e81cb-ae85-45e0-a8af-baa2a408da8f",
   "metadata": {
    "tags": []
   },
   "outputs": [
    {
     "name": "stdout",
     "output_type": "stream",
     "text": [
      "yes\n",
      "택시를 타라\n"
     ]
    }
   ],
   "source": [
    "money = True\n",
    "if \"money\":\n",
    "    print(\"yes\")\n",
    "    print(\"택시를 타라\")\n",
    "else:\n",
    "    print(\"no\")"
   ]
  },
  {
   "cell_type": "code",
   "execution_count": 154,
   "id": "b0296fb8-8d8e-459d-a3b7-e14b2ad3d200",
   "metadata": {
    "tags": []
   },
   "outputs": [
    {
     "data": {
      "text/plain": [
       "20"
      ]
     },
     "execution_count": 154,
     "metadata": {},
     "output_type": "execute_result"
    }
   ],
   "source": [
    "# 온도를 입력받아, 20도 이상이면 \"덥습니다.\"\n",
    "20"
   ]
  },
  {
   "cell_type": "code",
   "execution_count": 159,
   "id": "141ed5e1-f9b8-4a8d-8472-040754a9e748",
   "metadata": {
    "tags": []
   },
   "outputs": [
    {
     "name": "stdin",
     "output_type": "stream",
     "text": [
      "온도 :  2\n"
     ]
    },
    {
     "name": "stdout",
     "output_type": "stream",
     "text": [
      "적당합니다.\n"
     ]
    }
   ],
   "source": [
    "a =  int(input(\"온도 : \"))\n",
    "if (a >= 20):\n",
    "    print('덥습니다.')\n",
    "else:\n",
    "    print('적당합니다.')"
   ]
  },
  {
   "cell_type": "code",
   "execution_count": 160,
   "id": "69ed0761-d7bc-4b8d-84db-40c7050d0c72",
   "metadata": {
    "tags": []
   },
   "outputs": [],
   "source": [
    "#input()로 숫자를 입력받아 짝수홀수 판단|"
   ]
  },
  {
   "cell_type": "code",
   "execution_count": 169,
   "id": "bd7bbeb1-f2cb-4502-a5fc-656f7290da71",
   "metadata": {
    "tags": []
   },
   "outputs": [
    {
     "name": "stdin",
     "output_type": "stream",
     "text": [
      "숫자입력 :  4\n"
     ]
    },
    {
     "name": "stdout",
     "output_type": "stream",
     "text": [
      "춥습니다\n"
     ]
    }
   ],
   "source": [
    "temp =  int(input(\"숫자입력 : \"))\n",
    "if (temp > 20):\n",
    "    print(\"덥습니다\")\n",
    "elif temp >10:\n",
    "    print(\"적당합니다.\")\n",
    "else:\n",
    "    print(\"춥습니다\")\n",
    "    "
   ]
  },
  {
   "cell_type": "code",
   "execution_count": 170,
   "id": "f927847e-ebeb-40e3-a150-9447480c514e",
   "metadata": {
    "tags": []
   },
   "outputs": [
    {
     "ename": "SyntaxError",
     "evalue": "invalid decimal literal (401341458.py, line 3)",
     "output_type": "error",
     "traceback": [
      "\u001b[1;36m  Cell \u001b[1;32mIn[170], line 3\u001b[1;36m\u001b[0m\n\u001b[1;33m    10이상: 봄\u001b[0m\n\u001b[1;37m     ^\u001b[0m\n\u001b[1;31mSyntaxError\u001b[0m\u001b[1;31m:\u001b[0m invalid decimal literal\n"
     ]
    }
   ],
   "source": [
    "30 이상:\n",
    "20 이상: 가을\n",
    "10이상: 봄\n",
    "10미만: 겨울"
   ]
  },
  {
   "cell_type": "code",
   "execution_count": 173,
   "id": "247f5a46-8d69-4ebb-902a-7073827b76c4",
   "metadata": {
    "tags": []
   },
   "outputs": [
    {
     "name": "stdin",
     "output_type": "stream",
     "text": [
      "숫자를 입력하세요. 300\n"
     ]
    },
    {
     "name": "stdout",
     "output_type": "stream",
     "text": [
      "여름\n"
     ]
    }
   ],
   "source": [
    "temp = int(input(\"숫자를 입력하세요.\"))\n",
    "if temp >=30:\n",
    "    print(\"여름\")\n",
    "elif temp >= 20:\n",
    "    print('가을')\n",
    "elif temp >= 10:\n",
    "    print(\"봄\")\n",
    "else: \n",
    "    print(\"겨울\")"
   ]
  },
  {
   "cell_type": "markdown",
   "id": "1c98f33c-02b8-473c-a16c-ddaee83c365d",
   "metadata": {},
   "source": [
    "- A in B"
   ]
  },
  {
   "cell_type": "code",
   "execution_count": 182,
   "id": "623dc060-f1c6-4a90-9d55-4a566e832238",
   "metadata": {
    "tags": []
   },
   "outputs": [
    {
     "name": "stdout",
     "output_type": "stream",
     "text": [
      "버스를 타라\n"
     ]
    }
   ],
   "source": [
    "pocket = ['bill', 'coin', 'phone']\n",
    "if 'paper' in pocket:\n",
    "    print(\"택시를 타라\")\n",
    "elif 'coin' in pocket:\n",
    "    print(\"버스를 타라\")\n",
    "else:\n",
    "    print('걸어가라')"
   ]
  },
  {
   "cell_type": "code",
   "execution_count": 184,
   "id": "2956029e-efe5-4061-bd8a-9c79f12096ef",
   "metadata": {
    "tags": []
   },
   "outputs": [
    {
     "name": "stdin",
     "output_type": "stream",
     "text": [
      "점수를 입력해주세요: 50\n"
     ]
    }
   ],
   "source": [
    "score = int(input(\"점수를 입력해주세요:\"))\n",
    "if score >= 60:\n",
    "    message = \"success\"\n",
    "else:\n",
    "    message = \"failure\""
   ]
  },
  {
   "cell_type": "code",
   "execution_count": 185,
   "id": "8402bffb-1225-48dc-b238-072a69287f70",
   "metadata": {
    "tags": []
   },
   "outputs": [
    {
     "data": {
      "text/plain": [
       "'failure'"
      ]
     },
     "execution_count": 185,
     "metadata": {},
     "output_type": "execute_result"
    }
   ],
   "source": [
    "message"
   ]
  },
  {
   "cell_type": "code",
   "execution_count": 186,
   "id": "909a278f-7835-49c1-8935-ee65c6014f26",
   "metadata": {
    "tags": []
   },
   "outputs": [],
   "source": [
    "message = \"success\" if score >= 60 else \"failure\""
   ]
  },
  {
   "cell_type": "markdown",
   "id": "427c0703-b033-43e9-8fca-52d6ee38a646",
   "metadata": {},
   "source": [
    "# 반복문 (for)\n",
    "```\n",
    "for 변수 in 리스트:\n",
    "수\n",
    "```"
   ]
  },
  {
   "cell_type": "code",
   "execution_count": 188,
   "id": "51a288ed-d1d6-4cb4-ac35-8a0637352f00",
   "metadata": {
    "tags": []
   },
   "outputs": [
    {
     "name": "stdout",
     "output_type": "stream",
     "text": [
      "1\n",
      "2\n",
      "3\n"
     ]
    }
   ],
   "source": [
    "for i in [1,2,3]:\n",
    "    print(i)"
   ]
  },
  {
   "cell_type": "code",
   "execution_count": 189,
   "id": "bd48be44-ed2c-4dde-9d30-4407a61cdb84",
   "metadata": {
    "tags": []
   },
   "outputs": [
    {
     "name": "stdout",
     "output_type": "stream",
     "text": [
      "1\n",
      "2\n",
      "3\n"
     ]
    }
   ],
   "source": [
    "for i in (1,2,3):\n",
    "    print(i)"
   ]
  },
  {
   "cell_type": "code",
   "execution_count": 190,
   "id": "dad146c9-7709-4649-a31d-ec25a7148088",
   "metadata": {
    "tags": []
   },
   "outputs": [
    {
     "name": "stdout",
     "output_type": "stream",
     "text": [
      "H\n",
      "e\n",
      "l\n",
      "l\n",
      "o\n"
     ]
    }
   ],
   "source": [
    "for i in \"Hello\":\n",
    "    print(i)"
   ]
  },
  {
   "cell_type": "code",
   "execution_count": 191,
   "id": "dbb1906a-8701-4a2c-9b24-a6fd55e78362",
   "metadata": {
    "tags": []
   },
   "outputs": [
    {
     "name": "stdout",
     "output_type": "stream",
     "text": [
      "H\te\tl\tl\to\t"
     ]
    }
   ],
   "source": [
    "for i in \"Hello\":\n",
    "    print(i, end = \"\\t\")"
   ]
  },
  {
   "cell_type": "code",
   "execution_count": 192,
   "id": "94aa6fa2-0a9e-4f81-8efd-8e135147dfa3",
   "metadata": {
    "tags": []
   },
   "outputs": [
    {
     "ename": "SyntaxError",
     "evalue": "invalid syntax (2867384771.py, line 2)",
     "output_type": "error",
     "traceback": [
      "\u001b[1;36m  Cell \u001b[1;32mIn[192], line 2\u001b[1;36m\u001b[0m\n\u001b[1;33m    이름을 입력받아 합격이면 \"합격입니다\", \"불합격입니다\"\u001b[0m\n\u001b[1;37m        ^\u001b[0m\n\u001b[1;31mSyntaxError\u001b[0m\u001b[1;31m:\u001b[0m invalid syntax\n"
     ]
    }
   ],
   "source": [
    "\"철수\", \"영희\", \"길동\"\n",
    "이름을 입력받아 합격이면 \"합격입니다\", \"불합격입니다\""
   ]
  },
  {
   "cell_type": "code",
   "execution_count": 204,
   "id": "7ac75a78-577a-45c0-bb0f-a2a60b1b8498",
   "metadata": {
    "tags": []
   },
   "outputs": [
    {
     "name": "stdout",
     "output_type": "stream",
     "text": [
      "철수\n",
      "영희\n",
      "길동\n"
     ]
    }
   ],
   "source": [
    "names = [\"철수\", \"영희\", \"길동\"]\n",
    "for name in names:\n",
    "    print(name)\n"
   ]
  },
  {
   "cell_type": "code",
   "execution_count": 208,
   "id": "9e59da7b-3a62-4a20-bab2-f3c62c0dbfb5",
   "metadata": {
    "tags": []
   },
   "outputs": [
    {
     "name": "stdout",
     "output_type": "stream",
     "text": [
      "1\n",
      "2\n",
      "3\n",
      "4\n",
      "5\n",
      "6\n",
      "7\n",
      "8\n",
      "9\n",
      "10\n"
     ]
    }
   ],
   "source": [
    "for i in range(1,11):\n",
    "    print(i)"
   ]
  },
  {
   "cell_type": "markdown",
   "id": "f2106524-602e-4e12-badf-98750c3acb85",
   "metadata": {},
   "source": [
    "- shift + tab은 함수 설명 볼 때"
   ]
  },
  {
   "cell_type": "code",
   "execution_count": 209,
   "id": "15dfb801-c0ec-4ea4-ae0a-8077a75e5dd7",
   "metadata": {
    "tags": []
   },
   "outputs": [
    {
     "name": "stdout",
     "output_type": "stream",
     "text": [
      "1,2,3,4,5,6,7,8,9,10,11,12,13,14,15,16,17,18,19,20,21,22,23,24,25,26,27,28,29,30,31,32,33,34,35,36,37,38,39,40,41,42,43,44,45,46,47,48,49,50,51,52,53,54,55,56,57,58,59,60,61,62,63,64,65,66,67,68,69,70,71,72,73,74,75,76,77,78,79,80,81,82,83,84,85,86,87,88,89,90,91,92,93,94,95,96,97,98,99,100,"
     ]
    }
   ],
   "source": [
    "for i in range(1,101):\n",
    "    print(i, end=\",\")"
   ]
  },
  {
   "cell_type": "code",
   "execution_count": 212,
   "id": "c20dedbf-9c9f-47a1-a351-473098444a51",
   "metadata": {
    "tags": []
   },
   "outputs": [
    {
     "name": "stdout",
     "output_type": "stream",
     "text": [
      "1,4,7,10,13,16,19,22,25,28,31,34,37,40,43,46,49,52,55,58,61,64,67,70,73,76,79,82,85,88,91,94,97,100,"
     ]
    }
   ],
   "source": [
    "for i in range(1,101,3):\n",
    "    print(i, end=\",\")"
   ]
  },
  {
   "cell_type": "code",
   "execution_count": 213,
   "id": "0e57dfda-2fa4-4e6c-b71a-6e2c2e860d60",
   "metadata": {
    "tags": []
   },
   "outputs": [
    {
     "name": "stdout",
     "output_type": "stream",
     "text": [
      "1\n",
      "2\n",
      "3\n",
      "4\n",
      "5\n",
      "6\n",
      "7\n",
      "8\n",
      "9\n",
      "10\n"
     ]
    }
   ],
   "source": [
    "sum = 0\n",
    "for i in range(1,11):\n",
    "    print(i)\n",
    "    \n",
    "1 = 0+1\n",
    "3 = 1+2\n",
    "6=3+3\n",
    "10=6+4\n",
    "    \n",
    "sum_n+1 = sum_n +i\n",
    "sum = sum + i"
   ]
  },
  {
   "cell_type": "code",
   "execution_count": 216,
   "id": "674a6565-e7c8-468e-80ab-c9fae67221bd",
   "metadata": {
    "tags": []
   },
   "outputs": [
    {
     "data": {
      "text/plain": [
       "55"
      ]
     },
     "execution_count": 216,
     "metadata": {},
     "output_type": "execute_result"
    }
   ],
   "source": [
    "sum = 0\n",
    "for i in range(1,11):\n",
    "    sum = sum + i\n",
    "    # print(sum,\"      \",i)\n",
    "sum"
   ]
  },
  {
   "cell_type": "code",
   "execution_count": 221,
   "id": "98af9644-af85-434f-92bc-b247aef0b672",
   "metadata": {
    "tags": []
   },
   "outputs": [
    {
     "data": {
      "text/plain": [
       "250500"
      ]
     },
     "execution_count": 221,
     "metadata": {},
     "output_type": "execute_result"
    }
   ],
   "source": [
    "sum = 0\n",
    "for i in range(2,1001,2):\n",
    "    sum = sum + i\n",
    "sum"
   ]
  },
  {
   "cell_type": "code",
   "execution_count": 233,
   "id": "0a63570f-3e28-4615-ba90-27458ca33606",
   "metadata": {
    "collapsed": true,
    "jupyter": {
     "outputs_hidden": true
    },
    "tags": []
   },
   "outputs": [
    {
     "name": "stdout",
     "output_type": "stream",
     "text": [
      "2단입니다\n",
      "2X1=2\n",
      "2X2=4\n",
      "2X3=6\n",
      "2X4=8\n",
      "2X5=10\n",
      "2X6=12\n",
      "2X7=14\n",
      "2X8=16\n",
      "2X9=18\n",
      "\n",
      "3단입니다\n",
      "3X1=3\n",
      "3X2=6\n",
      "3X3=9\n",
      "3X4=12\n",
      "3X5=15\n",
      "3X6=18\n",
      "3X7=21\n",
      "3X8=24\n",
      "3X9=27\n",
      "\n",
      "4단입니다\n",
      "4X1=4\n",
      "4X2=8\n",
      "4X3=12\n",
      "4X4=16\n",
      "4X5=20\n",
      "4X6=24\n",
      "4X7=28\n",
      "4X8=32\n",
      "4X9=36\n",
      "\n",
      "5단입니다\n",
      "5X1=5\n",
      "5X2=10\n",
      "5X3=15\n",
      "5X4=20\n",
      "5X5=25\n",
      "5X6=30\n",
      "5X7=35\n",
      "5X8=40\n",
      "5X9=45\n",
      "\n",
      "6단입니다\n",
      "6X1=6\n",
      "6X2=12\n",
      "6X3=18\n",
      "6X4=24\n",
      "6X5=30\n",
      "6X6=36\n",
      "6X7=42\n",
      "6X8=48\n",
      "6X9=54\n",
      "\n",
      "7단입니다\n",
      "7X1=7\n",
      "7X2=14\n",
      "7X3=21\n",
      "7X4=28\n",
      "7X5=35\n",
      "7X6=42\n",
      "7X7=49\n",
      "7X8=56\n",
      "7X9=63\n",
      "\n",
      "8단입니다\n",
      "8X1=8\n",
      "8X2=16\n",
      "8X3=24\n",
      "8X4=32\n",
      "8X5=40\n",
      "8X6=48\n",
      "8X7=56\n",
      "8X8=64\n",
      "8X9=72\n",
      "\n",
      "9단입니다\n",
      "9X1=9\n",
      "9X2=18\n",
      "9X3=27\n",
      "9X4=36\n",
      "9X5=45\n",
      "9X6=54\n",
      "9X7=63\n",
      "9X8=72\n",
      "9X9=81\n",
      "\n"
     ]
    }
   ],
   "source": [
    "for i in range (2,10):\n",
    "    print(f\"{i}단입니다\")\n",
    "    for j in range(1, 10):\n",
    "        print(f\"{i}X{j}={i*j}\")\n",
    "    print()\n"
   ]
  },
  {
   "cell_type": "code",
   "execution_count": 247,
   "id": "a3f9aa6a-5bab-4c71-b87d-8ea4eb428e1f",
   "metadata": {
    "tags": []
   },
   "outputs": [
    {
     "name": "stdout",
     "output_type": "stream",
     "text": [
      "총합: 340\n",
      "평균: 85.0\n"
     ]
    }
   ],
   "source": [
    "scores = [70, 80, 90, 100]\n",
    "sum = 0\n",
    "for score in scores:\n",
    "    sum += score # 만큼씩\n",
    "print(f\"총합: {sum}\")\n",
    "print(f\"평균: {sum/len(scores)}\")\n",
    "\n"
   ]
  },
  {
   "cell_type": "code",
   "execution_count": 248,
   "id": "a62eec74-ef3d-4bcd-87e0-896a562c290d",
   "metadata": {
    "tags": []
   },
   "outputs": [
    {
     "data": {
      "text/plain": [
       "10"
      ]
     },
     "execution_count": 248,
     "metadata": {},
     "output_type": "execute_result"
    }
   ],
   "source": [
    "sum = 0\n",
    "for i in range(5):\n",
    "    sum += i\n",
    "sum"
   ]
  },
  {
   "cell_type": "code",
   "execution_count": 250,
   "id": "cef0f245-6964-4832-af74-ced072c7c131",
   "metadata": {
    "tags": []
   },
   "outputs": [
    {
     "data": {
      "text/plain": [
       "3628800"
      ]
     },
     "execution_count": 250,
     "metadata": {},
     "output_type": "execute_result"
    }
   ],
   "source": [
    "# 10! 구하기\n",
    "fac = 1 \n",
    "for i in range(1,11):\n",
    "    fac *= i\n",
    "fac"
   ]
  },
  {
   "cell_type": "code",
   "execution_count": 256,
   "id": "35459a8c-ea3e-4176-b959-f80db0d1fdf1",
   "metadata": {
    "tags": []
   },
   "outputs": [
    {
     "name": "stdout",
     "output_type": "stream",
     "text": [
      "2550\n"
     ]
    },
    {
     "data": {
      "text/plain": [
       "[2,\n",
       " 4,\n",
       " 6,\n",
       " 8,\n",
       " 10,\n",
       " 12,\n",
       " 14,\n",
       " 16,\n",
       " 18,\n",
       " 20,\n",
       " 22,\n",
       " 24,\n",
       " 26,\n",
       " 28,\n",
       " 30,\n",
       " 32,\n",
       " 34,\n",
       " 36,\n",
       " 38,\n",
       " 40,\n",
       " 42,\n",
       " 44,\n",
       " 46,\n",
       " 48,\n",
       " 50,\n",
       " 52,\n",
       " 54,\n",
       " 56,\n",
       " 58,\n",
       " 60,\n",
       " 62,\n",
       " 64,\n",
       " 66,\n",
       " 68,\n",
       " 70,\n",
       " 72,\n",
       " 74,\n",
       " 76,\n",
       " 78,\n",
       " 80,\n",
       " 82,\n",
       " 84,\n",
       " 86,\n",
       " 88,\n",
       " 90,\n",
       " 92,\n",
       " 94,\n",
       " 96,\n",
       " 98,\n",
       " 100]"
      ]
     },
     "execution_count": 256,
     "metadata": {},
     "output_type": "execute_result"
    }
   ],
   "source": [
    "li = []\n",
    "sum = 0\n",
    "for i in range(2,101):\n",
    "    if (i % 2 == 0):\n",
    "        li.append(i)\n",
    "        sum += i\n",
    "print(sum)\n",
    "\n",
    "        \n",
    "li"
   ]
  },
  {
   "cell_type": "code",
   "execution_count": 262,
   "id": "1a05ce90-2c0d-485f-8ab8-ff8b9c92cc2c",
   "metadata": {
    "tags": []
   },
   "outputs": [
    {
     "name": "stdout",
     "output_type": "stream",
     "text": [
      "2418\n"
     ]
    }
   ],
   "source": [
    "# 1~101의 모든 3의 배수 또는 5의 배수의 합은?\n",
    "sum = 0\n",
    "for i in range(1, 102):\n",
    "    if i % 3 == 0 or i % 5 == 0:\n",
    "        sum += i\n",
    "print(sum)"
   ]
  },
  {
   "cell_type": "code",
   "execution_count": 266,
   "id": "563a6340-f108-48ba-8b4d-30075f18acc3",
   "metadata": {
    "tags": []
   },
   "outputs": [
    {
     "name": "stdin",
     "output_type": "stream",
     "text": [
      "첫번째 수:  3\n",
      "두번째 수:  10\n"
     ]
    },
    {
     "data": {
      "text/plain": [
       "52"
      ]
     },
     "execution_count": 266,
     "metadata": {},
     "output_type": "execute_result"
    }
   ],
   "source": [
    "#입력받은 양 끝 포함, 두 수 사이의 모든 합은?\n",
    "a = int(input(\"첫번째 수: \")) \n",
    "b = int(input(\"두번째 수: \"))\n",
    "sum = 0\n",
    "for i in range(min(a, b+1), max(a, b+1)):\n",
    "    sum += i\n",
    "sum\n"
   ]
  },
  {
   "cell_type": "code",
   "execution_count": 275,
   "id": "e441ee72-956b-4cb4-a16c-ad4ca3487c19",
   "metadata": {
    "tags": []
   },
   "outputs": [
    {
     "data": {
      "text/plain": [
       "[0, 6, 12, 18, 24, 30]"
      ]
     },
     "execution_count": 275,
     "metadata": {},
     "output_type": "execute_result"
    }
   ],
   "source": [
    "a = [1,2,3,4]\n",
    "\n",
    "\n",
    "[i*3 for i in a]\n",
    "[i*3 for i in range(1,11)]\n",
    "[i*3 for i in range(11) if i % 2 == 0]"
   ]
  },
  {
   "cell_type": "code",
   "execution_count": 273,
   "id": "11f7f152-1bec-4305-a747-813a43b0b3ef",
   "metadata": {
    "tags": []
   },
   "outputs": [
    {
     "data": {
      "text/plain": [
       "[0, 6, 12, 18, 24, 30]"
      ]
     },
     "execution_count": 273,
     "metadata": {},
     "output_type": "execute_result"
    }
   ],
   "source": [
    "# if를 써서 짝수만 출력\n",
    "li = []\n",
    "for i in range(11):\n",
    "    if i % 2 == 0:\n",
    "        li.append(i*3)\n",
    "li\n",
    "    "
   ]
  },
  {
   "cell_type": "code",
   "execution_count": 278,
   "id": "902d7b6a-cc01-4158-8a7e-ae1a763ea59d",
   "metadata": {
    "tags": []
   },
   "outputs": [],
   "source": [
    "def add(a,b):\n",
    "    c = a + b\n",
    "    return(c)\n",
    "    "
   ]
  },
  {
   "cell_type": "code",
   "execution_count": 280,
   "id": "63b62676-4b07-4bd8-819b-29e6c5535efc",
   "metadata": {
    "tags": []
   },
   "outputs": [],
   "source": [
    "def add(a,b):\n",
    "    return a + b"
   ]
  },
  {
   "cell_type": "code",
   "execution_count": 281,
   "id": "141f52a7-bf36-43b3-9976-ccf4a9edcbf7",
   "metadata": {
    "tags": []
   },
   "outputs": [
    {
     "data": {
      "text/plain": [
       "3"
      ]
     },
     "execution_count": 281,
     "metadata": {},
     "output_type": "execute_result"
    }
   ],
   "source": [
    "add(1,2)"
   ]
  },
  {
   "cell_type": "code",
   "execution_count": 282,
   "id": "838e6bb3-ad62-45a3-a2b1-7577db8d67d6",
   "metadata": {
    "tags": []
   },
   "outputs": [
    {
     "ename": "TypeError",
     "evalue": "add() missing 1 required positional argument: 'b'",
     "output_type": "error",
     "traceback": [
      "\u001b[1;31m---------------------------------------------------------------------------\u001b[0m",
      "\u001b[1;31mTypeError\u001b[0m                                 Traceback (most recent call last)",
      "Cell \u001b[1;32mIn[282], line 1\u001b[0m\n\u001b[1;32m----> 1\u001b[0m \u001b[43madd\u001b[49m\u001b[43m(\u001b[49m\u001b[38;5;241;43m1\u001b[39;49m\u001b[43m)\u001b[49m\n",
      "\u001b[1;31mTypeError\u001b[0m: add() missing 1 required positional argument: 'b'"
     ]
    }
   ],
   "source": [
    "add(1)"
   ]
  },
  {
   "cell_type": "code",
   "execution_count": 283,
   "id": "a5201016-3b26-4c71-b3e0-1bc547c6825f",
   "metadata": {
    "tags": []
   },
   "outputs": [],
   "source": [
    "# 인수가 없는 경우\n",
    "def say():\n",
    "    print(\"Hello\")"
   ]
  },
  {
   "cell_type": "code",
   "execution_count": 284,
   "id": "fb7a94de-40d7-4df7-9237-ab1bfd8d2613",
   "metadata": {
    "tags": []
   },
   "outputs": [
    {
     "name": "stdout",
     "output_type": "stream",
     "text": [
      "Hello\n"
     ]
    }
   ],
   "source": [
    "say()"
   ]
  },
  {
   "cell_type": "code",
   "execution_count": 286,
   "id": "6adb2990-8055-4e6f-8cd2-65239ca621f2",
   "metadata": {
    "tags": []
   },
   "outputs": [],
   "source": [
    "def add(a,b):\n",
    "    print(a + b)\n",
    "#함수는 print보단 return을 쓰는게 좋다"
   ]
  },
  {
   "cell_type": "code",
   "execution_count": 287,
   "id": "e0b07ea0-dcc3-4976-a72c-b4249ce17c83",
   "metadata": {
    "tags": []
   },
   "outputs": [
    {
     "name": "stdout",
     "output_type": "stream",
     "text": [
      "3\n"
     ]
    }
   ],
   "source": [
    "add(1,2)"
   ]
  },
  {
   "cell_type": "code",
   "execution_count": 288,
   "id": "2ea7a5ca-6f5c-4634-bc50-9ead36b55260",
   "metadata": {
    "tags": []
   },
   "outputs": [],
   "source": [
    "def add_r(a, b):\n",
    "    return (a+b)"
   ]
  },
  {
   "cell_type": "code",
   "execution_count": 297,
   "id": "a0ace1d3-9cc2-495b-b253-4c276b8c86f3",
   "metadata": {
    "tags": []
   },
   "outputs": [],
   "source": [
    "def add_p(a,b):\n",
    "    print(a+b)"
   ]
  },
  {
   "cell_type": "code",
   "execution_count": 290,
   "id": "cae612da-0809-45cb-b9ca-43fb3e96c27b",
   "metadata": {
    "tags": []
   },
   "outputs": [
    {
     "data": {
      "text/plain": [
       "3"
      ]
     },
     "execution_count": 290,
     "metadata": {},
     "output_type": "execute_result"
    }
   ],
   "source": [
    "add_r(1,2)"
   ]
  },
  {
   "cell_type": "code",
   "execution_count": 291,
   "id": "33dffbc2-f209-42e8-a710-37c62da0ba7a",
   "metadata": {
    "tags": []
   },
   "outputs": [
    {
     "name": "stdout",
     "output_type": "stream",
     "text": [
      "3\n"
     ]
    }
   ],
   "source": [
    "add_p(1,2)"
   ]
  },
  {
   "cell_type": "code",
   "execution_count": 292,
   "id": "0fd4bc4f-eac1-4d65-9e27-44f4a8bb8185",
   "metadata": {
    "tags": []
   },
   "outputs": [
    {
     "data": {
      "text/plain": [
       "3"
      ]
     },
     "execution_count": 292,
     "metadata": {},
     "output_type": "execute_result"
    }
   ],
   "source": [
    "add_r(1,2)"
   ]
  },
  {
   "cell_type": "code",
   "execution_count": 299,
   "id": "89e296dc-780c-42e8-a835-6cab5a3cdaa7",
   "metadata": {
    "tags": []
   },
   "outputs": [
    {
     "data": {
      "text/plain": [
       "13"
      ]
     },
     "execution_count": 299,
     "metadata": {},
     "output_type": "execute_result"
    }
   ],
   "source": [
    "result1 = add_r(1,2)\n",
    "result1 + 10"
   ]
  },
  {
   "cell_type": "code",
   "execution_count": 300,
   "id": "4f2a9ee3-e8b6-4f2e-9871-a35d97f0cebc",
   "metadata": {
    "tags": []
   },
   "outputs": [
    {
     "name": "stdout",
     "output_type": "stream",
     "text": [
      "3\n"
     ]
    },
    {
     "ename": "TypeError",
     "evalue": "unsupported operand type(s) for +: 'NoneType' and 'int'",
     "output_type": "error",
     "traceback": [
      "\u001b[1;31m---------------------------------------------------------------------------\u001b[0m",
      "\u001b[1;31mTypeError\u001b[0m                                 Traceback (most recent call last)",
      "Cell \u001b[1;32mIn[300], line 2\u001b[0m\n\u001b[0;32m      1\u001b[0m result2 \u001b[38;5;241m=\u001b[39m add_p(\u001b[38;5;241m1\u001b[39m,\u001b[38;5;241m2\u001b[39m)\n\u001b[1;32m----> 2\u001b[0m \u001b[43mresult2\u001b[49m\u001b[43m \u001b[49m\u001b[38;5;241;43m+\u001b[39;49m\u001b[43m \u001b[49m\u001b[38;5;241;43m10\u001b[39;49m\n",
      "\u001b[1;31mTypeError\u001b[0m: unsupported operand type(s) for +: 'NoneType' and 'int'"
     ]
    }
   ],
   "source": [
    "result2 = add_p(1,2)\n",
    "result2 + 10"
   ]
  },
  {
   "cell_type": "code",
   "execution_count": 302,
   "id": "04b2f8d7-7278-4c34-a2d0-85a069115cc5",
   "metadata": {
    "tags": []
   },
   "outputs": [],
   "source": [
    "result2"
   ]
  },
  {
   "cell_type": "code",
   "execution_count": 312,
   "id": "3639814e-68d1-450a-9948-bde9715b3872",
   "metadata": {
    "tags": []
   },
   "outputs": [],
   "source": [
    "def multiply(a=2, b=3):\n",
    "    result = a*b\n",
    "    return result"
   ]
  },
  {
   "cell_type": "code",
   "execution_count": 310,
   "id": "48e755b3-3f57-4115-8342-d99798dea26d",
   "metadata": {
    "tags": []
   },
   "outputs": [
    {
     "data": {
      "text/plain": [
       "6"
      ]
     },
     "execution_count": 310,
     "metadata": {},
     "output_type": "execute_result"
    }
   ],
   "source": [
    "multiply(2)"
   ]
  },
  {
   "cell_type": "code",
   "execution_count": 313,
   "id": "a25a7934-d25a-42d6-9b8b-61e1ea2ffbbf",
   "metadata": {
    "tags": []
   },
   "outputs": [
    {
     "data": {
      "text/plain": [
       "6"
      ]
     },
     "execution_count": 313,
     "metadata": {},
     "output_type": "execute_result"
    }
   ],
   "source": [
    "multiply()"
   ]
  },
  {
   "cell_type": "code",
   "execution_count": 319,
   "id": "15898358-7480-4669-98e2-0db93f5a029b",
   "metadata": {
    "tags": []
   },
   "outputs": [],
   "source": [
    "def is_even(num):\n",
    "    if num % 2 == 0:\n",
    "        return \"짝수입니다.\"\n",
    "    else:\n",
    "        return\"홀수입니다.\""
   ]
  },
  {
   "cell_type": "code",
   "execution_count": 315,
   "id": "e7f388eb-835c-4a11-a3a4-fec413510319",
   "metadata": {
    "tags": []
   },
   "outputs": [
    {
     "data": {
      "text/plain": [
       "'홀수입니다.'"
      ]
     },
     "execution_count": 315,
     "metadata": {},
     "output_type": "execute_result"
    }
   ],
   "source": [
    "is_even(3)"
   ]
  },
  {
   "cell_type": "code",
   "execution_count": 316,
   "id": "05f8c15a-f573-4c29-ac90-199a22444981",
   "metadata": {
    "tags": []
   },
   "outputs": [
    {
     "data": {
      "text/plain": [
       "'짝수입니다.'"
      ]
     },
     "execution_count": 316,
     "metadata": {},
     "output_type": "execute_result"
    }
   ],
   "source": [
    "is_even(2)"
   ]
  },
  {
   "cell_type": "code",
   "execution_count": 318,
   "id": "bdb689fe-ce84-4f1c-a708-05fb44b1e4c3",
   "metadata": {
    "tags": []
   },
   "outputs": [
    {
     "data": {
      "text/plain": [
       "'홀수입니다.'"
      ]
     },
     "execution_count": 318,
     "metadata": {},
     "output_type": "execute_result"
    }
   ],
   "source": [
    "is_even(5)"
   ]
  },
  {
   "cell_type": "code",
   "execution_count": 320,
   "id": "18bc6a93-919a-45dc-9e23-33a13566f8fd",
   "metadata": {
    "tags": []
   },
   "outputs": [],
   "source": [
    "def my_sum(num):\n",
    "    sum = 0\n",
    "    for i in range(1,num+1):\n",
    "        sum += i\n",
    "    return sum"
   ]
  },
  {
   "cell_type": "code",
   "execution_count": 321,
   "id": "9a6ceb51-8f8b-4e84-9d69-837748c4039d",
   "metadata": {
    "tags": []
   },
   "outputs": [
    {
     "data": {
      "text/plain": [
       "55"
      ]
     },
     "execution_count": 321,
     "metadata": {},
     "output_type": "execute_result"
    }
   ],
   "source": [
    "my_sum(10)"
   ]
  },
  {
   "cell_type": "code",
   "execution_count": 322,
   "id": "3a32f2bf-0969-4972-9c0d-73d4dd56a932",
   "metadata": {
    "tags": []
   },
   "outputs": [
    {
     "data": {
      "text/plain": [
       "5050"
      ]
     },
     "execution_count": 322,
     "metadata": {},
     "output_type": "execute_result"
    }
   ],
   "source": [
    "my_sum(100)"
   ]
  },
  {
   "cell_type": "code",
   "execution_count": 323,
   "id": "f686f51a-4a7b-4205-9c7e-dbaeb0606f1f",
   "metadata": {
    "tags": []
   },
   "outputs": [],
   "source": [
    "def my_sum(num1, num2):\n",
    "    sum = 0\n",
    "    for i in range(min(num1,num2), max(num1,num2)+1):\n",
    "        sum += i\n",
    "    return sum"
   ]
  },
  {
   "cell_type": "code",
   "execution_count": 324,
   "id": "882f9d00-16c6-4883-8b8a-d0000f9f5d5f",
   "metadata": {
    "tags": []
   },
   "outputs": [
    {
     "data": {
      "text/plain": [
       "5050"
      ]
     },
     "execution_count": 324,
     "metadata": {},
     "output_type": "execute_result"
    }
   ],
   "source": [
    "my_sum(1,100)"
   ]
  },
  {
   "cell_type": "code",
   "execution_count": 325,
   "id": "a0ddd53c-efa0-464a-8bed-36858fe87c2c",
   "metadata": {
    "tags": []
   },
   "outputs": [
    {
     "data": {
      "text/plain": [
       "55"
      ]
     },
     "execution_count": 325,
     "metadata": {},
     "output_type": "execute_result"
    }
   ],
   "source": [
    "my_sum(1,10)"
   ]
  },
  {
   "cell_type": "code",
   "execution_count": 326,
   "id": "78fb09af-2250-4d01-bd1a-0a057e3176eb",
   "metadata": {
    "tags": []
   },
   "outputs": [],
   "source": [
    "def my_sum(a,b):\n",
    "    sum = 0\n",
    "    \n",
    "    if a > b:\n",
    "        a,b = b,a\n",
    "    \n",
    "    for i in range(a, b+1):\n",
    "        sum += i\n",
    "        \n",
    "    return sum"
   ]
  },
  {
   "cell_type": "code",
   "execution_count": 327,
   "id": "c0b5b153-a534-4a02-a0e5-3798d99027ce",
   "metadata": {
    "tags": []
   },
   "outputs": [
    {
     "data": {
      "text/plain": [
       "6"
      ]
     },
     "execution_count": 327,
     "metadata": {},
     "output_type": "execute_result"
    }
   ],
   "source": [
    "my_sum(1,3)"
   ]
  },
  {
   "cell_type": "code",
   "execution_count": 329,
   "id": "d4a5014c-bcf2-41fd-816f-d961af87786d",
   "metadata": {
    "tags": []
   },
   "outputs": [],
   "source": [
    "# 이름, 나이, 국적에서 국적의 기본값은 \"Korea\"인 함수\n",
    "\n",
    "\"00의 나이는 00이고 국적은 00입니다\"\n",
    "\n",
    "def who(name, age, nation=\"Korea\"):\n",
    "    return f\"{name}의 나이는 {age}이고 국적은 {nation}입니다.\""
   ]
  },
  {
   "cell_type": "code",
   "execution_count": 331,
   "id": "6aadc8c9-7ebd-4d5b-b048-59b439094cb7",
   "metadata": {
    "tags": []
   },
   "outputs": [
    {
     "data": {
      "text/plain": [
       "'재은의 나이는 26이고 국적은 Korea입니다.'"
      ]
     },
     "execution_count": 331,
     "metadata": {},
     "output_type": "execute_result"
    }
   ],
   "source": [
    "who(\"재은\", 26)"
   ]
  },
  {
   "cell_type": "code",
   "execution_count": null,
   "id": "73b34885-8e12-4f47-a071-a6ce7a828c5c",
   "metadata": {},
   "outputs": [],
   "source": []
  }
 ],
 "metadata": {
  "kernelspec": {
   "display_name": "Python 3 (ipykernel)",
   "language": "python",
   "name": "python3"
  },
  "language_info": {
   "codemirror_mode": {
    "name": "ipython",
    "version": 3
   },
   "file_extension": ".py",
   "mimetype": "text/x-python",
   "name": "python",
   "nbconvert_exporter": "python",
   "pygments_lexer": "ipython3",
   "version": "3.10.9"
  }
 },
 "nbformat": 4,
 "nbformat_minor": 5
}
