{
 "cells": [
  {
   "cell_type": "markdown",
   "id": "073b8944-e738-4aaf-a69c-6d9eca952486",
   "metadata": {},
   "source": [
    "# 복습"
   ]
  },
  {
   "cell_type": "code",
   "execution_count": 2,
   "id": "7bba4e29-5575-44f7-8c7b-9942e50cefba",
   "metadata": {
    "tags": []
   },
   "outputs": [
    {
     "data": {
      "text/plain": [
       "[5, 2, 1]"
      ]
     },
     "execution_count": 2,
     "metadata": {},
     "output_type": "execute_result"
    }
   ],
   "source": [
    "li = [5,-1,2,0,-2,1]\n",
    "def positive(x):\n",
    "    return x >0\n",
    "list(filter(positive, li))"
   ]
  },
  {
   "cell_type": "code",
   "execution_count": 3,
   "id": "09d0a4b4-0438-4cb9-84f2-6e5c899e00c7",
   "metadata": {
    "tags": []
   },
   "outputs": [
    {
     "data": {
      "text/plain": [
       "[5, 2, 1]"
      ]
     },
     "execution_count": 3,
     "metadata": {},
     "output_type": "execute_result"
    }
   ],
   "source": [
    "list(filter(lambda x : x>0, li))"
   ]
  },
  {
   "cell_type": "code",
   "execution_count": 4,
   "id": "b262eb3b-44a3-48cb-a745-11416056f34e",
   "metadata": {
    "tags": []
   },
   "outputs": [],
   "source": [
    "strings = ['passion', 'pain', 'grammar', 'communication', 'hit'] "
   ]
  },
  {
   "cell_type": "code",
   "execution_count": 8,
   "id": "7915a604-f1e1-434c-9f53-ae8096f37dc9",
   "metadata": {
    "tags": []
   },
   "outputs": [
    {
     "data": {
      "text/plain": [
       "['communication']"
      ]
     },
     "execution_count": 8,
     "metadata": {},
     "output_type": "execute_result"
    }
   ],
   "source": [
    "list(filter(lambda x: x.count('m')==2 and len(x) >= 8, strings))"
   ]
  },
  {
   "cell_type": "code",
   "execution_count": 12,
   "id": "1caa50f5-a72a-4ebf-b937-331884fb7f3f",
   "metadata": {
    "tags": []
   },
   "outputs": [],
   "source": [
    "strings = ['passion', 'pain', 'grammar', 'communication', 'hit'] \n"
   ]
  },
  {
   "cell_type": "code",
   "execution_count": 14,
   "id": "548591ad-679f-42bd-a0ab-6652e4a67551",
   "metadata": {
    "tags": []
   },
   "outputs": [
    {
     "data": {
      "text/plain": [
       "[7, 4, 7, 13, 3]"
      ]
     },
     "execution_count": 14,
     "metadata": {},
     "output_type": "execute_result"
    }
   ],
   "source": [
    "list(map(lambda x: len(x), strings)) #map은 각각의 함수에 적용"
   ]
  },
  {
   "cell_type": "code",
   "execution_count": 15,
   "id": "79f6ba7e-ea14-480e-bbf3-d9fe7276668a",
   "metadata": {
    "tags": []
   },
   "outputs": [
    {
     "data": {
      "text/plain": [
       "(enumerate, filter, map, zip)"
      ]
     },
     "execution_count": 15,
     "metadata": {},
     "output_type": "execute_result"
    }
   ],
   "source": [
    "# 중요한 내부함수 4가지는?\n",
    "enumerate, filter, map, zip"
   ]
  },
  {
   "cell_type": "code",
   "execution_count": 16,
   "id": "9a5bf92f-1eb4-4a52-9ac1-4958afd39846",
   "metadata": {
    "tags": []
   },
   "outputs": [
    {
     "ename": "RuntimeError",
     "evalue": "super(): no arguments",
     "output_type": "error",
     "traceback": [
      "\u001b[1;31m---------------------------------------------------------------------------\u001b[0m",
      "\u001b[1;31mRuntimeError\u001b[0m                              Traceback (most recent call last)",
      "Cell \u001b[1;32mIn[16], line 1\u001b[0m\n\u001b[1;32m----> 1\u001b[0m \u001b[38;5;28;43msuper\u001b[39;49m\u001b[43m(\u001b[49m\u001b[43m)\u001b[49m\u001b[38;5;241m.\u001b[39minit()\n",
      "\u001b[1;31mRuntimeError\u001b[0m: super(): no arguments"
     ]
    }
   ],
   "source": [
    "super().init()"
   ]
  },
  {
   "cell_type": "code",
   "execution_count": 28,
   "id": "b64ed6fe-42cb-47a4-bfa5-3c1a92b6ab29",
   "metadata": {
    "tags": []
   },
   "outputs": [
    {
     "data": {
      "text/plain": [
       "[5, 10, 15, 20, 25, 30, 35, 40, 45, 50]"
      ]
     },
     "execution_count": 28,
     "metadata": {},
     "output_type": "execute_result"
    }
   ],
   "source": [
    "li1 = list(range(1,11))\n",
    "li2 = list(range(5,55 ,5))\n",
    "li2"
   ]
  },
  {
   "cell_type": "code",
   "execution_count": 31,
   "id": "c4b8a90e-1f91-4983-a404-38ad2476f8ac",
   "metadata": {
    "tags": []
   },
   "outputs": [
    {
     "name": "stdout",
     "output_type": "stream",
     "text": [
      "1 5\n",
      "2 10\n",
      "3 15\n",
      "4 20\n",
      "5 25\n",
      "6 30\n",
      "7 35\n",
      "8 40\n",
      "9 45\n",
      "10 50\n"
     ]
    }
   ],
   "source": [
    "for i, name in enumerate(li2):\n",
    "    print(i+1, name)"
   ]
  },
  {
   "cell_type": "code",
   "execution_count": 33,
   "id": "97d52cf0-26b1-47a4-b800-af3bab2dfc0e",
   "metadata": {
    "tags": []
   },
   "outputs": [
    {
     "data": {
      "text/plain": [
       "[3, 6, 9]"
      ]
     },
     "execution_count": 33,
     "metadata": {},
     "output_type": "execute_result"
    }
   ],
   "source": [
    "#li1 에서 3의 배수 고르시오\n",
    "list(filter(lambda x: x%3 ==0 ,li1 ))"
   ]
  },
  {
   "cell_type": "code",
   "execution_count": 35,
   "id": "b7f56ab2-fac2-48b5-9401-f2b2c40fcbaa",
   "metadata": {
    "tags": []
   },
   "outputs": [
    {
     "ename": "ValueError",
     "evalue": "too many values to unpack (expected 2)",
     "output_type": "error",
     "traceback": [
      "\u001b[1;31m---------------------------------------------------------------------------\u001b[0m",
      "\u001b[1;31mValueError\u001b[0m                                Traceback (most recent call last)",
      "Cell \u001b[1;32mIn[35], line 3\u001b[0m\n\u001b[0;32m      1\u001b[0m \u001b[38;5;66;03m#li와 li2의 같은 위치의 숫자들의 합을 리스트로 구하시오.\u001b[39;00m\n\u001b[0;32m      2\u001b[0m \u001b[38;5;28mlist\u001b[39m(\u001b[38;5;28mmap\u001b[39m(\u001b[38;5;28;01mlambda\u001b[39;00m x,y: x \u001b[38;5;241m+\u001b[39m y, li1, li2))\n\u001b[1;32m----> 3\u001b[0m \u001b[38;5;28;01mfor\u001b[39;00m i,j \u001b[38;5;129;01min\u001b[39;00m li1,li2:\n\u001b[0;32m      4\u001b[0m     \u001b[38;5;28mprint\u001b[39m(i \u001b[38;5;241m+\u001b[39m j)\n",
      "\u001b[1;31mValueError\u001b[0m: too many values to unpack (expected 2)"
     ]
    }
   ],
   "source": [
    "#li와 li2의 같은 위치의 숫자들의 합을 리스트로 구하시오.\n",
    "list(map(lambda x,y: x + y, li1, li2))\n",
    "\n"
   ]
  },
  {
   "cell_type": "code",
   "execution_count": 36,
   "id": "cefd68f6-177e-4823-ae60-fcf0c05ba6a9",
   "metadata": {
    "tags": []
   },
   "outputs": [
    {
     "data": {
      "text/plain": [
       "[6, 12, 18, 24, 30, 36, 42, 48, 54, 60]"
      ]
     },
     "execution_count": 36,
     "metadata": {},
     "output_type": "execute_result"
    }
   ],
   "source": [
    "result = []\n",
    "for i in range(10):\n",
    "    result.append(li1[i] + li2[i])\n",
    "result "
   ]
  },
  {
   "cell_type": "code",
   "execution_count": 38,
   "id": "b97fff1f-3599-4e50-9da3-45539e223aa5",
   "metadata": {
    "tags": []
   },
   "outputs": [
    {
     "name": "stdout",
     "output_type": "stream",
     "text": [
      "6\n",
      "12\n",
      "18\n",
      "24\n",
      "30\n",
      "36\n",
      "42\n",
      "48\n",
      "54\n",
      "60\n"
     ]
    }
   ],
   "source": [
    "for (i,j) in zip(li1, li2): print(i+j)"
   ]
  },
  {
   "cell_type": "code",
   "execution_count": 52,
   "id": "9355ed2f-bb55-4249-a1be-504167d42055",
   "metadata": {
    "tags": []
   },
   "outputs": [
    {
     "ename": "TypeError",
     "evalue": "New.__init__() missing 2 required positional arguments: 'genre' and 'income'",
     "output_type": "error",
     "traceback": [
      "\u001b[1;31m---------------------------------------------------------------------------\u001b[0m",
      "\u001b[1;31mTypeError\u001b[0m                                 Traceback (most recent call last)",
      "Cell \u001b[1;32mIn[52], line 1\u001b[0m\n\u001b[1;32m----> 1\u001b[0m p1 \u001b[38;5;241m=\u001b[39m \u001b[43mNew\u001b[49m\u001b[43m(\u001b[49m\u001b[38;5;124;43m\"\u001b[39;49m\u001b[38;5;124;43msimono\u001b[39;49m\u001b[38;5;124;43m\"\u001b[39;49m\u001b[43m,\u001b[49m\u001b[43m \u001b[49m\u001b[38;5;124;43m\"\u001b[39;49m\u001b[38;5;124;43mwarm\u001b[39;49m\u001b[38;5;124;43m\"\u001b[39;49m\u001b[43m,\u001b[49m\u001b[43m \u001b[49m\u001b[38;5;124;43m\"\u001b[39;49m\u001b[38;5;124;43mmystery\u001b[39;49m\u001b[38;5;124;43m\"\u001b[39;49m\u001b[43m,\u001b[49m\u001b[43m \u001b[49m\u001b[38;5;241;43m100\u001b[39;49m\u001b[43m)\u001b[49m\n\u001b[0;32m      2\u001b[0m \u001b[38;5;28mprint\u001b[39m(\n\u001b[0;32m      3\u001b[0m p1\u001b[38;5;241m.\u001b[39mcountry\n\u001b[0;32m      4\u001b[0m , p1\u001b[38;5;241m.\u001b[39mgame_name, \n\u001b[0;32m      5\u001b[0m p1\u001b[38;5;241m.\u001b[39mceo\n\u001b[0;32m      6\u001b[0m , p1\u001b[38;5;241m.\u001b[39mincome) \n",
      "\u001b[1;31mTypeError\u001b[0m: New.__init__() missing 2 required positional arguments: 'genre' and 'income'"
     ]
    }
   ],
   "source": [
    "p1 = New(\"simono\", \"warm\", \"mystery\", 100)\n",
    "print(\n",
    "p1.country\n",
    ", p1.game_name, \n",
    "p1.ceo\n",
    ", p1.income) "
   ]
  },
  {
   "cell_type": "code",
   "execution_count": 54,
   "id": "bf14f168-ac92-4b0b-b575-83d47e1ce628",
   "metadata": {
    "tags": []
   },
   "outputs": [
    {
     "name": "stdout",
     "output_type": "stream",
     "text": [
      "Japan simono Shigeru Miyamoto 100\n"
     ]
    }
   ],
   "source": [
    "class Nintendo:\n",
    "    def __init__(self,name, character):\n",
    "        self.country='Japan'\n",
    "        self.game_name=name\n",
    "        self.character=character\n",
    "       \n",
    "class New(Nintendo):\n",
    "    def __init__(self,name,character,genre,income):\n",
    "        super().__init__(name,character)\n",
    "        self.ceo='Shigeru Miyamoto'\n",
    "        self.genre=genre\n",
    "        self.income=income \n",
    "        \n",
    "p1 = New(\"simono\", \"warm\", \"mystery\", 100)\n",
    "print(p1.country, p1.game_name, p1.ceo, p1.income)\n"
   ]
  },
  {
   "cell_type": "code",
   "execution_count": 55,
   "id": "4960e70a-d45b-4af5-978a-c5773e0b8ed3",
   "metadata": {
    "tags": []
   },
   "outputs": [],
   "source": [
    "# 클래스로 만든 객체의 객체변수는 다른 객체의 객체변수에 상관없이 \"독립적인\" 값을 유지한다."
   ]
  },
  {
   "cell_type": "code",
   "execution_count": 56,
   "id": "10e98352-2efb-4517-8360-bcd62d41c3e1",
   "metadata": {
    "tags": []
   },
   "outputs": [],
   "source": [
    "# 오버라이딩이란?\n"
   ]
  },
  {
   "cell_type": "markdown",
   "id": "b991372b-e5ff-4ad3-ab92-85557606de0c",
   "metadata": {},
   "source": [
    "# 수업"
   ]
  },
  {
   "cell_type": "markdown",
   "id": "4f6e493e-1af2-40ca-891f-e94bc2fec674",
   "metadata": {},
   "source": [
    "## pickle"
   ]
  },
  {
   "cell_type": "code",
   "execution_count": 57,
   "id": "ff71fd66-cf48-49be-bc15-df5ae5e2aeda",
   "metadata": {
    "tags": []
   },
   "outputs": [],
   "source": [
    "import pickle"
   ]
  },
  {
   "cell_type": "code",
   "execution_count": 61,
   "id": "ac579c04-84e1-49a1-896e-6d4f0bac2d66",
   "metadata": {
    "tags": []
   },
   "outputs": [],
   "source": [
    "import os"
   ]
  },
  {
   "cell_type": "code",
   "execution_count": 62,
   "id": "a40158d8-3826-46a3-a8c4-b17e2b2d1628",
   "metadata": {
    "tags": []
   },
   "outputs": [
    {
     "data": {
      "text/plain": [
       "'C:\\\\Users\\\\user\\\\New'"
      ]
     },
     "execution_count": 62,
     "metadata": {},
     "output_type": "execute_result"
    }
   ],
   "source": [
    "os.getcwd()"
   ]
  },
  {
   "cell_type": "code",
   "execution_count": 78,
   "id": "b98a727f-d206-422a-b0cf-5643f1f57e37",
   "metadata": {
    "tags": []
   },
   "outputs": [
    {
     "ename": "ValueError",
     "evalue": "binary mode doesn't take an encoding argument",
     "output_type": "error",
     "traceback": [
      "\u001b[1;31m---------------------------------------------------------------------------\u001b[0m",
      "\u001b[1;31mValueError\u001b[0m                                Traceback (most recent call last)",
      "Cell \u001b[1;32mIn[78], line 2\u001b[0m\n\u001b[0;32m      1\u001b[0m my_list \u001b[38;5;241m=\u001b[39m [\u001b[38;5;124m\"\u001b[39m\u001b[38;5;124ma\u001b[39m\u001b[38;5;124m\"\u001b[39m, \u001b[38;5;124m\"\u001b[39m\u001b[38;5;124mb\u001b[39m\u001b[38;5;124m\"\u001b[39m, \u001b[38;5;124m\"\u001b[39m\u001b[38;5;124mc\u001b[39m\u001b[38;5;124m\"\u001b[39m]\n\u001b[1;32m----> 2\u001b[0m \u001b[38;5;28;01mwith\u001b[39;00m \u001b[38;5;28;43mopen\u001b[39;49m\u001b[43m(\u001b[49m\u001b[38;5;124;43m\"\u001b[39;49m\u001b[38;5;124;43mdata.pickle\u001b[39;49m\u001b[38;5;124;43m\"\u001b[39;49m\u001b[43m,\u001b[49m\u001b[43m \u001b[49m\u001b[38;5;124;43m\"\u001b[39;49m\u001b[38;5;124;43mwb\u001b[39;49m\u001b[38;5;124;43m\"\u001b[39;49m\u001b[43m,\u001b[49m\u001b[43m \u001b[49m\u001b[43mencoding\u001b[49m\u001b[43m \u001b[49m\u001b[38;5;241;43m=\u001b[39;49m\u001b[43m \u001b[49m\u001b[38;5;124;43m'\u001b[39;49m\u001b[38;5;124;43mUTF-8\u001b[39;49m\u001b[38;5;124;43m'\u001b[39;49m\u001b[43m)\u001b[49m \u001b[38;5;28;01mas\u001b[39;00m f:\n\u001b[0;32m      3\u001b[0m     pickle\u001b[38;5;241m.\u001b[39mdump(my_list, f)\n",
      "File \u001b[1;32m~\\AppData\\Local\\Programs\\Python\\Python310\\lib\\site-packages\\IPython\\core\\interactiveshell.py:282\u001b[0m, in \u001b[0;36m_modified_open\u001b[1;34m(file, *args, **kwargs)\u001b[0m\n\u001b[0;32m    275\u001b[0m \u001b[38;5;28;01mif\u001b[39;00m file \u001b[38;5;129;01min\u001b[39;00m {\u001b[38;5;241m0\u001b[39m, \u001b[38;5;241m1\u001b[39m, \u001b[38;5;241m2\u001b[39m}:\n\u001b[0;32m    276\u001b[0m     \u001b[38;5;28;01mraise\u001b[39;00m \u001b[38;5;167;01mValueError\u001b[39;00m(\n\u001b[0;32m    277\u001b[0m         \u001b[38;5;124mf\u001b[39m\u001b[38;5;124m\"\u001b[39m\u001b[38;5;124mIPython won\u001b[39m\u001b[38;5;124m'\u001b[39m\u001b[38;5;124mt let you open fd=\u001b[39m\u001b[38;5;132;01m{\u001b[39;00mfile\u001b[38;5;132;01m}\u001b[39;00m\u001b[38;5;124m by default \u001b[39m\u001b[38;5;124m\"\u001b[39m\n\u001b[0;32m    278\u001b[0m         \u001b[38;5;124m\"\u001b[39m\u001b[38;5;124mas it is likely to crash IPython. If you know what you are doing, \u001b[39m\u001b[38;5;124m\"\u001b[39m\n\u001b[0;32m    279\u001b[0m         \u001b[38;5;124m\"\u001b[39m\u001b[38;5;124myou can use builtins\u001b[39m\u001b[38;5;124m'\u001b[39m\u001b[38;5;124m open.\u001b[39m\u001b[38;5;124m\"\u001b[39m\n\u001b[0;32m    280\u001b[0m     )\n\u001b[1;32m--> 282\u001b[0m \u001b[38;5;28;01mreturn\u001b[39;00m io_open(file, \u001b[38;5;241m*\u001b[39margs, \u001b[38;5;241m*\u001b[39m\u001b[38;5;241m*\u001b[39mkwargs)\n",
      "\u001b[1;31mValueError\u001b[0m: binary mode doesn't take an encoding argument"
     ]
    }
   ],
   "source": [
    "my_list = [\"a\", \"b\", \"c\"]\n",
    "with open(\"data.pickle\", \"wb\") as f:\n",
    "    pickle.dump(my_list, f)"
   ]
  },
  {
   "cell_type": "code",
   "execution_count": 64,
   "id": "d3969b2b-4b59-4dc3-9de7-6ae97d5cd297",
   "metadata": {
    "tags": []
   },
   "outputs": [],
   "source": [
    "with open(\"data.pickle\", 'rb') as f:\n",
    "    data = pickle.load(f)"
   ]
  },
  {
   "cell_type": "code",
   "execution_count": 65,
   "id": "f654712f-8ba6-451d-8ba5-e28abb87bbd8",
   "metadata": {
    "tags": []
   },
   "outputs": [
    {
     "name": "stdout",
     "output_type": "stream",
     "text": [
      "['a', 'b', 'c']\n"
     ]
    }
   ],
   "source": [
    "print(data)"
   ]
  },
  {
   "cell_type": "markdown",
   "id": "a696ac39-7e11-41c5-9811-c46cce9ba5b3",
   "metadata": {},
   "source": [
    "## Shutil"
   ]
  },
  {
   "cell_type": "code",
   "execution_count": 69,
   "id": "2e70e496-82d0-4410-bd85-db9ee5cdb6d1",
   "metadata": {
    "tags": []
   },
   "outputs": [],
   "source": [
    "import shutil"
   ]
  },
  {
   "cell_type": "code",
   "execution_count": 77,
   "id": "2cafce67-9e61-449f-b02d-054d5aad1ca8",
   "metadata": {
    "tags": []
   },
   "outputs": [
    {
     "data": {
      "text/plain": [
       "'./data1.pickle'"
      ]
     },
     "execution_count": 77,
     "metadata": {},
     "output_type": "execute_result"
    }
   ],
   "source": [
    "shutil.copy(\"data.pickle\", \"./data1.pickle\")"
   ]
  },
  {
   "cell_type": "markdown",
   "id": "0372388b-6292-4eba-b8b9-9d859d89f8b9",
   "metadata": {},
   "source": [
    "## glob"
   ]
  },
  {
   "cell_type": "code",
   "execution_count": 80,
   "id": "bbb2c55e-4326-4724-b102-b8a4af9a01bd",
   "metadata": {
    "tags": []
   },
   "outputs": [],
   "source": [
    "import glob"
   ]
  },
  {
   "cell_type": "code",
   "execution_count": 87,
   "id": "b3719754-559b-4b8c-8835-1573b4e8afb4",
   "metadata": {
    "tags": []
   },
   "outputs": [
    {
     "data": {
      "text/plain": [
       "['C:/Users/user/new\\\\0309review.ipynb',\n",
       " 'C:/Users/user/new\\\\0310review.ipynb',\n",
       " 'C:/Users/user/new\\\\0315문제생성.ipynb',\n",
       " 'C:/Users/user/new\\\\0316문제생성.ipynb',\n",
       " 'C:/Users/user/new\\\\23-03-09.ipynb',\n",
       " 'C:/Users/user/new\\\\23-03-10.ipynb',\n",
       " 'C:/Users/user/new\\\\23-03-13.ipynb',\n",
       " 'C:/Users/user/new\\\\23-03-14.ipynb',\n",
       " 'C:/Users/user/new\\\\23-03-16.ipynb',\n",
       " 'C:/Users/user/new\\\\23-03-17.ipynb',\n",
       " 'C:/Users/user/new\\\\23_03_15.ipynb',\n",
       " 'C:/Users/user/new\\\\4장 연습문제.ipynb',\n",
       " 'C:/Users/user/new\\\\5장 연습문제.ipynb',\n",
       " 'C:/Users/user/new\\\\haha.ipynb',\n",
       " 'C:/Users/user/new\\\\inheritance.ipynb',\n",
       " 'C:/Users/user/new\\\\Untitled.ipynb',\n",
       " 'C:/Users/user/new\\\\문제.ipynb']"
      ]
     },
     "execution_count": 87,
     "metadata": {},
     "output_type": "execute_result"
    }
   ],
   "source": [
    "glob.glob(\"C:/Users/user/new/*.ipynb\")"
   ]
  },
  {
   "cell_type": "code",
   "execution_count": 88,
   "id": "89930d99-4c78-4d5a-bdc2-78a96fa2b53c",
   "metadata": {
    "tags": []
   },
   "outputs": [],
   "source": [
    "import time"
   ]
  },
  {
   "cell_type": "code",
   "execution_count": 89,
   "id": "a515fe97-71b3-49de-a1c3-c18251a47d0b",
   "metadata": {
    "tags": []
   },
   "outputs": [],
   "source": [
    "import datetime"
   ]
  },
  {
   "cell_type": "code",
   "execution_count": 90,
   "id": "0a798b28-5e17-49f9-93ce-ee017e8334c8",
   "metadata": {
    "tags": []
   },
   "outputs": [
    {
     "data": {
      "text/plain": [
       "1679016591.3015966"
      ]
     },
     "execution_count": 90,
     "metadata": {},
     "output_type": "execute_result"
    }
   ],
   "source": [
    "time.time()"
   ]
  },
  {
   "cell_type": "code",
   "execution_count": 92,
   "id": "0c74ac04-0f5a-49f9-95aa-630828875c02",
   "metadata": {
    "tags": []
   },
   "outputs": [
    {
     "ename": "NameError",
     "evalue": "name 'UTC' is not defined",
     "output_type": "error",
     "traceback": [
      "\u001b[1;31m---------------------------------------------------------------------------\u001b[0m",
      "\u001b[1;31mNameError\u001b[0m                                 Traceback (most recent call last)",
      "Cell \u001b[1;32mIn[92], line 1\u001b[0m\n\u001b[1;32m----> 1\u001b[0m \u001b[43mUTC\u001b[49m\n",
      "\u001b[1;31mNameError\u001b[0m: name 'UTC' is not defined"
     ]
    }
   ],
   "source": [
    "UTC"
   ]
  },
  {
   "cell_type": "code",
   "execution_count": 97,
   "id": "41d91917-b852-45e7-8173-2ca2a1cda130",
   "metadata": {
    "tags": []
   },
   "outputs": [
    {
     "data": {
      "text/plain": [
       "53.980735516347494"
      ]
     },
     "execution_count": 97,
     "metadata": {},
     "output_type": "execute_result"
    }
   ],
   "source": [
    "time.time()/60\n",
    "time.time()/60/60\n",
    "time.time()/60/60/24 #며칠\n",
    "time.time()/60/60/24/30 #몇 달\n",
    "time.time()/60/60/24/30/12 # 몇 년"
   ]
  },
  {
   "cell_type": "code",
   "execution_count": 98,
   "id": "1cb96389-d199-4f17-9f77-8989c1134b52",
   "metadata": {
    "tags": []
   },
   "outputs": [
    {
     "data": {
      "text/plain": [
       "time.struct_time(tm_year=2023, tm_mon=3, tm_mday=17, tm_hour=10, tm_min=33, tm_sec=25, tm_wday=4, tm_yday=76, tm_isdst=0)"
      ]
     },
     "execution_count": 98,
     "metadata": {},
     "output_type": "execute_result"
    }
   ],
   "source": [
    "time.localtime()"
   ]
  },
  {
   "cell_type": "code",
   "execution_count": 102,
   "id": "7b2e388f-a95c-451a-864a-51a435920cb1",
   "metadata": {
    "tags": []
   },
   "outputs": [
    {
     "name": "stdout",
     "output_type": "stream",
     "text": [
      "2023 년 17 일\n"
     ]
    }
   ],
   "source": [
    "t = time.localtime()\n",
    "print(t.tm_year, \"년\", t.tm_mday, \"일\")"
   ]
  },
  {
   "cell_type": "code",
   "execution_count": 105,
   "id": "c4ecec0e-7777-4a74-8e62-1e1590cae986",
   "metadata": {
    "tags": []
   },
   "outputs": [
    {
     "data": {
      "text/plain": [
       "'Fri Mar 17 10:36:19 2023'"
      ]
     },
     "execution_count": 105,
     "metadata": {},
     "output_type": "execute_result"
    }
   ],
   "source": [
    "t = time.ctime()\n",
    "t"
   ]
  },
  {
   "cell_type": "code",
   "execution_count": 106,
   "id": "bc7b0441-948e-4856-ae57-fa0913202702",
   "metadata": {
    "tags": []
   },
   "outputs": [
    {
     "data": {
      "text/plain": [
       "str"
      ]
     },
     "execution_count": 106,
     "metadata": {},
     "output_type": "execute_result"
    }
   ],
   "source": [
    "type(t)"
   ]
  },
  {
   "cell_type": "code",
   "execution_count": 107,
   "id": "5194c7ee-db9a-408d-bce6-51347214defd",
   "metadata": {
    "tags": []
   },
   "outputs": [
    {
     "ename": "TypeError",
     "evalue": "strftime() takes at least 1 argument (0 given)",
     "output_type": "error",
     "traceback": [
      "\u001b[1;31m---------------------------------------------------------------------------\u001b[0m",
      "\u001b[1;31mTypeError\u001b[0m                                 Traceback (most recent call last)",
      "Cell \u001b[1;32mIn[107], line 1\u001b[0m\n\u001b[1;32m----> 1\u001b[0m \u001b[43mtime\u001b[49m\u001b[38;5;241;43m.\u001b[39;49m\u001b[43mstrftime\u001b[49m\u001b[43m(\u001b[49m\u001b[43m)\u001b[49m \u001b[38;5;66;03m# time으로부터 string\u001b[39;00m\n\u001b[0;32m      2\u001b[0m time\u001b[38;5;241m.\u001b[39mstrptime() \u001b[38;5;66;03m#string오르부터 time\u001b[39;00m\n",
      "\u001b[1;31mTypeError\u001b[0m: strftime() takes at least 1 argument (0 given)"
     ]
    }
   ],
   "source": [
    "time.strftime() # time으로부터 string\n",
    "time.strptime() #string오르부터 time"
   ]
  },
  {
   "cell_type": "code",
   "execution_count": 108,
   "id": "1aae94f2-149d-43a4-88fc-98d8a3b71d0a",
   "metadata": {
    "tags": []
   },
   "outputs": [
    {
     "data": {
      "text/plain": [
       "time.struct_time"
      ]
     },
     "execution_count": 108,
     "metadata": {},
     "output_type": "execute_result"
    }
   ],
   "source": [
    "time.struct_time"
   ]
  },
  {
   "cell_type": "code",
   "execution_count": 109,
   "id": "a7369f97-08d4-4158-ae67-5fdaa05edc9e",
   "metadata": {
    "tags": []
   },
   "outputs": [
    {
     "ename": "SyntaxError",
     "evalue": "invalid syntax (1916565155.py, line 1)",
     "output_type": "error",
     "traceback": [
      "\u001b[1;36m  Cell \u001b[1;32mIn[109], line 1\u001b[1;36m\u001b[0m\n\u001b[1;33m    time.strftime(%Y, t)\u001b[0m\n\u001b[1;37m                  ^\u001b[0m\n\u001b[1;31mSyntaxError\u001b[0m\u001b[1;31m:\u001b[0m invalid syntax\n"
     ]
    }
   ],
   "source": [
    "time.strftime(%Y, t)"
   ]
  },
  {
   "cell_type": "code",
   "execution_count": 111,
   "id": "be638c52-fa40-4011-9bd9-182713b536a2",
   "metadata": {
    "tags": []
   },
   "outputs": [
    {
     "ename": "AttributeError",
     "evalue": "module 'time' has no attribute 'locacltime'",
     "output_type": "error",
     "traceback": [
      "\u001b[1;31m---------------------------------------------------------------------------\u001b[0m",
      "\u001b[1;31mAttributeError\u001b[0m                            Traceback (most recent call last)",
      "Cell \u001b[1;32mIn[111], line 1\u001b[0m\n\u001b[1;32m----> 1\u001b[0m time\u001b[38;5;241m.\u001b[39mstrftime(\u001b[38;5;124m\"\u001b[39m\u001b[38;5;124m%\u001b[39m\u001b[38;5;124my \u001b[39m\u001b[38;5;124m%\u001b[39m\u001b[38;5;124mm \u001b[39m\u001b[38;5;132;01m%d\u001b[39;00m\u001b[38;5;124m\"\u001b[39m, \u001b[43mtime\u001b[49m\u001b[38;5;241;43m.\u001b[39;49m\u001b[43mlocacltime\u001b[49m())\n",
      "\u001b[1;31mAttributeError\u001b[0m: module 'time' has no attribute 'locacltime'"
     ]
    }
   ],
   "source": [
    "time.strftime(\"%y %m %d\", time.locacltime())"
   ]
  },
  {
   "cell_type": "code",
   "execution_count": null,
   "id": "932e7264-108f-4751-bff3-40ebb8af9459",
   "metadata": {
    "tags": []
   },
   "outputs": [],
   "source": [
    "time.sleep(2)"
   ]
  },
  {
   "cell_type": "code",
   "execution_count": 1,
   "id": "722a3156-7635-4c93-a67a-927a00fb1043",
   "metadata": {},
   "outputs": [],
   "source": [
    "import calendar"
   ]
  },
  {
   "cell_type": "code",
   "execution_count": 3,
   "id": "04e14545-0603-4ef4-b935-c0960173f7e2",
   "metadata": {
    "tags": []
   },
   "outputs": [
    {
     "data": {
      "text/plain": [
       "'                                  2023\\n\\n      January                   February                   March\\nMo Tu We Th Fr Sa Su      Mo Tu We Th Fr Sa Su      Mo Tu We Th Fr Sa Su\\n                   1             1  2  3  4  5             1  2  3  4  5\\n 2  3  4  5  6  7  8       6  7  8  9 10 11 12       6  7  8  9 10 11 12\\n 9 10 11 12 13 14 15      13 14 15 16 17 18 19      13 14 15 16 17 18 19\\n16 17 18 19 20 21 22      20 21 22 23 24 25 26      20 21 22 23 24 25 26\\n23 24 25 26 27 28 29      27 28                     27 28 29 30 31\\n30 31\\n\\n       April                      May                       June\\nMo Tu We Th Fr Sa Su      Mo Tu We Th Fr Sa Su      Mo Tu We Th Fr Sa Su\\n                1  2       1  2  3  4  5  6  7                1  2  3  4\\n 3  4  5  6  7  8  9       8  9 10 11 12 13 14       5  6  7  8  9 10 11\\n10 11 12 13 14 15 16      15 16 17 18 19 20 21      12 13 14 15 16 17 18\\n17 18 19 20 21 22 23      22 23 24 25 26 27 28      19 20 21 22 23 24 25\\n24 25 26 27 28 29 30      29 30 31                  26 27 28 29 30\\n\\n        July                     August                  September\\nMo Tu We Th Fr Sa Su      Mo Tu We Th Fr Sa Su      Mo Tu We Th Fr Sa Su\\n                1  2          1  2  3  4  5  6                   1  2  3\\n 3  4  5  6  7  8  9       7  8  9 10 11 12 13       4  5  6  7  8  9 10\\n10 11 12 13 14 15 16      14 15 16 17 18 19 20      11 12 13 14 15 16 17\\n17 18 19 20 21 22 23      21 22 23 24 25 26 27      18 19 20 21 22 23 24\\n24 25 26 27 28 29 30      28 29 30 31               25 26 27 28 29 30\\n31\\n\\n      October                   November                  December\\nMo Tu We Th Fr Sa Su      Mo Tu We Th Fr Sa Su      Mo Tu We Th Fr Sa Su\\n                   1             1  2  3  4  5                   1  2  3\\n 2  3  4  5  6  7  8       6  7  8  9 10 11 12       4  5  6  7  8  9 10\\n 9 10 11 12 13 14 15      13 14 15 16 17 18 19      11 12 13 14 15 16 17\\n16 17 18 19 20 21 22      20 21 22 23 24 25 26      18 19 20 21 22 23 24\\n23 24 25 26 27 28 29      27 28 29 30               25 26 27 28 29 30 31\\n30 31\\n'"
      ]
     },
     "execution_count": 3,
     "metadata": {},
     "output_type": "execute_result"
    }
   ],
   "source": [
    "calendar.calendar(2023)"
   ]
  },
  {
   "cell_type": "markdown",
   "id": "8c9ad7c1-1ef6-4408-9011-3b91d03b416e",
   "metadata": {},
   "source": [
    "## random"
   ]
  },
  {
   "cell_type": "code",
   "execution_count": 12,
   "id": "8eb060ff-f3c2-4049-af68-d18764160cbe",
   "metadata": {
    "tags": []
   },
   "outputs": [],
   "source": [
    "import random"
   ]
  },
  {
   "cell_type": "code",
   "execution_count": 13,
   "id": "5d2c1472-df23-4b63-b9e3-168ae4ffbfaa",
   "metadata": {
    "tags": []
   },
   "outputs": [
    {
     "data": {
      "text/plain": [
       "0.7618183032827802"
      ]
     },
     "execution_count": 13,
     "metadata": {},
     "output_type": "execute_result"
    }
   ],
   "source": [
    "random.random()"
   ]
  },
  {
   "cell_type": "code",
   "execution_count": 16,
   "id": "120332e8-4526-4611-b3a6-f9bca783bacf",
   "metadata": {
    "tags": []
   },
   "outputs": [
    {
     "ename": "NameError",
     "evalue": "name 'array' is not defined",
     "output_type": "error",
     "traceback": [
      "\u001b[1;31m---------------------------------------------------------------------------\u001b[0m",
      "\u001b[1;31mNameError\u001b[0m                                 Traceback (most recent call last)",
      "Cell \u001b[1;32mIn[16], line 4\u001b[0m\n\u001b[0;32m      1\u001b[0m \u001b[38;5;28;01mimport\u001b[39;00m \u001b[38;5;21;01mnumpy\u001b[39;00m \u001b[38;5;28;01mas\u001b[39;00m \u001b[38;5;21;01mnp\u001b[39;00m\n\u001b[0;32m      2\u001b[0m np\u001b[38;5;241m.\u001b[39marray([\u001b[38;5;241m2\u001b[39m,\u001b[38;5;241m3\u001b[39m,\u001b[38;5;241m5\u001b[39m,\u001b[38;5;241m3\u001b[39m,\u001b[38;5;241m2\u001b[39m])\u001b[38;5;241m/\u001b[39m\u001b[38;5;241m5\u001b[39m\n\u001b[1;32m----> 4\u001b[0m \u001b[43marray\u001b[49m([\u001b[38;5;241m0.4\u001b[39m, \u001b[38;5;241m0.6\u001b[39m, \u001b[38;5;241m1\u001b[39m, \u001b[38;5;241m0.4\u001b[39m, \u001b[38;5;241m0.6\u001b[39m])\n",
      "\u001b[1;31mNameError\u001b[0m: name 'array' is not defined"
     ]
    }
   ],
   "source": [
    "import numpy as np\n",
    "np.array([2,3,5,3,2])/5\n",
    "\n",
    "array([0.4, 0.6, 1, 0.4, 0.6])"
   ]
  },
  {
   "cell_type": "markdown",
   "id": "6be88385-a8a2-4c34-95c7-491c9ac0421c",
   "metadata": {},
   "source": [
    "## random\n",
    "- random.random()   #random.uniform\n",
    "- random.randint()\n",
    "- random.shuffle() <br><br>\n",
    "\n",
    "- random.choices()  #random.choice\n",
    "- random.sample()<br><br>\n",
    "- random.randrange()"
   ]
  },
  {
   "cell_type": "code",
   "execution_count": 19,
   "id": "d7da8874-d6c1-412d-9584-a00be9165329",
   "metadata": {
    "tags": []
   },
   "outputs": [
    {
     "data": {
      "text/plain": [
       "0.8372151723052038"
      ]
     },
     "execution_count": 19,
     "metadata": {},
     "output_type": "execute_result"
    }
   ],
   "source": [
    "random.uniform(0,1)"
   ]
  },
  {
   "cell_type": "code",
   "execution_count": 20,
   "id": "22aab530-5f99-4c80-989a-62eeea8a22f8",
   "metadata": {
    "tags": []
   },
   "outputs": [
    {
     "data": {
      "text/plain": [
       "6.247526682223933"
      ]
     },
     "execution_count": 20,
     "metadata": {},
     "output_type": "execute_result"
    }
   ],
   "source": [
    "random.uniform(5,7)"
   ]
  },
  {
   "cell_type": "code",
   "execution_count": 25,
   "id": "04f3ec32-b21f-4133-af1e-d41d76571884",
   "metadata": {
    "tags": []
   },
   "outputs": [
    {
     "data": {
      "text/plain": [
       "3"
      ]
     },
     "execution_count": 25,
     "metadata": {},
     "output_type": "execute_result"
    }
   ],
   "source": [
    "random.randint(1, 3) #끝 숫자 포함"
   ]
  },
  {
   "cell_type": "code",
   "execution_count": 34,
   "id": "b9988968-aae0-4c56-abde-39e6594203b5",
   "metadata": {
    "tags": []
   },
   "outputs": [
    {
     "name": "stdout",
     "output_type": "stream",
     "text": [
      "[1, 2, 3, 4]\n"
     ]
    },
    {
     "data": {
      "text/plain": [
       "[4, 3, 1, 2]"
      ]
     },
     "execution_count": 34,
     "metadata": {},
     "output_type": "execute_result"
    }
   ],
   "source": [
    "li = [1,3,4,2]\n",
    "li.sort()\n",
    "print(li)\n",
    "random.shuffle(li)\n",
    "li"
   ]
  },
  {
   "cell_type": "code",
   "execution_count": 38,
   "id": "0da54cb2-5e2a-419e-8383-56222b73b14e",
   "metadata": {
    "tags": []
   },
   "outputs": [
    {
     "data": {
      "text/plain": [
       "4"
      ]
     },
     "execution_count": 38,
     "metadata": {},
     "output_type": "execute_result"
    }
   ],
   "source": [
    "random.randint(1, 6)"
   ]
  },
  {
   "cell_type": "markdown",
   "id": "b4dc06f3-6bb8-4a4d-a201-cf9610806417",
   "metadata": {},
   "source": [
    "### li에 3개의 숫자 추가"
   ]
  },
  {
   "cell_type": "code",
   "execution_count": 46,
   "id": "59a004cb-1236-4efa-bdf4-7651b20d095b",
   "metadata": {
    "tags": []
   },
   "outputs": [
    {
     "data": {
      "text/plain": [
       "[3, 6, 6]"
      ]
     },
     "execution_count": 46,
     "metadata": {},
     "output_type": "execute_result"
    }
   ],
   "source": [
    "li = []\n",
    "for i in range(3):\n",
    "    li.append(random.randint(1,6))\n",
    "li"
   ]
  },
  {
   "cell_type": "code",
   "execution_count": 45,
   "id": "150ef77b-a45b-4c7b-b962-76844f323dc1",
   "metadata": {
    "tags": []
   },
   "outputs": [
    {
     "data": {
      "text/plain": [
       "[5, 1, 4]"
      ]
     },
     "execution_count": 45,
     "metadata": {},
     "output_type": "execute_result"
    }
   ],
   "source": [
    "li2 = []\n",
    "while True:\n",
    "    li2.append(random.randint(1,6))\n",
    "    if len(li2) == 3:\n",
    "        break\n",
    "li"
   ]
  },
  {
   "cell_type": "markdown",
   "id": "7c2122a6-48e5-45b3-965f-5a514fc08f0a",
   "metadata": {},
   "source": [
    "### li에 3개의 다른 숫자 추가하기"
   ]
  },
  {
   "cell_type": "code",
   "execution_count": 69,
   "id": "c0225648-8885-49c3-a18c-8c56448bf36e",
   "metadata": {
    "tags": []
   },
   "outputs": [
    {
     "data": {
      "text/plain": [
       "[6, 2, 5]"
      ]
     },
     "execution_count": 69,
     "metadata": {},
     "output_type": "execute_result"
    }
   ],
   "source": [
    "li = []\n",
    "while len(li) < 3:\n",
    "    a = random.randint(1,6)\n",
    "    if a in li:\n",
    "        continue\n",
    "    li.append(a)\n",
    "\n",
    "li"
   ]
  },
  {
   "cell_type": "code",
   "execution_count": 79,
   "id": "73e1cb9d-41ba-4e96-880e-8fb84679fe2a",
   "metadata": {
    "tags": []
   },
   "outputs": [
    {
     "data": {
      "text/plain": [
       "[1, 3, 6]"
      ]
     },
     "execution_count": 79,
     "metadata": {},
     "output_type": "execute_result"
    }
   ],
   "source": [
    "li = []\n",
    "while len(li) < 3:\n",
    "    i = random.randint(1,6)\n",
    "    if i not in li:\n",
    "        li.append(i) \n",
    "li"
   ]
  },
  {
   "cell_type": "code",
   "execution_count": 83,
   "id": "06a0b470-2c9f-46ab-bd56-4829f4bba833",
   "metadata": {
    "tags": []
   },
   "outputs": [
    {
     "data": {
      "text/plain": [
       "[8, 2, 5]"
      ]
     },
     "execution_count": 83,
     "metadata": {},
     "output_type": "execute_result"
    }
   ],
   "source": [
    "li = []\n",
    "while len(li)<3:\n",
    "    num = random.randint(1,10)\n",
    "    \n",
    "    if not li.count(num)>0:\n",
    "        li.append(num)\n",
    "        \n",
    "li"
   ]
  },
  {
   "cell_type": "code",
   "execution_count": 91,
   "id": "66adf476-9f82-420d-83b9-de18a70095d0",
   "metadata": {
    "tags": []
   },
   "outputs": [
    {
     "data": {
      "text/plain": [
       "[1, 2, 4]"
      ]
     },
     "execution_count": 91,
     "metadata": {},
     "output_type": "execute_result"
    }
   ],
   "source": [
    "s = set()\n",
    "while len(s) <3 :\n",
    "    s.add(random.randint(1,6))\n",
    "list(s)"
   ]
  },
  {
   "cell_type": "code",
   "execution_count": 89,
   "id": "707697d1-74ce-47b7-bd43-c769c1b3791a",
   "metadata": {
    "tags": []
   },
   "outputs": [
    {
     "ename": "TypeError",
     "evalue": "Random.sample() missing 2 required positional arguments: 'population' and 'k'",
     "output_type": "error",
     "traceback": [
      "\u001b[1;31m---------------------------------------------------------------------------\u001b[0m",
      "\u001b[1;31mTypeError\u001b[0m                                 Traceback (most recent call last)",
      "Cell \u001b[1;32mIn[89], line 1\u001b[0m\n\u001b[1;32m----> 1\u001b[0m \u001b[43mrandom\u001b[49m\u001b[38;5;241;43m.\u001b[39;49m\u001b[43msample\u001b[49m\u001b[43m(\u001b[49m\u001b[43m)\u001b[49m\n",
      "\u001b[1;31mTypeError\u001b[0m: Random.sample() missing 2 required positional arguments: 'population' and 'k'"
     ]
    }
   ],
   "source": [
    "random.sample()"
   ]
  },
  {
   "cell_type": "markdown",
   "id": "556bec0f-4a03-473f-99d6-3930c47aa39d",
   "metadata": {},
   "source": [
    "- shift + tab: 함수설명보기"
   ]
  },
  {
   "cell_type": "code",
   "execution_count": 97,
   "id": "978907aa-7956-491f-80ea-937dc230cd06",
   "metadata": {
    "tags": []
   },
   "outputs": [
    {
     "data": {
      "text/plain": [
       "[5, 2, 1]"
      ]
     },
     "execution_count": 97,
     "metadata": {},
     "output_type": "execute_result"
    }
   ],
   "source": [
    "p = [1,2,3,4,5,6]\n",
    "random.sample(p, 3)\n",
    "random.sample(range(1,6), k=3)"
   ]
  },
  {
   "cell_type": "code",
   "execution_count": 98,
   "id": "b668309d-6ef9-4538-85e2-a5c7a23def0e",
   "metadata": {
    "tags": []
   },
   "outputs": [
    {
     "data": {
      "text/plain": [
       "['red', 'red', 'blue', 'blue', 'red']"
      ]
     },
     "execution_count": 98,
     "metadata": {},
     "output_type": "execute_result"
    }
   ],
   "source": [
    "random.sample(['red','blue'], counts = [4,2], k=5)"
   ]
  },
  {
   "cell_type": "code",
   "execution_count": 106,
   "id": "fdab3b32-9548-461d-87a6-b7b0a7e8abbe",
   "metadata": {
    "tags": []
   },
   "outputs": [
    {
     "data": {
      "text/plain": [
       "[1, 3, 4]"
      ]
     },
     "execution_count": 106,
     "metadata": {},
     "output_type": "execute_result"
    }
   ],
   "source": [
    "# 여러개 뽑기\n",
    "random.sample(range(1,6), k=3)\n",
    "random.choices(range(1,6), k=3)\n"
   ]
  },
  {
   "cell_type": "code",
   "execution_count": 105,
   "id": "82023396-f197-4aba-8e52-130eff6efa92",
   "metadata": {
    "tags": []
   },
   "outputs": [
    {
     "data": {
      "text/plain": [
       "5"
      ]
     },
     "execution_count": 105,
     "metadata": {},
     "output_type": "execute_result"
    }
   ],
   "source": [
    "random.randrange(1,6,2) #1,3,5 중 한개뽑기"
   ]
  },
  {
   "cell_type": "code",
   "execution_count": 107,
   "id": "a6fd36dd-b905-4ed9-8f5e-bfb1bb32b32e",
   "metadata": {},
   "outputs": [
    {
     "ename": "TypeError",
     "evalue": "int() argument must be a string, a bytes-like object or a real number, not 'list'",
     "output_type": "error",
     "traceback": [
      "\u001b[1;31m---------------------------------------------------------------------------\u001b[0m",
      "\u001b[1;31mTypeError\u001b[0m                                 Traceback (most recent call last)",
      "Cell \u001b[1;32mIn[107], line 1\u001b[0m\n\u001b[1;32m----> 1\u001b[0m \u001b[38;5;28;43mint\u001b[39;49m\u001b[43m(\u001b[49m\u001b[43m[\u001b[49m\u001b[38;5;241;43m5\u001b[39;49m\u001b[43m]\u001b[49m\u001b[43m)\u001b[49m\n",
      "\u001b[1;31mTypeError\u001b[0m: int() argument must be a string, a bytes-like object or a real number, not 'list'"
     ]
    }
   ],
   "source": [
    "int([5])"
   ]
  },
  {
   "cell_type": "markdown",
   "id": "f39505c9-ca20-4bb8-b5ce-f1d6ccfb230a",
   "metadata": {
    "tags": []
   },
   "source": [
    "## webbrower"
   ]
  },
  {
   "cell_type": "code",
   "execution_count": 108,
   "id": "f08d9208-c21f-4fbb-ae6b-d1f3cc3bf39a",
   "metadata": {
    "tags": []
   },
   "outputs": [],
   "source": [
    "import webbrowser"
   ]
  },
  {
   "cell_type": "code",
   "execution_count": 109,
   "id": "4653e00e-cb6c-42cb-bad3-e03bdf7cd7a1",
   "metadata": {
    "tags": []
   },
   "outputs": [
    {
     "data": {
      "text/plain": [
       "True"
      ]
     },
     "execution_count": 109,
     "metadata": {},
     "output_type": "execute_result"
    }
   ],
   "source": [
    "webbrowser.open('https://google.com')"
   ]
  },
  {
   "cell_type": "code",
   "execution_count": 115,
   "id": "94873007-aa2f-45e5-991b-74cb9d9cb663",
   "metadata": {
    "tags": []
   },
   "outputs": [
    {
     "name": "stdout",
     "output_type": "stream",
     "text": [
      "ipython                      8.11.0\n",
      "ipython-genutils             0.2.0\n",
      "jupyter_client               8.0.3\n",
      "jupyter_core                 5.2.0\n",
      "jupyter-events               0.6.3\n",
      "jupyter_server               2.4.0\n",
      "jupyter_server_fileid        0.8.0\n",
      "jupyter_server_terminals     0.4.4\n",
      "jupyter_server_ydoc          0.6.1\n",
      "jupyter-ydoc                 0.2.2\n",
      "jupyterlab                   3.6.1\n",
      "jupyterlab-pygments          0.2.2\n",
      "jupyterlab_server            2.20.0\n",
      "python-dateutil              2.8.2\n",
      "python-json-logger           2.0.7\n",
      "pytz                         2022.7.1\n",
      "Note: you may need to restart the kernel to use updated packages.\n"
     ]
    }
   ],
   "source": [
    "pip list | findstr pyt"
   ]
  },
  {
   "cell_type": "markdown",
   "id": "34461389-c34c-45a1-8ab2-334927c6b8c4",
   "metadata": {
    "tags": []
   },
   "source": [
    "## thread 쓰레드"
   ]
  },
  {
   "cell_type": "code",
   "execution_count": 121,
   "id": "4ad521a6-9add-4051-a3eb-d374dde84bc2",
   "metadata": {
    "tags": []
   },
   "outputs": [
    {
     "name": "stdout",
     "output_type": "stream",
     "text": [
      "1.0038154125213623\n"
     ]
    }
   ],
   "source": [
    "import time\n",
    "\n",
    "old = time.time()\n",
    "time.sleep(1)\n",
    "result = time.time() - old\n",
    "print(result)\n",
    "# def long_task():\n",
    "#     for i in range(5):\n",
    "#         time.sleep(1)\n",
    "#         print(f\"working {i}\")\n",
    "\n",
    "# print(\"Start\")\n",
    "\n",
    "# for i in range(5):\n",
    "#     long_task()\n",
    "# print(\"End\")"
   ]
  },
  {
   "cell_type": "code",
   "execution_count": 129,
   "id": "e79c75f2-5c84-4bc7-9e10-07944251db91",
   "metadata": {
    "tags": []
   },
   "outputs": [
    {
     "name": "stdout",
     "output_type": "stream",
     "text": [
      "Start\n",
      "working 0\n",
      "working 0\n",
      "working 0\n",
      "working 0\n",
      "working 0\n",
      "working 1working 1\n",
      "working 1\n",
      "working 1\n",
      "working 1\n",
      "\n",
      "working 2working 2\n",
      "\n",
      "working 2\n",
      "working 2\n",
      "working 2\n",
      "working 3working 3\n",
      "\n",
      "working 3\n",
      "working 3\n",
      "working 3\n",
      "working 4working 4\n",
      "working 4\n",
      "working 4\n",
      "working 4\n",
      "\n",
      "End\n",
      "5.038961410522461\n"
     ]
    }
   ],
   "source": [
    "import threading\n",
    "\n",
    "start_time = time.time()\n",
    "\n",
    "def long_task():\n",
    "    for i in range(5):\n",
    "        time.sleep(1)\n",
    "        print(f\"working {i}\")\n",
    "        \n",
    "print(\"Start\")\n",
    "\n",
    "threads = []\n",
    "\n",
    "for i in range(5):\n",
    "    t = threading.Thread(target = long_task)\n",
    "    threads.append(t)\n",
    "    \n",
    "    \n",
    "for t in threads:\n",
    "    t.start()\n",
    "\n",
    "\n",
    "for t in threads:\n",
    "    t.join()\n",
    "\n",
    "print(\"End\")\n",
    "\n",
    "end_time = time.time()\n",
    "print(end_time - start_time)"
   ]
  },
  {
   "cell_type": "code",
   "execution_count": 139,
   "id": "dd2523c3-892d-4c54-90d4-1f15f4f291e9",
   "metadata": {
    "tags": []
   },
   "outputs": [],
   "source": [
    "#Q10.\n",
    "import os\n",
    "#1. 디렉토리 생성\n",
    "os.chdir(\"C:/\")"
   ]
  },
  {
   "cell_type": "code",
   "execution_count": 140,
   "id": "44d38649-b248-4063-8680-078c9918032f",
   "metadata": {
    "tags": []
   },
   "outputs": [
    {
     "name": "stdout",
     "output_type": "stream",
     "text": [
      " C 드라이브의 볼륨에는 이름이 없습니다.\n",
      " 볼륨 일련 번호: E0E8-707D\n",
      "\n",
      " C:\\ 디렉터리\n",
      "\n",
      "2023-03-14  오후 04:35    <DIR>          doit\n",
      "2023-03-14  오전 10:28    <DIR>          Intel\n",
      "2019-12-07  오후 06:14    <DIR>          PerfLogs\n",
      "2021-07-08  오전 09:48    <DIR>          PrivacyPolicy\n",
      "2023-03-07  오후 02:15    <DIR>          Program Files\n",
      "2023-03-07  오전 09:58    <DIR>          Program Files (x86)\n",
      "2023-03-09  오전 11:02    <DIR>          Rdata\n",
      "2021-07-08  오전 09:35             3,066 RHDSetup.log\n",
      "2021-07-08  오전 09:37               194 Setup.log\n",
      "2021-09-13  오후 01:45    <DIR>          Users\n",
      "2021-07-08  오전 09:45    <DIR>          User_manual\n",
      "2023-03-13  오후 06:11    <DIR>          Windows\n",
      "               2개 파일               3,260 바이트\n",
      "              10개 디렉터리  172,509,589,504 바이트 남음\n"
     ]
    }
   ],
   "source": [
    "!dir"
   ]
  },
  {
   "cell_type": "code",
   "execution_count": 143,
   "id": "e304c126-b5c2-42e9-af5f-83caf13b3618",
   "metadata": {
    "tags": []
   },
   "outputs": [
    {
     "data": {
      "text/plain": [
       "'C:\\\\Doit'"
      ]
     },
     "execution_count": 143,
     "metadata": {},
     "output_type": "execute_result"
    }
   ],
   "source": [
    "os.chdir(\"C:/Doit\")\n",
    "os.getcwd()"
   ]
  },
  {
   "cell_type": "code",
   "execution_count": 144,
   "id": "52bf350b-ab30-4c1c-b2c7-a34262e96d6e",
   "metadata": {
    "tags": []
   },
   "outputs": [],
   "source": [
    "result = os.popen(\"dir\")"
   ]
  },
  {
   "cell_type": "code",
   "execution_count": 146,
   "id": "c322db03-8492-4a70-ab56-a67e02c54285",
   "metadata": {
    "tags": []
   },
   "outputs": [
    {
     "name": "stdout",
     "output_type": "stream",
     "text": [
      " C 드라이브의 볼륨에는 이름이 없습니다.\n",
      " 볼륨 일련 번호: E0E8-707D\n",
      "\n",
      " C:\\Doit 디렉터리\n",
      "\n",
      "2023-03-14  오후 04:35    <DIR>          .\n",
      "2023-03-14  오후 04:35    <DIR>          ..\n",
      "2023-03-14  오후 04:35                 0 복습.txt\n",
      "2023-03-14  오후 04:49               333 새파일.txt\n",
      "               2개 파일                 333 바이트\n",
      "               2개 디렉터리  172,509,548,544 바이트 남음\n",
      "\n"
     ]
    }
   ],
   "source": [
    "print(result.read())"
   ]
  },
  {
   "cell_type": "code",
   "execution_count": 147,
   "id": "211581a0-2de6-404d-a44a-afd1aacf6c30",
   "metadata": {
    "tags": []
   },
   "outputs": [],
   "source": [
    "#Q11.\n",
    "os.chdir(\"C:/Users/User/test\")"
   ]
  },
  {
   "cell_type": "code",
   "execution_count": 148,
   "id": "04d0559e-5f0a-4a11-a1fd-601bc5263e22",
   "metadata": {
    "tags": []
   },
   "outputs": [
    {
     "name": "stdout",
     "output_type": "stream",
     "text": [
      " C 드라이브의 볼륨에는 이름이 없습니다.\n",
      " 볼륨 일련 번호: E0E8-707D\n",
      "\n",
      " C:\\Users\\User\\test 디렉터리\n",
      "\n",
      "2023-03-17  오후 12:13    <DIR>          .\n",
      "2023-03-17  오후 12:13    <DIR>          ..\n",
      "2023-03-17  오후 12:12    <DIR>          .ipynb_checkpoints\n",
      "2023-03-15  오후 05:55            36,469 again.ipynb\n",
      "2023-03-15  오후 04:42               126 mod1.py\n",
      "2023-03-15  오후 04:44               106 mod2.py\n",
      "2023-03-15  오후 04:49                48 modtest.py\n",
      "2023-03-16  오후 07:31               165 multiply.py\n",
      "2023-03-16  오후 12:48                59 sys1.py\n",
      "2023-03-16  오후 12:49                75 sys2.py\n",
      "2023-03-16  오후 01:54               262 test1.py\n",
      "2023-03-16  오전 11:29               252 test2.py\n",
      "2023-03-16  오전 11:36               261 test3.py\n",
      "2023-03-16  오전 11:37    <DIR>          __pycache__\n",
      "              10개 파일              37,823 바이트\n",
      "               4개 디렉터리  172,510,044,160 바이트 남음\n"
     ]
    }
   ],
   "source": [
    "!dir"
   ]
  },
  {
   "cell_type": "code",
   "execution_count": 149,
   "id": "b45ab00d-a676-4f34-88c4-08c6cd8178f5",
   "metadata": {
    "tags": []
   },
   "outputs": [
    {
     "data": {
      "text/plain": [
       "['mod1.py',\n",
       " 'mod2.py',\n",
       " 'modtest.py',\n",
       " 'multiply.py',\n",
       " 'sys1.py',\n",
       " 'sys2.py',\n",
       " 'test1.py',\n",
       " 'test2.py',\n",
       " 'test3.py']"
      ]
     },
     "execution_count": 149,
     "metadata": {},
     "output_type": "execute_result"
    }
   ],
   "source": [
    "import glob\n",
    "glob.glob(\"*.py\")"
   ]
  },
  {
   "cell_type": "code",
   "execution_count": 165,
   "id": "9dae45e0-76fa-4be4-9808-3b1f2af289b0",
   "metadata": {
    "tags": []
   },
   "outputs": [
    {
     "data": {
      "text/plain": [
       "'2023/03/17 15:06:55 '"
      ]
     },
     "execution_count": 165,
     "metadata": {},
     "output_type": "execute_result"
    }
   ],
   "source": [
    "#Q12\n",
    "time.strftime('%Y/%m/%d %H:%M:%S ', time.localtime())"
   ]
  },
  {
   "cell_type": "code",
   "execution_count": 4,
   "id": "c8b154fe-0321-4fee-9852-07672a489e01",
   "metadata": {
    "tags": []
   },
   "outputs": [
    {
     "name": "stdout",
     "output_type": "stream",
     "text": [
      "[41, 16, 25, 32, 7, 27]\n"
     ]
    }
   ],
   "source": [
    "#while문을 써서\n",
    "import random\n",
    "li = []\n",
    "while len(li) < 6:\n",
    "    a = random.randint(1,45)\n",
    "    if a in li:\n",
    "        continue\n",
    "    li.append(a)\n",
    "print(li)"
   ]
  },
  {
   "cell_type": "code",
   "execution_count": 6,
   "id": "82c9464d-c670-4f05-bd20-78ae2e607e8f",
   "metadata": {},
   "outputs": [
    {
     "data": {
      "text/plain": [
       "[34, 12, 16, 4, 30, 5]"
      ]
     },
     "execution_count": 6,
     "metadata": {},
     "output_type": "execute_result"
    }
   ],
   "source": [
    "random.choices(range(1,46) , k=6)"
   ]
  },
  {
   "cell_type": "code",
   "execution_count": 1,
   "id": "7ec25e5e-0ba7-495f-82cc-e402b8e46a91",
   "metadata": {},
   "outputs": [
    {
     "data": {
      "text/plain": [
       "'C:\\\\Users\\\\user\\\\New'"
      ]
     },
     "execution_count": 1,
     "metadata": {},
     "output_type": "execute_result"
    }
   ],
   "source": [
    "import os\n",
    "os.getcwd()"
   ]
  },
  {
   "cell_type": "code",
   "execution_count": 2,
   "id": "e1e72c4b-a620-426c-926b-d0d1ed40aedf",
   "metadata": {
    "tags": []
   },
   "outputs": [],
   "source": [
    "import shutil"
   ]
  },
  {
   "cell_type": "code",
   "execution_count": 3,
   "id": "9491ff94-6e19-4c13-b819-fad5c764490a",
   "metadata": {
    "tags": []
   },
   "outputs": [
    {
     "ename": "IndentationError",
     "evalue": "expected an indented block after function definition on line 2 (2064887390.py, line 4)",
     "output_type": "error",
     "traceback": [
      "\u001b[1;36m  Cell \u001b[1;32mIn[3], line 4\u001b[1;36m\u001b[0m\n\u001b[1;33m    self.name\u001b[0m\n\u001b[1;37m             ^\u001b[0m\n\u001b[1;31mIndentationError\u001b[0m\u001b[1;31m:\u001b[0m expected an indented block after function definition on line 2\n"
     ]
    }
   ],
   "source": [
    "class Human:\n",
    "    def __init__(self):\n",
    "        \n",
    "self.name\n",
    " = 'gildong'\n",
    "        self.age = '22'\n",
    "        \n",
    "self.city\n",
    " = 'seoul'\n",
    "\n",
    "#Student클래스\n",
    "class Student(Human):\n",
    "    def __init__(self, name):\n",
    "        \n",
    "self.name\n",
    " = name\n",
    "       \n",
    "    def show_name(self):\n",
    "        print('사람의 이름은 : ', \n",
    "self.name\n",
    ")\n",
    "   \n",
    "    def show_age(self):\n",
    "        print('사람의 나이는 : ', self.age) "
   ]
  },
  {
   "cell_type": "markdown",
   "id": "65dc7824-0a56-4115-9071-e833c6d58037",
   "metadata": {},
   "source": [
    "- 은행계좌번호(xxx-xx-xxxxxx)를 account로, random 모듈을 이용하여 print(account)"
   ]
  },
  {
   "cell_type": "code",
   "execution_count": 72,
   "id": "960ea444-7697-4503-817f-51a9d0d72658",
   "metadata": {
    "tags": []
   },
   "outputs": [
    {
     "data": {
      "text/plain": [
       "'014-13-603422'"
      ]
     },
     "execution_count": 72,
     "metadata": {},
     "output_type": "execute_result"
    }
   ],
   "source": [
    "#내 풀이\n",
    "import random\n",
    "li = []\n",
    "for i in range(11):\n",
    "    num = random.randint(0, 9)\n",
    "    li.append(num)\n",
    "\n",
    "a = \"\".join(str(s) for s in li[:3])\n",
    "b = \"\".join(str(s) for s in li[3:5])\n",
    "c = \"\".join(str(s) for s in li[5:])\n",
    "\n",
    "account = a+ \"-\" + b + \"-\" + c\n",
    "account"
   ]
  },
  {
   "cell_type": "code",
   "execution_count": 42,
   "id": "cd2adebf-efdf-4a9d-a4cb-06721f2fd8af",
   "metadata": {
    "tags": []
   },
   "outputs": [
    {
     "name": "stdout",
     "output_type": "stream",
     "text": [
      "724-21-76082\n"
     ]
    }
   ],
   "source": [
    "#풀이2\n",
    "# 오류 : 앞에 0이 붙을 경우 출력 안됨\n",
    "import random\n",
    "account=f\"{random.choices(range(10**2,10**3))[0]}-{random.choices(range(10**1,10**2))[0]}-{random.choices(range(10**4,10**5))[0]}\"\n",
    "\n",
    "print(account) "
   ]
  },
  {
   "cell_type": "code",
   "execution_count": 46,
   "id": "dda3332e-4c1a-4c34-8b5d-471fbd9ddfd9",
   "metadata": {
    "tags": []
   },
   "outputs": [
    {
     "data": {
      "text/plain": [
       "[6, 7, 3, '-', 0, 8, '-', 6, 1, 3, 1, 8, 1]"
      ]
     },
     "execution_count": 46,
     "metadata": {},
     "output_type": "execute_result"
    }
   ],
   "source": [
    "import random\n",
    "li = []\n",
    "for i in random.choices(range(10), k=3):\n",
    "    li.append(i)\n",
    "li.append(\"-\")\n",
    "for i in random.choices(range(10), k=2):\n",
    "    li.append(i)\n",
    "li.append(\"-\")\n",
    "for i in random.choices(range(10), k=6):\n",
    "    li.append(i)\n",
    "li"
   ]
  },
  {
   "cell_type": "code",
   "execution_count": 55,
   "id": "11bc8568-d89e-45cd-bcaa-4d07215e9523",
   "metadata": {
    "tags": []
   },
   "outputs": [
    {
     "data": {
      "text/plain": [
       "'673-08-613181'"
      ]
     },
     "execution_count": 55,
     "metadata": {},
     "output_type": "execute_result"
    }
   ],
   "source": [
    "account = \"\".join(str(i) for i in li)\n",
    "account"
   ]
  },
  {
   "cell_type": "code",
   "execution_count": 58,
   "id": "e39d66e5-be41-400c-8890-7a0c1fd7c9a2",
   "metadata": {
    "tags": []
   },
   "outputs": [
    {
     "data": {
      "text/plain": [
       "'673-08-613181'"
      ]
     },
     "execution_count": 58,
     "metadata": {},
     "output_type": "execute_result"
    }
   ],
   "source": [
    "account = \"\"\n",
    "for i in li:\n",
    "    account += str(i)\n",
    "account"
   ]
  },
  {
   "cell_type": "code",
   "execution_count": 73,
   "id": "abf96f43-95e1-4a40-b9e4-c34a02534995",
   "metadata": {
    "tags": []
   },
   "outputs": [
    {
     "ename": "NameError",
     "evalue": "name 'n' is not defined",
     "output_type": "error",
     "traceback": [
      "\u001b[1;31m---------------------------------------------------------------------------\u001b[0m",
      "\u001b[1;31mNameError\u001b[0m                                 Traceback (most recent call last)",
      "Cell \u001b[1;32mIn[73], line 1\u001b[0m\n\u001b[1;32m----> 1\u001b[0m \u001b[38;5;241m1\u001b[39m \u001b[38;5;241m<\u001b[39m \u001b[43mn\u001b[49m \u001b[38;5;241m<\u001b[39m \u001b[38;5;241m3\u001b[39m \u001b[38;5;66;03m# 양쪽 등호 없으면 하나 빼기<br>\u001b[39;00m\n\u001b[0;32m      2\u001b[0m \u001b[38;5;241m10\u001b[39m \u001b[38;5;241m<\u001b[39m\u001b[38;5;241m=\u001b[39m n \u001b[38;5;241m<\u001b[39m \u001b[38;5;241m100\u001b[39m \u001b[38;5;66;03m# 한쪽 등호 있으면 그대로<br>\u001b[39;00m\n\u001b[0;32m      3\u001b[0m \u001b[38;5;241m1\u001b[39m \u001b[38;5;241m<\u001b[39m\u001b[38;5;241m=\u001b[39m n \u001b[38;5;241m<\u001b[39m\u001b[38;5;241m=\u001b[39m \u001b[38;5;241m3\u001b[39m \u001b[38;5;66;03m# 둘다 등호 있으며 하나 더하기\u001b[39;00m\n",
      "\u001b[1;31mNameError\u001b[0m: name 'n' is not defined"
     ]
    }
   ],
   "source": [
    "1 < n < 3 # 양쪽 등호 없으면 하나 빼기<br>\n",
    "10 <= n < 100 # 한쪽 등호 있으면 그대로<br>\n",
    "1 <= n <= 3 # 둘다 등호 있으며 하나 더하기"
   ]
  },
  {
   "cell_type": "code",
   "execution_count": 78,
   "id": "932b051b-51b8-44d8-8b84-e7579eb893f8",
   "metadata": {
    "tags": []
   },
   "outputs": [],
   "source": [
    "bi = ['10101', '1111', '1011', '11101']"
   ]
  },
  {
   "cell_type": "code",
   "execution_count": 82,
   "id": "86b38aab-d3dd-42e0-8a1c-e39e2055519d",
   "metadata": {
    "tags": []
   },
   "outputs": [
    {
     "data": {
      "text/plain": [
       "[21, 15, 11, 29]"
      ]
     },
     "execution_count": 82,
     "metadata": {},
     "output_type": "execute_result"
    }
   ],
   "source": [
    "# map과 lambda를 이용해서 2진수리스트를 10진수로 바꾸기\n",
    "list(map(lambda x:int(x,2), bi))"
   ]
  },
  {
   "cell_type": "code",
   "execution_count": 98,
   "id": "1b2cd005-e44a-4832-8d94-003927a5d5c9",
   "metadata": {
    "tags": []
   },
   "outputs": [
    {
     "name": "stdin",
     "output_type": "stream",
     "text": [
      "내가 가장 좋아하는 음식 2가지 떡볶이,치킨,반미\n"
     ]
    },
    {
     "name": "stdout",
     "output_type": "stream",
     "text": [
      "1위 떡볶이\n",
      "2위 치킨\n",
      "3위 반미\n"
     ]
    }
   ],
   "source": [
    "food = input(\"내가 가장 좋아하는 음식 2가지\").split(\",\")\n",
    "for num, food in enumerate(food):\n",
    "    print(f'{num+1}위 {food}') "
   ]
  },
  {
   "cell_type": "code",
   "execution_count": 101,
   "id": "657a0e77-ebe8-4788-880e-bd64384cfd20",
   "metadata": {
    "tags": []
   },
   "outputs": [],
   "source": [
    "li = [31,18,25,71,9]"
   ]
  },
  {
   "cell_type": "code",
   "execution_count": 103,
   "id": "e6252b7e-0c8a-478a-8404-6c23fba0c2cc",
   "metadata": {
    "tags": []
   },
   "outputs": [
    {
     "data": {
      "text/plain": [
       "[3100, 1800, 2500, 7100, 900]"
      ]
     },
     "execution_count": 103,
     "metadata": {},
     "output_type": "execute_result"
    }
   ],
   "source": [
    "# 길이값(m)이 들어있는 리스트가 있을 때, 이를 cm 단위로 변환하려고 한다.\n",
    "# 리스트 내포로 식 작성\n",
    "[x*100 for x in li]"
   ]
  },
  {
   "cell_type": "code",
   "execution_count": null,
   "id": "8e20933b-1f68-4907-b0f1-e2fde911137a",
   "metadata": {},
   "outputs": [],
   "source": []
  }
 ],
 "metadata": {
  "kernelspec": {
   "display_name": "Python 3 (ipykernel)",
   "language": "python",
   "name": "python3"
  },
  "language_info": {
   "codemirror_mode": {
    "name": "ipython",
    "version": 3
   },
   "file_extension": ".py",
   "mimetype": "text/x-python",
   "name": "python",
   "nbconvert_exporter": "python",
   "pygments_lexer": "ipython3",
   "version": "3.10.9"
  }
 },
 "nbformat": 4,
 "nbformat_minor": 5
}
