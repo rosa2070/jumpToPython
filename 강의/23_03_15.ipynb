{
 "cells": [
  {
   "cell_type": "markdown",
   "id": "34d0fabc-b16d-4662-801a-4106f9c097f0",
   "metadata": {},
   "source": [
    "# 복습"
   ]
  },
  {
   "cell_type": "code",
   "execution_count": 25,
   "id": "c0db1249-3695-451b-8001-27118307c2a2",
   "metadata": {
    "tags": []
   },
   "outputs": [
    {
     "name": "stdin",
     "output_type": "stream",
     "text": [
      "n:  sag\n",
      "a:  sdag\n",
      "mbti:  ash\n"
     ]
    }
   ],
   "source": [
    "a = input(\"n: \")\n",
    "b = input(\"a: \")\n",
    "c = input(\"mbti: \")\n",
    "f = open(\"privacy.txt\", 'w')\n",
    "f.write(f\"n:{a} a:{b} mbti:{c}\")\n",
    "f.close()"
   ]
  },
  {
   "cell_type": "code",
   "execution_count": 26,
   "id": "732954a8-1f38-40af-b73c-a78857ba3eeb",
   "metadata": {
    "tags": []
   },
   "outputs": [
    {
     "name": "stdout",
     "output_type": "stream",
     "text": [
      "n:sag a:sdag mbti:ash\n"
     ]
    }
   ],
   "source": [
    "\n",
    "with open(\"privacy.txt\", 'r') as f:\n",
    "    lines = f.readlines()\n",
    "    for line in lines:\n",
    "        print(line.strip())\n"
   ]
  },
  {
   "cell_type": "code",
   "execution_count": 32,
   "id": "f00ca326-95d3-49ea-8fb1-8b38e3617626",
   "metadata": {
    "tags": []
   },
   "outputs": [
    {
     "name": "stdin",
     "output_type": "stream",
     "text": [
      "이름, 나이, mbti 순으로 ,까지 입력하세요 잰, 26,isfp\n"
     ]
    }
   ],
   "source": [
    "with open(\"privacy.txt\", 'w', encoding = 'utf8') as fw:\n",
    "    info = input(\"이름, 나이, mbti 순으로 ,까지 입력하세요\").split(\",\")\n",
    "    name = info[0]\n",
    "    age = info[1]\n",
    "    mbti = info[2]\n",
    "    fw.write(f\"이름 = {name}\\n나이 = {age}\\nmbti = {mbti}\\n\") "
   ]
  },
  {
   "cell_type": "code",
   "execution_count": 30,
   "id": "9f15bc04-1a72-4e8e-95fc-d4b6f7e06811",
   "metadata": {
    "tags": []
   },
   "outputs": [
    {
     "name": "stdin",
     "output_type": "stream",
     "text": [
      " 잰 23 isfp\n"
     ]
    }
   ],
   "source": [
    "name, age, mbti = input().split(\" \")"
   ]
  },
  {
   "cell_type": "code",
   "execution_count": 37,
   "id": "faec90c6-139f-438f-9729-2e7da62a8f97",
   "metadata": {
    "tags": []
   },
   "outputs": [],
   "source": [
    "def plustwo(*args) :\n",
    "    li = []\n",
    "    for i in args:\n",
    "        li.append(i + 2)\n",
    "    return li"
   ]
  },
  {
   "cell_type": "code",
   "execution_count": 38,
   "id": "685c3760-edbd-4bec-9b2f-57f8cd9d3c57",
   "metadata": {
    "tags": []
   },
   "outputs": [
    {
     "data": {
      "text/plain": [
       "[4, 8, 100]"
      ]
     },
     "execution_count": 38,
     "metadata": {},
     "output_type": "execute_result"
    }
   ],
   "source": [
    "plustwo(2,6,98)"
   ]
  },
  {
   "cell_type": "code",
   "execution_count": 40,
   "id": "21080563-51fc-499d-bb28-7837e05af9c2",
   "metadata": {
    "tags": []
   },
   "outputs": [
    {
     "ename": "SyntaxError",
     "evalue": "invalid syntax (2880835767.py, line 1)",
     "output_type": "error",
     "traceback": [
      "\u001b[1;36m  Cell \u001b[1;32mIn[40], line 1\u001b[1;36m\u001b[0m\n\u001b[1;33m    result = [arg+2 for arg in *args]\u001b[0m\n\u001b[1;37m                               ^\u001b[0m\n\u001b[1;31mSyntaxError\u001b[0m\u001b[1;31m:\u001b[0m invalid syntax\n"
     ]
    }
   ],
   "source": [
    "result = [arg+2 for arg in *args]"
   ]
  },
  {
   "cell_type": "code",
   "execution_count": 44,
   "id": "3a968ad2-6f11-43fc-862b-354fbbe2f1f6",
   "metadata": {
    "tags": []
   },
   "outputs": [],
   "source": [
    "def plustwo(*args):\n",
    "    return [arg+2 for arg in args]"
   ]
  },
  {
   "cell_type": "code",
   "execution_count": 45,
   "id": "538da54e-3c5d-4e6e-bf85-16f99c8cd275",
   "metadata": {
    "tags": []
   },
   "outputs": [
    {
     "data": {
      "text/plain": [
       "[5, 8, 59]"
      ]
     },
     "execution_count": 45,
     "metadata": {},
     "output_type": "execute_result"
    }
   ],
   "source": [
    "plustwo(3,6,57)"
   ]
  },
  {
   "cell_type": "code",
   "execution_count": 51,
   "id": "e5761e97-42bc-400b-9043-057206395e3c",
   "metadata": {
    "tags": []
   },
   "outputs": [
    {
     "data": {
      "text/plain": [
       "[3, 4, 5]"
      ]
     },
     "execution_count": 51,
     "metadata": {},
     "output_type": "execute_result"
    }
   ],
   "source": [
    "#람다함수\n",
    "(lambda *args: [arg + 2 for arg in args])(1,2,3)"
   ]
  },
  {
   "cell_type": "code",
   "execution_count": null,
   "id": "cfa34e29-169c-4367-b05c-87386f1ca1cc",
   "metadata": {
    "tags": []
   },
   "outputs": [],
   "source": [
    "total = 0\n",
    "avg = 0\n",
    "count = 0\n",
    "i = 0\n",
    "while i<100:\n",
    "    i+= 1\n",
    "    if i %2 == 0 or i % 7 == 0:\n",
    "        total += i\n",
    "        count += 1\n",
    "avg=total/count\n",
    "print(total, avg)\n",
    "    "
   ]
  },
  {
   "cell_type": "code",
   "execution_count": null,
   "id": "2539a997-4700-493b-8bc0-4bb094cc42cb",
   "metadata": {
    "tags": []
   },
   "outputs": [],
   "source": [
    "li"
   ]
  },
  {
   "cell_type": "markdown",
   "id": "a9cb7fe7-f27f-4b83-8ae0-925b990d5cc5",
   "metadata": {},
   "source": [
    "# 수업"
   ]
  },
  {
   "cell_type": "markdown",
   "id": "eba0116c-db49-4e1e-adba-bc9aac706814",
   "metadata": {},
   "source": [
    "# 클래스"
   ]
  },
  {
   "cell_type": "markdown",
   "id": "c218406b-5a68-4755-a73d-824fdcf4cb0a",
   "metadata": {},
   "source": [
    "- 클래스가 필요한 이유"
   ]
  },
  {
   "cell_type": "code",
   "execution_count": 111,
   "id": "50d9291f-b486-4e45-83be-dd922a027b9f",
   "metadata": {
    "tags": []
   },
   "outputs": [],
   "source": [
    "result = 0\n",
    "def add(num) :\n",
    "    global result\n",
    "    result = result + num\n",
    "    return result\n",
    "\n",
    "def subtract(num):\n",
    "    global result\n",
    "    result = result - num\n",
    "    return result"
   ]
  },
  {
   "cell_type": "code",
   "execution_count": 82,
   "id": "ef88efe7-eb91-4228-841a-f15be3a6617f",
   "metadata": {
    "tags": []
   },
   "outputs": [
    {
     "data": {
      "text/plain": [
       "300"
      ]
     },
     "execution_count": 82,
     "metadata": {},
     "output_type": "execute_result"
    }
   ],
   "source": [
    "add(100)\n",
    "add(200)"
   ]
  },
  {
   "cell_type": "code",
   "execution_count": 83,
   "id": "53a6f645-5faf-4881-a699-95f1373c8c58",
   "metadata": {
    "tags": []
   },
   "outputs": [
    {
     "data": {
      "text/plain": [
       "0"
      ]
     },
     "execution_count": 83,
     "metadata": {},
     "output_type": "execute_result"
    }
   ],
   "source": [
    "subtract(300)"
   ]
  },
  {
   "cell_type": "code",
   "execution_count": 74,
   "id": "e47929d2-278c-4304-bd64-8f6915c9cab9",
   "metadata": {
    "tags": []
   },
   "outputs": [],
   "source": [
    "result1 = 0\n",
    "def add1(num) :\n",
    "    global result1\n",
    "    result1 = result1 + num\n",
    "    return result1\n",
    "\n",
    "def subtract1(num):\n",
    "    global result1\n",
    "    result1 = result1 - num\n",
    "    return result1"
   ]
  },
  {
   "cell_type": "code",
   "execution_count": 75,
   "id": "596fb935-fe8b-4a6b-ac90-032a5d947dc5",
   "metadata": {
    "tags": []
   },
   "outputs": [
    {
     "data": {
      "text/plain": [
       "400"
      ]
     },
     "execution_count": 75,
     "metadata": {},
     "output_type": "execute_result"
    }
   ],
   "source": [
    "add1(400)"
   ]
  },
  {
   "cell_type": "code",
   "execution_count": 79,
   "id": "e5e5ccd1-8d79-4395-9644-8738667e4153",
   "metadata": {
    "tags": []
   },
   "outputs": [],
   "source": [
    "result2 = 0\n",
    "def add2(num) :\n",
    "    global result2\n",
    "    result2 = result2 + num\n",
    "    return result2\n",
    "\n",
    "def subtract2(num):\n",
    "    global result2\n",
    "    result2 = result2 - num\n",
    "    return result2"
   ]
  },
  {
   "cell_type": "code",
   "execution_count": 80,
   "id": "013f14b3-f016-402b-bc5c-4ee74f7714f5",
   "metadata": {
    "tags": []
   },
   "outputs": [
    {
     "data": {
      "text/plain": [
       "3000"
      ]
     },
     "execution_count": 80,
     "metadata": {},
     "output_type": "execute_result"
    }
   ],
   "source": [
    "add2(1000)\n",
    "add2(2000)\n",
    "result2"
   ]
  },
  {
   "cell_type": "markdown",
   "id": "29f86f88-cd3c-4954-840e-822f76103977",
   "metadata": {},
   "source": [
    "## 클래스 만들기"
   ]
  },
  {
   "cell_type": "code",
   "execution_count": 100,
   "id": "fd6eb205-aa33-4a2e-a91d-aa0ed2499677",
   "metadata": {
    "tags": []
   },
   "outputs": [],
   "source": [
    "#__(언더스코어)의 의미 : 특별한\n",
    "class Calculator:\n",
    "    def __init__(self):\n",
    "        self.result = 0\n",
    "    def add(self, num):\n",
    "        self.result += num\n",
    "        return self.result"
   ]
  },
  {
   "cell_type": "code",
   "execution_count": 101,
   "id": "88ec15bf-25d7-4648-a6b9-c2bff8975ba0",
   "metadata": {
    "tags": []
   },
   "outputs": [],
   "source": [
    "pos = Calculator()"
   ]
  },
  {
   "cell_type": "code",
   "execution_count": 102,
   "id": "556bd45b-9d6e-4ab8-badf-304cee863276",
   "metadata": {
    "tags": []
   },
   "outputs": [
    {
     "data": {
      "text/plain": [
       "100"
      ]
     },
     "execution_count": 102,
     "metadata": {},
     "output_type": "execute_result"
    }
   ],
   "source": [
    "pos.add(100)"
   ]
  },
  {
   "cell_type": "code",
   "execution_count": 103,
   "id": "14f7cea0-0e1e-4095-894e-5d6c83b5b220",
   "metadata": {
    "tags": []
   },
   "outputs": [
    {
     "data": {
      "text/plain": [
       "300"
      ]
     },
     "execution_count": 103,
     "metadata": {},
     "output_type": "execute_result"
    }
   ],
   "source": [
    "pos.add(200)"
   ]
  },
  {
   "cell_type": "code",
   "execution_count": 105,
   "id": "59372474-1a11-41a4-8bba-e9c0ee886a2e",
   "metadata": {
    "tags": []
   },
   "outputs": [
    {
     "name": "stdout",
     "output_type": "stream",
     "text": [
      "300\n"
     ]
    }
   ],
   "source": [
    "print(pos.result)"
   ]
  },
  {
   "cell_type": "code",
   "execution_count": 113,
   "id": "3946fe7c-4bcd-4097-9f3a-16e84b9be8f1",
   "metadata": {
    "tags": []
   },
   "outputs": [],
   "source": [
    "pos2 = Calculator()"
   ]
  },
  {
   "cell_type": "code",
   "execution_count": 114,
   "id": "13f91640-446b-444f-81cd-83b01c456150",
   "metadata": {
    "tags": []
   },
   "outputs": [
    {
     "data": {
      "text/plain": [
       "3000"
      ]
     },
     "execution_count": 114,
     "metadata": {},
     "output_type": "execute_result"
    }
   ],
   "source": [
    "pos2.add(1000)\n",
    "pos2.add(2000)\n",
    "pos2.result"
   ]
  },
  {
   "cell_type": "code",
   "execution_count": 123,
   "id": "fd8bc867-8deb-40b7-870e-3d37b9d35471",
   "metadata": {
    "tags": []
   },
   "outputs": [],
   "source": [
    "pos3 = Calculator()"
   ]
  },
  {
   "cell_type": "code",
   "execution_count": 124,
   "id": "1dbaef8a-ddfc-4ee0-97d6-d2b7e2975934",
   "metadata": {
    "tags": []
   },
   "outputs": [
    {
     "data": {
      "text/plain": [
       "600"
      ]
     },
     "execution_count": 124,
     "metadata": {},
     "output_type": "execute_result"
    }
   ],
   "source": [
    "pos3.add(300)\n",
    "pos3.add(300)\n",
    "pos3.result"
   ]
  },
  {
   "cell_type": "code",
   "execution_count": 125,
   "id": "12947549-90c8-4322-a5c9-f7ea885831a9",
   "metadata": {
    "tags": []
   },
   "outputs": [],
   "source": [
    "class Calculator:\n",
    "    def __init__(self):\n",
    "        self.result = 0\n",
    "        \n",
    "    def add(self, num):\n",
    "        self.result += num\n",
    "        return self.result\n",
    "    \n",
    "    def subtract(self, num):\n",
    "        self.result -= num\n",
    "        return self.result"
   ]
  },
  {
   "cell_type": "code",
   "execution_count": 131,
   "id": "176de2b0-8986-41de-bf89-cfe3b724e50e",
   "metadata": {
    "tags": []
   },
   "outputs": [
    {
     "data": {
      "text/plain": [
       "0"
      ]
     },
     "execution_count": 131,
     "metadata": {},
     "output_type": "execute_result"
    }
   ],
   "source": [
    "pos = Calculator()\n",
    "pos.add(100)\n",
    "pos.subtract(100)"
   ]
  },
  {
   "cell_type": "code",
   "execution_count": 132,
   "id": "96960de9-cf59-4ce0-bbc6-d1d012ee9b91",
   "metadata": {
    "tags": []
   },
   "outputs": [
    {
     "data": {
      "text/plain": [
       "-188"
      ]
     },
     "execution_count": 132,
     "metadata": {},
     "output_type": "execute_result"
    }
   ],
   "source": [
    "~p187"
   ]
  },
  {
   "cell_type": "markdown",
   "id": "4d78d851-a91f-4b7d-a6b5-c5754a953e43",
   "metadata": {},
   "source": [
    "```\n",
    "method\n",
    "instance: 인스턴스\n",
    "object 객체\n",
    "pos Calculator 클래스의 인스턴스\n",
    "```"
   ]
  },
  {
   "cell_type": "markdown",
   "id": "26737c38-f332-4ebe-acdd-e5b77b099d5d",
   "metadata": {},
   "source": [
    "- 사칙연산 클래스 만들기"
   ]
  },
  {
   "cell_type": "code",
   "execution_count": 133,
   "id": "46f912c3-4111-4da7-afbf-646c450ae550",
   "metadata": {
    "tags": []
   },
   "outputs": [
    {
     "ename": "NameError",
     "evalue": "name 'FourCal' is not defined",
     "output_type": "error",
     "traceback": [
      "\u001b[1;31m---------------------------------------------------------------------------\u001b[0m",
      "\u001b[1;31mNameError\u001b[0m                                 Traceback (most recent call last)",
      "Cell \u001b[1;32mIn[133], line 1\u001b[0m\n\u001b[1;32m----> 1\u001b[0m a \u001b[38;5;241m=\u001b[39m \u001b[43mFourCal\u001b[49m()\n\u001b[0;32m      2\u001b[0m a\u001b[38;5;241m.\u001b[39msetdata(\u001b[38;5;241m4\u001b[39m,\u001b[38;5;241m2\u001b[39m)\n\u001b[0;32m      3\u001b[0m a\u001b[38;5;241m.\u001b[39madd()\n",
      "\u001b[1;31mNameError\u001b[0m: name 'FourCal' is not defined"
     ]
    }
   ],
   "source": [
    "a = FourCal()\n",
    "a.setdata(4,2)\n",
    "a.add()\n",
    "a.sub()"
   ]
  },
  {
   "cell_type": "code",
   "execution_count": 164,
   "id": "da098a88-8616-498c-a6bd-8189329c8df7",
   "metadata": {
    "tags": []
   },
   "outputs": [],
   "source": [
    "class FourCal:\n",
    "    def setdata(self, a, b):\n",
    "        self.first = a\n",
    "        self.second = b\n",
    "        \n",
    "    def add(self):\n",
    "        self.result = self.first + self.second\n",
    "        return self.result\n",
    "    \n",
    "    def sub(self):\n",
    "        self.result = self.first - self.second\n",
    "        return self.result\n",
    "    \n",
    "    def multiply(self):\n",
    "        self.result = self.first * self.second\n",
    "        return self.result\n",
    "    \n",
    "    def divide(self):\n",
    "        self.result = self.first / self.second\n",
    "        return self.result"
   ]
  },
  {
   "cell_type": "code",
   "execution_count": 141,
   "id": "88407c7d-a78a-4f75-b107-38f04723d0ae",
   "metadata": {
    "tags": []
   },
   "outputs": [],
   "source": [
    "cal = FourCal()"
   ]
  },
  {
   "cell_type": "code",
   "execution_count": 142,
   "id": "377c2058-f663-48b4-a83f-244fcf8f7cf5",
   "metadata": {
    "tags": []
   },
   "outputs": [],
   "source": [
    "cal.setdata(2,3)"
   ]
  },
  {
   "cell_type": "code",
   "execution_count": 143,
   "id": "33aa3efd-0059-4f3b-a2f2-11127333d55f",
   "metadata": {
    "tags": []
   },
   "outputs": [
    {
     "data": {
      "text/plain": [
       "2"
      ]
     },
     "execution_count": 143,
     "metadata": {},
     "output_type": "execute_result"
    }
   ],
   "source": [
    "cal.first"
   ]
  },
  {
   "cell_type": "code",
   "execution_count": 148,
   "id": "6746ebf5-e1f0-44ec-93f9-55d5e5a118e0",
   "metadata": {
    "tags": []
   },
   "outputs": [
    {
     "data": {
      "text/plain": [
       "3"
      ]
     },
     "execution_count": 148,
     "metadata": {},
     "output_type": "execute_result"
    }
   ],
   "source": [
    "cal.second"
   ]
  },
  {
   "cell_type": "code",
   "execution_count": 149,
   "id": "50d2925e-642c-4816-90eb-e55f2f3e366c",
   "metadata": {
    "tags": []
   },
   "outputs": [
    {
     "data": {
      "text/plain": [
       "5"
      ]
     },
     "execution_count": 149,
     "metadata": {},
     "output_type": "execute_result"
    }
   ],
   "source": [
    "cal.add()"
   ]
  },
  {
   "cell_type": "code",
   "execution_count": 150,
   "id": "fa8f1610-b101-4873-9f05-5bef5d4f308f",
   "metadata": {
    "tags": []
   },
   "outputs": [
    {
     "data": {
      "text/plain": [
       "5"
      ]
     },
     "execution_count": 150,
     "metadata": {},
     "output_type": "execute_result"
    }
   ],
   "source": [
    "cal.result"
   ]
  },
  {
   "cell_type": "code",
   "execution_count": null,
   "id": "e5c73fab-b5c6-4e84-9f93-a6a184e45cc1",
   "metadata": {},
   "outputs": [],
   "source": []
  },
  {
   "cell_type": "code",
   "execution_count": 160,
   "id": "b250af28-a6ab-4b6d-a21c-89a57df99071",
   "metadata": {
    "tags": []
   },
   "outputs": [],
   "source": [
    "four = FourCal()"
   ]
  },
  {
   "cell_type": "code",
   "execution_count": 161,
   "id": "8f4395a4-0812-4bba-8a3b-5b31876e6a65",
   "metadata": {
    "tags": []
   },
   "outputs": [],
   "source": [
    "four.setdata(10,20)"
   ]
  },
  {
   "cell_type": "code",
   "execution_count": 162,
   "id": "a20acf1d-c3b3-4a02-80f6-c6a449cf7f19",
   "metadata": {},
   "outputs": [
    {
     "data": {
      "text/plain": [
       "30"
      ]
     },
     "execution_count": 162,
     "metadata": {},
     "output_type": "execute_result"
    }
   ],
   "source": [
    "four.add()"
   ]
  },
  {
   "cell_type": "code",
   "execution_count": 166,
   "id": "7106c94f-42fb-457e-9693-419b5a7c5e90",
   "metadata": {
    "tags": []
   },
   "outputs": [],
   "source": [
    "cal = FourCal()"
   ]
  },
  {
   "cell_type": "code",
   "execution_count": 167,
   "id": "9fea42aa-2075-4c29-8ef6-5767be1306cd",
   "metadata": {
    "tags": []
   },
   "outputs": [
    {
     "data": {
      "text/plain": [
       "5"
      ]
     },
     "execution_count": 167,
     "metadata": {},
     "output_type": "execute_result"
    }
   ],
   "source": [
    "cal.setdata(2,3)\n",
    "cal.add()"
   ]
  },
  {
   "cell_type": "code",
   "execution_count": 169,
   "id": "d5146101-82fe-44de-8327-5fad63a47dc1",
   "metadata": {
    "tags": []
   },
   "outputs": [
    {
     "data": {
      "text/plain": [
       "6"
      ]
     },
     "execution_count": 169,
     "metadata": {},
     "output_type": "execute_result"
    }
   ],
   "source": [
    "cal.multiply()"
   ]
  },
  {
   "cell_type": "code",
   "execution_count": 170,
   "id": "cf606460-8649-4264-88d2-810b5c276350",
   "metadata": {
    "tags": []
   },
   "outputs": [
    {
     "data": {
      "text/plain": [
       "5"
      ]
     },
     "execution_count": 170,
     "metadata": {},
     "output_type": "execute_result"
    }
   ],
   "source": [
    "cal.add()"
   ]
  },
  {
   "cell_type": "code",
   "execution_count": 171,
   "id": "4389a42c-9db1-4c51-abe3-45b21690939e",
   "metadata": {
    "tags": []
   },
   "outputs": [],
   "source": [
    "cal.setdata(2,3)"
   ]
  },
  {
   "cell_type": "code",
   "execution_count": 173,
   "id": "9e37d810-8047-4214-acbb-c11e2f8605dd",
   "metadata": {
    "tags": []
   },
   "outputs": [],
   "source": [
    "class FourCal:\n",
    "    def __init__(self):\n",
    "        self.first = 2\n",
    "        self.second = 3\n",
    "        \n",
    "    def add(self):\n",
    "        self.result = self.first + self.second\n",
    "        return self.result\n",
    "    \n",
    "    def sub(self):\n",
    "        self.result = self.first - self.second\n",
    "        return self.result\n",
    "    \n",
    "    def multiply(self):\n",
    "        self.result = self.first * self.second\n",
    "        return self.result\n",
    "    \n",
    "    def divide(self):\n",
    "        self.result = self.first / self.second\n",
    "        return self.result"
   ]
  },
  {
   "cell_type": "code",
   "execution_count": 174,
   "id": "19055480-53ea-40b4-bad1-2ed8b371f513",
   "metadata": {
    "tags": []
   },
   "outputs": [],
   "source": [
    "cal = FourCal()"
   ]
  },
  {
   "cell_type": "code",
   "execution_count": 176,
   "id": "8ec62038-eeb9-494e-916b-1b43ba73f9eb",
   "metadata": {
    "tags": []
   },
   "outputs": [
    {
     "data": {
      "text/plain": [
       "6"
      ]
     },
     "execution_count": 176,
     "metadata": {},
     "output_type": "execute_result"
    }
   ],
   "source": [
    "cal.multiply()"
   ]
  },
  {
   "cell_type": "code",
   "execution_count": 177,
   "id": "b5b0ac52-9f13-45e9-8254-45c731467239",
   "metadata": {
    "tags": []
   },
   "outputs": [
    {
     "data": {
      "text/plain": [
       "50"
      ]
     },
     "execution_count": 177,
     "metadata": {},
     "output_type": "execute_result"
    }
   ],
   "source": [
    "cal.first = 20\n",
    "cal.second = 30 \n",
    "cal.add()"
   ]
  },
  {
   "cell_type": "code",
   "execution_count": 181,
   "id": "14308e4a-be03-471c-8d46-a61cca07e146",
   "metadata": {
    "tags": []
   },
   "outputs": [],
   "source": [
    "class FourCal:\n",
    "    def __init__(self, first, second):\n",
    "        self.first = first\n",
    "        self.second = second\n",
    "    \n",
    "        \n",
    "    def add(self):\n",
    "        self.result = self.first + self.second\n",
    "        return self.result\n",
    "    \n",
    "    def sub(self):\n",
    "        self.result = self.first - self.second\n",
    "        return self.result\n",
    "    \n",
    "    def multiply(self):\n",
    "        self.result = self.first * self.second\n",
    "        return self.result\n",
    "    \n",
    "    def divide(self):\n",
    "        self.result = self.first / self.second\n",
    "        return self.result\n",
    "    \n",
    "    "
   ]
  },
  {
   "cell_type": "code",
   "execution_count": 184,
   "id": "e40e503d-8424-4207-abbe-b9eebcfe92c7",
   "metadata": {
    "tags": []
   },
   "outputs": [],
   "source": [
    "cal = FourCal(2,3)"
   ]
  },
  {
   "cell_type": "code",
   "execution_count": 185,
   "id": "56b80ac4-0146-4e0a-9e15-50e1396911b7",
   "metadata": {
    "tags": []
   },
   "outputs": [
    {
     "data": {
      "text/plain": [
       "6"
      ]
     },
     "execution_count": 185,
     "metadata": {},
     "output_type": "execute_result"
    }
   ],
   "source": [
    "cal.multiply()"
   ]
  },
  {
   "cell_type": "code",
   "execution_count": 186,
   "id": "84462101-3936-460c-9512-f22ffc399c52",
   "metadata": {
    "tags": []
   },
   "outputs": [],
   "source": [
    "class Child(FourCal):\n",
    "    pass"
   ]
  },
  {
   "cell_type": "code",
   "execution_count": 187,
   "id": "a1158038-78e5-4e98-ba37-768b10711c9d",
   "metadata": {
    "tags": []
   },
   "outputs": [],
   "source": [
    "a = Child(2,3)"
   ]
  },
  {
   "cell_type": "code",
   "execution_count": 188,
   "id": "83472eff-f066-4ab3-8d21-91582ed10d7d",
   "metadata": {
    "tags": []
   },
   "outputs": [
    {
     "data": {
      "text/plain": [
       "5"
      ]
     },
     "execution_count": 188,
     "metadata": {},
     "output_type": "execute_result"
    }
   ],
   "source": [
    "a.add()"
   ]
  },
  {
   "cell_type": "code",
   "execution_count": 194,
   "id": "7d5a0a12-fdfb-4758-9bd2-317dfeca55a0",
   "metadata": {
    "tags": []
   },
   "outputs": [],
   "source": [
    "class Child(FourCal):\n",
    "    def power(self):\n",
    "        self.result = self.first ** self.second\n",
    "        return self.result"
   ]
  },
  {
   "cell_type": "code",
   "execution_count": 195,
   "id": "2b89fd09-6dd3-4aea-ad86-c3f491e37b0c",
   "metadata": {
    "tags": []
   },
   "outputs": [],
   "source": [
    "a = Child(2, 3)"
   ]
  },
  {
   "cell_type": "code",
   "execution_count": 196,
   "id": "797f4a42-e964-4445-a419-07a3534dec43",
   "metadata": {
    "tags": []
   },
   "outputs": [
    {
     "data": {
      "text/plain": [
       "8"
      ]
     },
     "execution_count": 196,
     "metadata": {},
     "output_type": "execute_result"
    }
   ],
   "source": [
    "a.power()"
   ]
  },
  {
   "cell_type": "code",
   "execution_count": 197,
   "id": "5aad963f-3eb0-4650-a412-7e8c9f6a60a9",
   "metadata": {
    "tags": []
   },
   "outputs": [
    {
     "data": {
      "text/plain": [
       "5"
      ]
     },
     "execution_count": 197,
     "metadata": {},
     "output_type": "execute_result"
    }
   ],
   "source": [
    "a.add()"
   ]
  },
  {
   "cell_type": "code",
   "execution_count": 198,
   "id": "41a0a273-0d2e-43e1-9108-7b7247d87e06",
   "metadata": {
    "tags": []
   },
   "outputs": [
    {
     "data": {
      "text/plain": [
       "8"
      ]
     },
     "execution_count": 198,
     "metadata": {},
     "output_type": "execute_result"
    }
   ],
   "source": [
    "a.power()"
   ]
  },
  {
   "cell_type": "code",
   "execution_count": 199,
   "id": "34e3ee8a-85d4-4f8c-9be6-e1bad6835a9f",
   "metadata": {
    "tags": []
   },
   "outputs": [],
   "source": [
    "a = Child(2,0)"
   ]
  },
  {
   "cell_type": "code",
   "execution_count": 200,
   "id": "c666aa4c-2f20-4ec4-8cbc-86d41ff01e11",
   "metadata": {
    "tags": []
   },
   "outputs": [
    {
     "data": {
      "text/plain": [
       "2"
      ]
     },
     "execution_count": 200,
     "metadata": {},
     "output_type": "execute_result"
    }
   ],
   "source": [
    "a.add()"
   ]
  },
  {
   "cell_type": "code",
   "execution_count": 201,
   "id": "f8aed1b9-26b7-42a3-81f5-291fd62c48f0",
   "metadata": {
    "tags": []
   },
   "outputs": [
    {
     "data": {
      "text/plain": [
       "1"
      ]
     },
     "execution_count": 201,
     "metadata": {},
     "output_type": "execute_result"
    }
   ],
   "source": [
    "a.power()"
   ]
  },
  {
   "cell_type": "code",
   "execution_count": 202,
   "id": "5419fca2-a4f3-41bb-8e3d-4ccb8b596001",
   "metadata": {
    "tags": []
   },
   "outputs": [
    {
     "ename": "ZeroDivisionError",
     "evalue": "division by zero",
     "output_type": "error",
     "traceback": [
      "\u001b[1;31m---------------------------------------------------------------------------\u001b[0m",
      "\u001b[1;31mZeroDivisionError\u001b[0m                         Traceback (most recent call last)",
      "Cell \u001b[1;32mIn[202], line 1\u001b[0m\n\u001b[1;32m----> 1\u001b[0m \u001b[43ma\u001b[49m\u001b[38;5;241;43m.\u001b[39;49m\u001b[43mdivide\u001b[49m\u001b[43m(\u001b[49m\u001b[43m)\u001b[49m\n",
      "Cell \u001b[1;32mIn[181], line 19\u001b[0m, in \u001b[0;36mFourCal.divide\u001b[1;34m(self)\u001b[0m\n\u001b[0;32m     18\u001b[0m \u001b[38;5;28;01mdef\u001b[39;00m \u001b[38;5;21mdivide\u001b[39m(\u001b[38;5;28mself\u001b[39m):\n\u001b[1;32m---> 19\u001b[0m     \u001b[38;5;28mself\u001b[39m\u001b[38;5;241m.\u001b[39mresult \u001b[38;5;241m=\u001b[39m \u001b[38;5;28;43mself\u001b[39;49m\u001b[38;5;241;43m.\u001b[39;49m\u001b[43mfirst\u001b[49m\u001b[43m \u001b[49m\u001b[38;5;241;43m/\u001b[39;49m\u001b[43m \u001b[49m\u001b[38;5;28;43mself\u001b[39;49m\u001b[38;5;241;43m.\u001b[39;49m\u001b[43msecond\u001b[49m\n\u001b[0;32m     20\u001b[0m     \u001b[38;5;28;01mreturn\u001b[39;00m \u001b[38;5;28mself\u001b[39m\u001b[38;5;241m.\u001b[39mresult\n",
      "\u001b[1;31mZeroDivisionError\u001b[0m: division by zero"
     ]
    }
   ],
   "source": [
    "a.divide()"
   ]
  },
  {
   "cell_type": "code",
   "execution_count": 213,
   "id": "8c2e3295-14ac-4ebf-a2fc-74fabe13e564",
   "metadata": {
    "tags": []
   },
   "outputs": [],
   "source": [
    "# override : 메소드 재정의, 오버라이딩\n",
    "\n",
    "class Child(FourCal):\n",
    "    def divide(self): # 앞에 꺼 덮어써\n",
    "        if self.second != 0:\n",
    "            self.result = self.first / self.second\n",
    "            return self.result\n",
    "        else:\n",
    "            print(\"0으로 나눌 수 없습니다\")"
   ]
  },
  {
   "cell_type": "code",
   "execution_count": 210,
   "id": "2ddb222b-2e1d-435b-becc-e7ffd8f134bc",
   "metadata": {
    "tags": []
   },
   "outputs": [],
   "source": [
    "a = Child(2, 0)"
   ]
  },
  {
   "cell_type": "code",
   "execution_count": 211,
   "id": "ca125ab0-90fd-4713-a9fe-ce436dec898e",
   "metadata": {
    "tags": []
   },
   "outputs": [
    {
     "data": {
      "text/plain": [
       "0"
      ]
     },
     "execution_count": 211,
     "metadata": {},
     "output_type": "execute_result"
    }
   ],
   "source": [
    "a.multiply()"
   ]
  },
  {
   "cell_type": "code",
   "execution_count": 212,
   "id": "fa82123b-f8c1-451a-80fc-d15e2fef1ce8",
   "metadata": {
    "tags": []
   },
   "outputs": [
    {
     "name": "stdout",
     "output_type": "stream",
     "text": [
      "0으로 나눌 수 없습니다\n"
     ]
    }
   ],
   "source": [
    "a.divide()"
   ]
  },
  {
   "cell_type": "markdown",
   "id": "4c67f80a-38fb-4199-8a65-9ad33de3aa79",
   "metadata": {},
   "source": [
    "# 클래스 변수"
   ]
  },
  {
   "cell_type": "code",
   "execution_count": 227,
   "id": "57bd0654-ebe4-4765-bebe-7d61d5da5b15",
   "metadata": {
    "tags": []
   },
   "outputs": [],
   "source": [
    "class Family:\n",
    "    lastname = \"김\" # 클래스 변수\n",
    "    \n",
    "    def __init__(self):\n",
    "        self.name = \"길동\" # 인스턴스 변수"
   ]
  },
  {
   "cell_type": "code",
   "execution_count": 228,
   "id": "d0e7734e-78eb-4748-8690-777f5bd518fd",
   "metadata": {
    "tags": []
   },
   "outputs": [],
   "source": [
    "a = Family()"
   ]
  },
  {
   "cell_type": "code",
   "execution_count": 229,
   "id": "2e69a3a4-0cbf-497f-b91e-0e15f29d18c4",
   "metadata": {
    "tags": []
   },
   "outputs": [
    {
     "data": {
      "text/plain": [
       "'김'"
      ]
     },
     "execution_count": 229,
     "metadata": {},
     "output_type": "execute_result"
    }
   ],
   "source": [
    "a.lastname"
   ]
  },
  {
   "cell_type": "code",
   "execution_count": 230,
   "id": "78de69eb-2993-4dae-b24e-b940c8e2f5e8",
   "metadata": {
    "tags": []
   },
   "outputs": [
    {
     "data": {
      "text/plain": [
       "'김'"
      ]
     },
     "execution_count": 230,
     "metadata": {},
     "output_type": "execute_result"
    }
   ],
   "source": [
    "# 클래스이름.클래스변수\n",
    "Family.lastname"
   ]
  },
  {
   "cell_type": "code",
   "execution_count": 231,
   "id": "a4191b90-1d3e-4f73-a59e-0756bc5146d1",
   "metadata": {
    "tags": []
   },
   "outputs": [
    {
     "data": {
      "text/plain": [
       "'길동'"
      ]
     },
     "execution_count": 231,
     "metadata": {},
     "output_type": "execute_result"
    }
   ],
   "source": [
    "a.name"
   ]
  },
  {
   "cell_type": "code",
   "execution_count": 232,
   "id": "97e04b6d-a4bc-4e3e-8392-61a4cc17b335",
   "metadata": {
    "tags": []
   },
   "outputs": [
    {
     "ename": "AttributeError",
     "evalue": "type object 'Family' has no attribute 'name'",
     "output_type": "error",
     "traceback": [
      "\u001b[1;31m---------------------------------------------------------------------------\u001b[0m",
      "\u001b[1;31mAttributeError\u001b[0m                            Traceback (most recent call last)",
      "Cell \u001b[1;32mIn[232], line 1\u001b[0m\n\u001b[1;32m----> 1\u001b[0m \u001b[43mFamily\u001b[49m\u001b[38;5;241;43m.\u001b[39;49m\u001b[43mname\u001b[49m\n",
      "\u001b[1;31mAttributeError\u001b[0m: type object 'Family' has no attribute 'name'"
     ]
    }
   ],
   "source": [
    "Family.name"
   ]
  },
  {
   "cell_type": "code",
   "execution_count": 235,
   "id": "37b2307c-c1e3-469e-87dc-618d5d13e566",
   "metadata": {
    "tags": []
   },
   "outputs": [
    {
     "data": {
      "text/plain": [
       "1932266464048"
      ]
     },
     "execution_count": 235,
     "metadata": {},
     "output_type": "execute_result"
    }
   ],
   "source": [
    "id(Family.lastname)"
   ]
  },
  {
   "cell_type": "code",
   "execution_count": 236,
   "id": "29ae41d0-5e55-4b54-ab8f-01617b160c6e",
   "metadata": {
    "tags": []
   },
   "outputs": [
    {
     "data": {
      "text/plain": [
       "1932266464048"
      ]
     },
     "execution_count": 236,
     "metadata": {},
     "output_type": "execute_result"
    }
   ],
   "source": [
    "id(a.lastname)"
   ]
  },
  {
   "cell_type": "code",
   "execution_count": 238,
   "id": "e770df47-637b-45b6-a82b-e3e377493159",
   "metadata": {
    "tags": []
   },
   "outputs": [
    {
     "data": {
      "text/plain": [
       "'최'"
      ]
     },
     "execution_count": 238,
     "metadata": {},
     "output_type": "execute_result"
    }
   ],
   "source": [
    "Family.lastname = \"최\"\n",
    "Family.lastname"
   ]
  },
  {
   "cell_type": "code",
   "execution_count": 239,
   "id": "bad421fc-e73f-4d62-b539-0ef267c6e5d0",
   "metadata": {
    "tags": []
   },
   "outputs": [
    {
     "data": {
      "text/plain": [
       "'최'"
      ]
     },
     "execution_count": 239,
     "metadata": {},
     "output_type": "execute_result"
    }
   ],
   "source": [
    "a.lastname"
   ]
  },
  {
   "cell_type": "code",
   "execution_count": 240,
   "id": "267be4ac-c1ab-4b7a-97b4-5e22cb8c8bfb",
   "metadata": {
    "tags": []
   },
   "outputs": [
    {
     "data": {
      "text/plain": [
       "1932267546992"
      ]
     },
     "execution_count": 240,
     "metadata": {},
     "output_type": "execute_result"
    }
   ],
   "source": [
    "id(a.name)"
   ]
  },
  {
   "cell_type": "code",
   "execution_count": 254,
   "id": "acd91c19-940d-4cbd-ab6a-9ed810d0be5f",
   "metadata": {
    "tags": []
   },
   "outputs": [],
   "source": [
    "class Family:\n",
    "    def __init__(self):\n",
    "        self.name = \"길동\""
   ]
  },
  {
   "cell_type": "code",
   "execution_count": 255,
   "id": "fb3457cf-355a-4e65-8325-3266c543edd3",
   "metadata": {
    "tags": []
   },
   "outputs": [
    {
     "ename": "TypeError",
     "evalue": "Family.__init__() takes 1 positional argument but 2 were given",
     "output_type": "error",
     "traceback": [
      "\u001b[1;31m---------------------------------------------------------------------------\u001b[0m",
      "\u001b[1;31mTypeError\u001b[0m                                 Traceback (most recent call last)",
      "Cell \u001b[1;32mIn[255], line 1\u001b[0m\n\u001b[1;32m----> 1\u001b[0m a \u001b[38;5;241m=\u001b[39m \u001b[43mFamily\u001b[49m\u001b[43m(\u001b[49m\u001b[38;5;124;43m'\u001b[39;49m\u001b[38;5;124;43m길동\u001b[39;49m\u001b[38;5;124;43m'\u001b[39;49m\u001b[43m)\u001b[49m\n\u001b[0;32m      2\u001b[0m a\u001b[38;5;241m.\u001b[39mname\n",
      "\u001b[1;31mTypeError\u001b[0m: Family.__init__() takes 1 positional argument but 2 were given"
     ]
    }
   ],
   "source": [
    "a = Family('길동')\n",
    "a.name"
   ]
  },
  {
   "cell_type": "code",
   "execution_count": 252,
   "id": "b4430b6c-db3b-42e0-99e5-689c92b3b71c",
   "metadata": {
    "tags": []
   },
   "outputs": [],
   "source": [
    "class Family:\n",
    "    def __init__(self, name):\n",
    "        self.name = name"
   ]
  },
  {
   "cell_type": "code",
   "execution_count": 253,
   "id": "de50baff-300d-4089-9dca-559f67be050a",
   "metadata": {
    "tags": []
   },
   "outputs": [],
   "source": [
    "a = Family('길동')"
   ]
  },
  {
   "cell_type": "code",
   "execution_count": 248,
   "id": "6bfd3df8-5693-49bc-9a83-69cbc62d8a27",
   "metadata": {
    "tags": []
   },
   "outputs": [
    {
     "data": {
      "text/plain": [
       "'길동'"
      ]
     },
     "execution_count": 248,
     "metadata": {},
     "output_type": "execute_result"
    }
   ],
   "source": [
    "a.name"
   ]
  },
  {
   "cell_type": "code",
   "execution_count": 244,
   "id": "55a1c529-9b84-42b6-a2f6-9ce733f7cd0c",
   "metadata": {
    "tags": []
   },
   "outputs": [
    {
     "name": "stdin",
     "output_type": "stream",
     "text": [
      "이름은?  잰\n"
     ]
    }
   ],
   "source": [
    "a = Family()"
   ]
  },
  {
   "cell_type": "code",
   "execution_count": 245,
   "id": "1fec0e0e-622f-4871-9594-cbc06007a469",
   "metadata": {
    "tags": []
   },
   "outputs": [
    {
     "data": {
      "text/plain": [
       "'잰'"
      ]
     },
     "execution_count": 245,
     "metadata": {},
     "output_type": "execute_result"
    }
   ],
   "source": [
    "a.name"
   ]
  },
  {
   "cell_type": "code",
   "execution_count": 280,
   "id": "6e757e8b-f21f-45cd-a188-ed3eaedb9c84",
   "metadata": {
    "tags": []
   },
   "outputs": [],
   "source": [
    "#1. Person클래스를 만든다.\n",
    "#2. p1 객체를 생성\n",
    "class Person:\n",
    "    name =  \"잰\" \n",
    "    \n",
    "    def __init__(self):\n",
    "        self.name = \"잰\"\n",
    "        \n",
    "    def show(self):\n",
    "        print(Person.name)\n",
    "        print(self.name)\n"
   ]
  },
  {
   "cell_type": "code",
   "execution_count": 276,
   "id": "51ab932a-6f83-4c29-aa8f-48d1070fd0bf",
   "metadata": {
    "tags": []
   },
   "outputs": [
    {
     "name": "stdout",
     "output_type": "stream",
     "text": [
      "잰\n",
      "잰\n"
     ]
    }
   ],
   "source": [
    "print(Person.name)      \n",
    "p1 = Person()\n",
    "print(p1.name) "
   ]
  },
  {
   "cell_type": "code",
   "execution_count": 281,
   "id": "9cee9333-66e0-4246-bb24-e71e5b3a6e9a",
   "metadata": {
    "tags": []
   },
   "outputs": [
    {
     "name": "stdout",
     "output_type": "stream",
     "text": [
      "잰\n",
      "잰\n"
     ]
    }
   ],
   "source": [
    "p1 = Person()\n",
    "p1.show()"
   ]
  },
  {
   "cell_type": "markdown",
   "id": "470641ad-7a18-448e-a685-9959290325a8",
   "metadata": {},
   "source": [
    "# 모듈\n",
    "- module\n",
    "- 파이썬파일 한개"
   ]
  },
  {
   "cell_type": "markdown",
   "id": "d67fba32-776c-4cc2-8733-d9c9c9f14cb2",
   "metadata": {},
   "source": [
    "# 내장함수"
   ]
  },
  {
   "cell_type": "code",
   "execution_count": 283,
   "id": "76b511cd-63e7-4d78-bf2b-604d7ed21a43",
   "metadata": {
    "tags": []
   },
   "outputs": [
    {
     "data": {
      "text/plain": [
       "3"
      ]
     },
     "execution_count": 283,
     "metadata": {},
     "output_type": "execute_result"
    }
   ],
   "source": [
    "abs(3)\n",
    "abs(-3)"
   ]
  },
  {
   "cell_type": "code",
   "execution_count": 284,
   "id": "312fa069-8a42-4214-a60e-8fb4b4fe1cc0",
   "metadata": {
    "tags": []
   },
   "outputs": [
    {
     "data": {
      "text/plain": [
       "True"
      ]
     },
     "execution_count": 284,
     "metadata": {},
     "output_type": "execute_result"
    }
   ],
   "source": [
    "all([1,2,3])"
   ]
  },
  {
   "cell_type": "code",
   "execution_count": 285,
   "id": "ad4de214-e420-4e31-9c70-3aa1283ff42b",
   "metadata": {
    "tags": []
   },
   "outputs": [
    {
     "data": {
      "text/plain": [
       "False"
      ]
     },
     "execution_count": 285,
     "metadata": {},
     "output_type": "execute_result"
    }
   ],
   "source": [
    "all([0,1,2,3])"
   ]
  },
  {
   "cell_type": "code",
   "execution_count": 286,
   "id": "5d59acca-ac91-4e3c-92e7-f20e362db732",
   "metadata": {
    "tags": []
   },
   "outputs": [
    {
     "ename": "SyntaxError",
     "evalue": "invalid syntax (3307253692.py, line 1)",
     "output_type": "error",
     "traceback": [
      "\u001b[1;36m  Cell \u001b[1;32mIn[286], line 1\u001b[1;36m\u001b[0m\n\u001b[1;33m    any([1[,2,3,]])\u001b[0m\n\u001b[1;37m           ^\u001b[0m\n\u001b[1;31mSyntaxError\u001b[0m\u001b[1;31m:\u001b[0m invalid syntax\n"
     ]
    }
   ],
   "source": [
    "any([1[,2,3,]])"
   ]
  },
  {
   "cell_type": "code",
   "execution_count": 288,
   "id": "00bdfc37-7fc1-40de-974d-011e0b241b87",
   "metadata": {
    "tags": []
   },
   "outputs": [
    {
     "ename": "SyntaxError",
     "evalue": "invalid syntax (3307011942.py, line 1)",
     "output_type": "error",
     "traceback": [
      "\u001b[1;36m  Cell \u001b[1;32mIn[288], line 1\u001b[1;36m\u001b[0m\n\u001b[1;33m    prd($ rogr)\u001b[0m\n\u001b[1;37m        ^\u001b[0m\n\u001b[1;31mSyntaxError\u001b[0m\u001b[1;31m:\u001b[0m invalid syntax\n"
     ]
    }
   ],
   "source": [
    "prd($ rogr)"
   ]
  },
  {
   "cell_type": "code",
   "execution_count": 289,
   "id": "e06b100a-2dfc-4043-a681-dfd2429553f8",
   "metadata": {
    "tags": []
   },
   "outputs": [
    {
     "ename": "SyntaxError",
     "evalue": "invalid decimal literal (251879410.py, line 1)",
     "output_type": "error",
     "traceback": [
      "\u001b[1;36m  Cell \u001b[1;32mIn[289], line 1\u001b[1;36m\u001b[0m\n\u001b[1;33m    1  byte = 8bit\u001b[0m\n\u001b[1;37m              ^\u001b[0m\n\u001b[1;31mSyntaxError\u001b[0m\u001b[1;31m:\u001b[0m invalid decimal literal\n"
     ]
    }
   ],
   "source": [
    "1  byte = 8bit\n",
    "0000000a ~11111111\n",
    "\n",
    "2*2*2*.... : 256\n",
    "\n",
    "128\n",
    "0~127\n",
    "ASCII\n"
   ]
  },
  {
   "cell_type": "code",
   "execution_count": null,
   "id": "456231f8-3fef-4212-8289-966a89504f34",
   "metadata": {},
   "outputs": [],
   "source": [
    "ord(\"a\")"
   ]
  }
 ],
 "metadata": {
  "kernelspec": {
   "display_name": "Python 3 (ipykernel)",
   "language": "python",
   "name": "python3"
  },
  "language_info": {
   "codemirror_mode": {
    "name": "ipython",
    "version": 3
   },
   "file_extension": ".py",
   "mimetype": "text/x-python",
   "name": "python",
   "nbconvert_exporter": "python",
   "pygments_lexer": "ipython3",
   "version": "3.10.9"
  }
 },
 "nbformat": 4,
 "nbformat_minor": 5
}
