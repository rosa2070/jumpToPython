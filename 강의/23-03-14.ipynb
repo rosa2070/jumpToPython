{
 "cells": [
  {
   "cell_type": "markdown",
   "id": "7aa30a1e-6028-4f41-8500-0baca70bdcdb",
   "metadata": {},
   "source": [
    "# While문\n",
    "- if + for\n",
    "- for : 반복횟수가 정해져 있을 때\n",
    "- break\n",
    "- continue"
   ]
  },
  {
   "cell_type": "code",
   "execution_count": 3,
   "id": "dd3d6410-198a-4fca-ab64-927a1b2536b0",
   "metadata": {
    "tags": []
   },
   "outputs": [
    {
     "data": {
      "text/plain": [
       "[3,\n",
       " 6,\n",
       " 9,\n",
       " 12,\n",
       " 15,\n",
       " 18,\n",
       " 21,\n",
       " 24,\n",
       " 27,\n",
       " 30,\n",
       " 33,\n",
       " 36,\n",
       " 39,\n",
       " 42,\n",
       " 45,\n",
       " 48,\n",
       " 51,\n",
       " 54,\n",
       " 57,\n",
       " 60,\n",
       " 63,\n",
       " 66,\n",
       " 69,\n",
       " 72,\n",
       " 75]"
      ]
     },
     "execution_count": 3,
     "metadata": {},
     "output_type": "execute_result"
    }
   ],
   "source": [
    "li = []\n",
    "i = 0\n",
    "count = 0\n",
    "while count <25:\n",
    "    i += 1\n",
    "    if i % 3 !=0:\n",
    "        continue\n",
    "    li.append(i)\n",
    "    count += 1\n",
    "li"
   ]
  },
  {
   "cell_type": "code",
   "execution_count": null,
   "id": "af430aca-be3b-4e7d-9fa9-5c43cc453f7e",
   "metadata": {},
   "outputs": [],
   "source": [
    "for i in range(10)L\n",
    "    if i % 5 == 0:\n",
    "        break\n",
    "    \n",
    "    print(i)"
   ]
  },
  {
   "cell_type": "code",
   "execution_count": 1,
   "id": "0457d89c-e31f-4fd5-b07d-3e3e198a7de1",
   "metadata": {},
   "outputs": [],
   "source": [
    "def add(a,b,c):\n",
    "    sum = a + b+ c\n",
    "    return sum"
   ]
  },
  {
   "cell_type": "code",
   "execution_count": 3,
   "id": "a07c910d-408b-475b-a82f-4cbd21e59a50",
   "metadata": {
    "tags": []
   },
   "outputs": [
    {
     "data": {
      "text/plain": [
       "6"
      ]
     },
     "execution_count": 3,
     "metadata": {},
     "output_type": "execute_result"
    }
   ],
   "source": [
    "add(1,2,3)"
   ]
  },
  {
   "cell_type": "code",
   "execution_count": 3,
   "id": "4a40a8b2-4f97-47ec-8381-2cf77447d269",
   "metadata": {
    "tags": []
   },
   "outputs": [],
   "source": [
    "def add(*a):\n",
    "    return a"
   ]
  },
  {
   "cell_type": "code",
   "execution_count": 4,
   "id": "c31cbb1f-82f0-4f5b-ac73-e718e35bb7b9",
   "metadata": {
    "tags": []
   },
   "outputs": [
    {
     "data": {
      "text/plain": [
       "(1, 2, 3, 4)"
      ]
     },
     "execution_count": 4,
     "metadata": {},
     "output_type": "execute_result"
    }
   ],
   "source": [
    "result = add(1,2,3,4)\n",
    "result"
   ]
  },
  {
   "cell_type": "code",
   "execution_count": 5,
   "id": "0ea1b509-a5c6-4995-a0c0-6aa9071a3a7c",
   "metadata": {},
   "outputs": [
    {
     "data": {
      "text/plain": [
       "tuple"
      ]
     },
     "execution_count": 5,
     "metadata": {},
     "output_type": "execute_result"
    }
   ],
   "source": [
    "type(result)"
   ]
  },
  {
   "cell_type": "code",
   "execution_count": 7,
   "id": "85c6677a-93d2-4c10-b1b5-59cca543a501",
   "metadata": {
    "tags": []
   },
   "outputs": [],
   "source": [
    "def add(*args):\n",
    "    sum = 0\n",
    "    for i in args:\n",
    "        sum += i\n",
    "        \n",
    "    return sum"
   ]
  },
  {
   "cell_type": "code",
   "execution_count": 8,
   "id": "bffeec25-824f-4af5-8187-391bdc0b3fac",
   "metadata": {
    "tags": []
   },
   "outputs": [
    {
     "data": {
      "text/plain": [
       "15"
      ]
     },
     "execution_count": 8,
     "metadata": {},
     "output_type": "execute_result"
    }
   ],
   "source": [
    "add(1,2,3,4,5)"
   ]
  },
  {
   "cell_type": "code",
   "execution_count": 18,
   "id": "68565458-e0c8-41cf-839f-83c9d68135f9",
   "metadata": {
    "tags": []
   },
   "outputs": [],
   "source": [
    "def add_mul(choice, *args):\n",
    "    if choice == \"add\":\n",
    "        sum = 0\n",
    "        for i in args:\n",
    "            sum += i\n",
    "        return sum\n",
    "    \n",
    "    if choice == \"mul\":\n",
    "        sum = 1\n",
    "        for i in args:\n",
    "            sum *= i\n",
    "        return sum\n",
    "    else:\n",
    "        return \"add 또는 mul을 입력하세요\""
   ]
  },
  {
   "cell_type": "code",
   "execution_count": 19,
   "id": "4a989e0b-977d-46ad-8bfc-d8ed9814650d",
   "metadata": {
    "tags": []
   },
   "outputs": [
    {
     "data": {
      "text/plain": [
       "10"
      ]
     },
     "execution_count": 19,
     "metadata": {},
     "output_type": "execute_result"
    }
   ],
   "source": [
    "add_mul(\"add\", 1,2,3,4)"
   ]
  },
  {
   "cell_type": "code",
   "execution_count": 20,
   "id": "ab4ef983-9992-45e2-9c44-40849dba83a5",
   "metadata": {
    "tags": []
   },
   "outputs": [
    {
     "data": {
      "text/plain": [
       "24"
      ]
     },
     "execution_count": 20,
     "metadata": {},
     "output_type": "execute_result"
    }
   ],
   "source": [
    "add_mul(\"mul\", 1,2,3,4)"
   ]
  },
  {
   "cell_type": "code",
   "execution_count": 21,
   "id": "493cd482-7a04-42e0-915f-1e59f1959bc0",
   "metadata": {
    "tags": []
   },
   "outputs": [
    {
     "data": {
      "text/plain": [
       "'add 또는 mul을 입력하세요'"
      ]
     },
     "execution_count": 21,
     "metadata": {},
     "output_type": "execute_result"
    }
   ],
   "source": [
    "add_mul(\"ad\", 1,2,3,4)"
   ]
  },
  {
   "cell_type": "markdown",
   "id": "0f6ccf3b-f879-4f5f-b048-e518a942cbee",
   "metadata": {},
   "source": [
    "- 키워드 파라미터"
   ]
  },
  {
   "cell_type": "code",
   "execution_count": 22,
   "id": "934619de-995a-4a28-a5a6-48115e2dab4d",
   "metadata": {
    "tags": []
   },
   "outputs": [],
   "source": [
    "def kw_args(**args):\n",
    "    print(args)"
   ]
  },
  {
   "cell_type": "code",
   "execution_count": 23,
   "id": "92c2dd82-c347-4189-801f-bc2df103cffa",
   "metadata": {
    "tags": []
   },
   "outputs": [
    {
     "name": "stdout",
     "output_type": "stream",
     "text": [
      "{'name': 'foo', 'age': 3}\n"
     ]
    }
   ],
   "source": [
    "kw_args(name='foo', age=3)"
   ]
  },
  {
   "cell_type": "code",
   "execution_count": 24,
   "id": "3c2c0e25-dc2d-49b7-b76b-ac8fbeab0dd2",
   "metadata": {
    "tags": []
   },
   "outputs": [],
   "source": [
    "def add_mul(*args):\n",
    "    sum = 0\n",
    "    for i in args:\n",
    "        sum += i\n",
    "    \n",
    "    result = 1\n",
    "    for i in args:\n",
    "        result *= i\n",
    "        \n",
    "    return sum, result"
   ]
  },
  {
   "cell_type": "code",
   "execution_count": 25,
   "id": "4a1e40d2-83e5-4a5d-9772-bf123e662c48",
   "metadata": {
    "tags": []
   },
   "outputs": [
    {
     "data": {
      "text/plain": [
       "(6, 6)"
      ]
     },
     "execution_count": 25,
     "metadata": {},
     "output_type": "execute_result"
    }
   ],
   "source": [
    "add_mul(1,2,3)"
   ]
  },
  {
   "cell_type": "code",
   "execution_count": 26,
   "id": "ff947b82-28e4-4d2d-b6ba-86ba31e740d2",
   "metadata": {
    "tags": []
   },
   "outputs": [
    {
     "name": "stdout",
     "output_type": "stream",
     "text": [
      "합은 10이고 곱은 24입니다\n"
     ]
    }
   ],
   "source": [
    "a,b = add_mul(1,2,3,4)\n",
    "print(f\"합은 {a}이고 곱은 {b}입니다\")\n"
   ]
  },
  {
   "cell_type": "markdown",
   "id": "792f2163-d035-4eee-bd5c-cdc595d4252b",
   "metadata": {},
   "source": [
    "# 변수의 효력범위"
   ]
  },
  {
   "cell_type": "code",
   "execution_count": 43,
   "id": "9f03b363-4053-4c34-87ba-553ffd63a762",
   "metadata": {
    "tags": []
   },
   "outputs": [],
   "source": [
    "a =1\n",
    "def var_test():\n",
    "    b = 2\n",
    "    a = 10\n",
    "    return a+b"
   ]
  },
  {
   "cell_type": "code",
   "execution_count": 44,
   "id": "57419dc6-e868-4a1e-aa08-7e4b19100f41",
   "metadata": {
    "tags": []
   },
   "outputs": [
    {
     "data": {
      "text/plain": [
       "12"
      ]
     },
     "execution_count": 44,
     "metadata": {},
     "output_type": "execute_result"
    }
   ],
   "source": [
    "var_test()"
   ]
  },
  {
   "cell_type": "code",
   "execution_count": 45,
   "id": "8d37397c-1dd2-4d10-9fe0-f7de11b421d3",
   "metadata": {
    "tags": []
   },
   "outputs": [
    {
     "name": "stdout",
     "output_type": "stream",
     "text": [
      "1\n"
     ]
    }
   ],
   "source": [
    "print(a)"
   ]
  },
  {
   "cell_type": "code",
   "execution_count": 42,
   "id": "6540bf43-a32c-424b-a609-c75cca4a6d37",
   "metadata": {
    "tags": []
   },
   "outputs": [
    {
     "ename": "NameError",
     "evalue": "name 'b' is not defined",
     "output_type": "error",
     "traceback": [
      "\u001b[1;31m---------------------------------------------------------------------------\u001b[0m",
      "\u001b[1;31mNameError\u001b[0m                                 Traceback (most recent call last)",
      "Cell \u001b[1;32mIn[42], line 1\u001b[0m\n\u001b[1;32m----> 1\u001b[0m \u001b[38;5;28mprint\u001b[39m(\u001b[43mb\u001b[49m)\n",
      "\u001b[1;31mNameError\u001b[0m: name 'b' is not defined"
     ]
    }
   ],
   "source": [
    "print(b)\n",
    "#함수 안에 만들어진 변수는 함수가 끝나면 사라져"
   ]
  },
  {
   "cell_type": "code",
   "execution_count": 49,
   "id": "213498a6-320a-422e-8436-d3fa65b71905",
   "metadata": {
    "tags": []
   },
   "outputs": [],
   "source": [
    "a = 1 #전역변수(global variable)\n",
    "def var_test():\n",
    "    global a\n",
    "    b = 2 # 지역변수 (local variable)\n",
    "    a = 10\n",
    "    return a+b"
   ]
  },
  {
   "cell_type": "code",
   "execution_count": 47,
   "id": "01542578-cfe6-48d7-bb67-6e23dfab9fb9",
   "metadata": {
    "tags": []
   },
   "outputs": [
    {
     "data": {
      "text/plain": [
       "12"
      ]
     },
     "execution_count": 47,
     "metadata": {},
     "output_type": "execute_result"
    }
   ],
   "source": [
    "var_test()"
   ]
  },
  {
   "cell_type": "code",
   "execution_count": 48,
   "id": "41b4a27e-9c26-4aea-9cb2-4d55449c8529",
   "metadata": {
    "tags": []
   },
   "outputs": [
    {
     "name": "stdout",
     "output_type": "stream",
     "text": [
      "10\n"
     ]
    }
   ],
   "source": [
    "print(a)"
   ]
  },
  {
   "cell_type": "code",
   "execution_count": 50,
   "id": "85492295-f9a2-403c-be57-c248fcf6b7a4",
   "metadata": {
    "tags": []
   },
   "outputs": [
    {
     "data": {
      "text/plain": [
       "10"
      ]
     },
     "execution_count": 50,
     "metadata": {},
     "output_type": "execute_result"
    }
   ],
   "source": [
    "sum = 0\n",
    "for i in range(5):\n",
    "    sum += i\n",
    "sum"
   ]
  },
  {
   "cell_type": "markdown",
   "id": "0948ec86-887d-4ccf-af3e-b96a0ece490d",
   "metadata": {},
   "source": [
    "### 람다함수\n",
    "- 익명함수 anonymous function"
   ]
  },
  {
   "cell_type": "code",
   "execution_count": 57,
   "id": "5d215818-2a48-4a52-9c5b-20e5ce4172a6",
   "metadata": {
    "tags": []
   },
   "outputs": [],
   "source": [
    "def twice(a) :\n",
    "    b = a*2\n",
    "    return b\n",
    "\n",
    "def twice(a):\n",
    "    return a*2\n",
    "\n",
    "f =lambda a: a*2\n"
   ]
  },
  {
   "cell_type": "code",
   "execution_count": 55,
   "id": "7087898f-7183-4c92-86d2-168858827917",
   "metadata": {
    "tags": []
   },
   "outputs": [
    {
     "data": {
      "text/plain": [
       "12"
      ]
     },
     "execution_count": 55,
     "metadata": {},
     "output_type": "execute_result"
    }
   ],
   "source": [
    "twice(6)"
   ]
  },
  {
   "cell_type": "code",
   "execution_count": 58,
   "id": "b546f11a-1883-4acf-b5b9-ac594b1e41f0",
   "metadata": {
    "tags": []
   },
   "outputs": [
    {
     "data": {
      "text/plain": [
       "6"
      ]
     },
     "execution_count": 58,
     "metadata": {},
     "output_type": "execute_result"
    }
   ],
   "source": [
    "f(3)"
   ]
  },
  {
   "cell_type": "code",
   "execution_count": 60,
   "id": "d1139866-4b9a-4ec0-b728-25b7de378a0c",
   "metadata": {
    "tags": []
   },
   "outputs": [
    {
     "data": {
      "text/plain": [
       "10"
      ]
     },
     "execution_count": 60,
     "metadata": {},
     "output_type": "execute_result"
    }
   ],
   "source": [
    "(lambda a: a*2)(5)"
   ]
  },
  {
   "cell_type": "code",
   "execution_count": 61,
   "id": "e1d57083-8ffd-487c-bd9c-0e2141bb33b3",
   "metadata": {
    "tags": []
   },
   "outputs": [
    {
     "data": {
      "text/plain": [
       "3"
      ]
     },
     "execution_count": 61,
     "metadata": {},
     "output_type": "execute_result"
    }
   ],
   "source": [
    "(lambda a, b : a+b)(1,2)"
   ]
  },
  {
   "cell_type": "code",
   "execution_count": 1,
   "id": "973f1b69-224b-4b2c-9c98-0e077d81efee",
   "metadata": {
    "tags": []
   },
   "outputs": [
    {
     "data": {
      "text/plain": [
       "3"
      ]
     },
     "execution_count": 1,
     "metadata": {},
     "output_type": "execute_result"
    }
   ],
   "source": [
    "add = lambda a,b : a+b\n",
    "add(1,2)"
   ]
  },
  {
   "cell_type": "markdown",
   "id": "9532d39e-24ae-496e-8455-3b9a34ff17c9",
   "metadata": {},
   "source": [
    "### 재귀함수"
   ]
  },
  {
   "cell_type": "code",
   "execution_count": 4,
   "id": "0682b152-a977-43fd-92a7-015b06f37229",
   "metadata": {
    "tags": []
   },
   "outputs": [],
   "source": [
    "import time\n",
    "def Hello():\n",
    "    print(\"안녕하세요\")\n",
    "    time.sleep(1)\n",
    "    Hello()"
   ]
  },
  {
   "cell_type": "code",
   "execution_count": 5,
   "id": "0125295f-7c2e-4ca1-be7d-5201b34d852a",
   "metadata": {
    "tags": []
   },
   "outputs": [
    {
     "name": "stdout",
     "output_type": "stream",
     "text": [
      "안녕하세요\n",
      "안녕하세요\n",
      "안녕하세요\n",
      "안녕하세요\n",
      "안녕하세요\n",
      "안녕하세요\n",
      "안녕하세요\n",
      "안녕하세요\n",
      "안녕하세요\n",
      "안녕하세요\n"
     ]
    },
    {
     "ename": "KeyboardInterrupt",
     "evalue": "",
     "output_type": "error",
     "traceback": [
      "\u001b[1;31m---------------------------------------------------------------------------\u001b[0m",
      "\u001b[1;31mKeyboardInterrupt\u001b[0m                         Traceback (most recent call last)",
      "Cell \u001b[1;32mIn[5], line 1\u001b[0m\n\u001b[1;32m----> 1\u001b[0m \u001b[43mHello\u001b[49m\u001b[43m(\u001b[49m\u001b[43m)\u001b[49m\n",
      "Cell \u001b[1;32mIn[4], line 5\u001b[0m, in \u001b[0;36mHello\u001b[1;34m()\u001b[0m\n\u001b[0;32m      3\u001b[0m \u001b[38;5;28mprint\u001b[39m(\u001b[38;5;124m\"\u001b[39m\u001b[38;5;124m안녕하세요\u001b[39m\u001b[38;5;124m\"\u001b[39m)\n\u001b[0;32m      4\u001b[0m time\u001b[38;5;241m.\u001b[39msleep(\u001b[38;5;241m1\u001b[39m)\n\u001b[1;32m----> 5\u001b[0m \u001b[43mHello\u001b[49m\u001b[43m(\u001b[49m\u001b[43m)\u001b[49m\n",
      "Cell \u001b[1;32mIn[4], line 5\u001b[0m, in \u001b[0;36mHello\u001b[1;34m()\u001b[0m\n\u001b[0;32m      3\u001b[0m \u001b[38;5;28mprint\u001b[39m(\u001b[38;5;124m\"\u001b[39m\u001b[38;5;124m안녕하세요\u001b[39m\u001b[38;5;124m\"\u001b[39m)\n\u001b[0;32m      4\u001b[0m time\u001b[38;5;241m.\u001b[39msleep(\u001b[38;5;241m1\u001b[39m)\n\u001b[1;32m----> 5\u001b[0m \u001b[43mHello\u001b[49m\u001b[43m(\u001b[49m\u001b[43m)\u001b[49m\n",
      "    \u001b[1;31m[... skipping similar frames: Hello at line 5 (6 times)]\u001b[0m\n",
      "Cell \u001b[1;32mIn[4], line 5\u001b[0m, in \u001b[0;36mHello\u001b[1;34m()\u001b[0m\n\u001b[0;32m      3\u001b[0m \u001b[38;5;28mprint\u001b[39m(\u001b[38;5;124m\"\u001b[39m\u001b[38;5;124m안녕하세요\u001b[39m\u001b[38;5;124m\"\u001b[39m)\n\u001b[0;32m      4\u001b[0m time\u001b[38;5;241m.\u001b[39msleep(\u001b[38;5;241m1\u001b[39m)\n\u001b[1;32m----> 5\u001b[0m \u001b[43mHello\u001b[49m\u001b[43m(\u001b[49m\u001b[43m)\u001b[49m\n",
      "Cell \u001b[1;32mIn[4], line 4\u001b[0m, in \u001b[0;36mHello\u001b[1;34m()\u001b[0m\n\u001b[0;32m      2\u001b[0m \u001b[38;5;28;01mdef\u001b[39;00m \u001b[38;5;21mHello\u001b[39m():\n\u001b[0;32m      3\u001b[0m     \u001b[38;5;28mprint\u001b[39m(\u001b[38;5;124m\"\u001b[39m\u001b[38;5;124m안녕하세요\u001b[39m\u001b[38;5;124m\"\u001b[39m)\n\u001b[1;32m----> 4\u001b[0m     \u001b[43mtime\u001b[49m\u001b[38;5;241;43m.\u001b[39;49m\u001b[43msleep\u001b[49m\u001b[43m(\u001b[49m\u001b[38;5;241;43m1\u001b[39;49m\u001b[43m)\u001b[49m\n\u001b[0;32m      5\u001b[0m     Hello()\n",
      "\u001b[1;31mKeyboardInterrupt\u001b[0m: "
     ]
    }
   ],
   "source": [
    "Hello()"
   ]
  },
  {
   "cell_type": "code",
   "execution_count": 12,
   "id": "5ee4f020-08e8-404c-9d04-09d8422583d4",
   "metadata": {},
   "outputs": [],
   "source": [
    "def hello(count):\n",
    "    if count == 0:\n",
    "        return\n",
    "    \n",
    "    count -= 1\n",
    "    print(\"안녕하세요\")\n",
    "    time.sleep(1)\n",
    "    hello(count)"
   ]
  },
  {
   "cell_type": "code",
   "execution_count": 14,
   "id": "6b5da39b-17a6-4049-8456-7aec07774a92",
   "metadata": {
    "tags": []
   },
   "outputs": [
    {
     "name": "stdout",
     "output_type": "stream",
     "text": [
      "안녕하세요\n",
      "안녕하세요\n",
      "안녕하세요\n",
      "안녕하세요\n",
      "안녕하세요\n",
      "안녕하세요\n",
      "안녕하세요\n",
      "안녕하세요\n",
      "안녕하세요\n",
      "안녕하세요\n"
     ]
    }
   ],
   "source": [
    "hello(10)"
   ]
  },
  {
   "cell_type": "code",
   "execution_count": 17,
   "id": "b83ac41f-50d1-43b2-b05d-225b023d6eac",
   "metadata": {
    "tags": []
   },
   "outputs": [],
   "source": [
    "# factorial 구하기\n",
    "def factorial(n):\n",
    "    if n == 1: \n",
    "        return 1\n",
    "    \n",
    "    return n*factorial(n-1)\n",
    "\n",
    "    "
   ]
  },
  {
   "cell_type": "code",
   "execution_count": 18,
   "id": "805af392-aabe-473c-97f5-4f74b7dac78a",
   "metadata": {
    "tags": []
   },
   "outputs": [
    {
     "data": {
      "text/plain": [
       "3628800"
      ]
     },
     "execution_count": 18,
     "metadata": {},
     "output_type": "execute_result"
    }
   ],
   "source": [
    "factorial(10)"
   ]
  },
  {
   "cell_type": "code",
   "execution_count": 19,
   "id": "601264a2-5cff-49c1-88f2-8cf68e39d2e3",
   "metadata": {
    "tags": []
   },
   "outputs": [
    {
     "data": {
      "text/plain": [
       "120"
      ]
     },
     "execution_count": 19,
     "metadata": {},
     "output_type": "execute_result"
    }
   ],
   "source": [
    "factorial(5)"
   ]
  },
  {
   "cell_type": "code",
   "execution_count": 20,
   "id": "cef1ed32-7b06-42e1-a4a7-4632c0c35673",
   "metadata": {
    "tags": []
   },
   "outputs": [
    {
     "data": {
      "text/plain": [
       "6"
      ]
     },
     "execution_count": 20,
     "metadata": {},
     "output_type": "execute_result"
    }
   ],
   "source": [
    "factorial(3)"
   ]
  },
  {
   "cell_type": "code",
   "execution_count": 21,
   "id": "c1b55c25-1adc-42b5-9910-7e7c20a10a83",
   "metadata": {
    "tags": []
   },
   "outputs": [
    {
     "data": {
      "text/plain": [
       "120"
      ]
     },
     "execution_count": 21,
     "metadata": {},
     "output_type": "execute_result"
    }
   ],
   "source": [
    "factorial(5)"
   ]
  },
  {
   "cell_type": "code",
   "execution_count": 18,
   "id": "5a97b20c-48d9-4483-a0ff-492cec2e7382",
   "metadata": {
    "tags": []
   },
   "outputs": [],
   "source": [
    "# 피보나치 구하기\n",
    "\n",
    "1,1,2,3,5,8, 13, 21, \n",
    "def fib(n):\n",
    "    if n == 1 or n==2:\n",
    "        return 1\n",
    "    return fib(n-1) + fib(n-2)\n",
    "\n",
    "    "
   ]
  },
  {
   "cell_type": "code",
   "execution_count": 19,
   "id": "03ae39fd-3547-4501-9374-5e9e7ef50df7",
   "metadata": {
    "tags": []
   },
   "outputs": [
    {
     "data": {
      "text/plain": [
       "5"
      ]
     },
     "execution_count": 19,
     "metadata": {},
     "output_type": "execute_result"
    }
   ],
   "source": [
    "fib(5)"
   ]
  },
  {
   "cell_type": "code",
   "execution_count": 23,
   "id": "cabc5145-dffb-441e-9fa9-08ddfb07b927",
   "metadata": {
    "tags": []
   },
   "outputs": [
    {
     "ename": "UnboundLocalError",
     "evalue": "local variable 'result' referenced before assignment",
     "output_type": "error",
     "traceback": [
      "\u001b[1;31m---------------------------------------------------------------------------\u001b[0m",
      "\u001b[1;31mUnboundLocalError\u001b[0m                         Traceback (most recent call last)",
      "Cell \u001b[1;32mIn[23], line 6\u001b[0m\n\u001b[0;32m      3\u001b[0m         result \u001b[38;5;241m*\u001b[39m\u001b[38;5;241m=\u001b[39m i\n\u001b[0;32m      4\u001b[0m     \u001b[38;5;28;01mreturn\u001b[39;00m result\n\u001b[1;32m----> 6\u001b[0m \u001b[43mfac\u001b[49m\u001b[43m(\u001b[49m\u001b[38;5;241;43m5\u001b[39;49m\u001b[43m)\u001b[49m\n",
      "Cell \u001b[1;32mIn[23], line 3\u001b[0m, in \u001b[0;36mfac\u001b[1;34m(n)\u001b[0m\n\u001b[0;32m      1\u001b[0m \u001b[38;5;28;01mdef\u001b[39;00m \u001b[38;5;21mfac\u001b[39m(n):\n\u001b[0;32m      2\u001b[0m     \u001b[38;5;28;01mfor\u001b[39;00m i \u001b[38;5;129;01min\u001b[39;00m \u001b[38;5;28mrange\u001b[39m(\u001b[38;5;241m1\u001b[39m, n\u001b[38;5;241m+\u001b[39m\u001b[38;5;241m1\u001b[39m):\n\u001b[1;32m----> 3\u001b[0m         result \u001b[38;5;241m*\u001b[39m\u001b[38;5;241m=\u001b[39m i\n\u001b[0;32m      4\u001b[0m     \u001b[38;5;28;01mreturn\u001b[39;00m result\n",
      "\u001b[1;31mUnboundLocalError\u001b[0m: local variable 'result' referenced before assignment"
     ]
    }
   ],
   "source": [
    "def fac(n):\n",
    "    for i in range(1, n+1):\n",
    "        result *= i\n",
    "    return result\n",
    "\n",
    "fac(5)\n"
   ]
  },
  {
   "cell_type": "code",
   "execution_count": 24,
   "id": "0a82b2ae-4334-4753-8fa9-8b70eb8fb2d0",
   "metadata": {
    "tags": []
   },
   "outputs": [
    {
     "data": {
      "text/plain": [
       "6"
      ]
     },
     "execution_count": 24,
     "metadata": {},
     "output_type": "execute_result"
    }
   ],
   "source": [
    "li =[1,2,3]\n",
    "sum(li)"
   ]
  },
  {
   "cell_type": "code",
   "execution_count": 25,
   "id": "9dad4df7-f970-48fb-9df3-bd4c9bea392a",
   "metadata": {
    "tags": []
   },
   "outputs": [
    {
     "ename": "SyntaxError",
     "evalue": "cannot delete function call (3368617586.py, line 1)",
     "output_type": "error",
     "traceback": [
      "\u001b[1;36m  Cell \u001b[1;32mIn[25], line 1\u001b[1;36m\u001b[0m\n\u001b[1;33m    del sum(p)\u001b[0m\n\u001b[1;37m        ^\u001b[0m\n\u001b[1;31mSyntaxError\u001b[0m\u001b[1;31m:\u001b[0m cannot delete function call\n"
     ]
    }
   ],
   "source": [
    "del sum(p)"
   ]
  },
  {
   "cell_type": "code",
   "execution_count": 26,
   "id": "c6ce0c93-0530-47e8-ac60-182d163f8107",
   "metadata": {
    "tags": []
   },
   "outputs": [],
   "source": [
    "# 여러 개의 숫자를 입력 받아서 합을 구하는 함수를 만들어 봅시다."
   ]
  },
  {
   "cell_type": "code",
   "execution_count": 27,
   "id": "c2f392f0-b4e9-4f90-aef2-d5e21fda28f9",
   "metadata": {
    "tags": []
   },
   "outputs": [],
   "source": [
    "def sum(*args):\n",
    "    result = 0\n",
    "    for i in args:\n",
    "        result += i\n",
    "    return result"
   ]
  },
  {
   "cell_type": "code",
   "execution_count": 28,
   "id": "f687cb53-88bc-475c-b468-c7f91e37969a",
   "metadata": {
    "tags": []
   },
   "outputs": [
    {
     "data": {
      "text/plain": [
       "48"
      ]
     },
     "execution_count": 28,
     "metadata": {},
     "output_type": "execute_result"
    }
   ],
   "source": [
    "sum(1,4,36,7)"
   ]
  },
  {
   "cell_type": "markdown",
   "id": "3a2b801a-a727-46e6-a974-bcc33ea12cad",
   "metadata": {
    "tags": []
   },
   "source": [
    "## 파일 입출력(File IO)\n",
    "- 객체를 만든다.\n",
    "- 객체가 쓴다.\n",
    "- 객체를 닫는다."
   ]
  },
  {
   "cell_type": "code",
   "execution_count": 33,
   "id": "1a85c84d-55bc-463e-a61c-927a6dfca1ce",
   "metadata": {
    "tags": []
   },
   "outputs": [],
   "source": [
    "f = open(\"test.txt\", \"w\")"
   ]
  },
  {
   "cell_type": "code",
   "execution_count": 34,
   "id": "eb570fa0-7acb-4882-ad38-96621430e690",
   "metadata": {
    "tags": []
   },
   "outputs": [
    {
     "data": {
      "text/plain": [
       "_io.TextIOWrapper"
      ]
     },
     "execution_count": 34,
     "metadata": {},
     "output_type": "execute_result"
    }
   ],
   "source": [
    "type(f)"
   ]
  },
  {
   "cell_type": "code",
   "execution_count": 35,
   "id": "50a24344-1782-4b3b-9503-999619d697bc",
   "metadata": {
    "tags": []
   },
   "outputs": [
    {
     "data": {
      "text/plain": [
       "5"
      ]
     },
     "execution_count": 35,
     "metadata": {},
     "output_type": "execute_result"
    }
   ],
   "source": [
    "f.write(\"Hello\")"
   ]
  },
  {
   "cell_type": "code",
   "execution_count": 36,
   "id": "fff343a6-5639-4fb0-a6d9-c77222f64614",
   "metadata": {
    "tags": []
   },
   "outputs": [],
   "source": [
    "f.close()"
   ]
  },
  {
   "cell_type": "code",
   "execution_count": 38,
   "id": "193d17ee-c631-4d1d-81d7-d9c2b5c7001b",
   "metadata": {
    "tags": []
   },
   "outputs": [],
   "source": [
    "f = open(\"test.txt\", \"w\")\n",
    "f.write(\"Hello\")\n",
    "f.close()"
   ]
  },
  {
   "cell_type": "code",
   "execution_count": 51,
   "id": "a6a75122-2338-40aa-9988-d19f6210b815",
   "metadata": {
    "tags": []
   },
   "outputs": [],
   "source": [
    "f = open(\"test.txt\", \"w\")\n",
    "for i in range(10):\n",
    "    f.write(f\"{i} Hello\\n\")\n",
    "f.close()"
   ]
  },
  {
   "cell_type": "markdown",
   "id": "d6ffa3c8-e26e-4f6d-99d9-2f2b441e8992",
   "metadata": {
    "tags": []
   },
   "source": [
    "- 읽기(r), 쓰기(w), 추가(a)"
   ]
  },
  {
   "cell_type": "code",
   "execution_count": 54,
   "id": "be10c09f-326c-4cee-b43a-3dd6696b1372",
   "metadata": {
    "tags": []
   },
   "outputs": [],
   "source": [
    "f = open(\"test.txt\", \"a\")\n",
    "for i in range(100, 110):\n",
    "    f.write(f\"{i} Hello \\n\")\n",
    "f.close()"
   ]
  },
  {
   "cell_type": "markdown",
   "id": "091747bc-6338-4281-a516-6489b0a1db95",
   "metadata": {},
   "source": [
    "#### 읽기"
   ]
  },
  {
   "cell_type": "code",
   "execution_count": 56,
   "id": "cc77d439-02f3-48d7-8536-bf58db951793",
   "metadata": {
    "tags": []
   },
   "outputs": [
    {
     "name": "stdout",
     "output_type": "stream",
     "text": [
      "0 Hello\n",
      "\n"
     ]
    }
   ],
   "source": [
    "# 1. readline()\n",
    "\n",
    "f = open(\"test.txt\", \"r\")\n",
    "line = f.readline()\n",
    "print(line)\n",
    "f.close()"
   ]
  },
  {
   "cell_type": "code",
   "execution_count": 62,
   "id": "199baff0-4857-4b10-8450-475314b7c26c",
   "metadata": {
    "tags": []
   },
   "outputs": [
    {
     "name": "stdout",
     "output_type": "stream",
     "text": [
      "0 Hello\n",
      "1 Hello\n",
      "2 Hello\n",
      "3 Hello\n",
      "4 Hello\n",
      "5 Hello\n",
      "6 Hello\n",
      "7 Hello\n",
      "8 Hello\n",
      "9 Hello\n",
      "100 Hello \n",
      "101 Hello \n",
      "102 Hello \n",
      "103 Hello \n",
      "104 Hello \n",
      "105 Hello \n",
      "106 Hello \n",
      "107 Hello \n",
      "108 Hello \n",
      "109 Hello \n",
      "100 Hello \n",
      "101 Hello \n",
      "102 Hello \n",
      "103 Hello \n",
      "104 Hello \n",
      "105 Hello \n",
      "106 Hello \n",
      "107 Hello \n",
      "108 Hello \n",
      "109 Hello \n",
      "['0 Hello\\n', '1 Hello\\n', '2 Hello\\n', '3 Hello\\n', '4 Hello\\n', '5 Hello\\n', '6 Hello\\n', '7 Hello\\n', '8 Hello\\n', '9 Hello\\n', '100 Hello \\n', '101 Hello \\n', '102 Hello \\n', '103 Hello \\n', '104 Hello \\n', '105 Hello \\n', '106 Hello \\n', '107 Hello \\n', '108 Hello \\n', '109 Hello \\n', '100 Hello \\n', '101 Hello \\n', '102 Hello \\n', '103 Hello \\n', '104 Hello \\n', '105 Hello \\n', '106 Hello \\n', '107 Hello \\n', '108 Hello \\n', '109 Hello \\n']\n"
     ]
    }
   ],
   "source": [
    "# 2. readlines() 제일 많이 쓰는 방식\n",
    "f = open(\"test.txt\", \"r\")\n",
    "lines = f.readlines()\n",
    "for line in lines:\n",
    "    print(line, end=\"\")\n",
    "print(lines)\n",
    "f.close()"
   ]
  },
  {
   "cell_type": "code",
   "execution_count": 61,
   "id": "2448cbc5-ef0c-4264-8d02-3646166bbb62",
   "metadata": {
    "tags": []
   },
   "outputs": [
    {
     "name": "stdout",
     "output_type": "stream",
     "text": [
      "0 Hello\n",
      "1 Hello\n",
      "2 Hello\n",
      "3 Hello\n",
      "4 Hello\n",
      "5 Hello\n",
      "6 Hello\n",
      "7 Hello\n",
      "8 Hello\n",
      "9 Hello\n",
      "100 Hello \n",
      "101 Hello \n",
      "102 Hello \n",
      "103 Hello \n",
      "104 Hello \n",
      "105 Hello \n",
      "106 Hello \n",
      "107 Hello \n",
      "108 Hello \n",
      "109 Hello \n",
      "100 Hello \n",
      "101 Hello \n",
      "102 Hello \n",
      "103 Hello \n",
      "104 Hello \n",
      "105 Hello \n",
      "106 Hello \n",
      "107 Hello \n",
      "108 Hello \n",
      "109 Hello \n",
      "\n"
     ]
    }
   ],
   "source": [
    "# 3. read()\n",
    "f = open(\"test.txt\", \"r\")\n",
    "data = f.read()\n",
    "print(data)\n",
    "f.close()"
   ]
  },
  {
   "cell_type": "code",
   "execution_count": 84,
   "id": "22c5c5ee-2c4a-441f-9d7f-76270ca745e4",
   "metadata": {
    "tags": []
   },
   "outputs": [
    {
     "name": "stdout",
     "output_type": "stream",
     "text": [
      "GOOD MORNING\n",
      "GOOD AFTERNOON\n",
      "GOOD EVENING\n"
     ]
    }
   ],
   "source": [
    "#Good Morning\n",
    "#Good Afternoon\n",
    "#Good Evening\n",
    "\n",
    "#txt파일을 만들고,\n",
    "#세줄을 읽어서 출력하기.\n",
    "\n",
    "f = open(\"test.txt\", \"w\")\n",
    "f.write(\"Good Morning\\n\"\"Good Afternoon\\n\"\"Good Evening\")\n",
    "f.close()\n",
    "\n",
    "f = open(\"test.txt\", \"r\")\n",
    "lines = f.readlines()\n",
    "for line in lines:\n",
    "    line = line.rstrip().upper()\n",
    "    print(line)\n",
    "f.close()"
   ]
  },
  {
   "cell_type": "code",
   "execution_count": 85,
   "id": "4637e559-8a04-4947-8018-76dc0b149c86",
   "metadata": {
    "tags": []
   },
   "outputs": [],
   "source": [
    "f = open(\"test.txt\", \"w\")\n",
    "f.write(\"Good Morning\\n\"\"Good Afternoon\\n\"\"Good Evening\")\n",
    "f.close()"
   ]
  },
  {
   "cell_type": "code",
   "execution_count": 91,
   "id": "fe530509-76de-4924-ba45-e934c8691fd2",
   "metadata": {
    "tags": []
   },
   "outputs": [
    {
     "name": "stdout",
     "output_type": "stream",
     "text": [
      "GOOD MORNING\n",
      "GOOD AFTERNOON\n",
      "GOOD EVENING\n"
     ]
    }
   ],
   "source": [
    "# with 구문\n",
    "with open(\"test1.txt\", \"w\") as f:\n",
    "    f.write(\"Good Morning\\n\"\"Good Afternoon\\n\"\"Good Evening\")\n",
    "\n",
    "with open(\"test1.txt\", \"r\") as f:\n",
    "    lines = f.readlines()\n",
    "    for line in lines:\n",
    "        line = line.rstrip().upper()\n",
    "        print(line)\n",
    "        \n"
   ]
  },
  {
   "cell_type": "code",
   "execution_count": null,
   "id": "e115f4ab-10de-4ea0-851b-dfb0eb16de1e",
   "metadata": {},
   "outputs": [],
   "source": [
    "~176"
   ]
  }
 ],
 "metadata": {
  "kernelspec": {
   "display_name": "Python 3 (ipykernel)",
   "language": "python",
   "name": "python3"
  },
  "language_info": {
   "codemirror_mode": {
    "name": "ipython",
    "version": 3
   },
   "file_extension": ".py",
   "mimetype": "text/x-python",
   "name": "python",
   "nbconvert_exporter": "python",
   "pygments_lexer": "ipython3",
   "version": "3.10.9"
  }
 },
 "nbformat": 4,
 "nbformat_minor": 5
}
