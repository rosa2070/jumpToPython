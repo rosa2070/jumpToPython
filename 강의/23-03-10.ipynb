{
 "cells": [
  {
   "cell_type": "markdown",
   "id": "4bd601b7-b28b-4a27-bc21-0a5dea059ae6",
   "metadata": {
    "tags": []
   },
   "source": [
    "# 복습"
   ]
  },
  {
   "cell_type": "code",
   "execution_count": 1,
   "id": "8bfa0bc2-6b95-447d-ab8e-f1a4b4597795",
   "metadata": {
    "tags": []
   },
   "outputs": [
    {
     "data": {
      "text/plain": [
       "int"
      ]
     },
     "execution_count": 1,
     "metadata": {},
     "output_type": "execute_result"
    }
   ],
   "source": [
    "#자료형을 파악하는 함수는?\n",
    "a=12\n",
    "type(12)"
   ]
  },
  {
   "cell_type": "code",
   "execution_count": 1,
   "id": "0660f67d-8214-4a6b-837f-c53672cb06b6",
   "metadata": {},
   "outputs": [],
   "source": [
    "import tensorflow as tf"
   ]
  },
  {
   "cell_type": "code",
   "execution_count": 4,
   "id": "5bb1aa13-1951-4c26-8d58-9b373025aad3",
   "metadata": {
    "tags": []
   },
   "outputs": [
    {
     "name": "stdin",
     "output_type": "stream",
     "text": [
      "수학성적을 입력하세요:  20\n",
      "영어성적을 입력하세요:  60\n"
     ]
    },
    {
     "name": "stdout",
     "output_type": "stream",
     "text": [
      "나의 이름은 20 이고 나이는 60살이며, 평균은 40.0입니다.\n"
     ]
    }
   ],
   "source": [
    "math = int(input(\"수학성적을 입력하세요: \"))\n",
    "english = int(input(\"영어성적을 입력하세요: \"))\n",
    "mean = (math + english)/2\n",
    "\n",
    "print(f\"나의 이름은 {math} 이고 나이는 {english}살이며, 평균은 {mean}입니다.\")"
   ]
  },
  {
   "cell_type": "code",
   "execution_count": 14,
   "id": "df6f6a13-193e-4382-9544-8c8d3d92ac4a",
   "metadata": {},
   "outputs": [
    {
     "name": "stdin",
     "output_type": "stream",
     "text": [
      "주민번호를 입력하세요:  981224-3\n",
      "이름을 입력하세요:  ㅇ\n"
     ]
    },
    {
     "name": "stdout",
     "output_type": "stream",
     "text": [
      "저는 98년 12월 24일에 태어난 ㅇ입니다.\n",
      "당신은 남자시군요\n"
     ]
    }
   ],
   "source": [
    "num = str(input(\"주민번호를 입력하세요: \"))\n",
    "name = str(input(\"이름을 입력하세요: \"))\n",
    "year = num[:2]\n",
    "month = num[2:4]\n",
    "day = num[4:6]\n",
    "\n",
    "print(f\"저는 {year}년 {month}월 {day}일에 태어난 {name}입니다.\")\n",
    "if num[7] == \"1\" or \"3\":\n",
    "    print(f\"당신은 남자시군요\")\n",
    "\n",
    "else:\n",
    "    print(f\"당신은 여자시군요\")\n"
   ]
  },
  {
   "cell_type": "code",
   "execution_count": 15,
   "id": "8c5931ff-fd73-4562-a8fe-77b3176ded9a",
   "metadata": {
    "tags": []
   },
   "outputs": [
    {
     "name": "stdout",
     "output_type": "stream",
     "text": [
      "오늘, 3월10일은 오후 3시에 최고기온 20도로 더운 날이 될 것 같다\n"
     ]
    }
   ],
   "source": [
    "#57~0\n",
    "#1. %를 이용하기\n",
    "day = \"3월10일\"\n",
    "time = 3\n",
    "max_temp = 20\n",
    "\n",
    "print(\"오늘, %s은 오후 %d시에 최고기온 %d도로 더운 날이 될 것 같다\" %(day,time,max_temp))"
   ]
  },
  {
   "cell_type": "code",
   "execution_count": 17,
   "id": "dcd5708e-e4e7-46b7-838a-c0b105ab61e8",
   "metadata": {
    "tags": []
   },
   "outputs": [
    {
     "name": "stdout",
     "output_type": "stream",
     "text": [
      "오늘, 3월10일은 오후 3시에 최고기온 20도로 더운 날이 될 것 같다\n"
     ]
    }
   ],
   "source": [
    "#2. .format()을 이용하기\n",
    "day = \"3월10일\"\n",
    "time = 3\n",
    "max_temp = 20\n",
    "\n",
    "print(\"오늘, {}은 오후 {}시에 최고기온 {}도로 더운 날이 될 것 같다\".format(day,time,max_temp))"
   ]
  },
  {
   "cell_type": "code",
   "execution_count": 18,
   "id": "4b6999f5-0849-4d1f-8c3e-d00aabf24b30",
   "metadata": {
    "tags": []
   },
   "outputs": [
    {
     "name": "stdout",
     "output_type": "stream",
     "text": [
      "오늘, 3월10일은 오후 3시에 최고기온 20도로 더운 날이 될 것 같다\n"
     ]
    }
   ],
   "source": [
    "#3. f-string 이용하기\n",
    "day = \"3월10일\"\n",
    "time = 3\n",
    "max_temp = 20\n",
    "\n",
    "print(f\"오늘, {day}은 오후 {time}시에 최고기온 {max_temp}도로 더운 날이 될 것 같다\")"
   ]
  },
  {
   "cell_type": "code",
   "execution_count": 26,
   "id": "d3cdcbf5-7326-4893-90b6-d5ed64264e3f",
   "metadata": {
    "tags": []
   },
   "outputs": [
    {
     "name": "stdout",
     "output_type": "stream",
     "text": [
      "2.718281828\n",
      "e는 2.7입니다.\n"
     ]
    }
   ],
   "source": [
    "e = 2.718281828\n",
    "print(e)\n",
    "\n",
    "print(f\"e는 {e:0.1f}입니다.\")\n"
   ]
  },
  {
   "cell_type": "code",
   "execution_count": 30,
   "id": "b0b7dc56-f639-4772-b1ef-a550596e429a",
   "metadata": {
    "tags": []
   },
   "outputs": [
    {
     "name": "stdout",
     "output_type": "stream",
     "text": [
      "\n",
      "Life is short\n",
      "You need Python\n",
      "I love You\n",
      "\n"
     ]
    }
   ],
   "source": [
    "#multiline\n",
    "\n",
    "print('''\n",
    "Life is short\n",
    "You need Python\n",
    "I love You\n",
    "''')"
   ]
  },
  {
   "cell_type": "markdown",
   "id": "4a4a76c1-cda1-44a1-b25f-09bfa30712e0",
   "metadata": {},
   "source": [
    "# 문자열 함수"
   ]
  },
  {
   "cell_type": "code",
   "execution_count": 31,
   "id": "c6d75fa2-4410-46c8-83d7-365e9d2552f8",
   "metadata": {
    "tags": []
   },
   "outputs": [],
   "source": [
    "a = \"Hello\""
   ]
  },
  {
   "cell_type": "code",
   "execution_count": 32,
   "id": "0992bd40-71d0-447b-be00-190f39f11e15",
   "metadata": {
    "tags": []
   },
   "outputs": [
    {
     "data": {
      "text/plain": [
       "5"
      ]
     },
     "execution_count": 32,
     "metadata": {},
     "output_type": "execute_result"
    }
   ],
   "source": [
    "len(a)"
   ]
  },
  {
   "cell_type": "code",
   "execution_count": 41,
   "id": "db2f422b-c92f-47a2-aff1-6ef61ed69390",
   "metadata": {
    "tags": []
   },
   "outputs": [
    {
     "data": {
      "text/plain": [
       "5"
      ]
     },
     "execution_count": 41,
     "metadata": {},
     "output_type": "execute_result"
    }
   ],
   "source": [
    "a.__len__()\n",
    "len(a)"
   ]
  },
  {
   "cell_type": "code",
   "execution_count": 35,
   "id": "b90dd071-9ada-410c-907d-cf34dc705622",
   "metadata": {
    "tags": []
   },
   "outputs": [
    {
     "data": {
      "text/plain": [
       "'HELLO'"
      ]
     },
     "execution_count": 35,
     "metadata": {},
     "output_type": "execute_result"
    }
   ],
   "source": [
    "a.upper()"
   ]
  },
  {
   "cell_type": "code",
   "execution_count": 36,
   "id": "3743f80b-7003-4149-8fa4-d25cb38f77ea",
   "metadata": {
    "tags": []
   },
   "outputs": [
    {
     "data": {
      "text/plain": [
       "'hello'"
      ]
     },
     "execution_count": 36,
     "metadata": {},
     "output_type": "execute_result"
    }
   ],
   "source": [
    "a.lower()"
   ]
  },
  {
   "cell_type": "code",
   "execution_count": 37,
   "id": "48ecb613-c3c0-45f7-9c8d-f8305a02ae6f",
   "metadata": {
    "tags": []
   },
   "outputs": [
    {
     "ename": "SyntaxError",
     "evalue": "invalid syntax. Perhaps you forgot a comma? (1785750823.py, line 1)",
     "output_type": "error",
     "traceback": [
      "\u001b[1;36m  Cell \u001b[1;32mIn[37], line 1\u001b[1;36m\u001b[0m\n\u001b[1;33m    객체지향프로그래밍 (Object Oriented Programming)\u001b[0m\n\u001b[1;37m               ^\u001b[0m\n\u001b[1;31mSyntaxError\u001b[0m\u001b[1;31m:\u001b[0m invalid syntax. Perhaps you forgot a comma?\n"
     ]
    }
   ],
   "source": [
    "객체지향프로그래밍 (Object Oriented Programming)\n",
    ": object \n",
    "\n",
    "1 \n",
    "\"Hello\""
   ]
  },
  {
   "cell_type": "code",
   "execution_count": 38,
   "id": "daeae650-f2be-4d5e-924a-c1e0e17f6522",
   "metadata": {
    "tags": []
   },
   "outputs": [
    {
     "ename": "SyntaxError",
     "evalue": "invalid syntax (2346024069.py, line 3)",
     "output_type": "error",
     "traceback": [
      "\u001b[1;36m  Cell \u001b[1;32mIn[38], line 3\u001b[1;36m\u001b[0m\n\u001b[1;33m    동사.\u001b[0m\n\u001b[1;37m       ^\u001b[0m\n\u001b[1;31mSyntaxError\u001b[0m\u001b[1;31m:\u001b[0m invalid syntax\n"
     ]
    }
   ],
   "source": [
    "car\n",
    "\n",
    "동사,   메소드,     method, \n",
    "형용사, 애트리뷰트, attribute, 속성\n",
    "\n",
    "run(car)   #절차지향 프로그래밍\n",
    "car.run()  #객체지향 프로그래밍\n",
    "car.back()\n",
    "car.color\n",
    "car.size\n",
    "\n",
    "bird.sing()\n",
    "bird.fly()\n",
    "bird."
   ]
  },
  {
   "cell_type": "code",
   "execution_count": 44,
   "id": "95619749-70f9-48e7-96e9-ff6f3fe8c1bb",
   "metadata": {
    "tags": []
   },
   "outputs": [
    {
     "data": {
      "text/plain": [
       "str"
      ]
     },
     "execution_count": 44,
     "metadata": {},
     "output_type": "execute_result"
    }
   ],
   "source": [
    "a\n",
    "type(a)"
   ]
  },
  {
   "cell_type": "code",
   "execution_count": 56,
   "id": "794d5700-1785-48d0-b187-dd4cc17b927f",
   "metadata": {
    "tags": []
   },
   "outputs": [
    {
     "data": {
      "text/plain": [
       "'hello'"
      ]
     },
     "execution_count": 56,
     "metadata": {},
     "output_type": "execute_result"
    }
   ],
   "source": [
    "# 대문자로 \n",
    "b = a.upper()\n",
    "b.lower()"
   ]
  },
  {
   "cell_type": "code",
   "execution_count": 58,
   "id": "21fd1474-f076-4243-a10c-ff305e902b1f",
   "metadata": {
    "tags": []
   },
   "outputs": [
    {
     "data": {
      "text/plain": [
       "'Hello'"
      ]
     },
     "execution_count": 58,
     "metadata": {},
     "output_type": "execute_result"
    }
   ],
   "source": [
    "a.upper().lower().capitalize()"
   ]
  },
  {
   "cell_type": "code",
   "execution_count": 46,
   "id": "3bba7b3b-7016-4bb0-a9b9-0e5620cb40a4",
   "metadata": {
    "tags": []
   },
   "outputs": [
    {
     "data": {
      "text/plain": [
       "'hello'"
      ]
     },
     "execution_count": 46,
     "metadata": {},
     "output_type": "execute_result"
    }
   ],
   "source": [
    "a.lower()"
   ]
  },
  {
   "cell_type": "code",
   "execution_count": 48,
   "id": "309e4f2e-3ecf-4ce9-9c73-476b77c93d47",
   "metadata": {
    "tags": []
   },
   "outputs": [
    {
     "data": {
      "text/plain": [
       "'Hello'"
      ]
     },
     "execution_count": 48,
     "metadata": {},
     "output_type": "execute_result"
    }
   ],
   "source": [
    "a.capitalize() # 앞 첫글자만 대문자"
   ]
  },
  {
   "cell_type": "code",
   "execution_count": 54,
   "id": "6a830c8e-7912-4577-85c4-99256093a797",
   "metadata": {
    "tags": []
   },
   "outputs": [
    {
     "data": {
      "text/plain": [
       "'Good Morning David'"
      ]
     },
     "execution_count": 54,
     "metadata": {},
     "output_type": "execute_result"
    }
   ],
   "source": [
    "\"good morning david\".title() #단어들 첫문자 대문자"
   ]
  },
  {
   "cell_type": "code",
   "execution_count": 59,
   "id": "ef5ee98e-922e-48d6-bbca-1b3f87311a28",
   "metadata": {
    "tags": []
   },
   "outputs": [
    {
     "ename": "TypeError",
     "evalue": "count() takes at least 1 argument (0 given)",
     "output_type": "error",
     "traceback": [
      "\u001b[1;31m---------------------------------------------------------------------------\u001b[0m",
      "\u001b[1;31mTypeError\u001b[0m                                 Traceback (most recent call last)",
      "Cell \u001b[1;32mIn[59], line 1\u001b[0m\n\u001b[1;32m----> 1\u001b[0m \u001b[43ma\u001b[49m\u001b[38;5;241;43m.\u001b[39;49m\u001b[43mcount\u001b[49m\u001b[43m(\u001b[49m\u001b[43m)\u001b[49m\n",
      "\u001b[1;31mTypeError\u001b[0m: count() takes at least 1 argument (0 given)"
     ]
    }
   ],
   "source": [
    "a.count() \n",
    "인자, 인수, argument\n",
    "매개변수, 파라미터, parameter\n",
    "\n",
    "platoon\n",
    "patoon\n",
    "\n",
    "night\n",
    "nite"
   ]
  },
  {
   "cell_type": "code",
   "execution_count": 61,
   "id": "75d17114-9a40-499f-b73b-9c13d547f01e",
   "metadata": {
    "tags": []
   },
   "outputs": [
    {
     "ename": "SyntaxError",
     "evalue": "invalid syntax (2885235536.py, line 1)",
     "output_type": "error",
     "traceback": [
      "\u001b[1;36m  Cell \u001b[1;32mIn[61], line 1\u001b[1;36m\u001b[0m\n\u001b[1;33m    a.count()?\u001b[0m\n\u001b[1;37m             ^\u001b[0m\n\u001b[1;31mSyntaxError\u001b[0m\u001b[1;31m:\u001b[0m invalid syntax\n"
     ]
    }
   ],
   "source": [
    "a.count()?"
   ]
  },
  {
   "cell_type": "code",
   "execution_count": 64,
   "id": "9acc9128-9e86-4b1c-ac82-88db10f90fad",
   "metadata": {
    "tags": []
   },
   "outputs": [
    {
     "data": {
      "text/plain": [
       "2"
      ]
     },
     "execution_count": 64,
     "metadata": {},
     "output_type": "execute_result"
    }
   ],
   "source": [
    "a.count(\"e\")\n",
    "a.count(\"o\")\n",
    "a.count(\"l\")\n",
    "\"Hello\".count(\"l\")"
   ]
  },
  {
   "cell_type": "code",
   "execution_count": 66,
   "id": "0cc3fa65-7ed0-4717-a080-f49910a237cf",
   "metadata": {
    "tags": []
   },
   "outputs": [
    {
     "data": {
      "text/plain": [
       "0"
      ]
     },
     "execution_count": 66,
     "metadata": {},
     "output_type": "execute_result"
    }
   ],
   "source": [
    "a.find(\"H\")"
   ]
  },
  {
   "cell_type": "code",
   "execution_count": 68,
   "id": "1d27e59c-edfd-4f8d-92ce-7d72480d2e70",
   "metadata": {
    "tags": []
   },
   "outputs": [
    {
     "ename": "ValueError",
     "evalue": "substring not found",
     "output_type": "error",
     "traceback": [
      "\u001b[1;31m---------------------------------------------------------------------------\u001b[0m",
      "\u001b[1;31mValueError\u001b[0m                                Traceback (most recent call last)",
      "Cell \u001b[1;32mIn[68], line 1\u001b[0m\n\u001b[1;32m----> 1\u001b[0m \u001b[43ma\u001b[49m\u001b[38;5;241;43m.\u001b[39;49m\u001b[43mindex\u001b[49m\u001b[43m(\u001b[49m\u001b[38;5;124;43m\"\u001b[39;49m\u001b[38;5;124;43ma\u001b[39;49m\u001b[38;5;124;43m\"\u001b[39;49m\u001b[43m)\u001b[49m\n",
      "\u001b[1;31mValueError\u001b[0m: substring not found"
     ]
    }
   ],
   "source": [
    "a.index(\"a\")"
   ]
  },
  {
   "cell_type": "code",
   "execution_count": 71,
   "id": "59476d67-9b3f-4730-a8a2-5bb6e510f3a0",
   "metadata": {
    "tags": []
   },
   "outputs": [
    {
     "data": {
      "text/plain": [
       "'a,b,c,d'"
      ]
     },
     "execution_count": 71,
     "metadata": {},
     "output_type": "execute_result"
    }
   ],
   "source": [
    "\",\".join(\"abcd\")"
   ]
  },
  {
   "cell_type": "code",
   "execution_count": null,
   "id": "e653c61b-058c-429e-937f-3c1ec9c26a31",
   "metadata": {},
   "outputs": [],
   "source": [
    "\"a|b|v|d\""
   ]
  },
  {
   "cell_type": "code",
   "execution_count": 76,
   "id": "6fd0611e-03f9-4d01-b866-0e51405ace74",
   "metadata": {
    "tags": []
   },
   "outputs": [
    {
     "data": {
      "text/plain": [
       "'L|i|f|e| |i|s| |s|h|o|r|t'"
      ]
     },
     "execution_count": 76,
     "metadata": {},
     "output_type": "execute_result"
    }
   ],
   "source": [
    "a = \"Life is short\"\n",
    "#단어별로 쪼개면?\n",
    "a.split(\" \")"
   ]
  },
  {
   "cell_type": "code",
   "execution_count": 82,
   "id": "70c3adcb-b79e-4339-b0ad-7959bb2e96e3",
   "metadata": {
    "tags": []
   },
   "outputs": [
    {
     "name": "stdin",
     "output_type": "stream",
     "text": [
      "입력 하세요:  홍길동, 전우치\n"
     ]
    },
    {
     "name": "stdout",
     "output_type": "stream",
     "text": [
      "홍길동  전우치\n"
     ]
    }
   ],
   "source": [
    "a, b= input(\"입력 하세요: \").split(\",\")\n",
    "print(a, b)"
   ]
  },
  {
   "cell_type": "code",
   "execution_count": 84,
   "id": "207203d0-464b-49b0-9d43-1ab46650d284",
   "metadata": {
    "tags": []
   },
   "outputs": [
    {
     "name": "stdin",
     "output_type": "stream",
     "text": [
      "입력 하세요:  길동 23\n"
     ]
    },
    {
     "name": "stdout",
     "output_type": "stream",
     "text": [
      "나의 이름은 길동이고 나이는 23입니다\n"
     ]
    }
   ],
   "source": [
    "name, age = input(\"입력 하세요: \").split(\" \")\n",
    "print(f\"나의 이름은 {name}이고 나이는 {age}입니다\")"
   ]
  },
  {
   "cell_type": "code",
   "execution_count": 85,
   "id": "2567f7f4-4fe4-4d10-bb4a-a6f5ea51893b",
   "metadata": {
    "tags": []
   },
   "outputs": [
    {
     "name": "stdin",
     "output_type": "stream",
     "text": [
      "입력 하세요:  1 2 3 4 5\n"
     ]
    },
    {
     "data": {
      "text/plain": [
       "['1', '2', '3', '4', '5']"
      ]
     },
     "execution_count": 85,
     "metadata": {},
     "output_type": "execute_result"
    }
   ],
   "source": [
    "input(\"입력 하세요: \").split(\" \")"
   ]
  },
  {
   "cell_type": "code",
   "execution_count": 94,
   "id": "b9176876-c9ed-4700-aa31-edc9a960240a",
   "metadata": {
    "tags": []
   },
   "outputs": [
    {
     "data": {
      "text/plain": [
       "'Hello'"
      ]
     },
     "execution_count": 94,
     "metadata": {},
     "output_type": "execute_result"
    }
   ],
   "source": [
    "a = \"          Hello         \"\n",
    "a.strip()"
   ]
  },
  {
   "cell_type": "code",
   "execution_count": 98,
   "id": "9ee34e99-a305-413e-a75e-52709f0366de",
   "metadata": {
    "tags": []
   },
   "outputs": [
    {
     "data": {
      "text/plain": [
       "'Herro'"
      ]
     },
     "execution_count": 98,
     "metadata": {},
     "output_type": "execute_result"
    }
   ],
   "source": [
    "a = a.strip()\n",
    "a.replace(\"l\", \"r\")"
   ]
  },
  {
   "cell_type": "code",
   "execution_count": 99,
   "id": "f8c25979-5cfb-4903-8ae9-8767175fe27a",
   "metadata": {
    "tags": []
   },
   "outputs": [
    {
     "data": {
      "text/plain": [
       "['__add__',\n",
       " '__class__',\n",
       " '__contains__',\n",
       " '__delattr__',\n",
       " '__dir__',\n",
       " '__doc__',\n",
       " '__eq__',\n",
       " '__format__',\n",
       " '__ge__',\n",
       " '__getattribute__',\n",
       " '__getitem__',\n",
       " '__getnewargs__',\n",
       " '__gt__',\n",
       " '__hash__',\n",
       " '__init__',\n",
       " '__init_subclass__',\n",
       " '__iter__',\n",
       " '__le__',\n",
       " '__len__',\n",
       " '__lt__',\n",
       " '__mod__',\n",
       " '__mul__',\n",
       " '__ne__',\n",
       " '__new__',\n",
       " '__reduce__',\n",
       " '__reduce_ex__',\n",
       " '__repr__',\n",
       " '__rmod__',\n",
       " '__rmul__',\n",
       " '__setattr__',\n",
       " '__sizeof__',\n",
       " '__str__',\n",
       " '__subclasshook__',\n",
       " 'capitalize',\n",
       " 'casefold',\n",
       " 'center',\n",
       " 'count',\n",
       " 'encode',\n",
       " 'endswith',\n",
       " 'expandtabs',\n",
       " 'find',\n",
       " 'format',\n",
       " 'format_map',\n",
       " 'index',\n",
       " 'isalnum',\n",
       " 'isalpha',\n",
       " 'isascii',\n",
       " 'isdecimal',\n",
       " 'isdigit',\n",
       " 'isidentifier',\n",
       " 'islower',\n",
       " 'isnumeric',\n",
       " 'isprintable',\n",
       " 'isspace',\n",
       " 'istitle',\n",
       " 'isupper',\n",
       " 'join',\n",
       " 'ljust',\n",
       " 'lower',\n",
       " 'lstrip',\n",
       " 'maketrans',\n",
       " 'partition',\n",
       " 'removeprefix',\n",
       " 'removesuffix',\n",
       " 'replace',\n",
       " 'rfind',\n",
       " 'rindex',\n",
       " 'rjust',\n",
       " 'rpartition',\n",
       " 'rsplit',\n",
       " 'rstrip',\n",
       " 'split',\n",
       " 'splitlines',\n",
       " 'startswith',\n",
       " 'strip',\n",
       " 'swapcase',\n",
       " 'title',\n",
       " 'translate',\n",
       " 'upper',\n",
       " 'zfill']"
      ]
     },
     "execution_count": 99,
     "metadata": {},
     "output_type": "execute_result"
    }
   ],
   "source": [
    "dir(a)"
   ]
  },
  {
   "cell_type": "code",
   "execution_count": 100,
   "id": "3d21f660-7e54-48c9-be2e-b8732a93644e",
   "metadata": {
    "tags": []
   },
   "outputs": [],
   "source": [
    "# 객체\n",
    "# 인수, 파라미터\n",
    "# input().split(\"     \")"
   ]
  },
  {
   "cell_type": "markdown",
   "id": "db38ffca-c6ae-4a27-bf81-2a57991e4071",
   "metadata": {},
   "source": [
    "```\n",
    "# 자료형(데이터타입)\n",
    "1. 문자형\n",
    "2. 숫자형(정수, 실수)\n",
    "3. 참거짓\n",
    "\n",
    "# 파이썬 자료형(데이터타입)\n",
    "1. 리스트 \n",
    "2. 튜플 \n",
    "3. 사전 딕셔너리 \n",
    "4. 집합 세트 \n",
    "```"
   ]
  },
  {
   "cell_type": "markdown",
   "id": "a16d56eb-6264-4959-a5fa-ebb6982c6568",
   "metadata": {
    "tags": []
   },
   "source": [
    "## 리스트\n",
    "list\n",
    "- 2개 이상이면 [ ]로 묶는다\n",
    "- "
   ]
  },
  {
   "cell_type": "markdown",
   "id": "b0417534-2cee-4e44-a4cb-5e3bd97f721e",
   "metadata": {
    "tags": []
   },
   "source": [
    "- 만들기 \n",
    "C Create\n",
    "R read\n",
    "U Update\n",
    "D Delete"
   ]
  },
  {
   "cell_type": "code",
   "execution_count": 113,
   "id": "a0b8208d-a09f-49bf-82d5-b6e4b6acab8a",
   "metadata": {
    "tags": []
   },
   "outputs": [
    {
     "data": {
      "text/plain": [
       "[1, 2]"
      ]
     },
     "execution_count": 113,
     "metadata": {},
     "output_type": "execute_result"
    }
   ],
   "source": [
    "a = [1,2]\n",
    "a"
   ]
  },
  {
   "cell_type": "code",
   "execution_count": 107,
   "id": "1d01bc3e-1c37-4154-840f-754d7242f4f7",
   "metadata": {
    "tags": []
   },
   "outputs": [
    {
     "data": {
      "text/plain": [
       "list"
      ]
     },
     "execution_count": 107,
     "metadata": {},
     "output_type": "execute_result"
    }
   ],
   "source": [
    "type(a)"
   ]
  },
  {
   "cell_type": "code",
   "execution_count": 115,
   "id": "8ad3ade7-e965-4231-a484-9eb3488cca4d",
   "metadata": {
    "tags": []
   },
   "outputs": [
    {
     "data": {
      "text/plain": [
       "[1, 2, 'Hello', [3, 4, 5]]"
      ]
     },
     "execution_count": 115,
     "metadata": {},
     "output_type": "execute_result"
    }
   ],
   "source": [
    "# 중첩 리스트 (nested list)\n",
    "a = [1,2,\"Hello\", [3,4,5]]\n",
    "a"
   ]
  },
  {
   "cell_type": "markdown",
   "id": "6ab93f83-3a65-4719-914c-07de9c2b8937",
   "metadata": {},
   "source": [
    "- 접근하기 Read"
   ]
  },
  {
   "cell_type": "code",
   "execution_count": 118,
   "id": "7e5f17c6-666d-4fab-a6d9-c7c384027aa6",
   "metadata": {
    "tags": []
   },
   "outputs": [
    {
     "data": {
      "text/plain": [
       "[1, 2, 'Hello', [3, 4, 5], ['Good Morning']]"
      ]
     },
     "execution_count": 118,
     "metadata": {},
     "output_type": "execute_result"
    }
   ],
   "source": [
    "a = [1,2,\"Hello\", [3,4,5],[\"Good Morning\"]]\n",
    "a"
   ]
  },
  {
   "cell_type": "code",
   "execution_count": 119,
   "id": "c881fddc-3b83-4a8a-9268-0363b1274be2",
   "metadata": {
    "tags": []
   },
   "outputs": [
    {
     "data": {
      "text/plain": [
       "5"
      ]
     },
     "execution_count": 119,
     "metadata": {},
     "output_type": "execute_result"
    }
   ],
   "source": [
    "len(a)"
   ]
  },
  {
   "cell_type": "code",
   "execution_count": 121,
   "id": "783d4995-5dc2-417b-823a-5912c8fb9051",
   "metadata": {
    "tags": []
   },
   "outputs": [
    {
     "data": {
      "text/plain": [
       "1"
      ]
     },
     "execution_count": 121,
     "metadata": {},
     "output_type": "execute_result"
    }
   ],
   "source": [
    "a[0]"
   ]
  },
  {
   "cell_type": "code",
   "execution_count": 123,
   "id": "63f01ec1-95fd-439b-a733-5cda00e83528",
   "metadata": {
    "tags": []
   },
   "outputs": [
    {
     "data": {
      "text/plain": [
       "'Hello'"
      ]
     },
     "execution_count": 123,
     "metadata": {},
     "output_type": "execute_result"
    }
   ],
   "source": [
    "a[2]"
   ]
  },
  {
   "cell_type": "code",
   "execution_count": 124,
   "id": "66093f7f-503a-46de-9bdf-d908fa546c4a",
   "metadata": {
    "tags": []
   },
   "outputs": [
    {
     "data": {
      "text/plain": [
       "'e'"
      ]
     },
     "execution_count": 124,
     "metadata": {},
     "output_type": "execute_result"
    }
   ],
   "source": [
    "a[2][1]"
   ]
  },
  {
   "cell_type": "code",
   "execution_count": 139,
   "id": "da07a661-2713-44a8-a42c-cc70b71d7191",
   "metadata": {
    "tags": []
   },
   "outputs": [
    {
     "data": {
      "text/plain": [
       "'Morning'"
      ]
     },
     "execution_count": 139,
     "metadata": {},
     "output_type": "execute_result"
    }
   ],
   "source": [
    "# 헷갈림!!중요!!\n",
    "a[-1][0][5:]\n"
   ]
  },
  {
   "cell_type": "markdown",
   "id": "cddbd84a-1cb0-4ad5-88d4-8ea161e3d436",
   "metadata": {
    "tags": []
   },
   "source": [
    "- p76 나혼자 코딩\n"
   ]
  },
  {
   "cell_type": "code",
   "execution_count": 144,
   "id": "90111b27-524f-4f0d-ac07-1daf7f7997a1",
   "metadata": {
    "tags": []
   },
   "outputs": [
    {
     "data": {
      "text/plain": [
       "[2, 3]"
      ]
     },
     "execution_count": 144,
     "metadata": {},
     "output_type": "execute_result"
    }
   ],
   "source": [
    "A = [1,2,3,4,5]\n",
    "A[1:3]"
   ]
  },
  {
   "cell_type": "markdown",
   "id": "48135ed7-67a8-43ac-bee9-c3165ae25454",
   "metadata": {},
   "source": [
    "- 연산"
   ]
  },
  {
   "cell_type": "code",
   "execution_count": 149,
   "id": "c7edf86c-617d-460e-8581-0cb903746788",
   "metadata": {
    "tags": []
   },
   "outputs": [],
   "source": [
    "a = [1,2]\n",
    "b = [3,4]"
   ]
  },
  {
   "cell_type": "code",
   "execution_count": 146,
   "id": "b8f1cc60-7048-4b06-bd64-e94996267172",
   "metadata": {
    "tags": []
   },
   "outputs": [
    {
     "data": {
      "text/plain": [
       "[1, 2, 3, 4]"
      ]
     },
     "execution_count": 146,
     "metadata": {},
     "output_type": "execute_result"
    }
   ],
   "source": [
    "a + b"
   ]
  },
  {
   "cell_type": "code",
   "execution_count": 147,
   "id": "ba0bd7c6-2ca8-4d84-8ad2-1dfa214bb1cd",
   "metadata": {
    "tags": []
   },
   "outputs": [
    {
     "ename": "TypeError",
     "evalue": "unsupported operand type(s) for -: 'list' and 'list'",
     "output_type": "error",
     "traceback": [
      "\u001b[1;31m---------------------------------------------------------------------------\u001b[0m",
      "\u001b[1;31mTypeError\u001b[0m                                 Traceback (most recent call last)",
      "Cell \u001b[1;32mIn[147], line 1\u001b[0m\n\u001b[1;32m----> 1\u001b[0m \u001b[43ma\u001b[49m\u001b[43m \u001b[49m\u001b[38;5;241;43m-\u001b[39;49m\u001b[43m \u001b[49m\u001b[43mb\u001b[49m\n",
      "\u001b[1;31mTypeError\u001b[0m: unsupported operand type(s) for -: 'list' and 'list'"
     ]
    }
   ],
   "source": [
    "a - b"
   ]
  },
  {
   "cell_type": "code",
   "execution_count": 148,
   "id": "b13e938a-3c14-4d1c-b2d2-16791dd37ee4",
   "metadata": {
    "tags": []
   },
   "outputs": [
    {
     "ename": "TypeError",
     "evalue": "can't multiply sequence by non-int of type 'list'",
     "output_type": "error",
     "traceback": [
      "\u001b[1;31m---------------------------------------------------------------------------\u001b[0m",
      "\u001b[1;31mTypeError\u001b[0m                                 Traceback (most recent call last)",
      "Cell \u001b[1;32mIn[148], line 1\u001b[0m\n\u001b[1;32m----> 1\u001b[0m \u001b[43ma\u001b[49m\u001b[43m \u001b[49m\u001b[38;5;241;43m*\u001b[39;49m\u001b[43m \u001b[49m\u001b[43mb\u001b[49m\n",
      "\u001b[1;31mTypeError\u001b[0m: can't multiply sequence by non-int of type 'list'"
     ]
    }
   ],
   "source": [
    "a * b"
   ]
  },
  {
   "cell_type": "code",
   "execution_count": 150,
   "id": "d3212573-7ec4-4eab-a28b-5cc882694037",
   "metadata": {
    "tags": []
   },
   "outputs": [],
   "source": [
    "a = [1,2]\n",
    "b = [3,4]"
   ]
  },
  {
   "cell_type": "code",
   "execution_count": 151,
   "id": "eba4cef4-76ae-42aa-a96c-6a8e355f5750",
   "metadata": {
    "tags": []
   },
   "outputs": [],
   "source": [
    "import numpy as np"
   ]
  },
  {
   "cell_type": "code",
   "execution_count": 161,
   "id": "583a90dd-ba37-47e0-9208-05dd04992a23",
   "metadata": {
    "tags": []
   },
   "outputs": [
    {
     "data": {
      "text/plain": [
       "array([1, 2])"
      ]
     },
     "execution_count": 161,
     "metadata": {},
     "output_type": "execute_result"
    }
   ],
   "source": [
    "a = np.array(a)\n",
    "a"
   ]
  },
  {
   "cell_type": "code",
   "execution_count": 162,
   "id": "59cc0d0f-d166-417d-ac77-9657c7072804",
   "metadata": {
    "tags": []
   },
   "outputs": [
    {
     "data": {
      "text/plain": [
       "array([3, 4])"
      ]
     },
     "execution_count": 162,
     "metadata": {},
     "output_type": "execute_result"
    }
   ],
   "source": [
    "b = np.array(b)\n",
    "b"
   ]
  },
  {
   "cell_type": "code",
   "execution_count": 163,
   "id": "043537b0-a74e-4444-90a2-91a464c482ee",
   "metadata": {
    "tags": []
   },
   "outputs": [
    {
     "name": "stdout",
     "output_type": "stream",
     "text": [
      "[4 6]\n",
      "[-2 -2]\n",
      "[3 8]\n",
      "[0.33333333 0.5       ]\n"
     ]
    }
   ],
   "source": [
    "print(a+b)\n",
    "print(a-b)\n",
    "print(a*b)\n",
    "print(a/b)"
   ]
  },
  {
   "cell_type": "code",
   "execution_count": 169,
   "id": "55d96683-54ba-48e7-b708-f06ecccb1850",
   "metadata": {
    "tags": []
   },
   "outputs": [
    {
     "data": {
      "text/plain": [
       "[1, 2, 3, 4]"
      ]
     },
     "execution_count": 169,
     "metadata": {},
     "output_type": "execute_result"
    }
   ],
   "source": [
    "# 주의 : list이름을 list로 짓지 말것!!!!\n",
    "list = [1,2,3,4]\n",
    "list"
   ]
  },
  {
   "cell_type": "code",
   "execution_count": 186,
   "id": "43ac049c-44da-413f-a8bb-2fd501fcab1a",
   "metadata": {
    "tags": []
   },
   "outputs": [
    {
     "data": {
      "text/plain": [
       "[1, 2, 3, 4]"
      ]
     },
     "execution_count": 186,
     "metadata": {},
     "output_type": "execute_result"
    }
   ],
   "source": [
    "li = [1,2,3,4]\n",
    "li"
   ]
  },
  {
   "cell_type": "code",
   "execution_count": 187,
   "id": "6cea500b-46c2-4ad2-97eb-45bff214e0b4",
   "metadata": {
    "tags": []
   },
   "outputs": [],
   "source": [
    "del li[1]"
   ]
  },
  {
   "cell_type": "code",
   "execution_count": 189,
   "id": "7db8ed81-8199-4573-b264-d852509336e2",
   "metadata": {
    "tags": []
   },
   "outputs": [],
   "source": [
    "li = [1,2,3,\"Hello\"]"
   ]
  },
  {
   "cell_type": "code",
   "execution_count": 190,
   "id": "cf339fdf-b60e-45c8-a25f-5b1f35ac8e9c",
   "metadata": {
    "tags": []
   },
   "outputs": [],
   "source": [
    "li[3] = \"hello\""
   ]
  },
  {
   "cell_type": "code",
   "execution_count": 191,
   "id": "e33511de-da3e-45e5-8d28-6e05c1f588f2",
   "metadata": {
    "tags": []
   },
   "outputs": [
    {
     "data": {
      "text/plain": [
       "[1, 2, 3, 'hello']"
      ]
     },
     "execution_count": 191,
     "metadata": {},
     "output_type": "execute_result"
    }
   ],
   "source": [
    "li"
   ]
  },
  {
   "cell_type": "code",
   "execution_count": 192,
   "id": "72f3df45-3b69-45d5-a3f1-b0807c0337be",
   "metadata": {
    "tags": []
   },
   "outputs": [
    {
     "data": {
      "text/plain": [
       "'hello'"
      ]
     },
     "execution_count": 192,
     "metadata": {},
     "output_type": "execute_result"
    }
   ],
   "source": [
    "li[3]"
   ]
  },
  {
   "cell_type": "code",
   "execution_count": 194,
   "id": "46148a49-b123-46dc-b8cd-1876d1bc58ef",
   "metadata": {
    "tags": []
   },
   "outputs": [
    {
     "ename": "TypeError",
     "evalue": "'str' object does not support item assignment",
     "output_type": "error",
     "traceback": [
      "\u001b[1;31m---------------------------------------------------------------------------\u001b[0m",
      "\u001b[1;31mTypeError\u001b[0m                                 Traceback (most recent call last)",
      "Cell \u001b[1;32mIn[194], line 1\u001b[0m\n\u001b[1;32m----> 1\u001b[0m \u001b[43mli\u001b[49m\u001b[43m[\u001b[49m\u001b[38;5;241;43m3\u001b[39;49m\u001b[43m]\u001b[49m\u001b[43m[\u001b[49m\u001b[38;5;241;43m0\u001b[39;49m\u001b[43m]\u001b[49m \u001b[38;5;241m=\u001b[39m \u001b[38;5;124m\"\u001b[39m\u001b[38;5;124mH\u001b[39m\u001b[38;5;124m\"\u001b[39m\n",
      "\u001b[1;31mTypeError\u001b[0m: 'str' object does not support item assignment"
     ]
    }
   ],
   "source": [
    "li[3][0] = \"H\""
   ]
  },
  {
   "cell_type": "code",
   "execution_count": 199,
   "id": "a2e2bdf3-6b55-4a4f-82f3-cc41f72228fe",
   "metadata": {
    "tags": []
   },
   "outputs": [
    {
     "data": {
      "text/plain": [
       "'Hello'"
      ]
     },
     "execution_count": 199,
     "metadata": {},
     "output_type": "execute_result"
    }
   ],
   "source": [
    "b = li[3]\n",
    "b.replace(\"h\", \"H\")"
   ]
  },
  {
   "cell_type": "code",
   "execution_count": 212,
   "id": "2b711dd9-49a5-4aac-9083-a747f74be7c0",
   "metadata": {
    "tags": []
   },
   "outputs": [
    {
     "data": {
      "text/plain": [
       "[1, 2, 3]"
      ]
     },
     "execution_count": 212,
     "metadata": {},
     "output_type": "execute_result"
    }
   ],
   "source": [
    "a = [1,2,3]\n",
    "a"
   ]
  },
  {
   "cell_type": "code",
   "execution_count": 213,
   "id": "50d4177d-ebfa-4a00-aeb5-7784c393fecc",
   "metadata": {
    "tags": []
   },
   "outputs": [],
   "source": [
    "a.append(\"Hello\")"
   ]
  },
  {
   "cell_type": "code",
   "execution_count": 214,
   "id": "48ef19e4-afbb-40f1-b6a9-132db77e6012",
   "metadata": {
    "tags": []
   },
   "outputs": [],
   "source": [
    "a.append(4)"
   ]
  },
  {
   "cell_type": "code",
   "execution_count": 216,
   "id": "eff5a7fa-47e6-4d9f-a299-7dabe261054e",
   "metadata": {
    "tags": []
   },
   "outputs": [
    {
     "data": {
      "text/plain": [
       "[]"
      ]
     },
     "execution_count": 216,
     "metadata": {},
     "output_type": "execute_result"
    }
   ],
   "source": [
    "a = []\n",
    "a"
   ]
  },
  {
   "cell_type": "code",
   "execution_count": 223,
   "id": "618e7646-7e08-40bd-acad-331e1739d2c1",
   "metadata": {
    "tags": []
   },
   "outputs": [],
   "source": [
    "a =[]\n",
    "for i in [\"a\", \"b\", \"c\", \"d\"]:\n",
    "    a.append(i)"
   ]
  },
  {
   "cell_type": "code",
   "execution_count": 224,
   "id": "ad5a0d45-d810-49f6-b0c7-69053e8a5045",
   "metadata": {
    "tags": []
   },
   "outputs": [
    {
     "data": {
      "text/plain": [
       "['a', 'b', 'c', 'd']"
      ]
     },
     "execution_count": 224,
     "metadata": {},
     "output_type": "execute_result"
    }
   ],
   "source": [
    "a"
   ]
  },
  {
   "cell_type": "code",
   "execution_count": 225,
   "id": "3123f78b-5149-44ec-b2b9-75a40c18fe17",
   "metadata": {
    "tags": []
   },
   "outputs": [
    {
     "data": {
      "text/plain": [
       "['a', 'b', 'c', 'd']"
      ]
     },
     "execution_count": 225,
     "metadata": {},
     "output_type": "execute_result"
    }
   ],
   "source": [
    "a"
   ]
  },
  {
   "cell_type": "code",
   "execution_count": 228,
   "id": "c9ff3519-1a8d-4f61-8538-b501ef4d7f75",
   "metadata": {
    "tags": []
   },
   "outputs": [],
   "source": [
    "a = [1,3,4,2]\n",
    "a.sort()"
   ]
  },
  {
   "cell_type": "code",
   "execution_count": 229,
   "id": "5b14cc32-127d-4717-9090-7a903fafa3f0",
   "metadata": {
    "tags": []
   },
   "outputs": [
    {
     "data": {
      "text/plain": [
       "[1, 2, 3, 4]"
      ]
     },
     "execution_count": 229,
     "metadata": {},
     "output_type": "execute_result"
    }
   ],
   "source": [
    "a"
   ]
  },
  {
   "cell_type": "code",
   "execution_count": 249,
   "id": "481bfc63-1750-4454-b679-7d232fe4eb0b",
   "metadata": {
    "tags": []
   },
   "outputs": [],
   "source": [
    "a = [\"a\",'c',\"b\"]\n",
    "a.sort()"
   ]
  },
  {
   "cell_type": "code",
   "execution_count": 233,
   "id": "1219f45f-a9f7-4f22-a903-61e77d82df06",
   "metadata": {
    "tags": []
   },
   "outputs": [],
   "source": [
    "a\n",
    "a.reverse()"
   ]
  },
  {
   "cell_type": "code",
   "execution_count": 234,
   "id": "3dbb507e-ad9e-45ee-8e22-587db317b28f",
   "metadata": {
    "tags": []
   },
   "outputs": [
    {
     "data": {
      "text/plain": [
       "['c', 'b', 'a']"
      ]
     },
     "execution_count": 234,
     "metadata": {},
     "output_type": "execute_result"
    }
   ],
   "source": [
    "a"
   ]
  },
  {
   "cell_type": "code",
   "execution_count": 247,
   "id": "a811dc8e-b9e1-4a8e-b614-50a6feef8c19",
   "metadata": {
    "tags": []
   },
   "outputs": [
    {
     "ename": "ValueError",
     "evalue": "'d' is not in list",
     "output_type": "error",
     "traceback": [
      "\u001b[1;31m---------------------------------------------------------------------------\u001b[0m",
      "\u001b[1;31mValueError\u001b[0m                                Traceback (most recent call last)",
      "Cell \u001b[1;32mIn[247], line 1\u001b[0m\n\u001b[1;32m----> 1\u001b[0m \u001b[43ma\u001b[49m\u001b[38;5;241;43m.\u001b[39;49m\u001b[43mindex\u001b[49m\u001b[43m(\u001b[49m\u001b[38;5;124;43m\"\u001b[39;49m\u001b[38;5;124;43md\u001b[39;49m\u001b[38;5;124;43m\"\u001b[39;49m\u001b[43m)\u001b[49m\n",
      "\u001b[1;31mValueError\u001b[0m: 'd' is not in list"
     ]
    }
   ],
   "source": [
    "a.index(\"d\")"
   ]
  },
  {
   "cell_type": "code",
   "execution_count": 250,
   "id": "71217d4e-bec7-4aab-8988-4c2f93e1ce23",
   "metadata": {
    "tags": []
   },
   "outputs": [
    {
     "data": {
      "text/plain": [
       "['a', 'b', 'b', 'c']"
      ]
     },
     "execution_count": 250,
     "metadata": {},
     "output_type": "execute_result"
    }
   ],
   "source": [
    "a.insert(1, \"b\")\n",
    "a"
   ]
  },
  {
   "cell_type": "code",
   "execution_count": 242,
   "id": "4294d880-8258-4fd7-a6ff-8744d47584a4",
   "metadata": {
    "tags": []
   },
   "outputs": [
    {
     "data": {
      "text/plain": [
       "['c', 'b', 'b', 'a']"
      ]
     },
     "execution_count": 242,
     "metadata": {},
     "output_type": "execute_result"
    }
   ],
   "source": [
    "a"
   ]
  },
  {
   "cell_type": "code",
   "execution_count": 251,
   "id": "976d719a-aa71-40ff-8b7a-beace95cbc5a",
   "metadata": {
    "tags": []
   },
   "outputs": [
    {
     "ename": "ValueError",
     "evalue": "list.remove(x): x not in list",
     "output_type": "error",
     "traceback": [
      "\u001b[1;31m---------------------------------------------------------------------------\u001b[0m",
      "\u001b[1;31mValueError\u001b[0m                                Traceback (most recent call last)",
      "Cell \u001b[1;32mIn[251], line 1\u001b[0m\n\u001b[1;32m----> 1\u001b[0m \u001b[43ma\u001b[49m\u001b[38;5;241;43m.\u001b[39;49m\u001b[43mremove\u001b[49m\u001b[43m(\u001b[49m\u001b[38;5;124;43m\"\u001b[39;49m\u001b[38;5;124;43md\u001b[39;49m\u001b[38;5;124;43m\"\u001b[39;49m\u001b[43m)\u001b[49m\n\u001b[0;32m      2\u001b[0m a\n",
      "\u001b[1;31mValueError\u001b[0m: list.remove(x): x not in list"
     ]
    }
   ],
   "source": [
    "a.remove(\"d\")\n",
    "a"
   ]
  },
  {
   "cell_type": "code",
   "execution_count": 252,
   "id": "59032693-dd34-4640-8d0f-d4d2f5693952",
   "metadata": {
    "tags": []
   },
   "outputs": [
    {
     "data": {
      "text/plain": [
       "'c'"
      ]
     },
     "execution_count": 252,
     "metadata": {},
     "output_type": "execute_result"
    }
   ],
   "source": [
    "a.pop()"
   ]
  },
  {
   "cell_type": "code",
   "execution_count": 253,
   "id": "d3d1a587-42f8-49ca-89db-93074921ade2",
   "metadata": {
    "tags": []
   },
   "outputs": [
    {
     "data": {
      "text/plain": [
       "'b'"
      ]
     },
     "execution_count": 253,
     "metadata": {},
     "output_type": "execute_result"
    }
   ],
   "source": [
    "a.pop()"
   ]
  },
  {
   "cell_type": "code",
   "execution_count": 254,
   "id": "69c4f117-cb2f-40cb-8dfa-681393848bea",
   "metadata": {
    "tags": []
   },
   "outputs": [
    {
     "data": {
      "text/plain": [
       "['a', 'b']"
      ]
     },
     "execution_count": 254,
     "metadata": {},
     "output_type": "execute_result"
    }
   ],
   "source": [
    "a"
   ]
  },
  {
   "cell_type": "code",
   "execution_count": 255,
   "id": "5755dcd3-71fc-458f-8db1-e271de6e47fd",
   "metadata": {
    "tags": []
   },
   "outputs": [
    {
     "ename": "SyntaxError",
     "evalue": "invalid syntax (3483603697.py, line 2)",
     "output_type": "error",
     "traceback": [
      "\u001b[1;36m  Cell \u001b[1;32mIn[255], line 2\u001b[1;36m\u001b[0m\n\u001b[1;33m    FIFO :\u001b[0m\n\u001b[1;37m          ^\u001b[0m\n\u001b[1;31mSyntaxError\u001b[0m\u001b[1;31m:\u001b[0m invalid syntax\n"
     ]
    }
   ],
   "source": [
    "FIFO\n",
    "FIFO :\n",
    "    "
   ]
  },
  {
   "cell_type": "code",
   "execution_count": 262,
   "id": "7ff19463-f3d3-4baf-ac12-af3645171de0",
   "metadata": {
    "tags": []
   },
   "outputs": [
    {
     "data": {
      "text/plain": [
       "2"
      ]
     },
     "execution_count": 262,
     "metadata": {},
     "output_type": "execute_result"
    }
   ],
   "source": [
    "li = [\"a\", \"b\", 'b']\n",
    "li.count(\"b\")"
   ]
  },
  {
   "cell_type": "code",
   "execution_count": 267,
   "id": "5c3271f3-4072-4646-96e4-be67f5da032e",
   "metadata": {
    "tags": []
   },
   "outputs": [],
   "source": [
    "li.extend([1,2,3])"
   ]
  },
  {
   "cell_type": "code",
   "execution_count": 271,
   "id": "01e8e03d-45e8-485b-8817-e6499dc5cc8a",
   "metadata": {
    "tags": []
   },
   "outputs": [
    {
     "data": {
      "text/plain": [
       "['a', 'b', 'b', 1, 2, 3, 1, 2, 3, 1, 2, 3]"
      ]
     },
     "execution_count": 271,
     "metadata": {},
     "output_type": "execute_result"
    }
   ],
   "source": [
    "li = li + [1,2,3]\n",
    "li"
   ]
  },
  {
   "cell_type": "code",
   "execution_count": 273,
   "id": "ac774904-7fda-4a61-b55d-beb4f397172c",
   "metadata": {
    "tags": []
   },
   "outputs": [],
   "source": [
    "del li"
   ]
  },
  {
   "cell_type": "code",
   "execution_count": 288,
   "id": "9640dc7d-2ddb-44e3-9377-ce5eb9942003",
   "metadata": {
    "tags": []
   },
   "outputs": [],
   "source": [
    "a = [1,2,3]"
   ]
  },
  {
   "cell_type": "code",
   "execution_count": 276,
   "id": "38f926ff-b4ae-4e92-b7a9-813062d857ad",
   "metadata": {
    "tags": []
   },
   "outputs": [
    {
     "data": {
      "text/plain": [
       "[1, 2, 3]"
      ]
     },
     "execution_count": 276,
     "metadata": {},
     "output_type": "execute_result"
    }
   ],
   "source": [
    "a"
   ]
  },
  {
   "cell_type": "code",
   "execution_count": 289,
   "id": "1992032d-b1fe-4a92-8556-42c8dfbddd6a",
   "metadata": {
    "tags": []
   },
   "outputs": [
    {
     "data": {
      "text/plain": [
       "[1, 2, 3]"
      ]
     },
     "execution_count": 289,
     "metadata": {},
     "output_type": "execute_result"
    }
   ],
   "source": [
    "# https://blockdmask.tistory.com/576\n",
    "b = a #얕은 복사\n",
    "b\n",
    "#얕은 복사 = 변수를 복사했다고 생각했지만 실제로는 연결\n",
    "#변수를 복사했지만 참조한 곳은 동일하기 때문에 같은 변수를 가리킴"
   ]
  },
  {
   "cell_type": "code",
   "execution_count": 290,
   "id": "611fe07b-081c-4897-a234-e151a4ffd889",
   "metadata": {
    "tags": []
   },
   "outputs": [
    {
     "data": {
      "text/plain": [
       "[1, 2, 3]"
      ]
     },
     "execution_count": 290,
     "metadata": {},
     "output_type": "execute_result"
    }
   ],
   "source": [
    "c = a.copy() #깊은 복사\n",
    "c"
   ]
  },
  {
   "cell_type": "code",
   "execution_count": 291,
   "id": "047124da-53b3-4cb5-91ed-aecb90e36725",
   "metadata": {
    "tags": []
   },
   "outputs": [
    {
     "data": {
      "text/plain": [
       "[100, 2, 3]"
      ]
     },
     "execution_count": 291,
     "metadata": {},
     "output_type": "execute_result"
    }
   ],
   "source": [
    "c[0] = 100\n",
    "c"
   ]
  },
  {
   "cell_type": "code",
   "execution_count": 292,
   "id": "da4a69dc-b2eb-4b01-892f-6173bd137702",
   "metadata": {
    "tags": []
   },
   "outputs": [
    {
     "data": {
      "text/plain": [
       "[1, 2, 3]"
      ]
     },
     "execution_count": 292,
     "metadata": {},
     "output_type": "execute_result"
    }
   ],
   "source": [
    "a"
   ]
  },
  {
   "cell_type": "code",
   "execution_count": 293,
   "id": "80cdd54a-7365-4cb2-8023-6ba50e4756f5",
   "metadata": {
    "tags": []
   },
   "outputs": [
    {
     "data": {
      "text/plain": [
       "[100, 2, 3]"
      ]
     },
     "execution_count": 293,
     "metadata": {},
     "output_type": "execute_result"
    }
   ],
   "source": [
    "b[0] = 100\n",
    "b"
   ]
  },
  {
   "cell_type": "code",
   "execution_count": 294,
   "id": "28ecac8c-5042-4750-9514-f3276260f2c0",
   "metadata": {
    "tags": []
   },
   "outputs": [
    {
     "data": {
      "text/plain": [
       "[100, 2, 3]"
      ]
     },
     "execution_count": 294,
     "metadata": {},
     "output_type": "execute_result"
    }
   ],
   "source": [
    "a"
   ]
  },
  {
   "cell_type": "markdown",
   "id": "257c8665-1d86-48d8-ae95-d5bdd58d396b",
   "metadata": {},
   "source": [
    "## tuple(튜플, 투플)\n",
    "- 99% 리스트와 같다.\n",
    "- 리스트와 다른 점은..."
   ]
  },
  {
   "cell_type": "code",
   "execution_count": 295,
   "id": "c514a9b4-647d-40c3-b621-1ba8e7521c0b",
   "metadata": {
    "tags": []
   },
   "outputs": [
    {
     "data": {
      "text/plain": [
       "(1, 2, 3)"
      ]
     },
     "execution_count": 295,
     "metadata": {},
     "output_type": "execute_result"
    }
   ],
   "source": [
    "a = (1,2,3)\n",
    "a"
   ]
  },
  {
   "cell_type": "code",
   "execution_count": 296,
   "id": "62cd7de6-2977-47d2-9b96-84e9ee66e08f",
   "metadata": {
    "tags": []
   },
   "outputs": [
    {
     "data": {
      "text/plain": [
       "tuple"
      ]
     },
     "execution_count": 296,
     "metadata": {},
     "output_type": "execute_result"
    }
   ],
   "source": [
    "type(a)"
   ]
  },
  {
   "cell_type": "code",
   "execution_count": 299,
   "id": "88f5b19e-343d-47cd-aed4-be6c661ba18b",
   "metadata": {
    "tags": []
   },
   "outputs": [
    {
     "data": {
      "text/plain": [
       "3"
      ]
     },
     "execution_count": 299,
     "metadata": {},
     "output_type": "execute_result"
    }
   ],
   "source": [
    "a[0]\n",
    "a[-1]"
   ]
  },
  {
   "cell_type": "code",
   "execution_count": 301,
   "id": "3d8f5a04-f661-4e6b-93a8-cf86dcae558d",
   "metadata": {
    "tags": []
   },
   "outputs": [
    {
     "ename": "TypeError",
     "evalue": "'tuple' object does not support item assignment",
     "output_type": "error",
     "traceback": [
      "\u001b[1;31m---------------------------------------------------------------------------\u001b[0m",
      "\u001b[1;31mTypeError\u001b[0m                                 Traceback (most recent call last)",
      "Cell \u001b[1;32mIn[301], line 1\u001b[0m\n\u001b[1;32m----> 1\u001b[0m \u001b[43ma\u001b[49m\u001b[43m[\u001b[49m\u001b[38;5;241;43m0\u001b[39;49m\u001b[43m]\u001b[49m \u001b[38;5;241m=\u001b[39m \u001b[38;5;241m10\u001b[39m\n",
      "\u001b[1;31mTypeError\u001b[0m: 'tuple' object does not support item assignment"
     ]
    }
   ],
   "source": [
    "a[0] = 10"
   ]
  },
  {
   "cell_type": "code",
   "execution_count": 303,
   "id": "ec4288cb-e496-4283-ad10-c680306ba0c6",
   "metadata": {
    "tags": []
   },
   "outputs": [],
   "source": [
    "del a"
   ]
  },
  {
   "cell_type": "code",
   "execution_count": 305,
   "id": "54cef783-6931-48e2-b2eb-0550586ca5a2",
   "metadata": {
    "tags": []
   },
   "outputs": [
    {
     "data": {
      "text/plain": [
       "(1, 2, 3)"
      ]
     },
     "execution_count": 305,
     "metadata": {},
     "output_type": "execute_result"
    }
   ],
   "source": [
    "a = (1,2,3)\n",
    "a"
   ]
  },
  {
   "cell_type": "code",
   "execution_count": 306,
   "id": "0dba33af-9b36-4384-b367-1cbb441d387d",
   "metadata": {
    "tags": []
   },
   "outputs": [
    {
     "ename": "TypeError",
     "evalue": "'tuple' object doesn't support item deletion",
     "output_type": "error",
     "traceback": [
      "\u001b[1;31m---------------------------------------------------------------------------\u001b[0m",
      "\u001b[1;31mTypeError\u001b[0m                                 Traceback (most recent call last)",
      "Cell \u001b[1;32mIn[306], line 1\u001b[0m\n\u001b[1;32m----> 1\u001b[0m \u001b[38;5;28;01mdel\u001b[39;00m a[\u001b[38;5;241m0\u001b[39m]\n",
      "\u001b[1;31mTypeError\u001b[0m: 'tuple' object doesn't support item deletion"
     ]
    }
   ],
   "source": [
    "del a[0]"
   ]
  },
  {
   "cell_type": "code",
   "execution_count": 309,
   "id": "ff37564a-f3a9-47bc-a955-14228b5df9d9",
   "metadata": {
    "tags": []
   },
   "outputs": [
    {
     "data": {
      "text/plain": [
       "(1, 2, 3)"
      ]
     },
     "execution_count": 309,
     "metadata": {},
     "output_type": "execute_result"
    }
   ],
   "source": [
    "# a = [1,2,3]\n",
    "# a = (1,2,3)\n",
    "a = 1, 2, 3\n",
    "a"
   ]
  },
  {
   "cell_type": "code",
   "execution_count": 321,
   "id": "fe4c51b3-6069-4b8c-b989-8f6dedc6f4f6",
   "metadata": {
    "tags": []
   },
   "outputs": [
    {
     "data": {
      "text/plain": [
       "(1, 2)"
      ]
     },
     "execution_count": 321,
     "metadata": {},
     "output_type": "execute_result"
    }
   ],
   "source": [
    "a = 1,2\n",
    "a"
   ]
  },
  {
   "cell_type": "code",
   "execution_count": 313,
   "id": "dedf374b-664b-4b95-92da-284ba5554ee9",
   "metadata": {
    "tags": []
   },
   "outputs": [
    {
     "name": "stdout",
     "output_type": "stream",
     "text": [
      "1\n"
     ]
    },
    {
     "data": {
      "text/plain": [
       "2"
      ]
     },
     "execution_count": 313,
     "metadata": {},
     "output_type": "execute_result"
    }
   ],
   "source": [
    "(a, b) = (1, 2)\n",
    "print(a)\n",
    "b"
   ]
  },
  {
   "cell_type": "code",
   "execution_count": 319,
   "id": "5a19e360-9fc8-43d4-a6dd-602057d0e9f3",
   "metadata": {
    "tags": []
   },
   "outputs": [
    {
     "name": "stdout",
     "output_type": "stream",
     "text": [
      "1 2\n"
     ]
    }
   ],
   "source": [
    "a,b= 1, 2\n",
    "print(a,b)"
   ]
  },
  {
   "cell_type": "markdown",
   "id": "d7f268cb-d03b-4af3-8de2-f4d13c327761",
   "metadata": {},
   "source": [
    "#### 딕셔너리 dictionary\n",
    "{ key : value }"
   ]
  },
  {
   "cell_type": "markdown",
   "id": "9846e467-2b02-48ee-a428-27e0b6a07654",
   "metadata": {},
   "source": [
    "- p87 나혼자코딩"
   ]
  },
  {
   "cell_type": "code",
   "execution_count": 1,
   "id": "7f815ad2-39c1-4542-8460-f0a526f33814",
   "metadata": {
    "tags": []
   },
   "outputs": [
    {
     "data": {
      "text/plain": [
       "{'apple': '사과', 'banana': '바나나', 'cherry': '체리'}"
      ]
     },
     "execution_count": 1,
     "metadata": {},
     "output_type": "execute_result"
    }
   ],
   "source": [
    "a = {\"apple\":\"사과\", \"banana\":\"바나나\", \"cherry\":\"체리\"}\n",
    "a"
   ]
  },
  {
   "cell_type": "code",
   "execution_count": 2,
   "id": "c7ac49ba-311e-4dd0-9ff7-2bc4359fb419",
   "metadata": {},
   "outputs": [
    {
     "data": {
      "text/plain": [
       "dict"
      ]
     },
     "execution_count": 2,
     "metadata": {},
     "output_type": "execute_result"
    }
   ],
   "source": [
    "type(a)"
   ]
  },
  {
   "cell_type": "markdown",
   "id": "68743ac7-e68f-47a3-81da-0664db76fd8b",
   "metadata": {},
   "source": [
    "- 접근 Read"
   ]
  },
  {
   "cell_type": "code",
   "execution_count": 3,
   "id": "8b0a231f-2a8d-4646-b64c-f3bd09b390f1",
   "metadata": {
    "tags": []
   },
   "outputs": [
    {
     "data": {
      "text/plain": [
       "'사과'"
      ]
     },
     "execution_count": 3,
     "metadata": {},
     "output_type": "execute_result"
    }
   ],
   "source": [
    "a[\"apple\"]"
   ]
  },
  {
   "cell_type": "code",
   "execution_count": 4,
   "id": "26b28ed0-ffc0-47ce-89da-ef93f8b661c4",
   "metadata": {
    "tags": []
   },
   "outputs": [
    {
     "data": {
      "text/plain": [
       "'체리'"
      ]
     },
     "execution_count": 4,
     "metadata": {},
     "output_type": "execute_result"
    }
   ],
   "source": [
    "a['cherry']"
   ]
  },
  {
   "cell_type": "code",
   "execution_count": 5,
   "id": "8b682eff-0d0b-4c3e-abb4-14680a2c3a74",
   "metadata": {
    "tags": []
   },
   "outputs": [
    {
     "ename": "KeyError",
     "evalue": "0",
     "output_type": "error",
     "traceback": [
      "\u001b[1;31m---------------------------------------------------------------------------\u001b[0m",
      "\u001b[1;31mKeyError\u001b[0m                                  Traceback (most recent call last)",
      "Cell \u001b[1;32mIn[5], line 1\u001b[0m\n\u001b[1;32m----> 1\u001b[0m \u001b[43ma\u001b[49m\u001b[43m[\u001b[49m\u001b[38;5;241;43m0\u001b[39;49m\u001b[43m]\u001b[49m\n",
      "\u001b[1;31mKeyError\u001b[0m: 0"
     ]
    }
   ],
   "source": [
    "a[0]\n",
    "#딕셔너리는 인덱스 자체를 가지고 있지 않다!"
   ]
  },
  {
   "cell_type": "code",
   "execution_count": 6,
   "id": "c673b4ee-b1e1-48f8-a778-df1c49682d6b",
   "metadata": {
    "tags": []
   },
   "outputs": [
    {
     "ename": "KeyError",
     "evalue": "'사과'",
     "output_type": "error",
     "traceback": [
      "\u001b[1;31m---------------------------------------------------------------------------\u001b[0m",
      "\u001b[1;31mKeyError\u001b[0m                                  Traceback (most recent call last)",
      "Cell \u001b[1;32mIn[6], line 1\u001b[0m\n\u001b[1;32m----> 1\u001b[0m \u001b[43ma\u001b[49m\u001b[43m[\u001b[49m\u001b[38;5;124;43m\"\u001b[39;49m\u001b[38;5;124;43m사과\u001b[39;49m\u001b[38;5;124;43m\"\u001b[39;49m\u001b[43m]\u001b[49m\n",
      "\u001b[1;31mKeyError\u001b[0m: '사과'"
     ]
    }
   ],
   "source": [
    "a[\"사과\"]"
   ]
  },
  {
   "cell_type": "code",
   "execution_count": 11,
   "id": "b1335c13-2082-4aa0-a6b1-4f3cbfbb819e",
   "metadata": {
    "tags": []
   },
   "outputs": [
    {
     "data": {
      "text/plain": [
       "dict_keys(['apple', 'banana', 'cherry'])"
      ]
     },
     "execution_count": 11,
     "metadata": {},
     "output_type": "execute_result"
    }
   ],
   "source": [
    "a.keys()"
   ]
  },
  {
   "cell_type": "code",
   "execution_count": null,
   "id": "54f4c367-1e79-4bb7-8d2c-19cb199e2560",
   "metadata": {},
   "outputs": [],
   "source": [
    "a.values(['사과', \"바나나\", ㅊㅊ])"
   ]
  },
  {
   "cell_type": "code",
   "execution_count": 10,
   "id": "aa9712cd-2861-4e8a-9f5a-93c9cc659b01",
   "metadata": {
    "tags": []
   },
   "outputs": [
    {
     "name": "stdout",
     "output_type": "stream",
     "text": [
      "사과\n",
      "바나나\n",
      "체리\n"
     ]
    }
   ],
   "source": [
    "for i in ['apple', 'banana', \"cherry\"] :\n",
    "    print(a[i])"
   ]
  },
  {
   "cell_type": "code",
   "execution_count": 10,
   "id": "c3391723-5094-437b-abf4-7be1e6d8f8af",
   "metadata": {
    "tags": []
   },
   "outputs": [
    {
     "name": "stdout",
     "output_type": "stream",
     "text": [
      "사과\n",
      "바나나\n",
      "체리\n"
     ]
    }
   ],
   "source": [
    "for i in ['apple', 'banana', \"cherry\"] :\n",
    "    print(a[i])"
   ]
  },
  {
   "cell_type": "code",
   "execution_count": 12,
   "id": "a059e849-a2bf-49d1-b635-2394725cf0d0",
   "metadata": {
    "tags": []
   },
   "outputs": [
    {
     "data": {
      "text/plain": [
       "dict_items([('apple', '사과'), ('banana', '바나나'), ('cherry', '체리')])"
      ]
     },
     "execution_count": 12,
     "metadata": {},
     "output_type": "execute_result"
    }
   ],
   "source": [
    "a.items()"
   ]
  },
  {
   "cell_type": "code",
   "execution_count": 13,
   "id": "039675b3-5712-4c58-b3d9-a2c2e46eefaa",
   "metadata": {
    "tags": []
   },
   "outputs": [
    {
     "ename": "NameError",
     "evalue": "name 'values' is not defined",
     "output_type": "error",
     "traceback": [
      "\u001b[1;31m---------------------------------------------------------------------------\u001b[0m",
      "\u001b[1;31mNameError\u001b[0m                                 Traceback (most recent call last)",
      "Cell \u001b[1;32mIn[13], line 1\u001b[0m\n\u001b[1;32m----> 1\u001b[0m \u001b[38;5;28;01mfor\u001b[39;00m i \u001b[38;5;129;01min\u001b[39;00m \u001b[43mvalues\u001b[49m(): \n\u001b[0;32m      2\u001b[0m     \u001b[38;5;28mprint\u001b[39m(o\u001b[38;5;241m=\u001b[39mi)\n",
      "\u001b[1;31mNameError\u001b[0m: name 'values' is not defined"
     ]
    }
   ],
   "source": [
    "for i in values(): \n",
    "    print(o=i)"
   ]
  },
  {
   "cell_type": "code",
   "execution_count": 14,
   "id": "dda3c4ac-27eb-4903-bdd0-f41759d8608e",
   "metadata": {
    "tags": []
   },
   "outputs": [
    {
     "ename": "SyntaxError",
     "evalue": "invalid syntax (2479825877.py, line 2)",
     "output_type": "error",
     "traceback": [
      "\u001b[1;36m  Cell \u001b[1;32mIn[14], line 2\u001b[1;36m\u001b[0m\n\u001b[1;33m    print(i)\u001b[0m\n\u001b[1;37m    ^\u001b[0m\n\u001b[1;31mSyntaxError\u001b[0m\u001b[1;31m:\u001b[0m invalid syntax\n"
     ]
    }
   ],
   "source": [
    "for i in a.values()\\\n",
    "print(i)\n"
   ]
  },
  {
   "cell_type": "code",
   "execution_count": 15,
   "id": "cc35fdb2-0a9d-4f3b-846a-b6191ea096aa",
   "metadata": {
    "tags": []
   },
   "outputs": [
    {
     "name": "stdout",
     "output_type": "stream",
     "text": [
      "apple 사과\n",
      "banana 바나나\n",
      "cherry 체리\n"
     ]
    }
   ],
   "source": [
    "for (i,j) in a.items() :\n",
    "    print(i,j)"
   ]
  },
  {
   "cell_type": "code",
   "execution_count": 22,
   "id": "9fa50ecd-3065-411d-989b-54f4b20ae67a",
   "metadata": {
    "tags": []
   },
   "outputs": [
    {
     "name": "stdout",
     "output_type": "stream",
     "text": [
      "apple\n",
      "banana\n",
      "cherry\n"
     ]
    }
   ],
   "source": [
    "for i, _ in a.items():\n",
    "    print(i)"
   ]
  },
  {
   "cell_type": "code",
   "execution_count": 25,
   "id": "b49e83ce-54b7-475f-bc96-9a2c7f16abe5",
   "metadata": {
    "tags": []
   },
   "outputs": [
    {
     "data": {
      "text/plain": [
       "{'apple': ['사과', '능금', '백설공주가 먹은 과일'], 'banana': '바나나', 'cherry': '체리'}"
      ]
     },
     "execution_count": 25,
     "metadata": {},
     "output_type": "execute_result"
    }
   ],
   "source": [
    "a = {\"apple\":[\"사과\", \"능금\", \"백설공주가 먹은 과일\"], \"banana\":\"바나나\", \"cherry\":\"체리\"}\n",
    "a"
   ]
  },
  {
   "cell_type": "markdown",
   "id": "ac5a9146-710c-40ed-a7f5-cb12b8a03bd8",
   "metadata": {},
   "source": [
    "- 수정하기"
   ]
  },
  {
   "cell_type": "code",
   "execution_count": 26,
   "id": "dd8be397-2259-4fac-8b47-09b5d0a5ed48",
   "metadata": {
    "tags": []
   },
   "outputs": [
    {
     "data": {
      "text/plain": [
       "{'apple': ['사과', '능금', '백설공주가 먹은 과일'], 'banana': '바나나', 'cherry': '체리'}"
      ]
     },
     "execution_count": 26,
     "metadata": {},
     "output_type": "execute_result"
    }
   ],
   "source": [
    "a"
   ]
  },
  {
   "cell_type": "code",
   "execution_count": 28,
   "id": "592dc839-cfd4-42fc-b3cc-443d47ffaae6",
   "metadata": {
    "tags": []
   },
   "outputs": [
    {
     "data": {
      "text/plain": [
       "{'apple': ['사과', '능금', '백설공주가 먹은 과일'], 'banana': '빠나나', 'cherry': '체리'}"
      ]
     },
     "execution_count": 28,
     "metadata": {},
     "output_type": "execute_result"
    }
   ],
   "source": [
    "a['banana'] = \"빠나나\"\n",
    "a"
   ]
  },
  {
   "cell_type": "code",
   "execution_count": 31,
   "id": "285813ab-0bf4-4e5f-a935-65400277a52e",
   "metadata": {
    "tags": []
   },
   "outputs": [
    {
     "ename": "KeyError",
     "evalue": "'banana'",
     "output_type": "error",
     "traceback": [
      "\u001b[1;31m---------------------------------------------------------------------------\u001b[0m",
      "\u001b[1;31mKeyError\u001b[0m                                  Traceback (most recent call last)",
      "Cell \u001b[1;32mIn[31], line 1\u001b[0m\n\u001b[1;32m----> 1\u001b[0m \u001b[38;5;28;01mdel\u001b[39;00m a[\u001b[38;5;124m'\u001b[39m\u001b[38;5;124mbanana\u001b[39m\u001b[38;5;124m'\u001b[39m]\n\u001b[0;32m      2\u001b[0m a\n",
      "\u001b[1;31mKeyError\u001b[0m: 'banana'"
     ]
    }
   ],
   "source": [
    "del a['banana']\n",
    "a"
   ]
  },
  {
   "cell_type": "code",
   "execution_count": 33,
   "id": "dc7a251c-8a56-44e2-8639-da39c51cf8bd",
   "metadata": {
    "tags": []
   },
   "outputs": [
    {
     "ename": "KeyError",
     "evalue": "'banana'",
     "output_type": "error",
     "traceback": [
      "\u001b[1;31m---------------------------------------------------------------------------\u001b[0m",
      "\u001b[1;31mKeyError\u001b[0m                                  Traceback (most recent call last)",
      "Cell \u001b[1;32mIn[33], line 1\u001b[0m\n\u001b[1;32m----> 1\u001b[0m \u001b[38;5;28;01mdel\u001b[39;00m a[\u001b[38;5;124m'\u001b[39m\u001b[38;5;124mbanana\u001b[39m\u001b[38;5;124m'\u001b[39m]\n\u001b[0;32m      2\u001b[0m a\n",
      "\u001b[1;31mKeyError\u001b[0m: 'banana'"
     ]
    }
   ],
   "source": [
    "del a['banana']\n",
    "a"
   ]
  },
  {
   "cell_type": "code",
   "execution_count": 34,
   "id": "6afd031e-78a4-4acf-bfbe-200c0620270c",
   "metadata": {
    "tags": []
   },
   "outputs": [],
   "source": [
    "a['banana'] = \"바나나\""
   ]
  },
  {
   "cell_type": "code",
   "execution_count": 35,
   "id": "571f66bf-2a0b-4660-9ede-7b15d604b46d",
   "metadata": {
    "tags": []
   },
   "outputs": [
    {
     "data": {
      "text/plain": [
       "{'apple': ['사과', '능금', '백설공주가 먹은 과일'], 'cherry': '체리', 'banana': '바나나'}"
      ]
     },
     "execution_count": 35,
     "metadata": {},
     "output_type": "execute_result"
    }
   ],
   "source": [
    "a"
   ]
  },
  {
   "cell_type": "code",
   "execution_count": null,
   "id": "ea2dc51a-53ec-4d75-b23e-e271f350e8fa",
   "metadata": {},
   "outputs": [],
   "source": [
    "#~115까지 연습문제도 풀기"
   ]
  }
 ],
 "metadata": {
  "kernelspec": {
   "display_name": "Python 3 (ipykernel)",
   "language": "python",
   "name": "python3"
  },
  "language_info": {
   "codemirror_mode": {
    "name": "ipython",
    "version": 3
   },
   "file_extension": ".py",
   "mimetype": "text/x-python",
   "name": "python",
   "nbconvert_exporter": "python",
   "pygments_lexer": "ipython3",
   "version": "3.10.9"
  }
 },
 "nbformat": 4,
 "nbformat_minor": 5
}
