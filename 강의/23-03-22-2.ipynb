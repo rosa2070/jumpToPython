{
 "cells": [
  {
   "cell_type": "code",
   "execution_count": 1,
   "id": "35e125bd-cf65-43e9-bcf3-a61775953857",
   "metadata": {
    "tags": []
   },
   "outputs": [
    {
     "ename": "NameError",
     "evalue": "name 'numbers' is not defined",
     "output_type": "error",
     "traceback": [
      "\u001b[1;31m---------------------------------------------------------------------------\u001b[0m",
      "\u001b[1;31mNameError\u001b[0m                                 Traceback (most recent call last)",
      "Cell \u001b[1;32mIn[1], line 1\u001b[0m\n\u001b[1;32m----> 1\u001b[0m \u001b[38;5;28mlist\u001b[39m(\u001b[38;5;28mmap\u001b[39m(\u001b[38;5;28;01mlambda\u001b[39;00m a:a \u001b[38;5;241m>\u001b[39m\u001b[38;5;241m=\u001b[39m\u001b[38;5;241m300\u001b[39m \u001b[38;5;129;01mand\u001b[39;00m a \u001b[38;5;241m<\u001b[39m\u001b[38;5;241m=\u001b[39m\u001b[38;5;241m500\u001b[39m, \u001b[43mnumbers\u001b[49m))\n",
      "\u001b[1;31mNameError\u001b[0m: name 'numbers' is not defined"
     ]
    }
   ],
   "source": [
    "list(map(lambda a:a >=300 and a <=500, numbers))"
   ]
  },
  {
   "cell_type": "code",
   "execution_count": 3,
   "id": "020a8445-ac23-4c25-9bcb-6a7a4ca18297",
   "metadata": {
    "tags": []
   },
   "outputs": [],
   "source": [
    "import random\n",
    "numbers = random.choices(range(1,1001), k=100)"
   ]
  },
  {
   "cell_type": "code",
   "execution_count": 12,
   "id": "14f5a269-d1a1-42bb-a0dd-8a7cc281f00b",
   "metadata": {
    "tags": []
   },
   "outputs": [
    {
     "data": {
      "text/plain": [
       "29"
      ]
     },
     "execution_count": 12,
     "metadata": {},
     "output_type": "execute_result"
    }
   ],
   "source": [
    "number = list(filter(lambda a:a >=300 and a <=500, numbers))\n",
    "len(number)"
   ]
  },
  {
   "cell_type": "code",
   "execution_count": 13,
   "id": "a30c4f76-1f7c-4f99-8250-c78a5a24db65",
   "metadata": {
    "tags": []
   },
   "outputs": [
    {
     "ename": "NameError",
     "evalue": "name 're' is not defined",
     "output_type": "error",
     "traceback": [
      "\u001b[1;31m---------------------------------------------------------------------------\u001b[0m",
      "\u001b[1;31mNameError\u001b[0m                                 Traceback (most recent call last)",
      "Cell \u001b[1;32mIn[13], line 1\u001b[0m\n\u001b[1;32m----> 1\u001b[0m p \u001b[38;5;241m=\u001b[39m \u001b[43mre\u001b[49m\u001b[38;5;241m.\u001b[39mcompile(\u001b[38;5;124m\"\u001b[39m\u001b[38;5;124m(3|4)\u001b[39m\u001b[38;5;124m\\\u001b[39m\u001b[38;5;124md\u001b[39m\u001b[38;5;132;01m{2}\u001b[39;00m\u001b[38;5;124m\"\u001b[39m)\n\u001b[0;32m      2\u001b[0m \u001b[38;5;28mlen\u001b[39m(p\u001b[38;5;241m.\u001b[39mfindall(\u001b[38;5;28mstr\u001b[39m(numbers)))\n",
      "\u001b[1;31mNameError\u001b[0m: name 're' is not defined"
     ]
    }
   ],
   "source": [
    "p = re.compile(\"(3|4)\\d{2}\")\n",
    "len(p.findall(str(numbers)))"
   ]
  },
  {
   "cell_type": "markdown",
   "id": "fddd32de-f066-462a-9089-1509bd110293",
   "metadata": {},
   "source": [
    "# 컴파일 옵션"
   ]
  },
  {
   "cell_type": "code",
   "execution_count": 15,
   "id": "e991d136-b5da-4fa6-8cfd-06ba19e5dc1b",
   "metadata": {
    "tags": []
   },
   "outputs": [
    {
     "data": {
      "text/plain": [
       "<re.Match object; span=(0, 1), match='p'>"
      ]
     },
     "execution_count": 15,
     "metadata": {},
     "output_type": "execute_result"
    }
   ],
   "source": [
    "import re\n",
    "p = re.compile(\"[a-z]\")\n",
    "p.match(\"python1234\")"
   ]
  },
  {
   "cell_type": "code",
   "execution_count": 17,
   "id": "64de82c4-1c89-43db-a340-0c03fcc4126e",
   "metadata": {
    "tags": []
   },
   "outputs": [
    {
     "data": {
      "text/plain": [
       "<re.Match object; span=(1, 6), match='ython'>"
      ]
     },
     "execution_count": 17,
     "metadata": {},
     "output_type": "execute_result"
    }
   ],
   "source": [
    "p = re.compile(\"[a-z]+\")\n",
    "p.match(\"Python1234\")\n",
    "p.search(\"Python1234\")"
   ]
  },
  {
   "cell_type": "code",
   "execution_count": 20,
   "id": "7f41f5de-fc23-4843-81a2-1e92687fe018",
   "metadata": {
    "tags": []
   },
   "outputs": [
    {
     "data": {
      "text/plain": [
       "<re.Match object; span=(0, 6), match='Python'>"
      ]
     },
     "execution_count": 20,
     "metadata": {},
     "output_type": "execute_result"
    }
   ],
   "source": [
    "p = re.compile(\"[a-z]+\", re.IGNORECASE)\n",
    "p.match(\"Python1234\")"
   ]
  },
  {
   "cell_type": "markdown",
   "id": "fbfe8b42-54a6-4b23-858a-9ca7437a4522",
   "metadata": {},
   "source": [
    "- MULTILINE"
   ]
  },
  {
   "cell_type": "code",
   "execution_count": 26,
   "id": "131d5f49-f96b-450f-8630-6758d23e640c",
   "metadata": {
    "tags": []
   },
   "outputs": [
    {
     "name": "stdout",
     "output_type": "stream",
     "text": [
      "1. 투입\n",
      "2. 반환\n",
      "3. 종료\n"
     ]
    }
   ],
   "source": [
    "string = '''1. 투입\n",
    "2. 반환\n",
    "3. 종료'''\n",
    "print(string)"
   ]
  },
  {
   "cell_type": "code",
   "execution_count": 27,
   "id": "aa36a82e-93c4-4f3d-ac6d-4934cfb3d5cf",
   "metadata": {
    "tags": []
   },
   "outputs": [],
   "source": [
    "data = \"\"\"python one\n",
    "life is too short\n",
    "python two\n",
    "you need python\n",
    "python three\"\"\" "
   ]
  },
  {
   "cell_type": "markdown",
   "id": "42fa395a-a9eb-4599-8907-af0f9fd81ef5",
   "metadata": {},
   "source": [
    "# 시작이 6개의 문자인 것을 출력"
   ]
  },
  {
   "cell_type": "code",
   "execution_count": 32,
   "id": "de011f1b-7907-4a6f-a880-32decb656c2c",
   "metadata": {
    "tags": []
   },
   "outputs": [
    {
     "data": {
      "text/plain": [
       "'python one'"
      ]
     },
     "execution_count": 32,
     "metadata": {},
     "output_type": "execute_result"
    }
   ],
   "source": [
    "p = re.compile(\"\\w{6}.*\")\n",
    "p.search(data).group()"
   ]
  },
  {
   "cell_type": "code",
   "execution_count": 37,
   "id": "685a8d7c-7648-43f8-a4f8-a2c3b7546a8a",
   "metadata": {
    "tags": []
   },
   "outputs": [
    {
     "name": "stdout",
     "output_type": "stream",
     "text": [
      "python one\n",
      "python two\n",
      "python three\n"
     ]
    }
   ],
   "source": [
    "p = re.compile(\"^python.*\", re.MULTILINE)\n",
    "for i in p.finditer(data):\n",
    "    print(i.group())"
   ]
  },
  {
   "cell_type": "code",
   "execution_count": 38,
   "id": "10223ec1-1417-4966-9401-98ef10605ffa",
   "metadata": {
    "tags": []
   },
   "outputs": [
    {
     "ename": "SyntaxError",
     "evalue": "unexpected character after line continuation character (4085682978.py, line 1)",
     "output_type": "error",
     "traceback": [
      "\u001b[1;36m  Cell \u001b[1;32mIn[38], line 1\u001b[1;36m\u001b[0m\n\u001b[1;33m    \\section\u001b[0m\n\u001b[1;37m     ^\u001b[0m\n\u001b[1;31mSyntaxError\u001b[0m\u001b[1;31m:\u001b[0m unexpected character after line continuation character\n"
     ]
    }
   ],
   "source": [
    "\\section\n",
    "p = re.compile(r\"\\\\new\")\n",
    "\\n: 줄바꿈\n",
    "\n",
    "\\\\ -> \\"
   ]
  },
  {
   "cell_type": "code",
   "execution_count": 39,
   "id": "87dd9dcc-6439-47a3-9488-736d661368f5",
   "metadata": {},
   "outputs": [],
   "source": [
    "import re"
   ]
  },
  {
   "cell_type": "code",
   "execution_count": 52,
   "id": "bd0b3781-0730-4656-9377-6560c4412032",
   "metadata": {
    "tags": []
   },
   "outputs": [
    {
     "data": {
      "text/plain": [
       "<re.Match object; span=(0, 18), match='park 010-1234-5678'>"
      ]
     },
     "execution_count": 52,
     "metadata": {},
     "output_type": "execute_result"
    }
   ],
   "source": [
    "string = \"park 010-1234-5678\"\n",
    "p = re.compile(\"\\w+\\s+\\d+[-]\\d+[-]\\d+\")\n",
    "p.search(string)"
   ]
  },
  {
   "cell_type": "code",
   "execution_count": 42,
   "id": "ac37e1f9-64d1-4b3f-9667-a997714039ea",
   "metadata": {
    "tags": []
   },
   "outputs": [
    {
     "data": {
      "text/plain": [
       "<re.Match object; span=(0, 4), match='park'>"
      ]
     },
     "execution_count": 42,
     "metadata": {},
     "output_type": "execute_result"
    }
   ],
   "source": [
    "p = re.compile(\"\\w+\")\n",
    "p.search(string)"
   ]
  },
  {
   "cell_type": "code",
   "execution_count": 56,
   "id": "feaa6173-b269-4b42-9a2f-68b1113db797",
   "metadata": {
    "tags": []
   },
   "outputs": [
    {
     "data": {
      "text/plain": [
       "'park 010-1234-5678'"
      ]
     },
     "execution_count": 56,
     "metadata": {},
     "output_type": "execute_result"
    }
   ],
   "source": [
    "p = re.compile(\"(?P<first>\\w+)\\s+\\d+[-](?P<second>\\d+)[-](?P<third>\\d+)\")\n",
    "p.search(string).group(1)\n",
    "p.search(string).group(2)\n",
    "p.search(string).group(3)\n",
    "p.search(string).group(0) # 전체를 의미"
   ]
  },
  {
   "cell_type": "code",
   "execution_count": 59,
   "id": "6b12484c-2874-41d8-80c6-2db5064c4648",
   "metadata": {
    "tags": []
   },
   "outputs": [
    {
     "data": {
      "text/plain": [
       "'5678'"
      ]
     },
     "execution_count": 59,
     "metadata": {},
     "output_type": "execute_result"
    }
   ],
   "source": [
    "p = re.compile(\"(?P<name>\\w+)\\s+\\d+[-](?P<second>\\d+)[-](?P<number3>\\d+)\")\n",
    "p.search(string).group(1)\n",
    "p.search(string).group(\"name\")\n",
    "p.search(string).group(\"number3\")"
   ]
  },
  {
   "cell_type": "code",
   "execution_count": 75,
   "id": "dfbb93d3-058a-4b25-b997-5759b7227c36",
   "metadata": {
    "tags": []
   },
   "outputs": [
    {
     "name": "stdout",
     "output_type": "stream",
     "text": [
      "park\n"
     ]
    },
    {
     "ename": "IndexError",
     "evalue": "no such group",
     "output_type": "error",
     "traceback": [
      "\u001b[1;31m---------------------------------------------------------------------------\u001b[0m",
      "\u001b[1;31mIndexError\u001b[0m                                Traceback (most recent call last)",
      "Cell \u001b[1;32mIn[75], line 6\u001b[0m\n\u001b[0;32m      4\u001b[0m p \u001b[38;5;241m=\u001b[39m re\u001b[38;5;241m.\u001b[39mcompile(\u001b[38;5;124m\"\u001b[39m\u001b[38;5;124m(?P<first>\u001b[39m\u001b[38;5;124m\\\u001b[39m\u001b[38;5;124mw+)\u001b[39m\u001b[38;5;124m\\\u001b[39m\u001b[38;5;124ms\u001b[39m\u001b[38;5;124m\\\u001b[39m\u001b[38;5;124md+[-]\u001b[39m\u001b[38;5;124m\\\u001b[39m\u001b[38;5;124md+[-]\u001b[39m\u001b[38;5;124m\\\u001b[39m\u001b[38;5;124md+\u001b[39m\u001b[38;5;124m\"\u001b[39m)\n\u001b[0;32m      5\u001b[0m \u001b[38;5;28mprint\u001b[39m(p\u001b[38;5;241m.\u001b[39msearch(string)\u001b[38;5;241m.\u001b[39mgroup(\u001b[38;5;124m\"\u001b[39m\u001b[38;5;124mfirst\u001b[39m\u001b[38;5;124m\"\u001b[39m))\n\u001b[1;32m----> 6\u001b[0m \u001b[43mp\u001b[49m\u001b[38;5;241;43m.\u001b[39;49m\u001b[43msearch\u001b[49m\u001b[43m(\u001b[49m\u001b[43mstring\u001b[49m\u001b[43m)\u001b[49m\u001b[38;5;241;43m.\u001b[39;49m\u001b[43mgroup\u001b[49m\u001b[43m(\u001b[49m\u001b[38;5;241;43m2\u001b[39;49m\u001b[43m)\u001b[49m\n",
      "\u001b[1;31mIndexError\u001b[0m: no such group"
     ]
    }
   ],
   "source": [
    "strings = ['park 010-1234-1234', 'park 010-1234-1235', 'park 010-1234-1236', 'park 010-1234-1237' ] \n",
    "\n",
    "for string in strings:\n",
    "    p = re.compile(\"(?P<name>\\w+)\\s\\d+[-]\\d+[-]\\d+\")\n",
    "    print(p.search(string).group(\"name\"))"
   ]
  },
  {
   "cell_type": "code",
   "execution_count": 89,
   "id": "e6d66113-081f-4053-8069-9c251281f231",
   "metadata": {
    "tags": []
   },
   "outputs": [
    {
     "name": "stdout",
     "output_type": "stream",
     "text": [
      "<re.Match object; span=(1, 10), match='안녕하세요 그리고'>\n",
      "안녕하세요 그리고\n",
      "<re.Match object; span=(11, 20), match='그리고\\n안녕하세요'>\n",
      "그리고\n",
      "안녕하세요\n",
      "<re.Match object; span=(21, 24), match='또 또'>\n",
      "또 또\n",
      "<re.Match object; span=(25, 34), match='안녕하세요 그런데'>\n",
      "안녕하세요 그런데\n",
      "<re.Match object; span=(35, 44), match='그런데\\n안녕하세요'>\n",
      "그런데\n",
      "안녕하세요\n",
      "<re.Match object; span=(45, 48), match='끝 끝'>\n",
      "끝 끝\n"
     ]
    }
   ],
   "source": [
    "string = '''\n",
    "안녕하세요 그리고 그리고\n",
    "안녕하세요 또 또\n",
    "안녕하세요 그런데 그런데\n",
    "안녕하세요 끝 끝\n",
    "'''\n",
    "p = re.compile(\"(\\w+)\\s(\\w+)\")\n",
    "#p.findall(string)\n",
    "for i in p.finditer(string):\n",
    "    print(i)\n",
    "    print(i.group())"
   ]
  },
  {
   "cell_type": "code",
   "execution_count": 90,
   "id": "ccf32569-fbd6-4199-8c80-ca402a444377",
   "metadata": {
    "tags": []
   },
   "outputs": [
    {
     "name": "stdout",
     "output_type": "stream",
     "text": [
      "<re.Match object; span=(7, 14), match='그리고 그리고'>\n",
      "그리고 그리고\n",
      "<re.Match object; span=(21, 24), match='또 또'>\n",
      "또 또\n",
      "<re.Match object; span=(31, 38), match='그런데 그런데'>\n",
      "그런데 그런데\n",
      "<re.Match object; span=(45, 48), match='끝 끝'>\n",
      "끝 끝\n"
     ]
    }
   ],
   "source": [
    "p = re.compile(\"(?P<word>\\w+)\\s(?P=word)\")\n",
    "#p.findall(string)\n",
    "for i in p.finditer(string):\n",
    "    print(i)\n",
    "    print(i.group())"
   ]
  },
  {
   "cell_type": "markdown",
   "id": "a9d352c3-3a28-4de1-a559-7c4638a9e3c1",
   "metadata": {},
   "source": [
    "# 전방탐색"
   ]
  },
  {
   "cell_type": "code",
   "execution_count": 136,
   "id": "37414ec9-06db-48cf-a0b6-3b92c6407244",
   "metadata": {
    "tags": []
   },
   "outputs": [],
   "source": [
    "string = '''\n",
    "http://www.forta.com    a\n",
    "https://mail.forta.com  b\n",
    "ftp://ftp.forta.com     c\n",
    "'''\n",
    "# 문자, 특수문자 등이 하나 이상 마지막은 f"
   ]
  },
  {
   "cell_type": "code",
   "execution_count": 137,
   "id": "027441d3-73ff-462e-a5fe-554d9b25782a",
   "metadata": {
    "tags": []
   },
   "outputs": [
    {
     "data": {
      "text/plain": [
       "['http://www.f', 'https://mail.f', 'ftp://ftp.f']"
      ]
     },
     "execution_count": 137,
     "metadata": {},
     "output_type": "execute_result"
    }
   ],
   "source": [
    "p = re.compile(\".+f\") #전방탐색으로 f를 표시한다\n",
    "p.findall(string)"
   ]
  },
  {
   "cell_type": "code",
   "execution_count": 143,
   "id": "af9afde7-aad0-4127-9dd6-9a3113d4e065",
   "metadata": {
    "tags": []
   },
   "outputs": [
    {
     "data": {
      "text/plain": [
       "['http://www.', 'https://mail.', 'ftp://ftp.']"
      ]
     },
     "execution_count": 143,
     "metadata": {},
     "output_type": "execute_result"
    }
   ],
   "source": [
    "p = re.compile(\".+(?=f)\") # 전방탐색으로 f를 표시하지 않는다\n",
    "p.findall(string)"
   ]
  },
  {
   "cell_type": "code",
   "execution_count": 102,
   "id": "9823dd08-1a61-444c-a6f9-3aca793900b1",
   "metadata": {
    "tags": []
   },
   "outputs": [
    {
     "data": {
      "text/plain": [
       "['http', 'https', 'ftp']"
      ]
     },
     "execution_count": 102,
     "metadata": {},
     "output_type": "execute_result"
    }
   ],
   "source": [
    "p = re.compile(\".+(?=:)\")\n",
    "p.findall(string)"
   ]
  },
  {
   "cell_type": "markdown",
   "id": "d371bdc6-e42f-4a6a-8609-cbc85452c26d",
   "metadata": {},
   "source": [
    "- tag 내용 뽑아내기"
   ]
  },
  {
   "cell_type": "code",
   "execution_count": 169,
   "id": "e24b3f82-116f-42d1-b7a5-d28efde785ef",
   "metadata": {
    "tags": []
   },
   "outputs": [
    {
     "name": "stdout",
     "output_type": "stream",
     "text": [
      "ryan\n"
     ]
    }
   ],
   "source": [
    "html = 'Kakao <p>ryan</p> keep a straigt face.'\n",
    "#왼쪽 p 기준 후방탐색, 오른쪽 p 기준 전방탐색\n",
    "p = re.compile(\"(?<=<p>)\\w+(?=</p>)\")\n",
    "print(p.search(html).group())"
   ]
  },
  {
   "cell_type": "markdown",
   "id": "7070f5f0-c6fc-45ff-973c-e353d79d1bd4",
   "metadata": {
    "tags": []
   },
   "source": [
    "## greedy"
   ]
  },
  {
   "cell_type": "code",
   "execution_count": 111,
   "id": "34758bdd-4f7a-451e-ac49-69974eebab4a",
   "metadata": {
    "tags": []
   },
   "outputs": [
    {
     "data": {
      "text/plain": [
       "<re.Match object; span=(0, 6), match='<html>'>"
      ]
     },
     "execution_count": 111,
     "metadata": {},
     "output_type": "execute_result"
    }
   ],
   "source": [
    "#반복 *, +, ?, {3,5} 뒤에 ?를 붙인다\n",
    "p = re.compile(\"<.+?>\")\n",
    "p.search(string)"
   ]
  },
  {
   "cell_type": "code",
   "execution_count": 116,
   "id": "1f67483b-e9a4-44ce-9dc2-056131287327",
   "metadata": {
    "tags": []
   },
   "outputs": [],
   "source": [
    "data = [\"soso\", \"sososo\", \"sosososo\", \"sososososo\"]\n",
    "\n",
    "#(so)가 3번 이상 5번 이하인 문자열만 출력"
   ]
  },
  {
   "cell_type": "code",
   "execution_count": 131,
   "id": "b6461796-7445-4811-aef7-f1db52d6e82f",
   "metadata": {
    "tags": []
   },
   "outputs": [
    {
     "name": "stdout",
     "output_type": "stream",
     "text": [
      "sososo\n",
      "sosososo\n",
      "sososososo\n"
     ]
    }
   ],
   "source": [
    "data = [\"soso\", \"sososo\", \"sosososo\", \"sososososo\"]\n",
    "p = re.compile(\"(so){3,5}\")\n",
    "for d in data:\n",
    "    if p.search(d):\n",
    "        print(d) "
   ]
  },
  {
   "cell_type": "code",
   "execution_count": 132,
   "id": "abc90fae-ae33-496b-adcb-0c1b211ba837",
   "metadata": {
    "tags": []
   },
   "outputs": [
    {
     "name": "stdout",
     "output_type": "stream",
     "text": [
      "None\n",
      "<re.Match object; span=(0, 6), match='sososo'>\n",
      "<re.Match object; span=(0, 8), match='sosososo'>\n",
      "<re.Match object; span=(0, 10), match='sososososo'>\n"
     ]
    }
   ],
   "source": [
    "p = re.compile(\"(so){3,5}\")\n",
    "for i in data:\n",
    "    print(p.search(i))"
   ]
  },
  {
   "cell_type": "code",
   "execution_count": 133,
   "id": "3cb5d677-a216-45f2-8e7c-caa76c69d305",
   "metadata": {
    "tags": []
   },
   "outputs": [
    {
     "name": "stdout",
     "output_type": "stream",
     "text": [
      "None\n",
      "<re.Match object; span=(0, 6), match='sososo'>\n",
      "<re.Match object; span=(0, 6), match='sososo'>\n",
      "<re.Match object; span=(0, 6), match='sososo'>\n"
     ]
    }
   ],
   "source": [
    "p = re.compile(\"(so){3,5}?\")\n",
    "for i in data:\n",
    "    print(p.search(i))"
   ]
  },
  {
   "cell_type": "code",
   "execution_count": 135,
   "id": "bac3ed56-e814-4ecc-90cb-a175a90fabb4",
   "metadata": {
    "tags": []
   },
   "outputs": [
    {
     "name": "stdout",
     "output_type": "stream",
     "text": [
      "<re.Match object; span=(0, 2), match='so'>\n",
      "<re.Match object; span=(0, 2), match='so'>\n",
      "<re.Match object; span=(0, 2), match='so'>\n",
      "<re.Match object; span=(0, 2), match='so'>\n"
     ]
    }
   ],
   "source": [
    "p = re.compile(\"(so)+?\")\n",
    "for i in data:\n",
    "    print(p.search(i))"
   ]
  },
  {
   "cell_type": "markdown",
   "id": "56e18155-4b6e-42b4-9c2c-e082a74f83f0",
   "metadata": {},
   "source": [
    "### 후방탐색"
   ]
  },
  {
   "cell_type": "code",
   "execution_count": 139,
   "id": "f35e0d2f-b33c-4925-ab56-b698a529b165",
   "metadata": {
    "tags": []
   },
   "outputs": [
    {
     "data": {
      "text/plain": [
       "['forta.com    a', 'forta.com  b', 'ftp://ftp.forta.com     c']"
      ]
     },
     "execution_count": 139,
     "metadata": {},
     "output_type": "execute_result"
    }
   ],
   "source": [
    "string = '''\n",
    "http://www.forta.com    a\n",
    "https://mail.forta.com  b\n",
    "ftp://ftp.forta.com     c\n",
    "'''\n",
    "\n",
    "p = re.compile(\"f.+\")\n",
    "p.findall(string)"
   ]
  },
  {
   "cell_type": "code",
   "execution_count": 140,
   "id": "b8be59ff-e4c4-44f3-954e-ffda21101fb2",
   "metadata": {
    "tags": []
   },
   "outputs": [
    {
     "data": {
      "text/plain": [
       "['forta.com    a', 'forta.com  b', 'ftp://ftp.forta.com     c']"
      ]
     },
     "execution_count": 140,
     "metadata": {},
     "output_type": "execute_result"
    }
   ],
   "source": [
    "p = re.compile(\"(?=f).+\") # 후방탐색으로 f를 표시한다\n",
    "p.findall(string)"
   ]
  },
  {
   "cell_type": "code",
   "execution_count": 145,
   "id": "612681c0-8350-4268-a342-16614c451dd4",
   "metadata": {
    "tags": []
   },
   "outputs": [
    {
     "data": {
      "text/plain": [
       "['orta.com    a', 'orta.com  b', 'tp://ftp.forta.com     c']"
      ]
     },
     "execution_count": 145,
     "metadata": {},
     "output_type": "execute_result"
    }
   ],
   "source": [
    "p = re.compile(\"(?<=f).+\") # 후방탐색으로 f를 표시하지 않는다\n",
    "p.findall(string)"
   ]
  },
  {
   "cell_type": "code",
   "execution_count": 148,
   "id": "f86a6117-406d-4c6b-92a0-a8e234597eb2",
   "metadata": {
    "tags": []
   },
   "outputs": [],
   "source": [
    "s = \"http://naver.com http://google.com ftp://daum.net\" "
   ]
  },
  {
   "cell_type": "code",
   "execution_count": null,
   "id": "c1627d62-3e01-4a1e-a94b-f3e347e82b5e",
   "metadata": {},
   "outputs": [],
   "source": [
    "1. ['http:', 'http:', 'ftp:']\n",
    "2. ['http', 'http', 'ftp']\n",
    "3. ['naver.com', 'google.com', 'daum.net']"
   ]
  },
  {
   "cell_type": "code",
   "execution_count": 167,
   "id": "2854b1f7-9b20-41e6-92d1-ff9d6439287c",
   "metadata": {
    "tags": []
   },
   "outputs": [
    {
     "data": {
      "text/plain": [
       "['naver.com', 'google.com', 'daum.net']"
      ]
     },
     "execution_count": 167,
     "metadata": {},
     "output_type": "execute_result"
    }
   ],
   "source": [
    "p = re.compile(\"\\w+:\")\n",
    "p = re.compile(\"\\w+(?=:)\")\n",
    "p = re.compile(\"(?<=//)\\S+\")\n",
    "\n",
    "p.findall(s)"
   ]
  },
  {
   "cell_type": "markdown",
   "id": "73401fb9-7807-4596-b366-3d2487c0927b",
   "metadata": {},
   "source": []
  },
  {
   "cell_type": "code",
   "execution_count": null,
   "id": "9fcb7e9c-bab6-49c9-ab88-a6d5795500c8",
   "metadata": {},
   "outputs": [],
   "source": []
  }
 ],
 "metadata": {
  "kernelspec": {
   "display_name": "Python 3 (ipykernel)",
   "language": "python",
   "name": "python3"
  },
  "language_info": {
   "codemirror_mode": {
    "name": "ipython",
    "version": 3
   },
   "file_extension": ".py",
   "mimetype": "text/x-python",
   "name": "python",
   "nbconvert_exporter": "python",
   "pygments_lexer": "ipython3",
   "version": "3.10.9"
  }
 },
 "nbformat": 4,
 "nbformat_minor": 5
}
