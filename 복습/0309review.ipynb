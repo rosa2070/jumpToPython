{
 "cells": [
  {
   "cell_type": "code",
   "execution_count": null,
   "id": "5793e3ac-d133-4133-8ede-0355b34d6d55",
   "metadata": {},
   "outputs": [],
   "source": [
    "#주피터 단축키 \n",
    "# esc + m : Markdown\n",
    "# esc + y : Code"
   ]
  },
  {
   "cell_type": "markdown",
   "id": "388f0eaa-2c4a-4c1f-8a3d-9abe9bdfd84b",
   "metadata": {
    "tags": []
   },
   "source": [
    "# 2. 파이썬 프로그래밍의 기초, 자료형"
   ]
  },
  {
   "cell_type": "markdown",
   "id": "d7bf8129-53df-4061-99c1-bbf4c000884a",
   "metadata": {
    "tags": []
   },
   "source": [
    "## 2-1 숫자형"
   ]
  },
  {
   "cell_type": "markdown",
   "id": "6e444491-42c7-488b-bab3-297d796b501f",
   "metadata": {
    "tags": []
   },
   "source": [
    "### 숫자형은 어떻게 만들고 사용할까?"
   ]
  },
  {
   "cell_type": "markdown",
   "id": "32c18b97-677e-4905-ac5c-54c8dbb86406",
   "metadata": {
    "tags": []
   },
   "source": [
    "#### (1) 정수형"
   ]
  },
  {
   "cell_type": "code",
   "execution_count": 47,
   "id": "27ff88a2-bf5f-4af3-8aa0-6e13c43e5475",
   "metadata": {
    "tags": []
   },
   "outputs": [],
   "source": [
    "a = 123"
   ]
  },
  {
   "cell_type": "code",
   "execution_count": 48,
   "id": "b4b0742d-1331-42b1-ab78-a00fe19f3208",
   "metadata": {
    "tags": []
   },
   "outputs": [],
   "source": [
    "a = -178"
   ]
  },
  {
   "cell_type": "code",
   "execution_count": 49,
   "id": "dbbabc0c-b51e-49a8-aa41-195442047645",
   "metadata": {
    "tags": []
   },
   "outputs": [],
   "source": [
    "a = 0"
   ]
  },
  {
   "cell_type": "markdown",
   "id": "f22d244c-3328-4224-8695-972a31ad1c61",
   "metadata": {},
   "source": [
    "#### (2) 실수형"
   ]
  },
  {
   "cell_type": "markdown",
   "id": "b02851d6-fe57-4280-b446-f214ecea9196",
   "metadata": {},
   "source": [
    "##### 일반적인 실수형의 소수점 표현 방식"
   ]
  },
  {
   "cell_type": "code",
   "execution_count": 50,
   "id": "7416e625-42c7-45ea-a382-4d6a08a611d3",
   "metadata": {
    "tags": []
   },
   "outputs": [],
   "source": [
    "a= 1.2"
   ]
  },
  {
   "cell_type": "code",
   "execution_count": 51,
   "id": "2fd22d06-16b8-47c6-b95d-f0bdc8093667",
   "metadata": {
    "tags": []
   },
   "outputs": [],
   "source": [
    "a = -3.45"
   ]
  },
  {
   "cell_type": "markdown",
   "id": "402a6d7e-8e8c-4d23-8554-5851578a76f3",
   "metadata": {},
   "source": [
    "##### 컴퓨터식 지수 표현 방식(E, e)"
   ]
  },
  {
   "cell_type": "code",
   "execution_count": 56,
   "id": "b637201d-e6cb-4580-afbf-d5d613b6fe58",
   "metadata": {
    "tags": []
   },
   "outputs": [
    {
     "data": {
      "text/plain": [
       "42400000000.0"
      ]
     },
     "execution_count": 56,
     "metadata": {},
     "output_type": "execute_result"
    }
   ],
   "source": [
    "# E나 e 중 어느 것을 사용해도 무방\n",
    "a = 4.24E10\n",
    "a"
   ]
  },
  {
   "cell_type": "code",
   "execution_count": 55,
   "id": "f41bd4e5-d964-448d-b6b4-3623c7c112f8",
   "metadata": {
    "tags": []
   },
   "outputs": [
    {
     "data": {
      "text/plain": [
       "4.24e-10"
      ]
     },
     "execution_count": 55,
     "metadata": {},
     "output_type": "execute_result"
    }
   ],
   "source": [
    "a= 4.24e-10\n",
    "a"
   ]
  },
  {
   "cell_type": "markdown",
   "id": "3671d436-0a65-4db2-8f62-1c63301aa4e4",
   "metadata": {
    "tags": []
   },
   "source": [
    "- 실수형의 소수점 표현 방식"
   ]
  },
  {
   "cell_type": "code",
   "execution_count": 10,
   "id": "803b2d33-6a18-4810-b15d-f99f69a7c177",
   "metadata": {
    "tags": []
   },
   "outputs": [
    {
     "name": "stdout",
     "output_type": "stream",
     "text": [
      "42400000000.0\n",
      "4.24e-10\n"
     ]
    }
   ],
   "source": [
    "# e와 E 중 어느 것을 사용해도 무방\n",
    "a = 4.24E10 \n",
    "b = 4.24e-10\n",
    "print(a) # 4.24 * 3\n",
    "print(b)"
   ]
  },
  {
   "cell_type": "code",
   "execution_count": 6,
   "id": "cbcba38c-5f25-4428-9868-e4e6d6b1c419",
   "metadata": {
    "tags": []
   },
   "outputs": [
    {
     "name": "stdout",
     "output_type": "stream",
     "text": [
      "1\n"
     ]
    }
   ],
   "source": [
    "a= 1\n",
    "print(a)"
   ]
  },
  {
   "cell_type": "markdown",
   "id": "e9fa9887-7be3-438c-8dd5-8ad21bb14881",
   "metadata": {},
   "source": [
    "#### (3) 8진수와 16진수"
   ]
  },
  {
   "cell_type": "code",
   "execution_count": 13,
   "id": "263707c1-7550-44c9-9e82-848b5bf143ef",
   "metadata": {
    "tags": []
   },
   "outputs": [
    {
     "name": "stdout",
     "output_type": "stream",
     "text": [
      "127\n"
     ]
    }
   ],
   "source": [
    "#https://itbeginner2020.tistory.com/17\n",
    "#8진수 : 0o 또는 0O로 시작\n",
    "a = 0o177\n",
    "print(a)"
   ]
  },
  {
   "cell_type": "code",
   "execution_count": 15,
   "id": "d1c8c106-d9c9-4fba-b2dc-448ddfa20324",
   "metadata": {
    "tags": []
   },
   "outputs": [
    {
     "name": "stdout",
     "output_type": "stream",
     "text": [
      "2303\n"
     ]
    }
   ],
   "source": [
    "#16진수 : 0x로 시작\n",
    "#a,b,c,d,e,f 는 각각 10,11,12,13,14,15에 해당\n",
    "a = 0x8ff\n",
    "print(a)"
   ]
  },
  {
   "cell_type": "markdown",
   "id": "1f09137d-eead-4f3b-9244-f74af4897d36",
   "metadata": {},
   "source": [
    "### 숫자형을 활용하기 위한 연산자"
   ]
  },
  {
   "cell_type": "markdown",
   "id": "2b6d2a93-57b6-400c-83d5-ccb7821b62ca",
   "metadata": {
    "tags": []
   },
   "source": [
    "#### (1) 사칙연산"
   ]
  },
  {
   "cell_type": "code",
   "execution_count": 58,
   "id": "01b0fc88-b5f2-42cc-b702-3fc5c2e74fb2",
   "metadata": {
    "tags": []
   },
   "outputs": [],
   "source": [
    "a=3"
   ]
  },
  {
   "cell_type": "code",
   "execution_count": 59,
   "id": "f489764b-049c-4c9a-b2ba-30d93100be37",
   "metadata": {
    "tags": []
   },
   "outputs": [],
   "source": [
    "b=4"
   ]
  },
  {
   "cell_type": "code",
   "execution_count": 60,
   "id": "9ebd2a52-b0ff-4a67-82ed-cc18f70324a8",
   "metadata": {
    "tags": []
   },
   "outputs": [
    {
     "data": {
      "text/plain": [
       "7"
      ]
     },
     "execution_count": 60,
     "metadata": {},
     "output_type": "execute_result"
    }
   ],
   "source": [
    "a+b"
   ]
  },
  {
   "cell_type": "code",
   "execution_count": 61,
   "id": "95e68ac7-6509-4eaf-a558-b6a760877ef6",
   "metadata": {
    "tags": []
   },
   "outputs": [
    {
     "data": {
      "text/plain": [
       "12"
      ]
     },
     "execution_count": 61,
     "metadata": {},
     "output_type": "execute_result"
    }
   ],
   "source": [
    "a*b"
   ]
  },
  {
   "cell_type": "code",
   "execution_count": 62,
   "id": "3bb3ef30-ed34-42ac-bad0-a98d6ebe7b48",
   "metadata": {
    "tags": []
   },
   "outputs": [
    {
     "data": {
      "text/plain": [
       "0.75"
      ]
     },
     "execution_count": 62,
     "metadata": {},
     "output_type": "execute_result"
    }
   ],
   "source": [
    "a/b"
   ]
  },
  {
   "cell_type": "markdown",
   "id": "e2e93f20-510d-4d15-85c8-754b68f2d923",
   "metadata": {},
   "source": [
    "#### (2) ** 연산자(제곱)"
   ]
  },
  {
   "cell_type": "code",
   "execution_count": 16,
   "id": "3a903574-3b29-4900-a11c-d9d8aaed18ea",
   "metadata": {
    "tags": []
   },
   "outputs": [
    {
     "data": {
      "text/plain": [
       "81"
      ]
     },
     "execution_count": 16,
     "metadata": {},
     "output_type": "execute_result"
    }
   ],
   "source": [
    "a = 3\n",
    "b = 4\n",
    "a ** b"
   ]
  },
  {
   "cell_type": "markdown",
   "id": "9e69fd8c-d67b-40a4-98eb-bbeb432e28b4",
   "metadata": {
    "tags": []
   },
   "source": [
    "#### (3) % 연산자(나머지 반환)"
   ]
  },
  {
   "cell_type": "code",
   "execution_count": 18,
   "id": "759ffea6-728f-4ec3-9f9d-64ee815b37a3",
   "metadata": {
    "tags": []
   },
   "outputs": [
    {
     "data": {
      "text/plain": [
       "1"
      ]
     },
     "execution_count": 18,
     "metadata": {},
     "output_type": "execute_result"
    }
   ],
   "source": [
    "7%3"
   ]
  },
  {
   "cell_type": "markdown",
   "id": "4697aeca-5512-4cab-bb3b-fc4cb0394daf",
   "metadata": {
    "tags": []
   },
   "source": [
    "#### (4) // 연산자(몫 반환)"
   ]
  },
  {
   "cell_type": "code",
   "execution_count": 24,
   "id": "818e9d7d-966b-4fcf-bf09-37f472a9b1fe",
   "metadata": {
    "tags": []
   },
   "outputs": [
    {
     "data": {
      "text/plain": [
       "1"
      ]
     },
     "execution_count": 24,
     "metadata": {},
     "output_type": "execute_result"
    }
   ],
   "source": [
    "7/4\n",
    "7//4"
   ]
  },
  {
   "cell_type": "markdown",
   "id": "5a99b74f-578a-4157-8c9a-eadba14b8293",
   "metadata": {},
   "source": [
    "- 퀴즈"
   ]
  },
  {
   "cell_type": "code",
   "execution_count": 27,
   "id": "f0435c72-fa8b-4283-84fc-cbf8367800d1",
   "metadata": {
    "tags": []
   },
   "outputs": [
    {
     "name": "stdout",
     "output_type": "stream",
     "text": [
      "4\n",
      "2\n"
     ]
    }
   ],
   "source": [
    "#14/3 몫, 나머지\n",
    "print(14//3)\n",
    "print(14%3)\n"
   ]
  },
  {
   "cell_type": "markdown",
   "id": "31bfd08d-8dde-458c-b083-6eb23ea36c87",
   "metadata": {},
   "source": [
    "## 2-2 문자열 자료형"
   ]
  },
  {
   "cell_type": "markdown",
   "id": "8e03c71e-c297-431a-b137-c5002523b05f",
   "metadata": {},
   "source": [
    "### 문자열은 어떻게 만들고 사용할까?"
   ]
  },
  {
   "cell_type": "markdown",
   "id": "59648d0d-a1df-4643-b4d4-b0dcdab6d4c3",
   "metadata": {},
   "source": [
    "#### 1. 큰 따옴표(\")로 양쪽 둘러싸기"
   ]
  },
  {
   "cell_type": "code",
   "execution_count": 29,
   "id": "63c84658-5938-4c50-9bc9-0cc7918b69bb",
   "metadata": {
    "tags": []
   },
   "outputs": [
    {
     "name": "stdout",
     "output_type": "stream",
     "text": [
      "Hello World\n"
     ]
    }
   ],
   "source": [
    "print(\"Hello World\")"
   ]
  },
  {
   "cell_type": "markdown",
   "id": "afacb5f0-2d13-445f-884d-12e64a67cbf4",
   "metadata": {
    "tags": []
   },
   "source": [
    "#### 2. 작은따옴표(\")로 양쪽 둘러싸기"
   ]
  },
  {
   "cell_type": "code",
   "execution_count": 30,
   "id": "0573f9d1-287c-44a4-a4cb-a89c86f29de4",
   "metadata": {
    "tags": []
   },
   "outputs": [
    {
     "name": "stdout",
     "output_type": "stream",
     "text": [
      "Python is fun\n"
     ]
    }
   ],
   "source": [
    "print('Python is fun')"
   ]
  },
  {
   "cell_type": "markdown",
   "id": "e47d7a55-1c19-44d2-9fb2-4b37359d852b",
   "metadata": {},
   "source": [
    "#### 3. 큰따옴표 3개를 연속(\"\"\")으로 양쪽"
   ]
  },
  {
   "cell_type": "code",
   "execution_count": 31,
   "id": "2b5d97d1-127d-46f2-a30d-4aed1b7406f3",
   "metadata": {
    "tags": []
   },
   "outputs": [
    {
     "name": "stdout",
     "output_type": "stream",
     "text": [
      "\n",
      "Life is too short,\n",
      "You nee python\n",
      "\n"
     ]
    }
   ],
   "source": [
    "print(\"\"\"\n",
    "Life is too short,\n",
    "You need python\n",
    "\"\"\")"
   ]
  },
  {
   "cell_type": "markdown",
   "id": "e980ca5a-0282-445e-9924-7f17b39da5f8",
   "metadata": {},
   "source": [
    "#### 4. 작은따옴표 3개를 연속(''')으로 양쪽"
   ]
  },
  {
   "cell_type": "code",
   "execution_count": 33,
   "id": "4ae4a90f-1614-41fb-978f-6ca87c737d3f",
   "metadata": {
    "tags": []
   },
   "outputs": [
    {
     "name": "stdout",
     "output_type": "stream",
     "text": [
      "\n",
      "Life is too short,\n",
      "You need python\n",
      "\n"
     ]
    }
   ],
   "source": [
    "print('''\n",
    "Life is too short,\n",
    "You need python\n",
    "''')"
   ]
  },
  {
   "cell_type": "markdown",
   "id": "90400fa9-22e8-48e5-857f-64b274fa49c4",
   "metadata": {
    "tags": []
   },
   "source": [
    "### 문자열 안에 작은다옴표나 큰따옴표 포함시키기"
   ]
  },
  {
   "cell_type": "markdown",
   "id": "9056d258-18e5-45d5-9c9e-d7e6ba6caf3d",
   "metadata": {},
   "source": [
    "#### 1. 문자열에 작은따옴표(') 포함시키기"
   ]
  },
  {
   "cell_type": "code",
   "execution_count": 36,
   "id": "7e81ca76-2462-4fbc-b628-8752dfa07c8e",
   "metadata": {
    "tags": []
   },
   "outputs": [
    {
     "data": {
      "text/plain": [
       "\"Python's favorite food is perl\""
      ]
     },
     "execution_count": 36,
     "metadata": {},
     "output_type": "execute_result"
    }
   ],
   "source": [
    "#큰따옴표로 둘러싼다.\n",
    "food = \"Python's favorite food is perl\"\n",
    "food"
   ]
  },
  {
   "cell_type": "code",
   "execution_count": 37,
   "id": "c1e6c643-0acc-45be-a666-179188147e1b",
   "metadata": {
    "tags": []
   },
   "outputs": [
    {
     "ename": "SyntaxError",
     "evalue": "unterminated string literal (detected at line 2) (4176699085.py, line 2)",
     "output_type": "error",
     "traceback": [
      "\u001b[1;36m  Cell \u001b[1;32mIn[37], line 2\u001b[1;36m\u001b[0m\n\u001b[1;33m    food = 'Python's favorite food is perl'\u001b[0m\n\u001b[1;37m                                          ^\u001b[0m\n\u001b[1;31mSyntaxError\u001b[0m\u001b[1;31m:\u001b[0m unterminated string literal (detected at line 2)\n"
     ]
    }
   ],
   "source": [
    "#작은따옴표가 포함된 문자열을 작은따옴표로 둘러싼 경우 -> 오류발생\n",
    "food = 'Python's favorite food is perl'"
   ]
  },
  {
   "cell_type": "markdown",
   "id": "770973fd-b400-4d12-95cb-ea821007a3a6",
   "metadata": {
    "tags": []
   },
   "source": [
    "#### 2. 문자열에 큰따옴표(\") 포함시키기"
   ]
  },
  {
   "cell_type": "code",
   "execution_count": 39,
   "id": "7e86ac83-4f81-4ae8-bbd3-251995d1ffd0",
   "metadata": {
    "tags": []
   },
   "outputs": [
    {
     "data": {
      "text/plain": [
       "'\"Python is very easy.\" he says.'"
      ]
     },
     "execution_count": 39,
     "metadata": {},
     "output_type": "execute_result"
    }
   ],
   "source": [
    "# 작은따옴표로 둘러싼다.\n",
    "say = '\"Python is very easy.\" he says.'\n",
    "say"
   ]
  },
  {
   "cell_type": "markdown",
   "id": "34d819e0-0b11-41f3-a9f5-650a71eb4509",
   "metadata": {},
   "source": [
    "#### 3. 백슬래시\\를 사용해 작은따옴표와 큰따옴표를 문자열에 포함시키기\n"
   ]
  },
  {
   "cell_type": "code",
   "execution_count": 45,
   "id": "d4d42f53-74dc-4eab-a51f-e4306a20bafc",
   "metadata": {
    "tags": []
   },
   "outputs": [
    {
     "name": "stdout",
     "output_type": "stream",
     "text": [
      "Python's favorite food is perl\n",
      "\"Python is very easy.\" he says.\n"
     ]
    }
   ],
   "source": [
    "food = 'Python\\'s favorite food is perl'\n",
    "print(food)\n",
    "say = \"\\\"Python is very easy.\\\" he says.\"\n",
    "print(say)"
   ]
  },
  {
   "cell_type": "markdown",
   "id": "6d05584f-4ced-4d02-b6c2-f5edd123798f",
   "metadata": {},
   "source": [
    "### 여러 줄인 문자열을 변수에 대입"
   ]
  },
  {
   "cell_type": "markdown",
   "id": "56d520ba-4a1a-4aeb-a5c9-925452c4d753",
   "metadata": {
    "tags": []
   },
   "source": [
    "#### 1. 줄을 바꾸는 이스케이프 코드'\\n' 삽입"
   ]
  },
  {
   "cell_type": "code",
   "execution_count": 47,
   "id": "3c239404-32f1-4f61-86f9-5be244f34393",
   "metadata": {
    "tags": []
   },
   "outputs": [],
   "source": [
    "multiline = \"Life is too short\\nYou need python\""
   ]
  },
  {
   "cell_type": "markdown",
   "id": "0d082c89-ba57-4b9f-805b-47c7e2f64868",
   "metadata": {},
   "source": [
    "#### 2. 연속된 작은따옴표 3개(''') 또는 큰따옴표 3개(\"\"\") 사용"
   ]
  },
  {
   "cell_type": "code",
   "execution_count": 50,
   "id": "ca76265a-8f04-4abe-bd87-c610ab3e020a",
   "metadata": {
    "tags": []
   },
   "outputs": [
    {
     "name": "stdout",
     "output_type": "stream",
     "text": [
      "\n",
      "Life is too short\n",
      "you need python\n",
      "\n"
     ]
    }
   ],
   "source": [
    "#작은 따옴표 3개\n",
    "multiline = '''\n",
    "Life is too short\n",
    "you need python\n",
    "'''\n",
    "print(multiline)"
   ]
  },
  {
   "cell_type": "code",
   "execution_count": 51,
   "id": "bad8033d-5dfd-4cad-a0a1-18d5e50ee987",
   "metadata": {
    "tags": []
   },
   "outputs": [
    {
     "name": "stdout",
     "output_type": "stream",
     "text": [
      "\n",
      "Life is too short\n",
      "You need python\n",
      "\n"
     ]
    }
   ],
   "source": [
    "#큰따옴표 3개\n",
    "multiline = \"\"\"\n",
    "Life is too short\n",
    "You need python\n",
    "\"\"\"\n",
    "print(multiline)"
   ]
  },
  {
   "cell_type": "markdown",
   "id": "39c1055c-be4e-4a56-a2c2-a3e5e5417991",
   "metadata": {},
   "source": [
    "### 문자열 연산하기"
   ]
  },
  {
   "cell_type": "markdown",
   "id": "9ad5b7c0-71ed-46b8-8cb5-7d3b5811ed85",
   "metadata": {},
   "source": [
    "#### 1. 문자열 더해서 연결(Concatenation)"
   ]
  },
  {
   "cell_type": "code",
   "execution_count": 53,
   "id": "1d92c598-fca7-443e-ad53-3ce64b046936",
   "metadata": {
    "tags": []
   },
   "outputs": [
    {
     "data": {
      "text/plain": [
       "'Python is fun!'"
      ]
     },
     "execution_count": 53,
     "metadata": {},
     "output_type": "execute_result"
    }
   ],
   "source": [
    "head = \"Python\"\n",
    "tail = \" is fun!\"\n",
    "head + tail"
   ]
  },
  {
   "cell_type": "markdown",
   "id": "a5f61df1-e217-4a25-8b9c-4542ff7dbc56",
   "metadata": {},
   "source": [
    "#### 2. 문자열 곱하기"
   ]
  },
  {
   "cell_type": "code",
   "execution_count": 54,
   "id": "26866909-e078-4e56-93d1-fb6e1197037d",
   "metadata": {
    "tags": []
   },
   "outputs": [
    {
     "data": {
      "text/plain": [
       "'pythonpython'"
      ]
     },
     "execution_count": 54,
     "metadata": {},
     "output_type": "execute_result"
    }
   ],
   "source": [
    "a = \"python\"\n",
    "a*2"
   ]
  },
  {
   "cell_type": "markdown",
   "id": "296c55b1-abea-419a-9374-8d7ec6821e21",
   "metadata": {
    "tags": []
   },
   "source": [
    "#### 3. 문자열 길이 구하기(len)"
   ]
  },
  {
   "cell_type": "code",
   "execution_count": 56,
   "id": "7b6b47d7-bf23-4c02-a43c-b91adefa67ff",
   "metadata": {
    "tags": []
   },
   "outputs": [
    {
     "data": {
      "text/plain": [
       "17"
      ]
     },
     "execution_count": 56,
     "metadata": {},
     "output_type": "execute_result"
    }
   ],
   "source": [
    "a = \"Life is too short\"\n",
    "len(a)"
   ]
  },
  {
   "cell_type": "markdown",
   "id": "b11c0e0f-08d5-404a-b7da-0f417d7b0da9",
   "metadata": {},
   "source": [
    "- 퀴즈"
   ]
  },
  {
   "cell_type": "code",
   "execution_count": 57,
   "id": "23fadf39-4457-4b77-b3f6-2833bfa13699",
   "metadata": {
    "tags": []
   },
   "outputs": [
    {
     "data": {
      "text/plain": [
       "15"
      ]
     },
     "execution_count": 57,
     "metadata": {},
     "output_type": "execute_result"
    }
   ],
   "source": [
    "a = 'You need python'\n",
    "len(a)"
   ]
  },
  {
   "cell_type": "markdown",
   "id": "70be3df4-7225-4928-998a-ec18aa2063d3",
   "metadata": {
    "tags": []
   },
   "source": [
    "### 문자열 인덱싱(Indexing)과 슬라이싱(Slicing)"
   ]
  },
  {
   "cell_type": "code",
   "execution_count": 59,
   "id": "6190c481-43c7-4f35-8340-e848db7e3fc7",
   "metadata": {
    "tags": []
   },
   "outputs": [],
   "source": [
    "#~51"
   ]
  },
  {
   "cell_type": "markdown",
   "id": "b24c02cb-96f4-4c7a-8ba2-b86b12aa5279",
   "metadata": {},
   "source": [
    "```\n",
    "- 인덱싱(indexing) : 가리킨다\n",
    "- 슬라이싱(slicing) : 잘라낸다\n",
    "```"
   ]
  },
  {
   "cell_type": "markdown",
   "id": "d2cf81ee-03d3-45c6-969b-727a2a081ef5",
   "metadata": {},
   "source": [
    "#### 문자열 인덱싱이란?"
   ]
  },
  {
   "cell_type": "code",
   "execution_count": 1,
   "id": "f787289b-d807-4493-8e1d-7400a33fbaac",
   "metadata": {
    "tags": []
   },
   "outputs": [
    {
     "data": {
      "text/plain": [
       "'e'"
      ]
     },
     "execution_count": 1,
     "metadata": {},
     "output_type": "execute_result"
    }
   ],
   "source": [
    "a = \"Life is too short, You need Python\"\n",
    "a[3]"
   ]
  },
  {
   "cell_type": "markdown",
   "id": "6ad0653c-6089-4319-b79d-0b773744bf89",
   "metadata": {},
   "source": [
    "#### 문자열 인덱싱 활용하기"
   ]
  },
  {
   "cell_type": "code",
   "execution_count": 3,
   "id": "18a36b53-ab21-4d56-80ba-87c4bdbba404",
   "metadata": {
    "tags": []
   },
   "outputs": [
    {
     "data": {
      "text/plain": [
       "'L'"
      ]
     },
     "execution_count": 3,
     "metadata": {},
     "output_type": "execute_result"
    }
   ],
   "source": [
    "a = \"Life is too short, You need Python\"\n",
    "a[0]"
   ]
  },
  {
   "cell_type": "code",
   "execution_count": 4,
   "id": "82ab3d86-5d34-4e09-a5c9-da0059444bdc",
   "metadata": {
    "tags": []
   },
   "outputs": [
    {
     "data": {
      "text/plain": [
       "'s'"
      ]
     },
     "execution_count": 4,
     "metadata": {},
     "output_type": "execute_result"
    }
   ],
   "source": [
    "a[12]"
   ]
  },
  {
   "cell_type": "code",
   "execution_count": 5,
   "id": "7272c386-3fd9-4ca8-89cb-efe8e7e6d07b",
   "metadata": {
    "tags": []
   },
   "outputs": [
    {
     "data": {
      "text/plain": [
       "'n'"
      ]
     },
     "execution_count": 5,
     "metadata": {},
     "output_type": "execute_result"
    }
   ],
   "source": [
    "a[-1] # 맨 뒤부터 인덱싱은 -1부터 시작"
   ]
  },
  {
   "cell_type": "code",
   "execution_count": 6,
   "id": "cda10330-56e6-4368-b84a-eb1823e7a1c0",
   "metadata": {
    "tags": []
   },
   "outputs": [
    {
     "data": {
      "text/plain": [
       "'L'"
      ]
     },
     "execution_count": 6,
     "metadata": {},
     "output_type": "execute_result"
    }
   ],
   "source": [
    "# a[-0]은 a[0]과 같다!\n",
    "a[-0]"
   ]
  },
  {
   "cell_type": "code",
   "execution_count": 7,
   "id": "fecffe2a-2c90-4466-b9f7-a6c1f523bb4b",
   "metadata": {
    "tags": []
   },
   "outputs": [
    {
     "data": {
      "text/plain": [
       "'o'"
      ]
     },
     "execution_count": 7,
     "metadata": {},
     "output_type": "execute_result"
    }
   ],
   "source": [
    "a[-2]"
   ]
  },
  {
   "cell_type": "markdown",
   "id": "f78d195c-d639-497a-849f-f0cfd8c429c5",
   "metadata": {},
   "source": [
    "#### 문자열 슬라이싱이란?"
   ]
  },
  {
   "cell_type": "code",
   "execution_count": 9,
   "id": "54e2a739-24ec-42f3-9ce7-7b3ff1f7765d",
   "metadata": {
    "tags": []
   },
   "outputs": [
    {
     "data": {
      "text/plain": [
       "'Life'"
      ]
     },
     "execution_count": 9,
     "metadata": {},
     "output_type": "execute_result"
    }
   ],
   "source": [
    "a = \"Life is too short, You need Python\"\n",
    "b = a[0] + a[1] + a[2] + a[3]\n",
    "b"
   ]
  },
  {
   "cell_type": "code",
   "execution_count": 10,
   "id": "7dea7ed1-a65b-4620-bd81-bff956a85362",
   "metadata": {
    "tags": []
   },
   "outputs": [
    {
     "data": {
      "text/plain": [
       "'Life'"
      ]
     },
     "execution_count": 10,
     "metadata": {},
     "output_type": "execute_result"
    }
   ],
   "source": [
    "a = \"Life is too short, You need Python\"\n",
    "a[0:4] #끝번호 포함안함"
   ]
  },
  {
   "cell_type": "code",
   "execution_count": 11,
   "id": "b7e37112-2b6a-48ee-84ce-b54eccacbc04",
   "metadata": {
    "tags": []
   },
   "outputs": [
    {
     "data": {
      "text/plain": [
       "'You need Python'"
      ]
     },
     "execution_count": 11,
     "metadata": {},
     "output_type": "execute_result"
    }
   ],
   "source": [
    "a[19:]"
   ]
  },
  {
   "cell_type": "code",
   "execution_count": 12,
   "id": "983bf3ea-ca74-45b6-9e08-929668560b13",
   "metadata": {
    "tags": []
   },
   "outputs": [
    {
     "data": {
      "text/plain": [
       "'Life is too short'"
      ]
     },
     "execution_count": 12,
     "metadata": {},
     "output_type": "execute_result"
    }
   ],
   "source": [
    "a[:17]"
   ]
  },
  {
   "cell_type": "code",
   "execution_count": 13,
   "id": "1e7841df-23c7-479c-ab5c-5fdee194f1dc",
   "metadata": {
    "tags": []
   },
   "outputs": [
    {
     "data": {
      "text/plain": [
       "'Life is too short, You need Python'"
      ]
     },
     "execution_count": 13,
     "metadata": {},
     "output_type": "execute_result"
    }
   ],
   "source": [
    "a[:]"
   ]
  },
  {
   "cell_type": "code",
   "execution_count": 14,
   "id": "3897ad59-43da-44c9-9286-069e5c1a653f",
   "metadata": {
    "tags": []
   },
   "outputs": [
    {
     "data": {
      "text/plain": [
       "'You need'"
      ]
     },
     "execution_count": 14,
     "metadata": {},
     "output_type": "execute_result"
    }
   ],
   "source": [
    "a[19:-7] #-8까지 출력"
   ]
  },
  {
   "cell_type": "markdown",
   "id": "fc722b03-2ab8-4583-a462-fc474e5fec16",
   "metadata": {},
   "source": [
    "#### 슬라이싱으로 문자열 나누기"
   ]
  },
  {
   "cell_type": "code",
   "execution_count": 15,
   "id": "fc1440d5-16f8-42df-9591-8798541bb990",
   "metadata": {
    "tags": []
   },
   "outputs": [],
   "source": [
    "a = \"20010331Rainy\""
   ]
  },
  {
   "cell_type": "code",
   "execution_count": 16,
   "id": "21e4dfe0-e56e-4b8d-b152-b7e8390a406e",
   "metadata": {
    "tags": []
   },
   "outputs": [],
   "source": [
    "date=a[:8]"
   ]
  },
  {
   "cell_type": "code",
   "execution_count": 18,
   "id": "06a43250-604b-4e84-98ab-b0707af57170",
   "metadata": {
    "tags": []
   },
   "outputs": [],
   "source": [
    "weather=a[8:]"
   ]
  },
  {
   "cell_type": "code",
   "execution_count": 19,
   "id": "2f43cfea-811c-4b07-8a71-3a4ce735c122",
   "metadata": {
    "tags": []
   },
   "outputs": [
    {
     "data": {
      "text/plain": [
       "'20010331'"
      ]
     },
     "execution_count": 19,
     "metadata": {},
     "output_type": "execute_result"
    }
   ],
   "source": [
    "date"
   ]
  },
  {
   "cell_type": "code",
   "execution_count": 20,
   "id": "752a3cef-42fc-47bf-aba5-c46e88c8d068",
   "metadata": {
    "tags": []
   },
   "outputs": [
    {
     "data": {
      "text/plain": [
       "'Rainy'"
      ]
     },
     "execution_count": 20,
     "metadata": {},
     "output_type": "execute_result"
    }
   ],
   "source": [
    "weather"
   ]
  },
  {
   "cell_type": "markdown",
   "id": "99ae9ec7-4666-4d9e-9e6c-6b20b0dab067",
   "metadata": {},
   "source": [
    "- Pithon이라는 문자열을 Python으로 바꾸려면?"
   ]
  },
  {
   "cell_type": "code",
   "execution_count": 21,
   "id": "8696075f-cb4e-402e-9050-bb7262ffadc4",
   "metadata": {
    "tags": []
   },
   "outputs": [],
   "source": [
    "a = \"Pithon\""
   ]
  },
  {
   "cell_type": "code",
   "execution_count": 22,
   "id": "14f30d95-d3a4-4cbd-8c10-f1a5c585b31b",
   "metadata": {
    "tags": []
   },
   "outputs": [
    {
     "data": {
      "text/plain": [
       "'i'"
      ]
     },
     "execution_count": 22,
     "metadata": {},
     "output_type": "execute_result"
    }
   ],
   "source": [
    "a[1]"
   ]
  },
  {
   "cell_type": "code",
   "execution_count": 23,
   "id": "8a0dd0fa-eb8b-4445-84ac-49126c133b30",
   "metadata": {
    "tags": []
   },
   "outputs": [
    {
     "ename": "TypeError",
     "evalue": "'str' object does not support item assignment",
     "output_type": "error",
     "traceback": [
      "\u001b[1;31m---------------------------------------------------------------------------\u001b[0m",
      "\u001b[1;31mTypeError\u001b[0m                                 Traceback (most recent call last)",
      "Cell \u001b[1;32mIn[23], line 1\u001b[0m\n\u001b[1;32m----> 1\u001b[0m \u001b[43ma\u001b[49m\u001b[43m[\u001b[49m\u001b[38;5;241;43m1\u001b[39;49m\u001b[43m]\u001b[49m \u001b[38;5;241m=\u001b[39m \u001b[38;5;124m'\u001b[39m\u001b[38;5;124my\u001b[39m\u001b[38;5;124m'\u001b[39m\n",
      "\u001b[1;31mTypeError\u001b[0m: 'str' object does not support item assignment"
     ]
    }
   ],
   "source": [
    "a[1] = 'y'\n",
    "#오류 발생 \n",
    "#문자열의 요솟값은 바꿀 수 있는 값이 아니다.\n",
    "#문자열 자료형은 immutable한 자료형"
   ]
  },
  {
   "cell_type": "code",
   "execution_count": 24,
   "id": "d917c381-a74a-4bc6-bab0-55e96721e83d",
   "metadata": {
    "tags": []
   },
   "outputs": [],
   "source": [
    "a = \"Pithon\""
   ]
  },
  {
   "cell_type": "code",
   "execution_count": 25,
   "id": "c6a659fe-3d5d-4d22-8d7d-43482e42d06a",
   "metadata": {
    "tags": []
   },
   "outputs": [
    {
     "data": {
      "text/plain": [
       "'P'"
      ]
     },
     "execution_count": 25,
     "metadata": {},
     "output_type": "execute_result"
    }
   ],
   "source": [
    "a[:1]"
   ]
  },
  {
   "cell_type": "code",
   "execution_count": 27,
   "id": "64428c25-f009-4869-8b0d-ec01f88431f2",
   "metadata": {
    "tags": []
   },
   "outputs": [
    {
     "data": {
      "text/plain": [
       "'thon'"
      ]
     },
     "execution_count": 27,
     "metadata": {},
     "output_type": "execute_result"
    }
   ],
   "source": [
    "a[2:]"
   ]
  },
  {
   "cell_type": "code",
   "execution_count": 28,
   "id": "e52fa410-539b-4fee-9207-4fc7a98fc796",
   "metadata": {
    "tags": []
   },
   "outputs": [
    {
     "data": {
      "text/plain": [
       "'Python'"
      ]
     },
     "execution_count": 28,
     "metadata": {},
     "output_type": "execute_result"
    }
   ],
   "source": [
    "a[:1] + 'y' + a[2:]"
   ]
  },
  {
   "cell_type": "markdown",
   "id": "6fb632ab-cad5-429a-a9e0-df044d5ad13e",
   "metadata": {},
   "source": [
    "### 문자열 포매팅"
   ]
  },
  {
   "cell_type": "markdown",
   "id": "96dabef7-fa7c-4c0b-8f39-f0a721d1e2c0",
   "metadata": {},
   "source": [
    "#### 문자열 포매팅 따라하기"
   ]
  },
  {
   "cell_type": "markdown",
   "id": "f0a1f10a-f261-4861-a3e3-46209519c440",
   "metadata": {
    "tags": []
   },
   "source": [
    "```1. 숫자 바로 대입```"
   ]
  },
  {
   "cell_type": "code",
   "execution_count": 30,
   "id": "35f9b00c-e78b-40db-ab2b-3fa5cdd80b18",
   "metadata": {
    "tags": []
   },
   "outputs": [
    {
     "data": {
      "text/plain": [
       "'I eat 3 apples.'"
      ]
     },
     "execution_count": 30,
     "metadata": {},
     "output_type": "execute_result"
    }
   ],
   "source": [
    "\"I eat %d apples.\" % 3 "
   ]
  },
  {
   "cell_type": "markdown",
   "id": "8ed4b747-f058-4838-b41b-46fb7b8ff3a1",
   "metadata": {},
   "source": [
    "```2.문자열 바로 대입```"
   ]
  },
  {
   "cell_type": "code",
   "execution_count": 31,
   "id": "2eec01ba-4033-473d-964e-6282905b0ed3",
   "metadata": {
    "tags": []
   },
   "outputs": [
    {
     "data": {
      "text/plain": [
       "'I eat five apples.'"
      ]
     },
     "execution_count": 31,
     "metadata": {},
     "output_type": "execute_result"
    }
   ],
   "source": [
    "\"I eat %s apples.\" % \"five\"\n",
    "#숫자는 %d, 문자열은 %s"
   ]
  },
  {
   "cell_type": "markdown",
   "id": "5b75ce67-a95b-403a-9e24-5cc0d12941b2",
   "metadata": {},
   "source": [
    "```3. 숫자 값을 나타내는 변수로 대입```"
   ]
  },
  {
   "cell_type": "code",
   "execution_count": 32,
   "id": "af5beea0-b088-44cd-8939-cd85a62925ad",
   "metadata": {
    "tags": []
   },
   "outputs": [],
   "source": [
    "number = 3"
   ]
  },
  {
   "cell_type": "code",
   "execution_count": 33,
   "id": "f514dde1-9a01-41cc-81b8-df006bb234f1",
   "metadata": {
    "tags": []
   },
   "outputs": [
    {
     "data": {
      "text/plain": [
       "'I eat 3 apples.'"
      ]
     },
     "execution_count": 33,
     "metadata": {},
     "output_type": "execute_result"
    }
   ],
   "source": [
    "\"I eat %d apples.\" % number"
   ]
  },
  {
   "cell_type": "markdown",
   "id": "a13910ba-831b-411a-ab04-b46409e35c7f",
   "metadata": {},
   "source": [
    "```4. 2개 이상의 값 넣기```"
   ]
  },
  {
   "cell_type": "code",
   "execution_count": 34,
   "id": "99563039-6b61-453a-95a2-bf0c88282485",
   "metadata": {
    "tags": []
   },
   "outputs": [],
   "source": [
    "number = 10"
   ]
  },
  {
   "cell_type": "code",
   "execution_count": 35,
   "id": "ad325886-8df1-4767-a820-475c6ee552eb",
   "metadata": {
    "tags": []
   },
   "outputs": [],
   "source": [
    "day = \"three\""
   ]
  },
  {
   "cell_type": "code",
   "execution_count": 36,
   "id": "d040e948-805f-449c-bb01-41ebb0c9c0a6",
   "metadata": {
    "tags": []
   },
   "outputs": [
    {
     "data": {
      "text/plain": [
       "'I ate 10 apples. so I was sick for three days.'"
      ]
     },
     "execution_count": 36,
     "metadata": {},
     "output_type": "execute_result"
    }
   ],
   "source": [
    "\"I ate %d apples. so I was sick for %s days.\" %(number, day)"
   ]
  },
  {
   "cell_type": "markdown",
   "id": "7fa1865d-eacd-4883-9da3-2b63a94ccfe4",
   "metadata": {},
   "source": [
    "- 문자열 포맷 코드"
   ]
  },
  {
   "cell_type": "code",
   "execution_count": 37,
   "id": "d73964a7-0fdc-425e-b6c4-8f7d1e3b1ad3",
   "metadata": {
    "tags": []
   },
   "outputs": [
    {
     "data": {
      "text/plain": [
       "'I have 3 apples'"
      ]
     },
     "execution_count": 37,
     "metadata": {},
     "output_type": "execute_result"
    }
   ],
   "source": [
    "\"I have %s apples\" % 3"
   ]
  },
  {
   "cell_type": "code",
   "execution_count": 38,
   "id": "08ba08e8-11a4-46df-9f05-dc2647421443",
   "metadata": {
    "tags": []
   },
   "outputs": [
    {
     "data": {
      "text/plain": [
       "'rate is 3.324'"
      ]
     },
     "execution_count": 38,
     "metadata": {},
     "output_type": "execute_result"
    }
   ],
   "source": [
    "\"rate is %s\" % 3.324\n",
    "#%s는 자동으로 % 뒤에 있는 값을 문자열로 바꾼다."
   ]
  },
  {
   "cell_type": "markdown",
   "id": "cd86a220-e8f2-4711-a392-9785421731f4",
   "metadata": {},
   "source": [
    "- 포매팅 연산자 %d와 %를 같이 쓸 때는 %%를 쓴다."
   ]
  },
  {
   "cell_type": "code",
   "execution_count": 39,
   "id": "5bcfed3d-4785-45ba-86e1-823a7d60536d",
   "metadata": {
    "tags": []
   },
   "outputs": [
    {
     "ename": "ValueError",
     "evalue": "incomplete format",
     "output_type": "error",
     "traceback": [
      "\u001b[1;31m---------------------------------------------------------------------------\u001b[0m",
      "\u001b[1;31mValueError\u001b[0m                                Traceback (most recent call last)",
      "Cell \u001b[1;32mIn[39], line 1\u001b[0m\n\u001b[1;32m----> 1\u001b[0m \u001b[38;5;124;43m\"\u001b[39;49m\u001b[38;5;124;43mError is \u001b[39;49m\u001b[38;5;132;43;01m%d\u001b[39;49;00m\u001b[38;5;124;43m%\u001b[39;49m\u001b[38;5;124;43m\"\u001b[39;49m\u001b[43m \u001b[49m\u001b[38;5;241;43m%\u001b[39;49m\u001b[43m \u001b[49m\u001b[38;5;241;43m98\u001b[39;49m\n",
      "\u001b[1;31mValueError\u001b[0m: incomplete format"
     ]
    }
   ],
   "source": [
    "\"Error is %d%\" % 98"
   ]
  },
  {
   "cell_type": "code",
   "execution_count": 40,
   "id": "ba6cf839-703a-44ea-bc3b-e13e00b8744c",
   "metadata": {
    "tags": []
   },
   "outputs": [
    {
     "data": {
      "text/plain": [
       "'Error is 98%'"
      ]
     },
     "execution_count": 40,
     "metadata": {},
     "output_type": "execute_result"
    }
   ],
   "source": [
    "#%d와 %가 같은 문자열 안에 존재하는 경우, %를 나타내려면 반드시 %%로 써야 한다.\n",
    "\"Error is %d%%\" % 98"
   ]
  },
  {
   "cell_type": "markdown",
   "id": "9e35a9df-2037-4ddb-84c3-3ccffee7b5f1",
   "metadata": {},
   "source": [
    "#### 포맷 코드와 숫자 함께 사용하기"
   ]
  },
  {
   "cell_type": "markdown",
   "id": "27e2c021-0cbb-46b7-949e-6067575fa540",
   "metadata": {},
   "source": [
    "```1. 정렬과 공백```"
   ]
  },
  {
   "cell_type": "code",
   "execution_count": 42,
   "id": "75f380c0-43e1-48d5-9ee0-cac2e8f2680d",
   "metadata": {
    "tags": []
   },
   "outputs": [
    {
     "data": {
      "text/plain": [
       "'        hi'"
      ]
     },
     "execution_count": 42,
     "metadata": {},
     "output_type": "execute_result"
    }
   ],
   "source": [
    "\"%10s\" % \"hi\" \n",
    "# %10s는 전체 길이가 10개인 문자열 공간에서 대입되는 값을 오른쪽을 정렬하고 그 앞의 나머지는 공백으로 남겨두라는 의미.\n",
    "#전체 길이 10개 = 왼쪽 공백 8개 + \"hi\" 문자열 길이 2개"
   ]
  },
  {
   "cell_type": "code",
   "execution_count": 47,
   "id": "886975e6-8146-442e-aba7-c09e2ca042ad",
   "metadata": {
    "tags": []
   },
   "outputs": [
    {
     "data": {
      "text/plain": [
       "'hi        jane'"
      ]
     },
     "execution_count": 47,
     "metadata": {},
     "output_type": "execute_result"
    }
   ],
   "source": [
    "\"%-10sjane\" % 'hi' \n",
    "#hi가 왼쪽 정렬됨"
   ]
  },
  {
   "cell_type": "markdown",
   "id": "c1018016-76a5-4fc8-bf81-bdbafe1fb8ef",
   "metadata": {},
   "source": [
    "```2. 소수점 표현하기```"
   ]
  },
  {
   "cell_type": "code",
   "execution_count": 48,
   "id": "8147f0b2-d475-4f99-87ec-fb89ec5354d1",
   "metadata": {
    "tags": []
   },
   "outputs": [
    {
     "data": {
      "text/plain": [
       "'3.4213'"
      ]
     },
     "execution_count": 48,
     "metadata": {},
     "output_type": "execute_result"
    }
   ],
   "source": [
    "\"%0.4f\" % 3.42134234\n",
    "#'.'의 의미는 소수점 포인트이고 그 뒤의 숫자 4는 소수점 뒤에 나올 숫자의 개수"
   ]
  },
  {
   "cell_type": "code",
   "execution_count": 50,
   "id": "3423490c-6a49-4b7e-9a2b-53d7f90a39ce",
   "metadata": {
    "tags": []
   },
   "outputs": [
    {
     "data": {
      "text/plain": [
       "'    3.4213'"
      ]
     },
     "execution_count": 50,
     "metadata": {},
     "output_type": "execute_result"
    }
   ],
   "source": [
    "\"%10.4f\" % 3.42134234\n",
    "# 소수점 네 번째 자리까지만 표시하고 전체 길이가 10인 문자열 공간에서 오른쪽 정렬"
   ]
  },
  {
   "cell_type": "markdown",
   "id": "5e884df6-bdcf-4efa-abce-e5c84b6b3afc",
   "metadata": {},
   "source": [
    "#### format 함수를 사용한 포매팅"
   ]
  },
  {
   "cell_type": "markdown",
   "id": "ac03604b-023e-45ee-8381-42efda6c2947",
   "metadata": {},
   "source": [
    "```숫자 바로 대입하기```"
   ]
  },
  {
   "cell_type": "code",
   "execution_count": 51,
   "id": "1cae27a3-35ea-4a05-8279-9076e9cbf5ec",
   "metadata": {
    "tags": []
   },
   "outputs": [
    {
     "data": {
      "text/plain": [
       "'I eat 3 apples'"
      ]
     },
     "execution_count": 51,
     "metadata": {},
     "output_type": "execute_result"
    }
   ],
   "source": [
    "\"I eat {0} apples\".format(3)"
   ]
  },
  {
   "cell_type": "markdown",
   "id": "d688f571-fc87-42d3-8cf1-5a6e33fc0c75",
   "metadata": {},
   "source": [
    "```문자열 바로 대입하기```"
   ]
  },
  {
   "cell_type": "code",
   "execution_count": 52,
   "id": "98977913-40a8-4f81-ad67-cdc26f95daff",
   "metadata": {
    "tags": []
   },
   "outputs": [
    {
     "data": {
      "text/plain": [
       "'I eat five apples'"
      ]
     },
     "execution_count": 52,
     "metadata": {},
     "output_type": "execute_result"
    }
   ],
   "source": [
    "\"I eat {0} apples\".format(\"five\")"
   ]
  },
  {
   "cell_type": "markdown",
   "id": "e007df42-8b03-4428-9127-770d0ab428db",
   "metadata": {},
   "source": [
    "```숫자 값을 가진 변수로 대입하기```"
   ]
  },
  {
   "cell_type": "code",
   "execution_count": 53,
   "id": "01eb6a28-fdf6-4188-b618-007eb888c408",
   "metadata": {
    "tags": []
   },
   "outputs": [],
   "source": [
    "number = 3"
   ]
  },
  {
   "cell_type": "code",
   "execution_count": 54,
   "id": "6885e930-4998-4f48-85de-a30a161c627b",
   "metadata": {
    "tags": []
   },
   "outputs": [
    {
     "data": {
      "text/plain": [
       "'I eat 3 apples'"
      ]
     },
     "execution_count": 54,
     "metadata": {},
     "output_type": "execute_result"
    }
   ],
   "source": [
    "\"I eat {0} apples\".format(number)"
   ]
  },
  {
   "cell_type": "markdown",
   "id": "f8dd858f-37f1-4845-955e-6dce543b9aa7",
   "metadata": {},
   "source": [
    "```2개 이상의 값 넣기```"
   ]
  },
  {
   "cell_type": "code",
   "execution_count": 55,
   "id": "f8d33ad8-53a2-421a-9e72-bac0a3e609e8",
   "metadata": {
    "tags": []
   },
   "outputs": [],
   "source": [
    "number = 10"
   ]
  },
  {
   "cell_type": "code",
   "execution_count": 56,
   "id": "b19a37b3-8bfa-4467-8678-99545919ae1b",
   "metadata": {
    "tags": []
   },
   "outputs": [],
   "source": [
    "day = \"three\""
   ]
  },
  {
   "cell_type": "code",
   "execution_count": 57,
   "id": "c2b9742d-84d3-402b-b3ad-d01077e346b2",
   "metadata": {
    "tags": []
   },
   "outputs": [
    {
     "data": {
      "text/plain": [
       "'I ate 10 apples. so I was sick for three days'"
      ]
     },
     "execution_count": 57,
     "metadata": {},
     "output_type": "execute_result"
    }
   ],
   "source": [
    "\"I ate {0} apples. so I was sick for {1} days\".format(number, day)"
   ]
  },
  {
   "cell_type": "markdown",
   "id": "1d411adf-23eb-4596-9f2b-dc27444cda7e",
   "metadata": {},
   "source": [
    "```이름으로 넣기```"
   ]
  },
  {
   "cell_type": "code",
   "execution_count": 58,
   "id": "7f9b96a3-62f4-4ab3-a6a9-2647586bd663",
   "metadata": {
    "tags": []
   },
   "outputs": [
    {
     "data": {
      "text/plain": [
       "'I ate 10 apples. so I was sick for 3 days.'"
      ]
     },
     "execution_count": 58,
     "metadata": {},
     "output_type": "execute_result"
    }
   ],
   "source": [
    "\"I ate {number} apples. so I was sick for {day} days.\".format(number=10, day=3) "
   ]
  },
  {
   "cell_type": "markdown",
   "id": "f1665212-2c2d-466f-9745-69dcd186dad3",
   "metadata": {},
   "source": [
    "```인덱스와 이름을 혼용해서 넣기```"
   ]
  },
  {
   "cell_type": "code",
   "execution_count": 59,
   "id": "aadc956f-adfd-4537-82b6-a9d6e22764f8",
   "metadata": {
    "tags": []
   },
   "outputs": [
    {
     "data": {
      "text/plain": [
       "'I ate 10 apples. so I was sick for 3 days.'"
      ]
     },
     "execution_count": 59,
     "metadata": {},
     "output_type": "execute_result"
    }
   ],
   "source": [
    "\"I ate {0} apples. so I was sick for {day} days.\".format(10, day=3)"
   ]
  },
  {
   "cell_type": "markdown",
   "id": "c22a142f-800a-454d-837b-8ca4b7e0139e",
   "metadata": {},
   "source": [
    "```소수점 표현하기```"
   ]
  },
  {
   "cell_type": "code",
   "execution_count": 1,
   "id": "e9835150-0e51-4f60-8845-4dfb2be85989",
   "metadata": {
    "tags": []
   },
   "outputs": [],
   "source": [
    "y = 3.42134234"
   ]
  },
  {
   "cell_type": "code",
   "execution_count": 3,
   "id": "6aafe0b5-5e7e-4963-a64b-e9f91126afb9",
   "metadata": {
    "tags": []
   },
   "outputs": [
    {
     "data": {
      "text/plain": [
       "'3.4213'"
      ]
     },
     "execution_count": 3,
     "metadata": {},
     "output_type": "execute_result"
    }
   ],
   "source": [
    "\"{0:0.4f}\".format(y)"
   ]
  },
  {
   "cell_type": "code",
   "execution_count": 4,
   "id": "58b7c441-148b-479e-ad20-087fa63a7eb1",
   "metadata": {
    "tags": []
   },
   "outputs": [
    {
     "data": {
      "text/plain": [
       "'    3.4213'"
      ]
     },
     "execution_count": 4,
     "metadata": {},
     "output_type": "execute_result"
    }
   ],
   "source": [
    "\"{0:10.4f}\".format(y)"
   ]
  },
  {
   "cell_type": "markdown",
   "id": "f10944cc-4275-4b73-9c1b-ae8a7e5492bd",
   "metadata": {
    "tags": []
   },
   "source": [
    "```{또는} 문자 표현하기```"
   ]
  },
  {
   "cell_type": "code",
   "execution_count": 6,
   "id": "b243df84-ddbb-4736-87ab-9d92d3902801",
   "metadata": {
    "tags": []
   },
   "outputs": [
    {
     "data": {
      "text/plain": [
       "'{ and }'"
      ]
     },
     "execution_count": 6,
     "metadata": {},
     "output_type": "execute_result"
    }
   ],
   "source": [
    "\"{{ and }}\".format()"
   ]
  },
  {
   "cell_type": "code",
   "execution_count": 7,
   "id": "20558de0-8a69-45be-80b5-d5822a398b37",
   "metadata": {
    "tags": []
   },
   "outputs": [
    {
     "data": {
      "text/plain": [
       "'{ and }'"
      ]
     },
     "execution_count": 7,
     "metadata": {},
     "output_type": "execute_result"
    }
   ],
   "source": [
    "\"{{ and }}\".format()"
   ]
  },
  {
   "cell_type": "markdown",
   "id": "38122f46-39f9-400e-a814-04cbea49edfd",
   "metadata": {},
   "source": [
    "#### f 문자열 포매팅"
   ]
  },
  {
   "cell_type": "code",
   "execution_count": 8,
   "id": "3a02af72-92ce-4b19-8512-2c9c8a7d5e64",
   "metadata": {
    "tags": []
   },
   "outputs": [],
   "source": [
    "name = '홍길동'"
   ]
  },
  {
   "cell_type": "code",
   "execution_count": 9,
   "id": "0f59d0a5-fcb7-4ea2-a19d-f2569fe6a660",
   "metadata": {
    "tags": []
   },
   "outputs": [],
   "source": [
    "age = 30"
   ]
  },
  {
   "cell_type": "code",
   "execution_count": 11,
   "id": "14d0c583-7891-4a29-8e6f-e4a4b28755e1",
   "metadata": {
    "tags": []
   },
   "outputs": [
    {
     "data": {
      "text/plain": [
       "'나의 이름은 홍길동입니다. 나이는 30입니다.'"
      ]
     },
     "execution_count": 11,
     "metadata": {},
     "output_type": "execute_result"
    }
   ],
   "source": [
    "f'나의 이름은 {name}입니다. 나이는 {age}입니다.'"
   ]
  },
  {
   "cell_type": "code",
   "execution_count": 12,
   "id": "0b1a7d5d-ee56-4fe6-93a8-ce97d55fbf60",
   "metadata": {
    "tags": []
   },
   "outputs": [],
   "source": [
    "age = 30"
   ]
  },
  {
   "cell_type": "code",
   "execution_count": 14,
   "id": "7a787367-a963-48a3-a731-d54825ebf371",
   "metadata": {
    "tags": []
   },
   "outputs": [
    {
     "data": {
      "text/plain": [
       "'나는 내년이면 31살이 된다.'"
      ]
     },
     "execution_count": 14,
     "metadata": {},
     "output_type": "execute_result"
    }
   ],
   "source": [
    "f'나는 내년이면 {age+1}살이 된다.'"
   ]
  },
  {
   "cell_type": "code",
   "execution_count": 15,
   "id": "4703b35c-3502-4e17-b9cf-a545e958c146",
   "metadata": {
    "tags": []
   },
   "outputs": [],
   "source": [
    "d = {'name':'홍길동', 'age':30}"
   ]
  },
  {
   "cell_type": "code",
   "execution_count": 16,
   "id": "7753e6bf-d649-4059-b94b-a56b7bdf8723",
   "metadata": {
    "tags": []
   },
   "outputs": [
    {
     "data": {
      "text/plain": [
       "'나의 이름은 홍길동입니다. 나이는 30입니다.'"
      ]
     },
     "execution_count": 16,
     "metadata": {},
     "output_type": "execute_result"
    }
   ],
   "source": [
    "f'나의 이름은 {d[\"name\"]}입니다. 나이는 {d[\"age\"]}입니다.'"
   ]
  },
  {
   "cell_type": "code",
   "execution_count": 24,
   "id": "36de6986-52a9-49fd-b4c9-1147beae7e08",
   "metadata": {
    "tags": []
   },
   "outputs": [],
   "source": [
    "y = 3.42134234"
   ]
  },
  {
   "cell_type": "code",
   "execution_count": 25,
   "id": "3a3cdefe-561e-47a6-9e68-33cfbd950816",
   "metadata": {
    "tags": []
   },
   "outputs": [
    {
     "data": {
      "text/plain": [
       "'3.4213'"
      ]
     },
     "execution_count": 25,
     "metadata": {},
     "output_type": "execute_result"
    }
   ],
   "source": [
    "f'{y:0.4f}' #소수점 4자리까지만 표현"
   ]
  },
  {
   "cell_type": "code",
   "execution_count": 26,
   "id": "51a8d87b-85e6-4599-a1a1-bd97891b1d2c",
   "metadata": {
    "tags": []
   },
   "outputs": [
    {
     "data": {
      "text/plain": [
       "'    3.4213'"
      ]
     },
     "execution_count": 26,
     "metadata": {},
     "output_type": "execute_result"
    }
   ],
   "source": [
    "f'{y:10.4f}' #소수점 4자리까지 표현하고 총 자릿수를 10으로 맞춤"
   ]
  },
  {
   "cell_type": "code",
   "execution_count": 27,
   "id": "d5c63a4e-6e1c-4634-a1e1-fd5b907d8343",
   "metadata": {
    "tags": []
   },
   "outputs": [
    {
     "data": {
      "text/plain": [
       "'{ and }'"
      ]
     },
     "execution_count": 27,
     "metadata": {},
     "output_type": "execute_result"
    }
   ],
   "source": [
    "f'{{ and }}'"
   ]
  },
  {
   "cell_type": "markdown",
   "id": "4119c062-0199-43e7-994d-451af05bf9a8",
   "metadata": {
    "tags": []
   },
   "source": [
    "### 문자열 관련 함수"
   ]
  },
  {
   "cell_type": "markdown",
   "id": "da08b1a8-23ed-4d47-b76e-8f825bfe201b",
   "metadata": {
    "tags": []
   },
   "source": [
    "#### 문자 개수 세기(count)"
   ]
  },
  {
   "cell_type": "code",
   "execution_count": 3,
   "id": "0031cfc9-e2ed-4a6d-8af7-314f414c74ae",
   "metadata": {
    "tags": []
   },
   "outputs": [],
   "source": [
    "a = \"hobby\""
   ]
  },
  {
   "cell_type": "code",
   "execution_count": 4,
   "id": "f1a861a0-348b-41b6-9abb-c3daff9dd2c3",
   "metadata": {
    "tags": []
   },
   "outputs": [
    {
     "data": {
      "text/plain": [
       "2"
      ]
     },
     "execution_count": 4,
     "metadata": {},
     "output_type": "execute_result"
    }
   ],
   "source": [
    "a.count('b')"
   ]
  },
  {
   "cell_type": "markdown",
   "id": "ab286c16-e6e3-4ae4-834c-995265182154",
   "metadata": {
    "tags": []
   },
   "source": [
    "#### 위치 알려주기1(find)"
   ]
  },
  {
   "cell_type": "code",
   "execution_count": 7,
   "id": "383fa219-b508-4d91-87ad-3003f6a36669",
   "metadata": {
    "tags": []
   },
   "outputs": [
    {
     "data": {
      "text/plain": [
       "14"
      ]
     },
     "execution_count": 7,
     "metadata": {},
     "output_type": "execute_result"
    }
   ],
   "source": [
    "a = \"Python is the best choice\"\n",
    "a.find('b') # 문자열에서 b가 처음 나온 위치"
   ]
  },
  {
   "cell_type": "code",
   "execution_count": 9,
   "id": "40f9a58c-6f02-4a68-b8c1-b597933f901b",
   "metadata": {
    "tags": []
   },
   "outputs": [
    {
     "data": {
      "text/plain": [
       "-1"
      ]
     },
     "execution_count": 9,
     "metadata": {},
     "output_type": "execute_result"
    }
   ],
   "source": [
    "a.find('k') #찾는 문자나 문자열이 존재하지 않는다면 -1 반환"
   ]
  },
  {
   "cell_type": "markdown",
   "id": "29f35358-a893-4208-bf04-89749ee53971",
   "metadata": {
    "tags": []
   },
   "source": [
    "#### 위치 알려주기2(index)"
   ]
  },
  {
   "cell_type": "code",
   "execution_count": 11,
   "id": "7b5fc0e8-8c56-4693-8c6b-434b7a41a5f8",
   "metadata": {
    "tags": []
   },
   "outputs": [],
   "source": [
    "a = \"Life is too short\""
   ]
  },
  {
   "cell_type": "code",
   "execution_count": 15,
   "id": "4ccd7523-55cf-4c59-8880-7f76e3b6bae0",
   "metadata": {
    "tags": []
   },
   "outputs": [
    {
     "data": {
      "text/plain": [
       "8"
      ]
     },
     "execution_count": 15,
     "metadata": {},
     "output_type": "execute_result"
    }
   ],
   "source": [
    "a.index('t') #문자열 중 t가 맨 처음으로 나온 위치 반환"
   ]
  },
  {
   "cell_type": "code",
   "execution_count": 16,
   "id": "20f4885d-f74f-4dd9-a2b0-23a40cdfb6eb",
   "metadata": {
    "tags": []
   },
   "outputs": [
    {
     "ename": "ValueError",
     "evalue": "substring not found",
     "output_type": "error",
     "traceback": [
      "\u001b[1;31m---------------------------------------------------------------------------\u001b[0m",
      "\u001b[1;31mValueError\u001b[0m                                Traceback (most recent call last)",
      "Cell \u001b[1;32mIn[16], line 1\u001b[0m\n\u001b[1;32m----> 1\u001b[0m \u001b[43ma\u001b[49m\u001b[38;5;241;43m.\u001b[39;49m\u001b[43mindex\u001b[49m\u001b[43m(\u001b[49m\u001b[38;5;124;43m'\u001b[39;49m\u001b[38;5;124;43mk\u001b[39;49m\u001b[38;5;124;43m'\u001b[39;49m\u001b[43m)\u001b[49m \u001b[38;5;66;03m#find 함수와 다른 점 : 문자열 안에 존재하지 않는 문자를 찾으면 오류 반환\u001b[39;00m\n",
      "\u001b[1;31mValueError\u001b[0m: substring not found"
     ]
    }
   ],
   "source": [
    "a.index('k') #find 함수와 다른 점 : 문자열 안에 존재하지 않는 문자를 찾으면 오류 반환"
   ]
  },
  {
   "cell_type": "markdown",
   "id": "dacda99d-fbf4-4ae3-92e2-51154151b305",
   "metadata": {},
   "source": [
    "#### 문자열 삽입(join)"
   ]
  },
  {
   "cell_type": "code",
   "execution_count": 17,
   "id": "468429ac-ffc2-4326-92f0-e88593d894d0",
   "metadata": {
    "tags": []
   },
   "outputs": [
    {
     "data": {
      "text/plain": [
       "'a,b,c,d'"
      ]
     },
     "execution_count": 17,
     "metadata": {},
     "output_type": "execute_result"
    }
   ],
   "source": [
    "\",\".join('abcd')"
   ]
  },
  {
   "cell_type": "code",
   "execution_count": 19,
   "id": "58c80614-184d-4209-bad7-27fb0a4defe9",
   "metadata": {
    "tags": []
   },
   "outputs": [
    {
     "data": {
      "text/plain": [
       "'a,b,c,d'"
      ]
     },
     "execution_count": 19,
     "metadata": {},
     "output_type": "execute_result"
    }
   ],
   "source": [
    "\",\".join(['a','b','c','d'])"
   ]
  },
  {
   "cell_type": "markdown",
   "id": "ff273558-47d0-4ece-ae72-7f566b928205",
   "metadata": {
    "tags": []
   },
   "source": [
    "#### 소문자를 대문자로 바꾸기(upper)"
   ]
  },
  {
   "cell_type": "code",
   "execution_count": 26,
   "id": "abe26801-4143-40b5-95de-365c23345c88",
   "metadata": {
    "tags": []
   },
   "outputs": [],
   "source": [
    "a = \"hi\""
   ]
  },
  {
   "cell_type": "code",
   "execution_count": 29,
   "id": "7abe0d8f-c790-444d-9478-2e1aee95f741",
   "metadata": {
    "tags": []
   },
   "outputs": [
    {
     "data": {
      "text/plain": [
       "'HI'"
      ]
     },
     "execution_count": 29,
     "metadata": {},
     "output_type": "execute_result"
    }
   ],
   "source": [
    "a.upper()"
   ]
  },
  {
   "cell_type": "markdown",
   "id": "3c7af2f9-31bb-4e9c-b196-707f7b07ccc9",
   "metadata": {
    "tags": []
   },
   "source": [
    "#### 대문자를 소문자로 바꾸기(lower)"
   ]
  },
  {
   "cell_type": "code",
   "execution_count": 27,
   "id": "d82397fd-790b-42e4-80d0-2c4fac3a5154",
   "metadata": {
    "tags": []
   },
   "outputs": [],
   "source": [
    "a = \"HI\""
   ]
  },
  {
   "cell_type": "code",
   "execution_count": 28,
   "id": "0bbcfc9f-56a2-4050-8287-dd9b52ef5e20",
   "metadata": {
    "tags": []
   },
   "outputs": [
    {
     "data": {
      "text/plain": [
       "'hi'"
      ]
     },
     "execution_count": 28,
     "metadata": {},
     "output_type": "execute_result"
    }
   ],
   "source": [
    "a.lower()"
   ]
  },
  {
   "cell_type": "markdown",
   "id": "9887209c-998b-4544-b35c-6a686e938051",
   "metadata": {},
   "source": [
    "#### 왼쪽 공백 지우기(lstrip)"
   ]
  },
  {
   "cell_type": "code",
   "execution_count": 32,
   "id": "33c5b3a5-8955-4cc0-9843-32fe21eb4da8",
   "metadata": {
    "tags": []
   },
   "outputs": [],
   "source": [
    "a = \" hi\""
   ]
  },
  {
   "cell_type": "code",
   "execution_count": 33,
   "id": "a9231d68-97b9-4aeb-bf51-1605a2caa066",
   "metadata": {
    "tags": []
   },
   "outputs": [
    {
     "data": {
      "text/plain": [
       "'hi'"
      ]
     },
     "execution_count": 33,
     "metadata": {},
     "output_type": "execute_result"
    }
   ],
   "source": [
    "a.lstrip()"
   ]
  },
  {
   "cell_type": "markdown",
   "id": "97c1aa62-8791-452c-88a1-d71d6fb90b73",
   "metadata": {},
   "source": [
    "#### 오른족 공백 지우기(rstrip)"
   ]
  },
  {
   "cell_type": "code",
   "execution_count": 34,
   "id": "b09f5726-5ef1-4c17-ae33-60425eed0119",
   "metadata": {
    "tags": []
   },
   "outputs": [],
   "source": [
    "a = \"hi \""
   ]
  },
  {
   "cell_type": "code",
   "execution_count": 35,
   "id": "c418f8e9-0b3d-4eab-8c23-81e7d0f42129",
   "metadata": {
    "tags": []
   },
   "outputs": [
    {
     "data": {
      "text/plain": [
       "'hi'"
      ]
     },
     "execution_count": 35,
     "metadata": {},
     "output_type": "execute_result"
    }
   ],
   "source": [
    "a.rstrip()"
   ]
  },
  {
   "cell_type": "markdown",
   "id": "8625391d-cb5b-434c-b87c-c6c2aae50779",
   "metadata": {},
   "source": [
    "#### 양쪽 공백 지우기(strip)"
   ]
  },
  {
   "cell_type": "code",
   "execution_count": 36,
   "id": "fae1ecfa-834e-46e6-8bcc-b872a54fae51",
   "metadata": {
    "tags": []
   },
   "outputs": [],
   "source": [
    "a = \" hi \""
   ]
  },
  {
   "cell_type": "code",
   "execution_count": 37,
   "id": "a205cc56-c10b-4804-8d32-054d1611d401",
   "metadata": {
    "tags": []
   },
   "outputs": [
    {
     "data": {
      "text/plain": [
       "'hi'"
      ]
     },
     "execution_count": 37,
     "metadata": {},
     "output_type": "execute_result"
    }
   ],
   "source": [
    "a.strip()"
   ]
  },
  {
   "cell_type": "markdown",
   "id": "adf0db4d-9a76-49c6-8b2d-a5f13afd9336",
   "metadata": {},
   "source": [
    "#### 문자열 바꾸기(replace)"
   ]
  },
  {
   "cell_type": "code",
   "execution_count": 38,
   "id": "f0eeaecc-23d3-4dbe-8f39-348076484079",
   "metadata": {
    "tags": []
   },
   "outputs": [],
   "source": [
    "a = \"Life is too short\""
   ]
  },
  {
   "cell_type": "code",
   "execution_count": 39,
   "id": "71b55c61-912c-4b54-83a3-547db4015c33",
   "metadata": {
    "tags": []
   },
   "outputs": [
    {
     "data": {
      "text/plain": [
       "'Your leg is too short'"
      ]
     },
     "execution_count": 39,
     "metadata": {},
     "output_type": "execute_result"
    }
   ],
   "source": [
    "a.replace(\"Life\", \"Your leg\")"
   ]
  },
  {
   "cell_type": "markdown",
   "id": "6438d11e-f0b3-44c5-aed8-00d72a9d4978",
   "metadata": {},
   "source": [
    "#### 문자열 나누기(split)"
   ]
  },
  {
   "cell_type": "code",
   "execution_count": 40,
   "id": "8c02e17f-5b5e-4bd3-aa79-e432ede20ee8",
   "metadata": {
    "tags": []
   },
   "outputs": [],
   "source": [
    "a = \"Life is too short\""
   ]
  },
  {
   "cell_type": "code",
   "execution_count": 41,
   "id": "a607ed2a-c0e6-4f75-8aa5-b33bddf3c436",
   "metadata": {
    "tags": []
   },
   "outputs": [
    {
     "data": {
      "text/plain": [
       "['Life', 'is', 'too', 'short']"
      ]
     },
     "execution_count": 41,
     "metadata": {},
     "output_type": "execute_result"
    }
   ],
   "source": [
    "a.split() # 괄호 안에 아무 값도 넣어주지 않으면 공백을 기준으로 문자열 나눔"
   ]
  },
  {
   "cell_type": "code",
   "execution_count": 42,
   "id": "cdd36b59-f833-420e-bf9e-e886e342ae5b",
   "metadata": {
    "tags": []
   },
   "outputs": [],
   "source": [
    "b = \"a:b:c:d\""
   ]
  },
  {
   "cell_type": "code",
   "execution_count": 43,
   "id": "0f42f344-a651-4f4d-8a99-5f459aa562cc",
   "metadata": {
    "tags": []
   },
   "outputs": [
    {
     "data": {
      "text/plain": [
       "['a', 'b', 'c', 'd']"
      ]
     },
     "execution_count": 43,
     "metadata": {},
     "output_type": "execute_result"
    }
   ],
   "source": [
    "b.split(':') # :기호를 기준으로 문자열 나눔"
   ]
  },
  {
   "cell_type": "markdown",
   "id": "9aa4207b-ebb9-48a6-8ae7-537a3dc906d1",
   "metadata": {},
   "source": [
    "## 3/9 추가학습"
   ]
  },
  {
   "cell_type": "markdown",
   "id": "0e930d4f-4443-41c0-beb9-86df185ab11b",
   "metadata": {},
   "source": [
    "### 변수 타입 구하기"
   ]
  },
  {
   "cell_type": "code",
   "execution_count": 67,
   "id": "47d2c83a-35e0-4b0e-86f4-adb0fe3febcf",
   "metadata": {
    "tags": []
   },
   "outputs": [
    {
     "data": {
      "text/plain": [
       "int"
      ]
     },
     "execution_count": 67,
     "metadata": {},
     "output_type": "execute_result"
    }
   ],
   "source": [
    "a = 1\n",
    "type(a)"
   ]
  },
  {
   "cell_type": "markdown",
   "id": "744ec8a3-70ce-417e-acfe-388695c9f2f3",
   "metadata": {},
   "source": [
    "### sqrt(제곱근) 함수"
   ]
  },
  {
   "cell_type": "code",
   "execution_count": 71,
   "id": "41ed56d8-b4b6-4d7f-82cd-f1f7f95f4fff",
   "metadata": {
    "tags": []
   },
   "outputs": [],
   "source": [
    "import math"
   ]
  },
  {
   "cell_type": "code",
   "execution_count": 72,
   "id": "7d4faeeb-9761-4007-b0f0-df84cd94ef3c",
   "metadata": {
    "tags": []
   },
   "outputs": [
    {
     "data": {
      "text/plain": [
       "2.0"
      ]
     },
     "execution_count": 72,
     "metadata": {},
     "output_type": "execute_result"
    }
   ],
   "source": [
    "math.sqrt(4)"
   ]
  },
  {
   "cell_type": "code",
   "execution_count": 73,
   "id": "b13585c8-ec01-461c-95eb-0823be52ff55",
   "metadata": {
    "tags": []
   },
   "outputs": [
    {
     "ename": "NameError",
     "evalue": "name 'pi' is not defined",
     "output_type": "error",
     "traceback": [
      "\u001b[1;31m---------------------------------------------------------------------------\u001b[0m",
      "\u001b[1;31mNameError\u001b[0m                                 Traceback (most recent call last)",
      "Cell \u001b[1;32mIn[73], line 1\u001b[0m\n\u001b[1;32m----> 1\u001b[0m \u001b[43mpi\u001b[49m\n",
      "\u001b[1;31mNameError\u001b[0m: name 'pi' is not defined"
     ]
    }
   ],
   "source": [
    "pi"
   ]
  },
  {
   "cell_type": "code",
   "execution_count": 74,
   "id": "9cdedad7-8d6d-4b02-af0f-f9ac14acbd5d",
   "metadata": {
    "tags": []
   },
   "outputs": [
    {
     "data": {
      "text/plain": [
       "3.141592653589793"
      ]
     },
     "execution_count": 74,
     "metadata": {},
     "output_type": "execute_result"
    }
   ],
   "source": [
    "math.pi"
   ]
  },
  {
   "cell_type": "code",
   "execution_count": 78,
   "id": "4db0d865-2b19-4ed8-ba91-ee1661d17aed",
   "metadata": {
    "tags": []
   },
   "outputs": [],
   "source": [
    "import numpy as np"
   ]
  },
  {
   "cell_type": "code",
   "execution_count": 76,
   "id": "46743c77-f130-4e2d-b4ab-cc5856f4ba02",
   "metadata": {
    "tags": []
   },
   "outputs": [
    {
     "name": "stdout",
     "output_type": "stream",
     "text": [
      "Requirement already satisfied: numpy in c:\\users\\user\\appdata\\local\\programs\\python\\python310\\lib\\site-packages (1.24.2)\n",
      "Note: you may need to restart the kernel to use updated packages.\n"
     ]
    }
   ],
   "source": [
    "pip install numpy"
   ]
  },
  {
   "cell_type": "code",
   "execution_count": 80,
   "id": "00b0618e-092e-452f-8ce2-8c4f246291e4",
   "metadata": {
    "tags": []
   },
   "outputs": [
    {
     "data": {
      "text/plain": [
       "2.0"
      ]
     },
     "execution_count": 80,
     "metadata": {},
     "output_type": "execute_result"
    }
   ],
   "source": [
    "np.sqrt(4)"
   ]
  },
  {
   "cell_type": "code",
   "execution_count": 81,
   "id": "78688425-1696-4f85-942e-8cbdc6764c7d",
   "metadata": {
    "tags": []
   },
   "outputs": [
    {
     "data": {
      "text/plain": [
       "3.141592653589793"
      ]
     },
     "execution_count": 81,
     "metadata": {},
     "output_type": "execute_result"
    }
   ],
   "source": [
    "np.pi"
   ]
  },
  {
   "cell_type": "code",
   "execution_count": 82,
   "id": "83751cdb-7246-4a33-944a-5974d5cc05e6",
   "metadata": {
    "tags": []
   },
   "outputs": [
    {
     "data": {
      "text/plain": [
       "1.0"
      ]
     },
     "execution_count": 82,
     "metadata": {},
     "output_type": "execute_result"
    }
   ],
   "source": [
    "np.cos(0)"
   ]
  },
  {
   "cell_type": "code",
   "execution_count": 83,
   "id": "f589aaa0-e1a7-4fb8-9085-8e865d84510c",
   "metadata": {
    "tags": []
   },
   "outputs": [
    {
     "data": {
      "text/plain": [
       "1.0"
      ]
     },
     "execution_count": 83,
     "metadata": {},
     "output_type": "execute_result"
    }
   ],
   "source": [
    "np.cos(2*np.pi)"
   ]
  },
  {
   "cell_type": "code",
   "execution_count": 84,
   "id": "18f6b368-2214-4fa8-be61-00f4b6c0744a",
   "metadata": {
    "tags": []
   },
   "outputs": [
    {
     "data": {
      "text/plain": [
       "3628800"
      ]
     },
     "execution_count": 84,
     "metadata": {},
     "output_type": "execute_result"
    }
   ],
   "source": [
    "math.factorial(10)"
   ]
  },
  {
   "cell_type": "markdown",
   "id": "992b59ad-dcd4-44dd-8eef-e9f679e8ea9b",
   "metadata": {
    "tags": []
   },
   "source": [
    "### linspace"
   ]
  },
  {
   "cell_type": "code",
   "execution_count": 85,
   "id": "5c0f218f-f174-40c8-a576-0a7c8dcff585",
   "metadata": {
    "tags": []
   },
   "outputs": [
    {
     "data": {
      "text/plain": [
       "\u001b[1;31mSignature:\u001b[0m\n",
       "\u001b[0mnp\u001b[0m\u001b[1;33m.\u001b[0m\u001b[0mlinspace\u001b[0m\u001b[1;33m(\u001b[0m\u001b[1;33m\n",
       "\u001b[0m    \u001b[0mstart\u001b[0m\u001b[1;33m,\u001b[0m\u001b[1;33m\n",
       "\u001b[0m    \u001b[0mstop\u001b[0m\u001b[1;33m,\u001b[0m\u001b[1;33m\n",
       "\u001b[0m    \u001b[0mnum\u001b[0m\u001b[1;33m=\u001b[0m\u001b[1;36m50\u001b[0m\u001b[1;33m,\u001b[0m\u001b[1;33m\n",
       "\u001b[0m    \u001b[0mendpoint\u001b[0m\u001b[1;33m=\u001b[0m\u001b[1;32mTrue\u001b[0m\u001b[1;33m,\u001b[0m\u001b[1;33m\n",
       "\u001b[0m    \u001b[0mretstep\u001b[0m\u001b[1;33m=\u001b[0m\u001b[1;32mFalse\u001b[0m\u001b[1;33m,\u001b[0m\u001b[1;33m\n",
       "\u001b[0m    \u001b[0mdtype\u001b[0m\u001b[1;33m=\u001b[0m\u001b[1;32mNone\u001b[0m\u001b[1;33m,\u001b[0m\u001b[1;33m\n",
       "\u001b[0m    \u001b[0maxis\u001b[0m\u001b[1;33m=\u001b[0m\u001b[1;36m0\u001b[0m\u001b[1;33m,\u001b[0m\u001b[1;33m\n",
       "\u001b[0m\u001b[1;33m)\u001b[0m\u001b[1;33m\u001b[0m\u001b[1;33m\u001b[0m\u001b[0m\n",
       "\u001b[1;31mDocstring:\u001b[0m\n",
       "Return evenly spaced numbers over a specified interval.\n",
       "\n",
       "Returns `num` evenly spaced samples, calculated over the\n",
       "interval [`start`, `stop`].\n",
       "\n",
       "The endpoint of the interval can optionally be excluded.\n",
       "\n",
       ".. versionchanged:: 1.16.0\n",
       "    Non-scalar `start` and `stop` are now supported.\n",
       "\n",
       ".. versionchanged:: 1.20.0\n",
       "    Values are rounded towards ``-inf`` instead of ``0`` when an\n",
       "    integer ``dtype`` is specified. The old behavior can\n",
       "    still be obtained with ``np.linspace(start, stop, num).astype(int)``\n",
       "\n",
       "Parameters\n",
       "----------\n",
       "start : array_like\n",
       "    The starting value of the sequence.\n",
       "stop : array_like\n",
       "    The end value of the sequence, unless `endpoint` is set to False.\n",
       "    In that case, the sequence consists of all but the last of ``num + 1``\n",
       "    evenly spaced samples, so that `stop` is excluded.  Note that the step\n",
       "    size changes when `endpoint` is False.\n",
       "num : int, optional\n",
       "    Number of samples to generate. Default is 50. Must be non-negative.\n",
       "endpoint : bool, optional\n",
       "    If True, `stop` is the last sample. Otherwise, it is not included.\n",
       "    Default is True.\n",
       "retstep : bool, optional\n",
       "    If True, return (`samples`, `step`), where `step` is the spacing\n",
       "    between samples.\n",
       "dtype : dtype, optional\n",
       "    The type of the output array.  If `dtype` is not given, the data type\n",
       "    is inferred from `start` and `stop`. The inferred dtype will never be\n",
       "    an integer; `float` is chosen even if the arguments would produce an\n",
       "    array of integers.\n",
       "\n",
       "    .. versionadded:: 1.9.0\n",
       "\n",
       "axis : int, optional\n",
       "    The axis in the result to store the samples.  Relevant only if start\n",
       "    or stop are array-like.  By default (0), the samples will be along a\n",
       "    new axis inserted at the beginning. Use -1 to get an axis at the end.\n",
       "\n",
       "    .. versionadded:: 1.16.0\n",
       "\n",
       "Returns\n",
       "-------\n",
       "samples : ndarray\n",
       "    There are `num` equally spaced samples in the closed interval\n",
       "    ``[start, stop]`` or the half-open interval ``[start, stop)``\n",
       "    (depending on whether `endpoint` is True or False).\n",
       "step : float, optional\n",
       "    Only returned if `retstep` is True\n",
       "\n",
       "    Size of spacing between samples.\n",
       "\n",
       "\n",
       "See Also\n",
       "--------\n",
       "arange : Similar to `linspace`, but uses a step size (instead of the\n",
       "         number of samples).\n",
       "geomspace : Similar to `linspace`, but with numbers spaced evenly on a log\n",
       "            scale (a geometric progression).\n",
       "logspace : Similar to `geomspace`, but with the end points specified as\n",
       "           logarithms.\n",
       ":ref:`how-to-partition`\n",
       "\n",
       "Examples\n",
       "--------\n",
       ">>> np.linspace(2.0, 3.0, num=5)\n",
       "array([2.  , 2.25, 2.5 , 2.75, 3.  ])\n",
       ">>> np.linspace(2.0, 3.0, num=5, endpoint=False)\n",
       "array([2. ,  2.2,  2.4,  2.6,  2.8])\n",
       ">>> np.linspace(2.0, 3.0, num=5, retstep=True)\n",
       "(array([2.  ,  2.25,  2.5 ,  2.75,  3.  ]), 0.25)\n",
       "\n",
       "Graphical illustration:\n",
       "\n",
       ">>> import matplotlib.pyplot as plt\n",
       ">>> N = 8\n",
       ">>> y = np.zeros(N)\n",
       ">>> x1 = np.linspace(0, 10, N, endpoint=True)\n",
       ">>> x2 = np.linspace(0, 10, N, endpoint=False)\n",
       ">>> plt.plot(x1, y, 'o')\n",
       "[<matplotlib.lines.Line2D object at 0x...>]\n",
       ">>> plt.plot(x2, y + 0.5, 'o')\n",
       "[<matplotlib.lines.Line2D object at 0x...>]\n",
       ">>> plt.ylim([-0.5, 1])\n",
       "(-0.5, 1)\n",
       ">>> plt.show()\n",
       "\u001b[1;31mFile:\u001b[0m      c:\\users\\user\\appdata\\local\\programs\\python\\python310\\lib\\site-packages\\numpy\\core\\function_base.py\n",
       "\u001b[1;31mType:\u001b[0m      function"
      ]
     },
     "metadata": {},
     "output_type": "display_data"
    }
   ],
   "source": [
    "np.linspace?"
   ]
  },
  {
   "cell_type": "code",
   "execution_count": 87,
   "id": "17af88ec-ebed-4177-b7ae-bca65b87f653",
   "metadata": {
    "tags": []
   },
   "outputs": [
    {
     "data": {
      "text/plain": [
       "array([ 1.,  2.,  3.,  4.,  5.,  6.,  7.,  8.,  9., 10.])"
      ]
     },
     "execution_count": 87,
     "metadata": {},
     "output_type": "execute_result"
    }
   ],
   "source": [
    "np.linspace(1,10,10) #(배열의 시작값, 배열의 끝값, 몇개의 일정한 간격으로 만들것인가)"
   ]
  },
  {
   "cell_type": "code",
   "execution_count": 88,
   "id": "38ab3881-89a7-4f4a-819f-524851c2821d",
   "metadata": {
    "tags": []
   },
   "outputs": [],
   "source": [
    "import numpy\n",
    "import numpy as np\n",
    "from numpy import sqrt\n",
    "from numpy import *"
   ]
  },
  {
   "cell_type": "markdown",
   "id": "06024efb-6095-4a57-a268-6f7739a5ab58",
   "metadata": {
    "tags": []
   },
   "source": [
    "### 반올림, 버림, 내림"
   ]
  },
  {
   "cell_type": "code",
   "execution_count": 89,
   "id": "a7beb893-9908-4bff-8eeb-3ddb52d482fe",
   "metadata": {
    "tags": []
   },
   "outputs": [
    {
     "data": {
      "text/plain": [
       "3.46"
      ]
     },
     "execution_count": 89,
     "metadata": {},
     "output_type": "execute_result"
    }
   ],
   "source": [
    "round(3.4567,2) #지정한 자릿수로 반올림"
   ]
  },
  {
   "cell_type": "code",
   "execution_count": 90,
   "id": "0811598b-a313-4cdf-85a3-805dd01d71c0",
   "metadata": {
    "tags": []
   },
   "outputs": [
    {
     "data": {
      "text/plain": [
       "3.0"
      ]
     },
     "execution_count": 90,
     "metadata": {},
     "output_type": "execute_result"
    }
   ],
   "source": [
    "np.floor(3.4567) #버림"
   ]
  },
  {
   "cell_type": "code",
   "execution_count": 91,
   "id": "3d5519c4-f380-45c1-a57c-cc79eda05712",
   "metadata": {
    "tags": []
   },
   "outputs": [
    {
     "data": {
      "text/plain": [
       "4.0"
      ]
     },
     "execution_count": 91,
     "metadata": {},
     "output_type": "execute_result"
    }
   ],
   "source": [
    "np.ceil(3.4567) #올림"
   ]
  },
  {
   "cell_type": "markdown",
   "id": "7c166ef7-a0f3-4db8-970f-9eb7bf942462",
   "metadata": {},
   "source": [
    "### input() 함수"
   ]
  },
  {
   "cell_type": "code",
   "execution_count": 93,
   "id": "a6ce2434-f532-4139-b0d6-b9dcc01ad5d3",
   "metadata": {
    "tags": []
   },
   "outputs": [
    {
     "name": "stdin",
     "output_type": "stream",
     "text": [
      " 1\n"
     ]
    },
    {
     "data": {
      "text/plain": [
       "'1'"
      ]
     },
     "execution_count": 93,
     "metadata": {},
     "output_type": "execute_result"
    }
   ],
   "source": [
    "input()"
   ]
  },
  {
   "cell_type": "code",
   "execution_count": 94,
   "id": "46bd737d-a61f-4885-a93d-ee4058df6601",
   "metadata": {
    "tags": []
   },
   "outputs": [
    {
     "name": "stdin",
     "output_type": "stream",
     "text": [
      "숫자를 입력하세요:  3\n"
     ]
    },
    {
     "data": {
      "text/plain": [
       "'3'"
      ]
     },
     "execution_count": 94,
     "metadata": {},
     "output_type": "execute_result"
    }
   ],
   "source": [
    "input(\"숫자를 입력하세요: \")"
   ]
  },
  {
   "cell_type": "code",
   "execution_count": 97,
   "id": "48af5bb7-2ddc-477d-98e9-cf925e1f28a4",
   "metadata": {
    "tags": []
   },
   "outputs": [
    {
     "name": "stdin",
     "output_type": "stream",
     "text": [
      "숫자를 입력하세요:  35\n",
      "나이를 입력하세요:  57\n"
     ]
    }
   ],
   "source": [
    "name = input(\"숫자를 입력하세요: \")\n",
    "age = input(\"나이를 입력하세요: \")"
   ]
  },
  {
   "cell_type": "code",
   "execution_count": 98,
   "id": "db86c08a-aa45-4bc2-b95c-6a9c11f7977a",
   "metadata": {
    "tags": []
   },
   "outputs": [
    {
     "name": "stdin",
     "output_type": "stream",
     "text": [
      "숫자를 입력하세요:  3\n",
      "숫자를 입력하세요:  6\n"
     ]
    },
    {
     "data": {
      "text/plain": [
       "9"
      ]
     },
     "execution_count": 98,
     "metadata": {},
     "output_type": "execute_result"
    }
   ],
   "source": [
    "a = input(\"숫자를 입력하세요: \")\n",
    "b = input(\"숫자를 입력하세요: \")\n",
    "a = int(a)\n",
    "b = int(b)\n",
    "a+b"
   ]
  },
  {
   "cell_type": "code",
   "execution_count": 99,
   "id": "476986bd-7327-48db-adbe-0f7b787ba460",
   "metadata": {
    "tags": []
   },
   "outputs": [
    {
     "name": "stdin",
     "output_type": "stream",
     "text": [
      "숫자를 입력하세요:  30\n",
      "숫자를 입력하세요:  50\n"
     ]
    },
    {
     "data": {
      "text/plain": [
       "80"
      ]
     },
     "execution_count": 99,
     "metadata": {},
     "output_type": "execute_result"
    }
   ],
   "source": [
    "a = int(input(\"숫자를 입력하세요: \"))\n",
    "b = int(input(\"숫자를 입력하세요: \"))\n",
    "a+b"
   ]
  },
  {
   "cell_type": "code",
   "execution_count": 100,
   "id": "765c86f9-85e5-46ca-846c-a6ad0f26b12f",
   "metadata": {
    "tags": []
   },
   "outputs": [
    {
     "name": "stdin",
     "output_type": "stream",
     "text": [
      "숫자를 입력하세요:  6\n"
     ]
    },
    {
     "data": {
      "text/plain": [
       "12"
      ]
     },
     "execution_count": 100,
     "metadata": {},
     "output_type": "execute_result"
    }
   ],
   "source": [
    "#입력받은 숫자를 2배해서 출력\n",
    "a = int(input(\"숫자를 입력하세요: \"))\n",
    "a*2"
   ]
  },
  {
   "cell_type": "code",
   "execution_count": 103,
   "id": "52321b8f-8e8a-46b2-872d-4b9913954a15",
   "metadata": {
    "tags": []
   },
   "outputs": [
    {
     "name": "stdin",
     "output_type": "stream",
     "text": [
      "이름을 입력하세요:  잰\n",
      "나이를 입력하세요:  20\n"
     ]
    },
    {
     "name": "stdout",
     "output_type": "stream",
     "text": [
      "나의 이름은 잰이고 나이는 20살입니다.\n"
     ]
    }
   ],
   "source": [
    "#name, age 변수에 값을 받아서\n",
    "\n",
    "\"나의 이름은 000이고 나이는 00살입니다.\"\n",
    "name = str(input(\"이름을 입력하세요: \"))\n",
    "age = int(input(\"나이를 입력하세요: \"))\n",
    "\n",
    "print(f\"나의 이름은 {name}이고 나이는 {age}살입니다.\")"
   ]
  },
  {
   "cell_type": "code",
   "execution_count": 104,
   "id": "795af04f-1fdd-4a1a-9a21-2ecc5afe78e7",
   "metadata": {
    "tags": []
   },
   "outputs": [
    {
     "name": "stdin",
     "output_type": "stream",
     "text": [
      "어머니의 나이를 입력하세요:  50\n",
      "나의 나이를 입력하세요:  24\n"
     ]
    },
    {
     "name": "stdout",
     "output_type": "stream",
     "text": [
      "어머니의 나이는 50살이고 나의 나이는 24살이고, 합은 74살입니다.\n"
     ]
    }
   ],
   "source": [
    "age1 = int(input(\"어머니의 나이를 입력하세요: \"))\n",
    "age2 = int(input(\"나의 나이를 입력하세요: \"))\n",
    "age_total = age1 + age2\n",
    "print(f\"어머니의 나이는 {age1}살이고 나의 나이는 {age2}살이고, 합은 {age_total}살입니다.\")"
   ]
  },
  {
   "cell_type": "code",
   "execution_count": 105,
   "id": "6773fcf1-11d8-4958-ae74-3b59f809c5ab",
   "metadata": {
    "tags": []
   },
   "outputs": [
    {
     "name": "stdout",
     "output_type": "stream",
     "text": [
      "pi값은 3.1416입니다\n",
      "pi값은     3.1416입니다\n"
     ]
    }
   ],
   "source": [
    "pi = 3.141592\n",
    "\n",
    "print(f\"pi값은 {pi:0.4f}입니다\")\n",
    "print(f\"pi값은 {pi:10.4f}입니다\")"
   ]
  },
  {
   "cell_type": "markdown",
   "id": "570eb5ba-122a-4854-948d-9f7ab05c6593",
   "metadata": {},
   "source": [
    "- 3월 10일 복습"
   ]
  },
  {
   "cell_type": "markdown",
   "id": "d9c6770b-61e4-42b8-a109-dac7dad64be1",
   "metadata": {},
   "source": [
    "## 2-3 리스트 자료형"
   ]
  },
  {
   "cell_type": "markdown",
   "id": "43ff619e-1c13-42c0-aefa-29d82e3d361e",
   "metadata": {
    "tags": []
   },
   "source": [
    "### 리스트는 어떻게 만들고 사용할까?"
   ]
  },
  {
   "cell_type": "code",
   "execution_count": 107,
   "id": "eccd5dc8-020d-42b1-8f02-20d25d6858d2",
   "metadata": {
    "tags": []
   },
   "outputs": [],
   "source": [
    "a = []"
   ]
  },
  {
   "cell_type": "code",
   "execution_count": 108,
   "id": "059024d7-28ea-4b76-be1c-01a2af18ff03",
   "metadata": {
    "tags": []
   },
   "outputs": [],
   "source": [
    "b = [1,2,3]"
   ]
  },
  {
   "cell_type": "code",
   "execution_count": 109,
   "id": "7b8502aa-6330-440f-87bf-e7e3c533b520",
   "metadata": {
    "tags": []
   },
   "outputs": [],
   "source": [
    "c = ['Life', 'is', 'too', 'short']"
   ]
  },
  {
   "cell_type": "code",
   "execution_count": 110,
   "id": "e960b150-6eae-4ee3-8158-c44622cfa98c",
   "metadata": {
    "tags": []
   },
   "outputs": [],
   "source": [
    "d = [1, 2, 'Life', 'is']"
   ]
  },
  {
   "cell_type": "code",
   "execution_count": 111,
   "id": "238a4bce-76a6-4d52-9801-cf662a334614",
   "metadata": {
    "tags": []
   },
   "outputs": [],
   "source": [
    "e = [1,2,['Life', 'is']]"
   ]
  },
  {
   "cell_type": "markdown",
   "id": "735d8b5c-e55c-48e8-9784-dac61a319c97",
   "metadata": {
    "tags": []
   },
   "source": [
    "### 리스트의 인덱싱과 슬라이싱"
   ]
  },
  {
   "cell_type": "markdown",
   "id": "8d9b7da2-1c90-4a3e-a6d6-203b0175d968",
   "metadata": {},
   "source": [
    "#### 리스트의 인덱싱"
   ]
  },
  {
   "cell_type": "code",
   "execution_count": 116,
   "id": "2ac50fff-d32a-43df-97c2-8c7a7060d0c3",
   "metadata": {
    "tags": []
   },
   "outputs": [],
   "source": [
    "a = [1,2,3]"
   ]
  },
  {
   "cell_type": "code",
   "execution_count": 117,
   "id": "cfaa4133-263d-443f-b9b3-4da2e93442bc",
   "metadata": {
    "tags": []
   },
   "outputs": [
    {
     "data": {
      "text/plain": [
       "[1, 2, 3]"
      ]
     },
     "execution_count": 117,
     "metadata": {},
     "output_type": "execute_result"
    }
   ],
   "source": [
    "a"
   ]
  },
  {
   "cell_type": "code",
   "execution_count": 118,
   "id": "72054e4c-b664-4aff-a892-cca6679ec826",
   "metadata": {
    "tags": []
   },
   "outputs": [
    {
     "data": {
      "text/plain": [
       "1"
      ]
     },
     "execution_count": 118,
     "metadata": {},
     "output_type": "execute_result"
    }
   ],
   "source": [
    "a[0]"
   ]
  },
  {
   "cell_type": "code",
   "execution_count": 119,
   "id": "a36ad8e1-442f-4162-902f-bbe930e81268",
   "metadata": {
    "tags": []
   },
   "outputs": [
    {
     "data": {
      "text/plain": [
       "4"
      ]
     },
     "execution_count": 119,
     "metadata": {},
     "output_type": "execute_result"
    }
   ],
   "source": [
    "a[0] + a[2]"
   ]
  },
  {
   "cell_type": "code",
   "execution_count": 120,
   "id": "49294683-08fb-461e-b8cd-a7d86d69d407",
   "metadata": {
    "tags": []
   },
   "outputs": [
    {
     "data": {
      "text/plain": [
       "3"
      ]
     },
     "execution_count": 120,
     "metadata": {},
     "output_type": "execute_result"
    }
   ],
   "source": [
    "a[-1]"
   ]
  },
  {
   "cell_type": "code",
   "execution_count": 121,
   "id": "d74433d9-1eac-4592-9c32-03c3eb66a8a3",
   "metadata": {
    "tags": []
   },
   "outputs": [],
   "source": [
    "a = [1,2,3,['a','b','c']]"
   ]
  },
  {
   "cell_type": "code",
   "execution_count": 122,
   "id": "4c36ea00-7f22-43a7-9852-799d4836d2f0",
   "metadata": {
    "tags": []
   },
   "outputs": [
    {
     "data": {
      "text/plain": [
       "1"
      ]
     },
     "execution_count": 122,
     "metadata": {},
     "output_type": "execute_result"
    }
   ],
   "source": [
    "a[0]"
   ]
  },
  {
   "cell_type": "code",
   "execution_count": 123,
   "id": "433b5a60-d85c-4342-94ec-e6a9977de185",
   "metadata": {
    "tags": []
   },
   "outputs": [
    {
     "data": {
      "text/plain": [
       "['a', 'b', 'c']"
      ]
     },
     "execution_count": 123,
     "metadata": {},
     "output_type": "execute_result"
    }
   ],
   "source": [
    "a[-1]"
   ]
  },
  {
   "cell_type": "code",
   "execution_count": 124,
   "id": "683e918c-a27e-46b6-8177-65e89a1f3441",
   "metadata": {
    "tags": []
   },
   "outputs": [
    {
     "data": {
      "text/plain": [
       "['a', 'b', 'c']"
      ]
     },
     "execution_count": 124,
     "metadata": {},
     "output_type": "execute_result"
    }
   ],
   "source": [
    "a[3]"
   ]
  },
  {
   "cell_type": "code",
   "execution_count": 125,
   "id": "f379761e-0e11-4659-b12f-94f22d932294",
   "metadata": {
    "tags": []
   },
   "outputs": [
    {
     "data": {
      "text/plain": [
       "'a'"
      ]
     },
     "execution_count": 125,
     "metadata": {},
     "output_type": "execute_result"
    }
   ],
   "source": [
    "a[-1][0]"
   ]
  },
  {
   "cell_type": "code",
   "execution_count": 126,
   "id": "c08ab6dc-3bdb-4218-8529-6f8cb7539701",
   "metadata": {
    "tags": []
   },
   "outputs": [
    {
     "data": {
      "text/plain": [
       "'b'"
      ]
     },
     "execution_count": 126,
     "metadata": {},
     "output_type": "execute_result"
    }
   ],
   "source": [
    "a[-1][1]"
   ]
  },
  {
   "cell_type": "code",
   "execution_count": 127,
   "id": "b888bc32-2fcf-4cb5-84d2-9cd22dfcef4a",
   "metadata": {
    "tags": []
   },
   "outputs": [
    {
     "data": {
      "text/plain": [
       "'c'"
      ]
     },
     "execution_count": 127,
     "metadata": {},
     "output_type": "execute_result"
    }
   ],
   "source": [
    "a[-1][2]"
   ]
  },
  {
   "cell_type": "markdown",
   "id": "93cbbcf7-3a8f-44a2-809d-1d9f1820e15a",
   "metadata": {},
   "source": [
    "#### 삼중 리스트에서 인덱싱하기"
   ]
  },
  {
   "cell_type": "code",
   "execution_count": 128,
   "id": "6ced8889-421b-4bd3-ae66-7050af7f20b5",
   "metadata": {
    "tags": []
   },
   "outputs": [],
   "source": [
    "a = [1,2,['a','b',['Life','is']]]"
   ]
  },
  {
   "cell_type": "code",
   "execution_count": 129,
   "id": "9236f99e-6762-4206-8e7e-5c328d7470dd",
   "metadata": {
    "tags": []
   },
   "outputs": [
    {
     "data": {
      "text/plain": [
       "'Life'"
      ]
     },
     "execution_count": 129,
     "metadata": {},
     "output_type": "execute_result"
    }
   ],
   "source": [
    "a[2][2][0]"
   ]
  },
  {
   "cell_type": "markdown",
   "id": "53da7e66-37f7-4d20-ad52-9c3685610c10",
   "metadata": {},
   "source": [
    "#### 리스트의 슬라이싱"
   ]
  },
  {
   "cell_type": "code",
   "execution_count": 130,
   "id": "e4e716f6-bdae-4fcb-b838-b6762b498eda",
   "metadata": {
    "tags": []
   },
   "outputs": [],
   "source": [
    "a = [1,2,3,4,5]"
   ]
  },
  {
   "cell_type": "code",
   "execution_count": 131,
   "id": "82aa39ca-6890-4659-b274-5fff7b22fda8",
   "metadata": {
    "tags": []
   },
   "outputs": [
    {
     "data": {
      "text/plain": [
       "[1, 2]"
      ]
     },
     "execution_count": 131,
     "metadata": {},
     "output_type": "execute_result"
    }
   ],
   "source": [
    "a[0:2]"
   ]
  },
  {
   "cell_type": "code",
   "execution_count": 132,
   "id": "0f7f9bbc-0d97-4cb3-b64e-1b4701ca4a43",
   "metadata": {
    "tags": []
   },
   "outputs": [],
   "source": [
    "a = \"12345\""
   ]
  },
  {
   "cell_type": "code",
   "execution_count": 133,
   "id": "579a59db-03ba-4799-b442-9f761cbd98ea",
   "metadata": {
    "tags": []
   },
   "outputs": [
    {
     "data": {
      "text/plain": [
       "'12'"
      ]
     },
     "execution_count": 133,
     "metadata": {},
     "output_type": "execute_result"
    }
   ],
   "source": [
    "a[0:2]"
   ]
  },
  {
   "cell_type": "code",
   "execution_count": 134,
   "id": "8c135912-fd31-4691-b1eb-4f8e5795df44",
   "metadata": {
    "tags": []
   },
   "outputs": [],
   "source": [
    "a=[1,2,3,4,5]"
   ]
  },
  {
   "cell_type": "code",
   "execution_count": 135,
   "id": "f1df898a-8674-4815-addd-85d2e27060e7",
   "metadata": {
    "tags": []
   },
   "outputs": [],
   "source": [
    "b=a[:2]"
   ]
  },
  {
   "cell_type": "code",
   "execution_count": 136,
   "id": "03821ad7-40a6-4a5a-a8cc-e1ec957c700b",
   "metadata": {
    "tags": []
   },
   "outputs": [],
   "source": [
    "c=a[2:]"
   ]
  },
  {
   "cell_type": "code",
   "execution_count": 137,
   "id": "f38c9e3d-e107-49d2-9c1c-c58418e653a9",
   "metadata": {
    "tags": []
   },
   "outputs": [
    {
     "data": {
      "text/plain": [
       "[1, 2]"
      ]
     },
     "execution_count": 137,
     "metadata": {},
     "output_type": "execute_result"
    }
   ],
   "source": [
    "b"
   ]
  },
  {
   "cell_type": "code",
   "execution_count": 138,
   "id": "e8801853-4dfe-4156-a629-33436e32e34a",
   "metadata": {
    "tags": []
   },
   "outputs": [
    {
     "data": {
      "text/plain": [
       "[3, 4, 5]"
      ]
     },
     "execution_count": 138,
     "metadata": {},
     "output_type": "execute_result"
    }
   ],
   "source": [
    "c"
   ]
  },
  {
   "cell_type": "markdown",
   "id": "9638ccc3-63cb-45a6-92df-a6d90a4a2f9a",
   "metadata": {},
   "source": [
    "- 퀴즈"
   ]
  },
  {
   "cell_type": "code",
   "execution_count": 139,
   "id": "59a60d95-91c2-45f2-af6f-a3ef25786b17",
   "metadata": {
    "tags": []
   },
   "outputs": [],
   "source": [
    "A = [1,2,3,4,5]"
   ]
  },
  {
   "cell_type": "code",
   "execution_count": 140,
   "id": "783ba177-1917-4d09-b0ec-a31f6b060268",
   "metadata": {
    "tags": []
   },
   "outputs": [
    {
     "data": {
      "text/plain": [
       "[2, 3]"
      ]
     },
     "execution_count": 140,
     "metadata": {},
     "output_type": "execute_result"
    }
   ],
   "source": [
    "A[1:3]"
   ]
  },
  {
   "cell_type": "markdown",
   "id": "d8b0b66f-ba65-45ed-a42f-8fec01be3563",
   "metadata": {},
   "source": [
    "#### 중첩된 리스트에서 슬라이싱"
   ]
  },
  {
   "cell_type": "code",
   "execution_count": 141,
   "id": "a3c147c4-d785-4864-8d05-837e99d293ca",
   "metadata": {
    "tags": []
   },
   "outputs": [],
   "source": [
    "a = [1,2,3,['a','b','c'],4,5]"
   ]
  },
  {
   "cell_type": "code",
   "execution_count": 142,
   "id": "8b63a643-53e6-4692-a4ce-48e093b2b44a",
   "metadata": {
    "tags": []
   },
   "outputs": [
    {
     "data": {
      "text/plain": [
       "[3, ['a', 'b', 'c'], 4]"
      ]
     },
     "execution_count": 142,
     "metadata": {},
     "output_type": "execute_result"
    }
   ],
   "source": [
    "a[2:5]"
   ]
  },
  {
   "cell_type": "code",
   "execution_count": 143,
   "id": "a9a44fec-42c4-43be-846b-72fb31bfdd4c",
   "metadata": {
    "tags": []
   },
   "outputs": [
    {
     "data": {
      "text/plain": [
       "['a', 'b']"
      ]
     },
     "execution_count": 143,
     "metadata": {},
     "output_type": "execute_result"
    }
   ],
   "source": [
    "a[3][:2]"
   ]
  },
  {
   "cell_type": "markdown",
   "id": "aaa56944-f7c5-4f37-ace3-d49afeb04604",
   "metadata": {},
   "source": [
    "### 리스트 연산하기"
   ]
  },
  {
   "cell_type": "markdown",
   "id": "c545f325-665e-4111-95de-7e41bfa6512c",
   "metadata": {},
   "source": [
    "#### 1. 리스트 더하기(+)"
   ]
  },
  {
   "cell_type": "code",
   "execution_count": 144,
   "id": "7a17e1a2-ff41-4e10-9c95-318f21fa7037",
   "metadata": {
    "tags": []
   },
   "outputs": [],
   "source": [
    "a = [1,2,3]"
   ]
  },
  {
   "cell_type": "code",
   "execution_count": 145,
   "id": "404b56fe-5cf2-49d2-9560-86c8caa4914e",
   "metadata": {
    "tags": []
   },
   "outputs": [],
   "source": [
    "b = [4,5,6]"
   ]
  },
  {
   "cell_type": "code",
   "execution_count": 146,
   "id": "b433ae62-dea0-4b42-8266-611294638699",
   "metadata": {
    "tags": []
   },
   "outputs": [
    {
     "data": {
      "text/plain": [
       "[1, 2, 3, 4, 5, 6]"
      ]
     },
     "execution_count": 146,
     "metadata": {},
     "output_type": "execute_result"
    }
   ],
   "source": [
    "a + b"
   ]
  },
  {
   "cell_type": "markdown",
   "id": "6683c52e-990e-4cad-b181-b7342ce0898c",
   "metadata": {
    "tags": []
   },
   "source": [
    "#### 2. 리스트 반복하기(*)"
   ]
  },
  {
   "cell_type": "code",
   "execution_count": 148,
   "id": "a295fa28-39fc-4e67-b841-77884a58c0aa",
   "metadata": {
    "tags": []
   },
   "outputs": [],
   "source": [
    "a = [1,2,3]"
   ]
  },
  {
   "cell_type": "code",
   "execution_count": 149,
   "id": "a1e736cb-9f46-4e4f-8779-fad4db596799",
   "metadata": {
    "tags": []
   },
   "outputs": [
    {
     "data": {
      "text/plain": [
       "[1, 2, 3, 1, 2, 3, 1, 2, 3]"
      ]
     },
     "execution_count": 149,
     "metadata": {},
     "output_type": "execute_result"
    }
   ],
   "source": [
    "a*3"
   ]
  },
  {
   "cell_type": "markdown",
   "id": "a6585c60-3035-4336-a73d-862498ddf6e9",
   "metadata": {},
   "source": [
    "#### 3. 리스트 길이 구하기"
   ]
  },
  {
   "cell_type": "code",
   "execution_count": 150,
   "id": "ea110452-e7bf-4827-8cc9-d0e3c643bb33",
   "metadata": {
    "tags": []
   },
   "outputs": [],
   "source": [
    "a = [1,2,3]"
   ]
  },
  {
   "cell_type": "code",
   "execution_count": 151,
   "id": "5d8ad617-acee-4fe7-95af-6da641c2b23f",
   "metadata": {
    "tags": []
   },
   "outputs": [
    {
     "data": {
      "text/plain": [
       "3"
      ]
     },
     "execution_count": 151,
     "metadata": {},
     "output_type": "execute_result"
    }
   ],
   "source": [
    "len(a)"
   ]
  },
  {
   "cell_type": "markdown",
   "id": "66b285cc-617c-48e3-826f-6e208f82bf6e",
   "metadata": {},
   "source": [
    "#### 초보자가 실수하기 쉬운 리스트 연산 오류"
   ]
  },
  {
   "cell_type": "code",
   "execution_count": 153,
   "id": "95b178bf-1de6-4f7f-adf2-b62f945fda42",
   "metadata": {
    "tags": []
   },
   "outputs": [
    {
     "ename": "TypeError",
     "evalue": "unsupported operand type(s) for +: 'int' and 'str'",
     "output_type": "error",
     "traceback": [
      "\u001b[1;31m---------------------------------------------------------------------------\u001b[0m",
      "\u001b[1;31mTypeError\u001b[0m                                 Traceback (most recent call last)",
      "Cell \u001b[1;32mIn[153], line 2\u001b[0m\n\u001b[0;32m      1\u001b[0m a \u001b[38;5;241m=\u001b[39m [\u001b[38;5;241m1\u001b[39m,\u001b[38;5;241m2\u001b[39m,\u001b[38;5;241m3\u001b[39m]\n\u001b[1;32m----> 2\u001b[0m \u001b[43ma\u001b[49m\u001b[43m[\u001b[49m\u001b[38;5;241;43m2\u001b[39;49m\u001b[43m]\u001b[49m\u001b[43m \u001b[49m\u001b[38;5;241;43m+\u001b[39;49m\u001b[43m \u001b[49m\u001b[38;5;124;43m\"\u001b[39;49m\u001b[38;5;124;43mhi\u001b[39;49m\u001b[38;5;124;43m\"\u001b[39;49m\n\u001b[0;32m      3\u001b[0m \u001b[38;5;66;03m#형 오류(TypeError) 발생\u001b[39;00m\n",
      "\u001b[1;31mTypeError\u001b[0m: unsupported operand type(s) for +: 'int' and 'str'"
     ]
    }
   ],
   "source": [
    "a = [1,2,3]\n",
    "a[2] + \"hi\"\n",
    "#형 오류(TypeError) 발생\n",
    "#a[2]에 저장된 값은 3이라는 정수인데 \"hi\"는 문자열이다. 정수와 문자열은 서로 더할 수 없기 때문에 형 오류 발생"
   ]
  },
  {
   "cell_type": "code",
   "execution_count": 154,
   "id": "20cc7ad4-a95a-4ca4-bb48-07063c490f3f",
   "metadata": {
    "tags": []
   },
   "outputs": [
    {
     "data": {
      "text/plain": [
       "'3hi'"
      ]
     },
     "execution_count": 154,
     "metadata": {},
     "output_type": "execute_result"
    }
   ],
   "source": [
    "str(a[2]) + \"hi\""
   ]
  },
  {
   "cell_type": "markdown",
   "id": "ee517c26-8ff9-4dc0-92c5-b95a06badc49",
   "metadata": {},
   "source": [
    "### 리스트의 수정과 삭제"
   ]
  },
  {
   "cell_type": "markdown",
   "id": "bd186700-a344-4d3a-83c9-e50f7297b086",
   "metadata": {},
   "source": [
    "#### 리스트에서 값 수정"
   ]
  },
  {
   "cell_type": "code",
   "execution_count": 155,
   "id": "128eeaf7-361b-438e-a800-de7dfb1dc853",
   "metadata": {
    "tags": []
   },
   "outputs": [],
   "source": [
    "a = [1,2,3]"
   ]
  },
  {
   "cell_type": "code",
   "execution_count": 156,
   "id": "d8d30c07-3542-4646-ae0c-c92c79e892a3",
   "metadata": {
    "tags": []
   },
   "outputs": [],
   "source": [
    "a[2] = 4"
   ]
  },
  {
   "cell_type": "code",
   "execution_count": 157,
   "id": "f817d44c-0c26-4c43-82ae-ee0718bec428",
   "metadata": {
    "tags": []
   },
   "outputs": [
    {
     "data": {
      "text/plain": [
       "[1, 2, 4]"
      ]
     },
     "execution_count": 157,
     "metadata": {},
     "output_type": "execute_result"
    }
   ],
   "source": [
    "a"
   ]
  },
  {
   "cell_type": "markdown",
   "id": "ada7a773-4bbf-426f-9b80-e684d847094d",
   "metadata": {},
   "source": [
    "#### 리스트 요소 삭제(del 함수)"
   ]
  },
  {
   "cell_type": "code",
   "execution_count": 158,
   "id": "ff46c6b7-0310-4fed-987d-b6637610ee44",
   "metadata": {
    "tags": []
   },
   "outputs": [],
   "source": [
    "a = [1,2,3]"
   ]
  },
  {
   "cell_type": "code",
   "execution_count": 159,
   "id": "93f56b80-5146-466e-9b43-11f42a09bbba",
   "metadata": {
    "tags": []
   },
   "outputs": [],
   "source": [
    "del a[1]"
   ]
  },
  {
   "cell_type": "code",
   "execution_count": 160,
   "id": "0fab4ec9-a056-489b-bdc5-8a24712b7f32",
   "metadata": {
    "tags": []
   },
   "outputs": [
    {
     "data": {
      "text/plain": [
       "[1, 3]"
      ]
     },
     "execution_count": 160,
     "metadata": {},
     "output_type": "execute_result"
    }
   ],
   "source": [
    "a"
   ]
  },
  {
   "cell_type": "code",
   "execution_count": 161,
   "id": "7f085968-c316-4d3c-b436-af219b9422be",
   "metadata": {
    "tags": []
   },
   "outputs": [],
   "source": [
    "a = [1,2,3,4,5]"
   ]
  },
  {
   "cell_type": "code",
   "execution_count": 162,
   "id": "ab894b12-2e79-46e5-aad2-aad346ed66f2",
   "metadata": {
    "tags": []
   },
   "outputs": [],
   "source": [
    "del a[2:]"
   ]
  },
  {
   "cell_type": "code",
   "execution_count": 163,
   "id": "4840b3f7-56c7-419a-9afb-64d6c15e0201",
   "metadata": {
    "tags": []
   },
   "outputs": [
    {
     "data": {
      "text/plain": [
       "[1, 2]"
      ]
     },
     "execution_count": 163,
     "metadata": {},
     "output_type": "execute_result"
    }
   ],
   "source": [
    "a"
   ]
  },
  {
   "cell_type": "markdown",
   "id": "18d6df62-e85d-4c97-9527-b671dd2073d7",
   "metadata": {},
   "source": [
    "### 리스트 관련 함수"
   ]
  },
  {
   "cell_type": "markdown",
   "id": "bd0082c1-7365-4143-95e9-58ea208fbe7f",
   "metadata": {},
   "source": [
    "#### 리스트에 요소 추가(append)"
   ]
  },
  {
   "cell_type": "code",
   "execution_count": 164,
   "id": "1a650a87-ce39-4dbc-ba74-ac2ad4fda593",
   "metadata": {
    "tags": []
   },
   "outputs": [],
   "source": [
    "a = [1,2,3]"
   ]
  },
  {
   "cell_type": "code",
   "execution_count": 165,
   "id": "2381670c-b2a0-4a01-9281-024031cd586d",
   "metadata": {
    "tags": []
   },
   "outputs": [],
   "source": [
    "a.append(4)"
   ]
  },
  {
   "cell_type": "code",
   "execution_count": 166,
   "id": "ec89562d-e23d-4cda-89ea-58b5dfacb9f9",
   "metadata": {
    "tags": []
   },
   "outputs": [
    {
     "data": {
      "text/plain": [
       "[1, 2, 3, 4]"
      ]
     },
     "execution_count": 166,
     "metadata": {},
     "output_type": "execute_result"
    }
   ],
   "source": [
    "a"
   ]
  },
  {
   "cell_type": "code",
   "execution_count": 167,
   "id": "86089d8c-adff-4d66-ad9b-9293f89bb3ea",
   "metadata": {
    "tags": []
   },
   "outputs": [],
   "source": [
    "a.append([5,6])"
   ]
  },
  {
   "cell_type": "code",
   "execution_count": 168,
   "id": "7f7900af-6a54-4f7c-b046-13aab0e8abed",
   "metadata": {
    "tags": []
   },
   "outputs": [
    {
     "data": {
      "text/plain": [
       "[1, 2, 3, 4, [5, 6]]"
      ]
     },
     "execution_count": 168,
     "metadata": {},
     "output_type": "execute_result"
    }
   ],
   "source": [
    "a"
   ]
  },
  {
   "cell_type": "markdown",
   "id": "90c2b585-f945-4ae0-ad29-7bfb468920b2",
   "metadata": {},
   "source": [
    "#### 리스트 정렬(sort)"
   ]
  },
  {
   "cell_type": "code",
   "execution_count": 169,
   "id": "b49e33f5-7039-46bb-990e-6e67bb0b5309",
   "metadata": {
    "tags": []
   },
   "outputs": [],
   "source": [
    "a = [1,4,3,2]"
   ]
  },
  {
   "cell_type": "code",
   "execution_count": 170,
   "id": "5ac21d13-4e0e-449a-9771-1bbb2ad92041",
   "metadata": {
    "tags": []
   },
   "outputs": [],
   "source": [
    "a.sort()"
   ]
  },
  {
   "cell_type": "code",
   "execution_count": 171,
   "id": "c0da2865-20b9-47f0-ba12-34a85a34a090",
   "metadata": {
    "tags": []
   },
   "outputs": [
    {
     "data": {
      "text/plain": [
       "[1, 2, 3, 4]"
      ]
     },
     "execution_count": 171,
     "metadata": {},
     "output_type": "execute_result"
    }
   ],
   "source": [
    "a"
   ]
  },
  {
   "cell_type": "code",
   "execution_count": 172,
   "id": "85d7e0e7-1edf-4448-80af-a7a5fcb925a5",
   "metadata": {
    "tags": []
   },
   "outputs": [],
   "source": [
    "a = ['a','c','b']"
   ]
  },
  {
   "cell_type": "code",
   "execution_count": 173,
   "id": "89f6ad7e-a72e-48a7-99bf-32e8820847c9",
   "metadata": {
    "tags": []
   },
   "outputs": [],
   "source": [
    "a.sort()"
   ]
  },
  {
   "cell_type": "code",
   "execution_count": 174,
   "id": "eb8efe9f-cbb1-4d10-acb7-031bf55b318d",
   "metadata": {
    "tags": []
   },
   "outputs": [
    {
     "data": {
      "text/plain": [
       "['a', 'b', 'c']"
      ]
     },
     "execution_count": 174,
     "metadata": {},
     "output_type": "execute_result"
    }
   ],
   "source": [
    "a"
   ]
  },
  {
   "cell_type": "markdown",
   "id": "bcad255b-f868-4f2a-acdf-77a9191129de",
   "metadata": {},
   "source": [
    "#### 리스트 뒤집기(reverse)"
   ]
  },
  {
   "cell_type": "code",
   "execution_count": 175,
   "id": "daf46e6f-8112-47bb-b4d2-5bbf56cf2307",
   "metadata": {
    "tags": []
   },
   "outputs": [],
   "source": [
    "a = ['a','c','b']"
   ]
  },
  {
   "cell_type": "code",
   "execution_count": 176,
   "id": "d80f80f9-80c1-46d4-8052-f00058730347",
   "metadata": {
    "tags": []
   },
   "outputs": [],
   "source": [
    "a.reverse()"
   ]
  },
  {
   "cell_type": "code",
   "execution_count": 177,
   "id": "8dcd67e4-1158-4d9e-b016-c9732ae98e2a",
   "metadata": {
    "tags": []
   },
   "outputs": [
    {
     "data": {
      "text/plain": [
       "['b', 'c', 'a']"
      ]
     },
     "execution_count": 177,
     "metadata": {},
     "output_type": "execute_result"
    }
   ],
   "source": [
    "a\n",
    "# 계속 뒤집기 가능"
   ]
  },
  {
   "cell_type": "markdown",
   "id": "9831b31f-e021-4bc9-b735-4cf4faad6349",
   "metadata": {},
   "source": [
    "#### 위치 반환(index)"
   ]
  },
  {
   "cell_type": "code",
   "execution_count": 178,
   "id": "7fe1f8ee-9dbf-4b37-8dc9-056a4abbf299",
   "metadata": {
    "tags": []
   },
   "outputs": [],
   "source": [
    "a = [1,2,3]"
   ]
  },
  {
   "cell_type": "code",
   "execution_count": 179,
   "id": "db09d334-7d42-4dbb-8497-1a2b624b6d47",
   "metadata": {
    "tags": []
   },
   "outputs": [
    {
     "data": {
      "text/plain": [
       "2"
      ]
     },
     "execution_count": 179,
     "metadata": {},
     "output_type": "execute_result"
    }
   ],
   "source": [
    "a.index(3) #3은 리스트 a의 세 번째(a[2])요소"
   ]
  },
  {
   "cell_type": "code",
   "execution_count": 180,
   "id": "f47a20f0-d28d-477a-b72b-445c3743aace",
   "metadata": {
    "tags": []
   },
   "outputs": [
    {
     "data": {
      "text/plain": [
       "0"
      ]
     },
     "execution_count": 180,
     "metadata": {},
     "output_type": "execute_result"
    }
   ],
   "source": [
    "a.index(1) #1은 리스트 a의 첫 번째(a[0])요소"
   ]
  },
  {
   "cell_type": "code",
   "execution_count": 181,
   "id": "f1fafea0-ba43-4ce9-b316-fbdb85ce867b",
   "metadata": {
    "tags": []
   },
   "outputs": [
    {
     "ename": "ValueError",
     "evalue": "0 is not in list",
     "output_type": "error",
     "traceback": [
      "\u001b[1;31m---------------------------------------------------------------------------\u001b[0m",
      "\u001b[1;31mValueError\u001b[0m                                Traceback (most recent call last)",
      "Cell \u001b[1;32mIn[181], line 1\u001b[0m\n\u001b[1;32m----> 1\u001b[0m \u001b[43ma\u001b[49m\u001b[38;5;241;43m.\u001b[39;49m\u001b[43mindex\u001b[49m\u001b[43m(\u001b[49m\u001b[38;5;241;43m0\u001b[39;49m\u001b[43m)\u001b[49m\n\u001b[0;32m      2\u001b[0m \u001b[38;5;66;03m#값 0은 a 리스트에 존재하지 않기 때문에 값 오류(ValueError) 발생\u001b[39;00m\n",
      "\u001b[1;31mValueError\u001b[0m: 0 is not in list"
     ]
    }
   ],
   "source": [
    "a.index(0)\n",
    "#값 0은 a 리스트에 존재하지 않기 때문에 값 오류(ValueError) 발생"
   ]
  },
  {
   "cell_type": "markdown",
   "id": "4318e966-9dd4-42de-9e3b-06fff4d9b8b9",
   "metadata": {},
   "source": [
    "#### 리스트에 요소 삽입(insert)"
   ]
  },
  {
   "cell_type": "code",
   "execution_count": 182,
   "id": "7c99df49-b1c6-4745-ba4f-283dc71110c6",
   "metadata": {
    "tags": []
   },
   "outputs": [],
   "source": [
    "a = [1,2,3]"
   ]
  },
  {
   "cell_type": "code",
   "execution_count": 183,
   "id": "042b253b-0f32-4f74-a37a-d12390bb9f05",
   "metadata": {
    "tags": []
   },
   "outputs": [],
   "source": [
    "a.insert(0,4) # a[0] 위치에 4 삽입"
   ]
  },
  {
   "cell_type": "code",
   "execution_count": 184,
   "id": "1de2492d-0017-4f2a-9633-5e178e26d255",
   "metadata": {
    "tags": []
   },
   "outputs": [
    {
     "data": {
      "text/plain": [
       "[4, 1, 2, 3]"
      ]
     },
     "execution_count": 184,
     "metadata": {},
     "output_type": "execute_result"
    }
   ],
   "source": [
    "a"
   ]
  },
  {
   "cell_type": "code",
   "execution_count": 187,
   "id": "d79bb305-c14a-4023-9fe1-a851e0581a5f",
   "metadata": {
    "tags": []
   },
   "outputs": [],
   "source": [
    "a.insert(3, 5) #a[3] 위치에 5 삽입"
   ]
  },
  {
   "cell_type": "code",
   "execution_count": 188,
   "id": "8a135864-5663-405f-9e91-d286cdcba996",
   "metadata": {
    "tags": []
   },
   "outputs": [
    {
     "data": {
      "text/plain": [
       "[4, 1, 2, 5, 5, 3]"
      ]
     },
     "execution_count": 188,
     "metadata": {},
     "output_type": "execute_result"
    }
   ],
   "source": [
    "a"
   ]
  },
  {
   "cell_type": "markdown",
   "id": "019fcb69-58bf-42a0-9ae1-14ab6199b1da",
   "metadata": {},
   "source": [
    "#### 리스트 요소 제거(remove)\n",
    "- remove(x)는 리스트에서 첫 번째로 나오는 x를 삭제"
   ]
  },
  {
   "cell_type": "code",
   "execution_count": 189,
   "id": "d71c74ef-d9be-4274-8b28-48537e4bedc2",
   "metadata": {
    "tags": []
   },
   "outputs": [],
   "source": [
    "a = [1,2,3,1,2,3]"
   ]
  },
  {
   "cell_type": "code",
   "execution_count": 190,
   "id": "47942815-a876-4f30-89ca-60e4a4b666a2",
   "metadata": {
    "tags": []
   },
   "outputs": [],
   "source": [
    "a.remove(3)"
   ]
  },
  {
   "cell_type": "code",
   "execution_count": 191,
   "id": "d8a7a7a0-90d4-418a-84e0-4486874544c3",
   "metadata": {
    "tags": []
   },
   "outputs": [
    {
     "data": {
      "text/plain": [
       "[1, 2, 1, 2, 3]"
      ]
     },
     "execution_count": 191,
     "metadata": {},
     "output_type": "execute_result"
    }
   ],
   "source": [
    "a"
   ]
  },
  {
   "cell_type": "code",
   "execution_count": 192,
   "id": "6e053148-355f-4b50-a6e9-c224bff2e51e",
   "metadata": {
    "tags": []
   },
   "outputs": [],
   "source": [
    "a.remove(3)"
   ]
  },
  {
   "cell_type": "code",
   "execution_count": 193,
   "id": "70c756cd-8263-431e-a583-6e592d651803",
   "metadata": {
    "tags": []
   },
   "outputs": [
    {
     "data": {
      "text/plain": [
       "[1, 2, 1, 2]"
      ]
     },
     "execution_count": 193,
     "metadata": {},
     "output_type": "execute_result"
    }
   ],
   "source": [
    "a"
   ]
  },
  {
   "cell_type": "markdown",
   "id": "f5b4c866-cd11-4852-90e8-3aea174d6e22",
   "metadata": {},
   "source": [
    "#### 리스트 요소 끄집어내기(pop)\n",
    "- pop()은 리스트의 맨 마지막 요소를 돌려주고 그 요소는 삭제"
   ]
  },
  {
   "cell_type": "code",
   "execution_count": 194,
   "id": "8dd1cec3-83f5-4e2a-ac49-d0b11628e724",
   "metadata": {
    "tags": []
   },
   "outputs": [],
   "source": [
    "a = [1,2,3]"
   ]
  },
  {
   "cell_type": "code",
   "execution_count": 195,
   "id": "4b7e1dae-de8c-48da-adc5-c88962071993",
   "metadata": {
    "tags": []
   },
   "outputs": [
    {
     "data": {
      "text/plain": [
       "3"
      ]
     },
     "execution_count": 195,
     "metadata": {},
     "output_type": "execute_result"
    }
   ],
   "source": [
    "a.pop()"
   ]
  },
  {
   "cell_type": "code",
   "execution_count": 196,
   "id": "e3f4d6b4-003e-48df-bff9-2778a53036ac",
   "metadata": {
    "tags": []
   },
   "outputs": [
    {
     "data": {
      "text/plain": [
       "[1, 2]"
      ]
     },
     "execution_count": 196,
     "metadata": {},
     "output_type": "execute_result"
    }
   ],
   "source": [
    "a"
   ]
  },
  {
   "cell_type": "code",
   "execution_count": 197,
   "id": "0f75b581-9944-485c-bc09-f6ec5121006c",
   "metadata": {
    "tags": []
   },
   "outputs": [],
   "source": [
    "a= [1,2,3]"
   ]
  },
  {
   "cell_type": "markdown",
   "id": "845055f2-e2af-4cb7-a216-1a93c65756e6",
   "metadata": {},
   "source": [
    "- pop(x)는 리스트의 x번재 요소를 돌려주고 그 요소는 삭제"
   ]
  },
  {
   "cell_type": "code",
   "execution_count": 198,
   "id": "9fe36074-97b0-4580-b050-002483482871",
   "metadata": {
    "tags": []
   },
   "outputs": [
    {
     "data": {
      "text/plain": [
       "2"
      ]
     },
     "execution_count": 198,
     "metadata": {},
     "output_type": "execute_result"
    }
   ],
   "source": [
    "a.pop(1)"
   ]
  },
  {
   "cell_type": "code",
   "execution_count": 199,
   "id": "64316f66-0684-475d-9dde-976f2f4dcf3a",
   "metadata": {
    "tags": []
   },
   "outputs": [
    {
     "data": {
      "text/plain": [
       "[1, 3]"
      ]
     },
     "execution_count": 199,
     "metadata": {},
     "output_type": "execute_result"
    }
   ],
   "source": [
    "a"
   ]
  },
  {
   "cell_type": "markdown",
   "id": "892d52bf-54e3-4d7a-8013-b5e9677dc595",
   "metadata": {},
   "source": [
    "#### 리스트에 포함된 요소 x의 개수 세기(count)"
   ]
  },
  {
   "cell_type": "code",
   "execution_count": 200,
   "id": "aec1f2a0-3971-437d-bb6c-35665f132bff",
   "metadata": {
    "tags": []
   },
   "outputs": [],
   "source": [
    "a = [1,2,3,1]"
   ]
  },
  {
   "cell_type": "code",
   "execution_count": 201,
   "id": "766ede4e-03b5-4a49-9e5c-d03fbf0d5ad6",
   "metadata": {
    "tags": []
   },
   "outputs": [
    {
     "data": {
      "text/plain": [
       "2"
      ]
     },
     "execution_count": 201,
     "metadata": {},
     "output_type": "execute_result"
    }
   ],
   "source": [
    "a.count(1)"
   ]
  },
  {
   "cell_type": "markdown",
   "id": "7d9ec1cd-79f8-4822-a38f-18157302af46",
   "metadata": {},
   "source": [
    "#### 리스트 확장(extend)\n",
    "- extend(x)에서 x에는 리스트만 올 수 있으며 원래의 a 리스트에 x리스트를 더하게 된다.\n",
    "- a.extend([4,5])는 a += [4,5]와 동일하다."
   ]
  },
  {
   "cell_type": "code",
   "execution_count": 202,
   "id": "e91117d8-5356-4c8c-8c0a-1b2b8be064bf",
   "metadata": {
    "tags": []
   },
   "outputs": [],
   "source": [
    "a = [1,2,3]"
   ]
  },
  {
   "cell_type": "code",
   "execution_count": 203,
   "id": "a161ae61-2d8e-41c1-8fcd-d5e0d843d2d0",
   "metadata": {
    "tags": []
   },
   "outputs": [],
   "source": [
    "a.extend([4,5])"
   ]
  },
  {
   "cell_type": "code",
   "execution_count": 205,
   "id": "2d796171-f9c4-4c2c-8ca2-929aa702f84a",
   "metadata": {
    "tags": []
   },
   "outputs": [
    {
     "data": {
      "text/plain": [
       "[1, 2, 3, 4, 5]"
      ]
     },
     "execution_count": 205,
     "metadata": {},
     "output_type": "execute_result"
    }
   ],
   "source": [
    "a"
   ]
  },
  {
   "cell_type": "code",
   "execution_count": 206,
   "id": "0859c819-7d09-4129-84f9-86782b0bef65",
   "metadata": {
    "tags": []
   },
   "outputs": [],
   "source": [
    "b = [6,7]"
   ]
  },
  {
   "cell_type": "code",
   "execution_count": 207,
   "id": "fee9dc30-7f22-4fed-abb3-9df343f620fa",
   "metadata": {
    "tags": []
   },
   "outputs": [],
   "source": [
    "a.extend(b)"
   ]
  },
  {
   "cell_type": "code",
   "execution_count": 208,
   "id": "a7093874-72c0-42a6-bd98-cabc7642d75f",
   "metadata": {
    "tags": []
   },
   "outputs": [
    {
     "data": {
      "text/plain": [
       "[1, 2, 3, 4, 5, 6, 7]"
      ]
     },
     "execution_count": 208,
     "metadata": {},
     "output_type": "execute_result"
    }
   ],
   "source": [
    "a"
   ]
  },
  {
   "cell_type": "markdown",
   "id": "337605b9-be12-48b0-b203-1bb02cf5f656",
   "metadata": {
    "tags": []
   },
   "source": [
    "## 2-4 튜플 자료형\n",
    "튜플(tuple)은 몇 가지 점을 제외하곤 리스트와 거의 비슷하며 리스트와 다른 점은 다음과 같다.\n",
    "- 리스트는 []로 둘러싸지만 튜플은 ()로 둘러싼다.\n",
    "- 리스트는 그 값의 생성, 삭제, 수정이 가능하지만 튜플은 그 값을 바꿀 수 없다.\n"
   ]
  },
  {
   "cell_type": "code",
   "execution_count": 210,
   "id": "96de4638-ffb7-49b7-98eb-0cf18d0de34f",
   "metadata": {
    "tags": []
   },
   "outputs": [],
   "source": [
    "t1 = ()"
   ]
  },
  {
   "cell_type": "code",
   "execution_count": 218,
   "id": "bb6a447b-6f2a-4a75-9567-9c4b961ea50d",
   "metadata": {
    "tags": []
   },
   "outputs": [],
   "source": [
    "t2 = (1,) # 단지 한 개의 요소만을 가질 대는 요소 뒤에 콤마(,)를 반드시 붙여야 한다."
   ]
  },
  {
   "cell_type": "code",
   "execution_count": 213,
   "id": "bd56d84f-a49a-4d95-8122-f702a2c89c8b",
   "metadata": {
    "tags": []
   },
   "outputs": [],
   "source": [
    "t3 = (1,2,3)"
   ]
  },
  {
   "cell_type": "code",
   "execution_count": 219,
   "id": "ad768c6d-64a8-4976-ac47-d2d9ee0cc692",
   "metadata": {
    "tags": []
   },
   "outputs": [],
   "source": [
    "t4 = 1,2,3 # 괄호를 생략해도 무방"
   ]
  },
  {
   "cell_type": "code",
   "execution_count": 215,
   "id": "8bc0e85a-9807-415f-9f6f-785e751f514e",
   "metadata": {
    "tags": []
   },
   "outputs": [],
   "source": [
    "t5 = ('a', 'b', ('ab', 'cd'))"
   ]
  },
  {
   "cell_type": "markdown",
   "id": "4eefd1d9-431b-4e54-a9fa-c6a21e6ccad4",
   "metadata": {
    "tags": []
   },
   "source": [
    "### 튜플의 요솟값을 지우거나 변경하려고 하면 어떻게 될까?"
   ]
  },
  {
   "cell_type": "markdown",
   "id": "3bedf75b-cc97-4d37-8d42-603bbd01881e",
   "metadata": {},
   "source": [
    "#### 1. 튜플 요솟값을 삭제하려 할 때"
   ]
  },
  {
   "cell_type": "code",
   "execution_count": 222,
   "id": "4c15bd72-6110-4391-aa11-d3d043df6018",
   "metadata": {
    "tags": []
   },
   "outputs": [
    {
     "ename": "TypeError",
     "evalue": "'tuple' object doesn't support item deletion",
     "output_type": "error",
     "traceback": [
      "\u001b[1;31m---------------------------------------------------------------------------\u001b[0m",
      "\u001b[1;31mTypeError\u001b[0m                                 Traceback (most recent call last)",
      "Cell \u001b[1;32mIn[222], line 2\u001b[0m\n\u001b[0;32m      1\u001b[0m t1 \u001b[38;5;241m=\u001b[39m (\u001b[38;5;241m1\u001b[39m,\u001b[38;5;241m2\u001b[39m,\u001b[38;5;124m'\u001b[39m\u001b[38;5;124ma\u001b[39m\u001b[38;5;124m'\u001b[39m,\u001b[38;5;124m'\u001b[39m\u001b[38;5;124mb\u001b[39m\u001b[38;5;124m'\u001b[39m)\n\u001b[1;32m----> 2\u001b[0m \u001b[38;5;28;01mdel\u001b[39;00m t1[\u001b[38;5;241m10\u001b[39m]\n",
      "\u001b[1;31mTypeError\u001b[0m: 'tuple' object doesn't support item deletion"
     ]
    }
   ],
   "source": [
    "t1 = (1,2,'a','b')\n",
    "del t1[10] # 형 오류(Type Error) 발생"
   ]
  },
  {
   "cell_type": "markdown",
   "id": "6bc07074-ac54-4bb5-abc3-0320ca6f65c1",
   "metadata": {},
   "source": [
    "#### 2. 튜플 요솟값을 변경하려 할 때"
   ]
  },
  {
   "cell_type": "code",
   "execution_count": 223,
   "id": "d5d329ca-a37c-491e-ba97-adad180c7951",
   "metadata": {
    "tags": []
   },
   "outputs": [],
   "source": [
    "t1 = (1,2,'a','b')"
   ]
  },
  {
   "cell_type": "code",
   "execution_count": 224,
   "id": "8963f9a8-7888-4dfa-b138-d7d743444245",
   "metadata": {
    "tags": []
   },
   "outputs": [
    {
     "ename": "TypeError",
     "evalue": "'tuple' object does not support item assignment",
     "output_type": "error",
     "traceback": [
      "\u001b[1;31m---------------------------------------------------------------------------\u001b[0m",
      "\u001b[1;31mTypeError\u001b[0m                                 Traceback (most recent call last)",
      "Cell \u001b[1;32mIn[224], line 1\u001b[0m\n\u001b[1;32m----> 1\u001b[0m \u001b[43mt1\u001b[49m\u001b[43m[\u001b[49m\u001b[38;5;241;43m0\u001b[39;49m\u001b[43m]\u001b[49m \u001b[38;5;241m=\u001b[39m \u001b[38;5;124m'\u001b[39m\u001b[38;5;124mc\u001b[39m\u001b[38;5;124m'\u001b[39m\n",
      "\u001b[1;31mTypeError\u001b[0m: 'tuple' object does not support item assignment"
     ]
    }
   ],
   "source": [
    "t1[0] = 'c' # 형 오류 발생"
   ]
  },
  {
   "cell_type": "markdown",
   "id": "ea835d19-57d1-4da1-912b-46f94c98b3cc",
   "metadata": {},
   "source": [
    "### 튜플 다루기"
   ]
  },
  {
   "cell_type": "markdown",
   "id": "18bacb0a-38c3-4aab-980a-cc8c062d2c25",
   "metadata": {},
   "source": [
    "#### 1. 인덱싱하기"
   ]
  },
  {
   "cell_type": "code",
   "execution_count": 225,
   "id": "08d18c0c-847a-461f-84d2-7998b7f3bf28",
   "metadata": {
    "tags": []
   },
   "outputs": [],
   "source": [
    "t1 = (1,2,'a','b')"
   ]
  },
  {
   "cell_type": "code",
   "execution_count": 226,
   "id": "8a62cce9-100d-4063-a5c7-409a6d1628fe",
   "metadata": {
    "tags": []
   },
   "outputs": [
    {
     "data": {
      "text/plain": [
       "1"
      ]
     },
     "execution_count": 226,
     "metadata": {},
     "output_type": "execute_result"
    }
   ],
   "source": [
    "t1[0]"
   ]
  },
  {
   "cell_type": "code",
   "execution_count": 227,
   "id": "0665d818-7978-4281-aad4-16d15ed65f13",
   "metadata": {
    "tags": []
   },
   "outputs": [
    {
     "data": {
      "text/plain": [
       "'b'"
      ]
     },
     "execution_count": 227,
     "metadata": {},
     "output_type": "execute_result"
    }
   ],
   "source": [
    "t1[3]"
   ]
  },
  {
   "cell_type": "markdown",
   "id": "b32b3049-1434-491d-a683-63476506b570",
   "metadata": {},
   "source": [
    "#### 2. 슬라이싱하기"
   ]
  },
  {
   "cell_type": "code",
   "execution_count": 228,
   "id": "81a74138-d257-40cf-9aeb-c59bf54852fc",
   "metadata": {
    "tags": []
   },
   "outputs": [],
   "source": [
    "t1 = (1,2,'a','b')"
   ]
  },
  {
   "cell_type": "code",
   "execution_count": 229,
   "id": "489eb661-8adc-4c56-b494-b853e99994b1",
   "metadata": {
    "tags": []
   },
   "outputs": [
    {
     "data": {
      "text/plain": [
       "(2, 'a', 'b')"
      ]
     },
     "execution_count": 229,
     "metadata": {},
     "output_type": "execute_result"
    }
   ],
   "source": [
    "t1[1:]"
   ]
  },
  {
   "cell_type": "markdown",
   "id": "fc9e7f31-8a7a-45fd-b9e3-d2e962d401f3",
   "metadata": {},
   "source": [
    "#### 3. 튜플 더하기"
   ]
  },
  {
   "cell_type": "code",
   "execution_count": 230,
   "id": "d2560c15-36c2-400d-a347-a7f25b078798",
   "metadata": {
    "tags": []
   },
   "outputs": [],
   "source": [
    "t2 = (3,4)"
   ]
  },
  {
   "cell_type": "code",
   "execution_count": 231,
   "id": "d4d83037-29c1-4139-aeca-d1ac0f70db36",
   "metadata": {
    "tags": []
   },
   "outputs": [
    {
     "data": {
      "text/plain": [
       "(1, 2, 'a', 'b', 3, 4)"
      ]
     },
     "execution_count": 231,
     "metadata": {},
     "output_type": "execute_result"
    }
   ],
   "source": [
    "t1 + t2"
   ]
  },
  {
   "cell_type": "markdown",
   "id": "012db009-a473-41d2-a3e6-74e8cae7fc5e",
   "metadata": {},
   "source": [
    "#### 4. 튜플 곱하기"
   ]
  },
  {
   "cell_type": "code",
   "execution_count": 232,
   "id": "b98242b0-74c2-434a-abc9-c4bbdd702257",
   "metadata": {
    "tags": []
   },
   "outputs": [
    {
     "data": {
      "text/plain": [
       "(3, 4, 3, 4, 3, 4)"
      ]
     },
     "execution_count": 232,
     "metadata": {},
     "output_type": "execute_result"
    }
   ],
   "source": [
    "t2 * 3"
   ]
  },
  {
   "cell_type": "markdown",
   "id": "948714ef-15ec-4388-9281-84471d14c902",
   "metadata": {},
   "source": [
    "#### 5. 튜플 길이 구하기"
   ]
  },
  {
   "cell_type": "code",
   "execution_count": 233,
   "id": "afe315a7-6cad-410b-869a-a2eb2391e667",
   "metadata": {
    "tags": []
   },
   "outputs": [],
   "source": [
    "t1  =(1,2,'a','b')"
   ]
  },
  {
   "cell_type": "code",
   "execution_count": 234,
   "id": "c62f5497-7b25-4966-82ed-b5eecfae7e31",
   "metadata": {
    "tags": []
   },
   "outputs": [
    {
     "data": {
      "text/plain": [
       "4"
      ]
     },
     "execution_count": 234,
     "metadata": {},
     "output_type": "execute_result"
    }
   ],
   "source": [
    "len(t1)"
   ]
  },
  {
   "cell_type": "markdown",
   "id": "cbcca904-d69a-4f82-91c6-deba4903fdc5",
   "metadata": {},
   "source": [
    "- 문제"
   ]
  },
  {
   "cell_type": "code",
   "execution_count": 235,
   "id": "8fecb3e7-e0a7-47b8-874f-5259a0384e62",
   "metadata": {
    "tags": []
   },
   "outputs": [
    {
     "data": {
      "text/plain": [
       "(1, 2, 3, 4)"
      ]
     },
     "execution_count": 235,
     "metadata": {},
     "output_type": "execute_result"
    }
   ],
   "source": [
    "(1,2,3) + (4,)"
   ]
  },
  {
   "cell_type": "markdown",
   "id": "d190a036-b5ef-4396-bc93-a4c6fd8f2d06",
   "metadata": {},
   "source": [
    "## 2-5 딕셔너리 자료형"
   ]
  },
  {
   "cell_type": "markdown",
   "id": "3c91dc97-3998-4055-8fa0-dbb083430cd8",
   "metadata": {},
   "source": [
    "### 딕셔너리는 어떻게 만들까?\n",
    "- Key에는 변하지 않는 값을 사용하고, Value에는 변하는 값과 변하지 않는 값 모두 사용 가능"
   ]
  },
  {
   "cell_type": "code",
   "execution_count": 236,
   "id": "0c14c255-1e8e-4574-8d24-cdb3287400d8",
   "metadata": {
    "tags": []
   },
   "outputs": [],
   "source": [
    "dic = {'name':'pey', 'phone':'0119993323', 'birth':'1118'}"
   ]
  },
  {
   "cell_type": "code",
   "execution_count": 237,
   "id": "d6ea1275-3580-4d6d-825c-7a46be53a8b0",
   "metadata": {
    "tags": []
   },
   "outputs": [],
   "source": [
    "a = {1:'hi'}"
   ]
  },
  {
   "cell_type": "code",
   "execution_count": 239,
   "id": "d0d67ff9-d0c3-4737-b624-76904c2f6e62",
   "metadata": {
    "tags": []
   },
   "outputs": [],
   "source": [
    "a = {'a':[1,2,3]} # value에 리스트도 넣을 수 있다."
   ]
  },
  {
   "cell_type": "markdown",
   "id": "f1d208ae-15f0-47df-af66-55150e175a84",
   "metadata": {},
   "source": [
    "### 딕셔너리 쌍 추가, 삭제하기"
   ]
  },
  {
   "cell_type": "markdown",
   "id": "c6f47b05-863a-48c8-9668-d4811324a47f",
   "metadata": {
    "tags": []
   },
   "source": [
    "#### 1. 딕셔너리 쌍 추가하기"
   ]
  },
  {
   "cell_type": "code",
   "execution_count": 250,
   "id": "a46e23d8-6a00-45f0-98ef-64d7f6fbb941",
   "metadata": {
    "tags": []
   },
   "outputs": [],
   "source": [
    "a = {1:'a'}"
   ]
  },
  {
   "cell_type": "code",
   "execution_count": 251,
   "id": "52d5d59f-3cf7-4986-a4fe-db50373c3920",
   "metadata": {
    "tags": []
   },
   "outputs": [],
   "source": [
    "a[2] = 'b'"
   ]
  },
  {
   "cell_type": "code",
   "execution_count": 242,
   "id": "74a91b56-406a-45f0-a76a-1a22fe18b08e",
   "metadata": {
    "tags": []
   },
   "outputs": [
    {
     "data": {
      "text/plain": [
       "{1: 'a', 2: 'b'}"
      ]
     },
     "execution_count": 242,
     "metadata": {},
     "output_type": "execute_result"
    }
   ],
   "source": [
    "a"
   ]
  },
  {
   "cell_type": "code",
   "execution_count": 252,
   "id": "e1e49e88-e132-46f2-a684-c4eb4ffa0344",
   "metadata": {
    "tags": []
   },
   "outputs": [],
   "source": [
    "a['name'] = 'pey'"
   ]
  },
  {
   "cell_type": "code",
   "execution_count": 244,
   "id": "f815f6ee-ba09-4823-b474-6543329769fc",
   "metadata": {
    "tags": []
   },
   "outputs": [
    {
     "data": {
      "text/plain": [
       "{1: 'a', 2: 'b', 'name': 'pey'}"
      ]
     },
     "execution_count": 244,
     "metadata": {},
     "output_type": "execute_result"
    }
   ],
   "source": [
    "a"
   ]
  },
  {
   "cell_type": "code",
   "execution_count": 253,
   "id": "4976ed50-e1fa-4884-a232-859c52b91949",
   "metadata": {
    "tags": []
   },
   "outputs": [],
   "source": [
    "a[3] = [1,2,3]"
   ]
  },
  {
   "cell_type": "code",
   "execution_count": 246,
   "id": "248d1e73-e54b-4379-a996-e0b54af36a3d",
   "metadata": {
    "tags": []
   },
   "outputs": [
    {
     "data": {
      "text/plain": [
       "{1: 'a', 2: 'b', 'name': 'pey', 3: [1, 2, 3]}"
      ]
     },
     "execution_count": 246,
     "metadata": {},
     "output_type": "execute_result"
    }
   ],
   "source": [
    "a"
   ]
  },
  {
   "cell_type": "markdown",
   "id": "ed18a4fb-18fa-4316-b44d-8913e00dd755",
   "metadata": {},
   "source": [
    "#### 2. 딕셔너리 요소 삭제하기"
   ]
  },
  {
   "cell_type": "code",
   "execution_count": 254,
   "id": "96d8388c-6093-4654-9c67-b33ca36f34c7",
   "metadata": {
    "tags": []
   },
   "outputs": [],
   "source": [
    "del a[1] #key가 1인 key:value 쌍 삭제"
   ]
  },
  {
   "cell_type": "code",
   "execution_count": 256,
   "id": "999fb4c6-259d-4303-8863-1bebf1c52a3e",
   "metadata": {
    "tags": []
   },
   "outputs": [
    {
     "data": {
      "text/plain": [
       "{2: 'b', 'name': 'pey', 3: [1, 2, 3]}"
      ]
     },
     "execution_count": 256,
     "metadata": {},
     "output_type": "execute_result"
    }
   ],
   "source": [
    "a"
   ]
  },
  {
   "cell_type": "markdown",
   "id": "9bc43924-518c-4127-b7d1-4a6aee6e57b6",
   "metadata": {},
   "source": [
    "### 딕셔너리를 사용하는 방법"
   ]
  },
  {
   "cell_type": "markdown",
   "id": "f0798213-325e-4033-b713-d1c7de5306a5",
   "metadata": {},
   "source": [
    "##### 딕셔너리에서 Key 사용해 Value 얻기"
   ]
  },
  {
   "cell_type": "code",
   "execution_count": 257,
   "id": "322b6feb-2fc9-4be6-b51d-af723d51111e",
   "metadata": {
    "tags": []
   },
   "outputs": [],
   "source": [
    "grade = {'pey':10, 'juliet':99}"
   ]
  },
  {
   "cell_type": "code",
   "execution_count": 258,
   "id": "aa517f86-3f42-4a63-92b6-0a6ff757da4f",
   "metadata": {
    "tags": []
   },
   "outputs": [
    {
     "data": {
      "text/plain": [
       "10"
      ]
     },
     "execution_count": 258,
     "metadata": {},
     "output_type": "execute_result"
    }
   ],
   "source": [
    "grade['pey']"
   ]
  },
  {
   "cell_type": "code",
   "execution_count": 259,
   "id": "725c9b04-c4d9-40cc-be48-b835d180fa28",
   "metadata": {
    "tags": []
   },
   "outputs": [
    {
     "data": {
      "text/plain": [
       "99"
      ]
     },
     "execution_count": 259,
     "metadata": {},
     "output_type": "execute_result"
    }
   ],
   "source": [
    "grade['juliet']"
   ]
  },
  {
   "cell_type": "code",
   "execution_count": null,
   "id": "48f9cb3e-48d6-4a2c-85b1-29990d4ba037",
   "metadata": {},
   "outputs": [],
   "source": []
  }
 ],
 "metadata": {
  "kernelspec": {
   "display_name": "Python 3 (ipykernel)",
   "language": "python",
   "name": "python3"
  },
  "language_info": {
   "codemirror_mode": {
    "name": "ipython",
    "version": 3
   },
   "file_extension": ".py",
   "mimetype": "text/x-python",
   "name": "python",
   "nbconvert_exporter": "python",
   "pygments_lexer": "ipython3",
   "version": "3.10.9"
  },
  "toc-autonumbering": false
 },
 "nbformat": 4,
 "nbformat_minor": 5
}
