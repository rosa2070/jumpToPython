{
 "cells": [
  {
   "cell_type": "code",
   "execution_count": null,
   "id": "5793e3ac-d133-4133-8ede-0355b34d6d55",
   "metadata": {},
   "outputs": [],
   "source": [
    "#주피터 단축키 \n",
    "# esc + m : Markdown\n",
    "# esc + y : Code"
   ]
  },
  {
   "cell_type": "markdown",
   "id": "388f0eaa-2c4a-4c1f-8a3d-9abe9bdfd84b",
   "metadata": {
    "tags": []
   },
   "source": [
    "# 2. 파이썬 프로그래밍의 기초, 자료형"
   ]
  },
  {
   "cell_type": "markdown",
   "id": "d7bf8129-53df-4061-99c1-bbf4c000884a",
   "metadata": {
    "tags": []
   },
   "source": [
    "## 2-1 숫자형"
   ]
  },
  {
   "cell_type": "markdown",
   "id": "6e444491-42c7-488b-bab3-297d796b501f",
   "metadata": {
    "tags": []
   },
   "source": [
    "### 숫자형은 어떻게 만들고 사용할까?"
   ]
  },
  {
   "cell_type": "markdown",
   "id": "32c18b97-677e-4905-ac5c-54c8dbb86406",
   "metadata": {
    "tags": []
   },
   "source": [
    "#### (1) 정수형"
   ]
  },
  {
   "cell_type": "code",
   "execution_count": 47,
   "id": "27ff88a2-bf5f-4af3-8aa0-6e13c43e5475",
   "metadata": {
    "tags": []
   },
   "outputs": [],
   "source": [
    "a = 123"
   ]
  },
  {
   "cell_type": "code",
   "execution_count": 48,
   "id": "b4b0742d-1331-42b1-ab78-a00fe19f3208",
   "metadata": {
    "tags": []
   },
   "outputs": [],
   "source": [
    "a = -178"
   ]
  },
  {
   "cell_type": "code",
   "execution_count": 49,
   "id": "dbbabc0c-b51e-49a8-aa41-195442047645",
   "metadata": {
    "tags": []
   },
   "outputs": [],
   "source": [
    "a = 0"
   ]
  },
  {
   "cell_type": "markdown",
   "id": "f22d244c-3328-4224-8695-972a31ad1c61",
   "metadata": {},
   "source": [
    "#### (2) 실수형"
   ]
  },
  {
   "cell_type": "markdown",
   "id": "b02851d6-fe57-4280-b446-f214ecea9196",
   "metadata": {},
   "source": [
    "##### 일반적인 실수형의 소수점 표현 방식"
   ]
  },
  {
   "cell_type": "code",
   "execution_count": 50,
   "id": "7416e625-42c7-45ea-a382-4d6a08a611d3",
   "metadata": {
    "tags": []
   },
   "outputs": [],
   "source": [
    "a= 1.2"
   ]
  },
  {
   "cell_type": "code",
   "execution_count": 51,
   "id": "2fd22d06-16b8-47c6-b95d-f0bdc8093667",
   "metadata": {
    "tags": []
   },
   "outputs": [],
   "source": [
    "a = -3.45"
   ]
  },
  {
   "cell_type": "markdown",
   "id": "402a6d7e-8e8c-4d23-8554-5851578a76f3",
   "metadata": {},
   "source": [
    "##### 컴퓨터식 지수 표현 방식(E, e)"
   ]
  },
  {
   "cell_type": "code",
   "execution_count": 56,
   "id": "b637201d-e6cb-4580-afbf-d5d613b6fe58",
   "metadata": {
    "tags": []
   },
   "outputs": [
    {
     "data": {
      "text/plain": [
       "42400000000.0"
      ]
     },
     "execution_count": 56,
     "metadata": {},
     "output_type": "execute_result"
    }
   ],
   "source": [
    "# E나 e 중 어느 것을 사용해도 무방\n",
    "a = 4.24E10\n",
    "a"
   ]
  },
  {
   "cell_type": "code",
   "execution_count": 55,
   "id": "f41bd4e5-d964-448d-b6b4-3623c7c112f8",
   "metadata": {
    "tags": []
   },
   "outputs": [
    {
     "data": {
      "text/plain": [
       "4.24e-10"
      ]
     },
     "execution_count": 55,
     "metadata": {},
     "output_type": "execute_result"
    }
   ],
   "source": [
    "a= 4.24e-10\n",
    "a"
   ]
  },
  {
   "cell_type": "markdown",
   "id": "3671d436-0a65-4db2-8f62-1c63301aa4e4",
   "metadata": {
    "tags": []
   },
   "source": [
    "- 실수형의 소수점 표현 방식"
   ]
  },
  {
   "cell_type": "code",
   "execution_count": 10,
   "id": "803b2d33-6a18-4810-b15d-f99f69a7c177",
   "metadata": {
    "tags": []
   },
   "outputs": [
    {
     "name": "stdout",
     "output_type": "stream",
     "text": [
      "42400000000.0\n",
      "4.24e-10\n"
     ]
    }
   ],
   "source": [
    "# e와 E 중 어느 것을 사용해도 무방\n",
    "a = 4.24E10 \n",
    "b = 4.24e-10\n",
    "print(a) # 4.24 * 3\n",
    "print(b)"
   ]
  },
  {
   "cell_type": "code",
   "execution_count": 6,
   "id": "cbcba38c-5f25-4428-9868-e4e6d6b1c419",
   "metadata": {
    "tags": []
   },
   "outputs": [
    {
     "name": "stdout",
     "output_type": "stream",
     "text": [
      "1\n"
     ]
    }
   ],
   "source": [
    "a= 1\n",
    "print(a)"
   ]
  },
  {
   "cell_type": "markdown",
   "id": "e9fa9887-7be3-438c-8dd5-8ad21bb14881",
   "metadata": {},
   "source": [
    "#### (3) 8진수와 16진수"
   ]
  },
  {
   "cell_type": "code",
   "execution_count": 13,
   "id": "263707c1-7550-44c9-9e82-848b5bf143ef",
   "metadata": {
    "tags": []
   },
   "outputs": [
    {
     "name": "stdout",
     "output_type": "stream",
     "text": [
      "127\n"
     ]
    }
   ],
   "source": [
    "#https://itbeginner2020.tistory.com/17\n",
    "#8진수 : 0o 또는 0O로 시작\n",
    "a = 0o177\n",
    "print(a)"
   ]
  },
  {
   "cell_type": "code",
   "execution_count": 15,
   "id": "d1c8c106-d9c9-4fba-b2dc-448ddfa20324",
   "metadata": {
    "tags": []
   },
   "outputs": [
    {
     "name": "stdout",
     "output_type": "stream",
     "text": [
      "2303\n"
     ]
    }
   ],
   "source": [
    "#16진수 : 0x로 시작\n",
    "#a,b,c,d,e,f 는 각각 10,11,12,13,14,15에 해당\n",
    "a = 0x8ff\n",
    "print(a)"
   ]
  },
  {
   "cell_type": "markdown",
   "id": "1f09137d-eead-4f3b-9244-f74af4897d36",
   "metadata": {},
   "source": [
    "### 숫자형을 활용하기 위한 연산자"
   ]
  },
  {
   "cell_type": "markdown",
   "id": "2b6d2a93-57b6-400c-83d5-ccb7821b62ca",
   "metadata": {
    "tags": []
   },
   "source": [
    "#### (1) 사칙연산"
   ]
  },
  {
   "cell_type": "code",
   "execution_count": 58,
   "id": "01b0fc88-b5f2-42cc-b702-3fc5c2e74fb2",
   "metadata": {
    "tags": []
   },
   "outputs": [],
   "source": [
    "a=3"
   ]
  },
  {
   "cell_type": "code",
   "execution_count": 59,
   "id": "f489764b-049c-4c9a-b2ba-30d93100be37",
   "metadata": {
    "tags": []
   },
   "outputs": [],
   "source": [
    "b=4"
   ]
  },
  {
   "cell_type": "code",
   "execution_count": 60,
   "id": "9ebd2a52-b0ff-4a67-82ed-cc18f70324a8",
   "metadata": {
    "tags": []
   },
   "outputs": [
    {
     "data": {
      "text/plain": [
       "7"
      ]
     },
     "execution_count": 60,
     "metadata": {},
     "output_type": "execute_result"
    }
   ],
   "source": [
    "a+b"
   ]
  },
  {
   "cell_type": "code",
   "execution_count": 61,
   "id": "95e68ac7-6509-4eaf-a558-b6a760877ef6",
   "metadata": {
    "tags": []
   },
   "outputs": [
    {
     "data": {
      "text/plain": [
       "12"
      ]
     },
     "execution_count": 61,
     "metadata": {},
     "output_type": "execute_result"
    }
   ],
   "source": [
    "a*b"
   ]
  },
  {
   "cell_type": "code",
   "execution_count": 62,
   "id": "3bb3ef30-ed34-42ac-bad0-a98d6ebe7b48",
   "metadata": {
    "tags": []
   },
   "outputs": [
    {
     "data": {
      "text/plain": [
       "0.75"
      ]
     },
     "execution_count": 62,
     "metadata": {},
     "output_type": "execute_result"
    }
   ],
   "source": [
    "a/b"
   ]
  },
  {
   "cell_type": "markdown",
   "id": "e2e93f20-510d-4d15-85c8-754b68f2d923",
   "metadata": {},
   "source": [
    "#### (2) ** 연산자(제곱)"
   ]
  },
  {
   "cell_type": "code",
   "execution_count": 16,
   "id": "3a903574-3b29-4900-a11c-d9d8aaed18ea",
   "metadata": {
    "tags": []
   },
   "outputs": [
    {
     "data": {
      "text/plain": [
       "81"
      ]
     },
     "execution_count": 16,
     "metadata": {},
     "output_type": "execute_result"
    }
   ],
   "source": [
    "a = 3\n",
    "b = 4\n",
    "a ** b"
   ]
  },
  {
   "cell_type": "markdown",
   "id": "9e69fd8c-d67b-40a4-98eb-bbeb432e28b4",
   "metadata": {
    "tags": []
   },
   "source": [
    "#### (3) % 연산자(나머지 반환)"
   ]
  },
  {
   "cell_type": "code",
   "execution_count": 18,
   "id": "759ffea6-728f-4ec3-9f9d-64ee815b37a3",
   "metadata": {
    "tags": []
   },
   "outputs": [
    {
     "data": {
      "text/plain": [
       "1"
      ]
     },
     "execution_count": 18,
     "metadata": {},
     "output_type": "execute_result"
    }
   ],
   "source": [
    "7%3"
   ]
  },
  {
   "cell_type": "markdown",
   "id": "4697aeca-5512-4cab-bb3b-fc4cb0394daf",
   "metadata": {
    "tags": []
   },
   "source": [
    "#### (4) // 연산자(몫 반환)"
   ]
  },
  {
   "cell_type": "code",
   "execution_count": 24,
   "id": "818e9d7d-966b-4fcf-bf09-37f472a9b1fe",
   "metadata": {
    "tags": []
   },
   "outputs": [
    {
     "data": {
      "text/plain": [
       "1"
      ]
     },
     "execution_count": 24,
     "metadata": {},
     "output_type": "execute_result"
    }
   ],
   "source": [
    "7/4\n",
    "7//4"
   ]
  },
  {
   "cell_type": "markdown",
   "id": "5a99b74f-578a-4157-8c9a-eadba14b8293",
   "metadata": {},
   "source": [
    "- 퀴즈"
   ]
  },
  {
   "cell_type": "code",
   "execution_count": 27,
   "id": "f0435c72-fa8b-4283-84fc-cbf8367800d1",
   "metadata": {
    "tags": []
   },
   "outputs": [
    {
     "name": "stdout",
     "output_type": "stream",
     "text": [
      "4\n",
      "2\n"
     ]
    }
   ],
   "source": [
    "#14/3 몫, 나머지\n",
    "print(14//3)\n",
    "print(14%3)\n"
   ]
  },
  {
   "cell_type": "markdown",
   "id": "31bfd08d-8dde-458c-b083-6eb23ea36c87",
   "metadata": {},
   "source": [
    "## 2-2 문자열 자료형"
   ]
  },
  {
   "cell_type": "markdown",
   "id": "8e03c71e-c297-431a-b137-c5002523b05f",
   "metadata": {},
   "source": [
    "### 문자열은 어떻게 만들고 사용할까?"
   ]
  },
  {
   "cell_type": "markdown",
   "id": "59648d0d-a1df-4643-b4d4-b0dcdab6d4c3",
   "metadata": {},
   "source": [
    "#### 1. 큰 따옴표(\")로 양쪽 둘러싸기"
   ]
  },
  {
   "cell_type": "code",
   "execution_count": 29,
   "id": "63c84658-5938-4c50-9bc9-0cc7918b69bb",
   "metadata": {
    "tags": []
   },
   "outputs": [
    {
     "name": "stdout",
     "output_type": "stream",
     "text": [
      "Hello World\n"
     ]
    }
   ],
   "source": [
    "print(\"Hello World\")"
   ]
  },
  {
   "cell_type": "markdown",
   "id": "afacb5f0-2d13-445f-884d-12e64a67cbf4",
   "metadata": {
    "tags": []
   },
   "source": [
    "#### 2. 작은따옴표(\")로 양쪽 둘러싸기"
   ]
  },
  {
   "cell_type": "code",
   "execution_count": 30,
   "id": "0573f9d1-287c-44a4-a4cb-a89c86f29de4",
   "metadata": {
    "tags": []
   },
   "outputs": [
    {
     "name": "stdout",
     "output_type": "stream",
     "text": [
      "Python is fun\n"
     ]
    }
   ],
   "source": [
    "print('Python is fun')"
   ]
  },
  {
   "cell_type": "markdown",
   "id": "e47d7a55-1c19-44d2-9fb2-4b37359d852b",
   "metadata": {},
   "source": [
    "#### 3. 큰따옴표 3개를 연속(\"\"\")으로 양쪽"
   ]
  },
  {
   "cell_type": "code",
   "execution_count": 31,
   "id": "2b5d97d1-127d-46f2-a30d-4aed1b7406f3",
   "metadata": {
    "tags": []
   },
   "outputs": [
    {
     "name": "stdout",
     "output_type": "stream",
     "text": [
      "\n",
      "Life is too short,\n",
      "You nee python\n",
      "\n"
     ]
    }
   ],
   "source": [
    "print(\"\"\"\n",
    "Life is too short,\n",
    "You need python\n",
    "\"\"\")"
   ]
  },
  {
   "cell_type": "markdown",
   "id": "e980ca5a-0282-445e-9924-7f17b39da5f8",
   "metadata": {},
   "source": [
    "#### 4. 작은따옴표 3개를 연속(''')으로 양쪽"
   ]
  },
  {
   "cell_type": "code",
   "execution_count": 33,
   "id": "4ae4a90f-1614-41fb-978f-6ca87c737d3f",
   "metadata": {
    "tags": []
   },
   "outputs": [
    {
     "name": "stdout",
     "output_type": "stream",
     "text": [
      "\n",
      "Life is too short,\n",
      "You need python\n",
      "\n"
     ]
    }
   ],
   "source": [
    "print('''\n",
    "Life is too short,\n",
    "You need python\n",
    "''')"
   ]
  },
  {
   "cell_type": "markdown",
   "id": "90400fa9-22e8-48e5-857f-64b274fa49c4",
   "metadata": {
    "tags": []
   },
   "source": [
    "### 문자열 안에 작은다옴표나 큰따옴표 포함시키기"
   ]
  },
  {
   "cell_type": "markdown",
   "id": "9056d258-18e5-45d5-9c9e-d7e6ba6caf3d",
   "metadata": {},
   "source": [
    "#### 1. 문자열에 작은따옴표(') 포함시키기"
   ]
  },
  {
   "cell_type": "code",
   "execution_count": 36,
   "id": "7e81ca76-2462-4fbc-b628-8752dfa07c8e",
   "metadata": {
    "tags": []
   },
   "outputs": [
    {
     "data": {
      "text/plain": [
       "\"Python's favorite food is perl\""
      ]
     },
     "execution_count": 36,
     "metadata": {},
     "output_type": "execute_result"
    }
   ],
   "source": [
    "#큰따옴표로 둘러싼다.\n",
    "food = \"Python's favorite food is perl\"\n",
    "food"
   ]
  },
  {
   "cell_type": "code",
   "execution_count": 37,
   "id": "c1e6c643-0acc-45be-a666-179188147e1b",
   "metadata": {
    "tags": []
   },
   "outputs": [
    {
     "ename": "SyntaxError",
     "evalue": "unterminated string literal (detected at line 2) (4176699085.py, line 2)",
     "output_type": "error",
     "traceback": [
      "\u001b[1;36m  Cell \u001b[1;32mIn[37], line 2\u001b[1;36m\u001b[0m\n\u001b[1;33m    food = 'Python's favorite food is perl'\u001b[0m\n\u001b[1;37m                                          ^\u001b[0m\n\u001b[1;31mSyntaxError\u001b[0m\u001b[1;31m:\u001b[0m unterminated string literal (detected at line 2)\n"
     ]
    }
   ],
   "source": [
    "#작은따옴표가 포함된 문자열을 작은따옴표로 둘러싼 경우 -> 오류발생\n",
    "food = 'Python's favorite food is perl'"
   ]
  },
  {
   "cell_type": "markdown",
   "id": "770973fd-b400-4d12-95cb-ea821007a3a6",
   "metadata": {
    "tags": []
   },
   "source": [
    "#### 2. 문자열에 큰따옴표(\") 포함시키기"
   ]
  },
  {
   "cell_type": "code",
   "execution_count": 39,
   "id": "7e86ac83-4f81-4ae8-bbd3-251995d1ffd0",
   "metadata": {
    "tags": []
   },
   "outputs": [
    {
     "data": {
      "text/plain": [
       "'\"Python is very easy.\" he says.'"
      ]
     },
     "execution_count": 39,
     "metadata": {},
     "output_type": "execute_result"
    }
   ],
   "source": [
    "# 작은따옴표로 둘러싼다.\n",
    "say = '\"Python is very easy.\" he says.'\n",
    "say"
   ]
  },
  {
   "cell_type": "markdown",
   "id": "34d819e0-0b11-41f3-a9f5-650a71eb4509",
   "metadata": {},
   "source": [
    "#### 3. 백슬래시\\를 사용해 작은따옴표와 큰따옴표를 문자열에 포함시키기\n"
   ]
  },
  {
   "cell_type": "code",
   "execution_count": 45,
   "id": "d4d42f53-74dc-4eab-a51f-e4306a20bafc",
   "metadata": {
    "tags": []
   },
   "outputs": [
    {
     "name": "stdout",
     "output_type": "stream",
     "text": [
      "Python's favorite food is perl\n",
      "\"Python is very easy.\" he says.\n"
     ]
    }
   ],
   "source": [
    "food = 'Python\\'s favorite food is perl'\n",
    "print(food)\n",
    "say = \"\\\"Python is very easy.\\\" he says.\"\n",
    "print(say)"
   ]
  },
  {
   "cell_type": "markdown",
   "id": "6d05584f-4ced-4d02-b6c2-f5edd123798f",
   "metadata": {},
   "source": [
    "### 여러 줄인 문자열을 변수에 대입"
   ]
  },
  {
   "cell_type": "markdown",
   "id": "56d520ba-4a1a-4aeb-a5c9-925452c4d753",
   "metadata": {
    "tags": []
   },
   "source": [
    "#### 1. 줄을 바꾸는 이스케이프 코드'\\n' 삽입"
   ]
  },
  {
   "cell_type": "code",
   "execution_count": 47,
   "id": "3c239404-32f1-4f61-86f9-5be244f34393",
   "metadata": {
    "tags": []
   },
   "outputs": [],
   "source": [
    "multiline = \"Life is too short\\nYou need python\""
   ]
  },
  {
   "cell_type": "markdown",
   "id": "0d082c89-ba57-4b9f-805b-47c7e2f64868",
   "metadata": {},
   "source": [
    "#### 2. 연속된 작은따옴표 3개(''') 또는 큰따옴표 3개(\"\"\") 사용"
   ]
  },
  {
   "cell_type": "code",
   "execution_count": 50,
   "id": "ca76265a-8f04-4abe-bd87-c610ab3e020a",
   "metadata": {
    "tags": []
   },
   "outputs": [
    {
     "name": "stdout",
     "output_type": "stream",
     "text": [
      "\n",
      "Life is too short\n",
      "you need python\n",
      "\n"
     ]
    }
   ],
   "source": [
    "#작은 따옴표 3개\n",
    "multiline = '''\n",
    "Life is too short\n",
    "you need python\n",
    "'''\n",
    "print(multiline)"
   ]
  },
  {
   "cell_type": "code",
   "execution_count": 51,
   "id": "bad8033d-5dfd-4cad-a0a1-18d5e50ee987",
   "metadata": {
    "tags": []
   },
   "outputs": [
    {
     "name": "stdout",
     "output_type": "stream",
     "text": [
      "\n",
      "Life is too short\n",
      "You need python\n",
      "\n"
     ]
    }
   ],
   "source": [
    "#큰따옴표 3개\n",
    "multiline = \"\"\"\n",
    "Life is too short\n",
    "You need python\n",
    "\"\"\"\n",
    "print(multiline)"
   ]
  },
  {
   "cell_type": "markdown",
   "id": "39c1055c-be4e-4a56-a2c2-a3e5e5417991",
   "metadata": {},
   "source": [
    "### 문자열 연산하기"
   ]
  },
  {
   "cell_type": "markdown",
   "id": "9ad5b7c0-71ed-46b8-8cb5-7d3b5811ed85",
   "metadata": {},
   "source": [
    "#### 1. 문자열 더해서 연결(Concatenation)"
   ]
  },
  {
   "cell_type": "code",
   "execution_count": 53,
   "id": "1d92c598-fca7-443e-ad53-3ce64b046936",
   "metadata": {
    "tags": []
   },
   "outputs": [
    {
     "data": {
      "text/plain": [
       "'Python is fun!'"
      ]
     },
     "execution_count": 53,
     "metadata": {},
     "output_type": "execute_result"
    }
   ],
   "source": [
    "head = \"Python\"\n",
    "tail = \" is fun!\"\n",
    "head + tail"
   ]
  },
  {
   "cell_type": "markdown",
   "id": "a5f61df1-e217-4a25-8b9c-4542ff7dbc56",
   "metadata": {},
   "source": [
    "#### 2. 문자열 곱하기"
   ]
  },
  {
   "cell_type": "code",
   "execution_count": 54,
   "id": "26866909-e078-4e56-93d1-fb6e1197037d",
   "metadata": {
    "tags": []
   },
   "outputs": [
    {
     "data": {
      "text/plain": [
       "'pythonpython'"
      ]
     },
     "execution_count": 54,
     "metadata": {},
     "output_type": "execute_result"
    }
   ],
   "source": [
    "a = \"python\"\n",
    "a*2"
   ]
  },
  {
   "cell_type": "markdown",
   "id": "296c55b1-abea-419a-9374-8d7ec6821e21",
   "metadata": {
    "tags": []
   },
   "source": [
    "#### 3. 문자열 길이 구하기(len)"
   ]
  },
  {
   "cell_type": "code",
   "execution_count": 56,
   "id": "7b6b47d7-bf23-4c02-a43c-b91adefa67ff",
   "metadata": {
    "tags": []
   },
   "outputs": [
    {
     "data": {
      "text/plain": [
       "17"
      ]
     },
     "execution_count": 56,
     "metadata": {},
     "output_type": "execute_result"
    }
   ],
   "source": [
    "a = \"Life is too short\"\n",
    "len(a)"
   ]
  },
  {
   "cell_type": "markdown",
   "id": "b11c0e0f-08d5-404a-b7da-0f417d7b0da9",
   "metadata": {},
   "source": [
    "- 퀴즈"
   ]
  },
  {
   "cell_type": "code",
   "execution_count": 57,
   "id": "23fadf39-4457-4b77-b3f6-2833bfa13699",
   "metadata": {
    "tags": []
   },
   "outputs": [
    {
     "data": {
      "text/plain": [
       "15"
      ]
     },
     "execution_count": 57,
     "metadata": {},
     "output_type": "execute_result"
    }
   ],
   "source": [
    "a = 'You need python'\n",
    "len(a)"
   ]
  },
  {
   "cell_type": "markdown",
   "id": "70be3df4-7225-4928-998a-ec18aa2063d3",
   "metadata": {
    "tags": []
   },
   "source": [
    "### 문자열 인덱싱(Indexing)과 슬라이싱(Slicing)"
   ]
  },
  {
   "cell_type": "code",
   "execution_count": 59,
   "id": "6190c481-43c7-4f35-8340-e848db7e3fc7",
   "metadata": {
    "tags": []
   },
   "outputs": [],
   "source": [
    "#~51"
   ]
  },
  {
   "cell_type": "markdown",
   "id": "b24c02cb-96f4-4c7a-8ba2-b86b12aa5279",
   "metadata": {},
   "source": [
    "```\n",
    "- 인덱싱(indexing) : 가리킨다\n",
    "- 슬라이싱(slicing) : 잘라낸다\n",
    "```"
   ]
  },
  {
   "cell_type": "markdown",
   "id": "d2cf81ee-03d3-45c6-969b-727a2a081ef5",
   "metadata": {},
   "source": [
    "#### 문자열 인덱싱이란?"
   ]
  },
  {
   "cell_type": "code",
   "execution_count": 1,
   "id": "f787289b-d807-4493-8e1d-7400a33fbaac",
   "metadata": {
    "tags": []
   },
   "outputs": [
    {
     "data": {
      "text/plain": [
       "'e'"
      ]
     },
     "execution_count": 1,
     "metadata": {},
     "output_type": "execute_result"
    }
   ],
   "source": [
    "a = \"Life is too short, You need Python\"\n",
    "a[3]"
   ]
  },
  {
   "cell_type": "markdown",
   "id": "6ad0653c-6089-4319-b79d-0b773744bf89",
   "metadata": {},
   "source": [
    "#### 문자열 인덱싱 활용하기"
   ]
  },
  {
   "cell_type": "code",
   "execution_count": 3,
   "id": "18a36b53-ab21-4d56-80ba-87c4bdbba404",
   "metadata": {
    "tags": []
   },
   "outputs": [
    {
     "data": {
      "text/plain": [
       "'L'"
      ]
     },
     "execution_count": 3,
     "metadata": {},
     "output_type": "execute_result"
    }
   ],
   "source": [
    "a = \"Life is too short, You need Python\"\n",
    "a[0]"
   ]
  },
  {
   "cell_type": "code",
   "execution_count": 4,
   "id": "82ab3d86-5d34-4e09-a5c9-da0059444bdc",
   "metadata": {
    "tags": []
   },
   "outputs": [
    {
     "data": {
      "text/plain": [
       "'s'"
      ]
     },
     "execution_count": 4,
     "metadata": {},
     "output_type": "execute_result"
    }
   ],
   "source": [
    "a[12]"
   ]
  },
  {
   "cell_type": "code",
   "execution_count": 5,
   "id": "7272c386-3fd9-4ca8-89cb-efe8e7e6d07b",
   "metadata": {
    "tags": []
   },
   "outputs": [
    {
     "data": {
      "text/plain": [
       "'n'"
      ]
     },
     "execution_count": 5,
     "metadata": {},
     "output_type": "execute_result"
    }
   ],
   "source": [
    "a[-1] # 맨 뒤부터 인덱싱은 -1부터 시작"
   ]
  },
  {
   "cell_type": "code",
   "execution_count": 6,
   "id": "cda10330-56e6-4368-b84a-eb1823e7a1c0",
   "metadata": {
    "tags": []
   },
   "outputs": [
    {
     "data": {
      "text/plain": [
       "'L'"
      ]
     },
     "execution_count": 6,
     "metadata": {},
     "output_type": "execute_result"
    }
   ],
   "source": [
    "# a[-0]은 a[0]과 같다!\n",
    "a[-0]"
   ]
  },
  {
   "cell_type": "code",
   "execution_count": 7,
   "id": "fecffe2a-2c90-4466-b9f7-a6c1f523bb4b",
   "metadata": {
    "tags": []
   },
   "outputs": [
    {
     "data": {
      "text/plain": [
       "'o'"
      ]
     },
     "execution_count": 7,
     "metadata": {},
     "output_type": "execute_result"
    }
   ],
   "source": [
    "a[-2]"
   ]
  },
  {
   "cell_type": "markdown",
   "id": "f78d195c-d639-497a-849f-f0cfd8c429c5",
   "metadata": {},
   "source": [
    "#### 문자열 슬라이싱이란?"
   ]
  },
  {
   "cell_type": "code",
   "execution_count": 9,
   "id": "54e2a739-24ec-42f3-9ce7-7b3ff1f7765d",
   "metadata": {
    "tags": []
   },
   "outputs": [
    {
     "data": {
      "text/plain": [
       "'Life'"
      ]
     },
     "execution_count": 9,
     "metadata": {},
     "output_type": "execute_result"
    }
   ],
   "source": [
    "a = \"Life is too short, You need Python\"\n",
    "b = a[0] + a[1] + a[2] + a[3]\n",
    "b"
   ]
  },
  {
   "cell_type": "code",
   "execution_count": 10,
   "id": "7dea7ed1-a65b-4620-bd81-bff956a85362",
   "metadata": {
    "tags": []
   },
   "outputs": [
    {
     "data": {
      "text/plain": [
       "'Life'"
      ]
     },
     "execution_count": 10,
     "metadata": {},
     "output_type": "execute_result"
    }
   ],
   "source": [
    "a = \"Life is too short, You need Python\"\n",
    "a[0:4] #끝번호 포함안함"
   ]
  },
  {
   "cell_type": "code",
   "execution_count": 11,
   "id": "b7e37112-2b6a-48ee-84ce-b54eccacbc04",
   "metadata": {
    "tags": []
   },
   "outputs": [
    {
     "data": {
      "text/plain": [
       "'You need Python'"
      ]
     },
     "execution_count": 11,
     "metadata": {},
     "output_type": "execute_result"
    }
   ],
   "source": [
    "a[19:]"
   ]
  },
  {
   "cell_type": "code",
   "execution_count": 12,
   "id": "983bf3ea-ca74-45b6-9e08-929668560b13",
   "metadata": {
    "tags": []
   },
   "outputs": [
    {
     "data": {
      "text/plain": [
       "'Life is too short'"
      ]
     },
     "execution_count": 12,
     "metadata": {},
     "output_type": "execute_result"
    }
   ],
   "source": [
    "a[:17]"
   ]
  },
  {
   "cell_type": "code",
   "execution_count": 13,
   "id": "1e7841df-23c7-479c-ab5c-5fdee194f1dc",
   "metadata": {
    "tags": []
   },
   "outputs": [
    {
     "data": {
      "text/plain": [
       "'Life is too short, You need Python'"
      ]
     },
     "execution_count": 13,
     "metadata": {},
     "output_type": "execute_result"
    }
   ],
   "source": [
    "a[:]"
   ]
  },
  {
   "cell_type": "code",
   "execution_count": 14,
   "id": "3897ad59-43da-44c9-9286-069e5c1a653f",
   "metadata": {
    "tags": []
   },
   "outputs": [
    {
     "data": {
      "text/plain": [
       "'You need'"
      ]
     },
     "execution_count": 14,
     "metadata": {},
     "output_type": "execute_result"
    }
   ],
   "source": [
    "a[19:-7] #-8까지 출력"
   ]
  },
  {
   "cell_type": "markdown",
   "id": "fc722b03-2ab8-4583-a462-fc474e5fec16",
   "metadata": {},
   "source": [
    "#### 슬라이싱으로 문자열 나누기"
   ]
  },
  {
   "cell_type": "code",
   "execution_count": 15,
   "id": "fc1440d5-16f8-42df-9591-8798541bb990",
   "metadata": {
    "tags": []
   },
   "outputs": [],
   "source": [
    "a = \"20010331Rainy\""
   ]
  },
  {
   "cell_type": "code",
   "execution_count": 16,
   "id": "21e4dfe0-e56e-4b8d-b152-b7e8390a406e",
   "metadata": {
    "tags": []
   },
   "outputs": [],
   "source": [
    "date=a[:8]"
   ]
  },
  {
   "cell_type": "code",
   "execution_count": 18,
   "id": "06a43250-604b-4e84-98ab-b0707af57170",
   "metadata": {
    "tags": []
   },
   "outputs": [],
   "source": [
    "weather=a[8:]"
   ]
  },
  {
   "cell_type": "code",
   "execution_count": 19,
   "id": "2f43cfea-811c-4b07-8a71-3a4ce735c122",
   "metadata": {
    "tags": []
   },
   "outputs": [
    {
     "data": {
      "text/plain": [
       "'20010331'"
      ]
     },
     "execution_count": 19,
     "metadata": {},
     "output_type": "execute_result"
    }
   ],
   "source": [
    "date"
   ]
  },
  {
   "cell_type": "code",
   "execution_count": 20,
   "id": "752a3cef-42fc-47bf-aba5-c46e88c8d068",
   "metadata": {
    "tags": []
   },
   "outputs": [
    {
     "data": {
      "text/plain": [
       "'Rainy'"
      ]
     },
     "execution_count": 20,
     "metadata": {},
     "output_type": "execute_result"
    }
   ],
   "source": [
    "weather"
   ]
  },
  {
   "cell_type": "markdown",
   "id": "99ae9ec7-4666-4d9e-9e6c-6b20b0dab067",
   "metadata": {},
   "source": [
    "- Pithon이라는 문자열을 Python으로 바꾸려면?"
   ]
  },
  {
   "cell_type": "code",
   "execution_count": 21,
   "id": "8696075f-cb4e-402e-9050-bb7262ffadc4",
   "metadata": {
    "tags": []
   },
   "outputs": [],
   "source": [
    "a = \"Pithon\""
   ]
  },
  {
   "cell_type": "code",
   "execution_count": 22,
   "id": "14f30d95-d3a4-4cbd-8c10-f1a5c585b31b",
   "metadata": {
    "tags": []
   },
   "outputs": [
    {
     "data": {
      "text/plain": [
       "'i'"
      ]
     },
     "execution_count": 22,
     "metadata": {},
     "output_type": "execute_result"
    }
   ],
   "source": [
    "a[1]"
   ]
  },
  {
   "cell_type": "code",
   "execution_count": 23,
   "id": "8a0dd0fa-eb8b-4445-84ac-49126c133b30",
   "metadata": {
    "tags": []
   },
   "outputs": [
    {
     "ename": "TypeError",
     "evalue": "'str' object does not support item assignment",
     "output_type": "error",
     "traceback": [
      "\u001b[1;31m---------------------------------------------------------------------------\u001b[0m",
      "\u001b[1;31mTypeError\u001b[0m                                 Traceback (most recent call last)",
      "Cell \u001b[1;32mIn[23], line 1\u001b[0m\n\u001b[1;32m----> 1\u001b[0m \u001b[43ma\u001b[49m\u001b[43m[\u001b[49m\u001b[38;5;241;43m1\u001b[39;49m\u001b[43m]\u001b[49m \u001b[38;5;241m=\u001b[39m \u001b[38;5;124m'\u001b[39m\u001b[38;5;124my\u001b[39m\u001b[38;5;124m'\u001b[39m\n",
      "\u001b[1;31mTypeError\u001b[0m: 'str' object does not support item assignment"
     ]
    }
   ],
   "source": [
    "a[1] = 'y'\n",
    "#오류 발생 \n",
    "#문자열의 요솟값은 바꿀 수 있는 값이 아니다.\n",
    "#문자열 자료형은 immutable한 자료형"
   ]
  },
  {
   "cell_type": "code",
   "execution_count": 24,
   "id": "d917c381-a74a-4bc6-bab0-55e96721e83d",
   "metadata": {
    "tags": []
   },
   "outputs": [],
   "source": [
    "a = \"Pithon\""
   ]
  },
  {
   "cell_type": "code",
   "execution_count": 25,
   "id": "c6a659fe-3d5d-4d22-8d7d-43482e42d06a",
   "metadata": {
    "tags": []
   },
   "outputs": [
    {
     "data": {
      "text/plain": [
       "'P'"
      ]
     },
     "execution_count": 25,
     "metadata": {},
     "output_type": "execute_result"
    }
   ],
   "source": [
    "a[:1]"
   ]
  },
  {
   "cell_type": "code",
   "execution_count": 27,
   "id": "64428c25-f009-4869-8b0d-ec01f88431f2",
   "metadata": {
    "tags": []
   },
   "outputs": [
    {
     "data": {
      "text/plain": [
       "'thon'"
      ]
     },
     "execution_count": 27,
     "metadata": {},
     "output_type": "execute_result"
    }
   ],
   "source": [
    "a[2:]"
   ]
  },
  {
   "cell_type": "code",
   "execution_count": 28,
   "id": "e52fa410-539b-4fee-9207-4fc7a98fc796",
   "metadata": {
    "tags": []
   },
   "outputs": [
    {
     "data": {
      "text/plain": [
       "'Python'"
      ]
     },
     "execution_count": 28,
     "metadata": {},
     "output_type": "execute_result"
    }
   ],
   "source": [
    "a[:1] + 'y' + a[2:]"
   ]
  },
  {
   "cell_type": "markdown",
   "id": "6fb632ab-cad5-429a-a9e0-df044d5ad13e",
   "metadata": {},
   "source": [
    "### 문자열 포매팅"
   ]
  },
  {
   "cell_type": "markdown",
   "id": "96dabef7-fa7c-4c0b-8f39-f0a721d1e2c0",
   "metadata": {},
   "source": [
    "#### 문자열 포매팅 따라하기"
   ]
  },
  {
   "cell_type": "markdown",
   "id": "f0a1f10a-f261-4861-a3e3-46209519c440",
   "metadata": {
    "tags": []
   },
   "source": [
    "```1. 숫자 바로 대입```"
   ]
  },
  {
   "cell_type": "code",
   "execution_count": 30,
   "id": "35f9b00c-e78b-40db-ab2b-3fa5cdd80b18",
   "metadata": {
    "tags": []
   },
   "outputs": [
    {
     "data": {
      "text/plain": [
       "'I eat 3 apples.'"
      ]
     },
     "execution_count": 30,
     "metadata": {},
     "output_type": "execute_result"
    }
   ],
   "source": [
    "\"I eat %d apples.\" % 3 "
   ]
  },
  {
   "cell_type": "markdown",
   "id": "8ed4b747-f058-4838-b41b-46fb7b8ff3a1",
   "metadata": {},
   "source": [
    "```2.문자열 바로 대입```"
   ]
  },
  {
   "cell_type": "code",
   "execution_count": 31,
   "id": "2eec01ba-4033-473d-964e-6282905b0ed3",
   "metadata": {
    "tags": []
   },
   "outputs": [
    {
     "data": {
      "text/plain": [
       "'I eat five apples.'"
      ]
     },
     "execution_count": 31,
     "metadata": {},
     "output_type": "execute_result"
    }
   ],
   "source": [
    "\"I eat %s apples.\" % \"five\"\n",
    "#숫자는 %d, 문자열은 %s"
   ]
  },
  {
   "cell_type": "markdown",
   "id": "5b75ce67-a95b-403a-9e24-5cc0d12941b2",
   "metadata": {},
   "source": [
    "```3. 숫자 값을 나타내는 변수로 대입```"
   ]
  },
  {
   "cell_type": "code",
   "execution_count": 32,
   "id": "af5beea0-b088-44cd-8939-cd85a62925ad",
   "metadata": {
    "tags": []
   },
   "outputs": [],
   "source": [
    "number = 3"
   ]
  },
  {
   "cell_type": "code",
   "execution_count": 33,
   "id": "f514dde1-9a01-41cc-81b8-df006bb234f1",
   "metadata": {
    "tags": []
   },
   "outputs": [
    {
     "data": {
      "text/plain": [
       "'I eat 3 apples.'"
      ]
     },
     "execution_count": 33,
     "metadata": {},
     "output_type": "execute_result"
    }
   ],
   "source": [
    "\"I eat %d apples.\" % number"
   ]
  },
  {
   "cell_type": "markdown",
   "id": "a13910ba-831b-411a-ab04-b46409e35c7f",
   "metadata": {},
   "source": [
    "```4. 2개 이상의 값 넣기```"
   ]
  },
  {
   "cell_type": "code",
   "execution_count": 34,
   "id": "99563039-6b61-453a-95a2-bf0c88282485",
   "metadata": {
    "tags": []
   },
   "outputs": [],
   "source": [
    "number = 10"
   ]
  },
  {
   "cell_type": "code",
   "execution_count": 35,
   "id": "ad325886-8df1-4767-a820-475c6ee552eb",
   "metadata": {
    "tags": []
   },
   "outputs": [],
   "source": [
    "day = \"three\""
   ]
  },
  {
   "cell_type": "code",
   "execution_count": 36,
   "id": "d040e948-805f-449c-bb01-41ebb0c9c0a6",
   "metadata": {
    "tags": []
   },
   "outputs": [
    {
     "data": {
      "text/plain": [
       "'I ate 10 apples. so I was sick for three days.'"
      ]
     },
     "execution_count": 36,
     "metadata": {},
     "output_type": "execute_result"
    }
   ],
   "source": [
    "\"I ate %d apples. so I was sick for %s days.\" %(number, day)"
   ]
  },
  {
   "cell_type": "markdown",
   "id": "7fa1865d-eacd-4883-9da3-2b63a94ccfe4",
   "metadata": {},
   "source": [
    "- 문자열 포맷 코드"
   ]
  },
  {
   "cell_type": "code",
   "execution_count": 37,
   "id": "d73964a7-0fdc-425e-b6c4-8f7d1e3b1ad3",
   "metadata": {
    "tags": []
   },
   "outputs": [
    {
     "data": {
      "text/plain": [
       "'I have 3 apples'"
      ]
     },
     "execution_count": 37,
     "metadata": {},
     "output_type": "execute_result"
    }
   ],
   "source": [
    "\"I have %s apples\" % 3"
   ]
  },
  {
   "cell_type": "code",
   "execution_count": 38,
   "id": "08ba08e8-11a4-46df-9f05-dc2647421443",
   "metadata": {
    "tags": []
   },
   "outputs": [
    {
     "data": {
      "text/plain": [
       "'rate is 3.324'"
      ]
     },
     "execution_count": 38,
     "metadata": {},
     "output_type": "execute_result"
    }
   ],
   "source": [
    "\"rate is %s\" % 3.324\n",
    "#%s는 자동으로 % 뒤에 있는 값을 문자열로 바꾼다."
   ]
  },
  {
   "cell_type": "markdown",
   "id": "cd86a220-e8f2-4711-a392-9785421731f4",
   "metadata": {},
   "source": [
    "- 포매팅 연산자 %d와 %를 같이 쓸 때는 %%를 쓴다."
   ]
  },
  {
   "cell_type": "code",
   "execution_count": 39,
   "id": "5bcfed3d-4785-45ba-86e1-823a7d60536d",
   "metadata": {
    "tags": []
   },
   "outputs": [
    {
     "ename": "ValueError",
     "evalue": "incomplete format",
     "output_type": "error",
     "traceback": [
      "\u001b[1;31m---------------------------------------------------------------------------\u001b[0m",
      "\u001b[1;31mValueError\u001b[0m                                Traceback (most recent call last)",
      "Cell \u001b[1;32mIn[39], line 1\u001b[0m\n\u001b[1;32m----> 1\u001b[0m \u001b[38;5;124;43m\"\u001b[39;49m\u001b[38;5;124;43mError is \u001b[39;49m\u001b[38;5;132;43;01m%d\u001b[39;49;00m\u001b[38;5;124;43m%\u001b[39;49m\u001b[38;5;124;43m\"\u001b[39;49m\u001b[43m \u001b[49m\u001b[38;5;241;43m%\u001b[39;49m\u001b[43m \u001b[49m\u001b[38;5;241;43m98\u001b[39;49m\n",
      "\u001b[1;31mValueError\u001b[0m: incomplete format"
     ]
    }
   ],
   "source": [
    "\"Error is %d%\" % 98"
   ]
  },
  {
   "cell_type": "code",
   "execution_count": 40,
   "id": "ba6cf839-703a-44ea-bc3b-e13e00b8744c",
   "metadata": {
    "tags": []
   },
   "outputs": [
    {
     "data": {
      "text/plain": [
       "'Error is 98%'"
      ]
     },
     "execution_count": 40,
     "metadata": {},
     "output_type": "execute_result"
    }
   ],
   "source": [
    "#%d와 %가 같은 문자열 안에 존재하는 경우, %를 나타내려면 반드시 %%로 써야 한다.\n",
    "\"Error is %d%%\" % 98"
   ]
  },
  {
   "cell_type": "markdown",
   "id": "9e35a9df-2037-4ddb-84c3-3ccffee7b5f1",
   "metadata": {},
   "source": [
    "#### 포맷 코드와 숫자 함께 사용하기"
   ]
  },
  {
   "cell_type": "markdown",
   "id": "27e2c021-0cbb-46b7-949e-6067575fa540",
   "metadata": {},
   "source": [
    "```1. 정렬과 공백```"
   ]
  },
  {
   "cell_type": "code",
   "execution_count": 42,
   "id": "75f380c0-43e1-48d5-9ee0-cac2e8f2680d",
   "metadata": {
    "tags": []
   },
   "outputs": [
    {
     "data": {
      "text/plain": [
       "'        hi'"
      ]
     },
     "execution_count": 42,
     "metadata": {},
     "output_type": "execute_result"
    }
   ],
   "source": [
    "\"%10s\" % \"hi\" \n",
    "# %10s는 전체 길이가 10개인 문자열 공간에서 대입되는 값을 오른쪽을 정렬하고 그 앞의 나머지는 공백으로 남겨두라는 의미.\n",
    "#전체 길이 10개 = 왼쪽 공백 8개 + \"hi\" 문자열 길이 2개"
   ]
  },
  {
   "cell_type": "code",
   "execution_count": 47,
   "id": "886975e6-8146-442e-aba7-c09e2ca042ad",
   "metadata": {
    "tags": []
   },
   "outputs": [
    {
     "data": {
      "text/plain": [
       "'hi        jane'"
      ]
     },
     "execution_count": 47,
     "metadata": {},
     "output_type": "execute_result"
    }
   ],
   "source": [
    "\"%-10sjane\" % 'hi' \n",
    "#hi가 왼쪽 정렬됨"
   ]
  },
  {
   "cell_type": "markdown",
   "id": "c1018016-76a5-4fc8-bf81-bdbafe1fb8ef",
   "metadata": {},
   "source": [
    "```2. 소수점 표현하기```"
   ]
  },
  {
   "cell_type": "code",
   "execution_count": 48,
   "id": "8147f0b2-d475-4f99-87ec-fb89ec5354d1",
   "metadata": {
    "tags": []
   },
   "outputs": [
    {
     "data": {
      "text/plain": [
       "'3.4213'"
      ]
     },
     "execution_count": 48,
     "metadata": {},
     "output_type": "execute_result"
    }
   ],
   "source": [
    "\"%0.4f\" % 3.42134234\n",
    "#'.'의 의미는 소수점 포인트이고 그 뒤의 숫자 4는 소수점 뒤에 나올 숫자의 개수"
   ]
  },
  {
   "cell_type": "code",
   "execution_count": 50,
   "id": "3423490c-6a49-4b7e-9a2b-53d7f90a39ce",
   "metadata": {
    "tags": []
   },
   "outputs": [
    {
     "data": {
      "text/plain": [
       "'    3.4213'"
      ]
     },
     "execution_count": 50,
     "metadata": {},
     "output_type": "execute_result"
    }
   ],
   "source": [
    "\"%10.4f\" % 3.42134234\n",
    "# 소수점 네 번째 자리까지만 표시하고 전체 길이가 10인 문자열 공간에서 오른쪽 정렬"
   ]
  },
  {
   "cell_type": "markdown",
   "id": "5e884df6-bdcf-4efa-abce-e5c84b6b3afc",
   "metadata": {},
   "source": [
    "#### format 함수를 사용한 포매팅"
   ]
  },
  {
   "cell_type": "markdown",
   "id": "ac03604b-023e-45ee-8381-42efda6c2947",
   "metadata": {},
   "source": [
    "```숫자 바로 대입하기```"
   ]
  },
  {
   "cell_type": "code",
   "execution_count": 51,
   "id": "1cae27a3-35ea-4a05-8279-9076e9cbf5ec",
   "metadata": {
    "tags": []
   },
   "outputs": [
    {
     "data": {
      "text/plain": [
       "'I eat 3 apples'"
      ]
     },
     "execution_count": 51,
     "metadata": {},
     "output_type": "execute_result"
    }
   ],
   "source": [
    "\"I eat {0} apples\".format(3)"
   ]
  },
  {
   "cell_type": "markdown",
   "id": "d688f571-fc87-42d3-8cf1-5a6e33fc0c75",
   "metadata": {},
   "source": [
    "```문자열 바로 대입하기```"
   ]
  },
  {
   "cell_type": "code",
   "execution_count": 52,
   "id": "98977913-40a8-4f81-ad67-cdc26f95daff",
   "metadata": {
    "tags": []
   },
   "outputs": [
    {
     "data": {
      "text/plain": [
       "'I eat five apples'"
      ]
     },
     "execution_count": 52,
     "metadata": {},
     "output_type": "execute_result"
    }
   ],
   "source": [
    "\"I eat {0} apples\".format(\"five\")"
   ]
  },
  {
   "cell_type": "markdown",
   "id": "e007df42-8b03-4428-9127-770d0ab428db",
   "metadata": {},
   "source": [
    "```숫자 값을 가진 변수로 대입하기```"
   ]
  },
  {
   "cell_type": "code",
   "execution_count": 53,
   "id": "01eb6a28-fdf6-4188-b618-007eb888c408",
   "metadata": {
    "tags": []
   },
   "outputs": [],
   "source": [
    "number = 3"
   ]
  },
  {
   "cell_type": "code",
   "execution_count": 54,
   "id": "6885e930-4998-4f48-85de-a30a161c627b",
   "metadata": {
    "tags": []
   },
   "outputs": [
    {
     "data": {
      "text/plain": [
       "'I eat 3 apples'"
      ]
     },
     "execution_count": 54,
     "metadata": {},
     "output_type": "execute_result"
    }
   ],
   "source": [
    "\"I eat {0} apples\".format(number)"
   ]
  },
  {
   "cell_type": "markdown",
   "id": "f8dd858f-37f1-4845-955e-6dce543b9aa7",
   "metadata": {},
   "source": [
    "```2개 이상의 값 넣기```"
   ]
  },
  {
   "cell_type": "code",
   "execution_count": 55,
   "id": "f8d33ad8-53a2-421a-9e72-bac0a3e609e8",
   "metadata": {
    "tags": []
   },
   "outputs": [],
   "source": [
    "number = 10"
   ]
  },
  {
   "cell_type": "code",
   "execution_count": 56,
   "id": "b19a37b3-8bfa-4467-8678-99545919ae1b",
   "metadata": {
    "tags": []
   },
   "outputs": [],
   "source": [
    "day = \"three\""
   ]
  },
  {
   "cell_type": "code",
   "execution_count": 57,
   "id": "c2b9742d-84d3-402b-b3ad-d01077e346b2",
   "metadata": {
    "tags": []
   },
   "outputs": [
    {
     "data": {
      "text/plain": [
       "'I ate 10 apples. so I was sick for three days'"
      ]
     },
     "execution_count": 57,
     "metadata": {},
     "output_type": "execute_result"
    }
   ],
   "source": [
    "\"I ate {0} apples. so I was sick for {1} days\".format(number, day)"
   ]
  },
  {
   "cell_type": "markdown",
   "id": "1d411adf-23eb-4596-9f2b-dc27444cda7e",
   "metadata": {},
   "source": [
    "```이름으로 넣기```"
   ]
  },
  {
   "cell_type": "code",
   "execution_count": 58,
   "id": "7f9b96a3-62f4-4ab3-a6a9-2647586bd663",
   "metadata": {
    "tags": []
   },
   "outputs": [
    {
     "data": {
      "text/plain": [
       "'I ate 10 apples. so I was sick for 3 days.'"
      ]
     },
     "execution_count": 58,
     "metadata": {},
     "output_type": "execute_result"
    }
   ],
   "source": [
    "\"I ate {number} apples. so I was sick for {day} days.\".format(number=10, day=3) "
   ]
  },
  {
   "cell_type": "markdown",
   "id": "f1665212-2c2d-466f-9745-69dcd186dad3",
   "metadata": {},
   "source": [
    "```인덱스와 이름을 혼용해서 넣기```"
   ]
  },
  {
   "cell_type": "code",
   "execution_count": 59,
   "id": "aadc956f-adfd-4537-82b6-a9d6e22764f8",
   "metadata": {
    "tags": []
   },
   "outputs": [
    {
     "data": {
      "text/plain": [
       "'I ate 10 apples. so I was sick for 3 days.'"
      ]
     },
     "execution_count": 59,
     "metadata": {},
     "output_type": "execute_result"
    }
   ],
   "source": [
    "\"I ate {0} apples. so I was sick for {day} days.\".format(10, day=3)"
   ]
  },
  {
   "cell_type": "markdown",
   "id": "c22a142f-800a-454d-837b-8ca4b7e0139e",
   "metadata": {},
   "source": [
    "```소수점 표현하기```"
   ]
  },
  {
   "cell_type": "code",
   "execution_count": 1,
   "id": "e9835150-0e51-4f60-8845-4dfb2be85989",
   "metadata": {
    "tags": []
   },
   "outputs": [],
   "source": [
    "y = 3.42134234"
   ]
  },
  {
   "cell_type": "code",
   "execution_count": 3,
   "id": "6aafe0b5-5e7e-4963-a64b-e9f91126afb9",
   "metadata": {
    "tags": []
   },
   "outputs": [
    {
     "data": {
      "text/plain": [
       "'3.4213'"
      ]
     },
     "execution_count": 3,
     "metadata": {},
     "output_type": "execute_result"
    }
   ],
   "source": [
    "\"{0:0.4f}\".format(y)"
   ]
  },
  {
   "cell_type": "code",
   "execution_count": 4,
   "id": "58b7c441-148b-479e-ad20-087fa63a7eb1",
   "metadata": {
    "tags": []
   },
   "outputs": [
    {
     "data": {
      "text/plain": [
       "'    3.4213'"
      ]
     },
     "execution_count": 4,
     "metadata": {},
     "output_type": "execute_result"
    }
   ],
   "source": [
    "\"{0:10.4f}\".format(y)"
   ]
  },
  {
   "cell_type": "markdown",
   "id": "f10944cc-4275-4b73-9c1b-ae8a7e5492bd",
   "metadata": {
    "tags": []
   },
   "source": [
    "```{또는} 문자 표현하기```"
   ]
  },
  {
   "cell_type": "code",
   "execution_count": 6,
   "id": "b243df84-ddbb-4736-87ab-9d92d3902801",
   "metadata": {
    "tags": []
   },
   "outputs": [
    {
     "data": {
      "text/plain": [
       "'{ and }'"
      ]
     },
     "execution_count": 6,
     "metadata": {},
     "output_type": "execute_result"
    }
   ],
   "source": [
    "\"{{ and }}\".format()"
   ]
  },
  {
   "cell_type": "code",
   "execution_count": 7,
   "id": "20558de0-8a69-45be-80b5-d5822a398b37",
   "metadata": {
    "tags": []
   },
   "outputs": [
    {
     "data": {
      "text/plain": [
       "'{ and }'"
      ]
     },
     "execution_count": 7,
     "metadata": {},
     "output_type": "execute_result"
    }
   ],
   "source": [
    "\"{{ and }}\".format()"
   ]
  },
  {
   "cell_type": "markdown",
   "id": "38122f46-39f9-400e-a814-04cbea49edfd",
   "metadata": {},
   "source": [
    "#### f 문자열 포매팅"
   ]
  },
  {
   "cell_type": "code",
   "execution_count": 8,
   "id": "3a02af72-92ce-4b19-8512-2c9c8a7d5e64",
   "metadata": {
    "tags": []
   },
   "outputs": [],
   "source": [
    "name = '홍길동'"
   ]
  },
  {
   "cell_type": "code",
   "execution_count": 9,
   "id": "0f59d0a5-fcb7-4ea2-a19d-f2569fe6a660",
   "metadata": {
    "tags": []
   },
   "outputs": [],
   "source": [
    "age = 30"
   ]
  },
  {
   "cell_type": "code",
   "execution_count": 11,
   "id": "14d0c583-7891-4a29-8e6f-e4a4b28755e1",
   "metadata": {
    "tags": []
   },
   "outputs": [
    {
     "data": {
      "text/plain": [
       "'나의 이름은 홍길동입니다. 나이는 30입니다.'"
      ]
     },
     "execution_count": 11,
     "metadata": {},
     "output_type": "execute_result"
    }
   ],
   "source": [
    "f'나의 이름은 {name}입니다. 나이는 {age}입니다.'"
   ]
  },
  {
   "cell_type": "code",
   "execution_count": 12,
   "id": "0b1a7d5d-ee56-4fe6-93a8-ce97d55fbf60",
   "metadata": {
    "tags": []
   },
   "outputs": [],
   "source": [
    "age = 30"
   ]
  },
  {
   "cell_type": "code",
   "execution_count": 14,
   "id": "7a787367-a963-48a3-a731-d54825ebf371",
   "metadata": {
    "tags": []
   },
   "outputs": [
    {
     "data": {
      "text/plain": [
       "'나는 내년이면 31살이 된다.'"
      ]
     },
     "execution_count": 14,
     "metadata": {},
     "output_type": "execute_result"
    }
   ],
   "source": [
    "f'나는 내년이면 {age+1}살이 된다.'"
   ]
  },
  {
   "cell_type": "code",
   "execution_count": 15,
   "id": "4703b35c-3502-4e17-b9cf-a545e958c146",
   "metadata": {
    "tags": []
   },
   "outputs": [],
   "source": [
    "d = {'name':'홍길동', 'age':30}"
   ]
  },
  {
   "cell_type": "code",
   "execution_count": 16,
   "id": "7753e6bf-d649-4059-b94b-a56b7bdf8723",
   "metadata": {
    "tags": []
   },
   "outputs": [
    {
     "data": {
      "text/plain": [
       "'나의 이름은 홍길동입니다. 나이는 30입니다.'"
      ]
     },
     "execution_count": 16,
     "metadata": {},
     "output_type": "execute_result"
    }
   ],
   "source": [
    "f'나의 이름은 {d[\"name\"]}입니다. 나이는 {d[\"age\"]}입니다.'"
   ]
  },
  {
   "cell_type": "code",
   "execution_count": 24,
   "id": "36de6986-52a9-49fd-b4c9-1147beae7e08",
   "metadata": {
    "tags": []
   },
   "outputs": [],
   "source": [
    "y = 3.42134234"
   ]
  },
  {
   "cell_type": "code",
   "execution_count": 25,
   "id": "3a3cdefe-561e-47a6-9e68-33cfbd950816",
   "metadata": {
    "tags": []
   },
   "outputs": [
    {
     "data": {
      "text/plain": [
       "'3.4213'"
      ]
     },
     "execution_count": 25,
     "metadata": {},
     "output_type": "execute_result"
    }
   ],
   "source": [
    "f'{y:0.4f}' #소수점 4자리까지만 표현"
   ]
  },
  {
   "cell_type": "code",
   "execution_count": 26,
   "id": "51a8d87b-85e6-4599-a1a1-bd97891b1d2c",
   "metadata": {
    "tags": []
   },
   "outputs": [
    {
     "data": {
      "text/plain": [
       "'    3.4213'"
      ]
     },
     "execution_count": 26,
     "metadata": {},
     "output_type": "execute_result"
    }
   ],
   "source": [
    "f'{y:10.4f}' #소수점 4자리까지 표현하고 총 자릿수를 10으로 맞춤"
   ]
  },
  {
   "cell_type": "code",
   "execution_count": 27,
   "id": "d5c63a4e-6e1c-4634-a1e1-fd5b907d8343",
   "metadata": {
    "tags": []
   },
   "outputs": [
    {
     "data": {
      "text/plain": [
       "'{ and }'"
      ]
     },
     "execution_count": 27,
     "metadata": {},
     "output_type": "execute_result"
    }
   ],
   "source": [
    "f'{{ and }}'"
   ]
  },
  {
   "cell_type": "markdown",
   "id": "4119c062-0199-43e7-994d-451af05bf9a8",
   "metadata": {
    "tags": []
   },
   "source": [
    "### 문자열 관련 함수"
   ]
  },
  {
   "cell_type": "markdown",
   "id": "da08b1a8-23ed-4d47-b76e-8f825bfe201b",
   "metadata": {
    "tags": []
   },
   "source": [
    "#### 문자 개수 세기(count)"
   ]
  },
  {
   "cell_type": "code",
   "execution_count": 3,
   "id": "0031cfc9-e2ed-4a6d-8af7-314f414c74ae",
   "metadata": {
    "tags": []
   },
   "outputs": [],
   "source": [
    "a = \"hobby\""
   ]
  },
  {
   "cell_type": "code",
   "execution_count": 4,
   "id": "f1a861a0-348b-41b6-9abb-c3daff9dd2c3",
   "metadata": {
    "tags": []
   },
   "outputs": [
    {
     "data": {
      "text/plain": [
       "2"
      ]
     },
     "execution_count": 4,
     "metadata": {},
     "output_type": "execute_result"
    }
   ],
   "source": [
    "a.count('b')"
   ]
  },
  {
   "cell_type": "markdown",
   "id": "ab286c16-e6e3-4ae4-834c-995265182154",
   "metadata": {
    "tags": []
   },
   "source": [
    "#### 위치 알려주기1(find)"
   ]
  },
  {
   "cell_type": "code",
   "execution_count": 7,
   "id": "383fa219-b508-4d91-87ad-3003f6a36669",
   "metadata": {
    "tags": []
   },
   "outputs": [
    {
     "data": {
      "text/plain": [
       "14"
      ]
     },
     "execution_count": 7,
     "metadata": {},
     "output_type": "execute_result"
    }
   ],
   "source": [
    "a = \"Python is the best choice\"\n",
    "a.find('b') # 문자열에서 b가 처음 나온 위치"
   ]
  },
  {
   "cell_type": "code",
   "execution_count": 9,
   "id": "40f9a58c-6f02-4a68-b8c1-b597933f901b",
   "metadata": {
    "tags": []
   },
   "outputs": [
    {
     "data": {
      "text/plain": [
       "-1"
      ]
     },
     "execution_count": 9,
     "metadata": {},
     "output_type": "execute_result"
    }
   ],
   "source": [
    "a.find('k') #찾는 문자나 문자열이 존재하지 않는다면 -1 반환"
   ]
  },
  {
   "cell_type": "markdown",
   "id": "29f35358-a893-4208-bf04-89749ee53971",
   "metadata": {
    "tags": []
   },
   "source": [
    "#### 위치 알려주기2(index)"
   ]
  },
  {
   "cell_type": "code",
   "execution_count": 11,
   "id": "7b5fc0e8-8c56-4693-8c6b-434b7a41a5f8",
   "metadata": {
    "tags": []
   },
   "outputs": [],
   "source": [
    "a = \"Life is too short\""
   ]
  },
  {
   "cell_type": "code",
   "execution_count": 15,
   "id": "4ccd7523-55cf-4c59-8880-7f76e3b6bae0",
   "metadata": {
    "tags": []
   },
   "outputs": [
    {
     "data": {
      "text/plain": [
       "8"
      ]
     },
     "execution_count": 15,
     "metadata": {},
     "output_type": "execute_result"
    }
   ],
   "source": [
    "a.index('t') #문자열 중 t가 맨 처음으로 나온 위치 반환"
   ]
  },
  {
   "cell_type": "code",
   "execution_count": 16,
   "id": "20f4885d-f74f-4dd9-a2b0-23a40cdfb6eb",
   "metadata": {
    "tags": []
   },
   "outputs": [
    {
     "ename": "ValueError",
     "evalue": "substring not found",
     "output_type": "error",
     "traceback": [
      "\u001b[1;31m---------------------------------------------------------------------------\u001b[0m",
      "\u001b[1;31mValueError\u001b[0m                                Traceback (most recent call last)",
      "Cell \u001b[1;32mIn[16], line 1\u001b[0m\n\u001b[1;32m----> 1\u001b[0m \u001b[43ma\u001b[49m\u001b[38;5;241;43m.\u001b[39;49m\u001b[43mindex\u001b[49m\u001b[43m(\u001b[49m\u001b[38;5;124;43m'\u001b[39;49m\u001b[38;5;124;43mk\u001b[39;49m\u001b[38;5;124;43m'\u001b[39;49m\u001b[43m)\u001b[49m \u001b[38;5;66;03m#find 함수와 다른 점 : 문자열 안에 존재하지 않는 문자를 찾으면 오류 반환\u001b[39;00m\n",
      "\u001b[1;31mValueError\u001b[0m: substring not found"
     ]
    }
   ],
   "source": [
    "a.index('k') #find 함수와 다른 점 : 문자열 안에 존재하지 않는 문자를 찾으면 오류 반환"
   ]
  },
  {
   "cell_type": "markdown",
   "id": "dacda99d-fbf4-4ae3-92e2-51154151b305",
   "metadata": {},
   "source": [
    "#### 문자열 삽입(join)"
   ]
  },
  {
   "cell_type": "code",
   "execution_count": 17,
   "id": "468429ac-ffc2-4326-92f0-e88593d894d0",
   "metadata": {
    "tags": []
   },
   "outputs": [
    {
     "data": {
      "text/plain": [
       "'a,b,c,d'"
      ]
     },
     "execution_count": 17,
     "metadata": {},
     "output_type": "execute_result"
    }
   ],
   "source": [
    "\",\".join('abcd')"
   ]
  },
  {
   "cell_type": "code",
   "execution_count": 19,
   "id": "58c80614-184d-4209-bad7-27fb0a4defe9",
   "metadata": {
    "tags": []
   },
   "outputs": [
    {
     "data": {
      "text/plain": [
       "'a,b,c,d'"
      ]
     },
     "execution_count": 19,
     "metadata": {},
     "output_type": "execute_result"
    }
   ],
   "source": [
    "\",\".join(['a','b','c','d'])"
   ]
  },
  {
   "cell_type": "markdown",
   "id": "ff273558-47d0-4ece-ae72-7f566b928205",
   "metadata": {
    "tags": []
   },
   "source": [
    "#### 소문자를 대문자로 바꾸기(upper)"
   ]
  },
  {
   "cell_type": "code",
   "execution_count": 26,
   "id": "abe26801-4143-40b5-95de-365c23345c88",
   "metadata": {
    "tags": []
   },
   "outputs": [],
   "source": [
    "a = \"hi\""
   ]
  },
  {
   "cell_type": "code",
   "execution_count": 29,
   "id": "7abe0d8f-c790-444d-9478-2e1aee95f741",
   "metadata": {
    "tags": []
   },
   "outputs": [
    {
     "data": {
      "text/plain": [
       "'HI'"
      ]
     },
     "execution_count": 29,
     "metadata": {},
     "output_type": "execute_result"
    }
   ],
   "source": [
    "a.upper()"
   ]
  },
  {
   "cell_type": "markdown",
   "id": "3c7af2f9-31bb-4e9c-b196-707f7b07ccc9",
   "metadata": {
    "tags": []
   },
   "source": [
    "#### 대문자를 소문자로 바꾸기(lower)"
   ]
  },
  {
   "cell_type": "code",
   "execution_count": 27,
   "id": "d82397fd-790b-42e4-80d0-2c4fac3a5154",
   "metadata": {
    "tags": []
   },
   "outputs": [],
   "source": [
    "a = \"HI\""
   ]
  },
  {
   "cell_type": "code",
   "execution_count": 28,
   "id": "0bbcfc9f-56a2-4050-8287-dd9b52ef5e20",
   "metadata": {
    "tags": []
   },
   "outputs": [
    {
     "data": {
      "text/plain": [
       "'hi'"
      ]
     },
     "execution_count": 28,
     "metadata": {},
     "output_type": "execute_result"
    }
   ],
   "source": [
    "a.lower()"
   ]
  },
  {
   "cell_type": "markdown",
   "id": "9887209c-998b-4544-b35c-6a686e938051",
   "metadata": {},
   "source": [
    "#### 왼쪽 공백 지우기(lstrip)"
   ]
  },
  {
   "cell_type": "code",
   "execution_count": 32,
   "id": "33c5b3a5-8955-4cc0-9843-32fe21eb4da8",
   "metadata": {
    "tags": []
   },
   "outputs": [],
   "source": [
    "a = \" hi\""
   ]
  },
  {
   "cell_type": "code",
   "execution_count": 33,
   "id": "a9231d68-97b9-4aeb-bf51-1605a2caa066",
   "metadata": {
    "tags": []
   },
   "outputs": [
    {
     "data": {
      "text/plain": [
       "'hi'"
      ]
     },
     "execution_count": 33,
     "metadata": {},
     "output_type": "execute_result"
    }
   ],
   "source": [
    "a.lstrip()"
   ]
  },
  {
   "cell_type": "markdown",
   "id": "97c1aa62-8791-452c-88a1-d71d6fb90b73",
   "metadata": {},
   "source": [
    "#### 오른족 공백 지우기(rstrip)"
   ]
  },
  {
   "cell_type": "code",
   "execution_count": 34,
   "id": "b09f5726-5ef1-4c17-ae33-60425eed0119",
   "metadata": {
    "tags": []
   },
   "outputs": [],
   "source": [
    "a = \"hi \""
   ]
  },
  {
   "cell_type": "code",
   "execution_count": 35,
   "id": "c418f8e9-0b3d-4eab-8c23-81e7d0f42129",
   "metadata": {
    "tags": []
   },
   "outputs": [
    {
     "data": {
      "text/plain": [
       "'hi'"
      ]
     },
     "execution_count": 35,
     "metadata": {},
     "output_type": "execute_result"
    }
   ],
   "source": [
    "a.rstrip()"
   ]
  },
  {
   "cell_type": "markdown",
   "id": "8625391d-cb5b-434c-b87c-c6c2aae50779",
   "metadata": {},
   "source": [
    "#### 양쪽 공백 지우기(strip)"
   ]
  },
  {
   "cell_type": "code",
   "execution_count": 36,
   "id": "fae1ecfa-834e-46e6-8bcc-b872a54fae51",
   "metadata": {
    "tags": []
   },
   "outputs": [],
   "source": [
    "a = \" hi \""
   ]
  },
  {
   "cell_type": "code",
   "execution_count": 37,
   "id": "a205cc56-c10b-4804-8d32-054d1611d401",
   "metadata": {
    "tags": []
   },
   "outputs": [
    {
     "data": {
      "text/plain": [
       "'hi'"
      ]
     },
     "execution_count": 37,
     "metadata": {},
     "output_type": "execute_result"
    }
   ],
   "source": [
    "a.strip()"
   ]
  },
  {
   "cell_type": "markdown",
   "id": "adf0db4d-9a76-49c6-8b2d-a5f13afd9336",
   "metadata": {},
   "source": [
    "#### 문자열 바꾸기(replace)"
   ]
  },
  {
   "cell_type": "code",
   "execution_count": 38,
   "id": "f0eeaecc-23d3-4dbe-8f39-348076484079",
   "metadata": {
    "tags": []
   },
   "outputs": [],
   "source": [
    "a = \"Life is too short\""
   ]
  },
  {
   "cell_type": "code",
   "execution_count": 39,
   "id": "71b55c61-912c-4b54-83a3-547db4015c33",
   "metadata": {
    "tags": []
   },
   "outputs": [
    {
     "data": {
      "text/plain": [
       "'Your leg is too short'"
      ]
     },
     "execution_count": 39,
     "metadata": {},
     "output_type": "execute_result"
    }
   ],
   "source": [
    "a.replace(\"Life\", \"Your leg\")"
   ]
  },
  {
   "cell_type": "markdown",
   "id": "6438d11e-f0b3-44c5-aed8-00d72a9d4978",
   "metadata": {},
   "source": [
    "#### 문자열 나누기(split)"
   ]
  },
  {
   "cell_type": "code",
   "execution_count": 40,
   "id": "8c02e17f-5b5e-4bd3-aa79-e432ede20ee8",
   "metadata": {
    "tags": []
   },
   "outputs": [],
   "source": [
    "a = \"Life is too short\""
   ]
  },
  {
   "cell_type": "code",
   "execution_count": 41,
   "id": "a607ed2a-c0e6-4f75-8aa5-b33bddf3c436",
   "metadata": {
    "tags": []
   },
   "outputs": [
    {
     "data": {
      "text/plain": [
       "['Life', 'is', 'too', 'short']"
      ]
     },
     "execution_count": 41,
     "metadata": {},
     "output_type": "execute_result"
    }
   ],
   "source": [
    "a.split() # 괄호 안에 아무 값도 넣어주지 않으면 공백을 기준으로 문자열 나눔"
   ]
  },
  {
   "cell_type": "code",
   "execution_count": 42,
   "id": "cdd36b59-f833-420e-bf9e-e886e342ae5b",
   "metadata": {
    "tags": []
   },
   "outputs": [],
   "source": [
    "b = \"a:b:c:d\""
   ]
  },
  {
   "cell_type": "code",
   "execution_count": 43,
   "id": "0f42f344-a651-4f4d-8a99-5f459aa562cc",
   "metadata": {
    "tags": []
   },
   "outputs": [
    {
     "data": {
      "text/plain": [
       "['a', 'b', 'c', 'd']"
      ]
     },
     "execution_count": 43,
     "metadata": {},
     "output_type": "execute_result"
    }
   ],
   "source": [
    "b.split(':') # :기호를 기준으로 문자열 나눔"
   ]
  },
  {
   "cell_type": "markdown",
   "id": "9aa4207b-ebb9-48a6-8ae7-537a3dc906d1",
   "metadata": {},
   "source": [
    "# 추가학습"
   ]
  },
  {
   "cell_type": "markdown",
   "id": "0e930d4f-4443-41c0-beb9-86df185ab11b",
   "metadata": {},
   "source": [
    "## 변수 타입 구하기"
   ]
  },
  {
   "cell_type": "code",
   "execution_count": 67,
   "id": "47d2c83a-35e0-4b0e-86f4-adb0fe3febcf",
   "metadata": {
    "tags": []
   },
   "outputs": [
    {
     "data": {
      "text/plain": [
       "int"
      ]
     },
     "execution_count": 67,
     "metadata": {},
     "output_type": "execute_result"
    }
   ],
   "source": [
    "a = 1\n",
    "type(a)"
   ]
  },
  {
   "cell_type": "markdown",
   "id": "744ec8a3-70ce-417e-acfe-388695c9f2f3",
   "metadata": {},
   "source": [
    "## sqrt(제곱근) 함수"
   ]
  },
  {
   "cell_type": "code",
   "execution_count": 71,
   "id": "41ed56d8-b4b6-4d7f-82cd-f1f7f95f4fff",
   "metadata": {
    "tags": []
   },
   "outputs": [],
   "source": [
    "import math"
   ]
  },
  {
   "cell_type": "code",
   "execution_count": 72,
   "id": "7d4faeeb-9761-4007-b0f0-df84cd94ef3c",
   "metadata": {
    "tags": []
   },
   "outputs": [
    {
     "data": {
      "text/plain": [
       "2.0"
      ]
     },
     "execution_count": 72,
     "metadata": {},
     "output_type": "execute_result"
    }
   ],
   "source": [
    "math.sqrt(4)"
   ]
  },
  {
   "cell_type": "code",
   "execution_count": 73,
   "id": "b13585c8-ec01-461c-95eb-0823be52ff55",
   "metadata": {
    "tags": []
   },
   "outputs": [
    {
     "ename": "NameError",
     "evalue": "name 'pi' is not defined",
     "output_type": "error",
     "traceback": [
      "\u001b[1;31m---------------------------------------------------------------------------\u001b[0m",
      "\u001b[1;31mNameError\u001b[0m                                 Traceback (most recent call last)",
      "Cell \u001b[1;32mIn[73], line 1\u001b[0m\n\u001b[1;32m----> 1\u001b[0m \u001b[43mpi\u001b[49m\n",
      "\u001b[1;31mNameError\u001b[0m: name 'pi' is not defined"
     ]
    }
   ],
   "source": [
    "pi"
   ]
  },
  {
   "cell_type": "code",
   "execution_count": 74,
   "id": "9cdedad7-8d6d-4b02-af0f-f9ac14acbd5d",
   "metadata": {
    "tags": []
   },
   "outputs": [
    {
     "data": {
      "text/plain": [
       "3.141592653589793"
      ]
     },
     "execution_count": 74,
     "metadata": {},
     "output_type": "execute_result"
    }
   ],
   "source": [
    "math.pi"
   ]
  },
  {
   "cell_type": "code",
   "execution_count": 78,
   "id": "4db0d865-2b19-4ed8-ba91-ee1661d17aed",
   "metadata": {
    "tags": []
   },
   "outputs": [],
   "source": [
    "import numpy as np"
   ]
  },
  {
   "cell_type": "code",
   "execution_count": 76,
   "id": "46743c77-f130-4e2d-b4ab-cc5856f4ba02",
   "metadata": {
    "tags": []
   },
   "outputs": [
    {
     "name": "stdout",
     "output_type": "stream",
     "text": [
      "Requirement already satisfied: numpy in c:\\users\\user\\appdata\\local\\programs\\python\\python310\\lib\\site-packages (1.24.2)\n",
      "Note: you may need to restart the kernel to use updated packages.\n"
     ]
    }
   ],
   "source": [
    "pip install numpy"
   ]
  },
  {
   "cell_type": "code",
   "execution_count": 80,
   "id": "00b0618e-092e-452f-8ce2-8c4f246291e4",
   "metadata": {
    "tags": []
   },
   "outputs": [
    {
     "data": {
      "text/plain": [
       "2.0"
      ]
     },
     "execution_count": 80,
     "metadata": {},
     "output_type": "execute_result"
    }
   ],
   "source": [
    "np.sqrt(4)"
   ]
  },
  {
   "cell_type": "code",
   "execution_count": 81,
   "id": "78688425-1696-4f85-942e-8cbdc6764c7d",
   "metadata": {
    "tags": []
   },
   "outputs": [
    {
     "data": {
      "text/plain": [
       "3.141592653589793"
      ]
     },
     "execution_count": 81,
     "metadata": {},
     "output_type": "execute_result"
    }
   ],
   "source": [
    "np.pi"
   ]
  },
  {
   "cell_type": "code",
   "execution_count": 82,
   "id": "83751cdb-7246-4a33-944a-5974d5cc05e6",
   "metadata": {
    "tags": []
   },
   "outputs": [
    {
     "data": {
      "text/plain": [
       "1.0"
      ]
     },
     "execution_count": 82,
     "metadata": {},
     "output_type": "execute_result"
    }
   ],
   "source": [
    "np.cos(0)"
   ]
  },
  {
   "cell_type": "code",
   "execution_count": 83,
   "id": "f589aaa0-e1a7-4fb8-9085-8e865d84510c",
   "metadata": {
    "tags": []
   },
   "outputs": [
    {
     "data": {
      "text/plain": [
       "1.0"
      ]
     },
     "execution_count": 83,
     "metadata": {},
     "output_type": "execute_result"
    }
   ],
   "source": [
    "np.cos(2*np.pi)"
   ]
  },
  {
   "cell_type": "code",
   "execution_count": 84,
   "id": "18f6b368-2214-4fa8-be61-00f4b6c0744a",
   "metadata": {
    "tags": []
   },
   "outputs": [
    {
     "data": {
      "text/plain": [
       "3628800"
      ]
     },
     "execution_count": 84,
     "metadata": {},
     "output_type": "execute_result"
    }
   ],
   "source": [
    "math.factorial(10)"
   ]
  },
  {
   "cell_type": "markdown",
   "id": "992b59ad-dcd4-44dd-8eef-e9f679e8ea9b",
   "metadata": {
    "tags": []
   },
   "source": [
    "## linspace"
   ]
  },
  {
   "cell_type": "code",
   "execution_count": 85,
   "id": "5c0f218f-f174-40c8-a576-0a7c8dcff585",
   "metadata": {
    "tags": []
   },
   "outputs": [
    {
     "data": {
      "text/plain": [
       "\u001b[1;31mSignature:\u001b[0m\n",
       "\u001b[0mnp\u001b[0m\u001b[1;33m.\u001b[0m\u001b[0mlinspace\u001b[0m\u001b[1;33m(\u001b[0m\u001b[1;33m\n",
       "\u001b[0m    \u001b[0mstart\u001b[0m\u001b[1;33m,\u001b[0m\u001b[1;33m\n",
       "\u001b[0m    \u001b[0mstop\u001b[0m\u001b[1;33m,\u001b[0m\u001b[1;33m\n",
       "\u001b[0m    \u001b[0mnum\u001b[0m\u001b[1;33m=\u001b[0m\u001b[1;36m50\u001b[0m\u001b[1;33m,\u001b[0m\u001b[1;33m\n",
       "\u001b[0m    \u001b[0mendpoint\u001b[0m\u001b[1;33m=\u001b[0m\u001b[1;32mTrue\u001b[0m\u001b[1;33m,\u001b[0m\u001b[1;33m\n",
       "\u001b[0m    \u001b[0mretstep\u001b[0m\u001b[1;33m=\u001b[0m\u001b[1;32mFalse\u001b[0m\u001b[1;33m,\u001b[0m\u001b[1;33m\n",
       "\u001b[0m    \u001b[0mdtype\u001b[0m\u001b[1;33m=\u001b[0m\u001b[1;32mNone\u001b[0m\u001b[1;33m,\u001b[0m\u001b[1;33m\n",
       "\u001b[0m    \u001b[0maxis\u001b[0m\u001b[1;33m=\u001b[0m\u001b[1;36m0\u001b[0m\u001b[1;33m,\u001b[0m\u001b[1;33m\n",
       "\u001b[0m\u001b[1;33m)\u001b[0m\u001b[1;33m\u001b[0m\u001b[1;33m\u001b[0m\u001b[0m\n",
       "\u001b[1;31mDocstring:\u001b[0m\n",
       "Return evenly spaced numbers over a specified interval.\n",
       "\n",
       "Returns `num` evenly spaced samples, calculated over the\n",
       "interval [`start`, `stop`].\n",
       "\n",
       "The endpoint of the interval can optionally be excluded.\n",
       "\n",
       ".. versionchanged:: 1.16.0\n",
       "    Non-scalar `start` and `stop` are now supported.\n",
       "\n",
       ".. versionchanged:: 1.20.0\n",
       "    Values are rounded towards ``-inf`` instead of ``0`` when an\n",
       "    integer ``dtype`` is specified. The old behavior can\n",
       "    still be obtained with ``np.linspace(start, stop, num).astype(int)``\n",
       "\n",
       "Parameters\n",
       "----------\n",
       "start : array_like\n",
       "    The starting value of the sequence.\n",
       "stop : array_like\n",
       "    The end value of the sequence, unless `endpoint` is set to False.\n",
       "    In that case, the sequence consists of all but the last of ``num + 1``\n",
       "    evenly spaced samples, so that `stop` is excluded.  Note that the step\n",
       "    size changes when `endpoint` is False.\n",
       "num : int, optional\n",
       "    Number of samples to generate. Default is 50. Must be non-negative.\n",
       "endpoint : bool, optional\n",
       "    If True, `stop` is the last sample. Otherwise, it is not included.\n",
       "    Default is True.\n",
       "retstep : bool, optional\n",
       "    If True, return (`samples`, `step`), where `step` is the spacing\n",
       "    between samples.\n",
       "dtype : dtype, optional\n",
       "    The type of the output array.  If `dtype` is not given, the data type\n",
       "    is inferred from `start` and `stop`. The inferred dtype will never be\n",
       "    an integer; `float` is chosen even if the arguments would produce an\n",
       "    array of integers.\n",
       "\n",
       "    .. versionadded:: 1.9.0\n",
       "\n",
       "axis : int, optional\n",
       "    The axis in the result to store the samples.  Relevant only if start\n",
       "    or stop are array-like.  By default (0), the samples will be along a\n",
       "    new axis inserted at the beginning. Use -1 to get an axis at the end.\n",
       "\n",
       "    .. versionadded:: 1.16.0\n",
       "\n",
       "Returns\n",
       "-------\n",
       "samples : ndarray\n",
       "    There are `num` equally spaced samples in the closed interval\n",
       "    ``[start, stop]`` or the half-open interval ``[start, stop)``\n",
       "    (depending on whether `endpoint` is True or False).\n",
       "step : float, optional\n",
       "    Only returned if `retstep` is True\n",
       "\n",
       "    Size of spacing between samples.\n",
       "\n",
       "\n",
       "See Also\n",
       "--------\n",
       "arange : Similar to `linspace`, but uses a step size (instead of the\n",
       "         number of samples).\n",
       "geomspace : Similar to `linspace`, but with numbers spaced evenly on a log\n",
       "            scale (a geometric progression).\n",
       "logspace : Similar to `geomspace`, but with the end points specified as\n",
       "           logarithms.\n",
       ":ref:`how-to-partition`\n",
       "\n",
       "Examples\n",
       "--------\n",
       ">>> np.linspace(2.0, 3.0, num=5)\n",
       "array([2.  , 2.25, 2.5 , 2.75, 3.  ])\n",
       ">>> np.linspace(2.0, 3.0, num=5, endpoint=False)\n",
       "array([2. ,  2.2,  2.4,  2.6,  2.8])\n",
       ">>> np.linspace(2.0, 3.0, num=5, retstep=True)\n",
       "(array([2.  ,  2.25,  2.5 ,  2.75,  3.  ]), 0.25)\n",
       "\n",
       "Graphical illustration:\n",
       "\n",
       ">>> import matplotlib.pyplot as plt\n",
       ">>> N = 8\n",
       ">>> y = np.zeros(N)\n",
       ">>> x1 = np.linspace(0, 10, N, endpoint=True)\n",
       ">>> x2 = np.linspace(0, 10, N, endpoint=False)\n",
       ">>> plt.plot(x1, y, 'o')\n",
       "[<matplotlib.lines.Line2D object at 0x...>]\n",
       ">>> plt.plot(x2, y + 0.5, 'o')\n",
       "[<matplotlib.lines.Line2D object at 0x...>]\n",
       ">>> plt.ylim([-0.5, 1])\n",
       "(-0.5, 1)\n",
       ">>> plt.show()\n",
       "\u001b[1;31mFile:\u001b[0m      c:\\users\\user\\appdata\\local\\programs\\python\\python310\\lib\\site-packages\\numpy\\core\\function_base.py\n",
       "\u001b[1;31mType:\u001b[0m      function"
      ]
     },
     "metadata": {},
     "output_type": "display_data"
    }
   ],
   "source": [
    "np.linspace?"
   ]
  },
  {
   "cell_type": "code",
   "execution_count": 87,
   "id": "17af88ec-ebed-4177-b7ae-bca65b87f653",
   "metadata": {
    "tags": []
   },
   "outputs": [
    {
     "data": {
      "text/plain": [
       "array([ 1.,  2.,  3.,  4.,  5.,  6.,  7.,  8.,  9., 10.])"
      ]
     },
     "execution_count": 87,
     "metadata": {},
     "output_type": "execute_result"
    }
   ],
   "source": [
    "np.linspace(1,10,10) #(배열의 시작값, 배열의 끝값, 몇개의 일정한 간격으로 만들것인가)"
   ]
  },
  {
   "cell_type": "code",
   "execution_count": 88,
   "id": "38ab3881-89a7-4f4a-819f-524851c2821d",
   "metadata": {
    "tags": []
   },
   "outputs": [],
   "source": [
    "import numpy\n",
    "import numpy as np\n",
    "from numpy import sqrt\n",
    "from numpy import *"
   ]
  },
  {
   "cell_type": "markdown",
   "id": "06024efb-6095-4a57-a268-6f7739a5ab58",
   "metadata": {
    "tags": []
   },
   "source": [
    "## 반올림, 버림, 내림"
   ]
  },
  {
   "cell_type": "code",
   "execution_count": 89,
   "id": "a7beb893-9908-4bff-8eeb-3ddb52d482fe",
   "metadata": {
    "tags": []
   },
   "outputs": [
    {
     "data": {
      "text/plain": [
       "3.46"
      ]
     },
     "execution_count": 89,
     "metadata": {},
     "output_type": "execute_result"
    }
   ],
   "source": [
    "round(3.4567,2) #지정한 자릿수로 반올림"
   ]
  },
  {
   "cell_type": "code",
   "execution_count": 90,
   "id": "0811598b-a313-4cdf-85a3-805dd01d71c0",
   "metadata": {
    "tags": []
   },
   "outputs": [
    {
     "data": {
      "text/plain": [
       "3.0"
      ]
     },
     "execution_count": 90,
     "metadata": {},
     "output_type": "execute_result"
    }
   ],
   "source": [
    "np.floor(3.4567) #버림"
   ]
  },
  {
   "cell_type": "code",
   "execution_count": 91,
   "id": "3d5519c4-f380-45c1-a57c-cc79eda05712",
   "metadata": {
    "tags": []
   },
   "outputs": [
    {
     "data": {
      "text/plain": [
       "4.0"
      ]
     },
     "execution_count": 91,
     "metadata": {},
     "output_type": "execute_result"
    }
   ],
   "source": [
    "np.ceil(3.4567) #올림"
   ]
  },
  {
   "cell_type": "markdown",
   "id": "7c166ef7-a0f3-4db8-970f-9eb7bf942462",
   "metadata": {},
   "source": [
    "## input() 함수"
   ]
  },
  {
   "cell_type": "code",
   "execution_count": 93,
   "id": "a6ce2434-f532-4139-b0d6-b9dcc01ad5d3",
   "metadata": {
    "tags": []
   },
   "outputs": [
    {
     "name": "stdin",
     "output_type": "stream",
     "text": [
      " 1\n"
     ]
    },
    {
     "data": {
      "text/plain": [
       "'1'"
      ]
     },
     "execution_count": 93,
     "metadata": {},
     "output_type": "execute_result"
    }
   ],
   "source": [
    "input()"
   ]
  },
  {
   "cell_type": "code",
   "execution_count": 94,
   "id": "46bd737d-a61f-4885-a93d-ee4058df6601",
   "metadata": {
    "tags": []
   },
   "outputs": [
    {
     "name": "stdin",
     "output_type": "stream",
     "text": [
      "숫자를 입력하세요:  3\n"
     ]
    },
    {
     "data": {
      "text/plain": [
       "'3'"
      ]
     },
     "execution_count": 94,
     "metadata": {},
     "output_type": "execute_result"
    }
   ],
   "source": [
    "input(\"숫자를 입력하세요: \")"
   ]
  },
  {
   "cell_type": "code",
   "execution_count": 97,
   "id": "48af5bb7-2ddc-477d-98e9-cf925e1f28a4",
   "metadata": {
    "tags": []
   },
   "outputs": [
    {
     "name": "stdin",
     "output_type": "stream",
     "text": [
      "숫자를 입력하세요:  35\n",
      "나이를 입력하세요:  57\n"
     ]
    }
   ],
   "source": [
    "name = input(\"숫자를 입력하세요: \")\n",
    "age = input(\"나이를 입력하세요: \")"
   ]
  },
  {
   "cell_type": "code",
   "execution_count": 98,
   "id": "db86c08a-aa45-4bc2-b95c-6a9c11f7977a",
   "metadata": {
    "tags": []
   },
   "outputs": [
    {
     "name": "stdin",
     "output_type": "stream",
     "text": [
      "숫자를 입력하세요:  3\n",
      "숫자를 입력하세요:  6\n"
     ]
    },
    {
     "data": {
      "text/plain": [
       "9"
      ]
     },
     "execution_count": 98,
     "metadata": {},
     "output_type": "execute_result"
    }
   ],
   "source": [
    "a = input(\"숫자를 입력하세요: \")\n",
    "b = input(\"숫자를 입력하세요: \")\n",
    "a = int(a)\n",
    "b = int(b)\n",
    "a+b"
   ]
  },
  {
   "cell_type": "code",
   "execution_count": 99,
   "id": "476986bd-7327-48db-adbe-0f7b787ba460",
   "metadata": {
    "tags": []
   },
   "outputs": [
    {
     "name": "stdin",
     "output_type": "stream",
     "text": [
      "숫자를 입력하세요:  30\n",
      "숫자를 입력하세요:  50\n"
     ]
    },
    {
     "data": {
      "text/plain": [
       "80"
      ]
     },
     "execution_count": 99,
     "metadata": {},
     "output_type": "execute_result"
    }
   ],
   "source": [
    "a = int(input(\"숫자를 입력하세요: \"))\n",
    "b = int(input(\"숫자를 입력하세요: \"))\n",
    "a+b"
   ]
  },
  {
   "cell_type": "code",
   "execution_count": 100,
   "id": "765c86f9-85e5-46ca-846c-a6ad0f26b12f",
   "metadata": {
    "tags": []
   },
   "outputs": [
    {
     "name": "stdin",
     "output_type": "stream",
     "text": [
      "숫자를 입력하세요:  6\n"
     ]
    },
    {
     "data": {
      "text/plain": [
       "12"
      ]
     },
     "execution_count": 100,
     "metadata": {},
     "output_type": "execute_result"
    }
   ],
   "source": [
    "#입력받은 숫자를 2배해서 출력\n",
    "a = int(input(\"숫자를 입력하세요: \"))\n",
    "a*2"
   ]
  },
  {
   "cell_type": "code",
   "execution_count": 103,
   "id": "52321b8f-8e8a-46b2-872d-4b9913954a15",
   "metadata": {
    "tags": []
   },
   "outputs": [
    {
     "name": "stdin",
     "output_type": "stream",
     "text": [
      "이름을 입력하세요:  잰\n",
      "나이를 입력하세요:  20\n"
     ]
    },
    {
     "name": "stdout",
     "output_type": "stream",
     "text": [
      "나의 이름은 잰이고 나이는 20살입니다.\n"
     ]
    }
   ],
   "source": [
    "#name, age 변수에 값을 받아서\n",
    "\n",
    "\"나의 이름은 000이고 나이는 00살입니다.\"\n",
    "name = str(input(\"이름을 입력하세요: \"))\n",
    "age = int(input(\"나이를 입력하세요: \"))\n",
    "\n",
    "print(f\"나의 이름은 {name}이고 나이는 {age}살입니다.\")"
   ]
  },
  {
   "cell_type": "code",
   "execution_count": 104,
   "id": "795af04f-1fdd-4a1a-9a21-2ecc5afe78e7",
   "metadata": {
    "tags": []
   },
   "outputs": [
    {
     "name": "stdin",
     "output_type": "stream",
     "text": [
      "어머니의 나이를 입력하세요:  50\n",
      "나의 나이를 입력하세요:  24\n"
     ]
    },
    {
     "name": "stdout",
     "output_type": "stream",
     "text": [
      "어머니의 나이는 50살이고 나의 나이는 24살이고, 합은 74살입니다.\n"
     ]
    }
   ],
   "source": [
    "age1 = int(input(\"어머니의 나이를 입력하세요: \"))\n",
    "age2 = int(input(\"나의 나이를 입력하세요: \"))\n",
    "age_total = age1 + age2\n",
    "print(f\"어머니의 나이는 {age1}살이고 나의 나이는 {age2}살이고, 합은 {age_total}살입니다.\")"
   ]
  },
  {
   "cell_type": "code",
   "execution_count": 105,
   "id": "6773fcf1-11d8-4958-ae74-3b59f809c5ab",
   "metadata": {
    "tags": []
   },
   "outputs": [
    {
     "name": "stdout",
     "output_type": "stream",
     "text": [
      "pi값은 3.1416입니다\n",
      "pi값은     3.1416입니다\n"
     ]
    }
   ],
   "source": [
    "pi = 3.141592\n",
    "\n",
    "print(f\"pi값은 {pi:0.4f}입니다\")\n",
    "print(f\"pi값은 {pi:10.4f}입니다\")"
   ]
  },
  {
   "cell_type": "code",
   "execution_count": null,
   "id": "7ab78848-b66b-4f4b-9f53-eb022b136a85",
   "metadata": {},
   "outputs": [],
   "source": []
  }
 ],
 "metadata": {
  "kernelspec": {
   "display_name": "Python 3 (ipykernel)",
   "language": "python",
   "name": "python3"
  },
  "language_info": {
   "codemirror_mode": {
    "name": "ipython",
    "version": 3
   },
   "file_extension": ".py",
   "mimetype": "text/x-python",
   "name": "python",
   "nbconvert_exporter": "python",
   "pygments_lexer": "ipython3",
   "version": "3.10.9"
  },
  "toc-autonumbering": false
 },
 "nbformat": 4,
 "nbformat_minor": 5
}
